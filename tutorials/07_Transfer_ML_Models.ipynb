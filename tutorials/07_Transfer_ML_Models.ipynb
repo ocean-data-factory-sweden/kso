{
 "cells": [
  {
   "cell_type": "markdown",
   "id": "f2a13cb6",
   "metadata": {},
   "source": [
    "<img align=\"left\" src=\"https://panoptes-uploads.zooniverse.org/project_avatar/86c23ca7-bbaa-4e84-8d8a-876819551431.png\" type=\"image/png\" height=100 width=100>\n",
    "</img>\n",
    "<h1 align=\"right\">KSO Tutorials #7: Transfer Object Detection models to Zenodo</h1>\n",
    "<h3 align=\"right\">Written by KSO Team</h3>"
   ]
  },
  {
   "cell_type": "markdown",
   "id": "fb7086d8",
   "metadata": {},
   "source": [
    "# Set up KSO requirements"
   ]
  },
  {
   "cell_type": "code",
   "execution_count": null,
   "id": "b2399183",
   "metadata": {},
   "outputs": [],
   "source": [
    "# @title <font size=\"5\">↓ ឵឵<i>Install kso-object-detection and its requirements</font> { vertical-output: true }\n",
    "from IPython.display import clear_output\n",
    "\n",
    "try:\n",
    "    import google.colab\n",
    "    import os\n",
    "\n",
    "    IN_COLAB = True\n",
    "    print(\"Running in Colab...\")\n",
    "\n",
    "    # Clone repo\n",
    "    !git clone --recurse-submodules https://github.com/ocean-data-factory-sweden/koster_yolov4.git\n",
    "    !pip install -q --upgrade pip\n",
    "    !pip install -qr koster_yolov4/requirements.txt\n",
    "\n",
    "    # Fix libmagic issue\n",
    "    !apt-get -qq update && apt-get -qq install -y libmagic-dev > /dev/null\n",
    "\n",
    "    # Replace upsampling script with custom version\n",
    "    os.chdir(\"koster_yolov4/tutorials\")\n",
    "    !mv ../src/upsampling.py /usr/local/lib/python3.7/dist-packages/torch/nn/modules/upsampling.py\n",
    "\n",
    "    # Replace nearest neighbours script with custom version (due to relative path issue)\n",
    "    !cp ../src/nn_matching.py ../yolov5_tracker/strong_sort/sort/nn_matching.py\n",
    "    !cp ../src/track.py ../yolov5_tracker/track.py\n",
    "\n",
    "    # Enable external widgets\n",
    "    from google.colab import output\n",
    "\n",
    "    output.enable_custom_widget_manager()\n",
    "\n",
    "    # Ensure widgets are shown properly\n",
    "    !jupyter nbextension enable --user --py widgetsnbextension\n",
    "    !jupyter nbextension enable --user --py jupyter_bbox_widget\n",
    "\n",
    "    print(\"All packages are installed and ready to go!\")\n",
    "    try:\n",
    "        clear_output()\n",
    "        print(\"All packages are installed and ready to go!\")\n",
    "    except:\n",
    "        clear_output()\n",
    "        print(\"There have been some issues installing the packages!\")\n",
    "except:\n",
    "    IN_COLAB = False\n",
    "    import sys\n",
    "    import pkgutil\n",
    "\n",
    "    if pkgutil.find_loader(\"torch\") is not None:\n",
    "        !pip install -q --upgrade pip\n",
    "        !pip install -q torch==1.8.0 torchvision==0.9.0\n",
    "    # Replace nearest neighbours script with custom version (due to relative path issue)\n",
    "    !cp ../src/nn_matching.py ../yolov5_tracker/strong_sort/sort/nn_matching.py\n",
    "    !cp ../src/track.py ../yolov5_tracker/track.py\n",
    "    # Ensure widgets are shown properly\n",
    "    !jupyter nbextension enable --user --py widgetsnbextension\n",
    "    !jupyter nbextension enable --user --py jupyter_bbox_widget\n",
    "    clear_output()\n",
    "    print(\"Running locally... you're good to go!\")\n",
    "\n",
    "\n",
    "#######Import Python packages########\n",
    "\n",
    "# Set the directory of the libraries\n",
    "import sys, os\n",
    "from pathlib import Path\n",
    "\n",
    "# Enables testing changes in utils\n",
    "%load_ext autoreload\n",
    "%autoreload 2\n",
    "\n",
    "# Specify the path of the tutorials\n",
    "sys.path.append(\"..\")\n",
    "\n",
    "# Set to display dataframes as interactive tables\n",
    "from itables import init_notebook_mode\n",
    "\n",
    "init_notebook_mode(all_interactive=True)\n",
    "\n",
    "# Import required modules\n",
    "import kso_utils.tutorials_utils as t_utils\n",
    "import kso_utils.t6_utils as t6\n",
    "import kso_utils.t7_utils as t7\n",
    "import kso_utils.zenodo_utils as zenodo_utils\n",
    "import wandb\n",
    "\n",
    "# Model-specific imports\n",
    "import yolov5.train as train\n",
    "import yolov5.val as val\n",
    "import yolov5.detect as detect\n",
    "\n",
    "clear_output()\n",
    "print(\"Packages loaded successfully\")"
   ]
  },
  {
   "cell_type": "markdown",
   "id": "7497042d",
   "metadata": {},
   "source": [
    "# Find model and add to Zenodo"
   ]
  },
  {
   "cell_type": "code",
   "execution_count": null,
   "id": "6ba89fcd",
   "metadata": {},
   "outputs": [],
   "source": [
    "# @title <font size=\"5\">↓ ឵឵<i>Choose the model</font> { vertical-output: true }\n",
    "model = t6.choose_model(project_name.value)"
   ]
  },
  {
   "cell_type": "code",
   "execution_count": null,
   "id": "62e520ae",
   "metadata": {},
   "outputs": [],
   "source": [
    "# @title <font size=\"5\">↓ ឵឵<i>Choose folder to download the model</font> { vertical-output: true }\n",
    "download_dir = t_utils.choose_folder(\".\", \"downloaded model\")"
   ]
  },
  {
   "cell_type": "code",
   "execution_count": null,
   "id": "520b98a1",
   "metadata": {},
   "outputs": [],
   "source": [
    "# @title <font size=\"5\">↓ ឵឵឵឵<i>Download model</font> { vertical-output: true }\n",
    "artifact_dir = t6.get_model(model.value, project_name.value, download_dir.value)"
   ]
  },
  {
   "cell_type": "markdown",
   "id": "8a5ea0d3",
   "metadata": {},
   "source": [
    "# ZENODO Upload"
   ]
  },
  {
   "cell_type": "code",
   "execution_count": null,
   "id": "88bd751b",
   "metadata": {},
   "outputs": [],
   "source": [
    "# @title <font size=\"5\">↓ ឵឵឵឵<i>Provide access token to your account</font> { vertical-output: true }\n",
    "# It is found in API settings by going to your Zenodo profile and clicking on Applications.\n",
    "ACCESS_TOKEN = \"\""
   ]
  },
  {
   "cell_type": "code",
   "execution_count": null,
   "id": "0ca17076",
   "metadata": {},
   "outputs": [],
   "source": [
    "# @title <font size=\"5\">↓ ឵឵឵឵<i>Get bucket url for uploading files</font> { vertical-output: true }\n",
    "depo_id, bucket_url = zenodo_utils.get_zenodo_id_bucket(ACCESS_TOKEN)"
   ]
  },
  {
   "cell_type": "code",
   "execution_count": null,
   "id": "bfd6a27e",
   "metadata": {},
   "outputs": [],
   "source": [
    "# @title <font size=\"5\">↓ ឵឵឵឵<i>Find archive for upload to Zenodo</font> { vertical-output: true }\n",
    "archive_dir = t_utils.choose_folder(\".\", \"archive for upload\")"
   ]
  },
  {
   "cell_type": "code",
   "execution_count": null,
   "id": "76535d3a",
   "metadata": {},
   "outputs": [],
   "source": [
    "# @title <font size=\"5\">↓ ឵឵឵឵<i>Add archive to upload</font> { vertical-output: true }\n",
    "zenodo_utils.add_file_to_zenodo_upload(\n",
    "    ACCESS_TOKEN,\n",
    "    bucket_url,\n",
    "    [f for f in Path(artifact_dir).iterdir() if f.is_file() and \".pt\" in str(f)][-1],\n",
    ")"
   ]
  },
  {
   "cell_type": "code",
   "execution_count": null,
   "id": "ea732834",
   "metadata": {},
   "outputs": [],
   "source": [
    "# @title <font size=\"5\">↓ ឵឵឵឵<i>Indicate database title</font> { vertical-output: true }\n",
    "upload_title = t7.choose_text(\"title\")"
   ]
  },
  {
   "cell_type": "code",
   "execution_count": null,
   "id": "12dbb85b",
   "metadata": {},
   "outputs": [],
   "source": [
    "# @title <font size=\"5\">↓ ឵឵឵឵<i>Write database description</font> { vertical-output: true }\n",
    "upload_description = t7.choose_text(\"description\")"
   ]
  },
  {
   "cell_type": "code",
   "execution_count": null,
   "id": "8a5a854f",
   "metadata": {},
   "outputs": [],
   "source": [
    "# @title <font size=\"5\">↓ ឵឵឵឵<i>Indicate database authors together with  their organisations</font> { vertical-output: true }\n",
    "authors = t7.WidgetMaker()\n",
    "authors"
   ]
  },
  {
   "cell_type": "code",
   "execution_count": null,
   "id": "4f8ee4c1",
   "metadata": {},
   "outputs": [],
   "source": [
    "authors.author_dict"
   ]
  },
  {
   "cell_type": "code",
   "execution_count": null,
   "id": "072ea5bc",
   "metadata": {},
   "outputs": [],
   "source": [
    "# @title <font size=\"5\">↓ ឵឵឵឵<i>Add dataset metadata to upload</font> { vertical-output: true }\n",
    "zenodo_utils.add_metadata_zenodo_upload(\n",
    "    ACCESS_TOKEN,\n",
    "    depo_id,\n",
    "    upload_title.value,\n",
    "    upload_description.value,\n",
    "    authors.author_dict,\n",
    ")"
   ]
  },
  {
   "cell_type": "code",
   "execution_count": null,
   "id": "31372a1a",
   "metadata": {},
   "outputs": [],
   "source": [
    "# END"
   ]
  }
 ],
 "metadata": {
  "colab": {
   "authorship_tag": "ABX9TyOpvN5FDAqS18FP36kGBtHm",
   "collapsed_sections": [],
   "name": "Train_YOLO_models.ipynb",
   "provenance": []
  },
  "kernelspec": {
   "display_name": "Python 3 (ipykernel)",
   "language": "python",
   "name": "python3"
  },
  "language_info": {
   "codemirror_mode": {
    "name": "ipython",
    "version": 3
   },
   "file_extension": ".py",
   "mimetype": "text/x-python",
   "name": "python",
   "nbconvert_exporter": "python",
   "pygments_lexer": "ipython3",
   "version": "3.10.6"
  },
  "vscode": {
   "interpreter": {
    "hash": "9f0064b85a3bc365415745ead9abb78ac240c43fe3a2a9861333bea64f4ce941"
   }
  }
 },
 "nbformat": 4,
 "nbformat_minor": 5
}
