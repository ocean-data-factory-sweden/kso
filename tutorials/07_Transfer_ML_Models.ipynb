{
 "cells": [
  {
   "cell_type": "markdown",
   "id": "f2a13cb6",
   "metadata": {
    "id": "f2a13cb6"
   },
   "source": [
    "<img align=\"left\" src=\"https://panoptes-uploads.zooniverse.org/project_avatar/86c23ca7-bbaa-4e84-8d8a-876819551431.png\" type=\"image/png\" height=100 width=100>\n",
    "</img>\n",
    "<h1 align=\"right\">KSO Tutorials #7: Transfer Object Detection models to Zenodo</h1>\n",
    "<h3 align=\"right\"><a href=\"https://colab.research.google.com/github/ocean-data-factory-sweden/kso/blob/master/tutorials/07_Transfer_ML_Models.ipynb\" target=\"_parent\"><img src=\"https://colab.research.google.com/assets/colab-badge.svg\" alt=\"Open In Colab\"/></a></h3>\n",
    "<h3 align=\"right\">Written by KSO Team</h3>"
   ]
  },
  {
   "cell_type": "markdown",
   "id": "fb7086d8",
   "metadata": {
    "id": "fb7086d8"
   },
   "source": [
    "# Set up KSO requirements"
   ]
  },
  {
   "cell_type": "markdown",
   "id": "fe4b192f",
   "metadata": {
    "id": "fe4b192f"
   },
   "source": [
    "### Install all the requirements"
   ]
  },
  {
   "cell_type": "markdown",
   "id": "65d37d27",
   "metadata": {
    "id": "65d37d27"
   },
   "source": [
    "If you are running this notebook in Google Colab, this cell should take ~2 mins and might restart the session. Please run this cell until you get the \"Successful installation!\" message."
   ]
  },
  {
   "cell_type": "code",
   "execution_count": null,
   "id": "b2399183",
   "metadata": {
    "id": "b2399183"
   },
   "outputs": [],
   "source": [
    "import sys\n",
    "import os\n",
    "\n",
    "# Check if notebook is running in colab\n",
    "IN_COLAB = \"google.colab\" in sys.modules\n",
    "\n",
    "if IN_COLAB:\n",
    "    # Clone kso repo and install requirements\n",
    "    if not os.path.exists(\"kso\"):\n",
    "        print(\"Installing all dependencies...\")\n",
    "        !git clone https://github.com/ocean-data-factory-sweden/kso.git\n",
    "        !pip install -r /content/kso/requirements_colab.txt\n",
    "\n",
    "    # Enable external widgets and navigate to the kso tutorial folder\n",
    "    try:\n",
    "        from google.colab import output\n",
    "\n",
    "        output.enable_custom_widget_manager()\n",
    "        os.chdir(\"kso/tutorials\")\n",
    "    except ImportError:\n",
    "        pass\n",
    "\n",
    "# Prepare the dev settings if needed\n",
    "try:\n",
    "    if \"kso_utils\" not in sys.modules:\n",
    "        sys.path.insert(0, os.path.abspath(os.path.join(os.getcwd(), \"..\")))\n",
    "        import kso_utils\n",
    "\n",
    "        print(\"Using development version...\")\n",
    "        # Enables testing changes in utils\n",
    "        %load_ext autoreload\n",
    "        %autoreload 2\n",
    "except ImportError:\n",
    "    print(\"Installing latest version from PyPI...\")\n",
    "    %pip install -q kso-utils\n",
    "\n",
    "# Avoid issues with widgets not displaying properly\n",
    "!jupyter nbextension enable --user --py widgetsnbextension\n",
    "!jupyter nbextension enable --user --py jupyter_bbox_widget\n",
    "!jupyter nbextension enable --user --py ipysheet\n",
    "\n",
    "# Load the clear output function to keep things clean\n",
    "from IPython.display import clear_output\n",
    "\n",
    "clear_output()\n",
    "print(\"Successful installation... you're good to go!\")"
   ]
  },
  {
   "cell_type": "code",
   "execution_count": null,
   "id": "a4ec6326",
   "metadata": {
    "id": "a4ec6326"
   },
   "outputs": [],
   "source": [
    "# Replace nearest neighbours script with custom version (due to relative path issue)\n",
    "import shutil\n",
    "\n",
    "shutil.copy(\n",
    "    \"../src/multi_tracker_zoo.py\",\n",
    "    \"../yolov5_tracker/trackers/strong_sort/multi_tracker_zoo.py\",\n",
    ")"
   ]
  },
  {
   "cell_type": "markdown",
   "id": "d518cf56",
   "metadata": {
    "id": "d518cf56"
   },
   "source": [
    "### Import Python packages"
   ]
  },
  {
   "cell_type": "code",
   "execution_count": null,
   "id": "9145e6e6",
   "metadata": {
    "id": "9145e6e6"
   },
   "outputs": [],
   "source": [
    "# Import required modules for tut#7\n",
    "import kso_utils.widgets as kso_widgets\n",
    "import kso_utils.project_utils as p_utils\n",
    "import kso_utils.tutorials_utils as t_utils\n",
    "import kso_utils.zenodo_utils as zenodo_utils\n",
    "from kso_utils.project import ProjectProcessor, MLProjectProcessor\n",
    "\n",
    "print(\"Packages loaded successfully\")"
   ]
  },
  {
   "cell_type": "markdown",
   "id": "b659c287",
   "metadata": {
    "id": "b659c287"
   },
   "source": [
    "### Choose your project"
   ]
  },
  {
   "cell_type": "code",
   "execution_count": null,
   "id": "8e90806b",
   "metadata": {
    "id": "8e90806b"
   },
   "outputs": [],
   "source": [
    "project_name = kso_widgets.choose_project()"
   ]
  },
  {
   "cell_type": "markdown",
   "id": "dde15df3",
   "metadata": {
    "id": "dde15df3"
   },
   "source": [
    "### Initiate project's database"
   ]
  },
  {
   "cell_type": "code",
   "execution_count": null,
   "id": "f710927f",
   "metadata": {
    "id": "f710927f"
   },
   "outputs": [],
   "source": [
    "# Find project\n",
    "project = p_utils.find_project(project_name=project_name.value)\n",
    "# Initialise pp\n",
    "pp = ProjectProcessor(project)"
   ]
  },
  {
   "cell_type": "code",
   "execution_count": null,
   "id": "5cef1d5e",
   "metadata": {
    "id": "5cef1d5e"
   },
   "outputs": [],
   "source": [
    "# Initialise mlp\n",
    "mlp = MLProjectProcessor(pp)"
   ]
  },
  {
   "cell_type": "markdown",
   "id": "7497042d",
   "metadata": {
    "id": "7497042d"
   },
   "source": [
    "# Find model and add to Zenodo"
   ]
  },
  {
   "cell_type": "markdown",
   "id": "dba5bf33",
   "metadata": {
    "id": "dba5bf33"
   },
   "source": [
    "### Choose the model"
   ]
  },
  {
   "cell_type": "code",
   "execution_count": null,
   "id": "6ba89fcd",
   "metadata": {
    "id": "6ba89fcd"
   },
   "outputs": [],
   "source": [
    "model = mlp.choose_model()"
   ]
  },
  {
   "cell_type": "markdown",
   "id": "d2c05c2b",
   "metadata": {
    "id": "d2c05c2b"
   },
   "source": [
    "### Choose folder to download the model"
   ]
  },
  {
   "cell_type": "code",
   "execution_count": null,
   "id": "e2b42363",
   "metadata": {
    "id": "e2b42363"
   },
   "outputs": [],
   "source": [
    "download_dir = kso_widgets.choose_folder(\".\", \"downloaded model\")"
   ]
  },
  {
   "cell_type": "markdown",
   "id": "9655516a",
   "metadata": {
    "id": "9655516a"
   },
   "source": [
    "### Download model"
   ]
  },
  {
   "cell_type": "code",
   "execution_count": null,
   "id": "1e268b00",
   "metadata": {
    "id": "1e268b00"
   },
   "outputs": [],
   "source": [
    "artifact_dir = mlp.get_model(model.value, download_dir.selected)"
   ]
  },
  {
   "cell_type": "markdown",
   "id": "8a5ea0d3",
   "metadata": {
    "id": "8a5ea0d3"
   },
   "source": [
    "# ZENODO Upload"
   ]
  },
  {
   "cell_type": "markdown",
   "id": "d143cf17",
   "metadata": {
    "id": "d143cf17"
   },
   "source": [
    "### Provide access token to your account"
   ]
  },
  {
   "cell_type": "code",
   "execution_count": null,
   "id": "88bd751b",
   "metadata": {
    "id": "88bd751b"
   },
   "outputs": [],
   "source": [
    "# It is found in API settings by going to your Zenodo profile and clicking on Applications.\n",
    "ACCESS_TOKEN = \"\""
   ]
  },
  {
   "cell_type": "markdown",
   "id": "c89f49a6",
   "metadata": {
    "id": "c89f49a6"
   },
   "source": [
    "### Find archive for upload to Zenodo"
   ]
  },
  {
   "cell_type": "code",
   "execution_count": null,
   "id": "bfd6a27e",
   "metadata": {
    "id": "bfd6a27e"
   },
   "outputs": [],
   "source": [
    "archive_dir = kso_widgets.choose_folder(\".\", \"archive for upload\")"
   ]
  },
  {
   "cell_type": "markdown",
   "id": "0dd7c527",
   "metadata": {
    "id": "0dd7c527"
   },
   "source": [
    "### Add archive to upload"
   ]
  },
  {
   "cell_type": "code",
   "execution_count": null,
   "id": "76535d3a",
   "metadata": {
    "id": "76535d3a"
   },
   "outputs": [],
   "source": [
    "depo_id = zenodo_utils.upload_archive(ACCESS_TOKEN, artifact_dir=artifact_dir)"
   ]
  },
  {
   "cell_type": "markdown",
   "id": "1b034361",
   "metadata": {
    "id": "1b034361"
   },
   "source": [
    "### Indicate database title"
   ]
  },
  {
   "cell_type": "code",
   "execution_count": null,
   "id": "ea732834",
   "metadata": {
    "id": "ea732834"
   },
   "outputs": [],
   "source": [
    "upload_title = t_utils.choose_text(\"title\")"
   ]
  },
  {
   "cell_type": "markdown",
   "id": "69e7fd98",
   "metadata": {
    "id": "69e7fd98"
   },
   "source": [
    "### Write database description"
   ]
  },
  {
   "cell_type": "code",
   "execution_count": null,
   "id": "12dbb85b",
   "metadata": {
    "id": "12dbb85b"
   },
   "outputs": [],
   "source": [
    "upload_description = t_utils.choose_text(\"description\")"
   ]
  },
  {
   "cell_type": "markdown",
   "id": "eafdf3e9",
   "metadata": {
    "id": "eafdf3e9"
   },
   "source": [
    "### Indicate database authors together with  their organisations"
   ]
  },
  {
   "cell_type": "code",
   "execution_count": null,
   "id": "8a5a854f",
   "metadata": {
    "id": "8a5a854f"
   },
   "outputs": [],
   "source": [
    "authors = t_utils.WidgetMaker()\n",
    "authors"
   ]
  },
  {
   "cell_type": "code",
   "execution_count": null,
   "id": "4f8ee4c1",
   "metadata": {
    "id": "4f8ee4c1"
   },
   "outputs": [],
   "source": [
    "authors.author_dict"
   ]
  },
  {
   "cell_type": "code",
   "execution_count": null,
   "id": "072ea5bc",
   "metadata": {
    "id": "072ea5bc"
   },
   "outputs": [],
   "source": [
    "# @title <font size=\"5\">↓ ឵឵឵឵<i>Add dataset metadata to upload</font> { vertical-output: true }\n",
    "zenodo_utils.add_metadata_zenodo_upload(\n",
    "    ACCESS_TOKEN,\n",
    "    depo_id,\n",
    "    upload_title.value,\n",
    "    upload_description.value,\n",
    "    authors.author_dict,\n",
    ")"
   ]
  },
  {
   "cell_type": "code",
   "execution_count": null,
   "id": "31372a1a",
   "metadata": {
    "id": "31372a1a"
   },
   "outputs": [],
   "source": [
    "# END"
   ]
  }
 ],
 "metadata": {
  "colab": {
   "name": "Train_YOLO_models.ipynb",
   "provenance": []
  },
  "kernelspec": {
   "display_name": "Python 3 (ipykernel)",
   "language": "python",
   "name": "python3"
  },
  "language_info": {
   "codemirror_mode": {
    "name": "ipython",
    "version": 3
   },
   "file_extension": ".py",
   "mimetype": "text/x-python",
   "name": "python",
   "nbconvert_exporter": "python",
   "pygments_lexer": "ipython3",
   "version": "3.8.16"
  }
 },
 "nbformat": 4,
 "nbformat_minor": 5
}
