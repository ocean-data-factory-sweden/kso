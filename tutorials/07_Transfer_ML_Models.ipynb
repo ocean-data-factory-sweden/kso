{
 "cells": [
  {
   "cell_type": "markdown",
   "id": "f2a13cb6",
   "metadata": {},
   "source": [
    "<img align=\"left\" src=\"https://panoptes-uploads.zooniverse.org/project_avatar/86c23ca7-bbaa-4e84-8d8a-876819551431.png\" type=\"image/png\" height=100 width=100>\n",
    "</img>\n",
    "<h1 align=\"right\">KSO Tutorials #7: Transfer Object Detection models to Zenodo</h1>\n",
    "<h3 align=\"right\">Written by KSO Team</h3>"
   ]
  },
  {
   "cell_type": "markdown",
   "id": "fb7086d8",
   "metadata": {},
   "source": [
    "# Set up KSO requirements"
   ]
  },
  {
   "cell_type": "markdown",
   "id": "fe4b192f",
   "metadata": {},
   "source": [
    "### Install all the requirements"
   ]
  },
  {
   "cell_type": "markdown",
   "id": "65d37d27",
   "metadata": {},
   "source": [
    "If you are running this notebook in Google Colab, this cell should take ~2 mins and might restart the session. Please run this cell until you get the \"Successful installation!\" message."
   ]
  },
  {
   "cell_type": "code",
   "execution_count": null,
   "id": "b2399183",
   "metadata": {},
   "outputs": [],
   "source": [
    "# Check if notebook is running in colab\n",
    "import sys, os\n",
    "\n",
    "IN_COLAB = \"google.colab\" in sys.modules\n",
    "\n",
    "if IN_COLAB:\n",
    "    # Clone kso repo and install requirements\n",
    "    if not os.path.exists(\"kso\"):\n",
    "        print(\"Installing all dependencies...\")\n",
    "        !git clone --recurse-submodules -b master https://github.com/ocean-data-factory-sweden/kso.git\n",
    "        %pip install -qr <(sed '/Pillow/d;/ipywidgets/d' kso/yolov5_tracker/requirements.txt) -qr <(sed '/Pillow/d;/ipywidgets/d' kso/yolov5_tracker/yolov5/requirements.txt) -qr <(sed '/Pillow/d;/ipywidgets/d' kso/requirements.txt)\n",
    "\n",
    "    # Restart colab session if conflicting libraries can't be imported\n",
    "    try:\n",
    "        import panoptes_client\n",
    "    except:\n",
    "        os.kill(os.getpid(), 9)\n",
    "\n",
    "    # Enable external widgets and navigate to the kso tutorial folder\n",
    "    try:\n",
    "        from google.colab import output\n",
    "\n",
    "        output.enable_custom_widget_manager()\n",
    "        os.chdir(\"kso/tutorials\")\n",
    "    except:\n",
    "        pass\n",
    "\n",
    "# Prepare the dev settings if needed\n",
    "try:\n",
    "    if \"kso_utils\" not in sys.modules:\n",
    "        sys.path.insert(0, os.path.abspath(os.path.join(os.getcwd(), \"..\")))\n",
    "        import kso_utils\n",
    "\n",
    "        print(\"Using development version...\")\n",
    "        # Enables testing changes in utils\n",
    "        %load_ext autoreload\n",
    "        %autoreload 2\n",
    "except:\n",
    "    print(\"Installing latest version from PyPI...\")\n",
    "    %pip install -q kso-utils\n",
    "\n",
    "# Avoid issues with widgets not displaying properly\n",
    "!jupyter nbextension enable --user --py widgetsnbextension\n",
    "!jupyter nbextension enable --user --py jupyter_bbox_widget\n",
    "!jupyter nbextension enable --user --py ipysheet\n",
    "\n",
    "\n",
    "# Load the clear output function to keep things clean\n",
    "from IPython.display import clear_output\n",
    "\n",
    "clear_output()\n",
    "print(\"Successful installation... you're good to go!\")"
   ]
  },
  {
   "cell_type": "code",
   "execution_count": null,
   "id": "a4ec6326",
   "metadata": {},
   "outputs": [],
   "source": [
    "# Replace nearest neighbours script with custom version (due to relative path issue)\n",
    "import shutil\n",
    "\n",
    "shutil.copy(\n",
    "    \"../src/multi_tracker_zoo.py\",\n",
    "    \"../yolov5_tracker/trackers/strong_sort/multi_tracker_zoo.py\",\n",
    ")"
   ]
  },
  {
   "cell_type": "markdown",
   "id": "d518cf56",
   "metadata": {},
   "source": [
    "### Import Python packages"
   ]
  },
  {
   "cell_type": "code",
   "execution_count": null,
   "id": "9145e6e6",
   "metadata": {},
   "outputs": [],
   "source": [
    "# Import required modules for tut#7\n",
    "import kso_utils.widgets as kso_widgets\n",
    "import kso_utils.project_utils as p_utils\n",
    "import kso_utils.tutorials_utils as t_utils\n",
    "import kso_utils.zenodo_utils as zenodo_utils\n",
    "from kso_utils.project import ProjectProcessor, MLProjectProcessor\n",
    "\n",
    "print(\"Packages loaded successfully\")"
   ]
  },
  {
   "cell_type": "markdown",
   "id": "b659c287",
   "metadata": {},
   "source": [
    "### Choose your project"
   ]
  },
  {
   "cell_type": "code",
   "execution_count": null,
   "id": "8e90806b",
   "metadata": {},
   "outputs": [],
   "source": [
    "project_name = kso_widgets.choose_project()"
   ]
  },
  {
   "cell_type": "markdown",
   "id": "dde15df3",
   "metadata": {},
   "source": [
    "### Initiate project's database"
   ]
  },
  {
   "cell_type": "code",
   "execution_count": null,
   "id": "f710927f",
   "metadata": {},
   "outputs": [],
   "source": [
    "# Find project\n",
    "project = p_utils.find_project(project_name=project_name.value)\n",
    "# Initialise pp\n",
    "pp = ProjectProcessor(project)"
   ]
  },
  {
   "cell_type": "code",
   "execution_count": null,
   "id": "5cef1d5e",
   "metadata": {},
   "outputs": [],
   "source": [
    "# Initialise mlp\n",
    "mlp = MLProjectProcessor(pp)"
   ]
  },
  {
   "cell_type": "markdown",
   "id": "7497042d",
   "metadata": {},
   "source": [
    "# Find model and add to Zenodo"
   ]
  },
  {
   "cell_type": "markdown",
   "id": "dba5bf33",
   "metadata": {},
   "source": [
    "### Choose the model"
   ]
  },
  {
   "cell_type": "code",
   "execution_count": null,
   "id": "6ba89fcd",
   "metadata": {},
   "outputs": [],
   "source": [
    "model = mlp.choose_model()"
   ]
  },
  {
   "cell_type": "markdown",
   "id": "d2c05c2b",
   "metadata": {},
   "source": [
    "### Choose folder to download the model"
   ]
  },
  {
   "cell_type": "code",
   "execution_count": null,
   "id": "e2b42363",
   "metadata": {},
   "outputs": [],
   "source": [
    "download_dir = kso_widgets.choose_folder(\".\", \"downloaded model\")"
   ]
  },
  {
   "cell_type": "markdown",
   "id": "9655516a",
   "metadata": {},
   "source": [
    "### Download model"
   ]
  },
  {
   "cell_type": "code",
   "execution_count": null,
   "id": "1e268b00",
   "metadata": {},
   "outputs": [],
   "source": [
    "artifact_dir = mlp.get_model(model.value, download_dir.selected)"
   ]
  },
  {
   "cell_type": "markdown",
   "id": "8a5ea0d3",
   "metadata": {},
   "source": [
    "# ZENODO Upload"
   ]
  },
  {
   "cell_type": "markdown",
   "id": "d143cf17",
   "metadata": {},
   "source": [
    "### Provide access token to your account"
   ]
  },
  {
   "cell_type": "code",
   "execution_count": null,
   "id": "88bd751b",
   "metadata": {},
   "outputs": [],
   "source": [
    "# It is found in API settings by going to your Zenodo profile and clicking on Applications.\n",
    "ACCESS_TOKEN = \"\""
   ]
  },
  {
   "cell_type": "markdown",
   "id": "c89f49a6",
   "metadata": {},
   "source": [
    "### Find archive for upload to Zenodo"
   ]
  },
  {
   "cell_type": "code",
   "execution_count": null,
   "id": "bfd6a27e",
   "metadata": {},
   "outputs": [],
   "source": [
    "archive_dir = kso_widgets.choose_folder(\".\", \"archive for upload\")"
   ]
  },
  {
   "cell_type": "markdown",
   "id": "0dd7c527",
   "metadata": {},
   "source": [
    "### Add archive to upload"
   ]
  },
  {
   "cell_type": "code",
   "execution_count": null,
   "id": "76535d3a",
   "metadata": {},
   "outputs": [],
   "source": [
    "depo_id = zenodo_utils.upload_archive(ACCESS_TOKEN, artifact_dir=artifact_dir)"
   ]
  },
  {
   "cell_type": "markdown",
   "id": "1b034361",
   "metadata": {},
   "source": [
    "### Indicate database title"
   ]
  },
  {
   "cell_type": "code",
   "execution_count": null,
   "id": "ea732834",
   "metadata": {},
   "outputs": [],
   "source": [
    "upload_title = t_utils.choose_text(\"title\")"
   ]
  },
  {
   "cell_type": "markdown",
   "id": "69e7fd98",
   "metadata": {},
   "source": [
    "### Write database description"
   ]
  },
  {
   "cell_type": "code",
   "execution_count": null,
   "id": "12dbb85b",
   "metadata": {},
   "outputs": [],
   "source": [
    "upload_description = t_utils.choose_text(\"description\")"
   ]
  },
  {
   "cell_type": "markdown",
   "id": "eafdf3e9",
   "metadata": {},
   "source": [
    "### Indicate database authors together with  their organisations"
   ]
  },
  {
   "cell_type": "code",
   "execution_count": null,
   "id": "8a5a854f",
   "metadata": {},
   "outputs": [],
   "source": [
    "authors = t_utils.WidgetMaker()\n",
    "authors"
   ]
  },
  {
   "cell_type": "code",
   "execution_count": null,
   "id": "4f8ee4c1",
   "metadata": {},
   "outputs": [],
   "source": [
    "authors.author_dict"
   ]
  },
  {
   "cell_type": "code",
   "execution_count": null,
   "id": "072ea5bc",
   "metadata": {},
   "outputs": [],
   "source": [
    "# @title <font size=\"5\">↓ ឵឵឵឵<i>Add dataset metadata to upload</font> { vertical-output: true }\n",
    "zenodo_utils.add_metadata_zenodo_upload(\n",
    "    ACCESS_TOKEN,\n",
    "    depo_id,\n",
    "    upload_title.value,\n",
    "    upload_description.value,\n",
    "    authors.author_dict,\n",
    ")"
   ]
  },
  {
   "cell_type": "code",
   "execution_count": null,
   "id": "31372a1a",
   "metadata": {},
   "outputs": [],
   "source": [
    "# END"
   ]
  }
 ],
 "metadata": {
  "colab": {
   "authorship_tag": "ABX9TyOpvN5FDAqS18FP36kGBtHm",
   "collapsed_sections": [],
   "name": "Train_YOLO_models.ipynb",
   "provenance": []
  },
  "kernelspec": {
   "display_name": "Python 3 (ipykernel)",
   "language": "python",
   "name": "python3"
  },
  "language_info": {
   "codemirror_mode": {
    "name": "ipython",
    "version": 3
   },
   "file_extension": ".py",
   "mimetype": "text/x-python",
   "name": "python",
   "nbconvert_exporter": "python",
   "pygments_lexer": "ipython3",
   "version": "3.9.13"
  }
 },
 "nbformat": 4,
 "nbformat_minor": 5
}
