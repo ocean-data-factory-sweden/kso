{
 "cells": [
  {
   "cell_type": "markdown",
   "id": "f6cb2a73",
   "metadata": {
    "colab_type": "text",
    "id": "view-in-github"
   },
   "source": [
    "<a href=\"https://colab.research.google.com/github/wildlifeai/koster_data_management/blob/main/tutorials/COLAB_9_Download_processed_Zooniverse_classifications.ipynb\" target=\"_parent\"><img src=\"https://colab.research.google.com/assets/colab-badge.svg\" alt=\"Open In Colab\"/></a>"
   ]
  },
  {
   "cell_type": "markdown",
   "id": "a49ece9a",
   "metadata": {
    "id": "a49ece9a"
   },
   "source": [
    "<img align=\"left\" src=\"https://panoptes-uploads.zooniverse.org/project_avatar/86c23ca7-bbaa-4e84-8d8a-876819551431.png\" type=\"image/png\" height=100 width=100>\n",
    "</img>\n",
    "\n",
    "\n",
    "<h1 align=\"right\">KSO Tutorial #9: Download processed Zooniverse classifications</h1>\n",
    "<h3 align=\"right\">Written by KSO Team</h3>"
   ]
  },
  {
   "cell_type": "markdown",
   "id": "dafbcdb0",
   "metadata": {
    "id": "dafbcdb0"
   },
   "source": [
    "# Set up and requirements"
   ]
  },
  {
   "cell_type": "markdown",
   "id": "Jo6KchvJZYKM",
   "metadata": {
    "id": "Jo6KchvJZYKM"
   },
   "source": [
    "### Install and import Python packages"
   ]
  },
  {
   "cell_type": "code",
   "execution_count": null,
   "id": "aIyI-71IZPpx",
   "metadata": {
    "id": "aIyI-71IZPpx"
   },
   "outputs": [],
   "source": [
    "from IPython.display import clear_output\n",
    "import os\n",
    "import sys\n",
    "\n",
    "try:\n",
    "    # Enable external widgets\n",
    "    from google.colab import output\n",
    "\n",
    "    output.enable_custom_widget_manager()\n",
    "\n",
    "    IN_COLAB = True\n",
    "    print(\"Running in Colab...\")\n",
    "\n",
    "    # Clone repo\n",
    "    !git clone --recurse-submodules -b master https://github.com/ocean-data-factory-sweden/kso.git\n",
    "    %pip install -qr <(sed '/Pillow/d;/ipywidgets/d' kso/yolov5_tracker/requirements.txt) -qr <(sed '/Pillow/d;/ipywidgets/d' kso/yolov5_tracker/yolov5/requirements.txt) -qr <(sed '/Pillow/d;/ipywidgets/d' kso/kso_utils/requirements.txt)\n",
    "\n",
    "    # Fix libmagic issue\n",
    "    !apt-get -qq update && apt-get -qq install -y libmagic-dev > /dev/null\n",
    "\n",
    "    # Navigate to the correct folder\n",
    "    os.chdir(\"kso/tutorials\")\n",
    "\n",
    "except:\n",
    "    IN_COLAB = False\n",
    "\n",
    "\n",
    "# Ensure widgets are shown properly\n",
    "!jupyter nbextension enable --user --py widgetsnbextension\n",
    "!jupyter nbextension enable --user --py jupyter_bbox_widget\n",
    "!jupyter nbextension enable --user --py ipysheet\n",
    "\n",
    "clear_output()\n",
    "if IN_COLAB == True:\n",
    "    print(\"Running in Colab: All packages are installed and ready to go!\")\n",
    "else:\n",
    "    print(\"Running locally... you're good to go!\")"
   ]
  },
  {
   "cell_type": "code",
   "execution_count": null,
   "id": "gIAv5CWe89Wb",
   "metadata": {
    "id": "gIAv5CWe89Wb"
   },
   "outputs": [],
   "source": [
    "# Set the directory of the libraries\n",
    "import sys, os\n",
    "from pathlib import Path\n",
    "from datetime import date\n",
    "\n",
    "# Enables testing changes in utils\n",
    "%load_ext autoreload\n",
    "%autoreload 2\n",
    "\n",
    "# Specify the path of the tutorials\n",
    "sys.path.append(\"..\")\n",
    "\n",
    "# Enable third-party widgets(ipysheet)\n",
    "from google.colab import output\n",
    "\n",
    "output.enable_custom_widget_manager()\n",
    "\n",
    "# Import required modules\n",
    "import kso_utils.tutorials_utils as t_utils\n",
    "import kso_utils.project_utils as p_utils\n",
    "import kso_utils.t8_utils as t8\n",
    "\n",
    "print(\"Packages loaded successfully\")"
   ]
  },
  {
   "cell_type": "markdown",
   "id": "117139c9",
   "metadata": {
    "id": "117139c9"
   },
   "source": [
    "### Choose your project"
   ]
  },
  {
   "cell_type": "code",
   "execution_count": null,
   "id": "a29b26cc",
   "metadata": {
    "id": "a29b26cc"
   },
   "outputs": [],
   "source": [
    "project_name = t_utils.choose_project()"
   ]
  },
  {
   "cell_type": "markdown",
   "id": "r0wRpx18bAx0",
   "metadata": {
    "id": "r0wRpx18bAx0"
   },
   "source": [
    "## Initiate sql database"
   ]
  },
  {
   "cell_type": "code",
   "execution_count": null,
   "id": "sq7d7mghbBuK",
   "metadata": {
    "id": "sq7d7mghbBuK"
   },
   "outputs": [],
   "source": [
    "# Store the project selected\n",
    "project = p_utils.find_project(project_name=project_name.value)\n",
    "\n",
    "# Initiate db\n",
    "db_info_dict = t_utils.initiate_db(project)"
   ]
  },
  {
   "cell_type": "markdown",
   "id": "2dU3-A-yfQeP",
   "metadata": {
    "id": "2dU3-A-yfQeP"
   },
   "source": [
    "### Connect to and retrieve info from zooniverse"
   ]
  },
  {
   "cell_type": "code",
   "execution_count": null,
   "id": "3SA3nKbAbY0f",
   "metadata": {
    "id": "3SA3nKbAbY0f"
   },
   "outputs": [],
   "source": [
    "# Connect to Zooniverse project\n",
    "zoo_project = t_utils.connect_zoo_project(project)\n",
    "\n",
    "# Retrieve relevant info from Zooniverse\n",
    "zoo_info_dict = t_utils.retrieve__populate_zoo_info(\n",
    "    project=project,\n",
    "    db_info_dict=db_info_dict,\n",
    "    zoo_project=zoo_project,\n",
    "    zoo_info=[\"subjects\", \"workflows\", \"classifications\"],\n",
    ")"
   ]
  },
  {
   "cell_type": "markdown",
   "id": "TLzNMyd9buvn",
   "metadata": {
    "id": "TLzNMyd9buvn"
   },
   "source": [
    "## Select zooniverse classifications to process"
   ]
  },
  {
   "cell_type": "code",
   "execution_count": null,
   "id": "inclusive-depression",
   "metadata": {
    "id": "inclusive-depression"
   },
   "outputs": [],
   "source": [
    "# Display a selectable list of workflow names and a list of versions of the workflow of interest\n",
    "workflows_df = zoo_info_dict[\"workflows\"]\n",
    "wm = t8.WidgetMaker(workflows_df)\n",
    "wm"
   ]
  },
  {
   "cell_type": "code",
   "execution_count": null,
   "id": "GjANG0tAzM1R",
   "metadata": {
    "id": "GjANG0tAzM1R"
   },
   "outputs": [],
   "source": [
    "# To add - a widget to select date range of the classifications of interest"
   ]
  },
  {
   "cell_type": "code",
   "execution_count": null,
   "id": "foster-motion",
   "metadata": {
    "id": "foster-motion"
   },
   "outputs": [],
   "source": [
    "# Select classifications from the workflow of interest\n",
    "class_df = t8.get_classifications(\n",
    "    wm.checks,\n",
    "    workflows_df,\n",
    "    wm.checks[\"Subject type: #0\"],\n",
    "    zoo_info_dict[\"classifications\"],\n",
    "    db_info_dict[\"db_path\"],\n",
    "    project,\n",
    ")"
   ]
  },
  {
   "cell_type": "code",
   "execution_count": null,
   "id": "VOlsiz9PzgmH",
   "metadata": {
    "id": "VOlsiz9PzgmH"
   },
   "outputs": [],
   "source": [
    "# To add - Process the classifications (i.e. unnest the json classifications) to have a label/species per row"
   ]
  },
  {
   "cell_type": "code",
   "execution_count": null,
   "id": "beFMUwfzz-e-",
   "metadata": {
    "id": "beFMUwfzz-e-"
   },
   "outputs": [],
   "source": [
    "# To add - Modify the vidProcess the classifications (i.e. unnest the json classifications) to have a label/species per row"
   ]
  },
  {
   "cell_type": "code",
   "execution_count": null,
   "id": "QV5_ODoP0R7x",
   "metadata": {
    "id": "QV5_ODoP0R7x"
   },
   "outputs": [],
   "source": [
    "# To add - Provide widget option for user to select the columns they want to download"
   ]
  },
  {
   "cell_type": "code",
   "execution_count": null,
   "id": "HDGPK5vByrfq",
   "metadata": {
    "id": "HDGPK5vByrfq"
   },
   "outputs": [],
   "source": [
    "# Download the processed classifications as a csv file\n",
    "csv_filename = project.Project_name + str(date.today()) + \"classifications.csv\"\n",
    "class_df.to_csv(csv_filename)"
   ]
  },
  {
   "cell_type": "code",
   "execution_count": null,
   "id": "211ab0c3",
   "metadata": {
    "id": "211ab0c3"
   },
   "outputs": [],
   "source": [
    "# END"
   ]
  }
 ],
 "metadata": {
  "colab": {
   "include_colab_link": true,
   "provenance": []
  },
  "kernelspec": {
   "display_name": "Python 3 (ipykernel)",
   "language": "python",
   "name": "python3"
  },
  "language_info": {
   "codemirror_mode": {
    "name": "ipython",
    "version": 3
   },
   "file_extension": ".py",
   "mimetype": "text/x-python",
   "name": "python",
   "nbconvert_exporter": "python",
   "pygments_lexer": "ipython3",
   "version": "3.8.16"
  },
  "vscode": {
   "interpreter": {
    "hash": "9f0064b85a3bc365415745ead9abb78ac240c43fe3a2a9861333bea64f4ce941"
   }
  }
 },
 "nbformat": 4,
 "nbformat_minor": 5
}
