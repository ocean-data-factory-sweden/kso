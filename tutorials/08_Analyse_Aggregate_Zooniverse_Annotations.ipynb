{
 "cells": [
  {
   "cell_type": "markdown",
   "id": "a49ece9a",
   "metadata": {
    "id": "a49ece9a"
   },
   "source": [
    "<img align=\"left\" src=\"https://panoptes-uploads.zooniverse.org/project_avatar/86c23ca7-bbaa-4e84-8d8a-876819551431.png\" type=\"image/png\" height=100 width=100>\n",
    "</img>\n",
    "<h1 align=\"right\">KSO Tutorials #8: Analyse / Aggregate Zooniverse classifications</h1>\n",
    "<h3 align=\"right\"><a href=\"https://colab.research.google.com/github/ocean-data-factory-sweden/kso/blob/master/tutorials/08_Analyse_Aggregate_Zooniverse_Annotations.ipynb\" target=\"_parent\"><img src=\"https://colab.research.google.com/assets/colab-badge.svg\" alt=\"Open In Colab\"/></a></h3>\n",
    "<h3 align=\"right\">Written by the KSO team</h3>"
   ]
  },
  {
   "cell_type": "markdown",
   "id": "TbIaPdBSU_H3",
   "metadata": {
    "id": "TbIaPdBSU_H3"
   },
   "source": [
    "This notebook takes you through the process of:\n",
    "* Connecting to a Zooniverse project\n",
    "* Retrieving the annotations provided by citizen scientists from your workflow of interest\n",
    "* Aggregating the annotations based on aggregation thresholds and minimum number of users\n",
    "* Exploring the aggregated classifications to inspect the effect of your aggregation settings.\n",
    "* Downloading the aggregated or unaggregated classifications for further analyses.\n",
    "* *If you were inspecting videos*, you can use the aggregation settings you decided on for Notebook 4, where you cut the videos into images and upload them to Zooniverse for the 2nd part of the workflow.\n",
    "* *If you were inspecting frames*, you can export the frame annotations into YOLO format, which is needed for ML purposes in Notebook 5.\n",
    "\n",
    "If you do not have a project with us yet, you can run the template project to get a taste of how the aggregation of the annotations works for videos. However, it is not yet possible to do this for frames, and therefore also not to do the exports.\n",
    "\n",
    "🔴 <span style=\"color:red\">&nbsp;NOTE: If you want to run another project than the template project, you need to have a Zooniverse account and be a member of the corresponding project.  </span>"
   ]
  },
  {
   "cell_type": "markdown",
   "id": "FlVXYRkEzfGq",
   "metadata": {
    "id": "FlVXYRkEzfGq"
   },
   "source": [
    "# Set up and requirements"
   ]
  },
  {
   "cell_type": "markdown",
   "id": "5f9faa9c",
   "metadata": {
    "id": "5f9faa9c"
   },
   "source": [
    "### Install all the requirements"
   ]
  },
  {
   "cell_type": "markdown",
   "id": "0d100fbf",
   "metadata": {
    "id": "0d100fbf"
   },
   "source": [
    "If you are running this notebook in Google Colab, this cell should take ~2 mins and might restart the session. Please run this cell until you get the \"Successful installation!\" message."
   ]
  },
  {
   "cell_type": "code",
   "execution_count": null,
   "id": "4YRqq41oziEM",
   "metadata": {
    "id": "4YRqq41oziEM"
   },
   "outputs": [],
   "source": [
    "import sys\n",
    "import os\n",
    "\n",
    "# Check if notebook is running in colab\n",
    "IN_COLAB = \"google.colab\" in sys.modules\n",
    "\n",
    "if IN_COLAB:\n",
    "    # Clone kso repo and install requirements\n",
    "    if not os.path.exists(\"kso\"):\n",
    "        print(\"Installing all dependencies...\")\n",
    "        !git clone -b colab_ml https://github.com/ocean-data-factory-sweden/kso.git\n",
    "        !pip install -qr <(sed '/yolov5/d;/ultralytics/d' /content/kso/requirements_colab.txt)\n",
    "\n",
    "    # Enable external widgets and navigate to the kso tutorial folder\n",
    "    try:\n",
    "        from google.colab import output\n",
    "\n",
    "        output.enable_custom_widget_manager()\n",
    "        os.chdir(\"kso/tutorials\")\n",
    "    except ImportError:\n",
    "        pass\n",
    "\n",
    "# Prepare the dev settings if needed\n",
    "try:\n",
    "    if \"kso_utils\" not in sys.modules:\n",
    "        sys.path.insert(0, os.path.abspath(os.path.join(os.getcwd(), \"..\")))\n",
    "        import kso_utils\n",
    "\n",
    "        print(\"Using development version...\")\n",
    "        # Enables testing changes in utils\n",
    "        %load_ext autoreload\n",
    "        %autoreload 2\n",
    "except ImportError:\n",
    "    print(\"Installing latest version from PyPI...\")\n",
    "    %pip install -q kso-utils\n",
    "\n",
    "if IN_COLAB:\n",
    "\n",
    "    def restart_runtime():\n",
    "        os.kill(os.getpid(), 9)\n",
    "\n",
    "    # Check if there are any issues with previously imported packages\n",
    "    try:\n",
    "        from kso_utils.project import ProjectProcessor\n",
    "    except Exception as e:\n",
    "        print(f\"Error importing package: {e}\")\n",
    "        print(\"Restarting runtime to apply package changes...\")\n",
    "        restart_runtime()\n",
    "\n",
    "# Avoid issues with widgets not displaying properly\n",
    "!jupyter nbextension enable --user --py widgetsnbextension\n",
    "!jupyter nbextension enable --user --py jupyter_bbox_widget\n",
    "!jupyter nbextension enable --user --py ipysheet\n",
    "\n",
    "# Load the clear output function to keep things clean\n",
    "from IPython.display import clear_output\n",
    "\n",
    "clear_output()\n",
    "print(\"Successful installation... you're good to go!\")"
   ]
  },
  {
   "cell_type": "markdown",
   "id": "472e7d6e",
   "metadata": {
    "id": "472e7d6e"
   },
   "source": [
    "### Import Python packages"
   ]
  },
  {
   "cell_type": "code",
   "execution_count": null,
   "id": "ZI0XH96WzfGs",
   "metadata": {
    "id": "ZI0XH96WzfGs"
   },
   "outputs": [],
   "source": [
    "# Import required modules for tut#8\n",
    "import kso_utils.widgets as kso_widgets\n",
    "import kso_utils.project_utils as p_utils\n",
    "import kso_utils.tutorials_utils as t_utils\n",
    "from kso_utils.project import ProjectProcessor, MLProjectProcessor\n",
    "\n",
    "print(\"Packages loaded successfully\")"
   ]
  },
  {
   "cell_type": "markdown",
   "id": "2eda3296",
   "metadata": {
    "id": "2eda3296"
   },
   "source": [
    "### Choose your project"
   ]
  },
  {
   "cell_type": "code",
   "execution_count": null,
   "id": "6f26f15b",
   "metadata": {
    "id": "6f26f15b"
   },
   "outputs": [],
   "source": [
    "project_name = kso_widgets.choose_project()"
   ]
  },
  {
   "cell_type": "markdown",
   "id": "242d5780",
   "metadata": {
    "id": "242d5780"
   },
   "source": [
    "### Initiate project's database"
   ]
  },
  {
   "cell_type": "code",
   "execution_count": null,
   "id": "o8ShAbg3zfGs",
   "metadata": {
    "id": "o8ShAbg3zfGs"
   },
   "outputs": [],
   "source": [
    "# Save the name of the project\n",
    "project = p_utils.find_project(project_name=project_name.value)\n",
    "\n",
    "# Initiate pp\n",
    "pp = ProjectProcessor(project)"
   ]
  },
  {
   "cell_type": "markdown",
   "id": "3bd01d49",
   "metadata": {
    "id": "3bd01d49"
   },
   "source": [
    "### Specify to request (or not) the latest Zooniverse info"
   ]
  },
  {
   "cell_type": "code",
   "execution_count": null,
   "id": "HTLGiO6RFMfP",
   "metadata": {
    "id": "HTLGiO6RFMfP"
   },
   "outputs": [],
   "source": [
    "latest_zoo_info = kso_widgets.request_latest_zoo_info()"
   ]
  },
  {
   "cell_type": "markdown",
   "id": "411615cb",
   "metadata": {
    "id": "411615cb"
   },
   "source": [
    "### Connect and retrieve information from the Zooniverse project"
   ]
  },
  {
   "cell_type": "code",
   "execution_count": null,
   "id": "e478dee3",
   "metadata": {
    "id": "e478dee3"
   },
   "outputs": [],
   "source": [
    "pp.connect_zoo_project(latest_zoo_info.result)"
   ]
  },
  {
   "cell_type": "markdown",
   "id": "cd4adb06",
   "metadata": {
    "id": "cd4adb06"
   },
   "source": [
    "# Select Zooniverse workflow id and version of interest\n",
    "\n",
    "##### Note: Make sure your workflows in Zooniverse have different names to avoid issues while selecting the workflow id"
   ]
  },
  {
   "cell_type": "markdown",
   "id": "3b6016a1",
   "metadata": {
    "id": "3b6016a1"
   },
   "source": [
    "### Choose the workflows and versions of interest"
   ]
  },
  {
   "cell_type": "code",
   "execution_count": null,
   "id": "a16e5f5f",
   "metadata": {
    "id": "a16e5f5f"
   },
   "outputs": [],
   "source": [
    "pp.choose_zoo_workflows()"
   ]
  },
  {
   "cell_type": "markdown",
   "id": "c219a634",
   "metadata": {
    "id": "c219a634"
   },
   "source": [
    "### Sample and process Zooniverse classifications from the workflows of interest"
   ]
  },
  {
   "cell_type": "code",
   "execution_count": null,
   "id": "10e4e276",
   "metadata": {
    "id": "10e4e276"
   },
   "outputs": [],
   "source": [
    "pp.process_zoo_classifications()"
   ]
  },
  {
   "cell_type": "markdown",
   "id": "0136ef4b",
   "metadata": {
    "id": "0136ef4b"
   },
   "source": [
    "### Display individual/non-aggregated classifications of a subject"
   ]
  },
  {
   "cell_type": "code",
   "execution_count": null,
   "id": "Lv1VydtBpAQT",
   "metadata": {
    "cellView": "form",
    "id": "Lv1VydtBpAQT"
   },
   "outputs": [],
   "source": [
    "pp.explore_processed_classifications_per_subject()"
   ]
  },
  {
   "cell_type": "markdown",
   "id": "R00g9V9yjWPX",
   "metadata": {
    "id": "R00g9V9yjWPX"
   },
   "source": [
    "# Aggregate classifications received from the workflows of interest"
   ]
  },
  {
   "cell_type": "markdown",
   "id": "7696340b",
   "metadata": {
    "id": "7696340b"
   },
   "source": [
    "### Specify agreement threshold among cit scientists"
   ]
  },
  {
   "cell_type": "code",
   "execution_count": null,
   "id": "927ef4df",
   "metadata": {
    "id": "927ef4df"
   },
   "outputs": [],
   "source": [
    "agg_params = kso_widgets.choose_agg_parameters(\n",
    "    pp.workflow_widget.checks[\"Subject type: #0\"]\n",
    ")"
   ]
  },
  {
   "cell_type": "markdown",
   "id": "833afcd6",
   "metadata": {
    "id": "833afcd6"
   },
   "source": [
    "### Aggregate classifications based on threshold"
   ]
  },
  {
   "cell_type": "code",
   "execution_count": null,
   "id": "31c98274",
   "metadata": {
    "id": "31c98274"
   },
   "outputs": [],
   "source": [
    "pp.aggregate_zoo_classifications(agg_params)"
   ]
  },
  {
   "cell_type": "markdown",
   "id": "qnYyF5TH9INf",
   "metadata": {
    "id": "qnYyF5TH9INf"
   },
   "source": [
    "🔴 <span style=\"color:red\">&nbsp;NOTE: If the output from the cell above says that 0 classifications are aggregated, you can experiment with other agreement thresholds, or you need to wait for more annotations to be made in Zooniverse.   </span>"
   ]
  },
  {
   "cell_type": "markdown",
   "id": "1iI7Jv5KjWPX",
   "metadata": {
    "id": "1iI7Jv5KjWPX"
   },
   "source": [
    "# Explore the aggregated classifications"
   ]
  },
  {
   "cell_type": "markdown",
   "id": "43fd5f8f",
   "metadata": {
    "id": "43fd5f8f"
   },
   "source": [
    "### Summarise the number of aggregated classifications"
   ]
  },
  {
   "cell_type": "code",
   "execution_count": null,
   "id": "4QAUKSRSjWPX",
   "metadata": {
    "cellView": "form",
    "id": "4QAUKSRSjWPX"
   },
   "outputs": [],
   "source": [
    "pp.aggregated_zoo_classifications.groupby(\"label\")[\"subject_ids\"].agg(\"count\")"
   ]
  },
  {
   "cell_type": "markdown",
   "id": "30c9cb53",
   "metadata": {
    "id": "30c9cb53"
   },
   "source": [
    "### Display all the aggregated classifications in a table"
   ]
  },
  {
   "cell_type": "code",
   "execution_count": null,
   "id": "i_aKwdLWjWPX",
   "metadata": {
    "cellView": "form",
    "id": "i_aKwdLWjWPX"
   },
   "outputs": [],
   "source": [
    "t_utils.launch_table(\n",
    "    pp.aggregated_zoo_classifications, pp.workflow_widget.checks[\"Subject type: #0\"]\n",
    ")"
   ]
  },
  {
   "cell_type": "markdown",
   "id": "5fe0823c",
   "metadata": {
    "id": "5fe0823c"
   },
   "source": [
    "### Display a subject and its aggregated classifications"
   ]
  },
  {
   "cell_type": "code",
   "execution_count": null,
   "id": "4370d487",
   "metadata": {
    "cellView": "form",
    "id": "4370d487"
   },
   "outputs": [],
   "source": [
    "t_utils.launch_viewer(\n",
    "    pp.aggregated_zoo_classifications, pp.workflow_widget.checks[\"Subject type: #0\"]\n",
    ")"
   ]
  },
  {
   "cell_type": "markdown",
   "id": "f3aJWaZR9lk6",
   "metadata": {
    "id": "f3aJWaZR9lk6"
   },
   "source": [
    "🔴 <span style=\"color:red\">&nbsp;NOTE: If you did the aggregation on clips (videos), the rest of this notebook is not relevant for you. You can use the explored aggregation settings to clip the videos into images with Notebook 4.Only if you were working with frames in the previous steps, you can continue with this notebook.  </span>"
   ]
  },
  {
   "cell_type": "markdown",
   "id": "Q4XNdjhhzfGw",
   "metadata": {
    "id": "Q4XNdjhhzfGw"
   },
   "source": [
    "# OPTIONAL #1 - Export frame aggregated classifications in YOLO format (For ML purposes)"
   ]
  },
  {
   "cell_type": "markdown",
   "id": "RkHzQIzxzfGu",
   "metadata": {
    "id": "RkHzQIzxzfGu"
   },
   "source": [
    "## Prepare the labelled frames"
   ]
  },
  {
   "cell_type": "code",
   "execution_count": null,
   "id": "f75b8b18",
   "metadata": {
    "id": "f75b8b18"
   },
   "outputs": [],
   "source": [
    "# Initialise mlp\n",
    "mlp = MLProjectProcessor(pp)"
   ]
  },
  {
   "cell_type": "markdown",
   "id": "f2db50c3",
   "metadata": {
    "id": "f2db50c3"
   },
   "source": [
    "### Specify path to store the labelled frames and annotations"
   ]
  },
  {
   "cell_type": "code",
   "execution_count": null,
   "id": "fc94336a",
   "metadata": {
    "id": "fc94336a"
   },
   "outputs": [],
   "source": [
    "# Specify path to store the labelled frames and annotations\n",
    "output_folder = kso_widgets.choose_folder(\".\", \"output\")"
   ]
  },
  {
   "cell_type": "markdown",
   "id": "aa4d6059",
   "metadata": {
    "id": "aa4d6059"
   },
   "source": [
    "### Determine your training parameters"
   ]
  },
  {
   "cell_type": "code",
   "execution_count": null,
   "id": "3268e0ed",
   "metadata": {
    "id": "3268e0ed"
   },
   "outputs": [],
   "source": [
    "# Determine your training parameters\n",
    "percentage_test = t_utils.choose_test_prop()"
   ]
  },
  {
   "cell_type": "markdown",
   "id": "767ddf48",
   "metadata": {
    "id": "767ddf48"
   },
   "source": [
    "### Run the preparation script"
   ]
  },
  {
   "cell_type": "code",
   "execution_count": null,
   "id": "26d3277f",
   "metadata": {
    "id": "26d3277f"
   },
   "outputs": [],
   "source": [
    "# Run the preparation script\n",
    "mlp.prepare_dataset(\n",
    "    agg_df=pp.aggregated_zoo_classifications,\n",
    "    out_path=output_folder.selected,\n",
    "    img_size=(720, 540),\n",
    "    perc_test=percentage_test.value,\n",
    ")"
   ]
  },
  {
   "cell_type": "markdown",
   "id": "Mw_ZiNtVKyMA",
   "metadata": {
    "id": "Mw_ZiNtVKyMA"
   },
   "source": [
    "\n",
    "## Preview and adjust aggregated annotations"
   ]
  },
  {
   "cell_type": "markdown",
   "id": "82302fe5",
   "metadata": {
    "id": "82302fe5"
   },
   "source": [
    "### Preview and adjust annotations"
   ]
  },
  {
   "cell_type": "code",
   "execution_count": null,
   "id": "M-gyODDRKkhw",
   "metadata": {
    "cellView": "form",
    "id": "M-gyODDRKkhw"
   },
   "outputs": [],
   "source": [
    "t_utils.get_annotations_viewer(\n",
    "    output_folder.selected, species_list=mlp.species_of_interest\n",
    ")"
   ]
  },
  {
   "cell_type": "markdown",
   "id": "3f82e191",
   "metadata": {
    "id": "3f82e191"
   },
   "source": [
    "\n",
    "# OPTIONAL #2 - Download the raw/aggreated classifications in a csv file for further analysis (e.g. comparisons between citizen scientists and experts)"
   ]
  },
  {
   "cell_type": "code",
   "execution_count": null,
   "id": "72980d54",
   "metadata": {
    "id": "72980d54"
   },
   "outputs": [],
   "source": [
    "pp.download_classications_csv(pp.processed_zoo_classifications)\n",
    "# Uncomment the following line to download the aggregated classifications\n",
    "# pp.download_classications_csv(pp.aggregated_zoo_classifications)"
   ]
  },
  {
   "cell_type": "markdown",
   "id": "iLAB5SCh9ma_",
   "metadata": {
    "id": "iLAB5SCh9ma_"
   },
   "source": [
    "\n",
    "# OPTIONAL #3 - Download aggregated annotations in GBIF/OBIS format (For biodiversity purposes)"
   ]
  },
  {
   "cell_type": "code",
   "execution_count": null,
   "id": "c283065d",
   "metadata": {
    "id": "c283065d"
   },
   "outputs": [],
   "source": [
    "pp.download_gbif_occurrences(\"citizen_scientists\")"
   ]
  },
  {
   "cell_type": "code",
   "execution_count": null,
   "id": "8umCRoDozfGx",
   "metadata": {
    "id": "8umCRoDozfGx"
   },
   "outputs": [],
   "source": [
    "# END"
   ]
  }
 ],
 "metadata": {
  "colab": {
   "collapsed_sections": [
    "Q4XNdjhhzfGw",
    "RkHzQIzxzfGu",
    "B_k4w2rRJYjF",
    "Mw_ZiNtVKyMA"
   ],
   "provenance": []
  },
  "kernelspec": {
   "display_name": "Python 3 (ipykernel)",
   "language": "python",
   "name": "python3"
  },
  "language_info": {
   "codemirror_mode": {
    "name": "ipython",
    "version": 3
   },
   "file_extension": ".py",
   "mimetype": "text/x-python",
   "name": "python",
   "nbconvert_exporter": "python",
   "pygments_lexer": "ipython3",
   "version": "3.8.16"
  },
  "vscode": {
   "interpreter": {
    "hash": "9f0064b85a3bc365415745ead9abb78ac240c43fe3a2a9861333bea64f4ce941"
   }
  }
 },
 "nbformat": 4,
 "nbformat_minor": 5
}
