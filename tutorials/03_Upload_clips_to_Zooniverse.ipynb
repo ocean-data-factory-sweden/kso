{
  "cells": [
    {
      "cell_type": "markdown",
      "id": "b169b8d0",
      "metadata": {
        "id": "b169b8d0"
      },
      "source": [
        "<img align=\"left\" src=\"https://panoptes-uploads.zooniverse.org/project_avatar/86c23ca7-bbaa-4e84-8d8a-876819551431.png\" type=\"image/png\" height=100 width=100>\n",
        "</img>\n",
        "<h1 align=\"right\">KSO Tutorials #3: Upload clips to Zooniverse</h1>\n",
        "<h3 align=\"right\"><a href=\"https://colab.research.google.com/github/ocean-data-factory-sweden/kso/blob/master/tutorials/03_Upload_clips_to_Zooniverse.ipynb\" target=\"_parent\"><img src=\"https://colab.research.google.com/assets/colab-badge.svg\" alt=\"Open In Colab\"/></a></h3>\n",
        "<h3 align=\"right\">Written by KSO Team</h3>"
      ]
    },
    {
      "cell_type": "markdown",
      "id": "e0a0fa42",
      "metadata": {
        "id": "e0a0fa42"
      },
      "source": [
        "This notebook takes you through the process of:\n",
        "\n",
        "* Connecting to a Zooniverse project\n",
        "\n",
        "* Extracting clips from videos stored locally or in the cloud.\n",
        "\n",
        "* Modify these clips with for example a color correction or video compression.\n",
        "\n",
        "* Upload the clips to Zooniverse for the 1st part of the species identification workflow (when does X species appear on a video).\n",
        "\n",
        "If you do not have a project with us yet, you can run the template project to get a taste of how it all works. Only the uploading of the clips to Zooniverse will not be possible if you are not a member of our template project on Zooniverse.\n",
        "\n",
        "🔴 <span style=\"color:red\">&nbsp;NOTE: If you want to run another project than the template project, you need to have a Zooniverse account and be a member of the corresponding project.  </span>"
      ]
    },
    {
      "cell_type": "markdown",
      "id": "3ee20d67",
      "metadata": {
        "id": "3ee20d67"
      },
      "source": [
        "# Set up KSO requirements"
      ]
    },
    {
      "cell_type": "markdown",
      "id": "3a54a7be",
      "metadata": {
        "id": "3a54a7be"
      },
      "source": [
        "### Install all the requirements"
      ]
    },
    {
      "cell_type": "markdown",
      "id": "743b0489",
      "metadata": {
        "id": "743b0489"
      },
      "source": [
        "If you are running this notebook in Google Colab, this cell should take ~2 mins and might restart the session. Please run this cell until you get the \"Successful installation!\" message."
      ]
    },
    {
      "cell_type": "code",
      "execution_count": null,
      "id": "euLU610Jo8xh",
      "metadata": {
        "cellView": "form",
        "id": "euLU610Jo8xh"
      },
      "outputs": [],
      "source": [
        "import sys\n",
        "import os\n",
        "\n",
        "# Check if notebook is running in colab\n",
        "IN_COLAB = \"google.colab\" in sys.modules\n",
        "\n",
        "if IN_COLAB:\n",
        "    # Clone kso repo and install requirements\n",
        "    if not os.path.exists(\"kso\"):\n",
        "        print(\"Installing all dependencies...\")\n",
        "        !git clone https://github.com/ocean-data-factory-sweden/kso.git\n",
        "        !pip install \\\n",
        "        git+https://github.com/zooniverse/panoptes-python-client.git \\\n",
        "        ipysheet \\\n",
        "        jupyter_bbox_widget \\\n",
        "        av \\\n",
        "        boto3 \\\n",
        "        dataclass_csv \\\n",
        "        fiftyone \\\n",
        "        ffmpeg \\\n",
        "        csv_diff \\\n",
        "        wandb \\\n",
        "        mlflow \\\n",
        "        lida \\\n",
        "        pims\n",
        "\n",
        "    # Restart colab session if conflicting libraries can't be imported\n",
        "    try:\n",
        "        import panoptes_client\n",
        "    except ImportError:\n",
        "        os.kill(os.getpid(), 9)\n",
        "\n",
        "    # Enable external widgets and navigate to the kso tutorial folder\n",
        "    try:\n",
        "        from google.colab import output\n",
        "\n",
        "        output.enable_custom_widget_manager()\n",
        "        os.chdir(\"kso/tutorials\")\n",
        "    except ImportError:\n",
        "        pass\n",
        "\n",
        "# Prepare the dev settings if needed\n",
        "try:\n",
        "    if \"kso_utils\" not in sys.modules:\n",
        "        sys.path.insert(0, os.path.abspath(os.path.join(os.getcwd(), \"..\")))\n",
        "        import kso_utils\n",
        "\n",
        "        print(\"Using development version...\")\n",
        "        # Enables testing changes in utils\n",
        "        %load_ext autoreload\n",
        "        %autoreload 2\n",
        "except ImportError:\n",
        "    print(\"Installing latest version from PyPI...\")\n",
        "    %pip install -q kso-utils\n",
        "\n",
        "# Avoid issues with widgets not displaying properly\n",
        "!jupyter nbextension enable --user --py widgetsnbextension\n",
        "!jupyter nbextension enable --user --py jupyter_bbox_widget\n",
        "!jupyter nbextension enable --user --py ipysheet\n",
        "\n",
        "# Load the clear output function to keep things clean\n",
        "from IPython.display import clear_output\n",
        "\n",
        "clear_output()\n",
        "print(\"Successful installation... you're good to go!\")"
      ]
    },
    {
      "cell_type": "markdown",
      "id": "32582de9",
      "metadata": {
        "id": "32582de9"
      },
      "source": [
        "### Import Python packages"
      ]
    },
    {
      "cell_type": "code",
      "execution_count": null,
      "id": "2f980fe6",
      "metadata": {
        "id": "2f980fe6"
      },
      "outputs": [],
      "source": [
        "# Import required modules for tut#3\n",
        "import kso_utils.widgets as kso_widgets\n",
        "import kso_utils.project_utils as p_utils\n",
        "import kso_utils.tutorials_utils as t_utils\n",
        "from kso_utils.project import ProjectProcessor\n",
        "\n",
        "print(\"Packages loaded successfully\")"
      ]
    },
    {
      "cell_type": "markdown",
      "id": "ca98de2e",
      "metadata": {
        "id": "ca98de2e"
      },
      "source": [
        "### Specify GPU availability"
      ]
    },
    {
      "cell_type": "code",
      "execution_count": null,
      "id": "ulpoaaNHoiUz",
      "metadata": {
        "cellView": "form",
        "id": "ulpoaaNHoiUz"
      },
      "outputs": [],
      "source": [
        "gpu_available = kso_widgets.gpu_select()"
      ]
    },
    {
      "cell_type": "markdown",
      "id": "925539de",
      "metadata": {
        "id": "925539de"
      },
      "source": [
        "### Choose your project"
      ]
    },
    {
      "cell_type": "code",
      "execution_count": null,
      "id": "bfef12df",
      "metadata": {
        "cellView": "form",
        "id": "bfef12df"
      },
      "outputs": [],
      "source": [
        "project_name = kso_widgets.choose_project()"
      ]
    },
    {
      "cell_type": "markdown",
      "id": "b78239ab",
      "metadata": {
        "id": "b78239ab"
      },
      "source": [
        "### Initiate project's database"
      ]
    },
    {
      "cell_type": "code",
      "execution_count": null,
      "id": "8a7abc2f",
      "metadata": {
        "cellView": "form",
        "id": "8a7abc2f",
        "scrolled": true
      },
      "outputs": [],
      "source": [
        "# Save the name of the project\n",
        "project = p_utils.find_project(project_name=project_name.value)\n",
        "\n",
        "# Initiate pp\n",
        "pp = ProjectProcessor(project)"
      ]
    },
    {
      "cell_type": "markdown",
      "id": "1e1ad619",
      "metadata": {
        "id": "1e1ad619"
      },
      "source": [
        "### Specify to request (or not) the latest Zooniverse info"
      ]
    },
    {
      "cell_type": "code",
      "execution_count": null,
      "id": "420aa411",
      "metadata": {
        "id": "420aa411"
      },
      "outputs": [],
      "source": [
        "latest_zoo_info = kso_widgets.request_latest_zoo_info()"
      ]
    },
    {
      "cell_type": "markdown",
      "id": "fbc6e6c7",
      "metadata": {
        "id": "fbc6e6c7"
      },
      "source": [
        "### Connect and retrieve information from the Zooniverse project"
      ]
    },
    {
      "cell_type": "code",
      "execution_count": null,
      "id": "10b4aa16",
      "metadata": {
        "cellView": "form",
        "id": "10b4aa16"
      },
      "outputs": [],
      "source": [
        "pp.connect_zoo_project(latest_zoo_info.result)"
      ]
    },
    {
      "cell_type": "markdown",
      "id": "lq8kiRqqnxe8",
      "metadata": {
        "id": "lq8kiRqqnxe8"
      },
      "source": [
        "# Select the movie to upload to Zooniverse"
      ]
    },
    {
      "cell_type": "markdown",
      "id": "7f52af1b",
      "metadata": {
        "id": "7f52af1b"
      },
      "source": [
        "### Check what movies are available"
      ]
    },
    {
      "cell_type": "code",
      "execution_count": null,
      "id": "519db794",
      "metadata": {
        "id": "519db794"
      },
      "outputs": [],
      "source": [
        "pp.get_movie_info()"
      ]
    },
    {
      "cell_type": "markdown",
      "id": "bf1717bd",
      "metadata": {
        "id": "bf1717bd"
      },
      "source": [
        "### Specify movie of interest"
      ]
    },
    {
      "cell_type": "code",
      "execution_count": null,
      "id": "6667d092",
      "metadata": {
        "cellView": "form",
        "id": "6667d092"
      },
      "outputs": [],
      "source": [
        "pp.preview_media()"
      ]
    },
    {
      "cell_type": "markdown",
      "id": "f66ae4ff",
      "metadata": {
        "id": "f66ae4ff"
      },
      "source": [
        "### Check if movie is already in Zooniverse"
      ]
    },
    {
      "cell_type": "code",
      "execution_count": null,
      "id": "dbe6b212",
      "metadata": {
        "cellView": "form",
        "id": "dbe6b212"
      },
      "outputs": [],
      "source": [
        "# Remember to query the newest zooniverse data to get the most up to date list of clips uploaded\n",
        "pp.check_movies_uploaded(pp.movie_selected)"
      ]
    },
    {
      "cell_type": "markdown",
      "id": "QQKQ25Rd7zid",
      "metadata": {
        "id": "QQKQ25Rd7zid"
      },
      "source": [
        "# Create some clip examples (Optional)\n",
        "Test different parameters (e.g. compression rate, color modifications) in randomly selected clip examples"
      ]
    },
    {
      "cell_type": "code",
      "execution_count": null,
      "id": "6aabd8b0",
      "metadata": {
        "id": "6aabd8b0"
      },
      "outputs": [],
      "source": [
        "pp.generate_zoo_clips(\n",
        "    movie_name=pp.movie_selected,\n",
        "    movie_path=pp.movie_path,\n",
        "    is_example=True,\n",
        "    use_gpu=gpu_available.result,\n",
        ")"
      ]
    },
    {
      "cell_type": "code",
      "execution_count": null,
      "id": "0iJ_DMsWM9Wm",
      "metadata": {
        "cellView": "form",
        "id": "0iJ_DMsWM9Wm"
      },
      "outputs": [],
      "source": [
        "t_utils.check_clip_size(clips_list=pp.generated_clips.clip_path)"
      ]
    },
    {
      "cell_type": "code",
      "execution_count": null,
      "id": "zXQOMNRsNRMf",
      "metadata": {
        "cellView": "form",
        "id": "zXQOMNRsNRMf"
      },
      "outputs": [],
      "source": [
        "kso_widgets.compare_clips(\n",
        "    example_clips=pp.generated_clips.clip_path,\n",
        "    modified_clips=pp.generated_clips.modif_clip_path,\n",
        ")"
      ]
    },
    {
      "cell_type": "markdown",
      "id": "a9NhZKK-NS_s",
      "metadata": {
        "id": "a9NhZKK-NS_s"
      },
      "source": [
        "# Create the clips to upload to Zooniverse"
      ]
    },
    {
      "cell_type": "code",
      "execution_count": null,
      "id": "704d84e6",
      "metadata": {
        "id": "704d84e6"
      },
      "outputs": [],
      "source": [
        "pp.generate_zoo_clips(\n",
        "    movie_name=pp.movie_selected,\n",
        "    movie_path=pp.movie_path,\n",
        "    is_example=False,\n",
        "    use_gpu=gpu_available.result,\n",
        ")"
      ]
    },
    {
      "cell_type": "markdown",
      "id": "d3d89365",
      "metadata": {
        "id": "d3d89365"
      },
      "source": [
        "### Check the size of the clips"
      ]
    },
    {
      "cell_type": "code",
      "execution_count": null,
      "id": "ACnwMvssNrxX",
      "metadata": {
        "cellView": "form",
        "id": "ACnwMvssNrxX"
      },
      "outputs": [],
      "source": [
        "t_utils.check_clip_size(clips_list=pp.generated_clips.clip_path)"
      ]
    },
    {
      "cell_type": "markdown",
      "id": "dp4F7oNfRIbA",
      "metadata": {
        "id": "dp4F7oNfRIbA"
      },
      "source": [
        "# Upload clips to Zooniverse"
      ]
    },
    {
      "cell_type": "markdown",
      "id": "45e15794",
      "metadata": {
        "id": "45e15794"
      },
      "source": [
        "If you receive an error message related to file size, we recommend shortening the clip length or compressing the clips to achieve a suitable filesize.\n",
        "\n",
        "Make sure your workflows in Zooniverse have different names to avoid issues while creating a new workflow\n",
        "\n",
        "🔴 <span style=\"color:red\">&nbsp;NOTE: If you run the template project without being a member of our template project, it is not possible to run this last cell.  </span>"
      ]
    },
    {
      "cell_type": "code",
      "execution_count": null,
      "id": "ac733f98",
      "metadata": {
        "id": "ac733f98"
      },
      "outputs": [],
      "source": [
        "pp.upload_zoo_subjects(\"clip\")"
      ]
    },
    {
      "cell_type": "code",
      "execution_count": null,
      "id": "Ewbv8G7fRagf",
      "metadata": {
        "id": "Ewbv8G7fRagf"
      },
      "outputs": [],
      "source": [
        "# END"
      ]
    }
  ],
  "metadata": {
    "accelerator": "GPU",
    "colab": {
      "collapsed_sections": [
        "Hro0l-z-OxAA",
        "cEy0Uz9ZO17V",
        "cuCiI4KqPZSw"
      ],
      "gpuType": "T4",
      "provenance": []
    },
    "kernelspec": {
      "display_name": "Python 3",
      "name": "python3"
    },
    "language_info": {
      "name": "python"
    }
  },
  "nbformat": 4,
  "nbformat_minor": 5
}