{
 "cells": [
  {
   "cell_type": "markdown",
   "id": "hawaiian-ratio",
   "metadata": {},
   "source": [
    "<img align=\"left\" src=\"https://panoptes-uploads.zooniverse.org/project_avatar/86c23ca7-bbaa-4e84-8d8a-876819551431.png\" type=\"image/png\" height=100 width=100>\n",
    "</img>\n",
    "<h1 align=\"right\">KSO Tutorials #6: Evaluate machine learning models</h1>\n",
    "<h3 align=\"right\">Written by @jannesgg and @vykanton</h3>\n",
    "<h5 align=\"right\">Last updated: Oct 14, 2022</h5>"
   ]
  },
  {
   "cell_type": "markdown",
   "id": "recovered-hamburg",
   "metadata": {},
   "source": [
    "# 1. Set up and requirements"
   ]
  },
  {
   "cell_type": "markdown",
   "id": "f98115ea",
   "metadata": {},
   "source": [
    "### Install and import Python packages"
   ]
  },
  {
   "cell_type": "code",
   "execution_count": null,
   "id": "ab2bc392",
   "metadata": {},
   "outputs": [],
   "source": [
    "from IPython.display import clear_output\n",
    "try:\n",
    "  import google.colab\n",
    "  import os\n",
    "  IN_COLAB = True\n",
    "  print(\"Running in Colab...\")\n",
    "\n",
    "  # Clone repo\n",
    "  !git clone --recurse-submodules https://github.com/ocean-data-factory-sweden/koster_yolov4.git\n",
    "  !pip install -q --upgrade pip\n",
    "  !pip install -qr koster_yolov4/requirements.txt\n",
    "  !pip install -qr koster_yolov4/yolov5_tracker/requirements.txt\n",
    "  \n",
    "  # Fix libmagic issue\n",
    "  !apt-get -qq update && apt-get -qq install -y libmagic-dev > /dev/null\n",
    "\n",
    "  # Replace upsampling script with custom version\n",
    "  os.chdir(\"koster_yolov4/tutorials\")\n",
    "  !mv ../src/upsampling.py /usr/local/lib/python3.7/dist-packages/torch/nn/modules/upsampling.py\n",
    "\n",
    "  # Replace nearest neighbours script with custom version (due to relative path issue)\n",
    "  !cp ../src/nn_matching.py ../yolov5_tracker/strong_sort/sort/nn_matching.py\n",
    "  !cp ../src/track.py ../yolov5_tracker/track.py\n",
    "\n",
    "  # Enable external widgets\n",
    "  from google.colab import output\n",
    "  output.enable_custom_widget_manager()\n",
    "\n",
    "  # Ensure widgets are shown properly\n",
    "  !jupyter nbextension enable --user --py widgetsnbextension\n",
    "  !jupyter nbextension enable --user --py jupyter_bbox_widget\n",
    "\n",
    "  print(\"All packages are installed and ready to go!\")\n",
    "  try:\n",
    "    clear_output()\n",
    "    print(\"All packages are installed and ready to go!\")\n",
    "  except:\n",
    "    clear_output()\n",
    "    print(\"There have been some issues installing the packages!\")\n",
    "except:\n",
    "  IN_COLAB = False\n",
    "  import sys\n",
    "  import pkgutil\n",
    "  if pkgutil.find_loader('torch') is None:\n",
    "    !pip install -q --upgrade pip\n",
    "    !pip install -q torch==1.8.0 torchvision==0.9.0\n",
    "  # Replace nearest neighbours script with custom version (due to relative path issue)\n",
    "  !cp ../src/nn_matching.py ../yolov5_tracker/strong_sort/sort/nn_matching.py\n",
    "  !cp ../src/track.py ../yolov5_tracker/track.py\n",
    "  # Ensure widgets are shown properly\n",
    "  !jupyter nbextension enable --user --py widgetsnbextension\n",
    "  !jupyter nbextension enable --user --py jupyter_bbox_widget\n",
    "  clear_output()\n",
    "  print(\"Running locally... you're good to go!\")"
   ]
  },
  {
   "cell_type": "code",
   "execution_count": null,
   "id": "underlying-converter",
   "metadata": {},
   "outputs": [],
   "source": [
    "# Set the directory of the libraries\n",
    "import sys, os\n",
    "from pathlib import Path\n",
    "sys.path.append('..')\n",
    "\n",
    "# Enables testing changes in utils\n",
    "%load_ext autoreload\n",
    "%autoreload 2\n",
    "\n",
    "# Set to display dataframes as interactive tables\n",
    "from itables import init_notebook_mode\n",
    "init_notebook_mode(all_interactive=True)\n",
    "from ipyfilechooser import FileChooser\n",
    "\n",
    "# Import required modules\n",
    "import kso_utils.tutorials_utils as t_utils\n",
    "import kso_utils.t6_utils as t6\n",
    "\n",
    "# Model-specific imports\n",
    "import yolov5.train as train\n",
    "import yolov5.val as val\n",
    "import yolov5.detect as detect\n",
    "import wandb\n",
    "\n",
    "clear_output()\n",
    "print(\"Packages loaded successfully\")"
   ]
  },
  {
   "cell_type": "markdown",
   "id": "1d3f913f",
   "metadata": {},
   "source": [
    "# 2. Evaluate model on custom footage"
   ]
  },
  {
   "cell_type": "markdown",
   "id": "legendary-clearance",
   "metadata": {},
   "source": [
    "### Choose your project"
   ]
  },
  {
   "cell_type": "code",
   "execution_count": null,
   "id": "incident-surveillance",
   "metadata": {},
   "outputs": [],
   "source": [
    "project_name = t_utils.choose_project()"
   ]
  },
  {
   "cell_type": "markdown",
   "id": "progressive-scheme",
   "metadata": {},
   "source": [
    "### Choose model"
   ]
  },
  {
   "cell_type": "code",
   "execution_count": null,
   "id": "c41909d3",
   "metadata": {},
   "outputs": [],
   "source": [
    "model = t6.choose_model(project_name.value)"
   ]
  },
  {
   "cell_type": "code",
   "execution_count": null,
   "id": "2456b57b",
   "metadata": {},
   "outputs": [],
   "source": [
    "download_dir = t_utils.choose_folder(\".\", \"where to download the model\")"
   ]
  },
  {
   "cell_type": "code",
   "execution_count": null,
   "id": "842d5de0",
   "metadata": {},
   "outputs": [],
   "source": [
    "artifact_dir = t6.get_model(model_name = model.value,\n",
    "                            project_name = project_name.value,\n",
    "                            download_path = download_dir.selected)"
   ]
  },
  {
   "cell_type": "markdown",
   "id": "6acfe490",
   "metadata": {},
   "source": [
    "### Choose custom footage"
   ]
  },
  {
   "cell_type": "code",
   "execution_count": null,
   "id": "boxed-gateway",
   "metadata": {},
   "outputs": [],
   "source": [
    "source = t_utils.choose_folder(\".\", \"custom footage\")"
   ]
  },
  {
   "cell_type": "markdown",
   "id": "7bf6ae69",
   "metadata": {},
   "source": [
    "### Choose where to save runs (this should be left as default value in most cases)"
   ]
  },
  {
   "cell_type": "code",
   "execution_count": null,
   "id": "4a2ee64c",
   "metadata": {},
   "outputs": [],
   "source": [
    "save_dir = t_utils.choose_folder(\".\", \"runs output\")"
   ]
  },
  {
   "cell_type": "code",
   "execution_count": null,
   "id": "219b8d2e",
   "metadata": {},
   "outputs": [],
   "source": [
    "run = wandb.init(entity='koster', project=\"model-evaluations\")"
   ]
  },
  {
   "cell_type": "markdown",
   "id": "299b8d2b",
   "metadata": {},
   "source": [
    "### Run model over selected custom footage"
   ]
  },
  {
   "cell_type": "code",
   "execution_count": null,
   "id": "23b984ea",
   "metadata": {},
   "outputs": [],
   "source": [
    "conf_thres = t6.choose_conf()"
   ]
  },
  {
   "cell_type": "code",
   "execution_count": null,
   "id": "blocked-standing",
   "metadata": {},
   "outputs": [],
   "source": [
    "detect.run(weights=[f for f in Path(artifact_dir).iterdir() if f.is_file() and '.pt' in str(f)][0], \n",
    "           source=source.selected, conf_thres=conf_thres.value, save_txt=True, save_conf=True,\n",
    "           project=save_dir.selected,\n",
    "           name=\"detect\")"
   ]
  },
  {
   "cell_type": "markdown",
   "id": "19fd1c41",
   "metadata": {},
   "source": [
    "### View model output"
   ]
  },
  {
   "cell_type": "code",
   "execution_count": null,
   "id": "890ce983",
   "metadata": {
    "scrolled": true
   },
   "outputs": [],
   "source": [
    "eval_dir = t_utils.choose_folder(save_dir.selected if \"save_dir\" in vars() else '.', \"runs output\")"
   ]
  },
  {
   "cell_type": "code",
   "execution_count": null,
   "id": "24024c46",
   "metadata": {},
   "outputs": [],
   "source": [
    "config = wandb.config\n",
    "config.confidence_threshold = conf_thres.value\n",
    "config.model_name = model.value\n",
    "config.evaluation_directory = eval_dir.selected"
   ]
  },
  {
   "cell_type": "code",
   "execution_count": null,
   "id": "c9dc3743",
   "metadata": {},
   "outputs": [],
   "source": [
    "my_data = wandb.Artifact(\"detection_output\", type=\"raw_data\")\n",
    "my_data.add_dir(eval_dir.selected)\n",
    "run.log_artifact(my_data)"
   ]
  },
  {
   "cell_type": "code",
   "execution_count": null,
   "id": "4d54a6b8",
   "metadata": {
    "scrolled": false
   },
   "outputs": [],
   "source": [
    "t6.choose_files(eval_dir.selected)"
   ]
  },
  {
   "cell_type": "markdown",
   "id": "722a5fb9",
   "metadata": {},
   "source": [
    "### Investigate training and validation datasets"
   ]
  },
  {
   "cell_type": "code",
   "execution_count": null,
   "id": "60a2a99f",
   "metadata": {},
   "outputs": [],
   "source": [
    "train_dataset, val_dataset = t6.get_dataset(project_name.value, model.value)"
   ]
  },
  {
   "cell_type": "markdown",
   "id": "b3a8edd8",
   "metadata": {},
   "source": [
    "#### Training set"
   ]
  },
  {
   "cell_type": "code",
   "execution_count": null,
   "id": "aef76ac9",
   "metadata": {},
   "outputs": [],
   "source": [
    "t6.get_data_viewer(os.path.join(train_dataset, \"data/images\"))"
   ]
  },
  {
   "cell_type": "markdown",
   "id": "5cfb4ef0",
   "metadata": {},
   "source": [
    "#### Validation set"
   ]
  },
  {
   "cell_type": "code",
   "execution_count": null,
   "id": "d02c6f3b",
   "metadata": {},
   "outputs": [],
   "source": [
    "t6.get_data_viewer(os.path.join(val_dataset, \"data/images\"))"
   ]
  },
  {
   "cell_type": "markdown",
   "id": "0da9e74f",
   "metadata": {},
   "source": [
    "# 3. Track unique individuals (optional)"
   ]
  },
  {
   "cell_type": "code",
   "execution_count": null,
   "id": "b8f62006",
   "metadata": {},
   "outputs": [],
   "source": [
    "import yolov5_tracker.track as track"
   ]
  },
  {
   "cell_type": "code",
   "execution_count": null,
   "id": "ebb871ed",
   "metadata": {},
   "outputs": [],
   "source": [
    "latest_tracker = t6.track_objects(source_dir=source.selected, \n",
    "                                  artifact_dir= artifact_dir,\n",
    "                                  tracker_folder=eval_dir.selected,\n",
    "                                  conf_thres=conf_thres.value,\n",
    "                                  img_size=(540, 540),\n",
    "                                  gpu=False)"
   ]
  },
  {
   "cell_type": "code",
   "execution_count": null,
   "id": "c2dd15ca",
   "metadata": {},
   "outputs": [],
   "source": [
    "my_data = wandb.Artifact(\"tracker_output\", type=\"raw_data\")\n",
    "my_data.add_dir(Path(latest_tracker).parent.absolute())\n",
    "run.log_artifact(my_data)"
   ]
  },
  {
   "cell_type": "markdown",
   "id": "47766c1d",
   "metadata": {},
   "source": [
    "### Generate classification report and counts by species"
   ]
  },
  {
   "cell_type": "code",
   "execution_count": null,
   "id": "d7448279",
   "metadata": {},
   "outputs": [],
   "source": [
    "csv_report = t6.generate_csv_report(eval_dir.selected)\n",
    "wandb.log({\"predictions\": wandb.Table(dataframe=csv_report)})"
   ]
  },
  {
   "cell_type": "code",
   "execution_count": null,
   "id": "041af685",
   "metadata": {},
   "outputs": [],
   "source": [
    "tracking_report = t6.generate_counts(eval_dir.selected, latest_tracker, artifact_dir)\n",
    "wandb.log({\"tracking_counts\": wandb.Table(dataframe=tracking_report.to_frame())})"
   ]
  },
  {
   "cell_type": "markdown",
   "id": "15c58523",
   "metadata": {},
   "source": [
    "🔴 <span style=\"color:red\">&nbsp;NOTE: Run this cell to complete WANDB run, else artifacts will not be shown."
   ]
  },
  {
   "cell_type": "code",
   "execution_count": null,
   "id": "4dc3cdde",
   "metadata": {},
   "outputs": [],
   "source": [
    "wandb.finish()"
   ]
  },
  {
   "cell_type": "code",
   "execution_count": null,
   "id": "racial-richardson",
   "metadata": {},
   "outputs": [],
   "source": [
    "# END "
   ]
  }
 ],
 "metadata": {
  "kernelspec": {
   "display_name": "Python 3.8.8 ('odf')",
   "language": "python",
   "name": "python3"
  },
  "language_info": {
   "codemirror_mode": {
    "name": "ipython",
    "version": 3
   },
   "file_extension": ".py",
   "mimetype": "text/x-python",
   "name": "python",
   "nbconvert_exporter": "python",
   "pygments_lexer": "ipython3",
   "version": "3.8.8"
  },
  "vscode": {
   "interpreter": {
    "hash": "9f0064b85a3bc365415745ead9abb78ac240c43fe3a2a9861333bea64f4ce941"
   }
  }
 },
 "nbformat": 4,
 "nbformat_minor": 5
}
