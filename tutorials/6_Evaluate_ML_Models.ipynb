{
 "cells": [
  {
   "cell_type": "markdown",
   "id": "hawaiian-ratio",
   "metadata": {},
   "source": [
    "<img align=\"left\" src=\"https://panoptes-uploads.zooniverse.org/project_avatar/86c23ca7-bbaa-4e84-8d8a-876819551431.png\" type=\"image/png\" height=100 width=100>\n",
    "</img>\n",
    "<h1 align=\"right\">KSO Tutorials #6: Evaluate machine learning models</h1>\n",
    "<h3 align=\"right\">Written by @jannesgg and @vykanton</h3>\n",
    "<h5 align=\"right\">Last updated: Oct 14, 2022</h5>"
   ]
  },
  {
   "cell_type": "markdown",
   "id": "recovered-hamburg",
   "metadata": {},
   "source": [
    "# 1. Set up and requirements"
   ]
  },
  {
   "cell_type": "markdown",
   "id": "f98115ea",
   "metadata": {},
   "source": [
    "### Install and import Python packages"
   ]
  },
  {
   "cell_type": "code",
   "execution_count": 14,
   "id": "ab2bc392",
   "metadata": {},
   "outputs": [
    {
     "name": "stdout",
     "output_type": "stream",
     "text": [
      "Running locally... you're good to go!\n"
     ]
    }
   ],
   "source": [
    "from IPython.display import clear_output\n",
    "try:\n",
    "  import google.colab\n",
    "  import os\n",
    "  IN_COLAB = True\n",
    "  print(\"Running in Colab...\")\n",
    "\n",
    "  # Clone repo\n",
    "  !git clone --recurse-submodules https://github.com/ocean-data-factory-sweden/koster_yolov4.git\n",
    "  !pip install -q --upgrade pip\n",
    "  !pip install -qr koster_yolov4/requirements.txt\n",
    "  !pip install -qr koster_yolov4/yolov5_tracker/requirements.txt\n",
    "  \n",
    "  # Fix libmagic issue\n",
    "  !apt-get -qq update && apt-get -qq install -y libmagic-dev > /dev/null\n",
    "\n",
    "  # Replace upsampling script with custom version\n",
    "  os.chdir(\"koster_yolov4/tutorials\")\n",
    "  !mv ../src/upsampling.py /usr/local/lib/python3.7/dist-packages/torch/nn/modules/upsampling.py\n",
    "\n",
    "  # Replace nearest neighbours script with custom version (due to relative path issue)\n",
    "  !cp ../src/nn_matching.py ../yolov5_tracker/strong_sort/sort/nn_matching.py\n",
    "  !cp ../src/track.py ../yolov5_tracker/track.py\n",
    "\n",
    "  # Enable external widgets\n",
    "  from google.colab import output\n",
    "  output.enable_custom_widget_manager()\n",
    "\n",
    "  # Ensure widgets are shown properly\n",
    "  !jupyter nbextension enable --user --py widgetsnbextension\n",
    "  !jupyter nbextension enable --user --py jupyter_bbox_widget\n",
    "\n",
    "  print(\"All packages are installed and ready to go!\")\n",
    "  try:\n",
    "    clear_output()\n",
    "    print(\"All packages are installed and ready to go!\")\n",
    "  except:\n",
    "    clear_output()\n",
    "    print(\"There have been some issues installing the packages!\")\n",
    "except:\n",
    "  IN_COLAB = False\n",
    "  import sys\n",
    "  import pkgutil\n",
    "  if pkgutil.find_loader('torch') is None:\n",
    "    !pip install -q --upgrade pip\n",
    "    !pip install -q torch==1.8.0 torchvision==0.9.0\n",
    "  # Replace nearest neighbours script with custom version (due to relative path issue)\n",
    "  !cp ../src/nn_matching.py ../yolov5_tracker/strong_sort/sort/nn_matching.py\n",
    "  !cp ../src/track.py ../yolov5_tracker/track.py\n",
    "  # Ensure widgets are shown properly\n",
    "  !jupyter nbextension enable --user --py widgetsnbextension\n",
    "  !jupyter nbextension enable --user --py jupyter_bbox_widget\n",
    "  clear_output()\n",
    "  print(\"Running locally... you're good to go!\")"
   ]
  },
  {
   "cell_type": "code",
   "execution_count": 15,
   "id": "underlying-converter",
   "metadata": {},
   "outputs": [
    {
     "name": "stdout",
     "output_type": "stream",
     "text": [
      "Packages loaded successfully\n"
     ]
    }
   ],
   "source": [
    "# Set the directory of the libraries\n",
    "import sys, os\n",
    "from pathlib import Path\n",
    "sys.path.append('..')\n",
    "\n",
    "# Enables testing changes in utils\n",
    "%load_ext autoreload\n",
    "%autoreload 2\n",
    "\n",
    "# Set to display dataframes as interactive tables\n",
    "from itables import init_notebook_mode\n",
    "init_notebook_mode(all_interactive=True)\n",
    "from ipyfilechooser import FileChooser\n",
    "\n",
    "# Import required modules\n",
    "import kso_utils.tutorials_utils as t_utils\n",
    "import kso_utils.t6_utils as t6\n",
    "\n",
    "# Model-specific imports\n",
    "import yolov5.train as train\n",
    "import yolov5.val as val\n",
    "import yolov5.detect as detect\n",
    "import wandb\n",
    "\n",
    "clear_output()\n",
    "print(\"Packages loaded successfully\")"
   ]
  },
  {
   "cell_type": "markdown",
   "id": "1d3f913f",
   "metadata": {},
   "source": [
    "# 2. Evaluate model on custom footage"
   ]
  },
  {
   "cell_type": "markdown",
   "id": "legendary-clearance",
   "metadata": {},
   "source": [
    "### Choose your project"
   ]
  },
  {
   "cell_type": "code",
   "execution_count": 16,
   "id": "incident-surveillance",
   "metadata": {},
   "outputs": [
    {
     "data": {
      "application/vnd.jupyter.widget-view+json": {
       "model_id": "38b94a03277c42d09c6c9ab284c7d1e8",
       "version_major": 2,
       "version_minor": 0
      },
      "text/plain": [
       "Dropdown(description='Project:', options=('Koster_Seafloor_Obs', 'Spyfish_Aotearoa', 'SGU', 'Medins', 'Test ML…"
      ]
     },
     "metadata": {},
     "output_type": "display_data"
    }
   ],
   "source": [
    "project_name = t_utils.choose_project()"
   ]
  },
  {
   "cell_type": "markdown",
   "id": "progressive-scheme",
   "metadata": {},
   "source": [
    "### Choose model"
   ]
  },
  {
   "cell_type": "code",
   "execution_count": 17,
   "id": "c41909d3",
   "metadata": {},
   "outputs": [
    {
     "data": {
      "application/vnd.jupyter.widget-view+json": {
       "model_id": "9d94d05736a744548838a5b4ba2f05f6",
       "version_major": 2,
       "version_minor": 0
      },
      "text/plain": [
       "Dropdown(description='Select model:', layout=Layout(width='50%'), options=(('fathomnet-benthic-yolov5', 'fatho…"
      ]
     },
     "metadata": {},
     "output_type": "display_data"
    },
    {
     "data": {
      "application/vnd.jupyter.widget-view+json": {
       "model_id": "d11ff00686824ba5a1fcc9bde2be56fe",
       "version_major": 2,
       "version_minor": 0
      },
      "text/plain": [
       "Output()"
      ]
     },
     "metadata": {},
     "output_type": "display_data"
    }
   ],
   "source": [
    "model = t6.choose_model(project_name.value)"
   ]
  },
  {
   "cell_type": "code",
   "execution_count": 18,
   "id": "2456b57b",
   "metadata": {},
   "outputs": [
    {
     "data": {
      "application/vnd.jupyter.widget-view+json": {
       "model_id": "a149c66ba55a4f63a2bc646d5d6d661d",
       "version_major": 2,
       "version_minor": 0
      },
      "text/plain": [
       "FileChooser(path='.', filename='', title='HTML(value='Choose location of where to download the model')', show_…"
      ]
     },
     "metadata": {},
     "output_type": "display_data"
    }
   ],
   "source": [
    "download_dir = t_utils.choose_folder(\".\", \"where to download the model\")"
   ]
  },
  {
   "cell_type": "code",
   "execution_count": 19,
   "id": "842d5de0",
   "metadata": {},
   "outputs": [
    {
     "name": "stderr",
     "output_type": "stream",
     "text": [
      "INFO:root:Downloading model checkpoint...\n",
      "\u001b[34m\u001b[1mwandb\u001b[0m: Downloading large artifact fathomnet-benthic-yolov5:latest, 175.84MB. 3 files... Done. 0:0:0\n",
      "INFO:root:Checkpoint downloaded.\n"
     ]
    }
   ],
   "source": [
    "artifact_dir = t6.get_model(model_name = model.value,\n",
    "                            project_name = project_name.value,\n",
    "                            download_path = download_dir.selected)"
   ]
  },
  {
   "cell_type": "markdown",
   "id": "6acfe490",
   "metadata": {},
   "source": [
    "### Choose custom footage"
   ]
  },
  {
   "cell_type": "code",
   "execution_count": 20,
   "id": "boxed-gateway",
   "metadata": {},
   "outputs": [
    {
     "data": {
      "application/vnd.jupyter.widget-view+json": {
       "model_id": "004d0af044c6488e9e10ecc0963465d0",
       "version_major": 2,
       "version_minor": 0
      },
      "text/plain": [
       "FileChooser(path='.', filename='', title='HTML(value='Choose location of custom footage')', show_hidden='False…"
      ]
     },
     "metadata": {},
     "output_type": "display_data"
    }
   ],
   "source": [
    "source = t_utils.choose_folder(\".\", \"custom footage\")"
   ]
  },
  {
   "cell_type": "markdown",
   "id": "7bf6ae69",
   "metadata": {},
   "source": [
    "### Choose where to save runs (this should be left as default value in most cases)"
   ]
  },
  {
   "cell_type": "code",
   "execution_count": 21,
   "id": "4a2ee64c",
   "metadata": {},
   "outputs": [
    {
     "data": {
      "application/vnd.jupyter.widget-view+json": {
       "model_id": "d8728366c61f4c9a8e71399a920d7296",
       "version_major": 2,
       "version_minor": 0
      },
      "text/plain": [
       "FileChooser(path='.', filename='', title='HTML(value='Choose location of runs output')', show_hidden='False', …"
      ]
     },
     "metadata": {},
     "output_type": "display_data"
    }
   ],
   "source": [
    "save_dir = t_utils.choose_folder(\".\", \"runs output\")"
   ]
  },
  {
   "cell_type": "code",
   "execution_count": 23,
   "id": "219b8d2e",
   "metadata": {},
   "outputs": [
    {
     "name": "stderr",
     "output_type": "stream",
     "text": [
      "\u001b[34m\u001b[1mwandb\u001b[0m: wandb version 0.13.4 is available!  To upgrade, please run:\n",
      "\u001b[34m\u001b[1mwandb\u001b[0m:  $ pip install wandb --upgrade\n"
     ]
    },
    {
     "data": {
      "text/html": [
       "\n",
       "                Tracking run with wandb version 0.11.0<br/>\n",
       "                Syncing run <strong style=\"color:#cdcd00\">cool-violet-1</strong> to <a href=\"https://wandb.ai\" target=\"_blank\">Weights & Biases</a> <a href=\"https://docs.wandb.com/integrations/jupyter.html\" target=\"_blank\">(Documentation)</a>.<br/>\n",
       "                Project page: <a href=\"https://wandb.ai/koster/model-evaluations\" target=\"_blank\">https://wandb.ai/koster/model-evaluations</a><br/>\n",
       "                Run page: <a href=\"https://wandb.ai/koster/model-evaluations/runs/32lqxpxv\" target=\"_blank\">https://wandb.ai/koster/model-evaluations/runs/32lqxpxv</a><br/>\n",
       "                Run data is saved locally in <code>/Users/jurie.germishuys/Workspace/odf/koster-uw/models/yolov5/tutorials/wandb/run-20221020_111518-32lqxpxv</code><br/><br/>\n",
       "            "
      ],
      "text/plain": [
       "<IPython.core.display.HTML object>"
      ]
     },
     "metadata": {},
     "output_type": "display_data"
    }
   ],
   "source": [
    "run = wandb.init(entity='koster', project=\"model-evaluations\")"
   ]
  },
  {
   "cell_type": "markdown",
   "id": "299b8d2b",
   "metadata": {},
   "source": [
    "### Run model over selected custom footage"
   ]
  },
  {
   "cell_type": "code",
   "execution_count": 34,
   "id": "23b984ea",
   "metadata": {},
   "outputs": [
    {
     "data": {
      "application/vnd.jupyter.widget-view+json": {
       "model_id": "21245fc8e396481d992af16704330d8b",
       "version_major": 2,
       "version_minor": 0
      },
      "text/plain": [
       "FloatSlider(value=0.5, continuous_update=False, description='Confidence threshold:', max=1.0, readout_format='…"
      ]
     },
     "metadata": {},
     "output_type": "display_data"
    }
   ],
   "source": [
    "conf_thres = t6.choose_conf()"
   ]
  },
  {
   "cell_type": "code",
   "execution_count": 25,
   "id": "blocked-standing",
   "metadata": {},
   "outputs": [
    {
     "name": "stderr",
     "output_type": "stream",
     "text": [
      "INFO:yolov5:YOLOv5 🚀 2022-10-14 Python-3.8.8 torch-1.8.0 CPU\n",
      "\n",
      "INFO:yolov5:Fusing layers... \n",
      "INFO:yolov5:Model summary: 476 layers, 91841704 parameters, 0 gradients\n",
      "INFO:yolov5:video 1/1 (1/251) /Users/jurie.germishuys/Workspace/odf/koster-uw/models/yolov5/tutorials/test_vid/000203 TMBL-ROV 2000 Säcken EJ numrerade band_90.mp4: 512x640 (no detections), 6176.4ms\n",
      "INFO:yolov5:video 1/1 (2/251) /Users/jurie.germishuys/Workspace/odf/koster-uw/models/yolov5/tutorials/test_vid/000203 TMBL-ROV 2000 Säcken EJ numrerade band_90.mp4: 512x640 (no detections), 5826.7ms\n",
      "INFO:yolov5:video 1/1 (3/251) /Users/jurie.germishuys/Workspace/odf/koster-uw/models/yolov5/tutorials/test_vid/000203 TMBL-ROV 2000 Säcken EJ numrerade band_90.mp4: 512x640 (no detections), 6653.2ms\n",
      "INFO:yolov5:video 1/1 (4/251) /Users/jurie.germishuys/Workspace/odf/koster-uw/models/yolov5/tutorials/test_vid/000203 TMBL-ROV 2000 Säcken EJ numrerade band_90.mp4: 512x640 (no detections), 6123.9ms\n",
      "INFO:yolov5:video 1/1 (5/251) /Users/jurie.germishuys/Workspace/odf/koster-uw/models/yolov5/tutorials/test_vid/000203 TMBL-ROV 2000 Säcken EJ numrerade band_90.mp4: 512x640 (no detections), 6154.5ms\n",
      "INFO:yolov5:video 1/1 (6/251) /Users/jurie.germishuys/Workspace/odf/koster-uw/models/yolov5/tutorials/test_vid/000203 TMBL-ROV 2000 Säcken EJ numrerade band_90.mp4: 512x640 (no detections), 5467.3ms\n",
      "INFO:yolov5:video 1/1 (7/251) /Users/jurie.germishuys/Workspace/odf/koster-uw/models/yolov5/tutorials/test_vid/000203 TMBL-ROV 2000 Säcken EJ numrerade band_90.mp4: 512x640 (no detections), 5773.9ms\n",
      "INFO:yolov5:video 1/1 (8/251) /Users/jurie.germishuys/Workspace/odf/koster-uw/models/yolov5/tutorials/test_vid/000203 TMBL-ROV 2000 Säcken EJ numrerade band_90.mp4: 512x640 (no detections), 5888.8ms\n",
      "INFO:yolov5:video 1/1 (9/251) /Users/jurie.germishuys/Workspace/odf/koster-uw/models/yolov5/tutorials/test_vid/000203 TMBL-ROV 2000 Säcken EJ numrerade band_90.mp4: 512x640 (no detections), 5828.3ms\n",
      "INFO:yolov5:video 1/1 (10/251) /Users/jurie.germishuys/Workspace/odf/koster-uw/models/yolov5/tutorials/test_vid/000203 TMBL-ROV 2000 Säcken EJ numrerade band_90.mp4: 512x640 (no detections), 5797.8ms\n",
      "INFO:yolov5:video 1/1 (11/251) /Users/jurie.germishuys/Workspace/odf/koster-uw/models/yolov5/tutorials/test_vid/000203 TMBL-ROV 2000 Säcken EJ numrerade band_90.mp4: 512x640 (no detections), 5697.2ms\n",
      "INFO:yolov5:video 1/1 (12/251) /Users/jurie.germishuys/Workspace/odf/koster-uw/models/yolov5/tutorials/test_vid/000203 TMBL-ROV 2000 Säcken EJ numrerade band_90.mp4: 512x640 (no detections), 5619.7ms\n",
      "INFO:yolov5:video 1/1 (13/251) /Users/jurie.germishuys/Workspace/odf/koster-uw/models/yolov5/tutorials/test_vid/000203 TMBL-ROV 2000 Säcken EJ numrerade band_90.mp4: 512x640 (no detections), 5581.1ms\n",
      "INFO:yolov5:video 1/1 (14/251) /Users/jurie.germishuys/Workspace/odf/koster-uw/models/yolov5/tutorials/test_vid/000203 TMBL-ROV 2000 Säcken EJ numrerade band_90.mp4: 512x640 (no detections), 5589.5ms\n",
      "INFO:yolov5:video 1/1 (15/251) /Users/jurie.germishuys/Workspace/odf/koster-uw/models/yolov5/tutorials/test_vid/000203 TMBL-ROV 2000 Säcken EJ numrerade band_90.mp4: 512x640 (no detections), 5576.0ms\n",
      "INFO:yolov5:video 1/1 (16/251) /Users/jurie.germishuys/Workspace/odf/koster-uw/models/yolov5/tutorials/test_vid/000203 TMBL-ROV 2000 Säcken EJ numrerade band_90.mp4: 512x640 (no detections), 5526.3ms\n",
      "INFO:yolov5:video 1/1 (17/251) /Users/jurie.germishuys/Workspace/odf/koster-uw/models/yolov5/tutorials/test_vid/000203 TMBL-ROV 2000 Säcken EJ numrerade band_90.mp4: 512x640 (no detections), 5536.8ms\n",
      "INFO:yolov5:video 1/1 (18/251) /Users/jurie.germishuys/Workspace/odf/koster-uw/models/yolov5/tutorials/test_vid/000203 TMBL-ROV 2000 Säcken EJ numrerade band_90.mp4: 512x640 (no detections), 5487.5ms\n",
      "INFO:yolov5:video 1/1 (19/251) /Users/jurie.germishuys/Workspace/odf/koster-uw/models/yolov5/tutorials/test_vid/000203 TMBL-ROV 2000 Säcken EJ numrerade band_90.mp4: 512x640 (no detections), 5456.8ms\n",
      "INFO:yolov5:video 1/1 (20/251) /Users/jurie.germishuys/Workspace/odf/koster-uw/models/yolov5/tutorials/test_vid/000203 TMBL-ROV 2000 Säcken EJ numrerade band_90.mp4: 512x640 (no detections), 5544.2ms\n",
      "INFO:yolov5:video 1/1 (21/251) /Users/jurie.germishuys/Workspace/odf/koster-uw/models/yolov5/tutorials/test_vid/000203 TMBL-ROV 2000 Säcken EJ numrerade band_90.mp4: 512x640 (no detections), 5472.4ms\n",
      "INFO:yolov5:video 1/1 (22/251) /Users/jurie.germishuys/Workspace/odf/koster-uw/models/yolov5/tutorials/test_vid/000203 TMBL-ROV 2000 Säcken EJ numrerade band_90.mp4: 512x640 (no detections), 6476.4ms\n",
      "INFO:yolov5:video 1/1 (23/251) /Users/jurie.germishuys/Workspace/odf/koster-uw/models/yolov5/tutorials/test_vid/000203 TMBL-ROV 2000 Säcken EJ numrerade band_90.mp4: 512x640 (no detections), 6007.9ms\n",
      "INFO:yolov5:video 1/1 (24/251) /Users/jurie.germishuys/Workspace/odf/koster-uw/models/yolov5/tutorials/test_vid/000203 TMBL-ROV 2000 Säcken EJ numrerade band_90.mp4: 512x640 (no detections), 5615.5ms\n",
      "INFO:yolov5:video 1/1 (25/251) /Users/jurie.germishuys/Workspace/odf/koster-uw/models/yolov5/tutorials/test_vid/000203 TMBL-ROV 2000 Säcken EJ numrerade band_90.mp4: 512x640 (no detections), 5577.3ms\n",
      "INFO:yolov5:video 1/1 (26/251) /Users/jurie.germishuys/Workspace/odf/koster-uw/models/yolov5/tutorials/test_vid/000203 TMBL-ROV 2000 Säcken EJ numrerade band_90.mp4: 512x640 (no detections), 5490.3ms\n",
      "INFO:yolov5:video 1/1 (27/251) /Users/jurie.germishuys/Workspace/odf/koster-uw/models/yolov5/tutorials/test_vid/000203 TMBL-ROV 2000 Säcken EJ numrerade band_90.mp4: 512x640 (no detections), 5696.6ms\n",
      "INFO:yolov5:video 1/1 (28/251) /Users/jurie.germishuys/Workspace/odf/koster-uw/models/yolov5/tutorials/test_vid/000203 TMBL-ROV 2000 Säcken EJ numrerade band_90.mp4: 512x640 (no detections), 5667.9ms\n",
      "INFO:yolov5:video 1/1 (29/251) /Users/jurie.germishuys/Workspace/odf/koster-uw/models/yolov5/tutorials/test_vid/000203 TMBL-ROV 2000 Säcken EJ numrerade band_90.mp4: 512x640 (no detections), 6272.4ms\n",
      "INFO:yolov5:video 1/1 (30/251) /Users/jurie.germishuys/Workspace/odf/koster-uw/models/yolov5/tutorials/test_vid/000203 TMBL-ROV 2000 Säcken EJ numrerade band_90.mp4: 512x640 (no detections), 5459.7ms\n",
      "INFO:yolov5:video 1/1 (31/251) /Users/jurie.germishuys/Workspace/odf/koster-uw/models/yolov5/tutorials/test_vid/000203 TMBL-ROV 2000 Säcken EJ numrerade band_90.mp4: 512x640 (no detections), 5502.5ms\n",
      "INFO:yolov5:video 1/1 (32/251) /Users/jurie.germishuys/Workspace/odf/koster-uw/models/yolov5/tutorials/test_vid/000203 TMBL-ROV 2000 Säcken EJ numrerade band_90.mp4: 512x640 (no detections), 5436.7ms\n",
      "INFO:yolov5:video 1/1 (33/251) /Users/jurie.germishuys/Workspace/odf/koster-uw/models/yolov5/tutorials/test_vid/000203 TMBL-ROV 2000 Säcken EJ numrerade band_90.mp4: 512x640 (no detections), 5567.2ms\n",
      "INFO:yolov5:video 1/1 (34/251) /Users/jurie.germishuys/Workspace/odf/koster-uw/models/yolov5/tutorials/test_vid/000203 TMBL-ROV 2000 Säcken EJ numrerade band_90.mp4: 512x640 (no detections), 5492.4ms\n",
      "INFO:yolov5:video 1/1 (35/251) /Users/jurie.germishuys/Workspace/odf/koster-uw/models/yolov5/tutorials/test_vid/000203 TMBL-ROV 2000 Säcken EJ numrerade band_90.mp4: 512x640 (no detections), 5546.4ms\n",
      "INFO:yolov5:video 1/1 (36/251) /Users/jurie.germishuys/Workspace/odf/koster-uw/models/yolov5/tutorials/test_vid/000203 TMBL-ROV 2000 Säcken EJ numrerade band_90.mp4: 512x640 (no detections), 5493.8ms\n",
      "INFO:yolov5:video 1/1 (37/251) /Users/jurie.germishuys/Workspace/odf/koster-uw/models/yolov5/tutorials/test_vid/000203 TMBL-ROV 2000 Säcken EJ numrerade band_90.mp4: 512x640 (no detections), 5347.6ms\n",
      "INFO:yolov5:video 1/1 (38/251) /Users/jurie.germishuys/Workspace/odf/koster-uw/models/yolov5/tutorials/test_vid/000203 TMBL-ROV 2000 Säcken EJ numrerade band_90.mp4: 512x640 (no detections), 5417.9ms\n",
      "INFO:yolov5:video 1/1 (39/251) /Users/jurie.germishuys/Workspace/odf/koster-uw/models/yolov5/tutorials/test_vid/000203 TMBL-ROV 2000 Säcken EJ numrerade band_90.mp4: 512x640 (no detections), 5657.2ms\n",
      "INFO:yolov5:video 1/1 (40/251) /Users/jurie.germishuys/Workspace/odf/koster-uw/models/yolov5/tutorials/test_vid/000203 TMBL-ROV 2000 Säcken EJ numrerade band_90.mp4: 512x640 (no detections), 5406.1ms\n",
      "INFO:yolov5:video 1/1 (41/251) /Users/jurie.germishuys/Workspace/odf/koster-uw/models/yolov5/tutorials/test_vid/000203 TMBL-ROV 2000 Säcken EJ numrerade band_90.mp4: 512x640 (no detections), 5538.7ms\n",
      "INFO:yolov5:video 1/1 (42/251) /Users/jurie.germishuys/Workspace/odf/koster-uw/models/yolov5/tutorials/test_vid/000203 TMBL-ROV 2000 Säcken EJ numrerade band_90.mp4: 512x640 (no detections), 5443.0ms\n",
      "INFO:yolov5:video 1/1 (43/251) /Users/jurie.germishuys/Workspace/odf/koster-uw/models/yolov5/tutorials/test_vid/000203 TMBL-ROV 2000 Säcken EJ numrerade band_90.mp4: 512x640 (no detections), 5467.8ms\n",
      "INFO:yolov5:video 1/1 (44/251) /Users/jurie.germishuys/Workspace/odf/koster-uw/models/yolov5/tutorials/test_vid/000203 TMBL-ROV 2000 Säcken EJ numrerade band_90.mp4: 512x640 (no detections), 5616.6ms\n",
      "INFO:yolov5:video 1/1 (45/251) /Users/jurie.germishuys/Workspace/odf/koster-uw/models/yolov5/tutorials/test_vid/000203 TMBL-ROV 2000 Säcken EJ numrerade band_90.mp4: 512x640 (no detections), 5768.5ms\n",
      "INFO:yolov5:video 1/1 (46/251) /Users/jurie.germishuys/Workspace/odf/koster-uw/models/yolov5/tutorials/test_vid/000203 TMBL-ROV 2000 Säcken EJ numrerade band_90.mp4: 512x640 (no detections), 5633.8ms\n",
      "INFO:yolov5:video 1/1 (47/251) /Users/jurie.germishuys/Workspace/odf/koster-uw/models/yolov5/tutorials/test_vid/000203 TMBL-ROV 2000 Säcken EJ numrerade band_90.mp4: 512x640 (no detections), 5536.6ms\n",
      "INFO:yolov5:video 1/1 (48/251) /Users/jurie.germishuys/Workspace/odf/koster-uw/models/yolov5/tutorials/test_vid/000203 TMBL-ROV 2000 Säcken EJ numrerade band_90.mp4: 512x640 (no detections), 5405.9ms\n",
      "INFO:yolov5:video 1/1 (49/251) /Users/jurie.germishuys/Workspace/odf/koster-uw/models/yolov5/tutorials/test_vid/000203 TMBL-ROV 2000 Säcken EJ numrerade band_90.mp4: 512x640 (no detections), 5427.9ms\n",
      "INFO:yolov5:video 1/1 (50/251) /Users/jurie.germishuys/Workspace/odf/koster-uw/models/yolov5/tutorials/test_vid/000203 TMBL-ROV 2000 Säcken EJ numrerade band_90.mp4: 512x640 (no detections), 5612.7ms\n",
      "INFO:yolov5:video 1/1 (51/251) /Users/jurie.germishuys/Workspace/odf/koster-uw/models/yolov5/tutorials/test_vid/000203 TMBL-ROV 2000 Säcken EJ numrerade band_90.mp4: 512x640 (no detections), 5508.8ms\n",
      "INFO:yolov5:video 1/1 (52/251) /Users/jurie.germishuys/Workspace/odf/koster-uw/models/yolov5/tutorials/test_vid/000203 TMBL-ROV 2000 Säcken EJ numrerade band_90.mp4: 512x640 (no detections), 5465.7ms\n",
      "INFO:yolov5:video 1/1 (53/251) /Users/jurie.germishuys/Workspace/odf/koster-uw/models/yolov5/tutorials/test_vid/000203 TMBL-ROV 2000 Säcken EJ numrerade band_90.mp4: 512x640 (no detections), 5386.3ms\n",
      "INFO:yolov5:video 1/1 (54/251) /Users/jurie.germishuys/Workspace/odf/koster-uw/models/yolov5/tutorials/test_vid/000203 TMBL-ROV 2000 Säcken EJ numrerade band_90.mp4: 512x640 (no detections), 5365.8ms\n",
      "INFO:yolov5:video 1/1 (55/251) /Users/jurie.germishuys/Workspace/odf/koster-uw/models/yolov5/tutorials/test_vid/000203 TMBL-ROV 2000 Säcken EJ numrerade band_90.mp4: 512x640 (no detections), 5480.0ms\n",
      "INFO:yolov5:video 1/1 (56/251) /Users/jurie.germishuys/Workspace/odf/koster-uw/models/yolov5/tutorials/test_vid/000203 TMBL-ROV 2000 Säcken EJ numrerade band_90.mp4: 512x640 (no detections), 5622.0ms\n",
      "INFO:yolov5:video 1/1 (57/251) /Users/jurie.germishuys/Workspace/odf/koster-uw/models/yolov5/tutorials/test_vid/000203 TMBL-ROV 2000 Säcken EJ numrerade band_90.mp4: 512x640 (no detections), 5438.7ms\n",
      "INFO:yolov5:video 1/1 (58/251) /Users/jurie.germishuys/Workspace/odf/koster-uw/models/yolov5/tutorials/test_vid/000203 TMBL-ROV 2000 Säcken EJ numrerade band_90.mp4: 512x640 (no detections), 5514.2ms\n",
      "INFO:yolov5:video 1/1 (59/251) /Users/jurie.germishuys/Workspace/odf/koster-uw/models/yolov5/tutorials/test_vid/000203 TMBL-ROV 2000 Säcken EJ numrerade band_90.mp4: 512x640 (no detections), 5338.2ms\n",
      "INFO:yolov5:video 1/1 (60/251) /Users/jurie.germishuys/Workspace/odf/koster-uw/models/yolov5/tutorials/test_vid/000203 TMBL-ROV 2000 Säcken EJ numrerade band_90.mp4: 512x640 (no detections), 5510.4ms\n",
      "INFO:yolov5:video 1/1 (61/251) /Users/jurie.germishuys/Workspace/odf/koster-uw/models/yolov5/tutorials/test_vid/000203 TMBL-ROV 2000 Säcken EJ numrerade band_90.mp4: 512x640 (no detections), 5759.5ms\n",
      "INFO:yolov5:video 1/1 (62/251) /Users/jurie.germishuys/Workspace/odf/koster-uw/models/yolov5/tutorials/test_vid/000203 TMBL-ROV 2000 Säcken EJ numrerade band_90.mp4: 512x640 (no detections), 5444.4ms\n",
      "INFO:yolov5:video 1/1 (63/251) /Users/jurie.germishuys/Workspace/odf/koster-uw/models/yolov5/tutorials/test_vid/000203 TMBL-ROV 2000 Säcken EJ numrerade band_90.mp4: 512x640 (no detections), 5585.0ms\n",
      "INFO:yolov5:video 1/1 (64/251) /Users/jurie.germishuys/Workspace/odf/koster-uw/models/yolov5/tutorials/test_vid/000203 TMBL-ROV 2000 Säcken EJ numrerade band_90.mp4: 512x640 (no detections), 5679.2ms\n",
      "INFO:yolov5:video 1/1 (65/251) /Users/jurie.germishuys/Workspace/odf/koster-uw/models/yolov5/tutorials/test_vid/000203 TMBL-ROV 2000 Säcken EJ numrerade band_90.mp4: 512x640 (no detections), 6347.4ms\n",
      "INFO:yolov5:video 1/1 (66/251) /Users/jurie.germishuys/Workspace/odf/koster-uw/models/yolov5/tutorials/test_vid/000203 TMBL-ROV 2000 Säcken EJ numrerade band_90.mp4: 512x640 (no detections), 5897.1ms\n",
      "INFO:yolov5:video 1/1 (67/251) /Users/jurie.germishuys/Workspace/odf/koster-uw/models/yolov5/tutorials/test_vid/000203 TMBL-ROV 2000 Säcken EJ numrerade band_90.mp4: 512x640 (no detections), 7350.5ms\n",
      "INFO:yolov5:video 1/1 (68/251) /Users/jurie.germishuys/Workspace/odf/koster-uw/models/yolov5/tutorials/test_vid/000203 TMBL-ROV 2000 Säcken EJ numrerade band_90.mp4: 512x640 (no detections), 5604.4ms\n",
      "INFO:yolov5:video 1/1 (69/251) /Users/jurie.germishuys/Workspace/odf/koster-uw/models/yolov5/tutorials/test_vid/000203 TMBL-ROV 2000 Säcken EJ numrerade band_90.mp4: 512x640 (no detections), 5480.3ms\n",
      "INFO:yolov5:video 1/1 (70/251) /Users/jurie.germishuys/Workspace/odf/koster-uw/models/yolov5/tutorials/test_vid/000203 TMBL-ROV 2000 Säcken EJ numrerade band_90.mp4: 512x640 (no detections), 5525.9ms\n",
      "INFO:yolov5:video 1/1 (71/251) /Users/jurie.germishuys/Workspace/odf/koster-uw/models/yolov5/tutorials/test_vid/000203 TMBL-ROV 2000 Säcken EJ numrerade band_90.mp4: 512x640 (no detections), 5825.4ms\n",
      "INFO:yolov5:video 1/1 (72/251) /Users/jurie.germishuys/Workspace/odf/koster-uw/models/yolov5/tutorials/test_vid/000203 TMBL-ROV 2000 Säcken EJ numrerade band_90.mp4: 512x640 (no detections), 5509.3ms\n",
      "INFO:yolov5:video 1/1 (73/251) /Users/jurie.germishuys/Workspace/odf/koster-uw/models/yolov5/tutorials/test_vid/000203 TMBL-ROV 2000 Säcken EJ numrerade band_90.mp4: 512x640 (no detections), 5436.4ms\n",
      "INFO:yolov5:video 1/1 (74/251) /Users/jurie.germishuys/Workspace/odf/koster-uw/models/yolov5/tutorials/test_vid/000203 TMBL-ROV 2000 Säcken EJ numrerade band_90.mp4: 512x640 (no detections), 5472.4ms\n",
      "INFO:yolov5:video 1/1 (75/251) /Users/jurie.germishuys/Workspace/odf/koster-uw/models/yolov5/tutorials/test_vid/000203 TMBL-ROV 2000 Säcken EJ numrerade band_90.mp4: 512x640 (no detections), 5423.3ms\n",
      "INFO:yolov5:video 1/1 (76/251) /Users/jurie.germishuys/Workspace/odf/koster-uw/models/yolov5/tutorials/test_vid/000203 TMBL-ROV 2000 Säcken EJ numrerade band_90.mp4: 512x640 (no detections), 5718.8ms\n",
      "INFO:yolov5:video 1/1 (77/251) /Users/jurie.germishuys/Workspace/odf/koster-uw/models/yolov5/tutorials/test_vid/000203 TMBL-ROV 2000 Säcken EJ numrerade band_90.mp4: 512x640 (no detections), 5635.0ms\n",
      "INFO:yolov5:video 1/1 (78/251) /Users/jurie.germishuys/Workspace/odf/koster-uw/models/yolov5/tutorials/test_vid/000203 TMBL-ROV 2000 Säcken EJ numrerade band_90.mp4: 512x640 (no detections), 5520.2ms\n",
      "INFO:yolov5:video 1/1 (79/251) /Users/jurie.germishuys/Workspace/odf/koster-uw/models/yolov5/tutorials/test_vid/000203 TMBL-ROV 2000 Säcken EJ numrerade band_90.mp4: 512x640 (no detections), 5556.3ms\n",
      "INFO:yolov5:video 1/1 (80/251) /Users/jurie.germishuys/Workspace/odf/koster-uw/models/yolov5/tutorials/test_vid/000203 TMBL-ROV 2000 Säcken EJ numrerade band_90.mp4: 512x640 (no detections), 5467.1ms\n",
      "INFO:yolov5:video 1/1 (81/251) /Users/jurie.germishuys/Workspace/odf/koster-uw/models/yolov5/tutorials/test_vid/000203 TMBL-ROV 2000 Säcken EJ numrerade band_90.mp4: 512x640 (no detections), 5685.9ms\n",
      "INFO:yolov5:video 1/1 (82/251) /Users/jurie.germishuys/Workspace/odf/koster-uw/models/yolov5/tutorials/test_vid/000203 TMBL-ROV 2000 Säcken EJ numrerade band_90.mp4: 512x640 (no detections), 5753.3ms\n",
      "INFO:yolov5:video 1/1 (83/251) /Users/jurie.germishuys/Workspace/odf/koster-uw/models/yolov5/tutorials/test_vid/000203 TMBL-ROV 2000 Säcken EJ numrerade band_90.mp4: 512x640 (no detections), 5478.2ms\n",
      "INFO:yolov5:video 1/1 (84/251) /Users/jurie.germishuys/Workspace/odf/koster-uw/models/yolov5/tutorials/test_vid/000203 TMBL-ROV 2000 Säcken EJ numrerade band_90.mp4: 512x640 (no detections), 5424.9ms\n",
      "INFO:yolov5:video 1/1 (85/251) /Users/jurie.germishuys/Workspace/odf/koster-uw/models/yolov5/tutorials/test_vid/000203 TMBL-ROV 2000 Säcken EJ numrerade band_90.mp4: 512x640 (no detections), 5457.3ms\n",
      "INFO:yolov5:video 1/1 (86/251) /Users/jurie.germishuys/Workspace/odf/koster-uw/models/yolov5/tutorials/test_vid/000203 TMBL-ROV 2000 Säcken EJ numrerade band_90.mp4: 512x640 (no detections), 5494.4ms\n",
      "INFO:yolov5:video 1/1 (87/251) /Users/jurie.germishuys/Workspace/odf/koster-uw/models/yolov5/tutorials/test_vid/000203 TMBL-ROV 2000 Säcken EJ numrerade band_90.mp4: 512x640 (no detections), 5752.6ms\n",
      "INFO:yolov5:video 1/1 (88/251) /Users/jurie.germishuys/Workspace/odf/koster-uw/models/yolov5/tutorials/test_vid/000203 TMBL-ROV 2000 Säcken EJ numrerade band_90.mp4: 512x640 (no detections), 5657.1ms\n",
      "INFO:yolov5:video 1/1 (89/251) /Users/jurie.germishuys/Workspace/odf/koster-uw/models/yolov5/tutorials/test_vid/000203 TMBL-ROV 2000 Säcken EJ numrerade band_90.mp4: 512x640 (no detections), 5486.8ms\n",
      "INFO:yolov5:video 1/1 (90/251) /Users/jurie.germishuys/Workspace/odf/koster-uw/models/yolov5/tutorials/test_vid/000203 TMBL-ROV 2000 Säcken EJ numrerade band_90.mp4: 512x640 (no detections), 5532.1ms\n",
      "INFO:yolov5:video 1/1 (91/251) /Users/jurie.germishuys/Workspace/odf/koster-uw/models/yolov5/tutorials/test_vid/000203 TMBL-ROV 2000 Säcken EJ numrerade band_90.mp4: 512x640 (no detections), 5571.7ms\n",
      "INFO:yolov5:video 1/1 (92/251) /Users/jurie.germishuys/Workspace/odf/koster-uw/models/yolov5/tutorials/test_vid/000203 TMBL-ROV 2000 Säcken EJ numrerade band_90.mp4: 512x640 (no detections), 5513.0ms\n",
      "INFO:yolov5:video 1/1 (93/251) /Users/jurie.germishuys/Workspace/odf/koster-uw/models/yolov5/tutorials/test_vid/000203 TMBL-ROV 2000 Säcken EJ numrerade band_90.mp4: 512x640 (no detections), 5696.0ms\n",
      "INFO:yolov5:video 1/1 (94/251) /Users/jurie.germishuys/Workspace/odf/koster-uw/models/yolov5/tutorials/test_vid/000203 TMBL-ROV 2000 Säcken EJ numrerade band_90.mp4: 512x640 (no detections), 5659.8ms\n",
      "INFO:yolov5:video 1/1 (95/251) /Users/jurie.germishuys/Workspace/odf/koster-uw/models/yolov5/tutorials/test_vid/000203 TMBL-ROV 2000 Säcken EJ numrerade band_90.mp4: 512x640 (no detections), 5458.0ms\n",
      "INFO:yolov5:video 1/1 (96/251) /Users/jurie.germishuys/Workspace/odf/koster-uw/models/yolov5/tutorials/test_vid/000203 TMBL-ROV 2000 Säcken EJ numrerade band_90.mp4: 512x640 (no detections), 5406.0ms\n",
      "INFO:yolov5:video 1/1 (97/251) /Users/jurie.germishuys/Workspace/odf/koster-uw/models/yolov5/tutorials/test_vid/000203 TMBL-ROV 2000 Säcken EJ numrerade band_90.mp4: 512x640 (no detections), 5379.8ms\n",
      "INFO:yolov5:video 1/1 (98/251) /Users/jurie.germishuys/Workspace/odf/koster-uw/models/yolov5/tutorials/test_vid/000203 TMBL-ROV 2000 Säcken EJ numrerade band_90.mp4: 512x640 (no detections), 5641.7ms\n",
      "INFO:yolov5:video 1/1 (99/251) /Users/jurie.germishuys/Workspace/odf/koster-uw/models/yolov5/tutorials/test_vid/000203 TMBL-ROV 2000 Säcken EJ numrerade band_90.mp4: 512x640 (no detections), 5446.3ms\n",
      "INFO:yolov5:video 1/1 (100/251) /Users/jurie.germishuys/Workspace/odf/koster-uw/models/yolov5/tutorials/test_vid/000203 TMBL-ROV 2000 Säcken EJ numrerade band_90.mp4: 512x640 (no detections), 5667.4ms\n",
      "INFO:yolov5:video 1/1 (101/251) /Users/jurie.germishuys/Workspace/odf/koster-uw/models/yolov5/tutorials/test_vid/000203 TMBL-ROV 2000 Säcken EJ numrerade band_90.mp4: 512x640 (no detections), 5427.7ms\n",
      "INFO:yolov5:video 1/1 (102/251) /Users/jurie.germishuys/Workspace/odf/koster-uw/models/yolov5/tutorials/test_vid/000203 TMBL-ROV 2000 Säcken EJ numrerade band_90.mp4: 512x640 (no detections), 5377.1ms\n",
      "INFO:yolov5:video 1/1 (103/251) /Users/jurie.germishuys/Workspace/odf/koster-uw/models/yolov5/tutorials/test_vid/000203 TMBL-ROV 2000 Säcken EJ numrerade band_90.mp4: 512x640 (no detections), 5576.6ms\n",
      "INFO:yolov5:video 1/1 (104/251) /Users/jurie.germishuys/Workspace/odf/koster-uw/models/yolov5/tutorials/test_vid/000203 TMBL-ROV 2000 Säcken EJ numrerade band_90.mp4: 512x640 (no detections), 5390.8ms\n",
      "INFO:yolov5:video 1/1 (105/251) /Users/jurie.germishuys/Workspace/odf/koster-uw/models/yolov5/tutorials/test_vid/000203 TMBL-ROV 2000 Säcken EJ numrerade band_90.mp4: 512x640 (no detections), 5508.4ms\n",
      "INFO:yolov5:video 1/1 (106/251) /Users/jurie.germishuys/Workspace/odf/koster-uw/models/yolov5/tutorials/test_vid/000203 TMBL-ROV 2000 Säcken EJ numrerade band_90.mp4: 512x640 (no detections), 5403.3ms\n",
      "INFO:yolov5:video 1/1 (107/251) /Users/jurie.germishuys/Workspace/odf/koster-uw/models/yolov5/tutorials/test_vid/000203 TMBL-ROV 2000 Säcken EJ numrerade band_90.mp4: 512x640 (no detections), 5372.1ms\n",
      "INFO:yolov5:video 1/1 (108/251) /Users/jurie.germishuys/Workspace/odf/koster-uw/models/yolov5/tutorials/test_vid/000203 TMBL-ROV 2000 Säcken EJ numrerade band_90.mp4: 512x640 (no detections), 5433.1ms\n",
      "INFO:yolov5:video 1/1 (109/251) /Users/jurie.germishuys/Workspace/odf/koster-uw/models/yolov5/tutorials/test_vid/000203 TMBL-ROV 2000 Säcken EJ numrerade band_90.mp4: 512x640 (no detections), 5596.4ms\n",
      "INFO:yolov5:video 1/1 (110/251) /Users/jurie.germishuys/Workspace/odf/koster-uw/models/yolov5/tutorials/test_vid/000203 TMBL-ROV 2000 Säcken EJ numrerade band_90.mp4: 512x640 (no detections), 5689.0ms\n",
      "INFO:yolov5:video 1/1 (111/251) /Users/jurie.germishuys/Workspace/odf/koster-uw/models/yolov5/tutorials/test_vid/000203 TMBL-ROV 2000 Säcken EJ numrerade band_90.mp4: 512x640 (no detections), 5602.5ms\n",
      "INFO:yolov5:video 1/1 (112/251) /Users/jurie.germishuys/Workspace/odf/koster-uw/models/yolov5/tutorials/test_vid/000203 TMBL-ROV 2000 Säcken EJ numrerade band_90.mp4: 512x640 (no detections), 5509.2ms\n",
      "INFO:yolov5:video 1/1 (113/251) /Users/jurie.germishuys/Workspace/odf/koster-uw/models/yolov5/tutorials/test_vid/000203 TMBL-ROV 2000 Säcken EJ numrerade band_90.mp4: 512x640 (no detections), 5370.1ms\n",
      "INFO:yolov5:video 1/1 (114/251) /Users/jurie.germishuys/Workspace/odf/koster-uw/models/yolov5/tutorials/test_vid/000203 TMBL-ROV 2000 Säcken EJ numrerade band_90.mp4: 512x640 (no detections), 5582.2ms\n",
      "INFO:yolov5:video 1/1 (115/251) /Users/jurie.germishuys/Workspace/odf/koster-uw/models/yolov5/tutorials/test_vid/000203 TMBL-ROV 2000 Säcken EJ numrerade band_90.mp4: 512x640 (no detections), 5429.2ms\n",
      "INFO:yolov5:video 1/1 (116/251) /Users/jurie.germishuys/Workspace/odf/koster-uw/models/yolov5/tutorials/test_vid/000203 TMBL-ROV 2000 Säcken EJ numrerade band_90.mp4: 512x640 (no detections), 5872.4ms\n",
      "INFO:yolov5:video 1/1 (117/251) /Users/jurie.germishuys/Workspace/odf/koster-uw/models/yolov5/tutorials/test_vid/000203 TMBL-ROV 2000 Säcken EJ numrerade band_90.mp4: 512x640 (no detections), 5700.5ms\n",
      "INFO:yolov5:video 1/1 (118/251) /Users/jurie.germishuys/Workspace/odf/koster-uw/models/yolov5/tutorials/test_vid/000203 TMBL-ROV 2000 Säcken EJ numrerade band_90.mp4: 512x640 (no detections), 5569.9ms\n",
      "INFO:yolov5:video 1/1 (119/251) /Users/jurie.germishuys/Workspace/odf/koster-uw/models/yolov5/tutorials/test_vid/000203 TMBL-ROV 2000 Säcken EJ numrerade band_90.mp4: 512x640 (no detections), 5504.6ms\n",
      "INFO:yolov5:video 1/1 (120/251) /Users/jurie.germishuys/Workspace/odf/koster-uw/models/yolov5/tutorials/test_vid/000203 TMBL-ROV 2000 Säcken EJ numrerade band_90.mp4: 512x640 (no detections), 5638.6ms\n",
      "INFO:yolov5:video 1/1 (121/251) /Users/jurie.germishuys/Workspace/odf/koster-uw/models/yolov5/tutorials/test_vid/000203 TMBL-ROV 2000 Säcken EJ numrerade band_90.mp4: 512x640 (no detections), 5789.9ms\n",
      "INFO:yolov5:video 1/1 (122/251) /Users/jurie.germishuys/Workspace/odf/koster-uw/models/yolov5/tutorials/test_vid/000203 TMBL-ROV 2000 Säcken EJ numrerade band_90.mp4: 512x640 (no detections), 5673.3ms\n",
      "INFO:yolov5:video 1/1 (123/251) /Users/jurie.germishuys/Workspace/odf/koster-uw/models/yolov5/tutorials/test_vid/000203 TMBL-ROV 2000 Säcken EJ numrerade band_90.mp4: 512x640 (no detections), 5597.4ms\n",
      "INFO:yolov5:video 1/1 (124/251) /Users/jurie.germishuys/Workspace/odf/koster-uw/models/yolov5/tutorials/test_vid/000203 TMBL-ROV 2000 Säcken EJ numrerade band_90.mp4: 512x640 (no detections), 5829.3ms\n",
      "INFO:yolov5:video 1/1 (125/251) /Users/jurie.germishuys/Workspace/odf/koster-uw/models/yolov5/tutorials/test_vid/000203 TMBL-ROV 2000 Säcken EJ numrerade band_90.mp4: 512x640 (no detections), 6279.9ms\n",
      "INFO:yolov5:video 1/1 (126/251) /Users/jurie.germishuys/Workspace/odf/koster-uw/models/yolov5/tutorials/test_vid/000203 TMBL-ROV 2000 Säcken EJ numrerade band_90.mp4: 512x640 (no detections), 5818.3ms\n",
      "INFO:yolov5:video 1/1 (127/251) /Users/jurie.germishuys/Workspace/odf/koster-uw/models/yolov5/tutorials/test_vid/000203 TMBL-ROV 2000 Säcken EJ numrerade band_90.mp4: 512x640 (no detections), 5668.9ms\n",
      "INFO:yolov5:video 1/1 (128/251) /Users/jurie.germishuys/Workspace/odf/koster-uw/models/yolov5/tutorials/test_vid/000203 TMBL-ROV 2000 Säcken EJ numrerade band_90.mp4: 512x640 (no detections), 6509.8ms\n",
      "INFO:yolov5:video 1/1 (129/251) /Users/jurie.germishuys/Workspace/odf/koster-uw/models/yolov5/tutorials/test_vid/000203 TMBL-ROV 2000 Säcken EJ numrerade band_90.mp4: 512x640 (no detections), 6061.0ms\n",
      "INFO:yolov5:video 1/1 (130/251) /Users/jurie.germishuys/Workspace/odf/koster-uw/models/yolov5/tutorials/test_vid/000203 TMBL-ROV 2000 Säcken EJ numrerade band_90.mp4: 512x640 (no detections), 6135.7ms\n",
      "INFO:yolov5:video 1/1 (131/251) /Users/jurie.germishuys/Workspace/odf/koster-uw/models/yolov5/tutorials/test_vid/000203 TMBL-ROV 2000 Säcken EJ numrerade band_90.mp4: 512x640 (no detections), 5910.5ms\n",
      "INFO:yolov5:video 1/1 (132/251) /Users/jurie.germishuys/Workspace/odf/koster-uw/models/yolov5/tutorials/test_vid/000203 TMBL-ROV 2000 Säcken EJ numrerade band_90.mp4: 512x640 (no detections), 6123.3ms\n",
      "INFO:yolov5:video 1/1 (133/251) /Users/jurie.germishuys/Workspace/odf/koster-uw/models/yolov5/tutorials/test_vid/000203 TMBL-ROV 2000 Säcken EJ numrerade band_90.mp4: 512x640 (no detections), 6503.6ms\n",
      "INFO:yolov5:video 1/1 (134/251) /Users/jurie.germishuys/Workspace/odf/koster-uw/models/yolov5/tutorials/test_vid/000203 TMBL-ROV 2000 Säcken EJ numrerade band_90.mp4: 512x640 (no detections), 6743.3ms\n",
      "INFO:yolov5:video 1/1 (135/251) /Users/jurie.germishuys/Workspace/odf/koster-uw/models/yolov5/tutorials/test_vid/000203 TMBL-ROV 2000 Säcken EJ numrerade band_90.mp4: 512x640 (no detections), 6293.5ms\n",
      "INFO:yolov5:video 1/1 (136/251) /Users/jurie.germishuys/Workspace/odf/koster-uw/models/yolov5/tutorials/test_vid/000203 TMBL-ROV 2000 Säcken EJ numrerade band_90.mp4: 512x640 (no detections), 6151.1ms\n",
      "INFO:yolov5:video 1/1 (137/251) /Users/jurie.germishuys/Workspace/odf/koster-uw/models/yolov5/tutorials/test_vid/000203 TMBL-ROV 2000 Säcken EJ numrerade band_90.mp4: 512x640 (no detections), 6093.3ms\n",
      "INFO:yolov5:video 1/1 (138/251) /Users/jurie.germishuys/Workspace/odf/koster-uw/models/yolov5/tutorials/test_vid/000203 TMBL-ROV 2000 Säcken EJ numrerade band_90.mp4: 512x640 (no detections), 5807.4ms\n",
      "INFO:yolov5:video 1/1 (139/251) /Users/jurie.germishuys/Workspace/odf/koster-uw/models/yolov5/tutorials/test_vid/000203 TMBL-ROV 2000 Säcken EJ numrerade band_90.mp4: 512x640 (no detections), 5602.1ms\n",
      "INFO:yolov5:video 1/1 (140/251) /Users/jurie.germishuys/Workspace/odf/koster-uw/models/yolov5/tutorials/test_vid/000203 TMBL-ROV 2000 Säcken EJ numrerade band_90.mp4: 512x640 (no detections), 5928.9ms\n",
      "INFO:yolov5:video 1/1 (141/251) /Users/jurie.germishuys/Workspace/odf/koster-uw/models/yolov5/tutorials/test_vid/000203 TMBL-ROV 2000 Säcken EJ numrerade band_90.mp4: 512x640 (no detections), 5745.5ms\n",
      "INFO:yolov5:video 1/1 (142/251) /Users/jurie.germishuys/Workspace/odf/koster-uw/models/yolov5/tutorials/test_vid/000203 TMBL-ROV 2000 Säcken EJ numrerade band_90.mp4: 512x640 (no detections), 5688.8ms\n",
      "INFO:yolov5:video 1/1 (143/251) /Users/jurie.germishuys/Workspace/odf/koster-uw/models/yolov5/tutorials/test_vid/000203 TMBL-ROV 2000 Säcken EJ numrerade band_90.mp4: 512x640 (no detections), 5392.5ms\n",
      "INFO:yolov5:video 1/1 (144/251) /Users/jurie.germishuys/Workspace/odf/koster-uw/models/yolov5/tutorials/test_vid/000203 TMBL-ROV 2000 Säcken EJ numrerade band_90.mp4: 512x640 (no detections), 5637.3ms\n",
      "INFO:yolov5:video 1/1 (145/251) /Users/jurie.germishuys/Workspace/odf/koster-uw/models/yolov5/tutorials/test_vid/000203 TMBL-ROV 2000 Säcken EJ numrerade band_90.mp4: 512x640 (no detections), 6239.6ms\n",
      "INFO:yolov5:video 1/1 (146/251) /Users/jurie.germishuys/Workspace/odf/koster-uw/models/yolov5/tutorials/test_vid/000203 TMBL-ROV 2000 Säcken EJ numrerade band_90.mp4: 512x640 (no detections), 6981.2ms\n",
      "INFO:yolov5:video 1/1 (147/251) /Users/jurie.germishuys/Workspace/odf/koster-uw/models/yolov5/tutorials/test_vid/000203 TMBL-ROV 2000 Säcken EJ numrerade band_90.mp4: 512x640 (no detections), 6176.1ms\n",
      "INFO:yolov5:video 1/1 (148/251) /Users/jurie.germishuys/Workspace/odf/koster-uw/models/yolov5/tutorials/test_vid/000203 TMBL-ROV 2000 Säcken EJ numrerade band_90.mp4: 512x640 (no detections), 5844.8ms\n",
      "INFO:yolov5:video 1/1 (149/251) /Users/jurie.germishuys/Workspace/odf/koster-uw/models/yolov5/tutorials/test_vid/000203 TMBL-ROV 2000 Säcken EJ numrerade band_90.mp4: 512x640 (no detections), 8351.7ms\n",
      "INFO:yolov5:video 1/1 (150/251) /Users/jurie.germishuys/Workspace/odf/koster-uw/models/yolov5/tutorials/test_vid/000203 TMBL-ROV 2000 Säcken EJ numrerade band_90.mp4: 512x640 (no detections), 6527.0ms\n",
      "INFO:yolov5:video 1/1 (151/251) /Users/jurie.germishuys/Workspace/odf/koster-uw/models/yolov5/tutorials/test_vid/000203 TMBL-ROV 2000 Säcken EJ numrerade band_90.mp4: 512x640 (no detections), 5844.4ms\n",
      "INFO:yolov5:video 1/1 (152/251) /Users/jurie.germishuys/Workspace/odf/koster-uw/models/yolov5/tutorials/test_vid/000203 TMBL-ROV 2000 Säcken EJ numrerade band_90.mp4: 512x640 (no detections), 6755.3ms\n",
      "INFO:yolov5:video 1/1 (153/251) /Users/jurie.germishuys/Workspace/odf/koster-uw/models/yolov5/tutorials/test_vid/000203 TMBL-ROV 2000 Säcken EJ numrerade band_90.mp4: 512x640 (no detections), 5732.5ms\n",
      "INFO:yolov5:video 1/1 (154/251) /Users/jurie.germishuys/Workspace/odf/koster-uw/models/yolov5/tutorials/test_vid/000203 TMBL-ROV 2000 Säcken EJ numrerade band_90.mp4: 512x640 (no detections), 6473.9ms\n",
      "INFO:yolov5:video 1/1 (155/251) /Users/jurie.germishuys/Workspace/odf/koster-uw/models/yolov5/tutorials/test_vid/000203 TMBL-ROV 2000 Säcken EJ numrerade band_90.mp4: 512x640 (no detections), 6129.8ms\n",
      "INFO:yolov5:video 1/1 (156/251) /Users/jurie.germishuys/Workspace/odf/koster-uw/models/yolov5/tutorials/test_vid/000203 TMBL-ROV 2000 Säcken EJ numrerade band_90.mp4: 512x640 (no detections), 5408.6ms\n",
      "INFO:yolov5:video 1/1 (157/251) /Users/jurie.germishuys/Workspace/odf/koster-uw/models/yolov5/tutorials/test_vid/000203 TMBL-ROV 2000 Säcken EJ numrerade band_90.mp4: 512x640 (no detections), 5451.2ms\n",
      "INFO:yolov5:video 1/1 (158/251) /Users/jurie.germishuys/Workspace/odf/koster-uw/models/yolov5/tutorials/test_vid/000203 TMBL-ROV 2000 Säcken EJ numrerade band_90.mp4: 512x640 (no detections), 5580.4ms\n",
      "INFO:yolov5:video 1/1 (159/251) /Users/jurie.germishuys/Workspace/odf/koster-uw/models/yolov5/tutorials/test_vid/000203 TMBL-ROV 2000 Säcken EJ numrerade band_90.mp4: 512x640 (no detections), 5776.2ms\n",
      "INFO:yolov5:video 1/1 (160/251) /Users/jurie.germishuys/Workspace/odf/koster-uw/models/yolov5/tutorials/test_vid/000203 TMBL-ROV 2000 Säcken EJ numrerade band_90.mp4: 512x640 (no detections), 5639.6ms\n",
      "INFO:yolov5:video 1/1 (161/251) /Users/jurie.germishuys/Workspace/odf/koster-uw/models/yolov5/tutorials/test_vid/000203 TMBL-ROV 2000 Säcken EJ numrerade band_90.mp4: 512x640 (no detections), 5601.9ms\n",
      "INFO:yolov5:video 1/1 (162/251) /Users/jurie.germishuys/Workspace/odf/koster-uw/models/yolov5/tutorials/test_vid/000203 TMBL-ROV 2000 Säcken EJ numrerade band_90.mp4: 512x640 (no detections), 5480.9ms\n",
      "INFO:yolov5:video 1/1 (163/251) /Users/jurie.germishuys/Workspace/odf/koster-uw/models/yolov5/tutorials/test_vid/000203 TMBL-ROV 2000 Säcken EJ numrerade band_90.mp4: 512x640 (no detections), 5670.4ms\n",
      "INFO:yolov5:video 1/1 (164/251) /Users/jurie.germishuys/Workspace/odf/koster-uw/models/yolov5/tutorials/test_vid/000203 TMBL-ROV 2000 Säcken EJ numrerade band_90.mp4: 512x640 (no detections), 6575.1ms\n",
      "INFO:yolov5:video 1/1 (165/251) /Users/jurie.germishuys/Workspace/odf/koster-uw/models/yolov5/tutorials/test_vid/000203 TMBL-ROV 2000 Säcken EJ numrerade band_90.mp4: 512x640 (no detections), 5750.4ms\n",
      "INFO:yolov5:video 1/1 (166/251) /Users/jurie.germishuys/Workspace/odf/koster-uw/models/yolov5/tutorials/test_vid/000203 TMBL-ROV 2000 Säcken EJ numrerade band_90.mp4: 512x640 (no detections), 6197.0ms\n",
      "INFO:yolov5:video 1/1 (167/251) /Users/jurie.germishuys/Workspace/odf/koster-uw/models/yolov5/tutorials/test_vid/000203 TMBL-ROV 2000 Säcken EJ numrerade band_90.mp4: 512x640 (no detections), 5658.0ms\n",
      "INFO:yolov5:video 1/1 (168/251) /Users/jurie.germishuys/Workspace/odf/koster-uw/models/yolov5/tutorials/test_vid/000203 TMBL-ROV 2000 Säcken EJ numrerade band_90.mp4: 512x640 (no detections), 6138.8ms\n",
      "INFO:yolov5:video 1/1 (169/251) /Users/jurie.germishuys/Workspace/odf/koster-uw/models/yolov5/tutorials/test_vid/000203 TMBL-ROV 2000 Säcken EJ numrerade band_90.mp4: 512x640 (no detections), 7006.2ms\n",
      "INFO:yolov5:video 1/1 (170/251) /Users/jurie.germishuys/Workspace/odf/koster-uw/models/yolov5/tutorials/test_vid/000203 TMBL-ROV 2000 Säcken EJ numrerade band_90.mp4: 512x640 (no detections), 5875.1ms\n",
      "INFO:yolov5:video 1/1 (171/251) /Users/jurie.germishuys/Workspace/odf/koster-uw/models/yolov5/tutorials/test_vid/000203 TMBL-ROV 2000 Säcken EJ numrerade band_90.mp4: 512x640 (no detections), 5752.1ms\n",
      "INFO:yolov5:video 1/1 (172/251) /Users/jurie.germishuys/Workspace/odf/koster-uw/models/yolov5/tutorials/test_vid/000203 TMBL-ROV 2000 Säcken EJ numrerade band_90.mp4: 512x640 (no detections), 5572.5ms\n",
      "INFO:yolov5:video 1/1 (173/251) /Users/jurie.germishuys/Workspace/odf/koster-uw/models/yolov5/tutorials/test_vid/000203 TMBL-ROV 2000 Säcken EJ numrerade band_90.mp4: 512x640 (no detections), 5487.7ms\n",
      "INFO:yolov5:video 1/1 (174/251) /Users/jurie.germishuys/Workspace/odf/koster-uw/models/yolov5/tutorials/test_vid/000203 TMBL-ROV 2000 Säcken EJ numrerade band_90.mp4: 512x640 (no detections), 5445.4ms\n",
      "INFO:yolov5:video 1/1 (175/251) /Users/jurie.germishuys/Workspace/odf/koster-uw/models/yolov5/tutorials/test_vid/000203 TMBL-ROV 2000 Säcken EJ numrerade band_90.mp4: 512x640 (no detections), 6330.3ms\n",
      "INFO:yolov5:video 1/1 (176/251) /Users/jurie.germishuys/Workspace/odf/koster-uw/models/yolov5/tutorials/test_vid/000203 TMBL-ROV 2000 Säcken EJ numrerade band_90.mp4: 512x640 (no detections), 5499.7ms\n",
      "INFO:yolov5:video 1/1 (177/251) /Users/jurie.germishuys/Workspace/odf/koster-uw/models/yolov5/tutorials/test_vid/000203 TMBL-ROV 2000 Säcken EJ numrerade band_90.mp4: 512x640 (no detections), 5521.7ms\n",
      "INFO:yolov5:video 1/1 (178/251) /Users/jurie.germishuys/Workspace/odf/koster-uw/models/yolov5/tutorials/test_vid/000203 TMBL-ROV 2000 Säcken EJ numrerade band_90.mp4: 512x640 (no detections), 5416.6ms\n",
      "INFO:yolov5:video 1/1 (179/251) /Users/jurie.germishuys/Workspace/odf/koster-uw/models/yolov5/tutorials/test_vid/000203 TMBL-ROV 2000 Säcken EJ numrerade band_90.mp4: 512x640 (no detections), 5391.5ms\n",
      "INFO:yolov5:video 1/1 (180/251) /Users/jurie.germishuys/Workspace/odf/koster-uw/models/yolov5/tutorials/test_vid/000203 TMBL-ROV 2000 Säcken EJ numrerade band_90.mp4: 512x640 (no detections), 5574.9ms\n",
      "INFO:yolov5:video 1/1 (181/251) /Users/jurie.germishuys/Workspace/odf/koster-uw/models/yolov5/tutorials/test_vid/000203 TMBL-ROV 2000 Säcken EJ numrerade band_90.mp4: 512x640 (no detections), 5853.3ms\n",
      "INFO:yolov5:video 1/1 (182/251) /Users/jurie.germishuys/Workspace/odf/koster-uw/models/yolov5/tutorials/test_vid/000203 TMBL-ROV 2000 Säcken EJ numrerade band_90.mp4: 512x640 (no detections), 5578.6ms\n",
      "INFO:yolov5:video 1/1 (183/251) /Users/jurie.germishuys/Workspace/odf/koster-uw/models/yolov5/tutorials/test_vid/000203 TMBL-ROV 2000 Säcken EJ numrerade band_90.mp4: 512x640 (no detections), 6023.0ms\n",
      "INFO:yolov5:video 1/1 (184/251) /Users/jurie.germishuys/Workspace/odf/koster-uw/models/yolov5/tutorials/test_vid/000203 TMBL-ROV 2000 Säcken EJ numrerade band_90.mp4: 512x640 (no detections), 5601.6ms\n",
      "INFO:yolov5:video 1/1 (185/251) /Users/jurie.germishuys/Workspace/odf/koster-uw/models/yolov5/tutorials/test_vid/000203 TMBL-ROV 2000 Säcken EJ numrerade band_90.mp4: 512x640 (no detections), 6168.3ms\n",
      "INFO:yolov5:video 1/1 (186/251) /Users/jurie.germishuys/Workspace/odf/koster-uw/models/yolov5/tutorials/test_vid/000203 TMBL-ROV 2000 Säcken EJ numrerade band_90.mp4: 512x640 (no detections), 5439.5ms\n",
      "INFO:yolov5:video 1/1 (187/251) /Users/jurie.germishuys/Workspace/odf/koster-uw/models/yolov5/tutorials/test_vid/000203 TMBL-ROV 2000 Säcken EJ numrerade band_90.mp4: 512x640 (no detections), 6559.3ms\n",
      "INFO:yolov5:video 1/1 (188/251) /Users/jurie.germishuys/Workspace/odf/koster-uw/models/yolov5/tutorials/test_vid/000203 TMBL-ROV 2000 Säcken EJ numrerade band_90.mp4: 512x640 (no detections), 5569.4ms\n",
      "INFO:yolov5:video 1/1 (189/251) /Users/jurie.germishuys/Workspace/odf/koster-uw/models/yolov5/tutorials/test_vid/000203 TMBL-ROV 2000 Säcken EJ numrerade band_90.mp4: 512x640 (no detections), 6010.8ms\n",
      "INFO:yolov5:video 1/1 (190/251) /Users/jurie.germishuys/Workspace/odf/koster-uw/models/yolov5/tutorials/test_vid/000203 TMBL-ROV 2000 Säcken EJ numrerade band_90.mp4: 512x640 (no detections), 5926.1ms\n",
      "INFO:yolov5:video 1/1 (191/251) /Users/jurie.germishuys/Workspace/odf/koster-uw/models/yolov5/tutorials/test_vid/000203 TMBL-ROV 2000 Säcken EJ numrerade band_90.mp4: 512x640 (no detections), 8133.7ms\n",
      "INFO:yolov5:video 1/1 (192/251) /Users/jurie.germishuys/Workspace/odf/koster-uw/models/yolov5/tutorials/test_vid/000203 TMBL-ROV 2000 Säcken EJ numrerade band_90.mp4: 512x640 (no detections), 5664.7ms\n",
      "INFO:yolov5:video 1/1 (193/251) /Users/jurie.germishuys/Workspace/odf/koster-uw/models/yolov5/tutorials/test_vid/000203 TMBL-ROV 2000 Säcken EJ numrerade band_90.mp4: 512x640 (no detections), 5437.5ms\n",
      "INFO:yolov5:video 1/1 (194/251) /Users/jurie.germishuys/Workspace/odf/koster-uw/models/yolov5/tutorials/test_vid/000203 TMBL-ROV 2000 Säcken EJ numrerade band_90.mp4: 512x640 (no detections), 5467.7ms\n",
      "INFO:yolov5:video 1/1 (195/251) /Users/jurie.germishuys/Workspace/odf/koster-uw/models/yolov5/tutorials/test_vid/000203 TMBL-ROV 2000 Säcken EJ numrerade band_90.mp4: 512x640 (no detections), 5622.9ms\n",
      "INFO:yolov5:video 1/1 (196/251) /Users/jurie.germishuys/Workspace/odf/koster-uw/models/yolov5/tutorials/test_vid/000203 TMBL-ROV 2000 Säcken EJ numrerade band_90.mp4: 512x640 (no detections), 5695.9ms\n",
      "INFO:yolov5:video 1/1 (197/251) /Users/jurie.germishuys/Workspace/odf/koster-uw/models/yolov5/tutorials/test_vid/000203 TMBL-ROV 2000 Säcken EJ numrerade band_90.mp4: 512x640 (no detections), 5509.5ms\n",
      "INFO:yolov5:video 1/1 (198/251) /Users/jurie.germishuys/Workspace/odf/koster-uw/models/yolov5/tutorials/test_vid/000203 TMBL-ROV 2000 Säcken EJ numrerade band_90.mp4: 512x640 (no detections), 5430.1ms\n",
      "INFO:yolov5:video 1/1 (199/251) /Users/jurie.germishuys/Workspace/odf/koster-uw/models/yolov5/tutorials/test_vid/000203 TMBL-ROV 2000 Säcken EJ numrerade band_90.mp4: 512x640 (no detections), 5466.1ms\n",
      "INFO:yolov5:video 1/1 (200/251) /Users/jurie.germishuys/Workspace/odf/koster-uw/models/yolov5/tutorials/test_vid/000203 TMBL-ROV 2000 Säcken EJ numrerade band_90.mp4: 512x640 (no detections), 5668.1ms\n",
      "INFO:yolov5:video 1/1 (201/251) /Users/jurie.germishuys/Workspace/odf/koster-uw/models/yolov5/tutorials/test_vid/000203 TMBL-ROV 2000 Säcken EJ numrerade band_90.mp4: 512x640 (no detections), 5511.8ms\n",
      "INFO:yolov5:video 1/1 (202/251) /Users/jurie.germishuys/Workspace/odf/koster-uw/models/yolov5/tutorials/test_vid/000203 TMBL-ROV 2000 Säcken EJ numrerade band_90.mp4: 512x640 (no detections), 5466.8ms\n",
      "INFO:yolov5:video 1/1 (203/251) /Users/jurie.germishuys/Workspace/odf/koster-uw/models/yolov5/tutorials/test_vid/000203 TMBL-ROV 2000 Säcken EJ numrerade band_90.mp4: 512x640 (no detections), 5559.8ms\n",
      "INFO:yolov5:video 1/1 (204/251) /Users/jurie.germishuys/Workspace/odf/koster-uw/models/yolov5/tutorials/test_vid/000203 TMBL-ROV 2000 Säcken EJ numrerade band_90.mp4: 512x640 (no detections), 5396.7ms\n",
      "INFO:yolov5:video 1/1 (205/251) /Users/jurie.germishuys/Workspace/odf/koster-uw/models/yolov5/tutorials/test_vid/000203 TMBL-ROV 2000 Säcken EJ numrerade band_90.mp4: 512x640 (no detections), 5826.9ms\n",
      "INFO:yolov5:video 1/1 (206/251) /Users/jurie.germishuys/Workspace/odf/koster-uw/models/yolov5/tutorials/test_vid/000203 TMBL-ROV 2000 Säcken EJ numrerade band_90.mp4: 512x640 (no detections), 5504.9ms\n",
      "INFO:yolov5:video 1/1 (207/251) /Users/jurie.germishuys/Workspace/odf/koster-uw/models/yolov5/tutorials/test_vid/000203 TMBL-ROV 2000 Säcken EJ numrerade band_90.mp4: 512x640 (no detections), 5452.9ms\n",
      "INFO:yolov5:video 1/1 (208/251) /Users/jurie.germishuys/Workspace/odf/koster-uw/models/yolov5/tutorials/test_vid/000203 TMBL-ROV 2000 Säcken EJ numrerade band_90.mp4: 512x640 (no detections), 5551.7ms\n",
      "INFO:yolov5:video 1/1 (209/251) /Users/jurie.germishuys/Workspace/odf/koster-uw/models/yolov5/tutorials/test_vid/000203 TMBL-ROV 2000 Säcken EJ numrerade band_90.mp4: 512x640 (no detections), 5489.4ms\n",
      "INFO:yolov5:video 1/1 (210/251) /Users/jurie.germishuys/Workspace/odf/koster-uw/models/yolov5/tutorials/test_vid/000203 TMBL-ROV 2000 Säcken EJ numrerade band_90.mp4: 512x640 (no detections), 5428.4ms\n",
      "INFO:yolov5:video 1/1 (211/251) /Users/jurie.germishuys/Workspace/odf/koster-uw/models/yolov5/tutorials/test_vid/000203 TMBL-ROV 2000 Säcken EJ numrerade band_90.mp4: 512x640 (no detections), 5776.3ms\n",
      "INFO:yolov5:video 1/1 (212/251) /Users/jurie.germishuys/Workspace/odf/koster-uw/models/yolov5/tutorials/test_vid/000203 TMBL-ROV 2000 Säcken EJ numrerade band_90.mp4: 512x640 (no detections), 5641.8ms\n",
      "INFO:yolov5:video 1/1 (213/251) /Users/jurie.germishuys/Workspace/odf/koster-uw/models/yolov5/tutorials/test_vid/000203 TMBL-ROV 2000 Säcken EJ numrerade band_90.mp4: 512x640 (no detections), 5564.5ms\n",
      "INFO:yolov5:video 1/1 (214/251) /Users/jurie.germishuys/Workspace/odf/koster-uw/models/yolov5/tutorials/test_vid/000203 TMBL-ROV 2000 Säcken EJ numrerade band_90.mp4: 512x640 (no detections), 5421.8ms\n",
      "INFO:yolov5:video 1/1 (215/251) /Users/jurie.germishuys/Workspace/odf/koster-uw/models/yolov5/tutorials/test_vid/000203 TMBL-ROV 2000 Säcken EJ numrerade band_90.mp4: 512x640 (no detections), 5387.6ms\n",
      "INFO:yolov5:video 1/1 (216/251) /Users/jurie.germishuys/Workspace/odf/koster-uw/models/yolov5/tutorials/test_vid/000203 TMBL-ROV 2000 Säcken EJ numrerade band_90.mp4: 512x640 (no detections), 5374.3ms\n",
      "INFO:yolov5:video 1/1 (217/251) /Users/jurie.germishuys/Workspace/odf/koster-uw/models/yolov5/tutorials/test_vid/000203 TMBL-ROV 2000 Säcken EJ numrerade band_90.mp4: 512x640 (no detections), 5886.0ms\n",
      "INFO:yolov5:video 1/1 (218/251) /Users/jurie.germishuys/Workspace/odf/koster-uw/models/yolov5/tutorials/test_vid/000203 TMBL-ROV 2000 Säcken EJ numrerade band_90.mp4: 512x640 (no detections), 5459.7ms\n",
      "INFO:yolov5:video 1/1 (219/251) /Users/jurie.germishuys/Workspace/odf/koster-uw/models/yolov5/tutorials/test_vid/000203 TMBL-ROV 2000 Säcken EJ numrerade band_90.mp4: 512x640 (no detections), 5592.5ms\n",
      "INFO:yolov5:video 1/1 (220/251) /Users/jurie.germishuys/Workspace/odf/koster-uw/models/yolov5/tutorials/test_vid/000203 TMBL-ROV 2000 Säcken EJ numrerade band_90.mp4: 512x640 (no detections), 5571.8ms\n",
      "INFO:yolov5:video 1/1 (221/251) /Users/jurie.germishuys/Workspace/odf/koster-uw/models/yolov5/tutorials/test_vid/000203 TMBL-ROV 2000 Säcken EJ numrerade band_90.mp4: 512x640 (no detections), 5530.1ms\n",
      "INFO:yolov5:video 1/1 (222/251) /Users/jurie.germishuys/Workspace/odf/koster-uw/models/yolov5/tutorials/test_vid/000203 TMBL-ROV 2000 Säcken EJ numrerade band_90.mp4: 512x640 (no detections), 5502.8ms\n",
      "INFO:yolov5:video 1/1 (223/251) /Users/jurie.germishuys/Workspace/odf/koster-uw/models/yolov5/tutorials/test_vid/000203 TMBL-ROV 2000 Säcken EJ numrerade band_90.mp4: 512x640 (no detections), 5556.6ms\n",
      "INFO:yolov5:video 1/1 (224/251) /Users/jurie.germishuys/Workspace/odf/koster-uw/models/yolov5/tutorials/test_vid/000203 TMBL-ROV 2000 Säcken EJ numrerade band_90.mp4: 512x640 (no detections), 5639.2ms\n",
      "INFO:yolov5:video 1/1 (225/251) /Users/jurie.germishuys/Workspace/odf/koster-uw/models/yolov5/tutorials/test_vid/000203 TMBL-ROV 2000 Säcken EJ numrerade band_90.mp4: 512x640 (no detections), 5442.9ms\n",
      "INFO:yolov5:video 1/1 (226/251) /Users/jurie.germishuys/Workspace/odf/koster-uw/models/yolov5/tutorials/test_vid/000203 TMBL-ROV 2000 Säcken EJ numrerade band_90.mp4: 512x640 (no detections), 5396.3ms\n",
      "INFO:yolov5:video 1/1 (227/251) /Users/jurie.germishuys/Workspace/odf/koster-uw/models/yolov5/tutorials/test_vid/000203 TMBL-ROV 2000 Säcken EJ numrerade band_90.mp4: 512x640 (no detections), 5498.7ms\n",
      "INFO:yolov5:video 1/1 (228/251) /Users/jurie.germishuys/Workspace/odf/koster-uw/models/yolov5/tutorials/test_vid/000203 TMBL-ROV 2000 Säcken EJ numrerade band_90.mp4: 512x640 (no detections), 5466.7ms\n",
      "INFO:yolov5:video 1/1 (229/251) /Users/jurie.germishuys/Workspace/odf/koster-uw/models/yolov5/tutorials/test_vid/000203 TMBL-ROV 2000 Säcken EJ numrerade band_90.mp4: 512x640 (no detections), 5428.2ms\n",
      "INFO:yolov5:video 1/1 (230/251) /Users/jurie.germishuys/Workspace/odf/koster-uw/models/yolov5/tutorials/test_vid/000203 TMBL-ROV 2000 Säcken EJ numrerade band_90.mp4: 512x640 (no detections), 5567.6ms\n",
      "INFO:yolov5:video 1/1 (231/251) /Users/jurie.germishuys/Workspace/odf/koster-uw/models/yolov5/tutorials/test_vid/000203 TMBL-ROV 2000 Säcken EJ numrerade band_90.mp4: 512x640 (no detections), 5388.9ms\n",
      "INFO:yolov5:video 1/1 (232/251) /Users/jurie.germishuys/Workspace/odf/koster-uw/models/yolov5/tutorials/test_vid/000203 TMBL-ROV 2000 Säcken EJ numrerade band_90.mp4: 512x640 (no detections), 5365.1ms\n",
      "INFO:yolov5:video 1/1 (233/251) /Users/jurie.germishuys/Workspace/odf/koster-uw/models/yolov5/tutorials/test_vid/000203 TMBL-ROV 2000 Säcken EJ numrerade band_90.mp4: 512x640 (no detections), 6366.0ms\n",
      "INFO:yolov5:video 1/1 (234/251) /Users/jurie.germishuys/Workspace/odf/koster-uw/models/yolov5/tutorials/test_vid/000203 TMBL-ROV 2000 Säcken EJ numrerade band_90.mp4: 512x640 (no detections), 5762.6ms\n",
      "INFO:yolov5:video 1/1 (235/251) /Users/jurie.germishuys/Workspace/odf/koster-uw/models/yolov5/tutorials/test_vid/000203 TMBL-ROV 2000 Säcken EJ numrerade band_90.mp4: 512x640 (no detections), 7667.2ms\n",
      "INFO:yolov5:video 1/1 (236/251) /Users/jurie.germishuys/Workspace/odf/koster-uw/models/yolov5/tutorials/test_vid/000203 TMBL-ROV 2000 Säcken EJ numrerade band_90.mp4: 512x640 (no detections), 6959.3ms\n",
      "INFO:yolov5:video 1/1 (237/251) /Users/jurie.germishuys/Workspace/odf/koster-uw/models/yolov5/tutorials/test_vid/000203 TMBL-ROV 2000 Säcken EJ numrerade band_90.mp4: 512x640 (no detections), 6671.5ms\n",
      "INFO:yolov5:video 1/1 (238/251) /Users/jurie.germishuys/Workspace/odf/koster-uw/models/yolov5/tutorials/test_vid/000203 TMBL-ROV 2000 Säcken EJ numrerade band_90.mp4: 512x640 (no detections), 5801.7ms\n",
      "INFO:yolov5:video 1/1 (239/251) /Users/jurie.germishuys/Workspace/odf/koster-uw/models/yolov5/tutorials/test_vid/000203 TMBL-ROV 2000 Säcken EJ numrerade band_90.mp4: 512x640 (no detections), 6995.9ms\n",
      "INFO:yolov5:video 1/1 (240/251) /Users/jurie.germishuys/Workspace/odf/koster-uw/models/yolov5/tutorials/test_vid/000203 TMBL-ROV 2000 Säcken EJ numrerade band_90.mp4: 512x640 (no detections), 5679.3ms\n",
      "INFO:yolov5:video 1/1 (241/251) /Users/jurie.germishuys/Workspace/odf/koster-uw/models/yolov5/tutorials/test_vid/000203 TMBL-ROV 2000 Säcken EJ numrerade band_90.mp4: 512x640 (no detections), 6034.1ms\n",
      "INFO:yolov5:video 1/1 (242/251) /Users/jurie.germishuys/Workspace/odf/koster-uw/models/yolov5/tutorials/test_vid/000203 TMBL-ROV 2000 Säcken EJ numrerade band_90.mp4: 512x640 (no detections), 6487.0ms\n",
      "INFO:yolov5:video 1/1 (243/251) /Users/jurie.germishuys/Workspace/odf/koster-uw/models/yolov5/tutorials/test_vid/000203 TMBL-ROV 2000 Säcken EJ numrerade band_90.mp4: 512x640 (no detections), 5671.1ms\n",
      "INFO:yolov5:video 1/1 (244/251) /Users/jurie.germishuys/Workspace/odf/koster-uw/models/yolov5/tutorials/test_vid/000203 TMBL-ROV 2000 Säcken EJ numrerade band_90.mp4: 512x640 (no detections), 5645.8ms\n",
      "INFO:yolov5:video 1/1 (245/251) /Users/jurie.germishuys/Workspace/odf/koster-uw/models/yolov5/tutorials/test_vid/000203 TMBL-ROV 2000 Säcken EJ numrerade band_90.mp4: 512x640 (no detections), 5628.3ms\n",
      "INFO:yolov5:video 1/1 (246/251) /Users/jurie.germishuys/Workspace/odf/koster-uw/models/yolov5/tutorials/test_vid/000203 TMBL-ROV 2000 Säcken EJ numrerade band_90.mp4: 512x640 (no detections), 5674.3ms\n",
      "INFO:yolov5:video 1/1 (247/251) /Users/jurie.germishuys/Workspace/odf/koster-uw/models/yolov5/tutorials/test_vid/000203 TMBL-ROV 2000 Säcken EJ numrerade band_90.mp4: 512x640 (no detections), 5489.7ms\n",
      "INFO:yolov5:video 1/1 (248/251) /Users/jurie.germishuys/Workspace/odf/koster-uw/models/yolov5/tutorials/test_vid/000203 TMBL-ROV 2000 Säcken EJ numrerade band_90.mp4: 512x640 (no detections), 5521.7ms\n",
      "INFO:yolov5:video 1/1 (249/251) /Users/jurie.germishuys/Workspace/odf/koster-uw/models/yolov5/tutorials/test_vid/000203 TMBL-ROV 2000 Säcken EJ numrerade band_90.mp4: 512x640 (no detections), 5922.1ms\n",
      "INFO:yolov5:video 1/1 (250/251) /Users/jurie.germishuys/Workspace/odf/koster-uw/models/yolov5/tutorials/test_vid/000203 TMBL-ROV 2000 Säcken EJ numrerade band_90.mp4: 512x640 (no detections), 5964.2ms\n",
      "INFO:yolov5:video 1/1 (251/251) /Users/jurie.germishuys/Workspace/odf/koster-uw/models/yolov5/tutorials/test_vid/000203 TMBL-ROV 2000 Säcken EJ numrerade band_90.mp4: 512x640 (no detections), 5971.7ms\n",
      "INFO:yolov5:Speed: 1.0ms pre-process, 5741.7ms inference, 0.6ms NMS per image at shape (1, 3, 640, 640)\n",
      "INFO:yolov5:Results saved to \u001b[1m/Users/jurie.germishuys/Workspace/odf/koster-uw/models/yolov5/tutorials/wandb/detect2\u001b[0m\n",
      "0 labels saved to /Users/jurie.germishuys/Workspace/odf/koster-uw/models/yolov5/tutorials/wandb/detect2/labels\n"
     ]
    }
   ],
   "source": [
    "detect.run(weights=[f for f in Path(artifact_dir).iterdir() if f.is_file() and '.pt' in str(f)][0], \n",
    "           source=source.selected, conf_thres=conf_thres.value, save_txt=True, save_conf=True,\n",
    "           project=save_dir.selected,\n",
    "           name=\"detect\")"
   ]
  },
  {
   "cell_type": "markdown",
   "id": "19fd1c41",
   "metadata": {},
   "source": [
    "### View model output"
   ]
  },
  {
   "cell_type": "code",
   "execution_count": 26,
   "id": "890ce983",
   "metadata": {
    "scrolled": true
   },
   "outputs": [
    {
     "data": {
      "application/vnd.jupyter.widget-view+json": {
       "model_id": "fdb386b45a184187a723ed6ab165fc29",
       "version_major": 2,
       "version_minor": 0
      },
      "text/plain": [
       "FileChooser(path='/Users/jurie.germishuys/Workspace/odf/koster-uw/models/yolov5/tutorials/wandb', filename='',…"
      ]
     },
     "metadata": {},
     "output_type": "display_data"
    }
   ],
   "source": [
    "eval_dir = t_utils.choose_folder(save_dir.selected if \"save_dir\" in vars() else '.', \"runs output\")"
   ]
  },
  {
   "cell_type": "code",
   "execution_count": null,
   "id": "24024c46",
   "metadata": {},
   "outputs": [],
   "source": [
    "config = wandb.config\n",
    "config.confidence_threshold = conf_thres.value\n",
    "config.model_name = model.value\n",
    "config.evaluation_directory = eval_dir.selected"
   ]
  },
  {
   "cell_type": "code",
   "execution_count": 27,
   "id": "c9dc3743",
   "metadata": {},
   "outputs": [
    {
     "name": "stderr",
     "output_type": "stream",
     "text": [
      "\u001b[34m\u001b[1mwandb\u001b[0m: Adding directory to artifact (/Users/jurie.germishuys/Workspace/odf/koster-uw/models/yolov5/tutorials/wandb/detect2)... Done. 0.0s\n"
     ]
    },
    {
     "data": {
      "text/plain": [
       "<wandb.sdk.wandb_artifacts.Artifact at 0x7fef795faf10>"
      ]
     },
     "execution_count": 27,
     "metadata": {},
     "output_type": "execute_result"
    }
   ],
   "source": [
    "my_data = wandb.Artifact(\"detection_output\", type=\"raw_data\")\n",
    "my_data.add_dir(eval_dir.selected)\n",
    "run.log_artifact(my_data)"
   ]
  },
  {
   "cell_type": "code",
   "execution_count": null,
   "id": "4d54a6b8",
   "metadata": {
    "scrolled": false
   },
   "outputs": [],
   "source": [
    "t6.choose_files(eval_dir.selected)"
   ]
  },
  {
   "cell_type": "markdown",
   "id": "722a5fb9",
   "metadata": {},
   "source": [
    "### Investigate training and validation datasets"
   ]
  },
  {
   "cell_type": "code",
   "execution_count": null,
   "id": "60a2a99f",
   "metadata": {},
   "outputs": [],
   "source": [
    "train_dataset, val_dataset = t6.get_dataset(project_name.value, model.value)"
   ]
  },
  {
   "cell_type": "markdown",
   "id": "b3a8edd8",
   "metadata": {},
   "source": [
    "#### Training set"
   ]
  },
  {
   "cell_type": "code",
   "execution_count": null,
   "id": "aef76ac9",
   "metadata": {},
   "outputs": [],
   "source": [
    "t6.get_data_viewer(os.path.join(train_dataset, \"data/images\"))"
   ]
  },
  {
   "cell_type": "markdown",
   "id": "5cfb4ef0",
   "metadata": {},
   "source": [
    "#### Validation set"
   ]
  },
  {
   "cell_type": "code",
   "execution_count": null,
   "id": "d02c6f3b",
   "metadata": {},
   "outputs": [],
   "source": [
    "t6.get_data_viewer(os.path.join(val_dataset, \"data/images\"))"
   ]
  },
  {
   "cell_type": "markdown",
   "id": "0da9e74f",
   "metadata": {},
   "source": [
    "# 3. Track unique individuals (optional)"
   ]
  },
  {
   "cell_type": "code",
   "execution_count": 28,
   "id": "ebb871ed",
   "metadata": {},
   "outputs": [
    {
     "name": "stderr",
     "output_type": "stream",
     "text": [
      "INFO:yolov5:YOLOv5 🚀 2022-10-14 Python-3.8.8 torch-1.8.0 CPU\n",
      "\n",
      "INFO:yolov5:Fusing layers... \n",
      "INFO:yolov5:Model summary: 476 layers, 91841704 parameters, 0 gradients\n",
      "WARNING:yolov5:WARNING: --img-size [720, 720] must be multiple of max stride 32, updating to [736, 736]\n",
      "Downloading...\n",
      "From: https://drive.google.com/uc?id=1Kkx2zW89jq_NETu4u42CFZTMVD5Hwm6e\n",
      "To: /Users/jurie.germishuys/Workspace/odf/koster-uw/models/yolov5/tutorials/wandb/detect2/osnet_x0_25_msmt17.pt\n",
      "100%|██████████| 9.34M/9.34M [00:00<00:00, 10.2MB/s]\n"
     ]
    },
    {
     "name": "stdout",
     "output_type": "stream",
     "text": [
      "Successfully loaded pretrained weights from \"/Users/jurie.germishuys/Workspace/odf/koster-uw/models/yolov5/tutorials/wandb/detect2/osnet_x0_25_msmt17.pt\"\n",
      "** The following layers are discarded due to unmatched keys or layer size: ['classifier.weight', 'classifier.bias']\n"
     ]
    },
    {
     "name": "stderr",
     "output_type": "stream",
     "text": [
      "INFO:yolov5:No detections\n",
      "INFO:yolov5:No detections\n",
      "INFO:yolov5:No detections\n",
      "INFO:yolov5:No detections\n",
      "INFO:yolov5:No detections\n",
      "INFO:yolov5:No detections\n",
      "INFO:yolov5:No detections\n",
      "INFO:yolov5:No detections\n",
      "INFO:yolov5:No detections\n",
      "INFO:yolov5:No detections\n",
      "INFO:yolov5:No detections\n",
      "INFO:yolov5:No detections\n",
      "INFO:yolov5:No detections\n",
      "INFO:yolov5:No detections\n",
      "INFO:yolov5:No detections\n",
      "INFO:yolov5:No detections\n",
      "INFO:yolov5:No detections\n",
      "INFO:yolov5:No detections\n",
      "INFO:yolov5:No detections\n",
      "INFO:yolov5:No detections\n",
      "INFO:yolov5:No detections\n",
      "INFO:yolov5:No detections\n",
      "INFO:yolov5:No detections\n",
      "INFO:yolov5:No detections\n",
      "INFO:yolov5:No detections\n",
      "INFO:yolov5:No detections\n",
      "INFO:yolov5:No detections\n",
      "INFO:yolov5:No detections\n",
      "INFO:yolov5:No detections\n",
      "INFO:yolov5:No detections\n",
      "INFO:yolov5:No detections\n",
      "INFO:yolov5:No detections\n",
      "INFO:yolov5:No detections\n",
      "INFO:yolov5:No detections\n",
      "INFO:yolov5:No detections\n",
      "INFO:yolov5:No detections\n",
      "INFO:yolov5:No detections\n",
      "INFO:yolov5:No detections\n",
      "INFO:yolov5:No detections\n",
      "INFO:yolov5:No detections\n",
      "INFO:yolov5:No detections\n",
      "INFO:yolov5:No detections\n",
      "INFO:yolov5:No detections\n",
      "INFO:yolov5:No detections\n",
      "INFO:yolov5:No detections\n",
      "INFO:yolov5:No detections\n",
      "INFO:yolov5:No detections\n",
      "INFO:yolov5:No detections\n",
      "INFO:yolov5:No detections\n",
      "INFO:yolov5:No detections\n",
      "INFO:yolov5:No detections\n",
      "INFO:yolov5:No detections\n",
      "INFO:yolov5:No detections\n",
      "INFO:yolov5:No detections\n",
      "INFO:yolov5:No detections\n",
      "INFO:yolov5:No detections\n",
      "INFO:yolov5:No detections\n",
      "INFO:yolov5:No detections\n",
      "INFO:yolov5:No detections\n",
      "INFO:yolov5:No detections\n",
      "INFO:yolov5:No detections\n",
      "INFO:yolov5:No detections\n",
      "INFO:yolov5:No detections\n",
      "INFO:yolov5:No detections\n",
      "INFO:yolov5:No detections\n",
      "INFO:yolov5:No detections\n",
      "INFO:yolov5:No detections\n",
      "INFO:yolov5:No detections\n",
      "INFO:yolov5:No detections\n",
      "INFO:yolov5:No detections\n",
      "INFO:yolov5:No detections\n",
      "INFO:yolov5:No detections\n",
      "INFO:yolov5:No detections\n",
      "INFO:yolov5:No detections\n",
      "INFO:yolov5:No detections\n",
      "INFO:yolov5:No detections\n",
      "INFO:yolov5:No detections\n",
      "INFO:yolov5:No detections\n",
      "INFO:yolov5:No detections\n",
      "INFO:yolov5:No detections\n",
      "INFO:yolov5:No detections\n",
      "INFO:yolov5:No detections\n",
      "INFO:yolov5:No detections\n",
      "INFO:yolov5:No detections\n",
      "INFO:yolov5:No detections\n",
      "INFO:yolov5:No detections\n",
      "INFO:yolov5:No detections\n",
      "INFO:yolov5:No detections\n",
      "INFO:yolov5:No detections\n",
      "INFO:yolov5:No detections\n",
      "INFO:yolov5:No detections\n",
      "INFO:yolov5:No detections\n",
      "INFO:yolov5:No detections\n",
      "INFO:yolov5:No detections\n",
      "INFO:yolov5:No detections\n",
      "INFO:yolov5:No detections\n",
      "INFO:yolov5:No detections\n",
      "INFO:yolov5:No detections\n",
      "INFO:yolov5:No detections\n",
      "INFO:yolov5:No detections\n",
      "INFO:yolov5:No detections\n",
      "INFO:yolov5:No detections\n",
      "INFO:yolov5:No detections\n",
      "INFO:yolov5:No detections\n",
      "INFO:yolov5:No detections\n",
      "INFO:yolov5:No detections\n",
      "INFO:yolov5:No detections\n",
      "INFO:yolov5:No detections\n",
      "INFO:yolov5:No detections\n",
      "INFO:yolov5:No detections\n",
      "INFO:yolov5:No detections\n",
      "INFO:yolov5:No detections\n",
      "INFO:yolov5:No detections\n",
      "INFO:yolov5:No detections\n",
      "INFO:yolov5:No detections\n",
      "INFO:yolov5:No detections\n",
      "INFO:yolov5:No detections\n",
      "INFO:yolov5:No detections\n",
      "INFO:yolov5:No detections\n",
      "INFO:yolov5:No detections\n",
      "INFO:yolov5:No detections\n",
      "INFO:yolov5:No detections\n",
      "INFO:yolov5:No detections\n",
      "INFO:yolov5:No detections\n",
      "INFO:yolov5:No detections\n",
      "INFO:yolov5:No detections\n",
      "INFO:yolov5:No detections\n",
      "INFO:yolov5:No detections\n",
      "INFO:yolov5:No detections\n",
      "INFO:yolov5:No detections\n",
      "INFO:yolov5:No detections\n",
      "INFO:yolov5:No detections\n",
      "INFO:yolov5:No detections\n",
      "INFO:yolov5:No detections\n",
      "INFO:yolov5:No detections\n",
      "INFO:yolov5:No detections\n",
      "INFO:yolov5:No detections\n",
      "INFO:yolov5:No detections\n",
      "INFO:yolov5:No detections\n",
      "INFO:yolov5:No detections\n",
      "INFO:yolov5:No detections\n",
      "INFO:yolov5:No detections\n",
      "INFO:yolov5:No detections\n",
      "INFO:yolov5:No detections\n",
      "INFO:yolov5:No detections\n",
      "INFO:yolov5:No detections\n",
      "INFO:yolov5:No detections\n",
      "INFO:yolov5:No detections\n",
      "INFO:yolov5:No detections\n",
      "INFO:yolov5:No detections\n",
      "INFO:yolov5:No detections\n",
      "INFO:yolov5:No detections\n",
      "INFO:yolov5:No detections\n",
      "INFO:yolov5:No detections\n",
      "INFO:yolov5:No detections\n",
      "INFO:yolov5:No detections\n",
      "INFO:yolov5:No detections\n",
      "INFO:yolov5:No detections\n",
      "INFO:yolov5:No detections\n",
      "INFO:yolov5:No detections\n",
      "INFO:yolov5:No detections\n",
      "INFO:yolov5:No detections\n",
      "INFO:yolov5:No detections\n",
      "INFO:yolov5:No detections\n",
      "INFO:yolov5:No detections\n",
      "INFO:yolov5:No detections\n",
      "INFO:yolov5:No detections\n",
      "INFO:yolov5:No detections\n",
      "INFO:yolov5:No detections\n",
      "INFO:yolov5:No detections\n",
      "INFO:yolov5:No detections\n",
      "INFO:yolov5:No detections\n",
      "INFO:yolov5:No detections\n",
      "INFO:yolov5:No detections\n",
      "INFO:yolov5:No detections\n",
      "INFO:yolov5:No detections\n",
      "INFO:yolov5:No detections\n",
      "INFO:yolov5:No detections\n",
      "INFO:yolov5:No detections\n",
      "INFO:yolov5:No detections\n",
      "INFO:yolov5:No detections\n",
      "INFO:yolov5:No detections\n",
      "INFO:yolov5:No detections\n",
      "INFO:yolov5:No detections\n",
      "INFO:yolov5:No detections\n",
      "INFO:yolov5:No detections\n",
      "INFO:yolov5:No detections\n",
      "INFO:yolov5:No detections\n",
      "INFO:yolov5:No detections\n",
      "INFO:yolov5:No detections\n",
      "INFO:yolov5:No detections\n",
      "INFO:yolov5:No detections\n",
      "INFO:yolov5:No detections\n",
      "INFO:yolov5:No detections\n",
      "INFO:yolov5:No detections\n",
      "INFO:yolov5:No detections\n",
      "INFO:yolov5:No detections\n",
      "INFO:yolov5:No detections\n",
      "INFO:yolov5:No detections\n",
      "INFO:yolov5:No detections\n",
      "INFO:yolov5:No detections\n",
      "INFO:yolov5:No detections\n",
      "INFO:yolov5:No detections\n",
      "INFO:yolov5:No detections\n",
      "INFO:yolov5:No detections\n",
      "INFO:yolov5:No detections\n",
      "INFO:yolov5:No detections\n",
      "INFO:yolov5:No detections\n",
      "INFO:yolov5:No detections\n",
      "INFO:yolov5:No detections\n",
      "INFO:yolov5:No detections\n",
      "INFO:yolov5:No detections\n",
      "INFO:yolov5:No detections\n",
      "INFO:yolov5:No detections\n",
      "INFO:yolov5:No detections\n",
      "INFO:yolov5:No detections\n",
      "INFO:yolov5:No detections\n",
      "INFO:yolov5:No detections\n",
      "INFO:yolov5:No detections\n",
      "INFO:yolov5:No detections\n",
      "INFO:yolov5:No detections\n",
      "INFO:yolov5:No detections\n",
      "INFO:yolov5:No detections\n",
      "INFO:yolov5:No detections\n",
      "INFO:yolov5:No detections\n",
      "INFO:yolov5:No detections\n",
      "INFO:yolov5:No detections\n",
      "INFO:yolov5:No detections\n",
      "INFO:yolov5:No detections\n",
      "INFO:yolov5:No detections\n",
      "INFO:yolov5:No detections\n",
      "INFO:yolov5:No detections\n",
      "INFO:yolov5:No detections\n",
      "INFO:yolov5:No detections\n",
      "INFO:yolov5:No detections\n",
      "INFO:yolov5:No detections\n",
      "INFO:yolov5:No detections\n",
      "INFO:yolov5:No detections\n",
      "INFO:yolov5:No detections\n",
      "INFO:yolov5:No detections\n",
      "INFO:yolov5:No detections\n",
      "INFO:yolov5:No detections\n",
      "INFO:yolov5:No detections\n",
      "INFO:yolov5:No detections\n",
      "INFO:yolov5:No detections\n",
      "INFO:yolov5:No detections\n",
      "INFO:yolov5:No detections\n",
      "INFO:yolov5:No detections\n",
      "INFO:yolov5:No detections\n",
      "INFO:yolov5:No detections\n",
      "INFO:yolov5:No detections\n",
      "INFO:yolov5:Speed: 2.1ms pre-process, 8080.3ms inference, 1.0ms NMS, 0.0ms strong sort update per image at shape (1, 3, 736, 736)\n",
      "INFO:yolov5:Results saved to \u001b[1m/Users/jurie.germishuys/Workspace/odf/koster-uw/models/yolov5/tutorials/wandb/detect2/runs/track/exp\u001b[0m\n",
      "0 tracks saved to /Users/jurie.germishuys/Workspace/odf/koster-uw/models/yolov5/tutorials/wandb/detect2/runs/track/exp/tracks\n",
      "INFO:root:Tracking saved succesfully to /Users/jurie.germishuys/Workspace/odf/koster-uw/models/yolov5/tutorials/wandb/detect2/runs/track/exp/tracks\n"
     ]
    }
   ],
   "source": [
    "latest_tracker = t6.track_objects(source_dir=source.selected, \n",
    "                                  artifact_dir= artifact_dir,\n",
    "                                  tracker_folder=eval_dir.selected,\n",
    "                                  conf_thres=0.5,\n",
    "                                  img_size=(720, 720),\n",
    "                                  gpu=False)"
   ]
  },
  {
   "cell_type": "code",
   "execution_count": 29,
   "id": "c2dd15ca",
   "metadata": {},
   "outputs": [
    {
     "name": "stderr",
     "output_type": "stream",
     "text": [
      "\u001b[34m\u001b[1mwandb\u001b[0m: Adding directory to artifact (/Users/jurie.germishuys/Workspace/odf/koster-uw/models/yolov5/tutorials/wandb/detect2/runs/track/exp/tracks)... Done. 0.0s\n"
     ]
    },
    {
     "data": {
      "text/plain": [
       "<wandb.sdk.wandb_artifacts.Artifact at 0x7fef78b0c970>"
      ]
     },
     "execution_count": 29,
     "metadata": {},
     "output_type": "execute_result"
    }
   ],
   "source": [
    "my_data = wandb.Artifact(\"tracker_output\", type=\"raw_data\")\n",
    "my_data.add_dir(latest_tracker)\n",
    "run.log_artifact(my_data)"
   ]
  },
  {
   "cell_type": "markdown",
   "id": "47766c1d",
   "metadata": {},
   "source": [
    "### Generate classification report and counts by species"
   ]
  },
  {
   "cell_type": "code",
   "execution_count": 30,
   "id": "d7448279",
   "metadata": {},
   "outputs": [
    {
     "name": "stderr",
     "output_type": "stream",
     "text": [
      "INFO:root:Report created at /Users/jurie.germishuys/Workspace/odf/koster-uw/models/yolov5/tutorials/wandb/detect2/annotations.csv\n"
     ]
    }
   ],
   "source": [
    "csv_report = t6.generate_csv_report(eval_dir.selected)\n",
    "wandb.log({\"predictions\": wandb.Table(dataframe=csv_report)})"
   ]
  },
  {
   "cell_type": "code",
   "execution_count": 31,
   "id": "041af685",
   "metadata": {},
   "outputs": [
    {
     "name": "stderr",
     "output_type": "stream",
     "text": [
      "INFO:root:Report created at /Users/jurie.germishuys/Workspace/odf/koster-uw/models/yolov5/tutorials/wandb/detect2/annotations.csv\n",
      "ERROR:root:No tracks found.\n",
      "ERROR:root:No tracks to count.\n"
     ]
    }
   ],
   "source": [
    "tracking_report = t6.generate_counts(eval_dir.selected, latest_tracker, artifact_dir)\n",
    "wandb.log({\"tracking_counts\": wandb.Table(dataframe=tracking_report)})"
   ]
  },
  {
   "cell_type": "markdown",
   "id": "15c58523",
   "metadata": {},
   "source": [
    "🔴 <span style=\"color:red\">&nbsp;NOTE: Run this cell to complete WANDB run, else artifacts will not be shown."
   ]
  },
  {
   "cell_type": "code",
   "execution_count": 32,
   "id": "4dc3cdde",
   "metadata": {},
   "outputs": [
    {
     "data": {
      "text/html": [
       "<br/>Waiting for W&B process to finish, PID 55481<br/>Program ended successfully."
      ],
      "text/plain": [
       "<IPython.core.display.HTML object>"
      ]
     },
     "metadata": {},
     "output_type": "display_data"
    },
    {
     "data": {
      "application/vnd.jupyter.widget-view+json": {
       "model_id": "c7cd457363814b64a9fba1b988adbe60",
       "version_major": 2,
       "version_minor": 0
      },
      "text/plain": [
       "VBox(children=(Label(value=' 2.45MB of 2.45MB uploaded (0.00MB deduped)\\r'), FloatProgress(value=1.0, max=1.0)…"
      ]
     },
     "metadata": {},
     "output_type": "display_data"
    },
    {
     "data": {
      "text/html": [
       "Find user logs for this run at: <code>/Users/jurie.germishuys/Workspace/odf/koster-uw/models/yolov5/tutorials/wandb/run-20221020_111518-32lqxpxv/logs/debug.log</code>"
      ],
      "text/plain": [
       "<IPython.core.display.HTML object>"
      ]
     },
     "metadata": {},
     "output_type": "display_data"
    },
    {
     "data": {
      "text/html": [
       "Find internal logs for this run at: <code>/Users/jurie.germishuys/Workspace/odf/koster-uw/models/yolov5/tutorials/wandb/run-20221020_111518-32lqxpxv/logs/debug-internal.log</code>"
      ],
      "text/plain": [
       "<IPython.core.display.HTML object>"
      ]
     },
     "metadata": {},
     "output_type": "display_data"
    },
    {
     "data": {
      "text/html": [
       "<h3>Run summary:</h3><br/><style>\n",
       "    table.wandb td:nth-child(1) { padding: 0 10px; text-align: right }\n",
       "    </style><table class=\"wandb\">\n",
       "<tr><td>_runtime</td><td>3876</td></tr><tr><td>_timestamp</td><td>1666261194</td></tr><tr><td>_step</td><td>1</td></tr></table>"
      ],
      "text/plain": [
       "<IPython.core.display.HTML object>"
      ]
     },
     "metadata": {},
     "output_type": "display_data"
    },
    {
     "data": {
      "text/html": [
       "<h3>Run history:</h3><br/><style>\n",
       "    table.wandb td:nth-child(1) { padding: 0 10px; text-align: right }\n",
       "    </style><table class=\"wandb\">\n",
       "<tr><td>_runtime</td><td>▁█</td></tr><tr><td>_timestamp</td><td>▁█</td></tr><tr><td>_step</td><td>▁█</td></tr></table><br/>"
      ],
      "text/plain": [
       "<IPython.core.display.HTML object>"
      ]
     },
     "metadata": {},
     "output_type": "display_data"
    },
    {
     "data": {
      "text/html": [
       "Synced 6 W&B file(s), 2 media file(s), 3 artifact file(s) and 0 other file(s)"
      ],
      "text/plain": [
       "<IPython.core.display.HTML object>"
      ]
     },
     "metadata": {},
     "output_type": "display_data"
    },
    {
     "data": {
      "text/html": [
       "\n",
       "                    <br/>Synced <strong style=\"color:#cdcd00\">cool-violet-1</strong>: <a href=\"https://wandb.ai/koster/model-evaluations/runs/32lqxpxv\" target=\"_blank\">https://wandb.ai/koster/model-evaluations/runs/32lqxpxv</a><br/>\n",
       "                "
      ],
      "text/plain": [
       "<IPython.core.display.HTML object>"
      ]
     },
     "metadata": {},
     "output_type": "display_data"
    }
   ],
   "source": [
    "wandb.finish()"
   ]
  },
  {
   "cell_type": "code",
   "execution_count": null,
   "id": "racial-richardson",
   "metadata": {},
   "outputs": [],
   "source": [
    "# END "
   ]
  }
 ],
 "metadata": {
  "kernelspec": {
   "display_name": "Python 3.8.8 ('odf')",
   "language": "python",
   "name": "python3"
  },
  "language_info": {
   "codemirror_mode": {
    "name": "ipython",
    "version": 3
   },
   "file_extension": ".py",
   "mimetype": "text/x-python",
   "name": "python",
   "nbconvert_exporter": "python",
   "pygments_lexer": "ipython3",
   "version": "3.8.8"
  },
  "vscode": {
   "interpreter": {
    "hash": "9f0064b85a3bc365415745ead9abb78ac240c43fe3a2a9861333bea64f4ce941"
   }
  }
 },
 "nbformat": 4,
 "nbformat_minor": 5
}
