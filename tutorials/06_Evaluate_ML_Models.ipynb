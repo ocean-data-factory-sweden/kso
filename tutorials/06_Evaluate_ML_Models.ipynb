{
 "cells": [
  {
   "attachments": {},
   "cell_type": "markdown",
   "id": "hawaiian-ratio",
   "metadata": {},
   "source": [
    "<img align=\"left\" src=\"https://panoptes-uploads.zooniverse.org/project_avatar/86c23ca7-bbaa-4e84-8d8a-876819551431.png\" type=\"image/png\" height=100 width=100>\n",
    "</img>\n",
    "<h1 align=\"right\">KSO Tutorials #6: Evaluate machine learning models</h1>\n",
    "<h3 align=\"right\">Written by the KSO Team</h3>"
   ]
  },
  {
   "attachments": {},
   "cell_type": "markdown",
   "id": "recovered-hamburg",
   "metadata": {},
   "source": [
    "# Set up KSO requirements"
   ]
  },
  {
   "attachments": {},
   "cell_type": "markdown",
   "id": "fe8756c2",
   "metadata": {},
   "source": [
    "### Install all the requirements"
   ]
  },
  {
   "attachments": {},
   "cell_type": "markdown",
   "id": "d7fa5e69",
   "metadata": {},
   "source": [
    "If you are running this notebook in Google Colab, this cell should take ~2 mins and might restart the session. Please run this cell until you get the \"Successful installation!\" message."
   ]
  },
  {
   "cell_type": "code",
   "execution_count": 1,
   "id": "ab2bc392",
   "metadata": {},
   "outputs": [
    {
     "name": "stdout",
     "output_type": "stream",
     "text": [
      "Successful installation... you're good to go!\n"
     ]
    }
   ],
   "source": [
    "# Check if notebook is running in colab\n",
    "import sys, os\n",
    "\n",
    "IN_COLAB = \"google.colab\" in sys.modules\n",
    "\n",
    "if IN_COLAB:\n",
    "    # Clone kso repo and install requirements\n",
    "    if not os.path.exists(\"kso\"):\n",
    "        print(\"Installing all dependencies...\")\n",
    "        !git clone --recurse-submodules -b master https://github.com/ocean-data-factory-sweden/kso.git\n",
    "        %pip install -qr <(sed '/Pillow/d;/ipywidgets/d' kso/requirements.txt)\n",
    "\n",
    "    # Restart colab session if conflicting libraries can't be imported\n",
    "    try:\n",
    "        import panoptes_client\n",
    "    except:\n",
    "        os.kill(os.getpid(), 9)\n",
    "\n",
    "    # Enable external widgets and navigate to the kso tutorial folder\n",
    "    try:\n",
    "        from google.colab import output\n",
    "\n",
    "        output.enable_custom_widget_manager()\n",
    "        os.chdir(\"kso/tutorials\")\n",
    "    except:\n",
    "        pass\n",
    "\n",
    "# Prepare the dev settings if needed\n",
    "try:\n",
    "    if \"kso_utils\" not in sys.modules:\n",
    "        sys.path.insert(0, os.path.abspath(os.path.join(os.getcwd(), \"..\")))\n",
    "        import kso_utils\n",
    "\n",
    "        print(\"Using development version...\")\n",
    "        # Enables testing changes in utils\n",
    "        %load_ext autoreload\n",
    "        %autoreload 2\n",
    "except:\n",
    "    print(\"Installing latest version from PyPI...\")\n",
    "    %pip install -q kso-utils\n",
    "\n",
    "# Avoid issues with widgets not displaying properly\n",
    "!jupyter nbextension enable --user --py widgetsnbextension\n",
    "!jupyter nbextension enable --user --py jupyter_bbox_widget\n",
    "!jupyter nbextension enable --user --py ipysheet\n",
    "\n",
    "\n",
    "# Load the clear output function to keep things clean\n",
    "from IPython.display import clear_output\n",
    "\n",
    "clear_output()\n",
    "print(\"Successful installation... you're good to go!\")"
   ]
  },
  {
   "attachments": {},
   "cell_type": "markdown",
   "id": "be10ade2",
   "metadata": {},
   "source": [
    "### Import python packages"
   ]
  },
  {
   "cell_type": "code",
   "execution_count": 2,
   "id": "5d5eb4c5",
   "metadata": {},
   "outputs": [
    {
     "name": "stderr",
     "output_type": "stream",
     "text": [
      "ERROR:root:Modules yolov5 and yolov5_tracker are required for ML functionality.\n"
     ]
    },
    {
     "name": "stdout",
     "output_type": "stream",
     "text": [
      "Packages loaded successfully\n"
     ]
    }
   ],
   "source": [
    "# Import required modules for tut#6\n",
    "import kso_utils.widgets as kso_widgets\n",
    "import kso_utils.project_utils as p_utils\n",
    "import kso_utils.tutorials_utils as t_utils\n",
    "import kso_utils.yolo_utils as y_utils\n",
    "from kso_utils.project import ProjectProcessor, MLProjectProcessor\n",
    "\n",
    "print(\"Packages loaded successfully\")"
   ]
  },
  {
   "attachments": {},
   "cell_type": "markdown",
   "id": "4085ec1a",
   "metadata": {},
   "source": [
    "### Choose your project"
   ]
  },
  {
   "cell_type": "code",
   "execution_count": 5,
   "id": "incident-surveillance",
   "metadata": {},
   "outputs": [
    {
     "data": {
      "application/vnd.jupyter.widget-view+json": {
       "model_id": "e8388f56bce542f5a25364c6f8279209",
       "version_major": 2,
       "version_minor": 0
      },
      "text/plain": [
       "Dropdown(description='Project:', options=('Template project', 'Koster_Seafloor_Obs', 'Spyfish_Aotearoa', 'SGU'…"
      ]
     },
     "metadata": {},
     "output_type": "display_data"
    }
   ],
   "source": [
    "project_name = kso_widgets.choose_project()"
   ]
  },
  {
   "attachments": {},
   "cell_type": "markdown",
   "id": "23a54ce6",
   "metadata": {},
   "source": [
    "### Initiate project's database"
   ]
  },
  {
   "cell_type": "code",
   "execution_count": 6,
   "id": "4d3e1b35",
   "metadata": {},
   "outputs": [
    {
     "name": "stderr",
     "output_type": "stream",
     "text": [
      "INFO:root:Template project loaded succesfully\n",
      "INFO:root:Retrieving the file from https://drive.google.com/uc?&confirm=s5vl&id=1PZGRoSY_UpyLfMhRphMUMwDXw4yx1_Fn\n",
      "Downloading...\n",
      "From: https://drive.google.com/uc?&confirm=s5vl&id=1PZGRoSY_UpyLfMhRphMUMwDXw4yx1_Fn\n",
      "To: /Users/jurie.germishuys/Workspace/odf/koster-uw/kso/tutorials/db_csv_info.zip\n",
      "100%|██████████| 3.23k/3.23k [00:00<00:00, 3.68MB/s]\n",
      "INFO:root:Updated species table from the temporary database\n",
      "INFO:root:Updated sites table from the temporary database\n",
      "INFO:root:Updated movies table from the temporary database\n"
     ]
    }
   ],
   "source": [
    "# Find project\n",
    "project = p_utils.find_project(project_name=project_name.value)\n",
    "# Initialise pp\n",
    "pp = ProjectProcessor(project)"
   ]
  },
  {
   "cell_type": "code",
   "execution_count": 32,
   "id": "5bbe9710",
   "metadata": {},
   "outputs": [],
   "source": [
    "# Initialise mlp\n",
    "mlp = MLProjectProcessor(pp)"
   ]
  },
  {
   "attachments": {},
   "cell_type": "markdown",
   "id": "1d3f913f",
   "metadata": {},
   "source": [
    "# Evaluate model on custom footage"
   ]
  },
  {
   "attachments": {},
   "cell_type": "markdown",
   "id": "d5ece376",
   "metadata": {},
   "source": [
    "### Choose the model"
   ]
  },
  {
   "cell_type": "code",
   "execution_count": 8,
   "id": "12346089",
   "metadata": {},
   "outputs": [],
   "source": [
    "os.environ[\"MLFLOW_TRACKING_URI\"]=\"https://vendor.cloudina.org/\"\n",
    "os.environ[\"MLFLOW_TRACKING_USERNAME\"]=\"admin@cloudina.org\"\n",
    "os.environ[\"MLFLOW_TRACKING_PASSWORD\"]=\"WlZg13rPNyqvW6pCjSoaaUmUK166CUoTTfS9c2E1j86AIWpuwRWEIEEsUspsAWfP\""
   ]
  },
  {
   "cell_type": "code",
   "execution_count": 118,
   "id": "c41909d3",
   "metadata": {},
   "outputs": [
    {
     "data": {
      "application/vnd.jupyter.widget-view+json": {
       "model_id": "b5b9d9b0996c41e7be3f2b0359d5ff4a",
       "version_major": 2,
       "version_minor": 0
      },
      "text/plain": [
       "Dropdown(description='Select model: ', options=('mlflow-artifacts:/1/f12f24491c074d42a6769b5ab1cf26b9/artifact…"
      ]
     },
     "metadata": {},
     "output_type": "display_data"
    }
   ],
   "source": [
    "\n",
    "model = mlp.choose_model()"
   ]
  },
  {
   "attachments": {},
   "cell_type": "markdown",
   "id": "53aa7102",
   "metadata": {},
   "source": [
    "### Choose folder to download the model"
   ]
  },
  {
   "cell_type": "code",
   "execution_count": 34,
   "id": "2456b57b",
   "metadata": {},
   "outputs": [
    {
     "data": {
      "application/vnd.jupyter.widget-view+json": {
       "model_id": "ae333d4e78e640e28b2636c34026e6bf",
       "version_major": 2,
       "version_minor": 0
      },
      "text/plain": [
       "FileChooser(path='.', filename='', title='HTML(value='Choose location of where to download the model')', show_…"
      ]
     },
     "metadata": {},
     "output_type": "display_data"
    }
   ],
   "source": [
    "download_dir = kso_widgets.choose_folder(\".\", \"where to download the model\")"
   ]
  },
  {
   "cell_type": "code",
   "execution_count": 35,
   "id": "842d5de0",
   "metadata": {},
   "outputs": [
    {
     "data": {
      "application/vnd.jupyter.widget-view+json": {
       "model_id": "85dc0c2693634a24b3fb19b843fc73e7",
       "version_major": 2,
       "version_minor": 0
      },
      "text/plain": [
       "Downloading artifacts:   0%|          | 0/1 [00:00<?, ?it/s]"
      ]
     },
     "metadata": {},
     "output_type": "display_data"
    }
   ],
   "source": [
    "# @title <font size=\"5\">↓ ឵឵឵឵<i>Download model</font> { vertical-output: true }\n",
    "artifact_dir = mlp.get_model(model.value, download_dir.selected)"
   ]
  },
  {
   "cell_type": "code",
   "execution_count": 109,
   "id": "boxed-gateway",
   "metadata": {},
   "outputs": [
    {
     "data": {
      "application/vnd.jupyter.widget-view+json": {
       "model_id": "d7b08ef8e513444f9d736e571fb28c13",
       "version_major": 2,
       "version_minor": 0
      },
      "text/plain": [
       "FileChooser(path='.', filename='', title='HTML(value='Choose location of custom footage')', show_hidden='False…"
      ]
     },
     "metadata": {},
     "output_type": "display_data"
    }
   ],
   "source": [
    "# @title <font size=\"5\">↓ ឵឵឵឵<i>Choose your custom footage</font> { vertical-output: true }\n",
    "source = kso_widgets.choose_footage(\n",
    "    project=pp.project,\n",
    "    server_connection=pp.server_connection,\n",
    "    db_connection=pp.db_connection,\n",
    "    start_path=pp.project.movie_folder\n",
    "    if pp.project.movie_folder not in [None, \"None\"]\n",
    "    else \".\",\n",
    "    folder_type=\"custom footage\",\n",
    ")"
   ]
  },
  {
   "cell_type": "code",
   "execution_count": 110,
   "id": "03d55f20",
   "metadata": {},
   "outputs": [],
   "source": [
    "source_value = t_utils.process_source(source)"
   ]
  },
  {
   "cell_type": "code",
   "execution_count": 38,
   "id": "23b984ea",
   "metadata": {},
   "outputs": [
    {
     "data": {
      "application/vnd.jupyter.widget-view+json": {
       "model_id": "d50433b8bdff4cc68e21f70765c0013e",
       "version_major": 2,
       "version_minor": 0
      },
      "text/plain": [
       "FloatSlider(value=0.5, continuous_update=False, description='Confidence threshold:', max=1.0, readout_format='…"
      ]
     },
     "metadata": {},
     "output_type": "display_data"
    }
   ],
   "source": [
    "# @title <font size=\"5\">↓ ឵឵<i>Choose a confidence threshold for evaluation</font> { vertical-output: true }\n",
    "conf_thres = t_utils.choose_conf()"
   ]
  },
  {
   "cell_type": "code",
   "execution_count": 134,
   "id": "dc8a198a",
   "metadata": {},
   "outputs": [
    {
     "name": "stderr",
     "output_type": "stream",
     "text": [
      "\n",
      "\n",
      "WARNING ⚠️ inference results will accumulate in RAM unless `stream=True` is passed, causing potential out-of-memory\n",
      "errors for large sources or long-running streams and videos. See https://docs.ultralytics.com/modes/predict/ for help.\n",
      "\n",
      "Example:\n",
      "    results = model(source=..., stream=True)  # generator of Results objects\n",
      "    for r in results:\n",
      "        boxes = r.boxes  # Boxes object for bbox outputs\n",
      "        masks = r.masks  # Masks object for segment masks outputs\n",
      "        probs = r.probs  # Class probabilities for classification outputs\n",
      "\n",
      "video 1/1 (1/250) /Users/jurie.germishuys/Workspace/odf/koster-uw/kso/tutorials/000203 TMBL-ROV 2000 Säcken revet EJ numrerade band_blur.mp4: 512x640 5 deep_water_corals, 1403.8ms\n",
      "video 1/1 (2/250) /Users/jurie.germishuys/Workspace/odf/koster-uw/kso/tutorials/000203 TMBL-ROV 2000 Säcken revet EJ numrerade band_blur.mp4: 512x640 6 deep_water_corals, 1336.8ms\n",
      "video 1/1 (3/250) /Users/jurie.germishuys/Workspace/odf/koster-uw/kso/tutorials/000203 TMBL-ROV 2000 Säcken revet EJ numrerade band_blur.mp4: 512x640 4 deep_water_corals, 1339.4ms\n",
      "video 1/1 (4/250) /Users/jurie.germishuys/Workspace/odf/koster-uw/kso/tutorials/000203 TMBL-ROV 2000 Säcken revet EJ numrerade band_blur.mp4: 512x640 4 deep_water_corals, 1370.8ms\n",
      "video 1/1 (5/250) /Users/jurie.germishuys/Workspace/odf/koster-uw/kso/tutorials/000203 TMBL-ROV 2000 Säcken revet EJ numrerade band_blur.mp4: 512x640 6 deep_water_corals, 1397.8ms\n",
      "video 1/1 (6/250) /Users/jurie.germishuys/Workspace/odf/koster-uw/kso/tutorials/000203 TMBL-ROV 2000 Säcken revet EJ numrerade band_blur.mp4: 512x640 5 deep_water_corals, 1349.2ms\n",
      "video 1/1 (7/250) /Users/jurie.germishuys/Workspace/odf/koster-uw/kso/tutorials/000203 TMBL-ROV 2000 Säcken revet EJ numrerade band_blur.mp4: 512x640 6 deep_water_corals, 1353.7ms\n",
      "video 1/1 (8/250) /Users/jurie.germishuys/Workspace/odf/koster-uw/kso/tutorials/000203 TMBL-ROV 2000 Säcken revet EJ numrerade band_blur.mp4: 512x640 6 deep_water_corals, 1326.7ms\n",
      "video 1/1 (9/250) /Users/jurie.germishuys/Workspace/odf/koster-uw/kso/tutorials/000203 TMBL-ROV 2000 Säcken revet EJ numrerade band_blur.mp4: 512x640 6 deep_water_corals, 1363.2ms\n",
      "video 1/1 (10/250) /Users/jurie.germishuys/Workspace/odf/koster-uw/kso/tutorials/000203 TMBL-ROV 2000 Säcken revet EJ numrerade band_blur.mp4: 512x640 6 deep_water_corals, 1362.4ms\n",
      "video 1/1 (11/250) /Users/jurie.germishuys/Workspace/odf/koster-uw/kso/tutorials/000203 TMBL-ROV 2000 Säcken revet EJ numrerade band_blur.mp4: 512x640 7 deep_water_corals, 1322.9ms\n",
      "video 1/1 (12/250) /Users/jurie.germishuys/Workspace/odf/koster-uw/kso/tutorials/000203 TMBL-ROV 2000 Säcken revet EJ numrerade band_blur.mp4: 512x640 6 deep_water_corals, 1325.1ms\n",
      "video 1/1 (13/250) /Users/jurie.germishuys/Workspace/odf/koster-uw/kso/tutorials/000203 TMBL-ROV 2000 Säcken revet EJ numrerade band_blur.mp4: 512x640 6 deep_water_corals, 1406.0ms\n",
      "video 1/1 (14/250) /Users/jurie.germishuys/Workspace/odf/koster-uw/kso/tutorials/000203 TMBL-ROV 2000 Säcken revet EJ numrerade band_blur.mp4: 512x640 6 deep_water_corals, 1385.6ms\n",
      "video 1/1 (15/250) /Users/jurie.germishuys/Workspace/odf/koster-uw/kso/tutorials/000203 TMBL-ROV 2000 Säcken revet EJ numrerade band_blur.mp4: 512x640 7 deep_water_corals, 1404.6ms\n",
      "video 1/1 (16/250) /Users/jurie.germishuys/Workspace/odf/koster-uw/kso/tutorials/000203 TMBL-ROV 2000 Säcken revet EJ numrerade band_blur.mp4: 512x640 6 deep_water_corals, 1413.3ms\n",
      "video 1/1 (17/250) /Users/jurie.germishuys/Workspace/odf/koster-uw/kso/tutorials/000203 TMBL-ROV 2000 Säcken revet EJ numrerade band_blur.mp4: 512x640 7 deep_water_corals, 1336.0ms\n",
      "video 1/1 (18/250) /Users/jurie.germishuys/Workspace/odf/koster-uw/kso/tutorials/000203 TMBL-ROV 2000 Säcken revet EJ numrerade band_blur.mp4: 512x640 4 deep_water_corals, 1355.4ms\n",
      "video 1/1 (19/250) /Users/jurie.germishuys/Workspace/odf/koster-uw/kso/tutorials/000203 TMBL-ROV 2000 Säcken revet EJ numrerade band_blur.mp4: 512x640 5 deep_water_corals, 1332.6ms\n",
      "video 1/1 (20/250) /Users/jurie.germishuys/Workspace/odf/koster-uw/kso/tutorials/000203 TMBL-ROV 2000 Säcken revet EJ numrerade band_blur.mp4: 512x640 6 deep_water_corals, 1329.6ms\n",
      "video 1/1 (21/250) /Users/jurie.germishuys/Workspace/odf/koster-uw/kso/tutorials/000203 TMBL-ROV 2000 Säcken revet EJ numrerade band_blur.mp4: 512x640 4 deep_water_corals, 1331.8ms\n",
      "video 1/1 (22/250) /Users/jurie.germishuys/Workspace/odf/koster-uw/kso/tutorials/000203 TMBL-ROV 2000 Säcken revet EJ numrerade band_blur.mp4: 512x640 7 deep_water_corals, 1315.5ms\n",
      "video 1/1 (23/250) /Users/jurie.germishuys/Workspace/odf/koster-uw/kso/tutorials/000203 TMBL-ROV 2000 Säcken revet EJ numrerade band_blur.mp4: 512x640 6 deep_water_corals, 1316.0ms\n",
      "video 1/1 (24/250) /Users/jurie.germishuys/Workspace/odf/koster-uw/kso/tutorials/000203 TMBL-ROV 2000 Säcken revet EJ numrerade band_blur.mp4: 512x640 8 deep_water_corals, 1339.0ms\n",
      "video 1/1 (25/250) /Users/jurie.germishuys/Workspace/odf/koster-uw/kso/tutorials/000203 TMBL-ROV 2000 Säcken revet EJ numrerade band_blur.mp4: 512x640 7 deep_water_corals, 1315.4ms\n",
      "video 1/1 (26/250) /Users/jurie.germishuys/Workspace/odf/koster-uw/kso/tutorials/000203 TMBL-ROV 2000 Säcken revet EJ numrerade band_blur.mp4: 512x640 6 deep_water_corals, 1317.5ms\n",
      "video 1/1 (27/250) /Users/jurie.germishuys/Workspace/odf/koster-uw/kso/tutorials/000203 TMBL-ROV 2000 Säcken revet EJ numrerade band_blur.mp4: 512x640 4 deep_water_corals, 1321.1ms\n",
      "video 1/1 (28/250) /Users/jurie.germishuys/Workspace/odf/koster-uw/kso/tutorials/000203 TMBL-ROV 2000 Säcken revet EJ numrerade band_blur.mp4: 512x640 11 deep_water_corals, 1351.0ms\n",
      "video 1/1 (29/250) /Users/jurie.germishuys/Workspace/odf/koster-uw/kso/tutorials/000203 TMBL-ROV 2000 Säcken revet EJ numrerade band_blur.mp4: 512x640 12 deep_water_corals, 1318.2ms\n",
      "video 1/1 (30/250) /Users/jurie.germishuys/Workspace/odf/koster-uw/kso/tutorials/000203 TMBL-ROV 2000 Säcken revet EJ numrerade band_blur.mp4: 512x640 5 deep_water_corals, 1317.3ms\n",
      "video 1/1 (31/250) /Users/jurie.germishuys/Workspace/odf/koster-uw/kso/tutorials/000203 TMBL-ROV 2000 Säcken revet EJ numrerade band_blur.mp4: 512x640 5 deep_water_corals, 1328.1ms\n",
      "video 1/1 (32/250) /Users/jurie.germishuys/Workspace/odf/koster-uw/kso/tutorials/000203 TMBL-ROV 2000 Säcken revet EJ numrerade band_blur.mp4: 512x640 5 deep_water_corals, 1318.9ms\n",
      "video 1/1 (33/250) /Users/jurie.germishuys/Workspace/odf/koster-uw/kso/tutorials/000203 TMBL-ROV 2000 Säcken revet EJ numrerade band_blur.mp4: 512x640 7 deep_water_corals, 1318.4ms\n",
      "video 1/1 (34/250) /Users/jurie.germishuys/Workspace/odf/koster-uw/kso/tutorials/000203 TMBL-ROV 2000 Säcken revet EJ numrerade band_blur.mp4: 512x640 10 deep_water_corals, 1340.6ms\n",
      "video 1/1 (35/250) /Users/jurie.germishuys/Workspace/odf/koster-uw/kso/tutorials/000203 TMBL-ROV 2000 Säcken revet EJ numrerade band_blur.mp4: 512x640 8 deep_water_corals, 1328.6ms\n",
      "video 1/1 (36/250) /Users/jurie.germishuys/Workspace/odf/koster-uw/kso/tutorials/000203 TMBL-ROV 2000 Säcken revet EJ numrerade band_blur.mp4: 512x640 9 deep_water_corals, 1320.6ms\n",
      "video 1/1 (37/250) /Users/jurie.germishuys/Workspace/odf/koster-uw/kso/tutorials/000203 TMBL-ROV 2000 Säcken revet EJ numrerade band_blur.mp4: 512x640 4 deep_water_corals, 1317.0ms\n",
      "video 1/1 (38/250) /Users/jurie.germishuys/Workspace/odf/koster-uw/kso/tutorials/000203 TMBL-ROV 2000 Säcken revet EJ numrerade band_blur.mp4: 512x640 7 deep_water_corals, 1315.8ms\n",
      "video 1/1 (39/250) /Users/jurie.germishuys/Workspace/odf/koster-uw/kso/tutorials/000203 TMBL-ROV 2000 Säcken revet EJ numrerade band_blur.mp4: 512x640 7 deep_water_corals, 1352.0ms\n",
      "video 1/1 (40/250) /Users/jurie.germishuys/Workspace/odf/koster-uw/kso/tutorials/000203 TMBL-ROV 2000 Säcken revet EJ numrerade band_blur.mp4: 512x640 7 deep_water_corals, 1319.4ms\n",
      "video 1/1 (41/250) /Users/jurie.germishuys/Workspace/odf/koster-uw/kso/tutorials/000203 TMBL-ROV 2000 Säcken revet EJ numrerade band_blur.mp4: 512x640 3 deep_water_corals, 1315.5ms\n",
      "video 1/1 (42/250) /Users/jurie.germishuys/Workspace/odf/koster-uw/kso/tutorials/000203 TMBL-ROV 2000 Säcken revet EJ numrerade band_blur.mp4: 512x640 7 deep_water_corals, 1320.0ms\n",
      "video 1/1 (43/250) /Users/jurie.germishuys/Workspace/odf/koster-uw/kso/tutorials/000203 TMBL-ROV 2000 Säcken revet EJ numrerade band_blur.mp4: 512x640 7 deep_water_corals, 1331.4ms\n",
      "video 1/1 (44/250) /Users/jurie.germishuys/Workspace/odf/koster-uw/kso/tutorials/000203 TMBL-ROV 2000 Säcken revet EJ numrerade band_blur.mp4: 512x640 9 deep_water_corals, 1315.3ms\n",
      "video 1/1 (45/250) /Users/jurie.germishuys/Workspace/odf/koster-uw/kso/tutorials/000203 TMBL-ROV 2000 Säcken revet EJ numrerade band_blur.mp4: 512x640 9 deep_water_corals, 1315.0ms\n",
      "video 1/1 (46/250) /Users/jurie.germishuys/Workspace/odf/koster-uw/kso/tutorials/000203 TMBL-ROV 2000 Säcken revet EJ numrerade band_blur.mp4: 512x640 9 deep_water_corals, 1320.7ms\n",
      "video 1/1 (47/250) /Users/jurie.germishuys/Workspace/odf/koster-uw/kso/tutorials/000203 TMBL-ROV 2000 Säcken revet EJ numrerade band_blur.mp4: 512x640 10 deep_water_corals, 1344.9ms\n",
      "video 1/1 (48/250) /Users/jurie.germishuys/Workspace/odf/koster-uw/kso/tutorials/000203 TMBL-ROV 2000 Säcken revet EJ numrerade band_blur.mp4: 512x640 9 deep_water_corals, 1321.5ms\n",
      "video 1/1 (49/250) /Users/jurie.germishuys/Workspace/odf/koster-uw/kso/tutorials/000203 TMBL-ROV 2000 Säcken revet EJ numrerade band_blur.mp4: 512x640 10 deep_water_corals, 1316.6ms\n",
      "video 1/1 (50/250) /Users/jurie.germishuys/Workspace/odf/koster-uw/kso/tutorials/000203 TMBL-ROV 2000 Säcken revet EJ numrerade band_blur.mp4: 512x640 12 deep_water_corals, 1341.4ms\n",
      "video 1/1 (51/250) /Users/jurie.germishuys/Workspace/odf/koster-uw/kso/tutorials/000203 TMBL-ROV 2000 Säcken revet EJ numrerade band_blur.mp4: 512x640 12 deep_water_corals, 1316.5ms\n",
      "video 1/1 (52/250) /Users/jurie.germishuys/Workspace/odf/koster-uw/kso/tutorials/000203 TMBL-ROV 2000 Säcken revet EJ numrerade band_blur.mp4: 512x640 10 deep_water_corals, 1314.4ms\n",
      "video 1/1 (53/250) /Users/jurie.germishuys/Workspace/odf/koster-uw/kso/tutorials/000203 TMBL-ROV 2000 Säcken revet EJ numrerade band_blur.mp4: 512x640 12 deep_water_corals, 1314.4ms\n",
      "video 1/1 (54/250) /Users/jurie.germishuys/Workspace/odf/koster-uw/kso/tutorials/000203 TMBL-ROV 2000 Säcken revet EJ numrerade band_blur.mp4: 512x640 12 deep_water_corals, 1328.7ms\n",
      "video 1/1 (55/250) /Users/jurie.germishuys/Workspace/odf/koster-uw/kso/tutorials/000203 TMBL-ROV 2000 Säcken revet EJ numrerade band_blur.mp4: 512x640 12 deep_water_corals, 1315.7ms\n",
      "video 1/1 (56/250) /Users/jurie.germishuys/Workspace/odf/koster-uw/kso/tutorials/000203 TMBL-ROV 2000 Säcken revet EJ numrerade band_blur.mp4: 512x640 11 deep_water_corals, 1315.7ms\n",
      "video 1/1 (57/250) /Users/jurie.germishuys/Workspace/odf/koster-uw/kso/tutorials/000203 TMBL-ROV 2000 Säcken revet EJ numrerade band_blur.mp4: 512x640 10 deep_water_corals, 1330.4ms\n",
      "video 1/1 (58/250) /Users/jurie.germishuys/Workspace/odf/koster-uw/kso/tutorials/000203 TMBL-ROV 2000 Säcken revet EJ numrerade band_blur.mp4: 512x640 14 deep_water_corals, 1329.0ms\n",
      "video 1/1 (59/250) /Users/jurie.germishuys/Workspace/odf/koster-uw/kso/tutorials/000203 TMBL-ROV 2000 Säcken revet EJ numrerade band_blur.mp4: 512x640 15 deep_water_corals, 1319.1ms\n",
      "video 1/1 (60/250) /Users/jurie.germishuys/Workspace/odf/koster-uw/kso/tutorials/000203 TMBL-ROV 2000 Säcken revet EJ numrerade band_blur.mp4: 512x640 11 deep_water_corals, 1315.7ms\n",
      "video 1/1 (61/250) /Users/jurie.germishuys/Workspace/odf/koster-uw/kso/tutorials/000203 TMBL-ROV 2000 Säcken revet EJ numrerade band_blur.mp4: 512x640 12 deep_water_corals, 1358.1ms\n",
      "video 1/1 (62/250) /Users/jurie.germishuys/Workspace/odf/koster-uw/kso/tutorials/000203 TMBL-ROV 2000 Säcken revet EJ numrerade band_blur.mp4: 512x640 7 deep_water_corals, 1369.8ms\n",
      "video 1/1 (63/250) /Users/jurie.germishuys/Workspace/odf/koster-uw/kso/tutorials/000203 TMBL-ROV 2000 Säcken revet EJ numrerade band_blur.mp4: 512x640 8 deep_water_corals, 1329.5ms\n",
      "video 1/1 (64/250) /Users/jurie.germishuys/Workspace/odf/koster-uw/kso/tutorials/000203 TMBL-ROV 2000 Säcken revet EJ numrerade band_blur.mp4: 512x640 8 deep_water_corals, 1325.0ms\n",
      "video 1/1 (65/250) /Users/jurie.germishuys/Workspace/odf/koster-uw/kso/tutorials/000203 TMBL-ROV 2000 Säcken revet EJ numrerade band_blur.mp4: 512x640 7 deep_water_corals, 1379.3ms\n",
      "video 1/1 (66/250) /Users/jurie.germishuys/Workspace/odf/koster-uw/kso/tutorials/000203 TMBL-ROV 2000 Säcken revet EJ numrerade band_blur.mp4: 512x640 7 deep_water_corals, 1344.1ms\n",
      "video 1/1 (67/250) /Users/jurie.germishuys/Workspace/odf/koster-uw/kso/tutorials/000203 TMBL-ROV 2000 Säcken revet EJ numrerade band_blur.mp4: 512x640 9 deep_water_corals, 1358.4ms\n",
      "video 1/1 (68/250) /Users/jurie.germishuys/Workspace/odf/koster-uw/kso/tutorials/000203 TMBL-ROV 2000 Säcken revet EJ numrerade band_blur.mp4: 512x640 9 deep_water_corals, 1326.6ms\n",
      "video 1/1 (69/250) /Users/jurie.germishuys/Workspace/odf/koster-uw/kso/tutorials/000203 TMBL-ROV 2000 Säcken revet EJ numrerade band_blur.mp4: 512x640 9 deep_water_corals, 1442.5ms\n",
      "video 1/1 (70/250) /Users/jurie.germishuys/Workspace/odf/koster-uw/kso/tutorials/000203 TMBL-ROV 2000 Säcken revet EJ numrerade band_blur.mp4: 512x640 7 deep_water_corals, 1325.5ms\n",
      "video 1/1 (71/250) /Users/jurie.germishuys/Workspace/odf/koster-uw/kso/tutorials/000203 TMBL-ROV 2000 Säcken revet EJ numrerade band_blur.mp4: 512x640 8 deep_water_corals, 1328.8ms\n",
      "video 1/1 (72/250) /Users/jurie.germishuys/Workspace/odf/koster-uw/kso/tutorials/000203 TMBL-ROV 2000 Säcken revet EJ numrerade band_blur.mp4: 512x640 8 deep_water_corals, 1360.3ms\n",
      "video 1/1 (73/250) /Users/jurie.germishuys/Workspace/odf/koster-uw/kso/tutorials/000203 TMBL-ROV 2000 Säcken revet EJ numrerade band_blur.mp4: 512x640 6 deep_water_corals, 1374.3ms\n",
      "video 1/1 (74/250) /Users/jurie.germishuys/Workspace/odf/koster-uw/kso/tutorials/000203 TMBL-ROV 2000 Säcken revet EJ numrerade band_blur.mp4: 512x640 5 deep_water_corals, 1316.8ms\n",
      "video 1/1 (75/250) /Users/jurie.germishuys/Workspace/odf/koster-uw/kso/tutorials/000203 TMBL-ROV 2000 Säcken revet EJ numrerade band_blur.mp4: 512x640 5 deep_water_corals, 1316.5ms\n",
      "video 1/1 (76/250) /Users/jurie.germishuys/Workspace/odf/koster-uw/kso/tutorials/000203 TMBL-ROV 2000 Säcken revet EJ numrerade band_blur.mp4: 512x640 5 deep_water_corals, 1317.9ms\n",
      "video 1/1 (77/250) /Users/jurie.germishuys/Workspace/odf/koster-uw/kso/tutorials/000203 TMBL-ROV 2000 Säcken revet EJ numrerade band_blur.mp4: 512x640 7 deep_water_corals, 1326.5ms\n",
      "video 1/1 (78/250) /Users/jurie.germishuys/Workspace/odf/koster-uw/kso/tutorials/000203 TMBL-ROV 2000 Säcken revet EJ numrerade band_blur.mp4: 512x640 10 deep_water_corals, 1316.0ms\n",
      "video 1/1 (79/250) /Users/jurie.germishuys/Workspace/odf/koster-uw/kso/tutorials/000203 TMBL-ROV 2000 Säcken revet EJ numrerade band_blur.mp4: 512x640 7 deep_water_corals, 1386.7ms\n",
      "video 1/1 (80/250) /Users/jurie.germishuys/Workspace/odf/koster-uw/kso/tutorials/000203 TMBL-ROV 2000 Säcken revet EJ numrerade band_blur.mp4: 512x640 7 deep_water_corals, 1381.2ms\n",
      "video 1/1 (81/250) /Users/jurie.germishuys/Workspace/odf/koster-uw/kso/tutorials/000203 TMBL-ROV 2000 Säcken revet EJ numrerade band_blur.mp4: 512x640 7 deep_water_corals, 1441.0ms\n",
      "video 1/1 (82/250) /Users/jurie.germishuys/Workspace/odf/koster-uw/kso/tutorials/000203 TMBL-ROV 2000 Säcken revet EJ numrerade band_blur.mp4: 512x640 6 deep_water_corals, 1528.0ms\n",
      "video 1/1 (83/250) /Users/jurie.germishuys/Workspace/odf/koster-uw/kso/tutorials/000203 TMBL-ROV 2000 Säcken revet EJ numrerade band_blur.mp4: 512x640 5 deep_water_corals, 1426.0ms\n",
      "video 1/1 (84/250) /Users/jurie.germishuys/Workspace/odf/koster-uw/kso/tutorials/000203 TMBL-ROV 2000 Säcken revet EJ numrerade band_blur.mp4: 512x640 7 deep_water_corals, 1351.9ms\n",
      "video 1/1 (85/250) /Users/jurie.germishuys/Workspace/odf/koster-uw/kso/tutorials/000203 TMBL-ROV 2000 Säcken revet EJ numrerade band_blur.mp4: 512x640 8 deep_water_corals, 1351.2ms\n",
      "video 1/1 (86/250) /Users/jurie.germishuys/Workspace/odf/koster-uw/kso/tutorials/000203 TMBL-ROV 2000 Säcken revet EJ numrerade band_blur.mp4: 512x640 5 deep_water_corals, 1328.3ms\n",
      "video 1/1 (87/250) /Users/jurie.germishuys/Workspace/odf/koster-uw/kso/tutorials/000203 TMBL-ROV 2000 Säcken revet EJ numrerade band_blur.mp4: 512x640 6 deep_water_corals, 1362.2ms\n",
      "video 1/1 (88/250) /Users/jurie.germishuys/Workspace/odf/koster-uw/kso/tutorials/000203 TMBL-ROV 2000 Säcken revet EJ numrerade band_blur.mp4: 512x640 5 deep_water_corals, 1400.6ms\n",
      "video 1/1 (89/250) /Users/jurie.germishuys/Workspace/odf/koster-uw/kso/tutorials/000203 TMBL-ROV 2000 Säcken revet EJ numrerade band_blur.mp4: 512x640 7 deep_water_corals, 1352.6ms\n",
      "video 1/1 (90/250) /Users/jurie.germishuys/Workspace/odf/koster-uw/kso/tutorials/000203 TMBL-ROV 2000 Säcken revet EJ numrerade band_blur.mp4: 512x640 8 deep_water_corals, 1350.3ms\n",
      "video 1/1 (91/250) /Users/jurie.germishuys/Workspace/odf/koster-uw/kso/tutorials/000203 TMBL-ROV 2000 Säcken revet EJ numrerade band_blur.mp4: 512x640 7 deep_water_corals, 1349.1ms\n",
      "video 1/1 (92/250) /Users/jurie.germishuys/Workspace/odf/koster-uw/kso/tutorials/000203 TMBL-ROV 2000 Säcken revet EJ numrerade band_blur.mp4: 512x640 5 deep_water_corals, 1318.8ms\n",
      "video 1/1 (93/250) /Users/jurie.germishuys/Workspace/odf/koster-uw/kso/tutorials/000203 TMBL-ROV 2000 Säcken revet EJ numrerade band_blur.mp4: 512x640 6 deep_water_corals, 1314.4ms\n",
      "video 1/1 (94/250) /Users/jurie.germishuys/Workspace/odf/koster-uw/kso/tutorials/000203 TMBL-ROV 2000 Säcken revet EJ numrerade band_blur.mp4: 512x640 5 deep_water_corals, 1320.5ms\n",
      "video 1/1 (95/250) /Users/jurie.germishuys/Workspace/odf/koster-uw/kso/tutorials/000203 TMBL-ROV 2000 Säcken revet EJ numrerade band_blur.mp4: 512x640 7 deep_water_corals, 1318.2ms\n",
      "video 1/1 (96/250) /Users/jurie.germishuys/Workspace/odf/koster-uw/kso/tutorials/000203 TMBL-ROV 2000 Säcken revet EJ numrerade band_blur.mp4: 512x640 7 deep_water_corals, 1314.7ms\n",
      "video 1/1 (97/250) /Users/jurie.germishuys/Workspace/odf/koster-uw/kso/tutorials/000203 TMBL-ROV 2000 Säcken revet EJ numrerade band_blur.mp4: 512x640 9 deep_water_corals, 1313.8ms\n",
      "video 1/1 (98/250) /Users/jurie.germishuys/Workspace/odf/koster-uw/kso/tutorials/000203 TMBL-ROV 2000 Säcken revet EJ numrerade band_blur.mp4: 512x640 9 deep_water_corals, 1314.6ms\n",
      "video 1/1 (99/250) /Users/jurie.germishuys/Workspace/odf/koster-uw/kso/tutorials/000203 TMBL-ROV 2000 Säcken revet EJ numrerade band_blur.mp4: 512x640 9 deep_water_corals, 1314.8ms\n",
      "video 1/1 (100/250) /Users/jurie.germishuys/Workspace/odf/koster-uw/kso/tutorials/000203 TMBL-ROV 2000 Säcken revet EJ numrerade band_blur.mp4: 512x640 9 deep_water_corals, 1314.3ms\n",
      "video 1/1 (101/250) /Users/jurie.germishuys/Workspace/odf/koster-uw/kso/tutorials/000203 TMBL-ROV 2000 Säcken revet EJ numrerade band_blur.mp4: 512x640 9 deep_water_corals, 1315.2ms\n",
      "video 1/1 (102/250) /Users/jurie.germishuys/Workspace/odf/koster-uw/kso/tutorials/000203 TMBL-ROV 2000 Säcken revet EJ numrerade band_blur.mp4: 512x640 9 deep_water_corals, 1315.4ms\n",
      "video 1/1 (103/250) /Users/jurie.germishuys/Workspace/odf/koster-uw/kso/tutorials/000203 TMBL-ROV 2000 Säcken revet EJ numrerade band_blur.mp4: 512x640 8 deep_water_corals, 1319.8ms\n",
      "video 1/1 (104/250) /Users/jurie.germishuys/Workspace/odf/koster-uw/kso/tutorials/000203 TMBL-ROV 2000 Säcken revet EJ numrerade band_blur.mp4: 512x640 10 deep_water_corals, 1315.4ms\n",
      "video 1/1 (105/250) /Users/jurie.germishuys/Workspace/odf/koster-uw/kso/tutorials/000203 TMBL-ROV 2000 Säcken revet EJ numrerade band_blur.mp4: 512x640 9 deep_water_corals, 1314.6ms\n",
      "video 1/1 (106/250) /Users/jurie.germishuys/Workspace/odf/koster-uw/kso/tutorials/000203 TMBL-ROV 2000 Säcken revet EJ numrerade band_blur.mp4: 512x640 10 deep_water_corals, 1315.9ms\n",
      "video 1/1 (107/250) /Users/jurie.germishuys/Workspace/odf/koster-uw/kso/tutorials/000203 TMBL-ROV 2000 Säcken revet EJ numrerade band_blur.mp4: 512x640 8 deep_water_corals, 1314.7ms\n",
      "video 1/1 (108/250) /Users/jurie.germishuys/Workspace/odf/koster-uw/kso/tutorials/000203 TMBL-ROV 2000 Säcken revet EJ numrerade band_blur.mp4: 512x640 9 deep_water_corals, 1318.1ms\n",
      "video 1/1 (109/250) /Users/jurie.germishuys/Workspace/odf/koster-uw/kso/tutorials/000203 TMBL-ROV 2000 Säcken revet EJ numrerade band_blur.mp4: 512x640 8 deep_water_corals, 1318.3ms\n",
      "video 1/1 (110/250) /Users/jurie.germishuys/Workspace/odf/koster-uw/kso/tutorials/000203 TMBL-ROV 2000 Säcken revet EJ numrerade band_blur.mp4: 512x640 10 deep_water_corals, 1318.6ms\n",
      "video 1/1 (111/250) /Users/jurie.germishuys/Workspace/odf/koster-uw/kso/tutorials/000203 TMBL-ROV 2000 Säcken revet EJ numrerade band_blur.mp4: 512x640 11 deep_water_corals, 1315.4ms\n",
      "video 1/1 (112/250) /Users/jurie.germishuys/Workspace/odf/koster-uw/kso/tutorials/000203 TMBL-ROV 2000 Säcken revet EJ numrerade band_blur.mp4: 512x640 10 deep_water_corals, 1332.0ms\n",
      "video 1/1 (113/250) /Users/jurie.germishuys/Workspace/odf/koster-uw/kso/tutorials/000203 TMBL-ROV 2000 Säcken revet EJ numrerade band_blur.mp4: 512x640 11 deep_water_corals, 1315.4ms\n",
      "video 1/1 (114/250) /Users/jurie.germishuys/Workspace/odf/koster-uw/kso/tutorials/000203 TMBL-ROV 2000 Säcken revet EJ numrerade band_blur.mp4: 512x640 9 deep_water_corals, 1316.5ms\n",
      "video 1/1 (115/250) /Users/jurie.germishuys/Workspace/odf/koster-uw/kso/tutorials/000203 TMBL-ROV 2000 Säcken revet EJ numrerade band_blur.mp4: 512x640 9 deep_water_corals, 1315.6ms\n",
      "video 1/1 (116/250) /Users/jurie.germishuys/Workspace/odf/koster-uw/kso/tutorials/000203 TMBL-ROV 2000 Säcken revet EJ numrerade band_blur.mp4: 512x640 8 deep_water_corals, 1315.7ms\n",
      "video 1/1 (117/250) /Users/jurie.germishuys/Workspace/odf/koster-uw/kso/tutorials/000203 TMBL-ROV 2000 Säcken revet EJ numrerade band_blur.mp4: 512x640 8 deep_water_corals, 1318.2ms\n",
      "video 1/1 (118/250) /Users/jurie.germishuys/Workspace/odf/koster-uw/kso/tutorials/000203 TMBL-ROV 2000 Säcken revet EJ numrerade band_blur.mp4: 512x640 8 deep_water_corals, 1315.0ms\n",
      "video 1/1 (119/250) /Users/jurie.germishuys/Workspace/odf/koster-uw/kso/tutorials/000203 TMBL-ROV 2000 Säcken revet EJ numrerade band_blur.mp4: 512x640 9 deep_water_corals, 1314.7ms\n",
      "video 1/1 (120/250) /Users/jurie.germishuys/Workspace/odf/koster-uw/kso/tutorials/000203 TMBL-ROV 2000 Säcken revet EJ numrerade band_blur.mp4: 512x640 9 deep_water_corals, 1317.2ms\n",
      "video 1/1 (121/250) /Users/jurie.germishuys/Workspace/odf/koster-uw/kso/tutorials/000203 TMBL-ROV 2000 Säcken revet EJ numrerade band_blur.mp4: 512x640 10 deep_water_corals, 1315.5ms\n",
      "video 1/1 (122/250) /Users/jurie.germishuys/Workspace/odf/koster-uw/kso/tutorials/000203 TMBL-ROV 2000 Säcken revet EJ numrerade band_blur.mp4: 512x640 8 deep_water_corals, 1316.5ms\n",
      "video 1/1 (123/250) /Users/jurie.germishuys/Workspace/odf/koster-uw/kso/tutorials/000203 TMBL-ROV 2000 Säcken revet EJ numrerade band_blur.mp4: 512x640 7 deep_water_corals, 1316.9ms\n",
      "video 1/1 (124/250) /Users/jurie.germishuys/Workspace/odf/koster-uw/kso/tutorials/000203 TMBL-ROV 2000 Säcken revet EJ numrerade band_blur.mp4: 512x640 8 deep_water_corals, 1315.0ms\n",
      "video 1/1 (125/250) /Users/jurie.germishuys/Workspace/odf/koster-uw/kso/tutorials/000203 TMBL-ROV 2000 Säcken revet EJ numrerade band_blur.mp4: 512x640 7 deep_water_corals, 1314.3ms\n",
      "video 1/1 (126/250) /Users/jurie.germishuys/Workspace/odf/koster-uw/kso/tutorials/000203 TMBL-ROV 2000 Säcken revet EJ numrerade band_blur.mp4: 512x640 8 deep_water_corals, 1317.8ms\n",
      "video 1/1 (127/250) /Users/jurie.germishuys/Workspace/odf/koster-uw/kso/tutorials/000203 TMBL-ROV 2000 Säcken revet EJ numrerade band_blur.mp4: 512x640 8 deep_water_corals, 1315.2ms\n",
      "video 1/1 (128/250) /Users/jurie.germishuys/Workspace/odf/koster-uw/kso/tutorials/000203 TMBL-ROV 2000 Säcken revet EJ numrerade band_blur.mp4: 512x640 8 deep_water_corals, 1314.1ms\n",
      "video 1/1 (129/250) /Users/jurie.germishuys/Workspace/odf/koster-uw/kso/tutorials/000203 TMBL-ROV 2000 Säcken revet EJ numrerade band_blur.mp4: 512x640 10 deep_water_corals, 1316.0ms\n",
      "video 1/1 (130/250) /Users/jurie.germishuys/Workspace/odf/koster-uw/kso/tutorials/000203 TMBL-ROV 2000 Säcken revet EJ numrerade band_blur.mp4: 512x640 8 deep_water_corals, 1314.8ms\n",
      "video 1/1 (131/250) /Users/jurie.germishuys/Workspace/odf/koster-uw/kso/tutorials/000203 TMBL-ROV 2000 Säcken revet EJ numrerade band_blur.mp4: 512x640 7 deep_water_corals, 1314.7ms\n",
      "video 1/1 (132/250) /Users/jurie.germishuys/Workspace/odf/koster-uw/kso/tutorials/000203 TMBL-ROV 2000 Säcken revet EJ numrerade band_blur.mp4: 512x640 8 deep_water_corals, 1318.9ms\n",
      "video 1/1 (133/250) /Users/jurie.germishuys/Workspace/odf/koster-uw/kso/tutorials/000203 TMBL-ROV 2000 Säcken revet EJ numrerade band_blur.mp4: 512x640 10 deep_water_corals, 1314.8ms\n",
      "video 1/1 (134/250) /Users/jurie.germishuys/Workspace/odf/koster-uw/kso/tutorials/000203 TMBL-ROV 2000 Säcken revet EJ numrerade band_blur.mp4: 512x640 8 deep_water_corals, 1314.9ms\n",
      "video 1/1 (135/250) /Users/jurie.germishuys/Workspace/odf/koster-uw/kso/tutorials/000203 TMBL-ROV 2000 Säcken revet EJ numrerade band_blur.mp4: 512x640 7 deep_water_corals, 1316.0ms\n",
      "video 1/1 (136/250) /Users/jurie.germishuys/Workspace/odf/koster-uw/kso/tutorials/000203 TMBL-ROV 2000 Säcken revet EJ numrerade band_blur.mp4: 512x640 8 deep_water_corals, 1314.1ms\n",
      "video 1/1 (137/250) /Users/jurie.germishuys/Workspace/odf/koster-uw/kso/tutorials/000203 TMBL-ROV 2000 Säcken revet EJ numrerade band_blur.mp4: 512x640 6 deep_water_corals, 1314.5ms\n",
      "video 1/1 (138/250) /Users/jurie.germishuys/Workspace/odf/koster-uw/kso/tutorials/000203 TMBL-ROV 2000 Säcken revet EJ numrerade band_blur.mp4: 512x640 8 deep_water_corals, 1316.0ms\n",
      "video 1/1 (139/250) /Users/jurie.germishuys/Workspace/odf/koster-uw/kso/tutorials/000203 TMBL-ROV 2000 Säcken revet EJ numrerade band_blur.mp4: 512x640 8 deep_water_corals, 1314.1ms\n",
      "video 1/1 (140/250) /Users/jurie.germishuys/Workspace/odf/koster-uw/kso/tutorials/000203 TMBL-ROV 2000 Säcken revet EJ numrerade band_blur.mp4: 512x640 8 deep_water_corals, 1315.7ms\n",
      "video 1/1 (141/250) /Users/jurie.germishuys/Workspace/odf/koster-uw/kso/tutorials/000203 TMBL-ROV 2000 Säcken revet EJ numrerade band_blur.mp4: 512x640 6 deep_water_corals, 1315.8ms\n",
      "video 1/1 (142/250) /Users/jurie.germishuys/Workspace/odf/koster-uw/kso/tutorials/000203 TMBL-ROV 2000 Säcken revet EJ numrerade band_blur.mp4: 512x640 6 deep_water_corals, 1340.7ms\n",
      "video 1/1 (143/250) /Users/jurie.germishuys/Workspace/odf/koster-uw/kso/tutorials/000203 TMBL-ROV 2000 Säcken revet EJ numrerade band_blur.mp4: 512x640 9 deep_water_corals, 1453.5ms\n",
      "video 1/1 (144/250) /Users/jurie.germishuys/Workspace/odf/koster-uw/kso/tutorials/000203 TMBL-ROV 2000 Säcken revet EJ numrerade band_blur.mp4: 512x640 7 deep_water_corals, 1320.2ms\n",
      "video 1/1 (145/250) /Users/jurie.germishuys/Workspace/odf/koster-uw/kso/tutorials/000203 TMBL-ROV 2000 Säcken revet EJ numrerade band_blur.mp4: 512x640 8 deep_water_corals, 1315.1ms\n",
      "video 1/1 (146/250) /Users/jurie.germishuys/Workspace/odf/koster-uw/kso/tutorials/000203 TMBL-ROV 2000 Säcken revet EJ numrerade band_blur.mp4: 512x640 7 deep_water_corals, 1314.6ms\n",
      "video 1/1 (147/250) /Users/jurie.germishuys/Workspace/odf/koster-uw/kso/tutorials/000203 TMBL-ROV 2000 Säcken revet EJ numrerade band_blur.mp4: 512x640 8 deep_water_corals, 1318.6ms\n",
      "video 1/1 (148/250) /Users/jurie.germishuys/Workspace/odf/koster-uw/kso/tutorials/000203 TMBL-ROV 2000 Säcken revet EJ numrerade band_blur.mp4: 512x640 9 deep_water_corals, 1329.2ms\n",
      "video 1/1 (149/250) /Users/jurie.germishuys/Workspace/odf/koster-uw/kso/tutorials/000203 TMBL-ROV 2000 Säcken revet EJ numrerade band_blur.mp4: 512x640 9 deep_water_corals, 1318.7ms\n",
      "video 1/1 (150/250) /Users/jurie.germishuys/Workspace/odf/koster-uw/kso/tutorials/000203 TMBL-ROV 2000 Säcken revet EJ numrerade band_blur.mp4: 512x640 8 deep_water_corals, 1316.0ms\n",
      "video 1/1 (151/250) /Users/jurie.germishuys/Workspace/odf/koster-uw/kso/tutorials/000203 TMBL-ROV 2000 Säcken revet EJ numrerade band_blur.mp4: 512x640 9 deep_water_corals, 1315.4ms\n",
      "video 1/1 (152/250) /Users/jurie.germishuys/Workspace/odf/koster-uw/kso/tutorials/000203 TMBL-ROV 2000 Säcken revet EJ numrerade band_blur.mp4: 512x640 6 deep_water_corals, 1314.6ms\n",
      "video 1/1 (153/250) /Users/jurie.germishuys/Workspace/odf/koster-uw/kso/tutorials/000203 TMBL-ROV 2000 Säcken revet EJ numrerade band_blur.mp4: 512x640 5 deep_water_corals, 1315.8ms\n",
      "video 1/1 (154/250) /Users/jurie.germishuys/Workspace/odf/koster-uw/kso/tutorials/000203 TMBL-ROV 2000 Säcken revet EJ numrerade band_blur.mp4: 512x640 5 deep_water_corals, 1314.4ms\n",
      "video 1/1 (155/250) /Users/jurie.germishuys/Workspace/odf/koster-uw/kso/tutorials/000203 TMBL-ROV 2000 Säcken revet EJ numrerade band_blur.mp4: 512x640 6 deep_water_corals, 1317.8ms\n",
      "video 1/1 (156/250) /Users/jurie.germishuys/Workspace/odf/koster-uw/kso/tutorials/000203 TMBL-ROV 2000 Säcken revet EJ numrerade band_blur.mp4: 512x640 6 deep_water_corals, 1316.1ms\n",
      "video 1/1 (157/250) /Users/jurie.germishuys/Workspace/odf/koster-uw/kso/tutorials/000203 TMBL-ROV 2000 Säcken revet EJ numrerade band_blur.mp4: 512x640 4 deep_water_corals, 1314.5ms\n",
      "video 1/1 (158/250) /Users/jurie.germishuys/Workspace/odf/koster-uw/kso/tutorials/000203 TMBL-ROV 2000 Säcken revet EJ numrerade band_blur.mp4: 512x640 5 deep_water_corals, 1314.7ms\n",
      "video 1/1 (159/250) /Users/jurie.germishuys/Workspace/odf/koster-uw/kso/tutorials/000203 TMBL-ROV 2000 Säcken revet EJ numrerade band_blur.mp4: 512x640 4 deep_water_corals, 1316.0ms\n",
      "video 1/1 (160/250) /Users/jurie.germishuys/Workspace/odf/koster-uw/kso/tutorials/000203 TMBL-ROV 2000 Säcken revet EJ numrerade band_blur.mp4: 512x640 6 deep_water_corals, 1314.9ms\n",
      "video 1/1 (161/250) /Users/jurie.germishuys/Workspace/odf/koster-uw/kso/tutorials/000203 TMBL-ROV 2000 Säcken revet EJ numrerade band_blur.mp4: 512x640 5 deep_water_corals, 1314.9ms\n",
      "video 1/1 (162/250) /Users/jurie.germishuys/Workspace/odf/koster-uw/kso/tutorials/000203 TMBL-ROV 2000 Säcken revet EJ numrerade band_blur.mp4: 512x640 5 deep_water_corals, 1316.7ms\n",
      "video 1/1 (163/250) /Users/jurie.germishuys/Workspace/odf/koster-uw/kso/tutorials/000203 TMBL-ROV 2000 Säcken revet EJ numrerade band_blur.mp4: 512x640 5 deep_water_corals, 1314.9ms\n",
      "video 1/1 (164/250) /Users/jurie.germishuys/Workspace/odf/koster-uw/kso/tutorials/000203 TMBL-ROV 2000 Säcken revet EJ numrerade band_blur.mp4: 512x640 5 deep_water_corals, 1315.4ms\n",
      "video 1/1 (165/250) /Users/jurie.germishuys/Workspace/odf/koster-uw/kso/tutorials/000203 TMBL-ROV 2000 Säcken revet EJ numrerade band_blur.mp4: 512x640 4 deep_water_corals, 1315.1ms\n",
      "video 1/1 (166/250) /Users/jurie.germishuys/Workspace/odf/koster-uw/kso/tutorials/000203 TMBL-ROV 2000 Säcken revet EJ numrerade band_blur.mp4: 512x640 5 deep_water_corals, 1314.5ms\n",
      "video 1/1 (167/250) /Users/jurie.germishuys/Workspace/odf/koster-uw/kso/tutorials/000203 TMBL-ROV 2000 Säcken revet EJ numrerade band_blur.mp4: 512x640 5 deep_water_corals, 1316.2ms\n",
      "video 1/1 (168/250) /Users/jurie.germishuys/Workspace/odf/koster-uw/kso/tutorials/000203 TMBL-ROV 2000 Säcken revet EJ numrerade band_blur.mp4: 512x640 5 deep_water_corals, 1325.8ms\n",
      "video 1/1 (169/250) /Users/jurie.germishuys/Workspace/odf/koster-uw/kso/tutorials/000203 TMBL-ROV 2000 Säcken revet EJ numrerade band_blur.mp4: 512x640 5 deep_water_corals, 1316.1ms\n",
      "video 1/1 (170/250) /Users/jurie.germishuys/Workspace/odf/koster-uw/kso/tutorials/000203 TMBL-ROV 2000 Säcken revet EJ numrerade band_blur.mp4: 512x640 6 deep_water_corals, 1315.4ms\n",
      "video 1/1 (171/250) /Users/jurie.germishuys/Workspace/odf/koster-uw/kso/tutorials/000203 TMBL-ROV 2000 Säcken revet EJ numrerade band_blur.mp4: 512x640 4 deep_water_corals, 1315.9ms\n",
      "video 1/1 (172/250) /Users/jurie.germishuys/Workspace/odf/koster-uw/kso/tutorials/000203 TMBL-ROV 2000 Säcken revet EJ numrerade band_blur.mp4: 512x640 5 deep_water_corals, 1315.5ms\n",
      "video 1/1 (173/250) /Users/jurie.germishuys/Workspace/odf/koster-uw/kso/tutorials/000203 TMBL-ROV 2000 Säcken revet EJ numrerade band_blur.mp4: 512x640 5 deep_water_corals, 1316.2ms\n",
      "video 1/1 (174/250) /Users/jurie.germishuys/Workspace/odf/koster-uw/kso/tutorials/000203 TMBL-ROV 2000 Säcken revet EJ numrerade band_blur.mp4: 512x640 8 deep_water_corals, 1316.6ms\n",
      "video 1/1 (175/250) /Users/jurie.germishuys/Workspace/odf/koster-uw/kso/tutorials/000203 TMBL-ROV 2000 Säcken revet EJ numrerade band_blur.mp4: 512x640 7 deep_water_corals, 1317.0ms\n",
      "video 1/1 (176/250) /Users/jurie.germishuys/Workspace/odf/koster-uw/kso/tutorials/000203 TMBL-ROV 2000 Säcken revet EJ numrerade band_blur.mp4: 512x640 4 deep_water_corals, 1315.0ms\n",
      "video 1/1 (177/250) /Users/jurie.germishuys/Workspace/odf/koster-uw/kso/tutorials/000203 TMBL-ROV 2000 Säcken revet EJ numrerade band_blur.mp4: 512x640 8 deep_water_corals, 1317.0ms\n",
      "video 1/1 (178/250) /Users/jurie.germishuys/Workspace/odf/koster-uw/kso/tutorials/000203 TMBL-ROV 2000 Säcken revet EJ numrerade band_blur.mp4: 512x640 8 deep_water_corals, 1316.3ms\n",
      "video 1/1 (179/250) /Users/jurie.germishuys/Workspace/odf/koster-uw/kso/tutorials/000203 TMBL-ROV 2000 Säcken revet EJ numrerade band_blur.mp4: 512x640 8 deep_water_corals, 1314.8ms\n",
      "video 1/1 (180/250) /Users/jurie.germishuys/Workspace/odf/koster-uw/kso/tutorials/000203 TMBL-ROV 2000 Säcken revet EJ numrerade band_blur.mp4: 512x640 7 deep_water_corals, 1318.2ms\n",
      "video 1/1 (181/250) /Users/jurie.germishuys/Workspace/odf/koster-uw/kso/tutorials/000203 TMBL-ROV 2000 Säcken revet EJ numrerade band_blur.mp4: 512x640 7 deep_water_corals, 1315.1ms\n",
      "video 1/1 (182/250) /Users/jurie.germishuys/Workspace/odf/koster-uw/kso/tutorials/000203 TMBL-ROV 2000 Säcken revet EJ numrerade band_blur.mp4: 512x640 7 deep_water_corals, 1315.5ms\n",
      "video 1/1 (183/250) /Users/jurie.germishuys/Workspace/odf/koster-uw/kso/tutorials/000203 TMBL-ROV 2000 Säcken revet EJ numrerade band_blur.mp4: 512x640 10 deep_water_corals, 1324.8ms\n",
      "video 1/1 (184/250) /Users/jurie.germishuys/Workspace/odf/koster-uw/kso/tutorials/000203 TMBL-ROV 2000 Säcken revet EJ numrerade band_blur.mp4: 512x640 10 deep_water_corals, 1316.2ms\n",
      "video 1/1 (185/250) /Users/jurie.germishuys/Workspace/odf/koster-uw/kso/tutorials/000203 TMBL-ROV 2000 Säcken revet EJ numrerade band_blur.mp4: 512x640 10 deep_water_corals, 1315.7ms\n",
      "video 1/1 (186/250) /Users/jurie.germishuys/Workspace/odf/koster-uw/kso/tutorials/000203 TMBL-ROV 2000 Säcken revet EJ numrerade band_blur.mp4: 512x640 10 deep_water_corals, 1317.3ms\n",
      "video 1/1 (187/250) /Users/jurie.germishuys/Workspace/odf/koster-uw/kso/tutorials/000203 TMBL-ROV 2000 Säcken revet EJ numrerade band_blur.mp4: 512x640 6 deep_water_corals, 1316.8ms\n",
      "video 1/1 (188/250) /Users/jurie.germishuys/Workspace/odf/koster-uw/kso/tutorials/000203 TMBL-ROV 2000 Säcken revet EJ numrerade band_blur.mp4: 512x640 5 deep_water_corals, 1315.5ms\n",
      "video 1/1 (189/250) /Users/jurie.germishuys/Workspace/odf/koster-uw/kso/tutorials/000203 TMBL-ROV 2000 Säcken revet EJ numrerade band_blur.mp4: 512x640 5 deep_water_corals, 1325.6ms\n",
      "video 1/1 (190/250) /Users/jurie.germishuys/Workspace/odf/koster-uw/kso/tutorials/000203 TMBL-ROV 2000 Säcken revet EJ numrerade band_blur.mp4: 512x640 10 deep_water_corals, 1322.9ms\n",
      "video 1/1 (191/250) /Users/jurie.germishuys/Workspace/odf/koster-uw/kso/tutorials/000203 TMBL-ROV 2000 Säcken revet EJ numrerade band_blur.mp4: 512x640 9 deep_water_corals, 1315.0ms\n",
      "video 1/1 (192/250) /Users/jurie.germishuys/Workspace/odf/koster-uw/kso/tutorials/000203 TMBL-ROV 2000 Säcken revet EJ numrerade band_blur.mp4: 512x640 7 deep_water_corals, 1315.7ms\n",
      "video 1/1 (193/250) /Users/jurie.germishuys/Workspace/odf/koster-uw/kso/tutorials/000203 TMBL-ROV 2000 Säcken revet EJ numrerade band_blur.mp4: 512x640 9 deep_water_corals, 1316.6ms\n",
      "video 1/1 (194/250) /Users/jurie.germishuys/Workspace/odf/koster-uw/kso/tutorials/000203 TMBL-ROV 2000 Säcken revet EJ numrerade band_blur.mp4: 512x640 8 deep_water_corals, 1357.9ms\n",
      "video 1/1 (195/250) /Users/jurie.germishuys/Workspace/odf/koster-uw/kso/tutorials/000203 TMBL-ROV 2000 Säcken revet EJ numrerade band_blur.mp4: 512x640 7 deep_water_corals, 1317.6ms\n",
      "video 1/1 (196/250) /Users/jurie.germishuys/Workspace/odf/koster-uw/kso/tutorials/000203 TMBL-ROV 2000 Säcken revet EJ numrerade band_blur.mp4: 512x640 9 deep_water_corals, 1319.5ms\n",
      "video 1/1 (197/250) /Users/jurie.germishuys/Workspace/odf/koster-uw/kso/tutorials/000203 TMBL-ROV 2000 Säcken revet EJ numrerade band_blur.mp4: 512x640 10 deep_water_corals, 1315.1ms\n",
      "video 1/1 (198/250) /Users/jurie.germishuys/Workspace/odf/koster-uw/kso/tutorials/000203 TMBL-ROV 2000 Säcken revet EJ numrerade band_blur.mp4: 512x640 10 deep_water_corals, 1316.6ms\n",
      "video 1/1 (199/250) /Users/jurie.germishuys/Workspace/odf/koster-uw/kso/tutorials/000203 TMBL-ROV 2000 Säcken revet EJ numrerade band_blur.mp4: 512x640 8 deep_water_corals, 1315.1ms\n",
      "video 1/1 (200/250) /Users/jurie.germishuys/Workspace/odf/koster-uw/kso/tutorials/000203 TMBL-ROV 2000 Säcken revet EJ numrerade band_blur.mp4: 512x640 8 deep_water_corals, 1319.0ms\n",
      "video 1/1 (201/250) /Users/jurie.germishuys/Workspace/odf/koster-uw/kso/tutorials/000203 TMBL-ROV 2000 Säcken revet EJ numrerade band_blur.mp4: 512x640 6 deep_water_corals, 1347.1ms\n",
      "video 1/1 (202/250) /Users/jurie.germishuys/Workspace/odf/koster-uw/kso/tutorials/000203 TMBL-ROV 2000 Säcken revet EJ numrerade band_blur.mp4: 512x640 6 deep_water_corals, 1315.7ms\n",
      "video 1/1 (203/250) /Users/jurie.germishuys/Workspace/odf/koster-uw/kso/tutorials/000203 TMBL-ROV 2000 Säcken revet EJ numrerade band_blur.mp4: 512x640 7 deep_water_corals, 1315.6ms\n",
      "video 1/1 (204/250) /Users/jurie.germishuys/Workspace/odf/koster-uw/kso/tutorials/000203 TMBL-ROV 2000 Säcken revet EJ numrerade band_blur.mp4: 512x640 6 deep_water_corals, 1317.0ms\n",
      "video 1/1 (205/250) /Users/jurie.germishuys/Workspace/odf/koster-uw/kso/tutorials/000203 TMBL-ROV 2000 Säcken revet EJ numrerade band_blur.mp4: 512x640 4 deep_water_corals, 1315.4ms\n",
      "video 1/1 (206/250) /Users/jurie.germishuys/Workspace/odf/koster-uw/kso/tutorials/000203 TMBL-ROV 2000 Säcken revet EJ numrerade band_blur.mp4: 512x640 5 deep_water_corals, 1316.1ms\n",
      "video 1/1 (207/250) /Users/jurie.germishuys/Workspace/odf/koster-uw/kso/tutorials/000203 TMBL-ROV 2000 Säcken revet EJ numrerade band_blur.mp4: 512x640 3 deep_water_corals, 1317.5ms\n",
      "video 1/1 (208/250) /Users/jurie.germishuys/Workspace/odf/koster-uw/kso/tutorials/000203 TMBL-ROV 2000 Säcken revet EJ numrerade band_blur.mp4: 512x640 7 deep_water_corals, 1316.3ms\n",
      "video 1/1 (209/250) /Users/jurie.germishuys/Workspace/odf/koster-uw/kso/tutorials/000203 TMBL-ROV 2000 Säcken revet EJ numrerade band_blur.mp4: 512x640 6 deep_water_corals, 1316.5ms\n",
      "video 1/1 (210/250) /Users/jurie.germishuys/Workspace/odf/koster-uw/kso/tutorials/000203 TMBL-ROV 2000 Säcken revet EJ numrerade band_blur.mp4: 512x640 4 deep_water_corals, 1316.4ms\n",
      "video 1/1 (211/250) /Users/jurie.germishuys/Workspace/odf/koster-uw/kso/tutorials/000203 TMBL-ROV 2000 Säcken revet EJ numrerade band_blur.mp4: 512x640 3 deep_water_corals, 1316.2ms\n",
      "video 1/1 (212/250) /Users/jurie.germishuys/Workspace/odf/koster-uw/kso/tutorials/000203 TMBL-ROV 2000 Säcken revet EJ numrerade band_blur.mp4: 512x640 7 deep_water_corals, 1315.6ms\n",
      "video 1/1 (213/250) /Users/jurie.germishuys/Workspace/odf/koster-uw/kso/tutorials/000203 TMBL-ROV 2000 Säcken revet EJ numrerade band_blur.mp4: 512x640 5 deep_water_corals, 1317.1ms\n",
      "video 1/1 (214/250) /Users/jurie.germishuys/Workspace/odf/koster-uw/kso/tutorials/000203 TMBL-ROV 2000 Säcken revet EJ numrerade band_blur.mp4: 512x640 5 deep_water_corals, 1316.3ms\n",
      "video 1/1 (215/250) /Users/jurie.germishuys/Workspace/odf/koster-uw/kso/tutorials/000203 TMBL-ROV 2000 Säcken revet EJ numrerade band_blur.mp4: 512x640 5 deep_water_corals, 1315.2ms\n",
      "video 1/1 (216/250) /Users/jurie.germishuys/Workspace/odf/koster-uw/kso/tutorials/000203 TMBL-ROV 2000 Säcken revet EJ numrerade band_blur.mp4: 512x640 4 deep_water_corals, 1318.0ms\n",
      "video 1/1 (217/250) /Users/jurie.germishuys/Workspace/odf/koster-uw/kso/tutorials/000203 TMBL-ROV 2000 Säcken revet EJ numrerade band_blur.mp4: 512x640 9 deep_water_corals, 1315.5ms\n",
      "video 1/1 (218/250) /Users/jurie.germishuys/Workspace/odf/koster-uw/kso/tutorials/000203 TMBL-ROV 2000 Säcken revet EJ numrerade band_blur.mp4: 512x640 7 deep_water_corals, 1315.1ms\n",
      "video 1/1 (219/250) /Users/jurie.germishuys/Workspace/odf/koster-uw/kso/tutorials/000203 TMBL-ROV 2000 Säcken revet EJ numrerade band_blur.mp4: 512x640 5 deep_water_corals, 1316.0ms\n",
      "video 1/1 (220/250) /Users/jurie.germishuys/Workspace/odf/koster-uw/kso/tutorials/000203 TMBL-ROV 2000 Säcken revet EJ numrerade band_blur.mp4: 512x640 9 deep_water_corals, 1315.8ms\n",
      "video 1/1 (221/250) /Users/jurie.germishuys/Workspace/odf/koster-uw/kso/tutorials/000203 TMBL-ROV 2000 Säcken revet EJ numrerade band_blur.mp4: 512x640 9 deep_water_corals, 1331.6ms\n",
      "video 1/1 (222/250) /Users/jurie.germishuys/Workspace/odf/koster-uw/kso/tutorials/000203 TMBL-ROV 2000 Säcken revet EJ numrerade band_blur.mp4: 512x640 8 deep_water_corals, 1315.7ms\n",
      "video 1/1 (223/250) /Users/jurie.germishuys/Workspace/odf/koster-uw/kso/tutorials/000203 TMBL-ROV 2000 Säcken revet EJ numrerade band_blur.mp4: 512x640 7 deep_water_corals, 1317.8ms\n",
      "video 1/1 (224/250) /Users/jurie.germishuys/Workspace/odf/koster-uw/kso/tutorials/000203 TMBL-ROV 2000 Säcken revet EJ numrerade band_blur.mp4: 512x640 6 deep_water_corals, 1314.6ms\n",
      "video 1/1 (225/250) /Users/jurie.germishuys/Workspace/odf/koster-uw/kso/tutorials/000203 TMBL-ROV 2000 Säcken revet EJ numrerade band_blur.mp4: 512x640 10 deep_water_corals, 1315.8ms\n",
      "video 1/1 (226/250) /Users/jurie.germishuys/Workspace/odf/koster-uw/kso/tutorials/000203 TMBL-ROV 2000 Säcken revet EJ numrerade band_blur.mp4: 512x640 10 deep_water_corals, 1316.2ms\n",
      "video 1/1 (227/250) /Users/jurie.germishuys/Workspace/odf/koster-uw/kso/tutorials/000203 TMBL-ROV 2000 Säcken revet EJ numrerade band_blur.mp4: 512x640 10 deep_water_corals, 1314.8ms\n",
      "video 1/1 (228/250) /Users/jurie.germishuys/Workspace/odf/koster-uw/kso/tutorials/000203 TMBL-ROV 2000 Säcken revet EJ numrerade band_blur.mp4: 512x640 10 deep_water_corals, 1315.9ms\n",
      "video 1/1 (229/250) /Users/jurie.germishuys/Workspace/odf/koster-uw/kso/tutorials/000203 TMBL-ROV 2000 Säcken revet EJ numrerade band_blur.mp4: 512x640 11 deep_water_corals, 1313.7ms\n",
      "video 1/1 (230/250) /Users/jurie.germishuys/Workspace/odf/koster-uw/kso/tutorials/000203 TMBL-ROV 2000 Säcken revet EJ numrerade band_blur.mp4: 512x640 12 deep_water_corals, 1314.3ms\n",
      "video 1/1 (231/250) /Users/jurie.germishuys/Workspace/odf/koster-uw/kso/tutorials/000203 TMBL-ROV 2000 Säcken revet EJ numrerade band_blur.mp4: 512x640 8 deep_water_corals, 1316.5ms\n",
      "video 1/1 (232/250) /Users/jurie.germishuys/Workspace/odf/koster-uw/kso/tutorials/000203 TMBL-ROV 2000 Säcken revet EJ numrerade band_blur.mp4: 512x640 11 deep_water_corals, 1314.4ms\n",
      "video 1/1 (233/250) /Users/jurie.germishuys/Workspace/odf/koster-uw/kso/tutorials/000203 TMBL-ROV 2000 Säcken revet EJ numrerade band_blur.mp4: 512x640 14 deep_water_corals, 1314.5ms\n",
      "video 1/1 (234/250) /Users/jurie.germishuys/Workspace/odf/koster-uw/kso/tutorials/000203 TMBL-ROV 2000 Säcken revet EJ numrerade band_blur.mp4: 512x640 13 deep_water_corals, 1316.5ms\n",
      "video 1/1 (235/250) /Users/jurie.germishuys/Workspace/odf/koster-uw/kso/tutorials/000203 TMBL-ROV 2000 Säcken revet EJ numrerade band_blur.mp4: 512x640 10 deep_water_corals, 1314.9ms\n",
      "video 1/1 (236/250) /Users/jurie.germishuys/Workspace/odf/koster-uw/kso/tutorials/000203 TMBL-ROV 2000 Säcken revet EJ numrerade band_blur.mp4: 512x640 12 deep_water_corals, 1314.8ms\n",
      "video 1/1 (237/250) /Users/jurie.germishuys/Workspace/odf/koster-uw/kso/tutorials/000203 TMBL-ROV 2000 Säcken revet EJ numrerade band_blur.mp4: 512x640 11 deep_water_corals, 1316.1ms\n",
      "video 1/1 (238/250) /Users/jurie.germishuys/Workspace/odf/koster-uw/kso/tutorials/000203 TMBL-ROV 2000 Säcken revet EJ numrerade band_blur.mp4: 512x640 14 deep_water_corals, 1314.9ms\n",
      "video 1/1 (239/250) /Users/jurie.germishuys/Workspace/odf/koster-uw/kso/tutorials/000203 TMBL-ROV 2000 Säcken revet EJ numrerade band_blur.mp4: 512x640 11 deep_water_corals, 1316.5ms\n",
      "video 1/1 (240/250) /Users/jurie.germishuys/Workspace/odf/koster-uw/kso/tutorials/000203 TMBL-ROV 2000 Säcken revet EJ numrerade band_blur.mp4: 512x640 8 deep_water_corals, 1315.9ms\n",
      "video 1/1 (241/250) /Users/jurie.germishuys/Workspace/odf/koster-uw/kso/tutorials/000203 TMBL-ROV 2000 Säcken revet EJ numrerade band_blur.mp4: 512x640 10 deep_water_corals, 1314.2ms\n",
      "video 1/1 (242/250) /Users/jurie.germishuys/Workspace/odf/koster-uw/kso/tutorials/000203 TMBL-ROV 2000 Säcken revet EJ numrerade band_blur.mp4: 512x640 10 deep_water_corals, 1314.9ms\n",
      "video 1/1 (243/250) /Users/jurie.germishuys/Workspace/odf/koster-uw/kso/tutorials/000203 TMBL-ROV 2000 Säcken revet EJ numrerade band_blur.mp4: 512x640 12 deep_water_corals, 1315.3ms\n",
      "video 1/1 (244/250) /Users/jurie.germishuys/Workspace/odf/koster-uw/kso/tutorials/000203 TMBL-ROV 2000 Säcken revet EJ numrerade band_blur.mp4: 512x640 11 deep_water_corals, 1313.9ms\n",
      "video 1/1 (245/250) /Users/jurie.germishuys/Workspace/odf/koster-uw/kso/tutorials/000203 TMBL-ROV 2000 Säcken revet EJ numrerade band_blur.mp4: 512x640 14 deep_water_corals, 1315.8ms\n",
      "video 1/1 (246/250) /Users/jurie.germishuys/Workspace/odf/koster-uw/kso/tutorials/000203 TMBL-ROV 2000 Säcken revet EJ numrerade band_blur.mp4: 512x640 14 deep_water_corals, 1322.3ms\n",
      "video 1/1 (247/250) /Users/jurie.germishuys/Workspace/odf/koster-uw/kso/tutorials/000203 TMBL-ROV 2000 Säcken revet EJ numrerade band_blur.mp4: 512x640 11 deep_water_corals, 1314.3ms\n",
      "video 1/1 (248/250) /Users/jurie.germishuys/Workspace/odf/koster-uw/kso/tutorials/000203 TMBL-ROV 2000 Säcken revet EJ numrerade band_blur.mp4: 512x640 10 deep_water_corals, 1315.6ms\n",
      "video 1/1 (249/250) /Users/jurie.germishuys/Workspace/odf/koster-uw/kso/tutorials/000203 TMBL-ROV 2000 Säcken revet EJ numrerade band_blur.mp4: 512x640 10 deep_water_corals, 1315.8ms\n",
      "video 1/1 (250/250) /Users/jurie.germishuys/Workspace/odf/koster-uw/kso/tutorials/000203 TMBL-ROV 2000 Säcken revet EJ numrerade band_blur.mp4: 512x640 11 deep_water_corals, 1314.8ms\n",
      "Speed: 1.4ms preprocess, 1327.7ms inference, 0.5ms postprocess per image at shape (1, 3, 512, 640)\n",
      "Results saved to \u001b[1mruns/detect/predict9\u001b[0m\n",
      "250 labels saved to runs/detect/predict9/labels\n"
     ]
    }
   ],
   "source": [
    "# @title <font size=\"5\">↓ ឵឵<i>Run model over selected custom footage</font> { vertical-output: true }\n",
    "mlp.detect_yolo(\n",
    "    source=source_value,\n",
    "    conf_thres=conf_thres.value,\n",
    "    artifact_dir=artifact_dir,\n",
    "    save_output=True,\n",
    ")"
   ]
  },
  {
   "cell_type": "code",
   "execution_count": 114,
   "id": "890ce983",
   "metadata": {
    "scrolled": true
   },
   "outputs": [
    {
     "data": {
      "application/vnd.jupyter.widget-view+json": {
       "model_id": "f314a38ca5a649fca1b8382d50d4bfd6",
       "version_major": 2,
       "version_minor": 0
      },
      "text/plain": [
       "FileChooser(path='.', filename='', title='HTML(value='Choose location of runs output')', show_hidden='False', …"
      ]
     },
     "metadata": {},
     "output_type": "display_data"
    }
   ],
   "source": [
    "# @title <font size=\"5\">↓ ឵឵<i>Choose folder with the evaluation data</font> { vertical-output: true }\n",
    "eval_dir = kso_widgets.choose_folder(\n",
    "    save_dir.selected\n",
    "    if \"save_dir\" in vars() and save_dir.selected is not None\n",
    "    else \".\",\n",
    "    \"runs output\",\n",
    ")"
   ]
  },
  {
   "cell_type": "code",
   "execution_count": 119,
   "id": "665e79cc",
   "metadata": {},
   "outputs": [
    {
     "name": "stderr",
     "output_type": "stream",
     "text": [
      "INFO:root:Report created at /Users/jurie.germishuys/Workspace/odf/koster-uw/kso/tutorials/runs/detect/predict7/annotations.csv\n"
     ]
    }
   ],
   "source": [
    "# @title <font size=\"5\">↓ ឵឵<i>Add the data to Weights and Biases</font> { vertical-output: true }\n",
    "mlp.save_detections(conf_thres.value, model.value, eval_dir.selected)"
   ]
  },
  {
   "cell_type": "code",
   "execution_count": 120,
   "id": "4d54a6b8",
   "metadata": {
    "scrolled": false
   },
   "outputs": [
    {
     "data": {
      "application/vnd.jupyter.widget-view+json": {
       "model_id": "be0ed6b8224a46b7bd80bfa2ead36731",
       "version_major": 2,
       "version_minor": 0
      },
      "text/plain": [
       "Dropdown(description='Select file:', layout=Layout(width='50%'), options=('/Users/jurie.germishuys/Workspace/o…"
      ]
     },
     "metadata": {},
     "output_type": "display_data"
    },
    {
     "data": {
      "application/vnd.jupyter.widget-view+json": {
       "model_id": "5843415bfb2b4cf2bceec7d950275017",
       "version_major": 2,
       "version_minor": 0
      },
      "text/plain": [
       "Output()"
      ]
     },
     "metadata": {},
     "output_type": "display_data"
    }
   ],
   "source": [
    "# @title <font size=\"5\">↓ ឵឵<i>View model output</font> { vertical-output: true }\n",
    "viewer = y_utils.choose_files(eval_dir.selected)"
   ]
  },
  {
   "cell_type": "code",
   "execution_count": 121,
   "id": "60a2a99f",
   "metadata": {},
   "outputs": [
    {
     "name": "stderr",
     "output_type": "stream",
     "text": [
      "ERROR:root:This is not currently supported for MLflow\n"
     ]
    }
   ],
   "source": [
    "# @title <font size=\"5\">↓ ឵឵<i>Investigate training and validation datasets (only image data)</font> { vertical-output: true }\n",
    "train_dataset, val_dataset = mlp.get_dataset(model.value)"
   ]
  },
  {
   "cell_type": "code",
   "execution_count": 55,
   "id": "aef76ac9",
   "metadata": {},
   "outputs": [
    {
     "ename": "FileNotFoundError",
     "evalue": "[Errno 2] No such file or directory: 'data/images'",
     "output_type": "error",
     "traceback": [
      "\u001b[0;31m---------------------------------------------------------------------------\u001b[0m",
      "\u001b[0;31mFileNotFoundError\u001b[0m                         Traceback (most recent call last)",
      "\u001b[1;32m/Users/jurie.germishuys/Workspace/odf/koster-uw/kso/tutorials/06_Evaluate_ML_Models.ipynb Cell 28\u001b[0m line \u001b[0;36m2\n\u001b[1;32m      <a href='vscode-notebook-cell:/Users/jurie.germishuys/Workspace/odf/koster-uw/kso/tutorials/06_Evaluate_ML_Models.ipynb#X36sZmlsZQ%3D%3D?line=0'>1</a>\u001b[0m \u001b[39m# Training set\u001b[39;00m\n\u001b[0;32m----> <a href='vscode-notebook-cell:/Users/jurie.germishuys/Workspace/odf/koster-uw/kso/tutorials/06_Evaluate_ML_Models.ipynb#X36sZmlsZQ%3D%3D?line=1'>2</a>\u001b[0m y_utils\u001b[39m.\u001b[39;49mget_data_viewer(os\u001b[39m.\u001b[39;49mpath\u001b[39m.\u001b[39;49mjoin(train_dataset, \u001b[39m\"\u001b[39;49m\u001b[39mdata/images\u001b[39;49m\u001b[39m\"\u001b[39;49m))\n",
      "File \u001b[0;32m~/Workspace/odf/koster-uw/kso/kso_utils/yolo_utils.py:1616\u001b[0m, in \u001b[0;36mget_data_viewer\u001b[0;34m(data_path)\u001b[0m\n\u001b[1;32m   1614\u001b[0m     logging\u001b[39m.\u001b[39minfo(\u001b[39m\"\u001b[39m\u001b[39mNo files.\u001b[39m\u001b[39m\"\u001b[39m)\n\u001b[1;32m   1615\u001b[0m     \u001b[39mreturn\u001b[39;00m \u001b[39mNone\u001b[39;00m\n\u001b[0;32m-> 1616\u001b[0m imgs \u001b[39m=\u001b[39m [\n\u001b[1;32m   1617\u001b[0m     file\n\u001b[1;32m   1618\u001b[0m     \u001b[39mfor\u001b[39;00m file \u001b[39min\u001b[39;00m Path(data_path)\u001b[39m.\u001b[39miterdir()\n\u001b[1;32m   1619\u001b[0m     \u001b[39mif\u001b[39;00m file\u001b[39m.\u001b[39mis_file() \u001b[39mand\u001b[39;00m file\u001b[39m.\u001b[39mname\u001b[39m.\u001b[39mlower()\u001b[39m.\u001b[39mendswith(\u001b[39m\"\u001b[39m\u001b[39m.jpg\u001b[39m\u001b[39m\"\u001b[39m)\n\u001b[1;32m   1620\u001b[0m ]\n\u001b[1;32m   1622\u001b[0m \u001b[39mdef\u001b[39;00m \u001b[39mloadimg\u001b[39m(k, scale\u001b[39m=\u001b[39m\u001b[39m0.4\u001b[39m):\n\u001b[1;32m   1623\u001b[0m     display(draw_box(Path(data_path, imgs[k]), scale))\n",
      "File \u001b[0;32m~/Workspace/odf/koster-uw/kso/kso_utils/yolo_utils.py:1616\u001b[0m, in \u001b[0;36m<listcomp>\u001b[0;34m(.0)\u001b[0m\n\u001b[1;32m   1614\u001b[0m     logging\u001b[39m.\u001b[39minfo(\u001b[39m\"\u001b[39m\u001b[39mNo files.\u001b[39m\u001b[39m\"\u001b[39m)\n\u001b[1;32m   1615\u001b[0m     \u001b[39mreturn\u001b[39;00m \u001b[39mNone\u001b[39;00m\n\u001b[0;32m-> 1616\u001b[0m imgs \u001b[39m=\u001b[39m [\n\u001b[1;32m   1617\u001b[0m     file\n\u001b[1;32m   1618\u001b[0m     \u001b[39mfor\u001b[39;00m file \u001b[39min\u001b[39;00m Path(data_path)\u001b[39m.\u001b[39miterdir()\n\u001b[1;32m   1619\u001b[0m     \u001b[39mif\u001b[39;00m file\u001b[39m.\u001b[39mis_file() \u001b[39mand\u001b[39;00m file\u001b[39m.\u001b[39mname\u001b[39m.\u001b[39mlower()\u001b[39m.\u001b[39mendswith(\u001b[39m\"\u001b[39m\u001b[39m.jpg\u001b[39m\u001b[39m\"\u001b[39m)\n\u001b[1;32m   1620\u001b[0m ]\n\u001b[1;32m   1622\u001b[0m \u001b[39mdef\u001b[39;00m \u001b[39mloadimg\u001b[39m(k, scale\u001b[39m=\u001b[39m\u001b[39m0.4\u001b[39m):\n\u001b[1;32m   1623\u001b[0m     display(draw_box(Path(data_path, imgs[k]), scale))\n",
      "File \u001b[0;32m~/miniforge_x86_64/envs/odf/lib/python3.8/pathlib.py:1122\u001b[0m, in \u001b[0;36mPath.iterdir\u001b[0;34m(self)\u001b[0m\n\u001b[1;32m   1120\u001b[0m \u001b[39mif\u001b[39;00m \u001b[39mself\u001b[39m\u001b[39m.\u001b[39m_closed:\n\u001b[1;32m   1121\u001b[0m     \u001b[39mself\u001b[39m\u001b[39m.\u001b[39m_raise_closed()\n\u001b[0;32m-> 1122\u001b[0m \u001b[39mfor\u001b[39;00m name \u001b[39min\u001b[39;00m \u001b[39mself\u001b[39;49m\u001b[39m.\u001b[39;49m_accessor\u001b[39m.\u001b[39;49mlistdir(\u001b[39mself\u001b[39;49m):\n\u001b[1;32m   1123\u001b[0m     \u001b[39mif\u001b[39;00m name \u001b[39min\u001b[39;00m {\u001b[39m'\u001b[39m\u001b[39m.\u001b[39m\u001b[39m'\u001b[39m, \u001b[39m'\u001b[39m\u001b[39m..\u001b[39m\u001b[39m'\u001b[39m}:\n\u001b[1;32m   1124\u001b[0m         \u001b[39m# Yielding a path object for these makes little sense\u001b[39;00m\n\u001b[1;32m   1125\u001b[0m         \u001b[39mcontinue\u001b[39;00m\n",
      "\u001b[0;31mFileNotFoundError\u001b[0m: [Errno 2] No such file or directory: 'data/images'"
     ]
    }
   ],
   "source": [
    "# Training set\n",
    "y_utils.get_data_viewer(os.path.join(train_dataset, \"data/images\"))"
   ]
  },
  {
   "cell_type": "code",
   "execution_count": null,
   "id": "d02c6f3b",
   "metadata": {},
   "outputs": [],
   "source": [
    "# Validation set\n",
    "y_utils.get_data_viewer(os.path.join(val_dataset, \"data/images\"))"
   ]
  },
  {
   "attachments": {},
   "cell_type": "markdown",
   "id": "0da9e74f",
   "metadata": {},
   "source": [
    "# Track unique individuals (Optional)"
   ]
  },
  {
   "cell_type": "code",
   "execution_count": null,
   "id": "47ad881c",
   "metadata": {},
   "outputs": [
    {
     "name": "stderr",
     "output_type": "stream",
     "text": [
      "\n",
      "\n",
      "WARNING ⚠️ inference results will accumulate in RAM unless `stream=True` is passed, causing potential out-of-memory\n",
      "errors for large sources or long-running streams and videos. See https://docs.ultralytics.com/modes/predict/ for help.\n",
      "\n",
      "Example:\n",
      "    results = model(source=..., stream=True)  # generator of Results objects\n",
      "    for r in results:\n",
      "        boxes = r.boxes  # Boxes object for bbox outputs\n",
      "        masks = r.masks  # Masks object for segment masks outputs\n",
      "        probs = r.probs  # Class probabilities for classification outputs\n",
      "\n",
      "video 1/1 (1/250) /Users/jurie.germishuys/Workspace/odf/koster-uw/kso/tutorials/000203 TMBL-ROV 2000 Säcken revet EJ numrerade band_blur.mp4: 128x128 5 deep_water_corals, 115.3ms\n",
      "video 1/1 (2/250) /Users/jurie.germishuys/Workspace/odf/koster-uw/kso/tutorials/000203 TMBL-ROV 2000 Säcken revet EJ numrerade band_blur.mp4: 128x128 5 deep_water_corals, 87.1ms\n",
      "video 1/1 (3/250) /Users/jurie.germishuys/Workspace/odf/koster-uw/kso/tutorials/000203 TMBL-ROV 2000 Säcken revet EJ numrerade band_blur.mp4: 128x128 5 deep_water_corals, 87.5ms\n",
      "video 1/1 (4/250) /Users/jurie.germishuys/Workspace/odf/koster-uw/kso/tutorials/000203 TMBL-ROV 2000 Säcken revet EJ numrerade band_blur.mp4: 128x128 5 deep_water_corals, 87.9ms\n",
      "video 1/1 (5/250) /Users/jurie.germishuys/Workspace/odf/koster-uw/kso/tutorials/000203 TMBL-ROV 2000 Säcken revet EJ numrerade band_blur.mp4: 128x128 5 deep_water_corals, 86.7ms\n",
      "video 1/1 (6/250) /Users/jurie.germishuys/Workspace/odf/koster-uw/kso/tutorials/000203 TMBL-ROV 2000 Säcken revet EJ numrerade band_blur.mp4: 128x128 5 deep_water_corals, 86.4ms\n",
      "video 1/1 (7/250) /Users/jurie.germishuys/Workspace/odf/koster-uw/kso/tutorials/000203 TMBL-ROV 2000 Säcken revet EJ numrerade band_blur.mp4: 128x128 5 deep_water_corals, 86.7ms\n",
      "video 1/1 (8/250) /Users/jurie.germishuys/Workspace/odf/koster-uw/kso/tutorials/000203 TMBL-ROV 2000 Säcken revet EJ numrerade band_blur.mp4: 128x128 5 deep_water_corals, 87.1ms\n",
      "video 1/1 (9/250) /Users/jurie.germishuys/Workspace/odf/koster-uw/kso/tutorials/000203 TMBL-ROV 2000 Säcken revet EJ numrerade band_blur.mp4: 128x128 5 deep_water_corals, 86.1ms\n",
      "video 1/1 (10/250) /Users/jurie.germishuys/Workspace/odf/koster-uw/kso/tutorials/000203 TMBL-ROV 2000 Säcken revet EJ numrerade band_blur.mp4: 128x128 5 deep_water_corals, 86.4ms\n",
      "video 1/1 (11/250) /Users/jurie.germishuys/Workspace/odf/koster-uw/kso/tutorials/000203 TMBL-ROV 2000 Säcken revet EJ numrerade band_blur.mp4: 128x128 5 deep_water_corals, 86.4ms\n",
      "video 1/1 (12/250) /Users/jurie.germishuys/Workspace/odf/koster-uw/kso/tutorials/000203 TMBL-ROV 2000 Säcken revet EJ numrerade band_blur.mp4: 128x128 4 deep_water_corals, 86.7ms\n",
      "video 1/1 (13/250) /Users/jurie.germishuys/Workspace/odf/koster-uw/kso/tutorials/000203 TMBL-ROV 2000 Säcken revet EJ numrerade band_blur.mp4: 128x128 5 deep_water_corals, 87.8ms\n",
      "video 1/1 (14/250) /Users/jurie.germishuys/Workspace/odf/koster-uw/kso/tutorials/000203 TMBL-ROV 2000 Säcken revet EJ numrerade band_blur.mp4: 128x128 5 deep_water_corals, 90.3ms\n",
      "video 1/1 (15/250) /Users/jurie.germishuys/Workspace/odf/koster-uw/kso/tutorials/000203 TMBL-ROV 2000 Säcken revet EJ numrerade band_blur.mp4: 128x128 5 deep_water_corals, 87.5ms\n",
      "video 1/1 (16/250) /Users/jurie.germishuys/Workspace/odf/koster-uw/kso/tutorials/000203 TMBL-ROV 2000 Säcken revet EJ numrerade band_blur.mp4: 128x128 5 deep_water_corals, 87.7ms\n",
      "video 1/1 (17/250) /Users/jurie.germishuys/Workspace/odf/koster-uw/kso/tutorials/000203 TMBL-ROV 2000 Säcken revet EJ numrerade band_blur.mp4: 128x128 5 deep_water_corals, 90.7ms\n",
      "video 1/1 (18/250) /Users/jurie.germishuys/Workspace/odf/koster-uw/kso/tutorials/000203 TMBL-ROV 2000 Säcken revet EJ numrerade band_blur.mp4: 128x128 5 deep_water_corals, 93.7ms\n",
      "video 1/1 (19/250) /Users/jurie.germishuys/Workspace/odf/koster-uw/kso/tutorials/000203 TMBL-ROV 2000 Säcken revet EJ numrerade band_blur.mp4: 128x128 5 deep_water_corals, 99.1ms\n",
      "video 1/1 (20/250) /Users/jurie.germishuys/Workspace/odf/koster-uw/kso/tutorials/000203 TMBL-ROV 2000 Säcken revet EJ numrerade band_blur.mp4: 128x128 4 deep_water_corals, 97.7ms\n",
      "video 1/1 (21/250) /Users/jurie.germishuys/Workspace/odf/koster-uw/kso/tutorials/000203 TMBL-ROV 2000 Säcken revet EJ numrerade band_blur.mp4: 128x128 4 deep_water_corals, 93.6ms\n",
      "video 1/1 (22/250) /Users/jurie.germishuys/Workspace/odf/koster-uw/kso/tutorials/000203 TMBL-ROV 2000 Säcken revet EJ numrerade band_blur.mp4: 128x128 5 deep_water_corals, 85.8ms\n",
      "video 1/1 (23/250) /Users/jurie.germishuys/Workspace/odf/koster-uw/kso/tutorials/000203 TMBL-ROV 2000 Säcken revet EJ numrerade band_blur.mp4: 128x128 4 deep_water_corals, 90.3ms\n",
      "video 1/1 (24/250) /Users/jurie.germishuys/Workspace/odf/koster-uw/kso/tutorials/000203 TMBL-ROV 2000 Säcken revet EJ numrerade band_blur.mp4: 128x128 4 deep_water_corals, 94.2ms\n",
      "video 1/1 (25/250) /Users/jurie.germishuys/Workspace/odf/koster-uw/kso/tutorials/000203 TMBL-ROV 2000 Säcken revet EJ numrerade band_blur.mp4: 128x128 3 deep_water_corals, 95.4ms\n",
      "video 1/1 (26/250) /Users/jurie.germishuys/Workspace/odf/koster-uw/kso/tutorials/000203 TMBL-ROV 2000 Säcken revet EJ numrerade band_blur.mp4: 128x128 3 deep_water_corals, 85.4ms\n",
      "video 1/1 (27/250) /Users/jurie.germishuys/Workspace/odf/koster-uw/kso/tutorials/000203 TMBL-ROV 2000 Säcken revet EJ numrerade band_blur.mp4: 128x128 3 deep_water_corals, 85.5ms\n",
      "video 1/1 (28/250) /Users/jurie.germishuys/Workspace/odf/koster-uw/kso/tutorials/000203 TMBL-ROV 2000 Säcken revet EJ numrerade band_blur.mp4: 128x128 3 deep_water_corals, 85.5ms\n",
      "video 1/1 (29/250) /Users/jurie.germishuys/Workspace/odf/koster-uw/kso/tutorials/000203 TMBL-ROV 2000 Säcken revet EJ numrerade band_blur.mp4: 128x128 3 deep_water_corals, 86.1ms\n",
      "video 1/1 (30/250) /Users/jurie.germishuys/Workspace/odf/koster-uw/kso/tutorials/000203 TMBL-ROV 2000 Säcken revet EJ numrerade band_blur.mp4: 128x128 3 deep_water_corals, 94.4ms\n",
      "video 1/1 (31/250) /Users/jurie.germishuys/Workspace/odf/koster-uw/kso/tutorials/000203 TMBL-ROV 2000 Säcken revet EJ numrerade band_blur.mp4: 128x128 3 deep_water_corals, 94.0ms\n",
      "video 1/1 (32/250) /Users/jurie.germishuys/Workspace/odf/koster-uw/kso/tutorials/000203 TMBL-ROV 2000 Säcken revet EJ numrerade band_blur.mp4: 128x128 4 deep_water_corals, 97.4ms\n",
      "video 1/1 (33/250) /Users/jurie.germishuys/Workspace/odf/koster-uw/kso/tutorials/000203 TMBL-ROV 2000 Säcken revet EJ numrerade band_blur.mp4: 128x128 4 deep_water_corals, 95.3ms\n",
      "video 1/1 (34/250) /Users/jurie.germishuys/Workspace/odf/koster-uw/kso/tutorials/000203 TMBL-ROV 2000 Säcken revet EJ numrerade band_blur.mp4: 128x128 4 deep_water_corals, 86.1ms\n",
      "video 1/1 (35/250) /Users/jurie.germishuys/Workspace/odf/koster-uw/kso/tutorials/000203 TMBL-ROV 2000 Säcken revet EJ numrerade band_blur.mp4: 128x128 3 deep_water_corals, 85.9ms\n",
      "video 1/1 (36/250) /Users/jurie.germishuys/Workspace/odf/koster-uw/kso/tutorials/000203 TMBL-ROV 2000 Säcken revet EJ numrerade band_blur.mp4: 128x128 4 deep_water_corals, 93.2ms\n",
      "video 1/1 (37/250) /Users/jurie.germishuys/Workspace/odf/koster-uw/kso/tutorials/000203 TMBL-ROV 2000 Säcken revet EJ numrerade band_blur.mp4: 128x128 4 deep_water_corals, 100.1ms\n",
      "video 1/1 (38/250) /Users/jurie.germishuys/Workspace/odf/koster-uw/kso/tutorials/000203 TMBL-ROV 2000 Säcken revet EJ numrerade band_blur.mp4: 128x128 3 deep_water_corals, 98.1ms\n",
      "video 1/1 (39/250) /Users/jurie.germishuys/Workspace/odf/koster-uw/kso/tutorials/000203 TMBL-ROV 2000 Säcken revet EJ numrerade band_blur.mp4: 128x128 3 deep_water_corals, 95.0ms\n",
      "video 1/1 (40/250) /Users/jurie.germishuys/Workspace/odf/koster-uw/kso/tutorials/000203 TMBL-ROV 2000 Säcken revet EJ numrerade band_blur.mp4: 128x128 3 deep_water_corals, 90.4ms\n",
      "video 1/1 (41/250) /Users/jurie.germishuys/Workspace/odf/koster-uw/kso/tutorials/000203 TMBL-ROV 2000 Säcken revet EJ numrerade band_blur.mp4: 128x128 3 deep_water_corals, 87.1ms\n",
      "video 1/1 (42/250) /Users/jurie.germishuys/Workspace/odf/koster-uw/kso/tutorials/000203 TMBL-ROV 2000 Säcken revet EJ numrerade band_blur.mp4: 128x128 3 deep_water_corals, 87.1ms\n",
      "video 1/1 (43/250) /Users/jurie.germishuys/Workspace/odf/koster-uw/kso/tutorials/000203 TMBL-ROV 2000 Säcken revet EJ numrerade band_blur.mp4: 128x128 3 deep_water_corals, 97.1ms\n",
      "video 1/1 (44/250) /Users/jurie.germishuys/Workspace/odf/koster-uw/kso/tutorials/000203 TMBL-ROV 2000 Säcken revet EJ numrerade band_blur.mp4: 128x128 3 deep_water_corals, 95.9ms\n",
      "video 1/1 (45/250) /Users/jurie.germishuys/Workspace/odf/koster-uw/kso/tutorials/000203 TMBL-ROV 2000 Säcken revet EJ numrerade band_blur.mp4: 128x128 3 deep_water_corals, 96.2ms\n",
      "video 1/1 (46/250) /Users/jurie.germishuys/Workspace/odf/koster-uw/kso/tutorials/000203 TMBL-ROV 2000 Säcken revet EJ numrerade band_blur.mp4: 128x128 3 deep_water_corals, 91.0ms\n",
      "video 1/1 (47/250) /Users/jurie.germishuys/Workspace/odf/koster-uw/kso/tutorials/000203 TMBL-ROV 2000 Säcken revet EJ numrerade band_blur.mp4: 128x128 3 deep_water_corals, 91.1ms\n",
      "video 1/1 (48/250) /Users/jurie.germishuys/Workspace/odf/koster-uw/kso/tutorials/000203 TMBL-ROV 2000 Säcken revet EJ numrerade band_blur.mp4: 128x128 3 deep_water_corals, 94.7ms\n",
      "video 1/1 (49/250) /Users/jurie.germishuys/Workspace/odf/koster-uw/kso/tutorials/000203 TMBL-ROV 2000 Säcken revet EJ numrerade band_blur.mp4: 128x128 3 deep_water_corals, 92.5ms\n",
      "video 1/1 (50/250) /Users/jurie.germishuys/Workspace/odf/koster-uw/kso/tutorials/000203 TMBL-ROV 2000 Säcken revet EJ numrerade band_blur.mp4: 128x128 2 deep_water_corals, 89.3ms\n",
      "video 1/1 (51/250) /Users/jurie.germishuys/Workspace/odf/koster-uw/kso/tutorials/000203 TMBL-ROV 2000 Säcken revet EJ numrerade band_blur.mp4: 128x128 4 deep_water_corals, 87.1ms\n",
      "video 1/1 (52/250) /Users/jurie.germishuys/Workspace/odf/koster-uw/kso/tutorials/000203 TMBL-ROV 2000 Säcken revet EJ numrerade band_blur.mp4: 128x128 3 deep_water_corals, 88.1ms\n",
      "video 1/1 (53/250) /Users/jurie.germishuys/Workspace/odf/koster-uw/kso/tutorials/000203 TMBL-ROV 2000 Säcken revet EJ numrerade band_blur.mp4: 128x128 3 deep_water_corals, 87.8ms\n",
      "video 1/1 (54/250) /Users/jurie.germishuys/Workspace/odf/koster-uw/kso/tutorials/000203 TMBL-ROV 2000 Säcken revet EJ numrerade band_blur.mp4: 128x128 3 deep_water_corals, 93.5ms\n",
      "video 1/1 (55/250) /Users/jurie.germishuys/Workspace/odf/koster-uw/kso/tutorials/000203 TMBL-ROV 2000 Säcken revet EJ numrerade band_blur.mp4: 128x128 3 deep_water_corals, 97.7ms\n",
      "video 1/1 (56/250) /Users/jurie.germishuys/Workspace/odf/koster-uw/kso/tutorials/000203 TMBL-ROV 2000 Säcken revet EJ numrerade band_blur.mp4: 128x128 3 deep_water_corals, 95.1ms\n",
      "video 1/1 (57/250) /Users/jurie.germishuys/Workspace/odf/koster-uw/kso/tutorials/000203 TMBL-ROV 2000 Säcken revet EJ numrerade band_blur.mp4: 128x128 3 deep_water_corals, 86.7ms\n",
      "video 1/1 (58/250) /Users/jurie.germishuys/Workspace/odf/koster-uw/kso/tutorials/000203 TMBL-ROV 2000 Säcken revet EJ numrerade band_blur.mp4: 128x128 3 deep_water_corals, 85.7ms\n",
      "video 1/1 (59/250) /Users/jurie.germishuys/Workspace/odf/koster-uw/kso/tutorials/000203 TMBL-ROV 2000 Säcken revet EJ numrerade band_blur.mp4: 128x128 3 deep_water_corals, 85.9ms\n",
      "video 1/1 (60/250) /Users/jurie.germishuys/Workspace/odf/koster-uw/kso/tutorials/000203 TMBL-ROV 2000 Säcken revet EJ numrerade band_blur.mp4: 128x128 3 deep_water_corals, 85.7ms\n",
      "video 1/1 (61/250) /Users/jurie.germishuys/Workspace/odf/koster-uw/kso/tutorials/000203 TMBL-ROV 2000 Säcken revet EJ numrerade band_blur.mp4: 128x128 3 deep_water_corals, 85.7ms\n",
      "video 1/1 (62/250) /Users/jurie.germishuys/Workspace/odf/koster-uw/kso/tutorials/000203 TMBL-ROV 2000 Säcken revet EJ numrerade band_blur.mp4: 128x128 3 deep_water_corals, 85.7ms\n",
      "video 1/1 (63/250) /Users/jurie.germishuys/Workspace/odf/koster-uw/kso/tutorials/000203 TMBL-ROV 2000 Säcken revet EJ numrerade band_blur.mp4: 128x128 3 deep_water_corals, 85.9ms\n",
      "video 1/1 (64/250) /Users/jurie.germishuys/Workspace/odf/koster-uw/kso/tutorials/000203 TMBL-ROV 2000 Säcken revet EJ numrerade band_blur.mp4: 128x128 3 deep_water_corals, 95.5ms\n",
      "video 1/1 (65/250) /Users/jurie.germishuys/Workspace/odf/koster-uw/kso/tutorials/000203 TMBL-ROV 2000 Säcken revet EJ numrerade band_blur.mp4: 128x128 3 deep_water_corals, 86.3ms\n",
      "video 1/1 (66/250) /Users/jurie.germishuys/Workspace/odf/koster-uw/kso/tutorials/000203 TMBL-ROV 2000 Säcken revet EJ numrerade band_blur.mp4: 128x128 3 deep_water_corals, 85.5ms\n",
      "video 1/1 (67/250) /Users/jurie.germishuys/Workspace/odf/koster-uw/kso/tutorials/000203 TMBL-ROV 2000 Säcken revet EJ numrerade band_blur.mp4: 128x128 3 deep_water_corals, 85.8ms\n",
      "video 1/1 (68/250) /Users/jurie.germishuys/Workspace/odf/koster-uw/kso/tutorials/000203 TMBL-ROV 2000 Säcken revet EJ numrerade band_blur.mp4: 128x128 4 deep_water_corals, 85.4ms\n",
      "video 1/1 (69/250) /Users/jurie.germishuys/Workspace/odf/koster-uw/kso/tutorials/000203 TMBL-ROV 2000 Säcken revet EJ numrerade band_blur.mp4: 128x128 4 deep_water_corals, 85.6ms\n",
      "video 1/1 (70/250) /Users/jurie.germishuys/Workspace/odf/koster-uw/kso/tutorials/000203 TMBL-ROV 2000 Säcken revet EJ numrerade band_blur.mp4: 128x128 4 deep_water_corals, 85.5ms\n",
      "video 1/1 (71/250) /Users/jurie.germishuys/Workspace/odf/koster-uw/kso/tutorials/000203 TMBL-ROV 2000 Säcken revet EJ numrerade band_blur.mp4: 128x128 4 deep_water_corals, 85.5ms\n",
      "video 1/1 (72/250) /Users/jurie.germishuys/Workspace/odf/koster-uw/kso/tutorials/000203 TMBL-ROV 2000 Säcken revet EJ numrerade band_blur.mp4: 128x128 4 deep_water_corals, 85.6ms\n",
      "video 1/1 (73/250) /Users/jurie.germishuys/Workspace/odf/koster-uw/kso/tutorials/000203 TMBL-ROV 2000 Säcken revet EJ numrerade band_blur.mp4: 128x128 4 deep_water_corals, 85.8ms\n",
      "video 1/1 (74/250) /Users/jurie.germishuys/Workspace/odf/koster-uw/kso/tutorials/000203 TMBL-ROV 2000 Säcken revet EJ numrerade band_blur.mp4: 128x128 4 deep_water_corals, 85.5ms\n",
      "video 1/1 (75/250) /Users/jurie.germishuys/Workspace/odf/koster-uw/kso/tutorials/000203 TMBL-ROV 2000 Säcken revet EJ numrerade band_blur.mp4: 128x128 4 deep_water_corals, 85.9ms\n",
      "video 1/1 (76/250) /Users/jurie.germishuys/Workspace/odf/koster-uw/kso/tutorials/000203 TMBL-ROV 2000 Säcken revet EJ numrerade band_blur.mp4: 128x128 3 deep_water_corals, 85.8ms\n",
      "video 1/1 (77/250) /Users/jurie.germishuys/Workspace/odf/koster-uw/kso/tutorials/000203 TMBL-ROV 2000 Säcken revet EJ numrerade band_blur.mp4: 128x128 3 deep_water_corals, 85.6ms\n",
      "video 1/1 (78/250) /Users/jurie.germishuys/Workspace/odf/koster-uw/kso/tutorials/000203 TMBL-ROV 2000 Säcken revet EJ numrerade band_blur.mp4: 128x128 3 deep_water_corals, 85.4ms\n",
      "video 1/1 (79/250) /Users/jurie.germishuys/Workspace/odf/koster-uw/kso/tutorials/000203 TMBL-ROV 2000 Säcken revet EJ numrerade band_blur.mp4: 128x128 3 deep_water_corals, 86.2ms\n",
      "video 1/1 (80/250) /Users/jurie.germishuys/Workspace/odf/koster-uw/kso/tutorials/000203 TMBL-ROV 2000 Säcken revet EJ numrerade band_blur.mp4: 128x128 3 deep_water_corals, 87.6ms\n",
      "video 1/1 (81/250) /Users/jurie.germishuys/Workspace/odf/koster-uw/kso/tutorials/000203 TMBL-ROV 2000 Säcken revet EJ numrerade band_blur.mp4: 128x128 3 deep_water_corals, 85.6ms\n",
      "video 1/1 (82/250) /Users/jurie.germishuys/Workspace/odf/koster-uw/kso/tutorials/000203 TMBL-ROV 2000 Säcken revet EJ numrerade band_blur.mp4: 128x128 3 deep_water_corals, 85.7ms\n",
      "video 1/1 (83/250) /Users/jurie.germishuys/Workspace/odf/koster-uw/kso/tutorials/000203 TMBL-ROV 2000 Säcken revet EJ numrerade band_blur.mp4: 128x128 4 deep_water_corals, 86.1ms\n",
      "video 1/1 (84/250) /Users/jurie.germishuys/Workspace/odf/koster-uw/kso/tutorials/000203 TMBL-ROV 2000 Säcken revet EJ numrerade band_blur.mp4: 128x128 4 deep_water_corals, 86.4ms\n",
      "video 1/1 (85/250) /Users/jurie.germishuys/Workspace/odf/koster-uw/kso/tutorials/000203 TMBL-ROV 2000 Säcken revet EJ numrerade band_blur.mp4: 128x128 4 deep_water_corals, 85.6ms\n",
      "video 1/1 (86/250) /Users/jurie.germishuys/Workspace/odf/koster-uw/kso/tutorials/000203 TMBL-ROV 2000 Säcken revet EJ numrerade band_blur.mp4: 128x128 4 deep_water_corals, 85.8ms\n",
      "video 1/1 (87/250) /Users/jurie.germishuys/Workspace/odf/koster-uw/kso/tutorials/000203 TMBL-ROV 2000 Säcken revet EJ numrerade band_blur.mp4: 128x128 4 deep_water_corals, 86.0ms\n",
      "video 1/1 (88/250) /Users/jurie.germishuys/Workspace/odf/koster-uw/kso/tutorials/000203 TMBL-ROV 2000 Säcken revet EJ numrerade band_blur.mp4: 128x128 4 deep_water_corals, 85.5ms\n",
      "video 1/1 (89/250) /Users/jurie.germishuys/Workspace/odf/koster-uw/kso/tutorials/000203 TMBL-ROV 2000 Säcken revet EJ numrerade band_blur.mp4: 128x128 3 deep_water_corals, 85.7ms\n",
      "video 1/1 (90/250) /Users/jurie.germishuys/Workspace/odf/koster-uw/kso/tutorials/000203 TMBL-ROV 2000 Säcken revet EJ numrerade band_blur.mp4: 128x128 3 deep_water_corals, 85.3ms\n",
      "video 1/1 (91/250) /Users/jurie.germishuys/Workspace/odf/koster-uw/kso/tutorials/000203 TMBL-ROV 2000 Säcken revet EJ numrerade band_blur.mp4: 128x128 3 deep_water_corals, 85.5ms\n",
      "video 1/1 (92/250) /Users/jurie.germishuys/Workspace/odf/koster-uw/kso/tutorials/000203 TMBL-ROV 2000 Säcken revet EJ numrerade band_blur.mp4: 128x128 4 deep_water_corals, 90.5ms\n",
      "video 1/1 (93/250) /Users/jurie.germishuys/Workspace/odf/koster-uw/kso/tutorials/000203 TMBL-ROV 2000 Säcken revet EJ numrerade band_blur.mp4: 128x128 3 deep_water_corals, 88.3ms\n",
      "video 1/1 (94/250) /Users/jurie.germishuys/Workspace/odf/koster-uw/kso/tutorials/000203 TMBL-ROV 2000 Säcken revet EJ numrerade band_blur.mp4: 128x128 3 deep_water_corals, 87.4ms\n",
      "video 1/1 (95/250) /Users/jurie.germishuys/Workspace/odf/koster-uw/kso/tutorials/000203 TMBL-ROV 2000 Säcken revet EJ numrerade band_blur.mp4: 128x128 3 deep_water_corals, 88.1ms\n",
      "video 1/1 (96/250) /Users/jurie.germishuys/Workspace/odf/koster-uw/kso/tutorials/000203 TMBL-ROV 2000 Säcken revet EJ numrerade band_blur.mp4: 128x128 3 deep_water_corals, 86.7ms\n",
      "video 1/1 (97/250) /Users/jurie.germishuys/Workspace/odf/koster-uw/kso/tutorials/000203 TMBL-ROV 2000 Säcken revet EJ numrerade band_blur.mp4: 128x128 3 deep_water_corals, 86.9ms\n",
      "video 1/1 (98/250) /Users/jurie.germishuys/Workspace/odf/koster-uw/kso/tutorials/000203 TMBL-ROV 2000 Säcken revet EJ numrerade band_blur.mp4: 128x128 3 deep_water_corals, 89.1ms\n",
      "video 1/1 (99/250) /Users/jurie.germishuys/Workspace/odf/koster-uw/kso/tutorials/000203 TMBL-ROV 2000 Säcken revet EJ numrerade band_blur.mp4: 128x128 3 deep_water_corals, 88.7ms\n",
      "video 1/1 (100/250) /Users/jurie.germishuys/Workspace/odf/koster-uw/kso/tutorials/000203 TMBL-ROV 2000 Säcken revet EJ numrerade band_blur.mp4: 128x128 3 deep_water_corals, 87.2ms\n",
      "video 1/1 (101/250) /Users/jurie.germishuys/Workspace/odf/koster-uw/kso/tutorials/000203 TMBL-ROV 2000 Säcken revet EJ numrerade band_blur.mp4: 128x128 3 deep_water_corals, 85.5ms\n",
      "video 1/1 (102/250) /Users/jurie.germishuys/Workspace/odf/koster-uw/kso/tutorials/000203 TMBL-ROV 2000 Säcken revet EJ numrerade band_blur.mp4: 128x128 3 deep_water_corals, 86.0ms\n",
      "video 1/1 (103/250) /Users/jurie.germishuys/Workspace/odf/koster-uw/kso/tutorials/000203 TMBL-ROV 2000 Säcken revet EJ numrerade band_blur.mp4: 128x128 3 deep_water_corals, 85.9ms\n",
      "video 1/1 (104/250) /Users/jurie.germishuys/Workspace/odf/koster-uw/kso/tutorials/000203 TMBL-ROV 2000 Säcken revet EJ numrerade band_blur.mp4: 128x128 3 deep_water_corals, 86.0ms\n",
      "video 1/1 (105/250) /Users/jurie.germishuys/Workspace/odf/koster-uw/kso/tutorials/000203 TMBL-ROV 2000 Säcken revet EJ numrerade band_blur.mp4: 128x128 3 deep_water_corals, 85.3ms\n",
      "video 1/1 (106/250) /Users/jurie.germishuys/Workspace/odf/koster-uw/kso/tutorials/000203 TMBL-ROV 2000 Säcken revet EJ numrerade band_blur.mp4: 128x128 3 deep_water_corals, 84.8ms\n",
      "video 1/1 (107/250) /Users/jurie.germishuys/Workspace/odf/koster-uw/kso/tutorials/000203 TMBL-ROV 2000 Säcken revet EJ numrerade band_blur.mp4: 128x128 3 deep_water_corals, 85.4ms\n",
      "video 1/1 (108/250) /Users/jurie.germishuys/Workspace/odf/koster-uw/kso/tutorials/000203 TMBL-ROV 2000 Säcken revet EJ numrerade band_blur.mp4: 128x128 3 deep_water_corals, 86.4ms\n",
      "video 1/1 (109/250) /Users/jurie.germishuys/Workspace/odf/koster-uw/kso/tutorials/000203 TMBL-ROV 2000 Säcken revet EJ numrerade band_blur.mp4: 128x128 3 deep_water_corals, 85.6ms\n",
      "video 1/1 (110/250) /Users/jurie.germishuys/Workspace/odf/koster-uw/kso/tutorials/000203 TMBL-ROV 2000 Säcken revet EJ numrerade band_blur.mp4: 128x128 3 deep_water_corals, 85.6ms\n",
      "video 1/1 (111/250) /Users/jurie.germishuys/Workspace/odf/koster-uw/kso/tutorials/000203 TMBL-ROV 2000 Säcken revet EJ numrerade band_blur.mp4: 128x128 3 deep_water_corals, 85.7ms\n",
      "video 1/1 (112/250) /Users/jurie.germishuys/Workspace/odf/koster-uw/kso/tutorials/000203 TMBL-ROV 2000 Säcken revet EJ numrerade band_blur.mp4: 128x128 3 deep_water_corals, 85.9ms\n",
      "video 1/1 (113/250) /Users/jurie.germishuys/Workspace/odf/koster-uw/kso/tutorials/000203 TMBL-ROV 2000 Säcken revet EJ numrerade band_blur.mp4: 128x128 3 deep_water_corals, 85.4ms\n",
      "video 1/1 (114/250) /Users/jurie.germishuys/Workspace/odf/koster-uw/kso/tutorials/000203 TMBL-ROV 2000 Säcken revet EJ numrerade band_blur.mp4: 128x128 3 deep_water_corals, 85.7ms\n",
      "video 1/1 (115/250) /Users/jurie.germishuys/Workspace/odf/koster-uw/kso/tutorials/000203 TMBL-ROV 2000 Säcken revet EJ numrerade band_blur.mp4: 128x128 3 deep_water_corals, 85.7ms\n",
      "video 1/1 (116/250) /Users/jurie.germishuys/Workspace/odf/koster-uw/kso/tutorials/000203 TMBL-ROV 2000 Säcken revet EJ numrerade band_blur.mp4: 128x128 3 deep_water_corals, 86.0ms\n",
      "video 1/1 (117/250) /Users/jurie.germishuys/Workspace/odf/koster-uw/kso/tutorials/000203 TMBL-ROV 2000 Säcken revet EJ numrerade band_blur.mp4: 128x128 3 deep_water_corals, 85.9ms\n",
      "video 1/1 (118/250) /Users/jurie.germishuys/Workspace/odf/koster-uw/kso/tutorials/000203 TMBL-ROV 2000 Säcken revet EJ numrerade band_blur.mp4: 128x128 3 deep_water_corals, 86.0ms\n",
      "video 1/1 (119/250) /Users/jurie.germishuys/Workspace/odf/koster-uw/kso/tutorials/000203 TMBL-ROV 2000 Säcken revet EJ numrerade band_blur.mp4: 128x128 3 deep_water_corals, 85.3ms\n",
      "video 1/1 (120/250) /Users/jurie.germishuys/Workspace/odf/koster-uw/kso/tutorials/000203 TMBL-ROV 2000 Säcken revet EJ numrerade band_blur.mp4: 128x128 3 deep_water_corals, 85.4ms\n",
      "video 1/1 (121/250) /Users/jurie.germishuys/Workspace/odf/koster-uw/kso/tutorials/000203 TMBL-ROV 2000 Säcken revet EJ numrerade band_blur.mp4: 128x128 3 deep_water_corals, 85.6ms\n",
      "video 1/1 (122/250) /Users/jurie.germishuys/Workspace/odf/koster-uw/kso/tutorials/000203 TMBL-ROV 2000 Säcken revet EJ numrerade band_blur.mp4: 128x128 3 deep_water_corals, 86.2ms\n",
      "video 1/1 (123/250) /Users/jurie.germishuys/Workspace/odf/koster-uw/kso/tutorials/000203 TMBL-ROV 2000 Säcken revet EJ numrerade band_blur.mp4: 128x128 3 deep_water_corals, 85.6ms\n",
      "video 1/1 (124/250) /Users/jurie.germishuys/Workspace/odf/koster-uw/kso/tutorials/000203 TMBL-ROV 2000 Säcken revet EJ numrerade band_blur.mp4: 128x128 3 deep_water_corals, 96.2ms\n",
      "video 1/1 (125/250) /Users/jurie.germishuys/Workspace/odf/koster-uw/kso/tutorials/000203 TMBL-ROV 2000 Säcken revet EJ numrerade band_blur.mp4: 128x128 3 deep_water_corals, 89.3ms\n",
      "video 1/1 (126/250) /Users/jurie.germishuys/Workspace/odf/koster-uw/kso/tutorials/000203 TMBL-ROV 2000 Säcken revet EJ numrerade band_blur.mp4: 128x128 3 deep_water_corals, 103.4ms\n",
      "video 1/1 (127/250) /Users/jurie.germishuys/Workspace/odf/koster-uw/kso/tutorials/000203 TMBL-ROV 2000 Säcken revet EJ numrerade band_blur.mp4: 128x128 3 deep_water_corals, 86.1ms\n",
      "video 1/1 (128/250) /Users/jurie.germishuys/Workspace/odf/koster-uw/kso/tutorials/000203 TMBL-ROV 2000 Säcken revet EJ numrerade band_blur.mp4: 128x128 3 deep_water_corals, 86.4ms\n",
      "video 1/1 (129/250) /Users/jurie.germishuys/Workspace/odf/koster-uw/kso/tutorials/000203 TMBL-ROV 2000 Säcken revet EJ numrerade band_blur.mp4: 128x128 3 deep_water_corals, 86.0ms\n",
      "video 1/1 (130/250) /Users/jurie.germishuys/Workspace/odf/koster-uw/kso/tutorials/000203 TMBL-ROV 2000 Säcken revet EJ numrerade band_blur.mp4: 128x128 3 deep_water_corals, 86.1ms\n",
      "video 1/1 (131/250) /Users/jurie.germishuys/Workspace/odf/koster-uw/kso/tutorials/000203 TMBL-ROV 2000 Säcken revet EJ numrerade band_blur.mp4: 128x128 3 deep_water_corals, 85.5ms\n",
      "video 1/1 (132/250) /Users/jurie.germishuys/Workspace/odf/koster-uw/kso/tutorials/000203 TMBL-ROV 2000 Säcken revet EJ numrerade band_blur.mp4: 128x128 3 deep_water_corals, 85.3ms\n",
      "video 1/1 (133/250) /Users/jurie.germishuys/Workspace/odf/koster-uw/kso/tutorials/000203 TMBL-ROV 2000 Säcken revet EJ numrerade band_blur.mp4: 128x128 3 deep_water_corals, 87.2ms\n",
      "video 1/1 (134/250) /Users/jurie.germishuys/Workspace/odf/koster-uw/kso/tutorials/000203 TMBL-ROV 2000 Säcken revet EJ numrerade band_blur.mp4: 128x128 3 deep_water_corals, 85.7ms\n",
      "video 1/1 (135/250) /Users/jurie.germishuys/Workspace/odf/koster-uw/kso/tutorials/000203 TMBL-ROV 2000 Säcken revet EJ numrerade band_blur.mp4: 128x128 3 deep_water_corals, 85.6ms\n",
      "video 1/1 (136/250) /Users/jurie.germishuys/Workspace/odf/koster-uw/kso/tutorials/000203 TMBL-ROV 2000 Säcken revet EJ numrerade band_blur.mp4: 128x128 3 deep_water_corals, 85.5ms\n",
      "video 1/1 (137/250) /Users/jurie.germishuys/Workspace/odf/koster-uw/kso/tutorials/000203 TMBL-ROV 2000 Säcken revet EJ numrerade band_blur.mp4: 128x128 3 deep_water_corals, 86.0ms\n",
      "video 1/1 (138/250) /Users/jurie.germishuys/Workspace/odf/koster-uw/kso/tutorials/000203 TMBL-ROV 2000 Säcken revet EJ numrerade band_blur.mp4: 128x128 3 deep_water_corals, 85.5ms\n",
      "video 1/1 (139/250) /Users/jurie.germishuys/Workspace/odf/koster-uw/kso/tutorials/000203 TMBL-ROV 2000 Säcken revet EJ numrerade band_blur.mp4: 128x128 3 deep_water_corals, 85.4ms\n",
      "video 1/1 (140/250) /Users/jurie.germishuys/Workspace/odf/koster-uw/kso/tutorials/000203 TMBL-ROV 2000 Säcken revet EJ numrerade band_blur.mp4: 128x128 3 deep_water_corals, 85.9ms\n",
      "video 1/1 (141/250) /Users/jurie.germishuys/Workspace/odf/koster-uw/kso/tutorials/000203 TMBL-ROV 2000 Säcken revet EJ numrerade band_blur.mp4: 128x128 3 deep_water_corals, 85.8ms\n",
      "video 1/1 (142/250) /Users/jurie.germishuys/Workspace/odf/koster-uw/kso/tutorials/000203 TMBL-ROV 2000 Säcken revet EJ numrerade band_blur.mp4: 128x128 3 deep_water_corals, 86.3ms\n",
      "video 1/1 (143/250) /Users/jurie.germishuys/Workspace/odf/koster-uw/kso/tutorials/000203 TMBL-ROV 2000 Säcken revet EJ numrerade band_blur.mp4: 128x128 3 deep_water_corals, 85.9ms\n",
      "video 1/1 (144/250) /Users/jurie.germishuys/Workspace/odf/koster-uw/kso/tutorials/000203 TMBL-ROV 2000 Säcken revet EJ numrerade band_blur.mp4: 128x128 3 deep_water_corals, 85.7ms\n",
      "video 1/1 (145/250) /Users/jurie.germishuys/Workspace/odf/koster-uw/kso/tutorials/000203 TMBL-ROV 2000 Säcken revet EJ numrerade band_blur.mp4: 128x128 3 deep_water_corals, 85.8ms\n",
      "video 1/1 (146/250) /Users/jurie.germishuys/Workspace/odf/koster-uw/kso/tutorials/000203 TMBL-ROV 2000 Säcken revet EJ numrerade band_blur.mp4: 128x128 3 deep_water_corals, 86.1ms\n",
      "video 1/1 (147/250) /Users/jurie.germishuys/Workspace/odf/koster-uw/kso/tutorials/000203 TMBL-ROV 2000 Säcken revet EJ numrerade band_blur.mp4: 128x128 3 deep_water_corals, 85.7ms\n",
      "video 1/1 (148/250) /Users/jurie.germishuys/Workspace/odf/koster-uw/kso/tutorials/000203 TMBL-ROV 2000 Säcken revet EJ numrerade band_blur.mp4: 128x128 3 deep_water_corals, 87.5ms\n",
      "video 1/1 (149/250) /Users/jurie.germishuys/Workspace/odf/koster-uw/kso/tutorials/000203 TMBL-ROV 2000 Säcken revet EJ numrerade band_blur.mp4: 128x128 3 deep_water_corals, 86.1ms\n",
      "video 1/1 (150/250) /Users/jurie.germishuys/Workspace/odf/koster-uw/kso/tutorials/000203 TMBL-ROV 2000 Säcken revet EJ numrerade band_blur.mp4: 128x128 3 deep_water_corals, 95.7ms\n",
      "video 1/1 (151/250) /Users/jurie.germishuys/Workspace/odf/koster-uw/kso/tutorials/000203 TMBL-ROV 2000 Säcken revet EJ numrerade band_blur.mp4: 128x128 3 deep_water_corals, 87.3ms\n",
      "video 1/1 (152/250) /Users/jurie.germishuys/Workspace/odf/koster-uw/kso/tutorials/000203 TMBL-ROV 2000 Säcken revet EJ numrerade band_blur.mp4: 128x128 3 deep_water_corals, 85.8ms\n",
      "video 1/1 (153/250) /Users/jurie.germishuys/Workspace/odf/koster-uw/kso/tutorials/000203 TMBL-ROV 2000 Säcken revet EJ numrerade band_blur.mp4: 128x128 3 deep_water_corals, 86.2ms\n",
      "video 1/1 (154/250) /Users/jurie.germishuys/Workspace/odf/koster-uw/kso/tutorials/000203 TMBL-ROV 2000 Säcken revet EJ numrerade band_blur.mp4: 128x128 3 deep_water_corals, 85.4ms\n",
      "video 1/1 (155/250) /Users/jurie.germishuys/Workspace/odf/koster-uw/kso/tutorials/000203 TMBL-ROV 2000 Säcken revet EJ numrerade band_blur.mp4: 128x128 3 deep_water_corals, 85.8ms\n",
      "video 1/1 (156/250) /Users/jurie.germishuys/Workspace/odf/koster-uw/kso/tutorials/000203 TMBL-ROV 2000 Säcken revet EJ numrerade band_blur.mp4: 128x128 3 deep_water_corals, 86.0ms\n",
      "video 1/1 (157/250) /Users/jurie.germishuys/Workspace/odf/koster-uw/kso/tutorials/000203 TMBL-ROV 2000 Säcken revet EJ numrerade band_blur.mp4: 128x128 3 deep_water_corals, 86.3ms\n",
      "video 1/1 (158/250) /Users/jurie.germishuys/Workspace/odf/koster-uw/kso/tutorials/000203 TMBL-ROV 2000 Säcken revet EJ numrerade band_blur.mp4: 128x128 3 deep_water_corals, 89.4ms\n",
      "video 1/1 (159/250) /Users/jurie.germishuys/Workspace/odf/koster-uw/kso/tutorials/000203 TMBL-ROV 2000 Säcken revet EJ numrerade band_blur.mp4: 128x128 3 deep_water_corals, 86.6ms\n",
      "video 1/1 (160/250) /Users/jurie.germishuys/Workspace/odf/koster-uw/kso/tutorials/000203 TMBL-ROV 2000 Säcken revet EJ numrerade band_blur.mp4: 128x128 3 deep_water_corals, 86.0ms\n",
      "video 1/1 (161/250) /Users/jurie.germishuys/Workspace/odf/koster-uw/kso/tutorials/000203 TMBL-ROV 2000 Säcken revet EJ numrerade band_blur.mp4: 128x128 3 deep_water_corals, 85.7ms\n",
      "video 1/1 (162/250) /Users/jurie.germishuys/Workspace/odf/koster-uw/kso/tutorials/000203 TMBL-ROV 2000 Säcken revet EJ numrerade band_blur.mp4: 128x128 3 deep_water_corals, 85.6ms\n",
      "video 1/1 (163/250) /Users/jurie.germishuys/Workspace/odf/koster-uw/kso/tutorials/000203 TMBL-ROV 2000 Säcken revet EJ numrerade band_blur.mp4: 128x128 3 deep_water_corals, 85.8ms\n",
      "video 1/1 (164/250) /Users/jurie.germishuys/Workspace/odf/koster-uw/kso/tutorials/000203 TMBL-ROV 2000 Säcken revet EJ numrerade band_blur.mp4: 128x128 3 deep_water_corals, 85.9ms\n",
      "video 1/1 (165/250) /Users/jurie.germishuys/Workspace/odf/koster-uw/kso/tutorials/000203 TMBL-ROV 2000 Säcken revet EJ numrerade band_blur.mp4: 128x128 3 deep_water_corals, 85.9ms\n",
      "video 1/1 (166/250) /Users/jurie.germishuys/Workspace/odf/koster-uw/kso/tutorials/000203 TMBL-ROV 2000 Säcken revet EJ numrerade band_blur.mp4: 128x128 3 deep_water_corals, 85.6ms\n",
      "video 1/1 (167/250) /Users/jurie.germishuys/Workspace/odf/koster-uw/kso/tutorials/000203 TMBL-ROV 2000 Säcken revet EJ numrerade band_blur.mp4: 128x128 3 deep_water_corals, 86.0ms\n",
      "video 1/1 (168/250) /Users/jurie.germishuys/Workspace/odf/koster-uw/kso/tutorials/000203 TMBL-ROV 2000 Säcken revet EJ numrerade band_blur.mp4: 128x128 3 deep_water_corals, 86.3ms\n",
      "video 1/1 (169/250) /Users/jurie.germishuys/Workspace/odf/koster-uw/kso/tutorials/000203 TMBL-ROV 2000 Säcken revet EJ numrerade band_blur.mp4: 128x128 3 deep_water_corals, 85.6ms\n",
      "video 1/1 (170/250) /Users/jurie.germishuys/Workspace/odf/koster-uw/kso/tutorials/000203 TMBL-ROV 2000 Säcken revet EJ numrerade band_blur.mp4: 128x128 3 deep_water_corals, 85.7ms\n",
      "video 1/1 (171/250) /Users/jurie.germishuys/Workspace/odf/koster-uw/kso/tutorials/000203 TMBL-ROV 2000 Säcken revet EJ numrerade band_blur.mp4: 128x128 3 deep_water_corals, 85.8ms\n",
      "video 1/1 (172/250) /Users/jurie.germishuys/Workspace/odf/koster-uw/kso/tutorials/000203 TMBL-ROV 2000 Säcken revet EJ numrerade band_blur.mp4: 128x128 3 deep_water_corals, 93.0ms\n",
      "video 1/1 (173/250) /Users/jurie.germishuys/Workspace/odf/koster-uw/kso/tutorials/000203 TMBL-ROV 2000 Säcken revet EJ numrerade band_blur.mp4: 128x128 3 deep_water_corals, 87.5ms\n",
      "video 1/1 (174/250) /Users/jurie.germishuys/Workspace/odf/koster-uw/kso/tutorials/000203 TMBL-ROV 2000 Säcken revet EJ numrerade band_blur.mp4: 128x128 3 deep_water_corals, 86.0ms\n",
      "video 1/1 (175/250) /Users/jurie.germishuys/Workspace/odf/koster-uw/kso/tutorials/000203 TMBL-ROV 2000 Säcken revet EJ numrerade band_blur.mp4: 128x128 3 deep_water_corals, 86.2ms\n",
      "video 1/1 (176/250) /Users/jurie.germishuys/Workspace/odf/koster-uw/kso/tutorials/000203 TMBL-ROV 2000 Säcken revet EJ numrerade band_blur.mp4: 128x128 3 deep_water_corals, 85.4ms\n",
      "video 1/1 (177/250) /Users/jurie.germishuys/Workspace/odf/koster-uw/kso/tutorials/000203 TMBL-ROV 2000 Säcken revet EJ numrerade band_blur.mp4: 128x128 3 deep_water_corals, 86.0ms\n",
      "video 1/1 (178/250) /Users/jurie.germishuys/Workspace/odf/koster-uw/kso/tutorials/000203 TMBL-ROV 2000 Säcken revet EJ numrerade band_blur.mp4: 128x128 3 deep_water_corals, 92.5ms\n",
      "video 1/1 (179/250) /Users/jurie.germishuys/Workspace/odf/koster-uw/kso/tutorials/000203 TMBL-ROV 2000 Säcken revet EJ numrerade band_blur.mp4: 128x128 3 deep_water_corals, 93.8ms\n",
      "video 1/1 (180/250) /Users/jurie.germishuys/Workspace/odf/koster-uw/kso/tutorials/000203 TMBL-ROV 2000 Säcken revet EJ numrerade band_blur.mp4: 128x128 3 deep_water_corals, 88.2ms\n",
      "video 1/1 (181/250) /Users/jurie.germishuys/Workspace/odf/koster-uw/kso/tutorials/000203 TMBL-ROV 2000 Säcken revet EJ numrerade band_blur.mp4: 128x128 3 deep_water_corals, 87.5ms\n",
      "video 1/1 (182/250) /Users/jurie.germishuys/Workspace/odf/koster-uw/kso/tutorials/000203 TMBL-ROV 2000 Säcken revet EJ numrerade band_blur.mp4: 128x128 3 deep_water_corals, 85.4ms\n",
      "video 1/1 (183/250) /Users/jurie.germishuys/Workspace/odf/koster-uw/kso/tutorials/000203 TMBL-ROV 2000 Säcken revet EJ numrerade band_blur.mp4: 128x128 3 deep_water_corals, 85.6ms\n",
      "video 1/1 (184/250) /Users/jurie.germishuys/Workspace/odf/koster-uw/kso/tutorials/000203 TMBL-ROV 2000 Säcken revet EJ numrerade band_blur.mp4: 128x128 4 deep_water_corals, 85.7ms\n",
      "video 1/1 (185/250) /Users/jurie.germishuys/Workspace/odf/koster-uw/kso/tutorials/000203 TMBL-ROV 2000 Säcken revet EJ numrerade band_blur.mp4: 128x128 4 deep_water_corals, 85.6ms\n",
      "video 1/1 (186/250) /Users/jurie.germishuys/Workspace/odf/koster-uw/kso/tutorials/000203 TMBL-ROV 2000 Säcken revet EJ numrerade band_blur.mp4: 128x128 4 deep_water_corals, 85.5ms\n",
      "video 1/1 (187/250) /Users/jurie.germishuys/Workspace/odf/koster-uw/kso/tutorials/000203 TMBL-ROV 2000 Säcken revet EJ numrerade band_blur.mp4: 128x128 4 deep_water_corals, 85.9ms\n",
      "video 1/1 (188/250) /Users/jurie.germishuys/Workspace/odf/koster-uw/kso/tutorials/000203 TMBL-ROV 2000 Säcken revet EJ numrerade band_blur.mp4: 128x128 4 deep_water_corals, 85.7ms\n",
      "video 1/1 (189/250) /Users/jurie.germishuys/Workspace/odf/koster-uw/kso/tutorials/000203 TMBL-ROV 2000 Säcken revet EJ numrerade band_blur.mp4: 128x128 3 deep_water_corals, 86.8ms\n",
      "video 1/1 (190/250) /Users/jurie.germishuys/Workspace/odf/koster-uw/kso/tutorials/000203 TMBL-ROV 2000 Säcken revet EJ numrerade band_blur.mp4: 128x128 3 deep_water_corals, 85.9ms\n",
      "video 1/1 (191/250) /Users/jurie.germishuys/Workspace/odf/koster-uw/kso/tutorials/000203 TMBL-ROV 2000 Säcken revet EJ numrerade band_blur.mp4: 128x128 2 deep_water_corals, 85.4ms\n",
      "video 1/1 (192/250) /Users/jurie.germishuys/Workspace/odf/koster-uw/kso/tutorials/000203 TMBL-ROV 2000 Säcken revet EJ numrerade band_blur.mp4: 128x128 3 deep_water_corals, 86.0ms\n",
      "video 1/1 (193/250) /Users/jurie.germishuys/Workspace/odf/koster-uw/kso/tutorials/000203 TMBL-ROV 2000 Säcken revet EJ numrerade band_blur.mp4: 128x128 4 deep_water_corals, 85.5ms\n",
      "video 1/1 (194/250) /Users/jurie.germishuys/Workspace/odf/koster-uw/kso/tutorials/000203 TMBL-ROV 2000 Säcken revet EJ numrerade band_blur.mp4: 128x128 4 deep_water_corals, 85.7ms\n",
      "video 1/1 (195/250) /Users/jurie.germishuys/Workspace/odf/koster-uw/kso/tutorials/000203 TMBL-ROV 2000 Säcken revet EJ numrerade band_blur.mp4: 128x128 4 deep_water_corals, 85.5ms\n",
      "video 1/1 (196/250) /Users/jurie.germishuys/Workspace/odf/koster-uw/kso/tutorials/000203 TMBL-ROV 2000 Säcken revet EJ numrerade band_blur.mp4: 128x128 4 deep_water_corals, 85.8ms\n",
      "video 1/1 (197/250) /Users/jurie.germishuys/Workspace/odf/koster-uw/kso/tutorials/000203 TMBL-ROV 2000 Säcken revet EJ numrerade band_blur.mp4: 128x128 4 deep_water_corals, 85.8ms\n",
      "video 1/1 (198/250) /Users/jurie.germishuys/Workspace/odf/koster-uw/kso/tutorials/000203 TMBL-ROV 2000 Säcken revet EJ numrerade band_blur.mp4: 128x128 3 deep_water_corals, 85.7ms\n",
      "video 1/1 (199/250) /Users/jurie.germishuys/Workspace/odf/koster-uw/kso/tutorials/000203 TMBL-ROV 2000 Säcken revet EJ numrerade band_blur.mp4: 128x128 4 deep_water_corals, 86.2ms\n",
      "video 1/1 (200/250) /Users/jurie.germishuys/Workspace/odf/koster-uw/kso/tutorials/000203 TMBL-ROV 2000 Säcken revet EJ numrerade band_blur.mp4: 128x128 3 deep_water_corals, 85.9ms\n",
      "video 1/1 (201/250) /Users/jurie.germishuys/Workspace/odf/koster-uw/kso/tutorials/000203 TMBL-ROV 2000 Säcken revet EJ numrerade band_blur.mp4: 128x128 3 deep_water_corals, 85.9ms\n",
      "video 1/1 (202/250) /Users/jurie.germishuys/Workspace/odf/koster-uw/kso/tutorials/000203 TMBL-ROV 2000 Säcken revet EJ numrerade band_blur.mp4: 128x128 3 deep_water_corals, 85.9ms\n",
      "video 1/1 (203/250) /Users/jurie.germishuys/Workspace/odf/koster-uw/kso/tutorials/000203 TMBL-ROV 2000 Säcken revet EJ numrerade band_blur.mp4: 128x128 3 deep_water_corals, 85.9ms\n",
      "video 1/1 (204/250) /Users/jurie.germishuys/Workspace/odf/koster-uw/kso/tutorials/000203 TMBL-ROV 2000 Säcken revet EJ numrerade band_blur.mp4: 128x128 3 deep_water_corals, 85.9ms\n",
      "video 1/1 (205/250) /Users/jurie.germishuys/Workspace/odf/koster-uw/kso/tutorials/000203 TMBL-ROV 2000 Säcken revet EJ numrerade band_blur.mp4: 128x128 3 deep_water_corals, 85.7ms\n",
      "video 1/1 (206/250) /Users/jurie.germishuys/Workspace/odf/koster-uw/kso/tutorials/000203 TMBL-ROV 2000 Säcken revet EJ numrerade band_blur.mp4: 128x128 4 deep_water_corals, 85.9ms\n",
      "video 1/1 (207/250) /Users/jurie.germishuys/Workspace/odf/koster-uw/kso/tutorials/000203 TMBL-ROV 2000 Säcken revet EJ numrerade band_blur.mp4: 128x128 4 deep_water_corals, 85.9ms\n",
      "video 1/1 (208/250) /Users/jurie.germishuys/Workspace/odf/koster-uw/kso/tutorials/000203 TMBL-ROV 2000 Säcken revet EJ numrerade band_blur.mp4: 128x128 5 deep_water_corals, 85.5ms\n",
      "video 1/1 (209/250) /Users/jurie.germishuys/Workspace/odf/koster-uw/kso/tutorials/000203 TMBL-ROV 2000 Säcken revet EJ numrerade band_blur.mp4: 128x128 4 deep_water_corals, 85.7ms\n",
      "video 1/1 (210/250) /Users/jurie.germishuys/Workspace/odf/koster-uw/kso/tutorials/000203 TMBL-ROV 2000 Säcken revet EJ numrerade band_blur.mp4: 128x128 5 deep_water_corals, 85.3ms\n",
      "video 1/1 (211/250) /Users/jurie.germishuys/Workspace/odf/koster-uw/kso/tutorials/000203 TMBL-ROV 2000 Säcken revet EJ numrerade band_blur.mp4: 128x128 4 deep_water_corals, 95.9ms\n",
      "video 1/1 (212/250) /Users/jurie.germishuys/Workspace/odf/koster-uw/kso/tutorials/000203 TMBL-ROV 2000 Säcken revet EJ numrerade band_blur.mp4: 128x128 3 deep_water_corals, 87.1ms\n",
      "video 1/1 (213/250) /Users/jurie.germishuys/Workspace/odf/koster-uw/kso/tutorials/000203 TMBL-ROV 2000 Säcken revet EJ numrerade band_blur.mp4: 128x128 3 deep_water_corals, 85.8ms\n",
      "video 1/1 (214/250) /Users/jurie.germishuys/Workspace/odf/koster-uw/kso/tutorials/000203 TMBL-ROV 2000 Säcken revet EJ numrerade band_blur.mp4: 128x128 5 deep_water_corals, 85.7ms\n",
      "video 1/1 (215/250) /Users/jurie.germishuys/Workspace/odf/koster-uw/kso/tutorials/000203 TMBL-ROV 2000 Säcken revet EJ numrerade band_blur.mp4: 128x128 5 deep_water_corals, 86.8ms\n",
      "video 1/1 (216/250) /Users/jurie.germishuys/Workspace/odf/koster-uw/kso/tutorials/000203 TMBL-ROV 2000 Säcken revet EJ numrerade band_blur.mp4: 128x128 3 deep_water_corals, 85.4ms\n",
      "video 1/1 (217/250) /Users/jurie.germishuys/Workspace/odf/koster-uw/kso/tutorials/000203 TMBL-ROV 2000 Säcken revet EJ numrerade band_blur.mp4: 128x128 4 deep_water_corals, 85.8ms\n",
      "video 1/1 (218/250) /Users/jurie.germishuys/Workspace/odf/koster-uw/kso/tutorials/000203 TMBL-ROV 2000 Säcken revet EJ numrerade band_blur.mp4: 128x128 4 deep_water_corals, 86.5ms\n",
      "video 1/1 (219/250) /Users/jurie.germishuys/Workspace/odf/koster-uw/kso/tutorials/000203 TMBL-ROV 2000 Säcken revet EJ numrerade band_blur.mp4: 128x128 4 deep_water_corals, 85.8ms\n",
      "video 1/1 (220/250) /Users/jurie.germishuys/Workspace/odf/koster-uw/kso/tutorials/000203 TMBL-ROV 2000 Säcken revet EJ numrerade band_blur.mp4: 128x128 3 deep_water_corals, 85.6ms\n",
      "video 1/1 (221/250) /Users/jurie.germishuys/Workspace/odf/koster-uw/kso/tutorials/000203 TMBL-ROV 2000 Säcken revet EJ numrerade band_blur.mp4: 128x128 3 deep_water_corals, 85.5ms\n",
      "video 1/1 (222/250) /Users/jurie.germishuys/Workspace/odf/koster-uw/kso/tutorials/000203 TMBL-ROV 2000 Säcken revet EJ numrerade band_blur.mp4: 128x128 2 deep_water_corals, 85.8ms\n",
      "video 1/1 (223/250) /Users/jurie.germishuys/Workspace/odf/koster-uw/kso/tutorials/000203 TMBL-ROV 2000 Säcken revet EJ numrerade band_blur.mp4: 128x128 3 deep_water_corals, 85.5ms\n",
      "video 1/1 (224/250) /Users/jurie.germishuys/Workspace/odf/koster-uw/kso/tutorials/000203 TMBL-ROV 2000 Säcken revet EJ numrerade band_blur.mp4: 128x128 4 deep_water_corals, 85.4ms\n",
      "video 1/1 (225/250) /Users/jurie.germishuys/Workspace/odf/koster-uw/kso/tutorials/000203 TMBL-ROV 2000 Säcken revet EJ numrerade band_blur.mp4: 128x128 4 deep_water_corals, 85.8ms\n",
      "video 1/1 (226/250) /Users/jurie.germishuys/Workspace/odf/koster-uw/kso/tutorials/000203 TMBL-ROV 2000 Säcken revet EJ numrerade band_blur.mp4: 128x128 4 deep_water_corals, 85.8ms\n",
      "video 1/1 (227/250) /Users/jurie.germishuys/Workspace/odf/koster-uw/kso/tutorials/000203 TMBL-ROV 2000 Säcken revet EJ numrerade band_blur.mp4: 128x128 4 deep_water_corals, 85.8ms\n",
      "video 1/1 (228/250) /Users/jurie.germishuys/Workspace/odf/koster-uw/kso/tutorials/000203 TMBL-ROV 2000 Säcken revet EJ numrerade band_blur.mp4: 128x128 3 deep_water_corals, 85.7ms\n",
      "video 1/1 (229/250) /Users/jurie.germishuys/Workspace/odf/koster-uw/kso/tutorials/000203 TMBL-ROV 2000 Säcken revet EJ numrerade band_blur.mp4: 128x128 3 deep_water_corals, 85.7ms\n",
      "video 1/1 (230/250) /Users/jurie.germishuys/Workspace/odf/koster-uw/kso/tutorials/000203 TMBL-ROV 2000 Säcken revet EJ numrerade band_blur.mp4: 128x128 3 deep_water_corals, 86.0ms\n",
      "video 1/1 (231/250) /Users/jurie.germishuys/Workspace/odf/koster-uw/kso/tutorials/000203 TMBL-ROV 2000 Säcken revet EJ numrerade band_blur.mp4: 128x128 3 deep_water_corals, 86.5ms\n",
      "video 1/1 (232/250) /Users/jurie.germishuys/Workspace/odf/koster-uw/kso/tutorials/000203 TMBL-ROV 2000 Säcken revet EJ numrerade band_blur.mp4: 128x128 4 deep_water_corals, 87.6ms\n",
      "video 1/1 (233/250) /Users/jurie.germishuys/Workspace/odf/koster-uw/kso/tutorials/000203 TMBL-ROV 2000 Säcken revet EJ numrerade band_blur.mp4: 128x128 3 deep_water_corals, 89.6ms\n",
      "video 1/1 (234/250) /Users/jurie.germishuys/Workspace/odf/koster-uw/kso/tutorials/000203 TMBL-ROV 2000 Säcken revet EJ numrerade band_blur.mp4: 128x128 3 deep_water_corals, 85.9ms\n",
      "video 1/1 (235/250) /Users/jurie.germishuys/Workspace/odf/koster-uw/kso/tutorials/000203 TMBL-ROV 2000 Säcken revet EJ numrerade band_blur.mp4: 128x128 4 deep_water_corals, 85.9ms\n",
      "video 1/1 (236/250) /Users/jurie.germishuys/Workspace/odf/koster-uw/kso/tutorials/000203 TMBL-ROV 2000 Säcken revet EJ numrerade band_blur.mp4: 128x128 4 deep_water_corals, 85.7ms\n",
      "video 1/1 (237/250) /Users/jurie.germishuys/Workspace/odf/koster-uw/kso/tutorials/000203 TMBL-ROV 2000 Säcken revet EJ numrerade band_blur.mp4: 128x128 4 deep_water_corals, 85.5ms\n",
      "video 1/1 (238/250) /Users/jurie.germishuys/Workspace/odf/koster-uw/kso/tutorials/000203 TMBL-ROV 2000 Säcken revet EJ numrerade band_blur.mp4: 128x128 4 deep_water_corals, 85.9ms\n",
      "video 1/1 (239/250) /Users/jurie.germishuys/Workspace/odf/koster-uw/kso/tutorials/000203 TMBL-ROV 2000 Säcken revet EJ numrerade band_blur.mp4: 128x128 4 deep_water_corals, 85.7ms\n",
      "video 1/1 (240/250) /Users/jurie.germishuys/Workspace/odf/koster-uw/kso/tutorials/000203 TMBL-ROV 2000 Säcken revet EJ numrerade band_blur.mp4: 128x128 4 deep_water_corals, 85.8ms\n",
      "video 1/1 (241/250) /Users/jurie.germishuys/Workspace/odf/koster-uw/kso/tutorials/000203 TMBL-ROV 2000 Säcken revet EJ numrerade band_blur.mp4: 128x128 5 deep_water_corals, 85.8ms\n",
      "video 1/1 (242/250) /Users/jurie.germishuys/Workspace/odf/koster-uw/kso/tutorials/000203 TMBL-ROV 2000 Säcken revet EJ numrerade band_blur.mp4: 128x128 5 deep_water_corals, 85.8ms\n",
      "video 1/1 (243/250) /Users/jurie.germishuys/Workspace/odf/koster-uw/kso/tutorials/000203 TMBL-ROV 2000 Säcken revet EJ numrerade band_blur.mp4: 128x128 5 deep_water_corals, 91.3ms\n",
      "video 1/1 (244/250) /Users/jurie.germishuys/Workspace/odf/koster-uw/kso/tutorials/000203 TMBL-ROV 2000 Säcken revet EJ numrerade band_blur.mp4: 128x128 5 deep_water_corals, 85.9ms\n",
      "video 1/1 (245/250) /Users/jurie.germishuys/Workspace/odf/koster-uw/kso/tutorials/000203 TMBL-ROV 2000 Säcken revet EJ numrerade band_blur.mp4: 128x128 5 deep_water_corals, 85.5ms\n",
      "video 1/1 (246/250) /Users/jurie.germishuys/Workspace/odf/koster-uw/kso/tutorials/000203 TMBL-ROV 2000 Säcken revet EJ numrerade band_blur.mp4: 128x128 5 deep_water_corals, 85.8ms\n",
      "video 1/1 (247/250) /Users/jurie.germishuys/Workspace/odf/koster-uw/kso/tutorials/000203 TMBL-ROV 2000 Säcken revet EJ numrerade band_blur.mp4: 128x128 5 deep_water_corals, 86.5ms\n",
      "video 1/1 (248/250) /Users/jurie.germishuys/Workspace/odf/koster-uw/kso/tutorials/000203 TMBL-ROV 2000 Säcken revet EJ numrerade band_blur.mp4: 128x128 5 deep_water_corals, 85.9ms\n",
      "video 1/1 (249/250) /Users/jurie.germishuys/Workspace/odf/koster-uw/kso/tutorials/000203 TMBL-ROV 2000 Säcken revet EJ numrerade band_blur.mp4: 128x128 5 deep_water_corals, 86.1ms\n",
      "video 1/1 (250/250) /Users/jurie.germishuys/Workspace/odf/koster-uw/kso/tutorials/000203 TMBL-ROV 2000 Säcken revet EJ numrerade band_blur.mp4: 128x128 5 deep_water_corals, 86.3ms\n",
      "Speed: 0.3ms preprocess, 87.5ms inference, 0.5ms postprocess per image at shape (1, 3, 128, 128)\n"
     ]
    }
   ],
   "source": [
    "results = mlp.track_yolo(\n",
    "    source=source_value,\n",
    "    artifact_dir=artifact_dir,\n",
    "    conf_thres=conf_thres.value,\n",
    ")"
   ]
  },
  {
   "cell_type": "code",
   "execution_count": 135,
   "id": "f82d34e6",
   "metadata": {},
   "outputs": [
    {
     "name": "stderr",
     "output_type": "stream",
     "text": [
      "\n",
      "\n",
      "WARNING ⚠️ inference results will accumulate in RAM unless `stream=True` is passed, causing potential out-of-memory\n",
      "errors for large sources or long-running streams and videos. See https://docs.ultralytics.com/modes/predict/ for help.\n",
      "\n",
      "Example:\n",
      "    results = model(source=..., stream=True)  # generator of Results objects\n",
      "    for r in results:\n",
      "        boxes = r.boxes  # Boxes object for bbox outputs\n",
      "        masks = r.masks  # Masks object for segment masks outputs\n",
      "        probs = r.probs  # Class probabilities for classification outputs\n",
      "\n",
      "video 1/1 (1/250) /Users/jurie.germishuys/Workspace/odf/koster-uw/kso/tutorials/000203 TMBL-ROV 2000 Säcken revet EJ numrerade band_blur.mp4: 128x128 5 deep_water_corals, 89.7ms\n",
      "video 1/1 (2/250) /Users/jurie.germishuys/Workspace/odf/koster-uw/kso/tutorials/000203 TMBL-ROV 2000 Säcken revet EJ numrerade band_blur.mp4: 128x128 5 deep_water_corals, 95.7ms\n",
      "video 1/1 (3/250) /Users/jurie.germishuys/Workspace/odf/koster-uw/kso/tutorials/000203 TMBL-ROV 2000 Säcken revet EJ numrerade band_blur.mp4: 128x128 5 deep_water_corals, 104.8ms\n",
      "video 1/1 (4/250) /Users/jurie.germishuys/Workspace/odf/koster-uw/kso/tutorials/000203 TMBL-ROV 2000 Säcken revet EJ numrerade band_blur.mp4: 128x128 5 deep_water_corals, 85.4ms\n",
      "video 1/1 (5/250) /Users/jurie.germishuys/Workspace/odf/koster-uw/kso/tutorials/000203 TMBL-ROV 2000 Säcken revet EJ numrerade band_blur.mp4: 128x128 5 deep_water_corals, 85.1ms\n",
      "video 1/1 (6/250) /Users/jurie.germishuys/Workspace/odf/koster-uw/kso/tutorials/000203 TMBL-ROV 2000 Säcken revet EJ numrerade band_blur.mp4: 128x128 5 deep_water_corals, 85.1ms\n",
      "video 1/1 (7/250) /Users/jurie.germishuys/Workspace/odf/koster-uw/kso/tutorials/000203 TMBL-ROV 2000 Säcken revet EJ numrerade band_blur.mp4: 128x128 5 deep_water_corals, 85.4ms\n",
      "video 1/1 (8/250) /Users/jurie.germishuys/Workspace/odf/koster-uw/kso/tutorials/000203 TMBL-ROV 2000 Säcken revet EJ numrerade band_blur.mp4: 128x128 5 deep_water_corals, 85.5ms\n",
      "video 1/1 (9/250) /Users/jurie.germishuys/Workspace/odf/koster-uw/kso/tutorials/000203 TMBL-ROV 2000 Säcken revet EJ numrerade band_blur.mp4: 128x128 5 deep_water_corals, 85.2ms\n",
      "video 1/1 (10/250) /Users/jurie.germishuys/Workspace/odf/koster-uw/kso/tutorials/000203 TMBL-ROV 2000 Säcken revet EJ numrerade band_blur.mp4: 128x128 5 deep_water_corals, 85.1ms\n",
      "video 1/1 (11/250) /Users/jurie.germishuys/Workspace/odf/koster-uw/kso/tutorials/000203 TMBL-ROV 2000 Säcken revet EJ numrerade band_blur.mp4: 128x128 5 deep_water_corals, 85.0ms\n",
      "video 1/1 (12/250) /Users/jurie.germishuys/Workspace/odf/koster-uw/kso/tutorials/000203 TMBL-ROV 2000 Säcken revet EJ numrerade band_blur.mp4: 128x128 4 deep_water_corals, 86.7ms\n",
      "video 1/1 (13/250) /Users/jurie.germishuys/Workspace/odf/koster-uw/kso/tutorials/000203 TMBL-ROV 2000 Säcken revet EJ numrerade band_blur.mp4: 128x128 5 deep_water_corals, 85.0ms\n",
      "video 1/1 (14/250) /Users/jurie.germishuys/Workspace/odf/koster-uw/kso/tutorials/000203 TMBL-ROV 2000 Säcken revet EJ numrerade band_blur.mp4: 128x128 5 deep_water_corals, 85.0ms\n",
      "video 1/1 (15/250) /Users/jurie.germishuys/Workspace/odf/koster-uw/kso/tutorials/000203 TMBL-ROV 2000 Säcken revet EJ numrerade band_blur.mp4: 128x128 5 deep_water_corals, 85.0ms\n",
      "video 1/1 (16/250) /Users/jurie.germishuys/Workspace/odf/koster-uw/kso/tutorials/000203 TMBL-ROV 2000 Säcken revet EJ numrerade band_blur.mp4: 128x128 5 deep_water_corals, 85.4ms\n",
      "video 1/1 (17/250) /Users/jurie.germishuys/Workspace/odf/koster-uw/kso/tutorials/000203 TMBL-ROV 2000 Säcken revet EJ numrerade band_blur.mp4: 128x128 5 deep_water_corals, 85.1ms\n",
      "video 1/1 (18/250) /Users/jurie.germishuys/Workspace/odf/koster-uw/kso/tutorials/000203 TMBL-ROV 2000 Säcken revet EJ numrerade band_blur.mp4: 128x128 5 deep_water_corals, 85.1ms\n",
      "video 1/1 (19/250) /Users/jurie.germishuys/Workspace/odf/koster-uw/kso/tutorials/000203 TMBL-ROV 2000 Säcken revet EJ numrerade band_blur.mp4: 128x128 5 deep_water_corals, 84.9ms\n",
      "video 1/1 (20/250) /Users/jurie.germishuys/Workspace/odf/koster-uw/kso/tutorials/000203 TMBL-ROV 2000 Säcken revet EJ numrerade band_blur.mp4: 128x128 4 deep_water_corals, 85.0ms\n",
      "video 1/1 (21/250) /Users/jurie.germishuys/Workspace/odf/koster-uw/kso/tutorials/000203 TMBL-ROV 2000 Säcken revet EJ numrerade band_blur.mp4: 128x128 4 deep_water_corals, 85.0ms\n",
      "video 1/1 (22/250) /Users/jurie.germishuys/Workspace/odf/koster-uw/kso/tutorials/000203 TMBL-ROV 2000 Säcken revet EJ numrerade band_blur.mp4: 128x128 5 deep_water_corals, 84.9ms\n",
      "video 1/1 (23/250) /Users/jurie.germishuys/Workspace/odf/koster-uw/kso/tutorials/000203 TMBL-ROV 2000 Säcken revet EJ numrerade band_blur.mp4: 128x128 4 deep_water_corals, 85.0ms\n",
      "video 1/1 (24/250) /Users/jurie.germishuys/Workspace/odf/koster-uw/kso/tutorials/000203 TMBL-ROV 2000 Säcken revet EJ numrerade band_blur.mp4: 128x128 4 deep_water_corals, 85.1ms\n",
      "video 1/1 (25/250) /Users/jurie.germishuys/Workspace/odf/koster-uw/kso/tutorials/000203 TMBL-ROV 2000 Säcken revet EJ numrerade band_blur.mp4: 128x128 3 deep_water_corals, 85.0ms\n",
      "video 1/1 (26/250) /Users/jurie.germishuys/Workspace/odf/koster-uw/kso/tutorials/000203 TMBL-ROV 2000 Säcken revet EJ numrerade band_blur.mp4: 128x128 3 deep_water_corals, 85.2ms\n",
      "video 1/1 (27/250) /Users/jurie.germishuys/Workspace/odf/koster-uw/kso/tutorials/000203 TMBL-ROV 2000 Säcken revet EJ numrerade band_blur.mp4: 128x128 3 deep_water_corals, 85.1ms\n",
      "video 1/1 (28/250) /Users/jurie.germishuys/Workspace/odf/koster-uw/kso/tutorials/000203 TMBL-ROV 2000 Säcken revet EJ numrerade band_blur.mp4: 128x128 3 deep_water_corals, 85.0ms\n",
      "video 1/1 (29/250) /Users/jurie.germishuys/Workspace/odf/koster-uw/kso/tutorials/000203 TMBL-ROV 2000 Säcken revet EJ numrerade band_blur.mp4: 128x128 3 deep_water_corals, 85.0ms\n",
      "video 1/1 (30/250) /Users/jurie.germishuys/Workspace/odf/koster-uw/kso/tutorials/000203 TMBL-ROV 2000 Säcken revet EJ numrerade band_blur.mp4: 128x128 3 deep_water_corals, 85.0ms\n",
      "video 1/1 (31/250) /Users/jurie.germishuys/Workspace/odf/koster-uw/kso/tutorials/000203 TMBL-ROV 2000 Säcken revet EJ numrerade band_blur.mp4: 128x128 3 deep_water_corals, 85.0ms\n",
      "video 1/1 (32/250) /Users/jurie.germishuys/Workspace/odf/koster-uw/kso/tutorials/000203 TMBL-ROV 2000 Säcken revet EJ numrerade band_blur.mp4: 128x128 4 deep_water_corals, 84.9ms\n",
      "video 1/1 (33/250) /Users/jurie.germishuys/Workspace/odf/koster-uw/kso/tutorials/000203 TMBL-ROV 2000 Säcken revet EJ numrerade band_blur.mp4: 128x128 4 deep_water_corals, 85.1ms\n",
      "video 1/1 (34/250) /Users/jurie.germishuys/Workspace/odf/koster-uw/kso/tutorials/000203 TMBL-ROV 2000 Säcken revet EJ numrerade band_blur.mp4: 128x128 4 deep_water_corals, 85.0ms\n",
      "video 1/1 (35/250) /Users/jurie.germishuys/Workspace/odf/koster-uw/kso/tutorials/000203 TMBL-ROV 2000 Säcken revet EJ numrerade band_blur.mp4: 128x128 3 deep_water_corals, 85.2ms\n",
      "video 1/1 (36/250) /Users/jurie.germishuys/Workspace/odf/koster-uw/kso/tutorials/000203 TMBL-ROV 2000 Säcken revet EJ numrerade band_blur.mp4: 128x128 4 deep_water_corals, 85.0ms\n",
      "video 1/1 (37/250) /Users/jurie.germishuys/Workspace/odf/koster-uw/kso/tutorials/000203 TMBL-ROV 2000 Säcken revet EJ numrerade band_blur.mp4: 128x128 4 deep_water_corals, 84.9ms\n",
      "video 1/1 (38/250) /Users/jurie.germishuys/Workspace/odf/koster-uw/kso/tutorials/000203 TMBL-ROV 2000 Säcken revet EJ numrerade band_blur.mp4: 128x128 3 deep_water_corals, 84.8ms\n",
      "video 1/1 (39/250) /Users/jurie.germishuys/Workspace/odf/koster-uw/kso/tutorials/000203 TMBL-ROV 2000 Säcken revet EJ numrerade band_blur.mp4: 128x128 3 deep_water_corals, 84.9ms\n",
      "video 1/1 (40/250) /Users/jurie.germishuys/Workspace/odf/koster-uw/kso/tutorials/000203 TMBL-ROV 2000 Säcken revet EJ numrerade band_blur.mp4: 128x128 3 deep_water_corals, 85.5ms\n",
      "video 1/1 (41/250) /Users/jurie.germishuys/Workspace/odf/koster-uw/kso/tutorials/000203 TMBL-ROV 2000 Säcken revet EJ numrerade band_blur.mp4: 128x128 3 deep_water_corals, 86.0ms\n",
      "video 1/1 (42/250) /Users/jurie.germishuys/Workspace/odf/koster-uw/kso/tutorials/000203 TMBL-ROV 2000 Säcken revet EJ numrerade band_blur.mp4: 128x128 3 deep_water_corals, 85.0ms\n",
      "video 1/1 (43/250) /Users/jurie.germishuys/Workspace/odf/koster-uw/kso/tutorials/000203 TMBL-ROV 2000 Säcken revet EJ numrerade band_blur.mp4: 128x128 3 deep_water_corals, 85.0ms\n",
      "video 1/1 (44/250) /Users/jurie.germishuys/Workspace/odf/koster-uw/kso/tutorials/000203 TMBL-ROV 2000 Säcken revet EJ numrerade band_blur.mp4: 128x128 3 deep_water_corals, 84.9ms\n",
      "video 1/1 (45/250) /Users/jurie.germishuys/Workspace/odf/koster-uw/kso/tutorials/000203 TMBL-ROV 2000 Säcken revet EJ numrerade band_blur.mp4: 128x128 3 deep_water_corals, 84.9ms\n",
      "video 1/1 (46/250) /Users/jurie.germishuys/Workspace/odf/koster-uw/kso/tutorials/000203 TMBL-ROV 2000 Säcken revet EJ numrerade band_blur.mp4: 128x128 3 deep_water_corals, 84.9ms\n",
      "video 1/1 (47/250) /Users/jurie.germishuys/Workspace/odf/koster-uw/kso/tutorials/000203 TMBL-ROV 2000 Säcken revet EJ numrerade band_blur.mp4: 128x128 3 deep_water_corals, 84.8ms\n",
      "video 1/1 (48/250) /Users/jurie.germishuys/Workspace/odf/koster-uw/kso/tutorials/000203 TMBL-ROV 2000 Säcken revet EJ numrerade band_blur.mp4: 128x128 3 deep_water_corals, 85.1ms\n",
      "video 1/1 (49/250) /Users/jurie.germishuys/Workspace/odf/koster-uw/kso/tutorials/000203 TMBL-ROV 2000 Säcken revet EJ numrerade band_blur.mp4: 128x128 3 deep_water_corals, 85.1ms\n",
      "video 1/1 (50/250) /Users/jurie.germishuys/Workspace/odf/koster-uw/kso/tutorials/000203 TMBL-ROV 2000 Säcken revet EJ numrerade band_blur.mp4: 128x128 2 deep_water_corals, 84.9ms\n",
      "video 1/1 (51/250) /Users/jurie.germishuys/Workspace/odf/koster-uw/kso/tutorials/000203 TMBL-ROV 2000 Säcken revet EJ numrerade band_blur.mp4: 128x128 4 deep_water_corals, 85.1ms\n",
      "video 1/1 (52/250) /Users/jurie.germishuys/Workspace/odf/koster-uw/kso/tutorials/000203 TMBL-ROV 2000 Säcken revet EJ numrerade band_blur.mp4: 128x128 3 deep_water_corals, 84.9ms\n",
      "video 1/1 (53/250) /Users/jurie.germishuys/Workspace/odf/koster-uw/kso/tutorials/000203 TMBL-ROV 2000 Säcken revet EJ numrerade band_blur.mp4: 128x128 3 deep_water_corals, 84.7ms\n",
      "video 1/1 (54/250) /Users/jurie.germishuys/Workspace/odf/koster-uw/kso/tutorials/000203 TMBL-ROV 2000 Säcken revet EJ numrerade band_blur.mp4: 128x128 3 deep_water_corals, 84.9ms\n",
      "video 1/1 (55/250) /Users/jurie.germishuys/Workspace/odf/koster-uw/kso/tutorials/000203 TMBL-ROV 2000 Säcken revet EJ numrerade band_blur.mp4: 128x128 3 deep_water_corals, 86.6ms\n",
      "video 1/1 (56/250) /Users/jurie.germishuys/Workspace/odf/koster-uw/kso/tutorials/000203 TMBL-ROV 2000 Säcken revet EJ numrerade band_blur.mp4: 128x128 3 deep_water_corals, 85.0ms\n",
      "video 1/1 (57/250) /Users/jurie.germishuys/Workspace/odf/koster-uw/kso/tutorials/000203 TMBL-ROV 2000 Säcken revet EJ numrerade band_blur.mp4: 128x128 3 deep_water_corals, 85.2ms\n",
      "video 1/1 (58/250) /Users/jurie.germishuys/Workspace/odf/koster-uw/kso/tutorials/000203 TMBL-ROV 2000 Säcken revet EJ numrerade band_blur.mp4: 128x128 3 deep_water_corals, 85.0ms\n",
      "video 1/1 (59/250) /Users/jurie.germishuys/Workspace/odf/koster-uw/kso/tutorials/000203 TMBL-ROV 2000 Säcken revet EJ numrerade band_blur.mp4: 128x128 3 deep_water_corals, 85.0ms\n",
      "video 1/1 (60/250) /Users/jurie.germishuys/Workspace/odf/koster-uw/kso/tutorials/000203 TMBL-ROV 2000 Säcken revet EJ numrerade band_blur.mp4: 128x128 3 deep_water_corals, 86.0ms\n",
      "video 1/1 (61/250) /Users/jurie.germishuys/Workspace/odf/koster-uw/kso/tutorials/000203 TMBL-ROV 2000 Säcken revet EJ numrerade band_blur.mp4: 128x128 3 deep_water_corals, 85.6ms\n",
      "video 1/1 (62/250) /Users/jurie.germishuys/Workspace/odf/koster-uw/kso/tutorials/000203 TMBL-ROV 2000 Säcken revet EJ numrerade band_blur.mp4: 128x128 3 deep_water_corals, 84.9ms\n",
      "video 1/1 (63/250) /Users/jurie.germishuys/Workspace/odf/koster-uw/kso/tutorials/000203 TMBL-ROV 2000 Säcken revet EJ numrerade band_blur.mp4: 128x128 3 deep_water_corals, 85.0ms\n",
      "video 1/1 (64/250) /Users/jurie.germishuys/Workspace/odf/koster-uw/kso/tutorials/000203 TMBL-ROV 2000 Säcken revet EJ numrerade band_blur.mp4: 128x128 3 deep_water_corals, 84.8ms\n",
      "video 1/1 (65/250) /Users/jurie.germishuys/Workspace/odf/koster-uw/kso/tutorials/000203 TMBL-ROV 2000 Säcken revet EJ numrerade band_blur.mp4: 128x128 3 deep_water_corals, 85.2ms\n",
      "video 1/1 (66/250) /Users/jurie.germishuys/Workspace/odf/koster-uw/kso/tutorials/000203 TMBL-ROV 2000 Säcken revet EJ numrerade band_blur.mp4: 128x128 3 deep_water_corals, 85.2ms\n",
      "video 1/1 (67/250) /Users/jurie.germishuys/Workspace/odf/koster-uw/kso/tutorials/000203 TMBL-ROV 2000 Säcken revet EJ numrerade band_blur.mp4: 128x128 3 deep_water_corals, 85.0ms\n",
      "video 1/1 (68/250) /Users/jurie.germishuys/Workspace/odf/koster-uw/kso/tutorials/000203 TMBL-ROV 2000 Säcken revet EJ numrerade band_blur.mp4: 128x128 4 deep_water_corals, 85.0ms\n",
      "video 1/1 (69/250) /Users/jurie.germishuys/Workspace/odf/koster-uw/kso/tutorials/000203 TMBL-ROV 2000 Säcken revet EJ numrerade band_blur.mp4: 128x128 4 deep_water_corals, 85.1ms\n",
      "video 1/1 (70/250) /Users/jurie.germishuys/Workspace/odf/koster-uw/kso/tutorials/000203 TMBL-ROV 2000 Säcken revet EJ numrerade band_blur.mp4: 128x128 4 deep_water_corals, 85.0ms\n",
      "video 1/1 (71/250) /Users/jurie.germishuys/Workspace/odf/koster-uw/kso/tutorials/000203 TMBL-ROV 2000 Säcken revet EJ numrerade band_blur.mp4: 128x128 4 deep_water_corals, 85.0ms\n",
      "video 1/1 (72/250) /Users/jurie.germishuys/Workspace/odf/koster-uw/kso/tutorials/000203 TMBL-ROV 2000 Säcken revet EJ numrerade band_blur.mp4: 128x128 4 deep_water_corals, 85.0ms\n",
      "video 1/1 (73/250) /Users/jurie.germishuys/Workspace/odf/koster-uw/kso/tutorials/000203 TMBL-ROV 2000 Säcken revet EJ numrerade band_blur.mp4: 128x128 4 deep_water_corals, 84.8ms\n",
      "video 1/1 (74/250) /Users/jurie.germishuys/Workspace/odf/koster-uw/kso/tutorials/000203 TMBL-ROV 2000 Säcken revet EJ numrerade band_blur.mp4: 128x128 4 deep_water_corals, 84.8ms\n",
      "video 1/1 (75/250) /Users/jurie.germishuys/Workspace/odf/koster-uw/kso/tutorials/000203 TMBL-ROV 2000 Säcken revet EJ numrerade band_blur.mp4: 128x128 4 deep_water_corals, 84.9ms\n",
      "video 1/1 (76/250) /Users/jurie.germishuys/Workspace/odf/koster-uw/kso/tutorials/000203 TMBL-ROV 2000 Säcken revet EJ numrerade band_blur.mp4: 128x128 3 deep_water_corals, 85.0ms\n",
      "video 1/1 (77/250) /Users/jurie.germishuys/Workspace/odf/koster-uw/kso/tutorials/000203 TMBL-ROV 2000 Säcken revet EJ numrerade band_blur.mp4: 128x128 3 deep_water_corals, 85.3ms\n",
      "video 1/1 (78/250) /Users/jurie.germishuys/Workspace/odf/koster-uw/kso/tutorials/000203 TMBL-ROV 2000 Säcken revet EJ numrerade band_blur.mp4: 128x128 3 deep_water_corals, 84.9ms\n",
      "video 1/1 (79/250) /Users/jurie.germishuys/Workspace/odf/koster-uw/kso/tutorials/000203 TMBL-ROV 2000 Säcken revet EJ numrerade band_blur.mp4: 128x128 3 deep_water_corals, 85.1ms\n",
      "video 1/1 (80/250) /Users/jurie.germishuys/Workspace/odf/koster-uw/kso/tutorials/000203 TMBL-ROV 2000 Säcken revet EJ numrerade band_blur.mp4: 128x128 3 deep_water_corals, 84.9ms\n",
      "video 1/1 (81/250) /Users/jurie.germishuys/Workspace/odf/koster-uw/kso/tutorials/000203 TMBL-ROV 2000 Säcken revet EJ numrerade band_blur.mp4: 128x128 3 deep_water_corals, 85.7ms\n",
      "video 1/1 (82/250) /Users/jurie.germishuys/Workspace/odf/koster-uw/kso/tutorials/000203 TMBL-ROV 2000 Säcken revet EJ numrerade band_blur.mp4: 128x128 3 deep_water_corals, 85.2ms\n",
      "video 1/1 (83/250) /Users/jurie.germishuys/Workspace/odf/koster-uw/kso/tutorials/000203 TMBL-ROV 2000 Säcken revet EJ numrerade band_blur.mp4: 128x128 4 deep_water_corals, 85.1ms\n",
      "video 1/1 (84/250) /Users/jurie.germishuys/Workspace/odf/koster-uw/kso/tutorials/000203 TMBL-ROV 2000 Säcken revet EJ numrerade band_blur.mp4: 128x128 4 deep_water_corals, 84.9ms\n",
      "video 1/1 (85/250) /Users/jurie.germishuys/Workspace/odf/koster-uw/kso/tutorials/000203 TMBL-ROV 2000 Säcken revet EJ numrerade band_blur.mp4: 128x128 4 deep_water_corals, 84.8ms\n",
      "video 1/1 (86/250) /Users/jurie.germishuys/Workspace/odf/koster-uw/kso/tutorials/000203 TMBL-ROV 2000 Säcken revet EJ numrerade band_blur.mp4: 128x128 4 deep_water_corals, 85.0ms\n",
      "video 1/1 (87/250) /Users/jurie.germishuys/Workspace/odf/koster-uw/kso/tutorials/000203 TMBL-ROV 2000 Säcken revet EJ numrerade band_blur.mp4: 128x128 4 deep_water_corals, 85.0ms\n",
      "video 1/1 (88/250) /Users/jurie.germishuys/Workspace/odf/koster-uw/kso/tutorials/000203 TMBL-ROV 2000 Säcken revet EJ numrerade band_blur.mp4: 128x128 4 deep_water_corals, 84.9ms\n",
      "video 1/1 (89/250) /Users/jurie.germishuys/Workspace/odf/koster-uw/kso/tutorials/000203 TMBL-ROV 2000 Säcken revet EJ numrerade band_blur.mp4: 128x128 3 deep_water_corals, 85.0ms\n",
      "video 1/1 (90/250) /Users/jurie.germishuys/Workspace/odf/koster-uw/kso/tutorials/000203 TMBL-ROV 2000 Säcken revet EJ numrerade band_blur.mp4: 128x128 3 deep_water_corals, 84.9ms\n",
      "video 1/1 (91/250) /Users/jurie.germishuys/Workspace/odf/koster-uw/kso/tutorials/000203 TMBL-ROV 2000 Säcken revet EJ numrerade band_blur.mp4: 128x128 3 deep_water_corals, 85.8ms\n",
      "video 1/1 (92/250) /Users/jurie.germishuys/Workspace/odf/koster-uw/kso/tutorials/000203 TMBL-ROV 2000 Säcken revet EJ numrerade band_blur.mp4: 128x128 4 deep_water_corals, 85.1ms\n",
      "video 1/1 (93/250) /Users/jurie.germishuys/Workspace/odf/koster-uw/kso/tutorials/000203 TMBL-ROV 2000 Säcken revet EJ numrerade band_blur.mp4: 128x128 3 deep_water_corals, 85.3ms\n",
      "video 1/1 (94/250) /Users/jurie.germishuys/Workspace/odf/koster-uw/kso/tutorials/000203 TMBL-ROV 2000 Säcken revet EJ numrerade band_blur.mp4: 128x128 3 deep_water_corals, 85.0ms\n",
      "video 1/1 (95/250) /Users/jurie.germishuys/Workspace/odf/koster-uw/kso/tutorials/000203 TMBL-ROV 2000 Säcken revet EJ numrerade band_blur.mp4: 128x128 3 deep_water_corals, 84.8ms\n",
      "video 1/1 (96/250) /Users/jurie.germishuys/Workspace/odf/koster-uw/kso/tutorials/000203 TMBL-ROV 2000 Säcken revet EJ numrerade band_blur.mp4: 128x128 3 deep_water_corals, 85.0ms\n",
      "video 1/1 (97/250) /Users/jurie.germishuys/Workspace/odf/koster-uw/kso/tutorials/000203 TMBL-ROV 2000 Säcken revet EJ numrerade band_blur.mp4: 128x128 3 deep_water_corals, 84.9ms\n",
      "video 1/1 (98/250) /Users/jurie.germishuys/Workspace/odf/koster-uw/kso/tutorials/000203 TMBL-ROV 2000 Säcken revet EJ numrerade band_blur.mp4: 128x128 3 deep_water_corals, 85.7ms\n",
      "video 1/1 (99/250) /Users/jurie.germishuys/Workspace/odf/koster-uw/kso/tutorials/000203 TMBL-ROV 2000 Säcken revet EJ numrerade band_blur.mp4: 128x128 3 deep_water_corals, 85.2ms\n",
      "video 1/1 (100/250) /Users/jurie.germishuys/Workspace/odf/koster-uw/kso/tutorials/000203 TMBL-ROV 2000 Säcken revet EJ numrerade band_blur.mp4: 128x128 3 deep_water_corals, 85.2ms\n",
      "video 1/1 (101/250) /Users/jurie.germishuys/Workspace/odf/koster-uw/kso/tutorials/000203 TMBL-ROV 2000 Säcken revet EJ numrerade band_blur.mp4: 128x128 3 deep_water_corals, 85.2ms\n",
      "video 1/1 (102/250) /Users/jurie.germishuys/Workspace/odf/koster-uw/kso/tutorials/000203 TMBL-ROV 2000 Säcken revet EJ numrerade band_blur.mp4: 128x128 3 deep_water_corals, 84.9ms\n",
      "video 1/1 (103/250) /Users/jurie.germishuys/Workspace/odf/koster-uw/kso/tutorials/000203 TMBL-ROV 2000 Säcken revet EJ numrerade band_blur.mp4: 128x128 3 deep_water_corals, 85.1ms\n",
      "video 1/1 (104/250) /Users/jurie.germishuys/Workspace/odf/koster-uw/kso/tutorials/000203 TMBL-ROV 2000 Säcken revet EJ numrerade band_blur.mp4: 128x128 3 deep_water_corals, 85.0ms\n",
      "video 1/1 (105/250) /Users/jurie.germishuys/Workspace/odf/koster-uw/kso/tutorials/000203 TMBL-ROV 2000 Säcken revet EJ numrerade band_blur.mp4: 128x128 3 deep_water_corals, 85.0ms\n",
      "video 1/1 (106/250) /Users/jurie.germishuys/Workspace/odf/koster-uw/kso/tutorials/000203 TMBL-ROV 2000 Säcken revet EJ numrerade band_blur.mp4: 128x128 3 deep_water_corals, 85.0ms\n",
      "video 1/1 (107/250) /Users/jurie.germishuys/Workspace/odf/koster-uw/kso/tutorials/000203 TMBL-ROV 2000 Säcken revet EJ numrerade band_blur.mp4: 128x128 3 deep_water_corals, 98.1ms\n",
      "video 1/1 (108/250) /Users/jurie.germishuys/Workspace/odf/koster-uw/kso/tutorials/000203 TMBL-ROV 2000 Säcken revet EJ numrerade band_blur.mp4: 128x128 3 deep_water_corals, 98.8ms\n",
      "video 1/1 (109/250) /Users/jurie.germishuys/Workspace/odf/koster-uw/kso/tutorials/000203 TMBL-ROV 2000 Säcken revet EJ numrerade band_blur.mp4: 128x128 3 deep_water_corals, 85.0ms\n",
      "video 1/1 (110/250) /Users/jurie.germishuys/Workspace/odf/koster-uw/kso/tutorials/000203 TMBL-ROV 2000 Säcken revet EJ numrerade band_blur.mp4: 128x128 3 deep_water_corals, 85.6ms\n",
      "video 1/1 (111/250) /Users/jurie.germishuys/Workspace/odf/koster-uw/kso/tutorials/000203 TMBL-ROV 2000 Säcken revet EJ numrerade band_blur.mp4: 128x128 3 deep_water_corals, 85.3ms\n",
      "video 1/1 (112/250) /Users/jurie.germishuys/Workspace/odf/koster-uw/kso/tutorials/000203 TMBL-ROV 2000 Säcken revet EJ numrerade band_blur.mp4: 128x128 3 deep_water_corals, 84.9ms\n",
      "video 1/1 (113/250) /Users/jurie.germishuys/Workspace/odf/koster-uw/kso/tutorials/000203 TMBL-ROV 2000 Säcken revet EJ numrerade band_blur.mp4: 128x128 3 deep_water_corals, 85.1ms\n",
      "video 1/1 (114/250) /Users/jurie.germishuys/Workspace/odf/koster-uw/kso/tutorials/000203 TMBL-ROV 2000 Säcken revet EJ numrerade band_blur.mp4: 128x128 3 deep_water_corals, 85.0ms\n",
      "video 1/1 (115/250) /Users/jurie.germishuys/Workspace/odf/koster-uw/kso/tutorials/000203 TMBL-ROV 2000 Säcken revet EJ numrerade band_blur.mp4: 128x128 3 deep_water_corals, 85.3ms\n",
      "video 1/1 (116/250) /Users/jurie.germishuys/Workspace/odf/koster-uw/kso/tutorials/000203 TMBL-ROV 2000 Säcken revet EJ numrerade band_blur.mp4: 128x128 3 deep_water_corals, 84.9ms\n",
      "video 1/1 (117/250) /Users/jurie.germishuys/Workspace/odf/koster-uw/kso/tutorials/000203 TMBL-ROV 2000 Säcken revet EJ numrerade band_blur.mp4: 128x128 3 deep_water_corals, 85.1ms\n",
      "video 1/1 (118/250) /Users/jurie.germishuys/Workspace/odf/koster-uw/kso/tutorials/000203 TMBL-ROV 2000 Säcken revet EJ numrerade band_blur.mp4: 128x128 3 deep_water_corals, 85.0ms\n",
      "video 1/1 (119/250) /Users/jurie.germishuys/Workspace/odf/koster-uw/kso/tutorials/000203 TMBL-ROV 2000 Säcken revet EJ numrerade band_blur.mp4: 128x128 3 deep_water_corals, 85.3ms\n",
      "video 1/1 (120/250) /Users/jurie.germishuys/Workspace/odf/koster-uw/kso/tutorials/000203 TMBL-ROV 2000 Säcken revet EJ numrerade band_blur.mp4: 128x128 3 deep_water_corals, 86.0ms\n",
      "video 1/1 (121/250) /Users/jurie.germishuys/Workspace/odf/koster-uw/kso/tutorials/000203 TMBL-ROV 2000 Säcken revet EJ numrerade band_blur.mp4: 128x128 3 deep_water_corals, 85.1ms\n",
      "video 1/1 (122/250) /Users/jurie.germishuys/Workspace/odf/koster-uw/kso/tutorials/000203 TMBL-ROV 2000 Säcken revet EJ numrerade band_blur.mp4: 128x128 3 deep_water_corals, 85.2ms\n",
      "video 1/1 (123/250) /Users/jurie.germishuys/Workspace/odf/koster-uw/kso/tutorials/000203 TMBL-ROV 2000 Säcken revet EJ numrerade band_blur.mp4: 128x128 3 deep_water_corals, 85.8ms\n",
      "video 1/1 (124/250) /Users/jurie.germishuys/Workspace/odf/koster-uw/kso/tutorials/000203 TMBL-ROV 2000 Säcken revet EJ numrerade band_blur.mp4: 128x128 3 deep_water_corals, 85.0ms\n",
      "video 1/1 (125/250) /Users/jurie.germishuys/Workspace/odf/koster-uw/kso/tutorials/000203 TMBL-ROV 2000 Säcken revet EJ numrerade band_blur.mp4: 128x128 3 deep_water_corals, 84.9ms\n",
      "video 1/1 (126/250) /Users/jurie.germishuys/Workspace/odf/koster-uw/kso/tutorials/000203 TMBL-ROV 2000 Säcken revet EJ numrerade band_blur.mp4: 128x128 3 deep_water_corals, 85.4ms\n",
      "video 1/1 (127/250) /Users/jurie.germishuys/Workspace/odf/koster-uw/kso/tutorials/000203 TMBL-ROV 2000 Säcken revet EJ numrerade band_blur.mp4: 128x128 3 deep_water_corals, 84.8ms\n",
      "video 1/1 (128/250) /Users/jurie.germishuys/Workspace/odf/koster-uw/kso/tutorials/000203 TMBL-ROV 2000 Säcken revet EJ numrerade band_blur.mp4: 128x128 3 deep_water_corals, 85.0ms\n",
      "video 1/1 (129/250) /Users/jurie.germishuys/Workspace/odf/koster-uw/kso/tutorials/000203 TMBL-ROV 2000 Säcken revet EJ numrerade band_blur.mp4: 128x128 3 deep_water_corals, 85.0ms\n",
      "video 1/1 (130/250) /Users/jurie.germishuys/Workspace/odf/koster-uw/kso/tutorials/000203 TMBL-ROV 2000 Säcken revet EJ numrerade band_blur.mp4: 128x128 3 deep_water_corals, 85.7ms\n",
      "video 1/1 (131/250) /Users/jurie.germishuys/Workspace/odf/koster-uw/kso/tutorials/000203 TMBL-ROV 2000 Säcken revet EJ numrerade band_blur.mp4: 128x128 3 deep_water_corals, 85.0ms\n",
      "video 1/1 (132/250) /Users/jurie.germishuys/Workspace/odf/koster-uw/kso/tutorials/000203 TMBL-ROV 2000 Säcken revet EJ numrerade band_blur.mp4: 128x128 3 deep_water_corals, 84.9ms\n",
      "video 1/1 (133/250) /Users/jurie.germishuys/Workspace/odf/koster-uw/kso/tutorials/000203 TMBL-ROV 2000 Säcken revet EJ numrerade band_blur.mp4: 128x128 3 deep_water_corals, 85.1ms\n",
      "video 1/1 (134/250) /Users/jurie.germishuys/Workspace/odf/koster-uw/kso/tutorials/000203 TMBL-ROV 2000 Säcken revet EJ numrerade band_blur.mp4: 128x128 3 deep_water_corals, 85.2ms\n",
      "video 1/1 (135/250) /Users/jurie.germishuys/Workspace/odf/koster-uw/kso/tutorials/000203 TMBL-ROV 2000 Säcken revet EJ numrerade band_blur.mp4: 128x128 3 deep_water_corals, 85.0ms\n",
      "video 1/1 (136/250) /Users/jurie.germishuys/Workspace/odf/koster-uw/kso/tutorials/000203 TMBL-ROV 2000 Säcken revet EJ numrerade band_blur.mp4: 128x128 3 deep_water_corals, 85.0ms\n",
      "video 1/1 (137/250) /Users/jurie.germishuys/Workspace/odf/koster-uw/kso/tutorials/000203 TMBL-ROV 2000 Säcken revet EJ numrerade band_blur.mp4: 128x128 3 deep_water_corals, 85.0ms\n",
      "video 1/1 (138/250) /Users/jurie.germishuys/Workspace/odf/koster-uw/kso/tutorials/000203 TMBL-ROV 2000 Säcken revet EJ numrerade band_blur.mp4: 128x128 3 deep_water_corals, 85.0ms\n",
      "video 1/1 (139/250) /Users/jurie.germishuys/Workspace/odf/koster-uw/kso/tutorials/000203 TMBL-ROV 2000 Säcken revet EJ numrerade band_blur.mp4: 128x128 3 deep_water_corals, 85.2ms\n",
      "video 1/1 (140/250) /Users/jurie.germishuys/Workspace/odf/koster-uw/kso/tutorials/000203 TMBL-ROV 2000 Säcken revet EJ numrerade band_blur.mp4: 128x128 3 deep_water_corals, 86.2ms\n",
      "video 1/1 (141/250) /Users/jurie.germishuys/Workspace/odf/koster-uw/kso/tutorials/000203 TMBL-ROV 2000 Säcken revet EJ numrerade band_blur.mp4: 128x128 3 deep_water_corals, 85.3ms\n",
      "video 1/1 (142/250) /Users/jurie.germishuys/Workspace/odf/koster-uw/kso/tutorials/000203 TMBL-ROV 2000 Säcken revet EJ numrerade band_blur.mp4: 128x128 3 deep_water_corals, 85.1ms\n",
      "video 1/1 (143/250) /Users/jurie.germishuys/Workspace/odf/koster-uw/kso/tutorials/000203 TMBL-ROV 2000 Säcken revet EJ numrerade band_blur.mp4: 128x128 3 deep_water_corals, 84.9ms\n",
      "video 1/1 (144/250) /Users/jurie.germishuys/Workspace/odf/koster-uw/kso/tutorials/000203 TMBL-ROV 2000 Säcken revet EJ numrerade band_blur.mp4: 128x128 3 deep_water_corals, 85.5ms\n",
      "video 1/1 (145/250) /Users/jurie.germishuys/Workspace/odf/koster-uw/kso/tutorials/000203 TMBL-ROV 2000 Säcken revet EJ numrerade band_blur.mp4: 128x128 3 deep_water_corals, 85.1ms\n",
      "video 1/1 (146/250) /Users/jurie.germishuys/Workspace/odf/koster-uw/kso/tutorials/000203 TMBL-ROV 2000 Säcken revet EJ numrerade band_blur.mp4: 128x128 3 deep_water_corals, 84.9ms\n",
      "video 1/1 (147/250) /Users/jurie.germishuys/Workspace/odf/koster-uw/kso/tutorials/000203 TMBL-ROV 2000 Säcken revet EJ numrerade band_blur.mp4: 128x128 3 deep_water_corals, 85.2ms\n",
      "video 1/1 (148/250) /Users/jurie.germishuys/Workspace/odf/koster-uw/kso/tutorials/000203 TMBL-ROV 2000 Säcken revet EJ numrerade band_blur.mp4: 128x128 3 deep_water_corals, 85.1ms\n",
      "video 1/1 (149/250) /Users/jurie.germishuys/Workspace/odf/koster-uw/kso/tutorials/000203 TMBL-ROV 2000 Säcken revet EJ numrerade band_blur.mp4: 128x128 3 deep_water_corals, 84.8ms\n",
      "video 1/1 (150/250) /Users/jurie.germishuys/Workspace/odf/koster-uw/kso/tutorials/000203 TMBL-ROV 2000 Säcken revet EJ numrerade band_blur.mp4: 128x128 3 deep_water_corals, 84.8ms\n",
      "video 1/1 (151/250) /Users/jurie.germishuys/Workspace/odf/koster-uw/kso/tutorials/000203 TMBL-ROV 2000 Säcken revet EJ numrerade band_blur.mp4: 128x128 3 deep_water_corals, 84.9ms\n",
      "video 1/1 (152/250) /Users/jurie.germishuys/Workspace/odf/koster-uw/kso/tutorials/000203 TMBL-ROV 2000 Säcken revet EJ numrerade band_blur.mp4: 128x128 3 deep_water_corals, 84.8ms\n",
      "video 1/1 (153/250) /Users/jurie.germishuys/Workspace/odf/koster-uw/kso/tutorials/000203 TMBL-ROV 2000 Säcken revet EJ numrerade band_blur.mp4: 128x128 3 deep_water_corals, 84.8ms\n",
      "video 1/1 (154/250) /Users/jurie.germishuys/Workspace/odf/koster-uw/kso/tutorials/000203 TMBL-ROV 2000 Säcken revet EJ numrerade band_blur.mp4: 128x128 3 deep_water_corals, 85.0ms\n",
      "video 1/1 (155/250) /Users/jurie.germishuys/Workspace/odf/koster-uw/kso/tutorials/000203 TMBL-ROV 2000 Säcken revet EJ numrerade band_blur.mp4: 128x128 3 deep_water_corals, 84.8ms\n",
      "video 1/1 (156/250) /Users/jurie.germishuys/Workspace/odf/koster-uw/kso/tutorials/000203 TMBL-ROV 2000 Säcken revet EJ numrerade band_blur.mp4: 128x128 3 deep_water_corals, 85.9ms\n",
      "video 1/1 (157/250) /Users/jurie.germishuys/Workspace/odf/koster-uw/kso/tutorials/000203 TMBL-ROV 2000 Säcken revet EJ numrerade band_blur.mp4: 128x128 3 deep_water_corals, 85.3ms\n",
      "video 1/1 (158/250) /Users/jurie.germishuys/Workspace/odf/koster-uw/kso/tutorials/000203 TMBL-ROV 2000 Säcken revet EJ numrerade band_blur.mp4: 128x128 3 deep_water_corals, 85.0ms\n",
      "video 1/1 (159/250) /Users/jurie.germishuys/Workspace/odf/koster-uw/kso/tutorials/000203 TMBL-ROV 2000 Säcken revet EJ numrerade band_blur.mp4: 128x128 3 deep_water_corals, 85.0ms\n",
      "video 1/1 (160/250) /Users/jurie.germishuys/Workspace/odf/koster-uw/kso/tutorials/000203 TMBL-ROV 2000 Säcken revet EJ numrerade band_blur.mp4: 128x128 3 deep_water_corals, 85.5ms\n",
      "video 1/1 (161/250) /Users/jurie.germishuys/Workspace/odf/koster-uw/kso/tutorials/000203 TMBL-ROV 2000 Säcken revet EJ numrerade band_blur.mp4: 128x128 3 deep_water_corals, 85.7ms\n",
      "video 1/1 (162/250) /Users/jurie.germishuys/Workspace/odf/koster-uw/kso/tutorials/000203 TMBL-ROV 2000 Säcken revet EJ numrerade band_blur.mp4: 128x128 3 deep_water_corals, 85.6ms\n",
      "video 1/1 (163/250) /Users/jurie.germishuys/Workspace/odf/koster-uw/kso/tutorials/000203 TMBL-ROV 2000 Säcken revet EJ numrerade band_blur.mp4: 128x128 3 deep_water_corals, 84.9ms\n",
      "video 1/1 (164/250) /Users/jurie.germishuys/Workspace/odf/koster-uw/kso/tutorials/000203 TMBL-ROV 2000 Säcken revet EJ numrerade band_blur.mp4: 128x128 3 deep_water_corals, 85.1ms\n",
      "video 1/1 (165/250) /Users/jurie.germishuys/Workspace/odf/koster-uw/kso/tutorials/000203 TMBL-ROV 2000 Säcken revet EJ numrerade band_blur.mp4: 128x128 3 deep_water_corals, 85.0ms\n",
      "video 1/1 (166/250) /Users/jurie.germishuys/Workspace/odf/koster-uw/kso/tutorials/000203 TMBL-ROV 2000 Säcken revet EJ numrerade band_blur.mp4: 128x128 3 deep_water_corals, 85.0ms\n",
      "video 1/1 (167/250) /Users/jurie.germishuys/Workspace/odf/koster-uw/kso/tutorials/000203 TMBL-ROV 2000 Säcken revet EJ numrerade band_blur.mp4: 128x128 3 deep_water_corals, 85.1ms\n",
      "video 1/1 (168/250) /Users/jurie.germishuys/Workspace/odf/koster-uw/kso/tutorials/000203 TMBL-ROV 2000 Säcken revet EJ numrerade band_blur.mp4: 128x128 3 deep_water_corals, 84.9ms\n",
      "video 1/1 (169/250) /Users/jurie.germishuys/Workspace/odf/koster-uw/kso/tutorials/000203 TMBL-ROV 2000 Säcken revet EJ numrerade band_blur.mp4: 128x128 3 deep_water_corals, 85.1ms\n",
      "video 1/1 (170/250) /Users/jurie.germishuys/Workspace/odf/koster-uw/kso/tutorials/000203 TMBL-ROV 2000 Säcken revet EJ numrerade band_blur.mp4: 128x128 3 deep_water_corals, 85.2ms\n",
      "video 1/1 (171/250) /Users/jurie.germishuys/Workspace/odf/koster-uw/kso/tutorials/000203 TMBL-ROV 2000 Säcken revet EJ numrerade band_blur.mp4: 128x128 3 deep_water_corals, 85.1ms\n",
      "video 1/1 (172/250) /Users/jurie.germishuys/Workspace/odf/koster-uw/kso/tutorials/000203 TMBL-ROV 2000 Säcken revet EJ numrerade band_blur.mp4: 128x128 3 deep_water_corals, 86.5ms\n",
      "video 1/1 (173/250) /Users/jurie.germishuys/Workspace/odf/koster-uw/kso/tutorials/000203 TMBL-ROV 2000 Säcken revet EJ numrerade band_blur.mp4: 128x128 3 deep_water_corals, 85.1ms\n",
      "video 1/1 (174/250) /Users/jurie.germishuys/Workspace/odf/koster-uw/kso/tutorials/000203 TMBL-ROV 2000 Säcken revet EJ numrerade band_blur.mp4: 128x128 3 deep_water_corals, 85.0ms\n",
      "video 1/1 (175/250) /Users/jurie.germishuys/Workspace/odf/koster-uw/kso/tutorials/000203 TMBL-ROV 2000 Säcken revet EJ numrerade band_blur.mp4: 128x128 3 deep_water_corals, 85.3ms\n",
      "video 1/1 (176/250) /Users/jurie.germishuys/Workspace/odf/koster-uw/kso/tutorials/000203 TMBL-ROV 2000 Säcken revet EJ numrerade band_blur.mp4: 128x128 3 deep_water_corals, 84.8ms\n",
      "video 1/1 (177/250) /Users/jurie.germishuys/Workspace/odf/koster-uw/kso/tutorials/000203 TMBL-ROV 2000 Säcken revet EJ numrerade band_blur.mp4: 128x128 3 deep_water_corals, 85.1ms\n",
      "video 1/1 (178/250) /Users/jurie.germishuys/Workspace/odf/koster-uw/kso/tutorials/000203 TMBL-ROV 2000 Säcken revet EJ numrerade band_blur.mp4: 128x128 3 deep_water_corals, 85.0ms\n",
      "video 1/1 (179/250) /Users/jurie.germishuys/Workspace/odf/koster-uw/kso/tutorials/000203 TMBL-ROV 2000 Säcken revet EJ numrerade band_blur.mp4: 128x128 3 deep_water_corals, 85.0ms\n",
      "video 1/1 (180/250) /Users/jurie.germishuys/Workspace/odf/koster-uw/kso/tutorials/000203 TMBL-ROV 2000 Säcken revet EJ numrerade band_blur.mp4: 128x128 3 deep_water_corals, 84.9ms\n",
      "video 1/1 (181/250) /Users/jurie.germishuys/Workspace/odf/koster-uw/kso/tutorials/000203 TMBL-ROV 2000 Säcken revet EJ numrerade band_blur.mp4: 128x128 3 deep_water_corals, 85.4ms\n",
      "video 1/1 (182/250) /Users/jurie.germishuys/Workspace/odf/koster-uw/kso/tutorials/000203 TMBL-ROV 2000 Säcken revet EJ numrerade band_blur.mp4: 128x128 3 deep_water_corals, 85.2ms\n",
      "video 1/1 (183/250) /Users/jurie.germishuys/Workspace/odf/koster-uw/kso/tutorials/000203 TMBL-ROV 2000 Säcken revet EJ numrerade band_blur.mp4: 128x128 3 deep_water_corals, 84.8ms\n",
      "video 1/1 (184/250) /Users/jurie.germishuys/Workspace/odf/koster-uw/kso/tutorials/000203 TMBL-ROV 2000 Säcken revet EJ numrerade band_blur.mp4: 128x128 4 deep_water_corals, 85.2ms\n",
      "video 1/1 (185/250) /Users/jurie.germishuys/Workspace/odf/koster-uw/kso/tutorials/000203 TMBL-ROV 2000 Säcken revet EJ numrerade band_blur.mp4: 128x128 4 deep_water_corals, 85.1ms\n",
      "video 1/1 (186/250) /Users/jurie.germishuys/Workspace/odf/koster-uw/kso/tutorials/000203 TMBL-ROV 2000 Säcken revet EJ numrerade band_blur.mp4: 128x128 4 deep_water_corals, 85.0ms\n",
      "video 1/1 (187/250) /Users/jurie.germishuys/Workspace/odf/koster-uw/kso/tutorials/000203 TMBL-ROV 2000 Säcken revet EJ numrerade band_blur.mp4: 128x128 4 deep_water_corals, 85.0ms\n",
      "video 1/1 (188/250) /Users/jurie.germishuys/Workspace/odf/koster-uw/kso/tutorials/000203 TMBL-ROV 2000 Säcken revet EJ numrerade band_blur.mp4: 128x128 4 deep_water_corals, 84.8ms\n",
      "video 1/1 (189/250) /Users/jurie.germishuys/Workspace/odf/koster-uw/kso/tutorials/000203 TMBL-ROV 2000 Säcken revet EJ numrerade band_blur.mp4: 128x128 3 deep_water_corals, 84.8ms\n",
      "video 1/1 (190/250) /Users/jurie.germishuys/Workspace/odf/koster-uw/kso/tutorials/000203 TMBL-ROV 2000 Säcken revet EJ numrerade band_blur.mp4: 128x128 3 deep_water_corals, 85.1ms\n",
      "video 1/1 (191/250) /Users/jurie.germishuys/Workspace/odf/koster-uw/kso/tutorials/000203 TMBL-ROV 2000 Säcken revet EJ numrerade band_blur.mp4: 128x128 2 deep_water_corals, 85.0ms\n",
      "video 1/1 (192/250) /Users/jurie.germishuys/Workspace/odf/koster-uw/kso/tutorials/000203 TMBL-ROV 2000 Säcken revet EJ numrerade band_blur.mp4: 128x128 3 deep_water_corals, 85.1ms\n",
      "video 1/1 (193/250) /Users/jurie.germishuys/Workspace/odf/koster-uw/kso/tutorials/000203 TMBL-ROV 2000 Säcken revet EJ numrerade band_blur.mp4: 128x128 4 deep_water_corals, 85.1ms\n",
      "video 1/1 (194/250) /Users/jurie.germishuys/Workspace/odf/koster-uw/kso/tutorials/000203 TMBL-ROV 2000 Säcken revet EJ numrerade band_blur.mp4: 128x128 4 deep_water_corals, 86.9ms\n",
      "video 1/1 (195/250) /Users/jurie.germishuys/Workspace/odf/koster-uw/kso/tutorials/000203 TMBL-ROV 2000 Säcken revet EJ numrerade band_blur.mp4: 128x128 4 deep_water_corals, 84.9ms\n",
      "video 1/1 (196/250) /Users/jurie.germishuys/Workspace/odf/koster-uw/kso/tutorials/000203 TMBL-ROV 2000 Säcken revet EJ numrerade band_blur.mp4: 128x128 4 deep_water_corals, 85.0ms\n",
      "video 1/1 (197/250) /Users/jurie.germishuys/Workspace/odf/koster-uw/kso/tutorials/000203 TMBL-ROV 2000 Säcken revet EJ numrerade band_blur.mp4: 128x128 4 deep_water_corals, 84.9ms\n",
      "video 1/1 (198/250) /Users/jurie.germishuys/Workspace/odf/koster-uw/kso/tutorials/000203 TMBL-ROV 2000 Säcken revet EJ numrerade band_blur.mp4: 128x128 3 deep_water_corals, 84.9ms\n",
      "video 1/1 (199/250) /Users/jurie.germishuys/Workspace/odf/koster-uw/kso/tutorials/000203 TMBL-ROV 2000 Säcken revet EJ numrerade band_blur.mp4: 128x128 4 deep_water_corals, 85.3ms\n",
      "video 1/1 (200/250) /Users/jurie.germishuys/Workspace/odf/koster-uw/kso/tutorials/000203 TMBL-ROV 2000 Säcken revet EJ numrerade band_blur.mp4: 128x128 3 deep_water_corals, 85.5ms\n",
      "video 1/1 (201/250) /Users/jurie.germishuys/Workspace/odf/koster-uw/kso/tutorials/000203 TMBL-ROV 2000 Säcken revet EJ numrerade band_blur.mp4: 128x128 3 deep_water_corals, 85.5ms\n",
      "video 1/1 (202/250) /Users/jurie.germishuys/Workspace/odf/koster-uw/kso/tutorials/000203 TMBL-ROV 2000 Säcken revet EJ numrerade band_blur.mp4: 128x128 3 deep_water_corals, 85.0ms\n",
      "video 1/1 (203/250) /Users/jurie.germishuys/Workspace/odf/koster-uw/kso/tutorials/000203 TMBL-ROV 2000 Säcken revet EJ numrerade band_blur.mp4: 128x128 3 deep_water_corals, 85.0ms\n",
      "video 1/1 (204/250) /Users/jurie.germishuys/Workspace/odf/koster-uw/kso/tutorials/000203 TMBL-ROV 2000 Säcken revet EJ numrerade band_blur.mp4: 128x128 3 deep_water_corals, 85.0ms\n",
      "video 1/1 (205/250) /Users/jurie.germishuys/Workspace/odf/koster-uw/kso/tutorials/000203 TMBL-ROV 2000 Säcken revet EJ numrerade band_blur.mp4: 128x128 3 deep_water_corals, 84.7ms\n",
      "video 1/1 (206/250) /Users/jurie.germishuys/Workspace/odf/koster-uw/kso/tutorials/000203 TMBL-ROV 2000 Säcken revet EJ numrerade band_blur.mp4: 128x128 4 deep_water_corals, 86.9ms\n",
      "video 1/1 (207/250) /Users/jurie.germishuys/Workspace/odf/koster-uw/kso/tutorials/000203 TMBL-ROV 2000 Säcken revet EJ numrerade band_blur.mp4: 128x128 4 deep_water_corals, 87.2ms\n",
      "video 1/1 (208/250) /Users/jurie.germishuys/Workspace/odf/koster-uw/kso/tutorials/000203 TMBL-ROV 2000 Säcken revet EJ numrerade band_blur.mp4: 128x128 5 deep_water_corals, 85.2ms\n",
      "video 1/1 (209/250) /Users/jurie.germishuys/Workspace/odf/koster-uw/kso/tutorials/000203 TMBL-ROV 2000 Säcken revet EJ numrerade band_blur.mp4: 128x128 4 deep_water_corals, 85.1ms\n",
      "video 1/1 (210/250) /Users/jurie.germishuys/Workspace/odf/koster-uw/kso/tutorials/000203 TMBL-ROV 2000 Säcken revet EJ numrerade band_blur.mp4: 128x128 5 deep_water_corals, 85.3ms\n",
      "video 1/1 (211/250) /Users/jurie.germishuys/Workspace/odf/koster-uw/kso/tutorials/000203 TMBL-ROV 2000 Säcken revet EJ numrerade band_blur.mp4: 128x128 4 deep_water_corals, 85.0ms\n",
      "video 1/1 (212/250) /Users/jurie.germishuys/Workspace/odf/koster-uw/kso/tutorials/000203 TMBL-ROV 2000 Säcken revet EJ numrerade band_blur.mp4: 128x128 3 deep_water_corals, 85.1ms\n",
      "video 1/1 (213/250) /Users/jurie.germishuys/Workspace/odf/koster-uw/kso/tutorials/000203 TMBL-ROV 2000 Säcken revet EJ numrerade band_blur.mp4: 128x128 3 deep_water_corals, 85.1ms\n",
      "video 1/1 (214/250) /Users/jurie.germishuys/Workspace/odf/koster-uw/kso/tutorials/000203 TMBL-ROV 2000 Säcken revet EJ numrerade band_blur.mp4: 128x128 5 deep_water_corals, 85.0ms\n",
      "video 1/1 (215/250) /Users/jurie.germishuys/Workspace/odf/koster-uw/kso/tutorials/000203 TMBL-ROV 2000 Säcken revet EJ numrerade band_blur.mp4: 128x128 5 deep_water_corals, 84.7ms\n",
      "video 1/1 (216/250) /Users/jurie.germishuys/Workspace/odf/koster-uw/kso/tutorials/000203 TMBL-ROV 2000 Säcken revet EJ numrerade band_blur.mp4: 128x128 3 deep_water_corals, 84.9ms\n",
      "video 1/1 (217/250) /Users/jurie.germishuys/Workspace/odf/koster-uw/kso/tutorials/000203 TMBL-ROV 2000 Säcken revet EJ numrerade band_blur.mp4: 128x128 4 deep_water_corals, 84.9ms\n",
      "video 1/1 (218/250) /Users/jurie.germishuys/Workspace/odf/koster-uw/kso/tutorials/000203 TMBL-ROV 2000 Säcken revet EJ numrerade band_blur.mp4: 128x128 4 deep_water_corals, 84.9ms\n",
      "video 1/1 (219/250) /Users/jurie.germishuys/Workspace/odf/koster-uw/kso/tutorials/000203 TMBL-ROV 2000 Säcken revet EJ numrerade band_blur.mp4: 128x128 4 deep_water_corals, 112.9ms\n",
      "video 1/1 (220/250) /Users/jurie.germishuys/Workspace/odf/koster-uw/kso/tutorials/000203 TMBL-ROV 2000 Säcken revet EJ numrerade band_blur.mp4: 128x128 3 deep_water_corals, 84.9ms\n",
      "video 1/1 (221/250) /Users/jurie.germishuys/Workspace/odf/koster-uw/kso/tutorials/000203 TMBL-ROV 2000 Säcken revet EJ numrerade band_blur.mp4: 128x128 3 deep_water_corals, 85.7ms\n",
      "video 1/1 (222/250) /Users/jurie.germishuys/Workspace/odf/koster-uw/kso/tutorials/000203 TMBL-ROV 2000 Säcken revet EJ numrerade band_blur.mp4: 128x128 2 deep_water_corals, 85.2ms\n",
      "video 1/1 (223/250) /Users/jurie.germishuys/Workspace/odf/koster-uw/kso/tutorials/000203 TMBL-ROV 2000 Säcken revet EJ numrerade band_blur.mp4: 128x128 3 deep_water_corals, 84.8ms\n",
      "video 1/1 (224/250) /Users/jurie.germishuys/Workspace/odf/koster-uw/kso/tutorials/000203 TMBL-ROV 2000 Säcken revet EJ numrerade band_blur.mp4: 128x128 4 deep_water_corals, 84.9ms\n",
      "video 1/1 (225/250) /Users/jurie.germishuys/Workspace/odf/koster-uw/kso/tutorials/000203 TMBL-ROV 2000 Säcken revet EJ numrerade band_blur.mp4: 128x128 4 deep_water_corals, 85.2ms\n",
      "video 1/1 (226/250) /Users/jurie.germishuys/Workspace/odf/koster-uw/kso/tutorials/000203 TMBL-ROV 2000 Säcken revet EJ numrerade band_blur.mp4: 128x128 4 deep_water_corals, 84.8ms\n",
      "video 1/1 (227/250) /Users/jurie.germishuys/Workspace/odf/koster-uw/kso/tutorials/000203 TMBL-ROV 2000 Säcken revet EJ numrerade band_blur.mp4: 128x128 4 deep_water_corals, 85.2ms\n",
      "video 1/1 (228/250) /Users/jurie.germishuys/Workspace/odf/koster-uw/kso/tutorials/000203 TMBL-ROV 2000 Säcken revet EJ numrerade band_blur.mp4: 128x128 3 deep_water_corals, 84.8ms\n",
      "video 1/1 (229/250) /Users/jurie.germishuys/Workspace/odf/koster-uw/kso/tutorials/000203 TMBL-ROV 2000 Säcken revet EJ numrerade band_blur.mp4: 128x128 3 deep_water_corals, 84.9ms\n",
      "video 1/1 (230/250) /Users/jurie.germishuys/Workspace/odf/koster-uw/kso/tutorials/000203 TMBL-ROV 2000 Säcken revet EJ numrerade band_blur.mp4: 128x128 3 deep_water_corals, 84.9ms\n",
      "video 1/1 (231/250) /Users/jurie.germishuys/Workspace/odf/koster-uw/kso/tutorials/000203 TMBL-ROV 2000 Säcken revet EJ numrerade band_blur.mp4: 128x128 3 deep_water_corals, 84.9ms\n",
      "video 1/1 (232/250) /Users/jurie.germishuys/Workspace/odf/koster-uw/kso/tutorials/000203 TMBL-ROV 2000 Säcken revet EJ numrerade band_blur.mp4: 128x128 4 deep_water_corals, 84.7ms\n",
      "video 1/1 (233/250) /Users/jurie.germishuys/Workspace/odf/koster-uw/kso/tutorials/000203 TMBL-ROV 2000 Säcken revet EJ numrerade band_blur.mp4: 128x128 3 deep_water_corals, 85.1ms\n",
      "video 1/1 (234/250) /Users/jurie.germishuys/Workspace/odf/koster-uw/kso/tutorials/000203 TMBL-ROV 2000 Säcken revet EJ numrerade band_blur.mp4: 128x128 3 deep_water_corals, 84.8ms\n",
      "video 1/1 (235/250) /Users/jurie.germishuys/Workspace/odf/koster-uw/kso/tutorials/000203 TMBL-ROV 2000 Säcken revet EJ numrerade band_blur.mp4: 128x128 4 deep_water_corals, 85.8ms\n",
      "video 1/1 (236/250) /Users/jurie.germishuys/Workspace/odf/koster-uw/kso/tutorials/000203 TMBL-ROV 2000 Säcken revet EJ numrerade band_blur.mp4: 128x128 4 deep_water_corals, 84.9ms\n",
      "video 1/1 (237/250) /Users/jurie.germishuys/Workspace/odf/koster-uw/kso/tutorials/000203 TMBL-ROV 2000 Säcken revet EJ numrerade band_blur.mp4: 128x128 4 deep_water_corals, 84.9ms\n",
      "video 1/1 (238/250) /Users/jurie.germishuys/Workspace/odf/koster-uw/kso/tutorials/000203 TMBL-ROV 2000 Säcken revet EJ numrerade band_blur.mp4: 128x128 4 deep_water_corals, 85.0ms\n",
      "video 1/1 (239/250) /Users/jurie.germishuys/Workspace/odf/koster-uw/kso/tutorials/000203 TMBL-ROV 2000 Säcken revet EJ numrerade band_blur.mp4: 128x128 4 deep_water_corals, 87.0ms\n",
      "video 1/1 (240/250) /Users/jurie.germishuys/Workspace/odf/koster-uw/kso/tutorials/000203 TMBL-ROV 2000 Säcken revet EJ numrerade band_blur.mp4: 128x128 4 deep_water_corals, 85.0ms\n",
      "video 1/1 (241/250) /Users/jurie.germishuys/Workspace/odf/koster-uw/kso/tutorials/000203 TMBL-ROV 2000 Säcken revet EJ numrerade band_blur.mp4: 128x128 5 deep_water_corals, 84.9ms\n",
      "video 1/1 (242/250) /Users/jurie.germishuys/Workspace/odf/koster-uw/kso/tutorials/000203 TMBL-ROV 2000 Säcken revet EJ numrerade band_blur.mp4: 128x128 5 deep_water_corals, 84.9ms\n",
      "video 1/1 (243/250) /Users/jurie.germishuys/Workspace/odf/koster-uw/kso/tutorials/000203 TMBL-ROV 2000 Säcken revet EJ numrerade band_blur.mp4: 128x128 5 deep_water_corals, 85.3ms\n",
      "video 1/1 (244/250) /Users/jurie.germishuys/Workspace/odf/koster-uw/kso/tutorials/000203 TMBL-ROV 2000 Säcken revet EJ numrerade band_blur.mp4: 128x128 5 deep_water_corals, 85.0ms\n",
      "video 1/1 (245/250) /Users/jurie.germishuys/Workspace/odf/koster-uw/kso/tutorials/000203 TMBL-ROV 2000 Säcken revet EJ numrerade band_blur.mp4: 128x128 5 deep_water_corals, 84.7ms\n",
      "video 1/1 (246/250) /Users/jurie.germishuys/Workspace/odf/koster-uw/kso/tutorials/000203 TMBL-ROV 2000 Säcken revet EJ numrerade band_blur.mp4: 128x128 5 deep_water_corals, 84.6ms\n",
      "video 1/1 (247/250) /Users/jurie.germishuys/Workspace/odf/koster-uw/kso/tutorials/000203 TMBL-ROV 2000 Säcken revet EJ numrerade band_blur.mp4: 128x128 5 deep_water_corals, 84.6ms\n",
      "video 1/1 (248/250) /Users/jurie.germishuys/Workspace/odf/koster-uw/kso/tutorials/000203 TMBL-ROV 2000 Säcken revet EJ numrerade band_blur.mp4: 128x128 5 deep_water_corals, 84.6ms\n",
      "video 1/1 (249/250) /Users/jurie.germishuys/Workspace/odf/koster-uw/kso/tutorials/000203 TMBL-ROV 2000 Säcken revet EJ numrerade band_blur.mp4: 128x128 5 deep_water_corals, 84.7ms\n",
      "video 1/1 (250/250) /Users/jurie.germishuys/Workspace/odf/koster-uw/kso/tutorials/000203 TMBL-ROV 2000 Säcken revet EJ numrerade band_blur.mp4: 128x128 5 deep_water_corals, 84.9ms\n",
      "Speed: 0.3ms preprocess, 85.5ms inference, 0.5ms postprocess per image at shape (1, 3, 128, 128)\n",
      "Results saved to \u001b[1m/Users/jurie.germishuys/Workspace/odf/koster-uw/kso/tutorials/runs/detect/predict7/runs/track/template_project\u001b[0m\n",
      "250 labels saved to /Users/jurie.germishuys/Workspace/odf/koster-uw/kso/tutorials/runs/detect/predict7/runs/track/template_project/labels\n",
      "INFO:root:Tracking saved succesfully to /Users/jurie.germishuys/Workspace/odf/koster-uw/kso/tutorials/runs/detect/predict7/runs/track/template_project/mot\n",
      "INFO:root:Report created at /Users/jurie.germishuys/Workspace/odf/koster-uw/kso/tutorials/runs/detect/predict7/annotations.csv\n"
     ]
    },
    {
     "name": "stdout",
     "output_type": "stream",
     "text": [
      "MOT results saved to /Users/jurie.germishuys/Workspace/odf/koster-uw/kso/tutorials/runs/detect/predict7/runs/track/template_project/mot/000203 TMBL-ROV 2000 Säcken revet EJ numrerade band_blur.mp4.txt\n",
      "this is the latest tracker /Users/jurie.germishuys/Workspace/odf/koster-uw/kso/tutorials/runs/detect/predict7/runs/track/template_project/mot\n"
     ]
    },
    {
     "name": "stderr",
     "output_type": "stream",
     "text": [
      "INFO:root:Report created at /Users/jurie.germishuys/Workspace/odf/koster-uw/kso/tutorials/runs/detect/predict7/tracking.csv\n",
      "INFO:root:------- DETECTION REPORT -------\n",
      "INFO:root:--------------------------------\n",
      "INFO:root:species_name\n",
      "deep_water_coral    13\n",
      "Name: tracker_id, dtype: int64\n"
     ]
    },
    {
     "name": "stdout",
     "output_type": "stream",
     "text": [
      "                                               filename class_id frame_no  \\\n",
      "0     000203 TMBL-ROV 2000 Säcken revet EJ numrerad...        0        1   \n",
      "1     000203 TMBL-ROV 2000 Säcken revet EJ numrerad...        0        1   \n",
      "2     000203 TMBL-ROV 2000 Säcken revet EJ numrerad...        0        1   \n",
      "3     000203 TMBL-ROV 2000 Säcken revet EJ numrerad...        0        1   \n",
      "4     000203 TMBL-ROV 2000 Säcken revet EJ numrerad...        0        1   \n",
      "...                                                 ...      ...      ...   \n",
      "6076  000203 TMBL-ROV 2000 Säcken revet EJ numrerad...        0      250   \n",
      "6077  000203 TMBL-ROV 2000 Säcken revet EJ numrerad...        0      250   \n",
      "6078  000203 TMBL-ROV 2000 Säcken revet EJ numrerad...        0      250   \n",
      "6079  000203 TMBL-ROV 2000 Säcken revet EJ numrerad...        0      250   \n",
      "6080  000203 TMBL-ROV 2000 Säcken revet EJ numrerad...        0      250   \n",
      "\n",
      "     tracker_id  \n",
      "0             1  \n",
      "1             2  \n",
      "2             3  \n",
      "3             4  \n",
      "4             5  \n",
      "...         ...  \n",
      "6076          3  \n",
      "6077          1  \n",
      "6078         16  \n",
      "6079         12  \n",
      "6080         19  \n",
      "\n",
      "[6081 rows x 4 columns]\n"
     ]
    }
   ],
   "source": [
    "results = mlp.track_individuals(name=mlp.project_name,\n",
    "                                source=source_value,\n",
    "                                artifact_dir=artifact_dir,\n",
    "                                eval_dir=eval_dir.selected,\n",
    "                                conf_thres=conf_thres.value,\n",
    "                                img_size=(128, 128))"
   ]
  },
  {
   "cell_type": "code",
   "execution_count": null,
   "id": "racial-richardson",
   "metadata": {},
   "outputs": [],
   "source": [
    "# END"
   ]
  }
 ],
 "metadata": {
  "kernelspec": {
   "display_name": "Python 3 (ipykernel)",
   "language": "python",
   "name": "python3"
  },
  "language_info": {
   "codemirror_mode": {
    "name": "ipython",
    "version": 3
   },
   "file_extension": ".py",
   "mimetype": "text/x-python",
   "name": "python",
   "nbconvert_exporter": "python",
   "pygments_lexer": "ipython3",
   "version": "3.8.16"
  }
 },
 "nbformat": 4,
 "nbformat_minor": 5
}
