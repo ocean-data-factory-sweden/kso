{
 "cells": [
  {
   "cell_type": "markdown",
   "id": "hawaiian-ratio",
   "metadata": {},
   "source": [
    "<img align=\"left\" src=\"https://panoptes-uploads.zooniverse.org/project_avatar/86c23ca7-bbaa-4e84-8d8a-876819551431.png\" type=\"image/png\" height=100 width=100>\n",
    "</img>\n",
    "<h1 align=\"right\">KSO Tutorials #6: Evaluate machine learning models</h1>\n",
    "<h3 align=\"right\">Written by the KSO Team</h3>"
   ]
  },
  {
   "cell_type": "markdown",
   "id": "recovered-hamburg",
   "metadata": {},
   "source": [
    "# Set up KSO requirements"
   ]
  },
  {
   "cell_type": "code",
   "execution_count": null,
   "id": "ab2bc392",
   "metadata": {},
   "outputs": [],
   "source": [
    "# @title <font size=\"5\">↓ ឵឵<i>Install kso-object-detection and its requirements</font> { vertical-output: true }\n",
    "from IPython.display import clear_output\n",
    "\n",
    "try:\n",
    "    import google.colab\n",
    "    import os\n",
    "\n",
    "    IN_COLAB = True\n",
    "    print(\"Running in Colab...\")\n",
    "\n",
    "    # Clone repo\n",
    "    !git clone --recurse-submodules https://github.com/ocean-data-factory-sweden/koster_yolov4.git\n",
    "    %pip install -q --upgrade pip\n",
    "    %pip install -qr <(sed '/Pillow/d;/ipywidgets/d' koster_yolov4/requirements.txt)\n",
    "    %pip install -qr <(sed '/Pillow/d;/ipywidgets/d' koster_yolov4/yolov5_tracker/requirements.txt)\n",
    "    %pip install -qr <(sed '/Pillow/d;/ipywidgets/d' koster_yolov4/kso_utils/requirements.txt)\n",
    "\n",
    "    # Fix libmagic issue\n",
    "    !apt-get -qq update && apt-get -qq install -y libmagic-dev > /dev/null\n",
    "\n",
    "    # Replace upsampling script with custom version\n",
    "    os.chdir(\"koster_yolov4/tutorials\")\n",
    "    sys.path.append(\"..\")\n",
    "    !mv ../src/upsampling.py /usr/local/lib/python3.7/dist-packages/torch/nn/modules/upsampling.py\n",
    "\n",
    "    # Replace nearest neighbours script with custom version (due to relative path issue)\n",
    "    !cp ../src/multi_tracker_zoo.py ../yolov5_tracker/trackers/strong_sort/multi_tracker_zoo.py\n",
    "\n",
    "    # Enable external widgets\n",
    "    from google.colab import output\n",
    "\n",
    "    output.enable_custom_widget_manager()\n",
    "\n",
    "    # Ensure widgets are shown properly\n",
    "    !jupyter nbextension enable --user --py widgetsnbextension\n",
    "    !jupyter nbextension enable --user --py jupyter_bbox_widget\n",
    "\n",
    "    print(\"All packages are installed and ready to go!\")\n",
    "    try:\n",
    "        clear_output()\n",
    "        print(\"All packages are installed and ready to go!\")\n",
    "    except:\n",
    "        clear_output()\n",
    "        print(\"There have been some issues installing the packages!\")\n",
    "except:\n",
    "    IN_COLAB = False\n",
    "    import pkgutil\n",
    "\n",
    "    if (\n",
    "        pkgutil.find_loader(\"torch\") is None\n",
    "        or pkgutil.find_loader(\"torchvision\") is None\n",
    "    ):\n",
    "        %pip install -q --upgrade pip\n",
    "        %pip install -q torch==1.8.0 torchvision==0.9.0\n",
    "\n",
    "    # Replace nearest neighbours script with custom version (due to relative path issue)\n",
    "    !cp ../src/multi_tracker_zoo.py ../yolov5_tracker/trackers/strong_sort/multi_tracker_zoo.py\n",
    "    # Ensure widgets are shown properly\n",
    "    !jupyter nbextension enable --user --py widgetsnbextension\n",
    "    !jupyter nbextension enable --user --py jupyter_bbox_widget\n",
    "    clear_output()\n",
    "    print(\"Running locally... you're good to go!\")"
   ]
  },
  {
   "cell_type": "code",
   "execution_count": null,
   "id": "5d5eb4c5",
   "metadata": {},
   "outputs": [],
   "source": [
    "# @title <font size=\"5\">↓ ឵឵<i>Import specific requirements</font> { vertical-output: true }\n",
    "import sys\n",
    "\n",
    "try:\n",
    "    if \"kso_utils\" not in sys.modules:\n",
    "        sys.path.append(\"..\")\n",
    "        import kso_utils.kso_utils\n",
    "\n",
    "        sys.modules[\"kso_utils\"] = kso_utils.kso_utils\n",
    "        print(\"Using development version...\")\n",
    "        # Enables testing changes in utils\n",
    "        %load_ext autoreload\n",
    "        %autoreload 2\n",
    "except:\n",
    "    print(\"Installing latest version from PyPI...\")\n",
    "    %pip install -q kso-utils\n",
    "\n",
    "# Enables testing changes in utils\n",
    "%load_ext autoreload\n",
    "%autoreload 2\n",
    "\n",
    "# Set to display dataframes as interactive tables\n",
    "from itables import init_notebook_mode\n",
    "\n",
    "init_notebook_mode(all_interactive=True)\n",
    "\n",
    "# Import required modules\n",
    "import kso_utils.tutorials_utils as t_utils\n",
    "import kso_utils.project_utils as p_utils\n",
    "import kso_utils.t6_utils as t6\n",
    "from kso_utils.project import ProjectProcessor, MLProjectProcessor\n",
    "\n",
    "clear_output()\n",
    "print(\"Packages loaded successfully\")"
   ]
  },
  {
   "cell_type": "code",
   "execution_count": null,
   "id": "incident-surveillance",
   "metadata": {},
   "outputs": [],
   "source": [
    "# @title <font size=\"5\">↓ ឵឵<i>Choose your project</font> { vertical-output: true }\n",
    "project_name = t_utils.choose_project()"
   ]
  },
  {
   "cell_type": "code",
   "execution_count": null,
   "id": "00bd9978",
   "metadata": {},
   "outputs": [],
   "source": [
    "project = p_utils.find_project(project_name=project_name.value)"
   ]
  },
  {
   "cell_type": "code",
   "execution_count": null,
   "id": "4d3e1b35",
   "metadata": {},
   "outputs": [],
   "source": [
    "# Initialise pp\n",
    "pp = ProjectProcessor(project)"
   ]
  },
  {
   "cell_type": "code",
   "execution_count": null,
   "id": "5bbe9710",
   "metadata": {},
   "outputs": [],
   "source": [
    "# Initialise mlp\n",
    "mlp = MLProjectProcessor(pp)"
   ]
  },
  {
   "cell_type": "markdown",
   "id": "1d3f913f",
   "metadata": {},
   "source": [
    "# Evaluate model on custom footage"
   ]
  },
  {
   "cell_type": "code",
   "execution_count": null,
   "id": "c41909d3",
   "metadata": {},
   "outputs": [],
   "source": [
    "# @title <font size=\"5\">↓ ឵឵<i>Choose the model</font> { vertical-output: true }\n",
    "model = t6.choose_model(project_name.value, team_name=mlp.team_name)"
   ]
  },
  {
   "cell_type": "code",
   "execution_count": null,
   "id": "2456b57b",
   "metadata": {},
   "outputs": [],
   "source": [
    "# @title <font size=\"5\">↓ ឵឵<i>Choose folder to download the model</font> { vertical-output: true }\n",
    "download_dir = t_utils.choose_folder(\".\", \"where to download the model\")"
   ]
  },
  {
   "cell_type": "code",
   "execution_count": null,
   "id": "842d5de0",
   "metadata": {},
   "outputs": [],
   "source": [
    "# @title <font size=\"5\">↓ ឵឵឵឵<i>Download model</font> { vertical-output: true }\n",
    "artifact_dir = mlp.get_model(model.value, download_dir.selected)"
   ]
  },
  {
   "cell_type": "code",
   "execution_count": null,
   "id": "boxed-gateway",
   "metadata": {},
   "outputs": [],
   "source": [
    "# @title <font size=\"5\">↓ ឵឵឵឵<i>Choose your custom footage</font> { vertical-output: true }\n",
    "source = t_utils.choose_footage(\n",
    "    project,\n",
    "    project.movie_folder if project.movie_folder not in [None, \"None\"] else \".\",\n",
    "    \"custom footage\",\n",
    ")"
   ]
  },
  {
   "cell_type": "code",
   "execution_count": null,
   "id": "03d55f20",
   "metadata": {},
   "outputs": [],
   "source": [
    "source_value = t_utils.process_source(source)"
   ]
  },
  {
   "cell_type": "code",
   "execution_count": null,
   "id": "75c4913f",
   "metadata": {},
   "outputs": [],
   "source": [
    "# @title <font size=\"5\">↓ ឵឵<i>Choose folder where to save the runs</font> { vertical-output: true }\n",
    "# This should be left as default value in most cases.\n",
    "save_dir = t_utils.choose_folder(\".\", \"runs output\")"
   ]
  },
  {
   "cell_type": "code",
   "execution_count": null,
   "id": "23b984ea",
   "metadata": {},
   "outputs": [],
   "source": [
    "# @title <font size=\"5\">↓ ឵឵<i>Choose a confidence threshold for evaluation</font> { vertical-output: true }\n",
    "conf_thres = t6.choose_conf()"
   ]
  },
  {
   "cell_type": "code",
   "execution_count": null,
   "id": "dc8a198a",
   "metadata": {},
   "outputs": [],
   "source": [
    "# @title <font size=\"5\">↓ ឵឵<i>Run model over selected custom footage</font> { vertical-output: true }\n",
    "mlp.detect_yolov5(\n",
    "    source=source_value,\n",
    "    save_dir=save_dir.selected,\n",
    "    conf_thres=conf_thres.value,\n",
    "    artifact_dir=artifact_dir,\n",
    ")"
   ]
  },
  {
   "cell_type": "code",
   "execution_count": null,
   "id": "890ce983",
   "metadata": {
    "scrolled": true
   },
   "outputs": [],
   "source": [
    "# @title <font size=\"5\">↓ ឵឵<i>Choose folder with the evaluation data</font> { vertical-output: true }\n",
    "eval_dir = t_utils.choose_folder(\n",
    "    save_dir.selected\n",
    "    if \"save_dir\" in vars() and save_dir.selected is not None\n",
    "    else \".\",\n",
    "    \"runs output\",\n",
    ")"
   ]
  },
  {
   "cell_type": "code",
   "execution_count": null,
   "id": "665e79cc",
   "metadata": {},
   "outputs": [],
   "source": [
    "# @title <font size=\"5\">↓ ឵឵<i>Add the data to Weights and Biases</font> { vertical-output: true }\n",
    "mlp.save_detections_wandb(conf_thres.value, model.value, eval_dir.selected)"
   ]
  },
  {
   "cell_type": "code",
   "execution_count": null,
   "id": "4d54a6b8",
   "metadata": {
    "scrolled": false
   },
   "outputs": [],
   "source": [
    "# @title <font size=\"5\">↓ ឵឵<i>View model output</font> { vertical-output: true }\n",
    "viewer = t6.choose_files(eval_dir.selected)"
   ]
  },
  {
   "cell_type": "code",
   "execution_count": null,
   "id": "60a2a99f",
   "metadata": {},
   "outputs": [],
   "source": [
    "# @title <font size=\"5\">↓ ឵឵<i>Investigate training and validation datasets (only image data)</font> { vertical-output: true }\n",
    "train_dataset, val_dataset = t6.get_dataset(project_name.value, model.value)"
   ]
  },
  {
   "cell_type": "code",
   "execution_count": null,
   "id": "aef76ac9",
   "metadata": {},
   "outputs": [],
   "source": [
    "# Training set\n",
    "t6.get_data_viewer(os.path.join(train_dataset, \"data/images\"))"
   ]
  },
  {
   "cell_type": "code",
   "execution_count": null,
   "id": "d02c6f3b",
   "metadata": {},
   "outputs": [],
   "source": [
    "# Validation set\n",
    "t6.get_data_viewer(os.path.join(val_dataset, \"data/images\"))"
   ]
  },
  {
   "attachments": {},
   "cell_type": "markdown",
   "id": "0da9e74f",
   "metadata": {},
   "source": [
    "# Track unique individuals (Optional)"
   ]
  },
  {
   "cell_type": "code",
   "execution_count": null,
   "id": "9aa70b57",
   "metadata": {},
   "outputs": [],
   "source": [
    "mlp.track_individuals(\n",
    "    source=source_value,\n",
    "    artifact_dir=artifact_dir,\n",
    "    eval_dir=eval_dir.selected,\n",
    "    conf_thres=conf_thres.value,\n",
    "    img_size=(540, 540),\n",
    ")"
   ]
  },
  {
   "cell_type": "code",
   "execution_count": null,
   "id": "racial-richardson",
   "metadata": {},
   "outputs": [],
   "source": [
    "# END"
   ]
  }
 ],
 "metadata": {
  "kernelspec": {
   "display_name": "wildlife",
   "language": "python",
   "name": "wildlife"
  },
  "language_info": {
   "codemirror_mode": {
    "name": "ipython",
    "version": 3
   },
   "file_extension": ".py",
   "mimetype": "text/x-python",
   "name": "python",
   "nbconvert_exporter": "python",
   "pygments_lexer": "ipython3",
   "version": "3.10.6"
  },
  "vscode": {
   "interpreter": {
    "hash": "9f0064b85a3bc365415745ead9abb78ac240c43fe3a2a9861333bea64f4ce941"
   }
  }
 },
 "nbformat": 4,
 "nbformat_minor": 5
}
