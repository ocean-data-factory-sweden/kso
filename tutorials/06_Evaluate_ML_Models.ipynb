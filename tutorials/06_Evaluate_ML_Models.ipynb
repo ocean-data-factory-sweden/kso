{
 "cells": [
  {
   "attachments": {},
   "cell_type": "markdown",
   "id": "hawaiian-ratio",
   "metadata": {},
   "source": [
    "<img align=\"left\" src=\"https://panoptes-uploads.zooniverse.org/project_avatar/86c23ca7-bbaa-4e84-8d8a-876819551431.png\" type=\"image/png\" height=100 width=100>\n",
    "</img>\n",
    "<h1 align=\"right\">KSO Tutorials #6: Evaluate machine learning models</h1>\n",
    "<h3 align=\"right\">Written by the KSO Team</h3>"
   ]
  },
  {
   "cell_type": "markdown",
   "id": "recovered-hamburg",
   "metadata": {},
   "source": [
    "# 1. Set up and requirements"
   ]
  },
  {
   "cell_type": "markdown",
   "id": "f98115ea",
   "metadata": {},
   "source": [
    "### Install and import Python packages"
   ]
  },
  {
   "cell_type": "code",
   "execution_count": null,
   "id": "ab2bc392",
   "metadata": {},
   "outputs": [],
   "source": [
    "from IPython.display import clear_output\n",
    "\n",
    "try:\n",
    "    import google.colab\n",
    "    import os\n",
    "\n",
    "    IN_COLAB = True\n",
    "    print(\"Running in Colab...\")\n",
    "\n",
    "    # Clone repo\n",
    "    !git clone --recurse-submodules https://github.com/ocean-data-factory-sweden/koster_yolov4.git\n",
    "    %pip install -q --upgrade pip\n",
    "    %pip install -qr koster_yolov4/requirements.txt\n",
    "    %pip install -qr koster_yolov4/yolov5_tracker/requirements.txt\n",
    "\n",
    "    # Fix libmagic issue\n",
    "    !apt-get -qq update && apt-get -qq install -y libmagic-dev > /dev/null\n",
    "\n",
    "    # Replace upsampling script with custom version\n",
    "    os.chdir(\"koster_yolov4/tutorials\")\n",
    "    sys.path.append(\"..\")\n",
    "    !mv ../src/upsampling.py /usr/local/lib/python3.7/dist-packages/torch/nn/modules/upsampling.py\n",
    "\n",
    "    # Replace nearest neighbours script with custom version (due to relative path issue)\n",
    "    !cp ../src/multi_tracker_zoo.py ../yolov5_tracker/trackers/strong_sort/multi_tracker_zoo.py\n",
    "\n",
    "    # Enable external widgets\n",
    "    from google.colab import output\n",
    "\n",
    "    output.enable_custom_widget_manager()\n",
    "\n",
    "    # Ensure widgets are shown properly\n",
    "    !jupyter nbextension enable --user --py widgetsnbextension\n",
    "    !jupyter nbextension enable --user --py jupyter_bbox_widget\n",
    "\n",
    "    print(\"All packages are installed and ready to go!\")\n",
    "    try:\n",
    "        clear_output()\n",
    "        print(\"All packages are installed and ready to go!\")\n",
    "    except:\n",
    "        clear_output()\n",
    "        print(\"There have been some issues installing the packages!\")\n",
    "except:\n",
    "    IN_COLAB = False\n",
    "    import sys\n",
    "    import pkgutil\n",
    "\n",
    "    try:\n",
    "        sys.path.append(\"..\")\n",
    "        import kso_utils.kso_utils\n",
    "\n",
    "        sys.modules[\"kso_utils\"] = kso_utils.kso_utils\n",
    "    except:\n",
    "        %pip install -q kso-utils\n",
    "\n",
    "    if (\n",
    "        pkgutil.find_loader(\"torch\") is None\n",
    "        or pkgutil.find_loader(\"torchvision\") is None\n",
    "    ):\n",
    "        %pip install -q --upgrade pip\n",
    "        %pip install -q torch==1.8.0 torchvision==0.9.0\n",
    "\n",
    "    # Replace nearest neighbours script with custom version (due to relative path issue)\n",
    "    !cp ../src/multi_tracker_zoo.py ../yolov5_tracker/trackers/strong_sort/multi_tracker_zoo.py\n",
    "    # Ensure widgets are shown properly\n",
    "    !jupyter nbextension enable --user --py widgetsnbextension\n",
    "    !jupyter nbextension enable --user --py jupyter_bbox_widget\n",
    "    clear_output()\n",
    "    print(\"Running locally... you're good to go!\")"
   ]
  },
  {
   "cell_type": "code",
   "execution_count": null,
   "id": "underlying-converter",
   "metadata": {},
   "outputs": [],
   "source": [
    "# Set the directory of the libraries\n",
    "import sys, os\n",
    "from pathlib import Path\n",
    "\n",
    "sys.path.append(\"..\")\n",
    "\n",
    "# Enables testing changes in utils\n",
    "%load_ext autoreload\n",
    "%autoreload 2\n",
    "\n",
    "# Set to display dataframes as interactive tables\n",
    "from itables import init_notebook_mode\n",
    "\n",
    "init_notebook_mode(all_interactive=True)\n",
    "\n",
    "# Import required modules\n",
    "import kso_utils.tutorials_utils as t_utils\n",
    "import kso_utils.project_utils as p_utils\n",
    "import kso_utils.t6_utils as t6\n",
    "from kso_utils.project import ProjectProcessor, MLProjectProcessor\n",
    "\n",
    "clear_output()\n",
    "print(\"Packages loaded successfully\")"
   ]
  },
  {
   "cell_type": "markdown",
   "id": "1d3f913f",
   "metadata": {},
   "source": [
    "# 2. Evaluate model on custom footage"
   ]
  },
  {
   "cell_type": "markdown",
   "id": "legendary-clearance",
   "metadata": {},
   "source": [
    "### Choose your project"
   ]
  },
  {
   "cell_type": "code",
   "execution_count": null,
   "id": "incident-surveillance",
   "metadata": {},
   "outputs": [],
   "source": [
    "project_name = t_utils.choose_project()"
   ]
  },
  {
   "cell_type": "code",
   "execution_count": null,
   "id": "00bd9978",
   "metadata": {},
   "outputs": [],
   "source": [
    "project = p_utils.find_project(project_name=project_name.value)"
   ]
  },
  {
   "cell_type": "code",
   "execution_count": null,
   "id": "4d3e1b35",
   "metadata": {},
   "outputs": [],
   "source": [
    "# Initialise pp\n",
    "pp = ProjectProcessor(project)"
   ]
  },
  {
   "cell_type": "code",
   "execution_count": null,
   "id": "5bbe9710",
   "metadata": {},
   "outputs": [],
   "source": [
    "# Initialise mlp\n",
    "mlp = MLProjectProcessor(pp)"
   ]
  },
  {
   "cell_type": "markdown",
   "id": "progressive-scheme",
   "metadata": {},
   "source": [
    "### Choose model"
   ]
  },
  {
   "cell_type": "code",
   "execution_count": null,
   "id": "c41909d3",
   "metadata": {},
   "outputs": [],
   "source": [
    "model = t6.choose_model(project_name.value, team_name=mlp.team_name)"
   ]
  },
  {
   "cell_type": "markdown",
   "id": "f78ecf96",
   "metadata": {},
   "source": [
    "### Download model"
   ]
  },
  {
   "cell_type": "code",
   "execution_count": null,
   "id": "2456b57b",
   "metadata": {},
   "outputs": [],
   "source": [
    "download_dir = t_utils.choose_folder(\".\", \"where to download the model\")"
   ]
  },
  {
   "cell_type": "code",
   "execution_count": null,
   "id": "842d5de0",
   "metadata": {},
   "outputs": [],
   "source": [
    "artifact_dir = mlp.get_model(model.value, download_dir.selected)"
   ]
  },
  {
   "cell_type": "markdown",
   "id": "6acfe490",
   "metadata": {},
   "source": [
    "### Choose custom footage"
   ]
  },
  {
   "cell_type": "code",
   "execution_count": null,
   "id": "boxed-gateway",
   "metadata": {},
   "outputs": [],
   "source": [
    "source = t_utils.choose_footage(\n",
    "    project,\n",
    "    project.movie_folder if project.movie_folder not in [None, \"None\"] else \".\",\n",
    "    \"custom footage\",\n",
    ")"
   ]
  },
  {
   "cell_type": "code",
   "execution_count": null,
   "id": "03d55f20",
   "metadata": {},
   "outputs": [],
   "source": [
    "source_value = t_utils.process_source(source)"
   ]
  },
  {
   "cell_type": "markdown",
   "id": "7bf6ae69",
   "metadata": {},
   "source": [
    "### Choose where to save runs (this should be left as default value in most cases)"
   ]
  },
  {
   "cell_type": "code",
   "execution_count": null,
   "id": "4a2ee64c",
   "metadata": {},
   "outputs": [],
   "source": [
    "save_dir = t_utils.choose_folder(\".\", \"runs output\")"
   ]
  },
  {
   "cell_type": "markdown",
   "id": "299b8d2b",
   "metadata": {},
   "source": [
    "### Run model over selected custom footage"
   ]
  },
  {
   "cell_type": "code",
   "execution_count": null,
   "id": "23b984ea",
   "metadata": {},
   "outputs": [],
   "source": [
    "conf_thres = t6.choose_conf()"
   ]
  },
  {
   "cell_type": "code",
   "execution_count": null,
   "id": "dc8a198a",
   "metadata": {},
   "outputs": [],
   "source": [
    "mlp.detect_yolov5(\n",
    "    source=source_value,\n",
    "    save_dir=save_dir.selected,\n",
    "    conf_thres=conf_thres.value,\n",
    "    artifact_dir=artifact_dir,\n",
    ")"
   ]
  },
  {
   "cell_type": "code",
   "execution_count": null,
   "id": "890ce983",
   "metadata": {
    "scrolled": true
   },
   "outputs": [],
   "source": [
    "eval_dir = t_utils.choose_folder(\n",
    "    save_dir.selected\n",
    "    if \"save_dir\" in vars() and save_dir.selected is not None\n",
    "    else \".\",\n",
    "    \"runs output\",\n",
    ")"
   ]
  },
  {
   "cell_type": "code",
   "execution_count": null,
   "id": "665e79cc",
   "metadata": {},
   "outputs": [],
   "source": [
    "mlp.save_detections_wandb(conf_thres.value, model.value, eval_dir.selected)"
   ]
  },
  {
   "cell_type": "markdown",
   "id": "19fd1c41",
   "metadata": {},
   "source": [
    "### View model output"
   ]
  },
  {
   "cell_type": "code",
   "execution_count": null,
   "id": "4d54a6b8",
   "metadata": {
    "scrolled": false
   },
   "outputs": [],
   "source": [
    "viewer = t6.choose_files(eval_dir.selected)"
   ]
  },
  {
   "attachments": {},
   "cell_type": "markdown",
   "id": "722a5fb9",
   "metadata": {},
   "source": [
    "### View training and validation datasets (Only image data)"
   ]
  },
  {
   "cell_type": "code",
   "execution_count": null,
   "id": "60a2a99f",
   "metadata": {},
   "outputs": [],
   "source": [
    "train_dataset, val_dataset = t6.get_dataset(project_name.value, model.value)"
   ]
  },
  {
   "cell_type": "markdown",
   "id": "b3a8edd8",
   "metadata": {},
   "source": [
    "#### Training set"
   ]
  },
  {
   "cell_type": "code",
   "execution_count": null,
   "id": "aef76ac9",
   "metadata": {},
   "outputs": [],
   "source": [
    "t6.get_data_viewer(os.path.join(train_dataset, \"data/images\"))"
   ]
  },
  {
   "cell_type": "markdown",
   "id": "5cfb4ef0",
   "metadata": {},
   "source": [
    "#### Validation set"
   ]
  },
  {
   "cell_type": "code",
   "execution_count": null,
   "id": "d02c6f3b",
   "metadata": {},
   "outputs": [],
   "source": [
    "t6.get_data_viewer(os.path.join(val_dataset, \"data/images\"))"
   ]
  },
  {
   "attachments": {},
   "cell_type": "markdown",
   "id": "0da9e74f",
   "metadata": {},
   "source": [
    "# 3. Optional Step: Track unique individuals"
   ]
  },
  {
   "cell_type": "code",
   "execution_count": null,
   "id": "9aa70b57",
   "metadata": {},
   "outputs": [],
   "source": [
    "mlp.track_individuals(\n",
    "    source=source_value,\n",
    "    artifact_dir=artifact_dir,\n",
    "    eval_dir=eval_dir.selected,\n",
    "    conf_thres=conf_thres.value,\n",
    "    img_size=(540, 540),\n",
    ")"
   ]
  },
  {
   "cell_type": "code",
   "execution_count": null,
   "id": "racial-richardson",
   "metadata": {},
   "outputs": [],
   "source": [
    "# END"
   ]
  }
 ],
 "metadata": {
  "kernelspec": {
   "display_name": "Python 3.8.8 ('odf')",
   "language": "python",
   "name": "python3"
  },
  "language_info": {
   "codemirror_mode": {
    "name": "ipython",
    "version": 3
   },
   "file_extension": ".py",
   "mimetype": "text/x-python",
   "name": "python",
   "nbconvert_exporter": "python",
   "pygments_lexer": "ipython3",
   "version": "3.8.16"
  },
  "vscode": {
   "interpreter": {
    "hash": "9f0064b85a3bc365415745ead9abb78ac240c43fe3a2a9861333bea64f4ce941"
   }
  }
 },
 "nbformat": 4,
 "nbformat_minor": 5
}
