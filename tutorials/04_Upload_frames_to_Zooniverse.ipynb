{
 "cells": [
  {
   "cell_type": "markdown",
   "id": "2793278f",
   "metadata": {
    "id": "2793278f"
   },
   "source": [
    "<a href=\"https://colab.research.google.com/github/ocean-data-factory-sweden/kso-data-management/blob/main/tutorials/04_Upload_frames_to_Zooniverse.ipynb\" target=\"_parent\"><img src=\"https://colab.research.google.com/assets/colab-badge.svg\" alt=\"Open In Colab\"/></a>"
   ]
  },
  {
   "cell_type": "markdown",
   "id": "b169b8d0",
   "metadata": {
    "id": "b169b8d0"
   },
   "source": [
    "<img align=\"left\" src=\"https://panoptes-uploads.zooniverse.org/project_avatar/86c23ca7-bbaa-4e84-8d8a-876819551431.png\" type=\"image/png\" height=100 width=100>\n",
    "</img>\n",
    "<h1 align=\"right\">Colab KSO Tutorials #4: Upload frames to Zooniverse</h1>\n",
    "<h3 align=\"right\">Written by KSO Team</h3>"
   ]
  },
  {
   "cell_type": "markdown",
   "id": "TDr0IZT3RBxv",
   "metadata": {
    "id": "TDr0IZT3RBxv"
   },
   "source": [
    "This notebook takes you through the process of: \n",
    "* Connecting to a Zooniverse project\n",
    "* Retrieving the classifications/annotations that citizens have provided on the videos, using aggregation settings. To experiment with these aggregation settings, see Notebook 8. \n",
    "* Cutting the videos into images from the moment the species of interest was seen for the first time\n",
    "* Modify these images with for example a color correction\n",
    "* Upload the images to Zooniverse for the 2nd part of the workflow.\n",
    "\n",
    "If you do not have a project with us yet, you can run the template project to get a taste of how it all works. Only the uploading of the images to Zooniverse will not be possible if you are not a member of our template project on Zooniverse.\n",
    "\n",
    "🔴 <span style=\"color:red\">&nbsp;NOTE: If you want to run another project than the template project, you need to have a Zooniverse account and be a member of the corresponding project.  </span>"
   ]
  },
  {
   "cell_type": "markdown",
   "id": "3ee20d67",
   "metadata": {
    "id": "3ee20d67"
   },
   "source": [
    "# Set up and requirements"
   ]
  },
  {
   "cell_type": "markdown",
   "id": "bNHyxTD3xiA8",
   "metadata": {
    "id": "bNHyxTD3xiA8"
   },
   "source": [
    "### Install all the requirements"
   ]
  },
  {
   "cell_type": "code",
   "execution_count": null,
   "id": "ozBbsZdPxm05",
   "metadata": {
    "id": "ozBbsZdPxm05"
   },
   "outputs": [],
   "source": [
    "from IPython.display import clear_output\n",
    "import os\n",
    "import sys\n",
    "\n",
    "try:\n",
    "    # Enable external widgets\n",
    "    from google.colab import output\n",
    "\n",
    "    output.enable_custom_widget_manager()\n",
    "\n",
    "    IN_COLAB = True\n",
    "    print(\"Running in Colab...\")\n",
    "\n",
    "    # Clone repo\n",
    "    !git clone --recurse-submodules -b main https://github.com/ocean-data-factory-sweden/kso.git\n",
    "    %pip install -qr <(sed '/Pillow/d;/ipywidgets/d' kso/yolov5_tracker/requirements.txt) -qr <(sed '/Pillow/d;/ipywidgets/d' kso/yolov5_tracker/yolov5/requirements.txt) -qr <(sed '/Pillow/d;/ipywidgets/d' kso/kso_utils/requirements.txt)\n",
    "\n",
    "    # Fix libmagic issue\n",
    "    !apt-get -qq update && apt-get -qq install -y libmagic-dev > /dev/null\n",
    "\n",
    "    # Navigate to the correct folder\n",
    "    os.chdir(\"kso/tutorials\")\n",
    "\n",
    "except:\n",
    "    IN_COLAB = False\n",
    "\n",
    "\n",
    "# Ensure widgets are shown properly\n",
    "!jupyter nbextension enable --user --py widgetsnbextension\n",
    "!jupyter nbextension enable --user --py jupyter_bbox_widget\n",
    "!jupyter nbextension enable --user --py ipysheet\n",
    "\n",
    "clear_output()\n",
    "if IN_COLAB == True:\n",
    "    print(\"Running in Colab: All packages are installed and ready to go!\")\n",
    "else:\n",
    "    print(\"Running locally... you're good to go!\")"
   ]
  },
  {
   "cell_type": "markdown",
   "id": "896f0873",
   "metadata": {
    "id": "896f0873"
   },
   "source": [
    "### Import Python packages"
   ]
  },
  {
   "cell_type": "code",
   "execution_count": null,
   "id": "ad01ee0d",
   "metadata": {
    "id": "ad01ee0d"
   },
   "outputs": [],
   "source": [
    "# Set the directory of the libraries\n",
    "try:\n",
    "    if \"kso_utils\" not in sys.modules:\n",
    "        sys.path.append(\"..\")\n",
    "        import kso_utils.kso_utils\n",
    "\n",
    "        sys.modules[\"kso_utils\"] = kso_utils.kso_utils\n",
    "        print(\"Using development version...\")\n",
    "        # Enables testing changes in utils\n",
    "        %load_ext autoreload\n",
    "        %autoreload 2\n",
    "except:\n",
    "    print(\"Installing latest version from PyPI...\")\n",
    "    %pip install -q kso-utils\n",
    "\n",
    "# Import required modules\n",
    "import kso_utils.tutorials_utils as t_utils\n",
    "import kso_utils.widgets as kso_widgets\n",
    "import kso_utils.project_utils as p_utils\n",
    "from kso_utils.project import ProjectProcessor\n",
    "\n",
    "\n",
    "print(\"Packages loaded successfully\")"
   ]
  },
  {
   "cell_type": "markdown",
   "id": "ed55216d",
   "metadata": {
    "id": "ed55216d"
   },
   "source": [
    "### Choose your project"
   ]
  },
  {
   "cell_type": "code",
   "execution_count": null,
   "id": "a7828470",
   "metadata": {
    "id": "a7828470"
   },
   "outputs": [],
   "source": [
    "project_name = kso_widgets.choose_project()"
   ]
  },
  {
   "cell_type": "code",
   "execution_count": null,
   "id": "eec7d8bc",
   "metadata": {
    "id": "eec7d8bc"
   },
   "outputs": [],
   "source": [
    "# Find project\n",
    "project = p_utils.find_project(project_name=project_name.value)\n",
    "# Initialise pp\n",
    "pp = ProjectProcessor(project)"
   ]
  },
  {
   "cell_type": "markdown",
   "id": "EtgPfWF_ay_T",
   "metadata": {
    "id": "EtgPfWF_ay_T"
   },
   "source": [
    "## Retrieve info about zooniverse clips"
   ]
  },
  {
   "cell_type": "code",
   "execution_count": null,
   "id": "5bdb9c0c",
   "metadata": {
    "id": "5bdb9c0c"
   },
   "outputs": [],
   "source": [
    "pp.get_zoo_info()"
   ]
  },
  {
   "cell_type": "markdown",
   "id": "183a06c2",
   "metadata": {
    "id": "183a06c2"
   },
   "source": [
    "## Get frames from ZU"
   ]
  },
  {
   "cell_type": "code",
   "execution_count": null,
   "id": "bd3eadbd",
   "metadata": {
    "id": "bd3eadbd"
   },
   "outputs": [],
   "source": [
    "# Get all available frames for the selected species from clips\n",
    "pp.get_frames()"
   ]
  },
  {
   "cell_type": "code",
   "execution_count": null,
   "id": "ec52a2cf",
   "metadata": {
    "id": "ec52a2cf"
   },
   "outputs": [],
   "source": [
    "# Generate suitable frames for upload by modifying initial frames\n",
    "pp.generate_zu_frames()"
   ]
  },
  {
   "cell_type": "markdown",
   "id": "3b0aee25",
   "metadata": {
    "id": "3b0aee25"
   },
   "source": [
    "## Get frames from movies (Manual)"
   ]
  },
  {
   "cell_type": "code",
   "execution_count": null,
   "id": "e15e0cd2",
   "metadata": {
    "id": "e15e0cd2"
   },
   "outputs": [],
   "source": [
    "# Choose folder containing movies\n",
    "input_folder = kso_widgets.choose_folder()"
   ]
  },
  {
   "cell_type": "code",
   "execution_count": null,
   "id": "47bd38f0",
   "metadata": {
    "id": "47bd38f0"
   },
   "outputs": [],
   "source": [
    "# Choose output folder for frames\n",
    "output_folder = kso_widgets.choose_folder()"
   ]
  },
  {
   "cell_type": "code",
   "execution_count": null,
   "id": "7a224758",
   "metadata": {
    "id": "7a224758"
   },
   "outputs": [],
   "source": [
    "# Generate suitable frames for upload by modifying initial frames\n",
    "pp.generate_custom_frames(\n",
    "    input_path=input_folder.selected,\n",
    "    output_path=output_folder.selected,\n",
    "    skip_start=120,\n",
    "    skip_end=120,\n",
    "    num_frames=10,\n",
    "    frames_skip=None,\n",
    ")"
   ]
  },
  {
   "cell_type": "code",
   "execution_count": null,
   "id": "76f78189",
   "metadata": {
    "id": "76f78189"
   },
   "outputs": [],
   "source": [
    "# Review the size of the modified clips\n",
    "t_utils.check_frame_size(frame_paths=pp.generated_frames[\"modif_frame_path\"].unique())"
   ]
  },
  {
   "cell_type": "markdown",
   "id": "8e73da0c",
   "metadata": {
    "id": "8e73da0c"
   },
   "source": [
    "### Preview the frames"
   ]
  },
  {
   "cell_type": "code",
   "execution_count": null,
   "id": "cce086d7",
   "metadata": {
    "id": "cce086d7"
   },
   "outputs": [],
   "source": [
    "# Compare the original and modified clips\n",
    "t_utils.compare_frames(df=pp.generated_frames)"
   ]
  },
  {
   "cell_type": "markdown",
   "id": "powerful-scout",
   "metadata": {
    "id": "powerful-scout"
   },
   "source": [
    "### Upload frames to Zooniverse"
   ]
  },
  {
   "cell_type": "markdown",
   "id": "plain-senior",
   "metadata": {
    "id": "plain-senior"
   },
   "source": [
    "You may receive an error message related to file size if clips exceed the recommended limit for Zooniverse uploads. In this case, we recommend shortening the clip length to achieve a suitable filesize.\n",
    "\n",
    "🔴 <span style=\"color:red\">&nbsp;NOTE: If you run the template project without being a member of our template project, it is not possible to run this last cell.  </span>"
   ]
  },
  {
   "cell_type": "code",
   "execution_count": null,
   "id": "b690a57e",
   "metadata": {
    "id": "b690a57e"
   },
   "outputs": [],
   "source": [
    "pp.upload_zu_subjects(\"frame\")"
   ]
  },
  {
   "cell_type": "code",
   "execution_count": null,
   "id": "permanent-terminology",
   "metadata": {
    "id": "permanent-terminology"
   },
   "outputs": [],
   "source": [
    "# END"
   ]
  }
 ],
 "metadata": {
  "colab": {
   "provenance": []
  },
  "kernelspec": {
   "display_name": "Python 3 (ipykernel)",
   "language": "python",
   "name": "python3"
  },
  "language_info": {
   "codemirror_mode": {
    "name": "ipython",
    "version": 3
   },
   "file_extension": ".py",
   "mimetype": "text/x-python",
   "name": "python",
   "nbconvert_exporter": "python",
   "pygments_lexer": "ipython3",
   "version": "3.8.16"
  }
 },
 "nbformat": 4,
 "nbformat_minor": 5
}
