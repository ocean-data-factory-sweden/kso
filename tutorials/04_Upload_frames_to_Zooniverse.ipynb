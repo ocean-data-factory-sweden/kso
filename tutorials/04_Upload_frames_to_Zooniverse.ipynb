{
 "cells": [
  {
   "cell_type": "markdown",
   "id": "2793278f",
   "metadata": {
    "id": "2793278f"
   },
   "source": [
    "<a href=\"https://colab.research.google.com/github/ocean-data-factory-sweden/kso-data-management/blob/main/tutorials/04_Upload_frames_to_Zooniverse.ipynb\" target=\"_parent\"><img src=\"https://colab.research.google.com/assets/colab-badge.svg\" alt=\"Open In Colab\"/></a>"
   ]
  },
  {
   "cell_type": "markdown",
   "id": "b169b8d0",
   "metadata": {
    "id": "b169b8d0"
   },
   "source": [
    "<img align=\"left\" src=\"https://panoptes-uploads.zooniverse.org/project_avatar/86c23ca7-bbaa-4e84-8d8a-876819551431.png\" type=\"image/png\" height=100 width=100>\n",
    "</img>\n",
    "<h1 align=\"right\">Colab KSO Tutorials #4: Upload frames to Zooniverse</h1>\n",
    "<h3 align=\"right\">Written by KSO Team</h3>"
   ]
  },
  {
   "cell_type": "markdown",
   "id": "TDr0IZT3RBxv",
   "metadata": {
    "id": "TDr0IZT3RBxv"
   },
   "source": [
    "This notebook takes you through the process of: \n",
    "\n",
    "* Connecting to a Zooniverse project\n",
    "\n",
    "* Extracting frames from videos classified in Zooniverse. \n",
    "    * Selecting workflow of interest\n",
    "    * Aggregating classifications from multiple volunteers,\n",
    "    * Selecting species of interest,\n",
    "    \n",
    "* Extracting frames from local videos (without Zooniverse classifications)\n",
    "\n",
    "* Cutting the videos into images from the moment the species of interest was seen for the first time\n",
    "\n",
    "* Modify these images with for example a color correction\n",
    "\n",
    "* Upload the images to Zooniverse for the 2nd part of the workflow.\n",
    "\n",
    "If you do not have a project with us yet, you can run the template project to get a taste of how it all works. Only the uploading of the images to Zooniverse will not be possible if you are not a member of our template project on Zooniverse.\n",
    "\n",
    "🔴 <span style=\"color:red\">&nbsp;NOTE: If you want to run another project than the template project, you need to have a Zooniverse account and be a member of the corresponding project.  </span>"
   ]
  },
  {
   "cell_type": "markdown",
   "id": "3ee20d67",
   "metadata": {
    "id": "3ee20d67"
   },
   "source": [
    "# Set up and requirements"
   ]
  },
  {
   "cell_type": "markdown",
   "id": "bNHyxTD3xiA8",
   "metadata": {
    "id": "bNHyxTD3xiA8"
   },
   "source": [
    "### Install all the requirements"
   ]
  },
  {
   "cell_type": "markdown",
   "id": "b61bfc0d",
   "metadata": {},
   "source": [
    "If you are running this notebook in Google Colab, this cell should take ~2 mins and might restart the session. Please run this cell until you get the \"Successful installation!\" message."
   ]
  },
  {
   "cell_type": "code",
   "execution_count": null,
   "id": "ozBbsZdPxm05",
   "metadata": {
    "id": "ozBbsZdPxm05"
   },
   "outputs": [],
   "source": [
    "# Check if notebook is running in colab\n",
    "import sys, os\n",
    "\n",
    "IN_COLAB = \"google.colab\" in sys.modules\n",
    "\n",
    "if IN_COLAB:\n",
    "    # Clone kso repo and install requirements\n",
    "    if not os.path.exists(\"kso\"):\n",
    "        !git clone --recurse-submodules -b master https://github.com/ocean-data-factory-sweden/kso.git\n",
    "        %pip install -qr <(sed '/Pillow/d;/ipywidgets/d' kso/yolov5_tracker/requirements.txt) -qr <(sed '/Pillow/d;/ipywidgets/d' kso/yolov5_tracker/yolov5/requirements.txt) -qr <(sed '/Pillow/d;/ipywidgets/d' kso/requirements.txt)\n",
    "\n",
    "    # Restart colab session if conflicting libraries can't be imported\n",
    "    try:\n",
    "        import panoptes_client\n",
    "    except:\n",
    "        os.kill(os.getpid(), 9)\n",
    "\n",
    "    # Enable external widgets and navigate to the kso tutorial folder\n",
    "    try:\n",
    "        from google.colab import output\n",
    "\n",
    "        output.enable_custom_widget_manager()\n",
    "        os.chdir(\"kso/tutorials\")\n",
    "    except:\n",
    "        pass\n",
    "\n",
    "# Prepare the dev settings if needed\n",
    "try:\n",
    "    if \"kso_utils\" not in sys.modules:\n",
    "        sys.path.insert(0, os.path.abspath(os.path.join(os.getcwd(), \"..\")))\n",
    "        import kso_utils\n",
    "\n",
    "        print(\"Using development version...\")\n",
    "        # Enables testing changes in utils\n",
    "        %load_ext autoreload\n",
    "        %autoreload 2\n",
    "except:\n",
    "    print(\"Installing latest version from PyPI...\")\n",
    "    %pip install -q kso-utils\n",
    "\n",
    "# Avoid issues with widgets not displaying properly\n",
    "!jupyter nbextension enable --user --py widgetsnbextension\n",
    "!jupyter nbextension enable --user --py jupyter_bbox_widget\n",
    "!jupyter nbextension enable --user --py ipysheet\n",
    "\n",
    "\n",
    "# Load the clear output function to keep things clean\n",
    "from IPython.display import clear_output\n",
    "\n",
    "clear_output()\n",
    "print(\"Successful installation... you're good to go!\")"
   ]
  },
  {
   "cell_type": "markdown",
   "id": "896f0873",
   "metadata": {
    "id": "896f0873"
   },
   "source": [
    "### Import Python packages"
   ]
  },
  {
   "cell_type": "code",
   "execution_count": null,
   "id": "ad01ee0d",
   "metadata": {
    "id": "ad01ee0d"
   },
   "outputs": [],
   "source": [
    "# Import required modules for tut#4\n",
    "import kso_utils.widgets as kso_widgets\n",
    "import kso_utils.project_utils as p_utils\n",
    "import kso_utils.tutorials_utils as t_utils\n",
    "from kso_utils.project import ProjectProcessor\n",
    "\n",
    "print(\"Packages loaded successfully\")"
   ]
  },
  {
   "cell_type": "markdown",
   "id": "ed55216d",
   "metadata": {
    "id": "ed55216d"
   },
   "source": [
    "### Choose your project"
   ]
  },
  {
   "cell_type": "code",
   "execution_count": null,
   "id": "a7828470",
   "metadata": {
    "id": "a7828470"
   },
   "outputs": [],
   "source": [
    "project_name = kso_widgets.choose_project()"
   ]
  },
  {
   "cell_type": "markdown",
   "id": "ce7b766c",
   "metadata": {},
   "source": [
    "### Initiate project's database"
   ]
  },
  {
   "cell_type": "code",
   "execution_count": null,
   "id": "eec7d8bc",
   "metadata": {
    "id": "eec7d8bc"
   },
   "outputs": [],
   "source": [
    "# Find project\n",
    "project = p_utils.find_project(project_name=project_name.value)\n",
    "# Initialise pp\n",
    "pp = ProjectProcessor(project)"
   ]
  },
  {
   "cell_type": "markdown",
   "id": "95876d48",
   "metadata": {},
   "source": [
    "### Specify to request (or not) the latest Zooniverse info"
   ]
  },
  {
   "cell_type": "code",
   "execution_count": null,
   "id": "e9bbab4b",
   "metadata": {},
   "outputs": [],
   "source": [
    "latest_zoo_info = kso_widgets.request_latest_zoo_info()"
   ]
  },
  {
   "cell_type": "markdown",
   "id": "1a229f9e",
   "metadata": {},
   "source": [
    "### Connect and retrieve information from the Zooniverse project"
   ]
  },
  {
   "cell_type": "code",
   "execution_count": null,
   "id": "3d19d018",
   "metadata": {},
   "outputs": [],
   "source": [
    "pp.connect_zoo_project(latest_zoo_info.result)"
   ]
  },
  {
   "cell_type": "markdown",
   "id": "e69e070b",
   "metadata": {},
   "source": [
    "# Extract frames from videos classified in Zooniverse"
   ]
  },
  {
   "cell_type": "markdown",
   "id": "424fbd5a",
   "metadata": {},
   "source": [
    "### Select workflow id and version of interest\n",
    "\n",
    "##### Note: Make sure your workflows in Zooniverse have different names to avoid issues while selecting the workflow id"
   ]
  },
  {
   "cell_type": "code",
   "execution_count": null,
   "id": "57104b1b",
   "metadata": {},
   "outputs": [],
   "source": [
    "pp.choose_zoo_workflows()"
   ]
  },
  {
   "cell_type": "markdown",
   "id": "EtgPfWF_ay_T",
   "metadata": {
    "id": "EtgPfWF_ay_T"
   },
   "source": [
    "### Sample and process Zooniverse classifications from the workflows of interest"
   ]
  },
  {
   "cell_type": "code",
   "execution_count": null,
   "id": "5bdb9c0c",
   "metadata": {
    "id": "5bdb9c0c"
   },
   "outputs": [],
   "source": [
    "pp.process_zoo_classifications()"
   ]
  },
  {
   "cell_type": "markdown",
   "id": "ea1a3d3d",
   "metadata": {},
   "source": [
    "### Specify agreement threshold among cit scientists"
   ]
  },
  {
   "cell_type": "code",
   "execution_count": null,
   "id": "7240039c",
   "metadata": {},
   "outputs": [],
   "source": [
    "agg_params = kso_widgets.choose_agg_parameters(\n",
    "    pp.workflow_widget.checks[\"Subject type: #0\"]\n",
    ")"
   ]
  },
  {
   "cell_type": "markdown",
   "id": "a3f5755f",
   "metadata": {},
   "source": [
    "### Aggregate classifications based on threshold"
   ]
  },
  {
   "cell_type": "code",
   "execution_count": null,
   "id": "ec5d3e09",
   "metadata": {},
   "outputs": [],
   "source": [
    "pp.aggregate_zoo_classifications(agg_params)"
   ]
  },
  {
   "cell_type": "markdown",
   "id": "027a73ce",
   "metadata": {},
   "source": [
    "🔴 <span style=\"color:red\">&nbsp;NOTE: If the output from the cell above says that 0 classifications are aggregated, you can experiment with other agreement thresholds, or you need to wait for more annotations to be made in Zooniverse.   </span>"
   ]
  },
  {
   "cell_type": "markdown",
   "id": "183a06c2",
   "metadata": {
    "id": "183a06c2"
   },
   "source": [
    "### Select species of interest "
   ]
  },
  {
   "cell_type": "code",
   "execution_count": null,
   "id": "0e452134",
   "metadata": {},
   "outputs": [],
   "source": [
    "pp.species_of_interest = kso_widgets.choose_species(pp.aggregated_zoo_classifications)"
   ]
  },
  {
   "cell_type": "markdown",
   "id": "963056d6",
   "metadata": {},
   "source": [
    "### Extract frames from videos that have species of interest (based on selected aggreement)"
   ]
  },
  {
   "cell_type": "code",
   "execution_count": null,
   "id": "bd3eadbd",
   "metadata": {
    "id": "bd3eadbd"
   },
   "outputs": [],
   "source": [
    "# Get all available frames for the selected species from clips\n",
    "pp.extract_zoo_frames()"
   ]
  },
  {
   "cell_type": "code",
   "execution_count": null,
   "id": "76f78189",
   "metadata": {
    "id": "76f78189"
   },
   "outputs": [],
   "source": [
    "# Review the size of the clips\n",
    "t_utils.check_frame_size(frame_paths=pp.generated_frames[\"frame_path\"].unique())"
   ]
  },
  {
   "cell_type": "markdown",
   "id": "3b0aee25",
   "metadata": {
    "id": "3b0aee25"
   },
   "source": [
    "## Get frames from movies (Manual)"
   ]
  },
  {
   "cell_type": "code",
   "execution_count": null,
   "id": "e15e0cd2",
   "metadata": {
    "id": "e15e0cd2"
   },
   "outputs": [],
   "source": [
    "# Choose folder containing movies\n",
    "input_folder = kso_widgets.choose_folder()"
   ]
  },
  {
   "cell_type": "code",
   "execution_count": null,
   "id": "47bd38f0",
   "metadata": {
    "id": "47bd38f0"
   },
   "outputs": [],
   "source": [
    "# Choose output folder for frames\n",
    "output_folder = kso_widgets.choose_folder()"
   ]
  },
  {
   "cell_type": "code",
   "execution_count": null,
   "id": "7a224758",
   "metadata": {
    "id": "7a224758"
   },
   "outputs": [],
   "source": [
    "# Generate suitable frames for upload by modifying initial frames\n",
    "pp.generate_custom_frames(\n",
    "    input_path=input_folder.selected,\n",
    "    output_path=output_folder.selected,\n",
    "    skip_start=120,\n",
    "    skip_end=120,\n",
    "    num_frames=10,\n",
    "    frames_skip=None,\n",
    ")"
   ]
  },
  {
   "cell_type": "markdown",
   "id": "8cf575b5",
   "metadata": {},
   "source": [
    "### Modify the frames if needed"
   ]
  },
  {
   "cell_type": "code",
   "execution_count": null,
   "id": "ec52a2cf",
   "metadata": {
    "id": "ec52a2cf"
   },
   "outputs": [],
   "source": [
    "pp.modify_zoo_frames()"
   ]
  },
  {
   "cell_type": "code",
   "execution_count": null,
   "id": "be580618",
   "metadata": {},
   "outputs": [],
   "source": [
    "# Review the size of the modified clips\n",
    "t_utils.check_frame_size(frame_paths=pp.modified_frames[\"modif_frame_path\"].unique())"
   ]
  },
  {
   "cell_type": "markdown",
   "id": "8e73da0c",
   "metadata": {
    "id": "8e73da0c"
   },
   "source": [
    "### Preview the frames"
   ]
  },
  {
   "cell_type": "code",
   "execution_count": null,
   "id": "cce086d7",
   "metadata": {
    "id": "cce086d7"
   },
   "outputs": [],
   "source": [
    "# Compare the original and modified clips\n",
    "t_utils.compare_frames(df=pp.modified_frames)"
   ]
  },
  {
   "cell_type": "markdown",
   "id": "powerful-scout",
   "metadata": {
    "id": "powerful-scout"
   },
   "source": [
    "### Upload frames to Zooniverse"
   ]
  },
  {
   "cell_type": "markdown",
   "id": "plain-senior",
   "metadata": {
    "id": "plain-senior"
   },
   "source": [
    "Make sure your workflows in Zooniverse have different names to avoid issues while creating a new workflow\n",
    "\n",
    "🔴 <span style=\"color:red\">&nbsp;NOTE: If you run the template project without being a member of our template project, it is not possible to run this last cell.  </span>"
   ]
  },
  {
   "cell_type": "code",
   "execution_count": null,
   "id": "b690a57e",
   "metadata": {
    "id": "b690a57e"
   },
   "outputs": [],
   "source": [
    "pp.upload_zoo_subjects(\"frame\")"
   ]
  },
  {
   "cell_type": "code",
   "execution_count": null,
   "id": "permanent-terminology",
   "metadata": {
    "id": "permanent-terminology"
   },
   "outputs": [],
   "source": [
    "# END"
   ]
  }
 ],
 "metadata": {
  "colab": {
   "provenance": []
  },
  "kernelspec": {
   "display_name": "Python 3 (ipykernel)",
   "language": "python",
   "name": "python3"
  },
  "language_info": {
   "codemirror_mode": {
    "name": "ipython",
    "version": 3
   },
   "file_extension": ".py",
   "mimetype": "text/x-python",
   "name": "python",
   "nbconvert_exporter": "python",
   "pygments_lexer": "ipython3",
   "version": "3.9.13"
  }
 },
 "nbformat": 4,
 "nbformat_minor": 5
}
