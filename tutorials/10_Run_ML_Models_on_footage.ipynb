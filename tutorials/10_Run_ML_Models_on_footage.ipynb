{
 "cells": [
  {
   "attachments": {},
   "cell_type": "markdown",
   "id": "hawaiian-ratio",
   "metadata": {},
   "source": [
    "<img align=\"left\" src=\"https://panoptes-uploads.zooniverse.org/project_avatar/86c23ca7-bbaa-4e84-8d8a-876819551431.png\" type=\"image/png\" height=100 width=100>\n",
    "</img>\n",
    "<h1 align=\"right\">KSO Tutorials #10: Run machine learning models on footage</h1>\n",
    "<h3 align=\"right\">Written by the KSO Team</h3>"
   ]
  },
  {
   "attachments": {},
   "cell_type": "markdown",
   "id": "recovered-hamburg",
   "metadata": {},
   "source": [
    "# Set up and requirements"
   ]
  },
  {
   "attachments": {},
   "cell_type": "markdown",
   "id": "fe8756c2",
   "metadata": {},
   "source": [
    "### Install all the requirements"
   ]
  },
  {
   "attachments": {},
   "cell_type": "markdown",
   "id": "ae0508b7",
   "metadata": {},
   "source": [
    "If you are running this notebook in Google Colab, this cell should take ~2 mins and might restart the session. Please run this cell until you get the \"Successful installation!\" message."
   ]
  },
  {
   "cell_type": "code",
   "execution_count": null,
   "id": "ab2bc392",
   "metadata": {},
   "outputs": [],
   "source": [
    "# Check if notebook is running in colab\n",
    "import sys, os\n",
    "\n",
    "IN_COLAB = \"google.colab\" in sys.modules\n",
    "\n",
    "if IN_COLAB:\n",
    "    # Clone kso repo and install requirements\n",
    "    if not os.path.exists(\"kso\"):\n",
    "        print(\"Installing all dependencies...\")\n",
    "        !git clone --recurse-submodules -b master https://github.com/ocean-data-factory-sweden/kso.git\n",
    "        %pip install -qr <(sed '/Pillow/d;/ipywidgets/d' kso/yolov5_tracker/requirements.txt) -qr <(sed '/Pillow/d;/ipywidgets/d' kso/yolov5_tracker/yolov5/requirements.txt) -qr <(sed '/Pillow/d;/ipywidgets/d' kso/requirements.txt)\n",
    "\n",
    "    # Restart colab session if conflicting libraries can't be imported\n",
    "    try:\n",
    "        import panoptes_client\n",
    "    except:\n",
    "        os.kill(os.getpid(), 9)\n",
    "\n",
    "    # Enable external widgets and navigate to the kso tutorial folder\n",
    "    try:\n",
    "        from google.colab import output\n",
    "\n",
    "        output.enable_custom_widget_manager()\n",
    "        os.chdir(\"kso/tutorials\")\n",
    "    except:\n",
    "        pass\n",
    "\n",
    "# Prepare the dev settings if needed\n",
    "try:\n",
    "    if \"kso_utils\" not in sys.modules:\n",
    "        sys.path.insert(0, os.path.abspath(os.path.join(os.getcwd(), \"..\")))\n",
    "        import kso_utils\n",
    "\n",
    "        print(\"Using development version...\")\n",
    "        # Enables testing changes in utils\n",
    "        %load_ext autoreload\n",
    "        %autoreload 2\n",
    "except:\n",
    "    print(\"Installing latest version from PyPI...\")\n",
    "    %pip install -q kso-utils\n",
    "\n",
    "# Avoid issues with widgets not displaying properly\n",
    "!jupyter nbextension enable --user --py widgetsnbextension\n",
    "!jupyter nbextension enable --user --py jupyter_bbox_widget\n",
    "!jupyter nbextension enable --user --py ipysheet\n",
    "\n",
    "\n",
    "# Load the clear output function to keep things clean\n",
    "from IPython.display import clear_output\n",
    "\n",
    "clear_output()\n",
    "print(\"Successful installation... you're good to go!\")"
   ]
  },
  {
   "attachments": {},
   "cell_type": "markdown",
   "id": "be10ade2",
   "metadata": {},
   "source": [
    "### Import Python packages"
   ]
  },
  {
   "cell_type": "code",
   "execution_count": null,
   "id": "5d5eb4c5",
   "metadata": {},
   "outputs": [],
   "source": [
    "# Import required modules for tut#10\n",
    "import kso_utils.widgets as kso_widgets\n",
    "import kso_utils.project_utils as p_utils\n",
    "import kso_utils.tutorials_utils as t_utils\n",
    "import kso_utils.yolo_utils as y_utils\n",
    "from kso_utils.project import ProjectProcessor, MLProjectProcessor\n",
    "\n",
    "print(\"Packages loaded successfully\")"
   ]
  },
  {
   "attachments": {},
   "cell_type": "markdown",
   "id": "4085ec1a",
   "metadata": {},
   "source": [
    "### Choose your project"
   ]
  },
  {
   "cell_type": "code",
   "execution_count": null,
   "id": "incident-surveillance",
   "metadata": {},
   "outputs": [],
   "source": [
    "project_name = kso_widgets.choose_project()"
   ]
  },
  {
   "attachments": {},
   "cell_type": "markdown",
   "id": "237a9020",
   "metadata": {},
   "source": [
    "### Initiate project's database"
   ]
  },
  {
   "cell_type": "code",
   "execution_count": null,
   "id": "4d3e1b35",
   "metadata": {},
   "outputs": [],
   "source": [
    "# Save the name of the project\n",
    "project = p_utils.find_project(project_name=project_name.value)\n",
    "# Initiate pp\n",
    "pp = ProjectProcessor(project)"
   ]
  },
  {
   "cell_type": "code",
   "execution_count": null,
   "id": "5bbe9710",
   "metadata": {},
   "outputs": [],
   "source": [
    "# Initialise mlp\n",
    "mlp = MLProjectProcessor(pp)"
   ]
  },
  {
   "attachments": {},
   "cell_type": "markdown",
   "id": "1d3f913f",
   "metadata": {},
   "source": [
    "# Run model on custom footage"
   ]
  },
  {
   "attachments": {},
   "cell_type": "markdown",
   "id": "d5ece376",
   "metadata": {},
   "source": [
    "### Choose the model"
   ]
  },
  {
   "cell_type": "code",
   "execution_count": null,
   "id": "c41909d3",
   "metadata": {},
   "outputs": [],
   "source": [
    "model = mlp.choose_model()"
   ]
  },
  {
   "attachments": {},
   "cell_type": "markdown",
   "id": "53aa7102",
   "metadata": {},
   "source": [
    "### Choose folder to download the model"
   ]
  },
  {
   "cell_type": "code",
   "execution_count": null,
   "id": "2456b57b",
   "metadata": {},
   "outputs": [],
   "source": [
    "download_dir = kso_widgets.choose_folder(\".\", \"where to download the model\")"
   ]
  },
  {
   "cell_type": "code",
   "execution_count": null,
   "id": "842d5de0",
   "metadata": {},
   "outputs": [],
   "source": [
    "# @title <font size=\"5\">↓ ឵឵឵឵<i>Download model</font> { vertical-output: true }\n",
    "artifact_dir = mlp.get_model(model.value, download_dir.selected)"
   ]
  },
  {
   "cell_type": "code",
   "execution_count": null,
   "id": "boxed-gateway",
   "metadata": {},
   "outputs": [],
   "source": [
    "# @title <font size=\"5\">↓ ឵឵឵឵<i>Choose your custom footage</font> { vertical-output: true }\n",
    "source = kso_widgets.choose_footage(\n",
    "    project=pp.project,\n",
    "    server_connection=pp.server_connection,\n",
    "    db_connection=pp.db_connection,\n",
    "    start_path=pp.project.movie_folder\n",
    "    if pp.project.movie_folder not in [None, \"None\"]\n",
    "    else \".\",\n",
    "    folder_type=\"custom footage\",\n",
    ")"
   ]
  },
  {
   "cell_type": "code",
   "execution_count": null,
   "id": "03d55f20",
   "metadata": {},
   "outputs": [],
   "source": [
    "source_value = t_utils.process_source(source)"
   ]
  },
  {
   "cell_type": "code",
   "execution_count": null,
   "id": "75c4913f",
   "metadata": {},
   "outputs": [],
   "source": [
    "# @title <font size=\"5\">↓ ឵឵<i>Choose folder where to save the runs</font> { vertical-output: true }\n",
    "# This should be left as default value in most cases.\n",
    "save_dir = kso_widgets.choose_folder(\".\", \"runs output\")"
   ]
  },
  {
   "cell_type": "code",
   "execution_count": null,
   "id": "23b984ea",
   "metadata": {},
   "outputs": [],
   "source": [
    "# @title <font size=\"5\">↓ ឵឵<i>Choose a confidence threshold for evaluation</font> { vertical-output: true }\n",
    "conf_thres = t_utils.choose_conf()"
   ]
  },
  {
   "cell_type": "code",
   "execution_count": null,
   "id": "dc8a198a",
   "metadata": {},
   "outputs": [],
   "source": [
    "# @title <font size=\"5\">↓ ឵឵<i>Run model over selected custom footage</font> { vertical-output: true }\n",
    "mlp.detect_yolov5(\n",
    "    source=source_value,\n",
    "    save_dir=save_dir.selected,\n",
    "    conf_thres=conf_thres.value,\n",
    "    artifact_dir=artifact_dir,\n",
    "    exp_name=\"detect\",\n",
    ")"
   ]
  },
  {
   "cell_type": "code",
   "execution_count": null,
   "id": "890ce983",
   "metadata": {
    "scrolled": true
   },
   "outputs": [],
   "source": [
    "# @title <font size=\"5\">↓ ឵឵<i>Choose folder with the evaluation data</font> { vertical-output: true }\n",
    "eval_dir = kso_widgets.choose_folder(\n",
    "    save_dir.selected\n",
    "    if \"save_dir\" in vars() and save_dir.selected is not None\n",
    "    else \".\",\n",
    "    \"runs output\",\n",
    ")"
   ]
  },
  {
   "cell_type": "code",
   "execution_count": null,
   "id": "665e79cc",
   "metadata": {},
   "outputs": [],
   "source": [
    "# @title <font size=\"5\">↓ ឵឵<i>Add the data to Weights and Biases</font> { vertical-output: true }\n",
    "mlp.save_detections(conf_thres.value, model.value, eval_dir.selected)"
   ]
  },
  {
   "cell_type": "code",
   "execution_count": null,
   "id": "4d54a6b8",
   "metadata": {
    "scrolled": false
   },
   "outputs": [],
   "source": [
    "# @title <font size=\"5\">↓ ឵឵<i>View model output</font> { vertical-output: true }\n",
    "viewer = y_utils.choose_files(eval_dir.selected)"
   ]
  },
  {
   "cell_type": "code",
   "execution_count": null,
   "id": "60a2a99f",
   "metadata": {},
   "outputs": [],
   "source": [
    "# @title <font size=\"5\">↓ ឵឵<i>Investigate training and validation datasets (only image data)</font> { vertical-output: true }\n",
    "train_dataset, val_dataset = mlp.get_dataset(model.value)"
   ]
  },
  {
   "cell_type": "code",
   "execution_count": null,
   "id": "aef76ac9",
   "metadata": {},
   "outputs": [],
   "source": [
    "# Training set\n",
    "y_utils.get_data_viewer(os.path.join(train_dataset, \"data/images\"))"
   ]
  },
  {
   "cell_type": "code",
   "execution_count": null,
   "id": "d02c6f3b",
   "metadata": {},
   "outputs": [],
   "source": [
    "# Validation set\n",
    "y_utils.get_data_viewer(os.path.join(val_dataset, \"data/images\"))"
   ]
  },
  {
   "attachments": {},
   "cell_type": "markdown",
   "id": "0da9e74f",
   "metadata": {},
   "source": [
    "# Track unique individuals (Optional)"
   ]
  },
  {
   "cell_type": "code",
   "execution_count": null,
   "id": "9aa70b57",
   "metadata": {},
   "outputs": [],
   "source": [
    "mlp.track_individuals(\n",
    "    source=source_value,\n",
    "    artifact_dir=artifact_dir,\n",
    "    eval_dir=eval_dir.selected,\n",
    "    conf_thres=conf_thres.value,\n",
    "    img_size=(540, 540),\n",
    "    name=\"track\",\n",
    ")"
   ]
  },
  {
   "cell_type": "code",
   "execution_count": null,
   "id": "racial-richardson",
   "metadata": {},
   "outputs": [],
   "source": [
    "# END"
   ]
  }
 ],
 "metadata": {
  "kernelspec": {
   "display_name": "kso_env",
   "language": "python",
   "name": "kso_env"
  },
  "language_info": {
   "codemirror_mode": {
    "name": "ipython",
    "version": 3
   },
   "file_extension": ".py",
   "mimetype": "text/x-python",
   "name": "python",
   "nbconvert_exporter": "python",
   "pygments_lexer": "ipython3",
   "version": "3.8.16"
  }
 },
 "nbformat": 4,
 "nbformat_minor": 5
}
