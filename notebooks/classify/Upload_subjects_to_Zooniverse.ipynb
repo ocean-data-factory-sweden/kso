{
 "cells": [
  {
   "cell_type": "markdown",
   "id": "b169b8d0",
   "metadata": {
    "id": "b169b8d0"
   },
   "source": [
    "<img align=\"left\" src=\"https://panoptes-uploads.zooniverse.org/project_avatar/86c23ca7-bbaa-4e84-8d8a-876819551431.png\" type=\"image/png\" height=100 width=100>\n",
    "</img>\n",
    "<h1 align=\"right\">Upload clips or frames to Zooniverse</h1>\n",
    "<h3 align=\"right\"><a href=\"https://colab.research.google.com/github/ocean-data-factory-sweden/kso/blob/main/notebooks/classify/Upload_subjects_to_Zooniverse.ipynb\" target=\"_parent\"><img src=\"https://colab.research.google.com/assets/colab-badge.svg\" alt=\"Open In Colab\"/></a></h3>\n",
    "<h3 align=\"right\">Written by the KSO Team</h3>"
   ]
  },
  {
   "cell_type": "markdown",
   "id": "e0a0fa42",
   "metadata": {
    "id": "e0a0fa42"
   },
   "source": [
    "This notebook takes you through the process of:\n",
    "\n",
    "* Connecting to a Zooniverse project\n",
    "\n",
    "* Extracting clips from videos stored locally or in the cloud.\n",
    "\n",
    "* Modify these clips with for example a color correction or video compression.\n",
    "\n",
    "* Upload the clips to Zooniverse for the 1st part of the species identification workflow (when does X species appear on a video).\n",
    "\n",
    "If you do not have a project with us yet, you can run the template project to get a taste of how it all works. Only the uploading of the clips to Zooniverse will not be possible if you are not a member of our template project on Zooniverse.\n",
    "\n",
    "🔴 <span style=\"color:red\">&nbsp;NOTE: If you want to run another project than the template project, you need to have a Zooniverse account and be a member of the corresponding project.  </span>"
   ]
  },
  {
   "cell_type": "markdown",
   "id": "3ee20d67",
   "metadata": {
    "id": "3ee20d67"
   },
   "source": [
    "# Set up KSO requirements"
   ]
  },
  {
   "cell_type": "markdown",
   "id": "3a54a7be",
   "metadata": {
    "id": "3a54a7be"
   },
   "source": [
    "### Install requirements and load KSO modules"
   ]
  },
  {
   "cell_type": "markdown",
   "id": "743b0489",
   "metadata": {
    "id": "743b0489"
   },
   "source": [
    "Installing the requirements in Google Colab takes ~4 mins and might automatically crash/restart the session. Please run this cell until you get the \"KSO successfully imported!\" message."
   ]
  },
  {
   "cell_type": "code",
   "execution_count": null,
   "id": "euLU610Jo8xh",
   "metadata": {
    "cellView": "form",
    "id": "euLU610Jo8xh"
   },
   "outputs": [],
   "source": [
    "import sys, os\n",
    "\n",
    "\n",
    "def initial_import():\n",
    "    %matplotlib inline\n",
    "    import kso_utils.widgets as kso_widgets\n",
    "    import kso_utils.project_utils as p_utils\n",
    "    import kso_utils.yolo_utils as y_utils\n",
    "    from kso_utils.project import ProjectProcessor, MLProjectProcessor\n",
    "\n",
    "    print(\"KSO successfully imported!\")\n",
    "\n",
    "\n",
    "def initiate_dev_version():\n",
    "    kso_path = os.path.abspath(os.path.join(os.getcwd(), \"../..\"))\n",
    "    if os.path.isdir(os.path.join(kso_path, \"kso_utils\")):\n",
    "        sys.path.insert(0, kso_path)\n",
    "        %load_ext autoreload\n",
    "        %autoreload 2\n",
    "        print(\"Development mode ON - kso-utils added to the system.\")\n",
    "    else:\n",
    "        raise FileNotFoundError(\"kso_utils directory not found in the expected path.\")\n",
    "\n",
    "\n",
    "def install_kso_utils():\n",
    "    !pip install -q kso-utils\n",
    "    # Temporary workaround to install panoptes from the source (avoid requests incompatibility)\n",
    "    !pip install git+https://github.com/zooniverse/panoptes-python-client.git\n",
    "    print(\"Restarting runtime to apply package changes...\")\n",
    "    os.kill(os.getpid(), 9)\n",
    "\n",
    "\n",
    "try:\n",
    "    initial_import()\n",
    "except Exception as e:\n",
    "    print(f\"Error importing kso modules: {e}\")\n",
    "    try:\n",
    "        initiate_dev_version()\n",
    "        initial_import()\n",
    "    except Exception as e:\n",
    "        install_kso_utils()"
   ]
  },
  {
   "cell_type": "markdown",
   "id": "ca98de2e",
   "metadata": {
    "id": "ca98de2e"
   },
   "source": [
    "### Specify GPU availability"
   ]
  },
  {
   "cell_type": "code",
   "execution_count": null,
   "id": "ulpoaaNHoiUz",
   "metadata": {
    "cellView": "form",
    "id": "ulpoaaNHoiUz"
   },
   "outputs": [],
   "source": [
    "gpu_available = kso_widgets.gpu_select()"
   ]
  },
  {
   "cell_type": "markdown",
   "id": "925539de",
   "metadata": {
    "id": "925539de"
   },
   "source": [
    "### Choose your project"
   ]
  },
  {
   "cell_type": "code",
   "execution_count": null,
   "id": "bfef12df",
   "metadata": {
    "cellView": "form",
    "id": "bfef12df",
    "scrolled": true
   },
   "outputs": [],
   "source": [
    "project_name = kso_widgets.choose_project()"
   ]
  },
  {
   "cell_type": "markdown",
   "id": "b78239ab",
   "metadata": {
    "id": "b78239ab"
   },
   "source": [
    "### Initiate project's database"
   ]
  },
  {
   "cell_type": "code",
   "execution_count": null,
   "id": "8a7abc2f",
   "metadata": {
    "cellView": "form",
    "id": "8a7abc2f",
    "scrolled": true
   },
   "outputs": [],
   "source": [
    "# Save the name of the project\n",
    "project = p_utils.find_project(project_name=project_name.value)\n",
    "\n",
    "# Initiate pp\n",
    "pp = ProjectProcessor(project)"
   ]
  },
  {
   "cell_type": "markdown",
   "id": "1e1ad619",
   "metadata": {
    "id": "1e1ad619"
   },
   "source": [
    "### Specify to request (or not) the latest Zooniverse info"
   ]
  },
  {
   "cell_type": "code",
   "execution_count": null,
   "id": "420aa411",
   "metadata": {
    "id": "420aa411"
   },
   "outputs": [],
   "source": [
    "latest_zoo_info = kso_widgets.request_latest_zoo_info()"
   ]
  },
  {
   "cell_type": "markdown",
   "id": "fbc6e6c7",
   "metadata": {
    "id": "fbc6e6c7"
   },
   "source": [
    "### Connect and retrieve information from the Zooniverse project"
   ]
  },
  {
   "cell_type": "code",
   "execution_count": null,
   "id": "10b4aa16",
   "metadata": {
    "cellView": "form",
    "id": "10b4aa16"
   },
   "outputs": [],
   "source": [
    "pp.connect_zoo_project(latest_zoo_info.result)"
   ]
  },
  {
   "cell_type": "markdown",
   "id": "lq8kiRqqnxe8",
   "metadata": {
    "id": "lq8kiRqqnxe8"
   },
   "source": [
    "# Task 1: Upload clips to Zooniverse"
   ]
  },
  {
   "cell_type": "markdown",
   "id": "bf1717bd",
   "metadata": {
    "id": "bf1717bd"
   },
   "source": [
    "### Specify movie of interest"
   ]
  },
  {
   "cell_type": "code",
   "execution_count": null,
   "id": "6667d092",
   "metadata": {
    "cellView": "form",
    "id": "6667d092"
   },
   "outputs": [],
   "source": [
    "pp.choose_footage(preview_media=True)"
   ]
  },
  {
   "cell_type": "markdown",
   "id": "f66ae4ff",
   "metadata": {
    "id": "f66ae4ff"
   },
   "source": [
    "### Check if movie is already in Zooniverse"
   ]
  },
  {
   "cell_type": "code",
   "execution_count": null,
   "id": "dbe6b212",
   "metadata": {
    "cellView": "form",
    "id": "dbe6b212"
   },
   "outputs": [],
   "source": [
    "# Remember to query the newest zooniverse data to get the most up to date list of clips uploaded\n",
    "pp.check_movies_uploaded_zoo()"
   ]
  },
  {
   "cell_type": "markdown",
   "id": "QQKQ25Rd7zid",
   "metadata": {
    "id": "QQKQ25Rd7zid"
   },
   "source": [
    "## Create some clip examples (Optional)\n",
    "Test different parameters (e.g. compression rate, color modifications) in randomly selected clip examples"
   ]
  },
  {
   "cell_type": "code",
   "execution_count": null,
   "id": "6aabd8b0",
   "metadata": {
    "id": "6aabd8b0"
   },
   "outputs": [],
   "source": [
    "pp.generate_zoo_clips(\n",
    "    is_example=True,\n",
    "    use_gpu=gpu_available.result,\n",
    ")"
   ]
  },
  {
   "cell_type": "code",
   "execution_count": null,
   "id": "0iJ_DMsWM9Wm",
   "metadata": {
    "cellView": "form",
    "id": "0iJ_DMsWM9Wm"
   },
   "outputs": [],
   "source": [
    "pp.check_clip_size()"
   ]
  },
  {
   "cell_type": "code",
   "execution_count": null,
   "id": "zXQOMNRsNRMf",
   "metadata": {
    "cellView": "form",
    "id": "zXQOMNRsNRMf"
   },
   "outputs": [],
   "source": [
    "kso_widgets.compare_clips(\n",
    "    example_clips=pp.generated_clips.clip_path,\n",
    "    modified_clips=pp.generated_clips.clip_example_original_path,\n",
    ")"
   ]
  },
  {
   "cell_type": "markdown",
   "id": "a9NhZKK-NS_s",
   "metadata": {
    "id": "a9NhZKK-NS_s"
   },
   "source": [
    "## Create the clips to upload to Zooniverse"
   ]
  },
  {
   "cell_type": "code",
   "execution_count": null,
   "id": "704d84e6",
   "metadata": {
    "id": "704d84e6"
   },
   "outputs": [],
   "source": [
    "pp.generate_zoo_clips(\n",
    "    is_example=False,\n",
    "    use_gpu=gpu_available.result,\n",
    ")"
   ]
  },
  {
   "cell_type": "markdown",
   "id": "d3d89365",
   "metadata": {
    "id": "d3d89365"
   },
   "source": [
    "### Check the size of the clips"
   ]
  },
  {
   "cell_type": "code",
   "execution_count": null,
   "id": "ACnwMvssNrxX",
   "metadata": {
    "cellView": "form",
    "id": "ACnwMvssNrxX"
   },
   "outputs": [],
   "source": [
    "pp.check_clip_size()"
   ]
  },
  {
   "cell_type": "markdown",
   "id": "dp4F7oNfRIbA",
   "metadata": {
    "id": "dp4F7oNfRIbA"
   },
   "source": [
    "## Upload clips to Zooniverse"
   ]
  },
  {
   "cell_type": "markdown",
   "id": "45e15794",
   "metadata": {
    "id": "45e15794"
   },
   "source": [
    "If you receive an error message related to file size, we recommend shortening the clip length or compressing the clips to achieve a suitable filesize.\n",
    "\n",
    "Make sure your workflows in Zooniverse have different names to avoid issues while creating a new workflow\n",
    "\n",
    "🔴 <span style=\"color:red\">&nbsp;NOTE: If you run the template project without being a member of our template project, it is not possible to run this last cell.  </span>"
   ]
  },
  {
   "cell_type": "code",
   "execution_count": null,
   "id": "ac733f98",
   "metadata": {
    "id": "ac733f98"
   },
   "outputs": [],
   "source": [
    "pp.upload_zoo_subjects(\"clip\")"
   ]
  },
  {
   "cell_type": "code",
   "execution_count": null,
   "id": "Ewbv8G7fRagf",
   "metadata": {
    "id": "Ewbv8G7fRagf"
   },
   "outputs": [],
   "source": [
    "# END OF TASK 1"
   ]
  },
  {
   "cell_type": "markdown",
   "id": "a545c781",
   "metadata": {
    "id": "a545c781"
   },
   "source": [
    "# Task 2: Upload images (frames) to Zooniverse"
   ]
  },
  {
   "cell_type": "markdown",
   "id": "924b4d0c",
   "metadata": {
    "id": "924b4d0c"
   },
   "source": [
    "## Select Zooniverse workflow id and version of interest\n",
    "\n",
    "##### Note: Make sure your workflows in Zooniverse have different names to avoid issues while selecting the workflow id"
   ]
  },
  {
   "cell_type": "markdown",
   "id": "4e08bfe2",
   "metadata": {
    "id": "4e08bfe2"
   },
   "source": [
    "### Choose the workflows and versions of interest"
   ]
  },
  {
   "cell_type": "code",
   "execution_count": null,
   "id": "de9b0a88",
   "metadata": {
    "id": "de9b0a88"
   },
   "outputs": [],
   "source": [
    "pp.choose_zoo_workflows()"
   ]
  },
  {
   "cell_type": "markdown",
   "id": "31bee99a",
   "metadata": {
    "id": "31bee99a"
   },
   "source": [
    "### Sample and process Zooniverse classifications from the workflows of interest"
   ]
  },
  {
   "cell_type": "code",
   "execution_count": null,
   "id": "d19a030a",
   "metadata": {
    "id": "d19a030a"
   },
   "outputs": [],
   "source": [
    "pp.process_zoo_classifications()"
   ]
  },
  {
   "cell_type": "markdown",
   "id": "e77e4adb",
   "metadata": {
    "id": "e77e4adb"
   },
   "source": [
    "## Aggregate classifications received from the workflows of interest"
   ]
  },
  {
   "cell_type": "markdown",
   "id": "c8b115db",
   "metadata": {
    "id": "c8b115db"
   },
   "source": [
    "### Aggregate classifications based on threshold"
   ]
  },
  {
   "cell_type": "code",
   "execution_count": null,
   "id": "ad0f601b",
   "metadata": {
    "id": "ad0f601b"
   },
   "outputs": [],
   "source": [
    "users = kso_widgets.choose_aggregation_users(pp.processed_zoo_classifications)"
   ]
  },
  {
   "cell_type": "markdown",
   "id": "3a3e442d",
   "metadata": {
    "id": "3a3e442d"
   },
   "source": [
    "### Specify the aggregation parameters"
   ]
  },
  {
   "cell_type": "code",
   "execution_count": null,
   "id": "7735fce5",
   "metadata": {
    "id": "7735fce5"
   },
   "outputs": [],
   "source": [
    "agg_params = kso_widgets.choose_agg_parameters(\n",
    "    pp.workflow_widget.checks[\"Subject type: #0\"],\n",
    ")"
   ]
  },
  {
   "cell_type": "markdown",
   "id": "c7ef44aa",
   "metadata": {
    "id": "c7ef44aa"
   },
   "source": [
    "### Aggregate classifications based on parameters"
   ]
  },
  {
   "cell_type": "code",
   "execution_count": null,
   "id": "bc4291ce",
   "metadata": {
    "id": "bc4291ce"
   },
   "outputs": [],
   "source": [
    "pp.aggregate_zoo_classifications(agg_params, users.result)"
   ]
  },
  {
   "cell_type": "markdown",
   "id": "dbacc592",
   "metadata": {
    "id": "dbacc592"
   },
   "source": [
    "🔴 <span style=\"color:red\">&nbsp;NOTE: If the output from the cell above says that 0 classifications are aggregated, you can experiment with other agreement thresholds, or you need to wait for more annotations to be made in Zooniverse.   </span>"
   ]
  },
  {
   "cell_type": "markdown",
   "id": "72796893",
   "metadata": {
    "id": "72796893"
   },
   "source": [
    "### Select species of interest"
   ]
  },
  {
   "cell_type": "code",
   "execution_count": null,
   "id": "99023fdd",
   "metadata": {
    "id": "99023fdd"
   },
   "outputs": [],
   "source": [
    "pp.species_of_interest = kso_widgets.choose_species(\n",
    "    pp.db_connection, pp.aggregated_zoo_classifications[\"label\"].unique()\n",
    ")"
   ]
  },
  {
   "cell_type": "markdown",
   "id": "57e63314",
   "metadata": {
    "id": "57e63314"
   },
   "source": [
    "### Extract frames from videos that have species of interest (based on selected aggreement)"
   ]
  },
  {
   "cell_type": "code",
   "execution_count": null,
   "id": "7a850006",
   "metadata": {
    "id": "7a850006"
   },
   "outputs": [],
   "source": [
    "# Get all available frames for the selected species from clips\n",
    "pp.extract_zoo_frames()"
   ]
  },
  {
   "cell_type": "code",
   "execution_count": null,
   "id": "61a05c7d",
   "metadata": {
    "id": "61a05c7d"
   },
   "outputs": [],
   "source": [
    "# Review the size of the frames\n",
    "pp.check_frame_size()"
   ]
  },
  {
   "cell_type": "markdown",
   "id": "4f2bb593",
   "metadata": {
    "id": "4f2bb593"
   },
   "source": [
    "## Get frames from movies (Manual)"
   ]
  },
  {
   "cell_type": "code",
   "execution_count": null,
   "id": "74333e38",
   "metadata": {
    "id": "74333e38"
   },
   "outputs": [],
   "source": [
    "# Choose folder containing movies\n",
    "input_folder = kso_widgets.choose_folder()"
   ]
  },
  {
   "cell_type": "code",
   "execution_count": null,
   "id": "a6e1bbc1",
   "metadata": {
    "id": "a6e1bbc1"
   },
   "outputs": [],
   "source": [
    "# Choose output folder for frames\n",
    "output_folder = kso_widgets.choose_folder()"
   ]
  },
  {
   "cell_type": "code",
   "execution_count": null,
   "id": "b06b96fe",
   "metadata": {
    "id": "b06b96fe"
   },
   "outputs": [],
   "source": [
    "# Generate suitable frames for upload by modifying initial frames\n",
    "pp.generate_custom_frames(\n",
    "    input_path=input_folder.selected,\n",
    "    output_path=output_folder.selected,\n",
    "    skip_start=120,\n",
    "    skip_end=120,\n",
    "    num_frames=10,\n",
    "    frames_skip=None,\n",
    ")"
   ]
  },
  {
   "cell_type": "markdown",
   "id": "c6d7cd68",
   "metadata": {
    "id": "c6d7cd68"
   },
   "source": [
    "### Modify the frames if needed"
   ]
  },
  {
   "cell_type": "code",
   "execution_count": null,
   "id": "dc9d56a5",
   "metadata": {
    "id": "dc9d56a5"
   },
   "outputs": [],
   "source": [
    "pp.modify_zoo_frames()"
   ]
  },
  {
   "cell_type": "code",
   "execution_count": null,
   "id": "1c7c71f3",
   "metadata": {
    "id": "1c7c71f3"
   },
   "outputs": [],
   "source": [
    "# Review the size of the modified clips\n",
    "pp.check_frame_size()"
   ]
  },
  {
   "cell_type": "markdown",
   "id": "cf5c5817",
   "metadata": {
    "id": "cf5c5817"
   },
   "source": [
    "### Preview the frames"
   ]
  },
  {
   "cell_type": "code",
   "execution_count": null,
   "id": "e8f8190f",
   "metadata": {
    "id": "e8f8190f"
   },
   "outputs": [],
   "source": [
    "# Compare the original and modified clips\n",
    "pp.compare_frames(df=pp.modified_frames)"
   ]
  },
  {
   "cell_type": "markdown",
   "id": "7d09c6c8",
   "metadata": {
    "id": "7d09c6c8"
   },
   "source": [
    "## Upload frames to Zooniverse"
   ]
  },
  {
   "cell_type": "markdown",
   "id": "45abf613",
   "metadata": {
    "id": "45abf613"
   },
   "source": [
    "Make sure your workflows in Zooniverse have different names to avoid issues while creating a new workflow\n",
    "\n",
    "🔴 <span style=\"color:red\">&nbsp;NOTE: If you run the template project without being a member of our template project, it is not possible to run this last cell.  </span>"
   ]
  },
  {
   "cell_type": "code",
   "execution_count": null,
   "id": "90501e0e",
   "metadata": {
    "id": "90501e0e"
   },
   "outputs": [],
   "source": [
    "pp.upload_zoo_subjects(\"frame\")"
   ]
  },
  {
   "cell_type": "code",
   "execution_count": null,
   "id": "037d3622",
   "metadata": {
    "id": "037d3622"
   },
   "outputs": [],
   "source": [
    "# END OF TASK 2"
   ]
  }
 ],
 "metadata": {
  "accelerator": "GPU",
  "colab": {
   "collapsed_sections": [
    "Hro0l-z-OxAA",
    "cEy0Uz9ZO17V",
    "cuCiI4KqPZSw"
   ],
   "gpuType": "T4",
   "provenance": []
  },
  "kernelspec": {
   "display_name": "Python 3 (ipykernel)",
   "language": "python",
   "name": "python3"
  },
  "language_info": {
   "codemirror_mode": {
    "name": "ipython",
    "version": 3
   },
   "file_extension": ".py",
   "mimetype": "text/x-python",
   "name": "python",
   "nbconvert_exporter": "python",
   "pygments_lexer": "ipython3",
   "version": "3.8.19"
  }
 },
 "nbformat": 4,
 "nbformat_minor": 5
}
