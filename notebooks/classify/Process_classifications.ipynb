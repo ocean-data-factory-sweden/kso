{
 "cells": [
  {
   "cell_type": "markdown",
   "id": "a49ece9a",
   "metadata": {
    "editable": true,
    "id": "a49ece9a",
    "slideshow": {
     "slide_type": ""
    },
    "tags": []
   },
   "source": [
    "<img align=\"left\" src=\"https://panoptes-uploads.zooniverse.org/project_avatar/86c23ca7-bbaa-4e84-8d8a-876819551431.png\" type=\"image/png\" height=100 width=100>\n",
    "</img>\n",
    "<h1 align=\"right\">KSO Notebook #8: Analyse / Aggregate Zooniverse classifications</h1>\n",
    "<h3 align=\"right\"><a href=\"https://colab.research.google.com/github/ocean-data-factory-sweden/kso/blob/main/notebooks/08_Analyse_Aggregate_Zooniverse_Annotations.ipynb\" target=\"_parent\"><img src=\"https://colab.research.google.com/assets/colab-badge.svg\" alt=\"Open In Colab\"/></a></h3>\n",
    "<h3 align=\"right\">Written by the KSO team</h3>"
   ]
  },
  {
   "cell_type": "markdown",
   "id": "TbIaPdBSU_H3",
   "metadata": {
    "id": "TbIaPdBSU_H3"
   },
   "source": [
    "This notebook takes you through the process of:\n",
    "* Connecting to a Zooniverse project\n",
    "* Retrieving the annotations provided by citizen scientists from your workflow of interest\n",
    "* Aggregating the annotations based on aggregation thresholds and minimum number of users\n",
    "* Exploring the aggregated classifications to inspect the effect of your aggregation settings.\n",
    "* Downloading the aggregated or unaggregated classifications for further analyses.\n",
    "* *If you were inspecting videos*, you can use the aggregation settings you decided on for Notebook 4, where you cut the videos into images and upload them to Zooniverse for the 2nd part of the workflow.\n",
    "* *If you were inspecting frames*, you can export the frame annotations into YOLO format, which is needed for ML purposes in Notebook 5.\n",
    "\n",
    "If you do not have a project with us yet, you can run the template project to get a taste of how the aggregation of the annotations works for videos. However, it is not yet possible to do this for frames, and therefore also not to do the exports.\n",
    "\n",
    "🔴 <span style=\"color:red\">&nbsp;NOTE: If you want to run another project than the template project, you need to have a Zooniverse account and be a member of the corresponding project.  </span>"
   ]
  },
  {
   "cell_type": "markdown",
   "id": "FlVXYRkEzfGq",
   "metadata": {
    "id": "FlVXYRkEzfGq"
   },
   "source": [
    "# Set up KSO requirements"
   ]
  },
  {
   "cell_type": "markdown",
   "id": "5f9faa9c",
   "metadata": {
    "id": "5f9faa9c"
   },
   "source": [
    "### Install all the requirements"
   ]
  },
  {
   "cell_type": "markdown",
   "id": "0d100fbf",
   "metadata": {
    "id": "0d100fbf"
   },
   "source": [
    "Installing the requirements in Google Colab takes ~4 mins and might automatically crash/restart the session. Please run this cell until you get the \"Successful installation!\" message."
   ]
  },
  {
   "cell_type": "code",
   "execution_count": 1,
   "id": "4YRqq41oziEM",
   "metadata": {
    "id": "4YRqq41oziEM"
   },
   "outputs": [
    {
     "name": "stdout",
     "output_type": "stream",
     "text": [
      "Successful installation... you're good to go!\n"
     ]
    }
   ],
   "source": [
    "import sys\n",
    "import os\n",
    "\n",
    "# Check if notebook is running in colab\n",
    "IN_COLAB = \"google.colab\" in sys.modules\n",
    "\n",
    "if IN_COLAB:\n",
    "    # Clone kso repo and install requirements\n",
    "    if not os.path.exists(\"kso\"):\n",
    "        print(\"Installing all dependencies...\")\n",
    "        !git clone https://github.com/ocean-data-factory-sweden/kso.git\n",
    "        !pip install -r /content/kso/requirements_colab.txt\n",
    "\n",
    "    # Enable external widgets and navigate to the kso tutorial folder\n",
    "    try:\n",
    "        from google.colab import output\n",
    "\n",
    "        output.enable_custom_widget_manager()\n",
    "        os.chdir(\"kso/notebooks\")\n",
    "    except ImportError:\n",
    "        pass\n",
    "\n",
    "# Prepare the dev settings if needed\n",
    "try:\n",
    "    if \"kso_utils\" not in sys.modules:\n",
    "        sys.path.insert(0, os.path.abspath(os.path.join(os.getcwd(), \"..\")))\n",
    "        import kso_utils\n",
    "\n",
    "        print(\"Using development version...\")\n",
    "        # Enables testing changes in utils\n",
    "        %load_ext autoreload\n",
    "        %autoreload 2\n",
    "except ImportError:\n",
    "    print(\"Installing latest version from PyPI...\")\n",
    "    %pip install -q kso-utils\n",
    "\n",
    "if IN_COLAB:\n",
    "\n",
    "    def restart_runtime():\n",
    "        os.kill(os.getpid(), 9)\n",
    "\n",
    "    # Check if there are any issues with previously imported packages\n",
    "    try:\n",
    "        from kso_utils.project import ProjectProcessor\n",
    "    except Exception as e:\n",
    "        print(f\"Error importing package: {e}\")\n",
    "        print(\"Restarting runtime to apply package changes...\")\n",
    "        restart_runtime()\n",
    "\n",
    "# Avoid issues with widgets not displaying properly\n",
    "!jupyter nbextension enable --user --py widgetsnbextension\n",
    "!jupyter nbextension enable --user --py jupyter_bbox_widget\n",
    "!jupyter nbextension enable --user --py ipysheet\n",
    "\n",
    "# Load the clear output function to keep things clean\n",
    "from IPython.display import clear_output\n",
    "\n",
    "clear_output()\n",
    "print(\"Successful installation... you're good to go!\")"
   ]
  },
  {
   "cell_type": "markdown",
   "id": "472e7d6e",
   "metadata": {
    "id": "472e7d6e"
   },
   "source": [
    "### Import Python packages"
   ]
  },
  {
   "cell_type": "code",
   "execution_count": 2,
   "id": "ZI0XH96WzfGs",
   "metadata": {
    "id": "ZI0XH96WzfGs"
   },
   "outputs": [
    {
     "name": "stderr",
     "output_type": "stream",
     "text": [
      "DEBUG:matplotlib:matplotlib data path: /opt/tljh/user/lib/python3.10/site-packages/matplotlib/mpl-data\n",
      "DEBUG:matplotlib:CONFIGDIR=/home/jupyter-benjamin.hoeree@st-2de9f/.config/matplotlib\n",
      "DEBUG:matplotlib:interactive is False\n",
      "DEBUG:matplotlib:platform is linux\n",
      "WARNING:matplotlib:Matplotlib created a temporary cache directory at /tmp/matplotlib-_xo8k9il because the default path (/data/cache/jhub/matplotlib) is not a writable directory; it is highly recommended to set the MPLCONFIGDIR environment variable to a writable directory, in particular to speed up the import of Matplotlib and to better support multiprocessing.\n",
      "DEBUG:matplotlib:CACHEDIR=/tmp/matplotlib-_xo8k9il\n",
      "DEBUG:matplotlib.font_manager:font search path [PosixPath('/opt/tljh/user/lib/python3.10/site-packages/matplotlib/mpl-data/fonts/ttf'), PosixPath('/opt/tljh/user/lib/python3.10/site-packages/matplotlib/mpl-data/fonts/afm'), PosixPath('/opt/tljh/user/lib/python3.10/site-packages/matplotlib/mpl-data/fonts/pdfcorefonts')]\n",
      "INFO:matplotlib.font_manager:generated new fontManager\n"
     ]
    },
    {
     "name": "stdout",
     "output_type": "stream",
     "text": [
      "Packages loaded successfully\n"
     ]
    }
   ],
   "source": [
    "# Import required modules for tut#8\n",
    "import kso_utils.widgets as kso_widgets\n",
    "import kso_utils.project_utils as p_utils\n",
    "from kso_utils.project import ProjectProcessor, MLProjectProcessor\n",
    "\n",
    "print(\"Packages loaded successfully\")"
   ]
  },
  {
   "cell_type": "markdown",
   "id": "2eda3296",
   "metadata": {
    "id": "2eda3296"
   },
   "source": [
    "### Choose your project"
   ]
  },
  {
   "cell_type": "code",
   "execution_count": 3,
   "id": "6f26f15b",
   "metadata": {
    "id": "6f26f15b"
   },
   "outputs": [
    {
     "data": {
      "application/vnd.jupyter.widget-view+json": {
       "model_id": "2146049e776e4fb88f64c0163beb9253",
       "version_major": 2,
       "version_minor": 0
      },
      "text/plain": [
       "Dropdown(description='Project:', options=('Template project', 'Koster_Seafloor_Obs', 'Spyfish_Aotearoa', 'SGU'…"
      ]
     },
     "metadata": {},
     "output_type": "display_data"
    }
   ],
   "source": [
    "project_name = kso_widgets.choose_project()"
   ]
  },
  {
   "cell_type": "markdown",
   "id": "242d5780",
   "metadata": {
    "id": "242d5780"
   },
   "source": [
    "### Initiate project's database"
   ]
  },
  {
   "cell_type": "code",
   "execution_count": 4,
   "id": "o8ShAbg3zfGs",
   "metadata": {
    "id": "o8ShAbg3zfGs"
   },
   "outputs": [
    {
     "name": "stderr",
     "output_type": "stream",
     "text": [
      "INFO:root:Koster_Seafloor_Obs loaded succesfully\n",
      "INFO:root:Running locally, no external connection to server needed.\n",
      "INFO:root:Running locally so no csv files were downloaded from the server.\n",
      "INFO:root:Updated species table from the temporary database\n",
      "INFO:root:Updated sites table from the temporary database\n",
      "INFO:root:Updated photos table from the temporary database\n",
      "INFO:root:Updated movies table from the temporary database\n"
     ]
    }
   ],
   "source": [
    "# Save the name of the project\n",
    "project = p_utils.find_project(project_name=project_name.value)\n",
    "\n",
    "# Initiate pp\n",
    "pp = ProjectProcessor(project)"
   ]
  },
  {
   "cell_type": "markdown",
   "id": "3bd01d49",
   "metadata": {
    "id": "3bd01d49"
   },
   "source": [
    "### Specify to request (or not) the latest Zooniverse info"
   ]
  },
  {
   "cell_type": "code",
   "execution_count": 5,
   "id": "HTLGiO6RFMfP",
   "metadata": {
    "id": "HTLGiO6RFMfP"
   },
   "outputs": [
    {
     "data": {
      "application/vnd.jupyter.widget-view+json": {
       "model_id": "7b358a28c1274aa4be32ccbaf59e1d9e",
       "version_major": 2,
       "version_minor": 0
      },
      "text/plain": [
       "interactive(children=(RadioButtons(description='Do you want to request the most up-to-date Zooniverse informat…"
      ]
     },
     "metadata": {},
     "output_type": "display_data"
    },
    {
     "data": {
      "text/html": [
       "<font size=\"2px\">If yes, a new data export will be requested and generated with the latest information of Zooniverse (this may take some time)<br>\n",
       "    Otherwise, the latest available export will be downloaded (some recent information may be missing!!).<br><br>\n",
       "    If the waiting time for the generation of a new data export ends, the last available information will be retrieved. However, that information <br>\n",
       "    will probably correspond to the newly generated export.\n",
       "    </font>"
      ],
      "text/plain": [
       "<IPython.core.display.HTML object>"
      ]
     },
     "metadata": {},
     "output_type": "display_data"
    }
   ],
   "source": [
    "latest_zoo_info = kso_widgets.request_latest_zoo_info()"
   ]
  },
  {
   "cell_type": "markdown",
   "id": "411615cb",
   "metadata": {
    "id": "411615cb"
   },
   "source": [
    "### Connect and retrieve information from the Zooniverse project"
   ]
  },
  {
   "cell_type": "code",
   "execution_count": 6,
   "id": "e478dee3",
   "metadata": {
    "id": "e478dee3"
   },
   "outputs": [
    {
     "name": "stdin",
     "output_type": "stream",
     "text": [
      "Enter your Zooniverse user ········\n",
      "Enter your Zooniverse password ········\n"
     ]
    },
    {
     "name": "stderr",
     "output_type": "stream",
     "text": [
      "INFO:root:Connected to Zooniverse\n",
      "INFO:root:Retrieving subjects from Zooniverse\n",
      "INFO:root:subjects retrieved successfully\n",
      "INFO:root:Retrieving workflows from Zooniverse\n",
      "INFO:root:workflows retrieved successfully\n",
      "INFO:root:Retrieving classifications from Zooniverse\n",
      "INFO:root:classifications retrieved successfully\n"
     ]
    }
   ],
   "source": [
    "pp.connect_zoo_project(latest_zoo_info.result)"
   ]
  },
  {
   "cell_type": "markdown",
   "id": "cd4adb06",
   "metadata": {
    "id": "cd4adb06"
   },
   "source": [
    "# Select Zooniverse workflow id and version of interest\n",
    "\n",
    "##### Note: Make sure your workflows in Zooniverse have different names to avoid issues while selecting the workflow id"
   ]
  },
  {
   "cell_type": "markdown",
   "id": "3b6016a1",
   "metadata": {
    "id": "3b6016a1"
   },
   "source": [
    "### Choose the workflows and versions of interest"
   ]
  },
  {
   "cell_type": "code",
   "execution_count": 12,
   "id": "a16e5f5f",
   "metadata": {
    "id": "a16e5f5f"
   },
   "outputs": [
    {
     "data": {
      "application/vnd.jupyter.widget-view+json": {
       "model_id": "370cb4e4d085486fb732ab9760744efe",
       "version_major": 2,
       "version_minor": 0
      },
      "text/plain": [
       "WidgetWorkflowSelection(children=(BoundedIntText(value=0, description='Number of workflows:', max=24, style=De…"
      ]
     },
     "metadata": {},
     "output_type": "display_data"
    }
   ],
   "source": [
    "pp.choose_zoo_workflows()"
   ]
  },
  {
   "cell_type": "markdown",
   "id": "c219a634",
   "metadata": {
    "id": "c219a634"
   },
   "source": [
    "### Sample and process Zooniverse classifications from the workflows of interest"
   ]
  },
  {
   "cell_type": "code",
   "execution_count": 14,
   "id": "2de7a47e",
   "metadata": {
    "id": "10e4e276"
   },
   "outputs": [
    {
     "name": "stderr",
     "output_type": "stream",
     "text": [
      "INFO:root:127 Zooniverse classifications have been retrieved from 125 subjects\n"
     ]
    },
    {
     "ename": "KeyError",
     "evalue": "'subject_type'",
     "output_type": "error",
     "traceback": [
      "\u001b[0;31m---------------------------------------------------------------------------\u001b[0m",
      "\u001b[0;31mKeyError\u001b[0m                                  Traceback (most recent call last)",
      "File \u001b[0;32m~/.local/lib/python3.10/site-packages/pandas/core/indexes/base.py:3621\u001b[0m, in \u001b[0;36mIndex.get_loc\u001b[0;34m(self, key, method, tolerance)\u001b[0m\n\u001b[1;32m   3620\u001b[0m \u001b[38;5;28;01mtry\u001b[39;00m:\n\u001b[0;32m-> 3621\u001b[0m     \u001b[38;5;28;01mreturn\u001b[39;00m \u001b[38;5;28;43mself\u001b[39;49m\u001b[38;5;241;43m.\u001b[39;49m\u001b[43m_engine\u001b[49m\u001b[38;5;241;43m.\u001b[39;49m\u001b[43mget_loc\u001b[49m\u001b[43m(\u001b[49m\u001b[43mcasted_key\u001b[49m\u001b[43m)\u001b[49m\n\u001b[1;32m   3622\u001b[0m \u001b[38;5;28;01mexcept\u001b[39;00m \u001b[38;5;167;01mKeyError\u001b[39;00m \u001b[38;5;28;01mas\u001b[39;00m err:\n",
      "File \u001b[0;32m~/.local/lib/python3.10/site-packages/pandas/_libs/index.pyx:136\u001b[0m, in \u001b[0;36mpandas._libs.index.IndexEngine.get_loc\u001b[0;34m()\u001b[0m\n",
      "File \u001b[0;32m~/.local/lib/python3.10/site-packages/pandas/_libs/index.pyx:163\u001b[0m, in \u001b[0;36mpandas._libs.index.IndexEngine.get_loc\u001b[0;34m()\u001b[0m\n",
      "File \u001b[0;32mpandas/_libs/hashtable_class_helper.pxi:5198\u001b[0m, in \u001b[0;36mpandas._libs.hashtable.PyObjectHashTable.get_item\u001b[0;34m()\u001b[0m\n",
      "File \u001b[0;32mpandas/_libs/hashtable_class_helper.pxi:5206\u001b[0m, in \u001b[0;36mpandas._libs.hashtable.PyObjectHashTable.get_item\u001b[0;34m()\u001b[0m\n",
      "\u001b[0;31mKeyError\u001b[0m: 'subject_type'",
      "\nThe above exception was the direct cause of the following exception:\n",
      "\u001b[0;31mKeyError\u001b[0m                                  Traceback (most recent call last)",
      "Cell \u001b[0;32mIn[14], line 1\u001b[0m\n\u001b[0;32m----> 1\u001b[0m \u001b[43mpp\u001b[49m\u001b[38;5;241;43m.\u001b[39;49m\u001b[43mprocess_zoo_classifications\u001b[49m\u001b[43m(\u001b[49m\u001b[43m)\u001b[49m\n",
      "File \u001b[0;32m~/.local/lib/python3.10/site-packages/kso_utils/project.py:787\u001b[0m, in \u001b[0;36mProjectProcessor.process_zoo_classifications\u001b[0;34m(self, test)\u001b[0m\n\u001b[1;32m    783\u001b[0m     workflow_checks \u001b[38;5;241m=\u001b[39m \u001b[38;5;28mself\u001b[39m\u001b[38;5;241m.\u001b[39mworkflow_widget\u001b[38;5;241m.\u001b[39mchecks\n\u001b[1;32m    785\u001b[0m \u001b[38;5;66;03m# Retrieve a subset of the subjects from the workflows of interest and\u001b[39;00m\n\u001b[1;32m    786\u001b[0m \u001b[38;5;66;03m# populate the sql subjects table and flatten the classifications provided the cit. scientists\u001b[39;00m\n\u001b[0;32m--> 787\u001b[0m \u001b[38;5;28mself\u001b[39m\u001b[38;5;241m.\u001b[39mprocessed_zoo_classifications \u001b[38;5;241m=\u001b[39m \u001b[43mzoo_utils\u001b[49m\u001b[38;5;241;43m.\u001b[39;49m\u001b[43mprocess_zoo_classifications\u001b[49m\u001b[43m(\u001b[49m\n\u001b[1;32m    788\u001b[0m \u001b[43m    \u001b[49m\u001b[43mproject\u001b[49m\u001b[38;5;241;43m=\u001b[39;49m\u001b[38;5;28;43mself\u001b[39;49m\u001b[38;5;241;43m.\u001b[39;49m\u001b[43mproject\u001b[49m\u001b[43m,\u001b[49m\n\u001b[1;32m    789\u001b[0m \u001b[43m    \u001b[49m\u001b[43mserver_connection\u001b[49m\u001b[38;5;241;43m=\u001b[39;49m\u001b[38;5;28;43mself\u001b[39;49m\u001b[38;5;241;43m.\u001b[39;49m\u001b[43mserver_connection\u001b[49m\u001b[43m,\u001b[49m\n\u001b[1;32m    790\u001b[0m \u001b[43m    \u001b[49m\u001b[43mdb_connection\u001b[49m\u001b[38;5;241;43m=\u001b[39;49m\u001b[38;5;28;43mself\u001b[39;49m\u001b[38;5;241;43m.\u001b[39;49m\u001b[43mdb_connection\u001b[49m\u001b[43m,\u001b[49m\n\u001b[1;32m    791\u001b[0m \u001b[43m    \u001b[49m\u001b[43mworkflow_widget_checks\u001b[49m\u001b[38;5;241;43m=\u001b[39;49m\u001b[43mworkflow_checks\u001b[49m\u001b[43m,\u001b[49m\n\u001b[1;32m    792\u001b[0m \u001b[43m    \u001b[49m\u001b[43mworkflows_df\u001b[49m\u001b[38;5;241;43m=\u001b[39;49m\u001b[38;5;28;43mself\u001b[39;49m\u001b[38;5;241;43m.\u001b[39;49m\u001b[43mzoo_info\u001b[49m\u001b[43m[\u001b[49m\u001b[38;5;124;43m\"\u001b[39;49m\u001b[38;5;124;43mworkflows\u001b[39;49m\u001b[38;5;124;43m\"\u001b[39;49m\u001b[43m]\u001b[49m\u001b[43m,\u001b[49m\n\u001b[1;32m    793\u001b[0m \u001b[43m    \u001b[49m\u001b[43msubjects_df\u001b[49m\u001b[38;5;241;43m=\u001b[39;49m\u001b[38;5;28;43mself\u001b[39;49m\u001b[38;5;241;43m.\u001b[39;49m\u001b[43mzoo_info\u001b[49m\u001b[43m[\u001b[49m\u001b[38;5;124;43m\"\u001b[39;49m\u001b[38;5;124;43msubjects\u001b[39;49m\u001b[38;5;124;43m\"\u001b[39;49m\u001b[43m]\u001b[49m\u001b[43m,\u001b[49m\n\u001b[1;32m    794\u001b[0m \u001b[43m    \u001b[49m\u001b[43mcsv_paths\u001b[49m\u001b[38;5;241;43m=\u001b[39;49m\u001b[38;5;28;43mself\u001b[39;49m\u001b[38;5;241;43m.\u001b[39;49m\u001b[43mcsv_paths\u001b[49m\u001b[43m,\u001b[49m\n\u001b[1;32m    795\u001b[0m \u001b[43m    \u001b[49m\u001b[43mclassifications_data\u001b[49m\u001b[38;5;241;43m=\u001b[39;49m\u001b[38;5;28;43mself\u001b[39;49m\u001b[38;5;241;43m.\u001b[39;49m\u001b[43mzoo_info\u001b[49m\u001b[43m[\u001b[49m\u001b[38;5;124;43m\"\u001b[39;49m\u001b[38;5;124;43mclassifications\u001b[39;49m\u001b[38;5;124;43m\"\u001b[39;49m\u001b[43m]\u001b[49m\u001b[43m,\u001b[49m\n\u001b[1;32m    796\u001b[0m \u001b[43m    \u001b[49m\u001b[43msubject_type\u001b[49m\u001b[38;5;241;43m=\u001b[39;49m\u001b[43mworkflow_checks\u001b[49m\u001b[43m[\u001b[49m\u001b[38;5;124;43m\"\u001b[39;49m\u001b[38;5;124;43mSubject type: #0\u001b[39;49m\u001b[38;5;124;43m\"\u001b[39;49m\u001b[43m]\u001b[49m\u001b[43m,\u001b[49m\n\u001b[1;32m    797\u001b[0m \u001b[43m\u001b[49m\u001b[43m)\u001b[49m\n",
      "File \u001b[0;32m~/.local/lib/python3.10/site-packages/kso_utils/zooniverse_utils.py:431\u001b[0m, in \u001b[0;36mprocess_zoo_classifications\u001b[0;34m(project, server_connection, db_connection, workflow_widget_checks, workflows_df, subjects_df, csv_paths, classifications_data, subject_type)\u001b[0m\n\u001b[1;32m    427\u001b[0m drop_table(conn\u001b[38;5;241m=\u001b[39mdb_connection, table_name\u001b[38;5;241m=\u001b[39m\u001b[38;5;124m\"\u001b[39m\u001b[38;5;124msubjects\u001b[39m\u001b[38;5;124m\"\u001b[39m)\n\u001b[1;32m    429\u001b[0m \u001b[38;5;28;01mif\u001b[39;00m \u001b[38;5;28mlen\u001b[39m(subjects_series) \u001b[38;5;241m>\u001b[39m \u001b[38;5;241m0\u001b[39m:\n\u001b[1;32m    430\u001b[0m     \u001b[38;5;66;03m# Fill or re-fill subjects table\u001b[39;00m\n\u001b[0;32m--> 431\u001b[0m     \u001b[43mpopulate_subjects\u001b[49m\u001b[43m(\u001b[49m\u001b[43mproject\u001b[49m\u001b[43m,\u001b[49m\u001b[43m \u001b[49m\u001b[43mserver_connection\u001b[49m\u001b[43m,\u001b[49m\u001b[43m \u001b[49m\u001b[43mdb_connection\u001b[49m\u001b[43m,\u001b[49m\u001b[43m \u001b[49m\u001b[43msubjects_series\u001b[49m\u001b[43m)\u001b[49m\n\u001b[1;32m    432\u001b[0m \u001b[38;5;28;01melse\u001b[39;00m:\n\u001b[1;32m    433\u001b[0m     logging\u001b[38;5;241m.\u001b[39merror(\u001b[38;5;124m\"\u001b[39m\u001b[38;5;124mNo subjects to populate database from the workflows selected.\u001b[39m\u001b[38;5;124m\"\u001b[39m)\n",
      "File \u001b[0;32m~/.local/lib/python3.10/site-packages/kso_utils/zooniverse_utils.py:1143\u001b[0m, in \u001b[0;36mpopulate_subjects\u001b[0;34m(project, server_connection, db_connection, subjects)\u001b[0m\n\u001b[1;32m   1140\u001b[0m \u001b[38;5;66;03m# Rename columns to match the db format\u001b[39;00m\n\u001b[1;32m   1141\u001b[0m subjects \u001b[38;5;241m=\u001b[39m subjects\u001b[38;5;241m.\u001b[39mrename(columns\u001b[38;5;241m=\u001b[39mrename_cols)\n\u001b[0;32m-> 1143\u001b[0m \u001b[38;5;28;01mif\u001b[39;00m \u001b[38;5;28mhasattr\u001b[39m(\u001b[43msubjects\u001b[49m\u001b[43m[\u001b[49m\u001b[38;5;124;43m\"\u001b[39;49m\u001b[38;5;124;43msubject_type\u001b[39;49m\u001b[38;5;124;43m\"\u001b[39;49m\u001b[43m]\u001b[49m, \u001b[38;5;124m\"\u001b[39m\u001b[38;5;124mcolumns\u001b[39m\u001b[38;5;124m\"\u001b[39m):\n\u001b[1;32m   1144\u001b[0m     \u001b[38;5;66;03m# Avoid having two subject_type columns (one from Zoo one from the db)\u001b[39;00m\n\u001b[1;32m   1145\u001b[0m     subjects[\u001b[38;5;124m\"\u001b[39m\u001b[38;5;124msubject_type0\u001b[39m\u001b[38;5;124m\"\u001b[39m] \u001b[38;5;241m=\u001b[39m subjects[\u001b[38;5;124m\"\u001b[39m\u001b[38;5;124msubject_type\u001b[39m\u001b[38;5;124m\"\u001b[39m]\u001b[38;5;241m.\u001b[39miloc[:, \u001b[38;5;241m0\u001b[39m]\n\u001b[1;32m   1146\u001b[0m     subjects[\u001b[38;5;124m\"\u001b[39m\u001b[38;5;124msubject_type1\u001b[39m\u001b[38;5;124m\"\u001b[39m] \u001b[38;5;241m=\u001b[39m subjects[\u001b[38;5;124m\"\u001b[39m\u001b[38;5;124msubject_type\u001b[39m\u001b[38;5;124m\"\u001b[39m]\u001b[38;5;241m.\u001b[39miloc[:, \u001b[38;5;241m1\u001b[39m]\n",
      "File \u001b[0;32m~/.local/lib/python3.10/site-packages/pandas/core/frame.py:3506\u001b[0m, in \u001b[0;36mDataFrame.__getitem__\u001b[0;34m(self, key)\u001b[0m\n\u001b[1;32m   3504\u001b[0m \u001b[38;5;28;01mif\u001b[39;00m \u001b[38;5;28mself\u001b[39m\u001b[38;5;241m.\u001b[39mcolumns\u001b[38;5;241m.\u001b[39mnlevels \u001b[38;5;241m>\u001b[39m \u001b[38;5;241m1\u001b[39m:\n\u001b[1;32m   3505\u001b[0m     \u001b[38;5;28;01mreturn\u001b[39;00m \u001b[38;5;28mself\u001b[39m\u001b[38;5;241m.\u001b[39m_getitem_multilevel(key)\n\u001b[0;32m-> 3506\u001b[0m indexer \u001b[38;5;241m=\u001b[39m \u001b[38;5;28;43mself\u001b[39;49m\u001b[38;5;241;43m.\u001b[39;49m\u001b[43mcolumns\u001b[49m\u001b[38;5;241;43m.\u001b[39;49m\u001b[43mget_loc\u001b[49m\u001b[43m(\u001b[49m\u001b[43mkey\u001b[49m\u001b[43m)\u001b[49m\n\u001b[1;32m   3507\u001b[0m \u001b[38;5;28;01mif\u001b[39;00m is_integer(indexer):\n\u001b[1;32m   3508\u001b[0m     indexer \u001b[38;5;241m=\u001b[39m [indexer]\n",
      "File \u001b[0;32m~/.local/lib/python3.10/site-packages/pandas/core/indexes/base.py:3623\u001b[0m, in \u001b[0;36mIndex.get_loc\u001b[0;34m(self, key, method, tolerance)\u001b[0m\n\u001b[1;32m   3621\u001b[0m     \u001b[38;5;28;01mreturn\u001b[39;00m \u001b[38;5;28mself\u001b[39m\u001b[38;5;241m.\u001b[39m_engine\u001b[38;5;241m.\u001b[39mget_loc(casted_key)\n\u001b[1;32m   3622\u001b[0m \u001b[38;5;28;01mexcept\u001b[39;00m \u001b[38;5;167;01mKeyError\u001b[39;00m \u001b[38;5;28;01mas\u001b[39;00m err:\n\u001b[0;32m-> 3623\u001b[0m     \u001b[38;5;28;01mraise\u001b[39;00m \u001b[38;5;167;01mKeyError\u001b[39;00m(key) \u001b[38;5;28;01mfrom\u001b[39;00m \u001b[38;5;21;01merr\u001b[39;00m\n\u001b[1;32m   3624\u001b[0m \u001b[38;5;28;01mexcept\u001b[39;00m \u001b[38;5;167;01mTypeError\u001b[39;00m:\n\u001b[1;32m   3625\u001b[0m     \u001b[38;5;66;03m# If we have a listlike key, _check_indexing_error will raise\u001b[39;00m\n\u001b[1;32m   3626\u001b[0m     \u001b[38;5;66;03m#  InvalidIndexError. Otherwise we fall through and re-raise\u001b[39;00m\n\u001b[1;32m   3627\u001b[0m     \u001b[38;5;66;03m#  the TypeError.\u001b[39;00m\n\u001b[1;32m   3628\u001b[0m     \u001b[38;5;28mself\u001b[39m\u001b[38;5;241m.\u001b[39m_check_indexing_error(key)\n",
      "\u001b[0;31mKeyError\u001b[0m: 'subject_type'"
     ]
    }
   ],
   "source": [
    "pp.process_zoo_classifications()"
   ]
  },
  {
   "cell_type": "markdown",
   "id": "0136ef4b",
   "metadata": {
    "id": "0136ef4b"
   },
   "source": [
    "### Display individual/non-aggregated classifications of a subject"
   ]
  },
  {
   "cell_type": "code",
   "execution_count": 9,
   "id": "Lv1VydtBpAQT",
   "metadata": {
    "cellView": "form",
    "id": "Lv1VydtBpAQT"
   },
   "outputs": [
    {
     "ename": "AttributeError",
     "evalue": "'ProjectProcessor' object has no attribute 'processed_zoo_classifications'",
     "output_type": "error",
     "traceback": [
      "\u001b[0;31m---------------------------------------------------------------------------\u001b[0m",
      "\u001b[0;31mAttributeError\u001b[0m                            Traceback (most recent call last)",
      "Cell \u001b[0;32mIn[9], line 1\u001b[0m\n\u001b[0;32m----> 1\u001b[0m \u001b[43mpp\u001b[49m\u001b[38;5;241;43m.\u001b[39;49m\u001b[43mexplore_processed_classifications_per_subject\u001b[49m\u001b[43m(\u001b[49m\u001b[43m)\u001b[49m\n",
      "File \u001b[0;32m~/.local/lib/python3.10/site-packages/kso_utils/project.py:1031\u001b[0m, in \u001b[0;36mProjectProcessor.explore_processed_classifications_per_subject\u001b[0;34m(self)\u001b[0m\n\u001b[1;32m   1025\u001b[0m \u001b[38;5;250m\u001b[39m\u001b[38;5;124;03m\"\"\"\u001b[39;00m\n\u001b[1;32m   1026\u001b[0m \u001b[38;5;124;03mIt displays the processed classifications for a given subject\u001b[39;00m\n\u001b[1;32m   1027\u001b[0m \n\u001b[1;32m   1028\u001b[0m \u001b[38;5;124;03m\"\"\"\u001b[39;00m\n\u001b[1;32m   1029\u001b[0m \u001b[38;5;66;03m# Display the displays the processed classifications for a given subject\u001b[39;00m\n\u001b[1;32m   1030\u001b[0m kso_widgets\u001b[38;5;241m.\u001b[39mexplore_classifications_per_subject(\n\u001b[0;32m-> 1031\u001b[0m     class_df\u001b[38;5;241m=\u001b[39m\u001b[38;5;28;43mself\u001b[39;49m\u001b[38;5;241;43m.\u001b[39;49m\u001b[43mprocessed_zoo_classifications\u001b[49m,\n\u001b[1;32m   1032\u001b[0m     subject_type\u001b[38;5;241m=\u001b[39m\u001b[38;5;28mself\u001b[39m\u001b[38;5;241m.\u001b[39mworkflow_widget\u001b[38;5;241m.\u001b[39mchecks[\u001b[38;5;124m\"\u001b[39m\u001b[38;5;124mSubject type: #0\u001b[39m\u001b[38;5;124m\"\u001b[39m],\n\u001b[1;32m   1033\u001b[0m )\n",
      "\u001b[0;31mAttributeError\u001b[0m: 'ProjectProcessor' object has no attribute 'processed_zoo_classifications'"
     ]
    }
   ],
   "source": [
    "pp.explore_processed_classifications_per_subject()"
   ]
  },
  {
   "cell_type": "markdown",
   "id": "R00g9V9yjWPX",
   "metadata": {
    "id": "R00g9V9yjWPX"
   },
   "source": [
    "# Aggregate classifications received from the workflows of interest"
   ]
  },
  {
   "cell_type": "markdown",
   "id": "e67d6462-4240-419f-838a-05e02eb7096a",
   "metadata": {
    "id": "7696340b"
   },
   "source": [
    "### Select users to aggregate their annotations"
   ]
  },
  {
   "cell_type": "code",
   "execution_count": 11,
   "id": "245893a0-fd0d-49c7-82b5-1be5ea7f7ef7",
   "metadata": {},
   "outputs": [
    {
     "ename": "AttributeError",
     "evalue": "'ProjectProcessor' object has no attribute 'processed_zoo_classifications'",
     "output_type": "error",
     "traceback": [
      "\u001b[0;31m---------------------------------------------------------------------------\u001b[0m",
      "\u001b[0;31mAttributeError\u001b[0m                            Traceback (most recent call last)",
      "Cell \u001b[0;32mIn[11], line 1\u001b[0m\n\u001b[0;32m----> 1\u001b[0m users \u001b[38;5;241m=\u001b[39m kso_widgets\u001b[38;5;241m.\u001b[39mchoose_aggregation_users(\u001b[43mpp\u001b[49m\u001b[38;5;241;43m.\u001b[39;49m\u001b[43mprocessed_zoo_classifications\u001b[49m)\n",
      "\u001b[0;31mAttributeError\u001b[0m: 'ProjectProcessor' object has no attribute 'processed_zoo_classifications'"
     ]
    }
   ],
   "source": [
    "users = kso_widgets.choose_aggregation_users(pp.processed_zoo_classifications)"
   ]
  },
  {
   "cell_type": "markdown",
   "id": "51a48327-d5e8-4f2d-a66a-6736f9e1b4f1",
   "metadata": {
    "id": "7696340b"
   },
   "source": [
    "### Specify the aggregation parameters"
   ]
  },
  {
   "cell_type": "code",
   "execution_count": null,
   "id": "927ef4df",
   "metadata": {
    "id": "927ef4df"
   },
   "outputs": [],
   "source": [
    "agg_params = kso_widgets.choose_agg_parameters(\n",
    "    pp.workflow_widget.checks[\"Subject type: #0\"],\n",
    ")"
   ]
  },
  {
   "cell_type": "markdown",
   "id": "833afcd6",
   "metadata": {
    "id": "833afcd6"
   },
   "source": [
    "### Aggregate classifications based on parameters"
   ]
  },
  {
   "cell_type": "code",
   "execution_count": null,
   "id": "31c98274",
   "metadata": {
    "id": "31c98274"
   },
   "outputs": [],
   "source": [
    "pp.aggregate_zoo_classifications(agg_params, users.result)"
   ]
  },
  {
   "cell_type": "markdown",
   "id": "qnYyF5TH9INf",
   "metadata": {
    "id": "qnYyF5TH9INf"
   },
   "source": [
    "🔴 <span style=\"color:red\">&nbsp;NOTE: If the output from the cell above says that 0 classifications are aggregated, you can experiment with other agreement thresholds, or you need to wait for more annotations to be made in Zooniverse.   </span>"
   ]
  },
  {
   "cell_type": "markdown",
   "id": "1iI7Jv5KjWPX",
   "metadata": {
    "id": "1iI7Jv5KjWPX"
   },
   "source": [
    "# Explore the aggregated classifications"
   ]
  },
  {
   "cell_type": "markdown",
   "id": "43fd5f8f",
   "metadata": {
    "id": "43fd5f8f"
   },
   "source": [
    "### Summarise the number of aggregated classifications"
   ]
  },
  {
   "cell_type": "code",
   "execution_count": null,
   "id": "4QAUKSRSjWPX",
   "metadata": {
    "cellView": "form",
    "id": "4QAUKSRSjWPX"
   },
   "outputs": [],
   "source": [
    "pp.aggregated_zoo_classifications.groupby(\"label\")[\"subject_ids\"].agg(\"count\")"
   ]
  },
  {
   "cell_type": "markdown",
   "id": "30c9cb53",
   "metadata": {
    "id": "30c9cb53"
   },
   "source": [
    "### Display all the aggregated classifications in a table"
   ]
  },
  {
   "cell_type": "code",
   "execution_count": null,
   "id": "i_aKwdLWjWPX",
   "metadata": {
    "cellView": "form",
    "id": "i_aKwdLWjWPX"
   },
   "outputs": [],
   "source": [
    "pp.launch_classifications_table()"
   ]
  },
  {
   "cell_type": "markdown",
   "id": "5fe0823c",
   "metadata": {
    "id": "5fe0823c"
   },
   "source": [
    "### Display a subject and its aggregated classifications"
   ]
  },
  {
   "cell_type": "code",
   "execution_count": null,
   "id": "4370d487",
   "metadata": {
    "cellView": "form",
    "id": "4370d487"
   },
   "outputs": [],
   "source": [
    "pp.launch_classifications_viewer()"
   ]
  },
  {
   "cell_type": "markdown",
   "id": "f3aJWaZR9lk6",
   "metadata": {
    "id": "f3aJWaZR9lk6"
   },
   "source": [
    "🔴 <span style=\"color:red\">&nbsp;NOTE: If you did the aggregation on clips (videos), the rest of this notebook is not relevant for you. You can use the explored aggregation settings to clip the videos into images with Notebook 4.Only if you were working with frames in the previous steps, you can continue with this notebook.  </span>"
   ]
  },
  {
   "cell_type": "markdown",
   "id": "Q4XNdjhhzfGw",
   "metadata": {
    "id": "Q4XNdjhhzfGw"
   },
   "source": [
    "# OPTIONAL #1 - Export frame aggregated classifications in YOLO format (For ML purposes)"
   ]
  },
  {
   "cell_type": "markdown",
   "id": "RkHzQIzxzfGu",
   "metadata": {
    "id": "RkHzQIzxzfGu"
   },
   "source": [
    "## Prepare the labelled frames"
   ]
  },
  {
   "cell_type": "code",
   "execution_count": null,
   "id": "f75b8b18",
   "metadata": {
    "id": "f75b8b18"
   },
   "outputs": [],
   "source": [
    "# Initialise mlp\n",
    "mlp = MLProjectProcessor(pp)"
   ]
  },
  {
   "cell_type": "markdown",
   "id": "f2db50c3",
   "metadata": {
    "id": "f2db50c3"
   },
   "source": [
    "### Specify path to store the labelled frames and annotations"
   ]
  },
  {
   "cell_type": "code",
   "execution_count": null,
   "id": "fc94336a",
   "metadata": {
    "id": "fc94336a"
   },
   "outputs": [],
   "source": [
    "# Specify path to store the labelled frames and annotations\n",
    "output_folder = kso_widgets.choose_folder(\".\", \"output\")"
   ]
  },
  {
   "cell_type": "markdown",
   "id": "aa4d6059",
   "metadata": {
    "id": "aa4d6059"
   },
   "source": [
    "### Determine your training parameters"
   ]
  },
  {
   "cell_type": "code",
   "execution_count": null,
   "id": "3268e0ed",
   "metadata": {
    "id": "3268e0ed"
   },
   "outputs": [],
   "source": [
    "# Determine your training parameters\n",
    "percentage_test = kso_widgets.choose_test_prop()"
   ]
  },
  {
   "cell_type": "markdown",
   "id": "767ddf48",
   "metadata": {
    "id": "767ddf48"
   },
   "source": [
    "### Run the preparation script"
   ]
  },
  {
   "cell_type": "code",
   "execution_count": null,
   "id": "26d3277f",
   "metadata": {
    "id": "26d3277f"
   },
   "outputs": [],
   "source": [
    "# Run the preparation script\n",
    "mlp.prepare_dataset(\n",
    "    agg_df=pp.aggregated_zoo_classifications,\n",
    "    out_path=output_folder.selected,\n",
    "    img_size=(720, 540),\n",
    "    perc_test=percentage_test.value,\n",
    "    out_format=\"yolo\",\n",
    "    track_frames=True,\n",
    ")"
   ]
  },
  {
   "cell_type": "markdown",
   "id": "Mw_ZiNtVKyMA",
   "metadata": {
    "id": "Mw_ZiNtVKyMA"
   },
   "source": [
    "\n",
    "## Preview and adjust aggregated annotations"
   ]
  },
  {
   "cell_type": "markdown",
   "id": "82302fe5",
   "metadata": {
    "id": "82302fe5"
   },
   "source": [
    "### Preview and adjust annotations"
   ]
  },
  {
   "cell_type": "code",
   "execution_count": null,
   "id": "M-gyODDRKkhw",
   "metadata": {
    "cellView": "form",
    "id": "M-gyODDRKkhw"
   },
   "outputs": [],
   "source": [
    "pp.get_annotations_viewer(\n",
    "    output_folder.selected, annotation_classes=mlp.species_of_interest\n",
    ")"
   ]
  },
  {
   "cell_type": "markdown",
   "id": "3f82e191",
   "metadata": {
    "id": "3f82e191"
   },
   "source": [
    "\n",
    "# OPTIONAL #2 - Download the raw/aggreated classifications in a csv file for further analysis (e.g. comparisons between citizen scientists and experts)"
   ]
  },
  {
   "cell_type": "code",
   "execution_count": null,
   "id": "72980d54",
   "metadata": {
    "id": "72980d54"
   },
   "outputs": [],
   "source": [
    "pp.download_classications_csv(pp.processed_zoo_classifications)\n",
    "# Uncomment the following line to download the aggregated classifications\n",
    "# pp.download_classications_csv(pp.aggregated_zoo_classifications)"
   ]
  },
  {
   "cell_type": "markdown",
   "id": "iLAB5SCh9ma_",
   "metadata": {
    "id": "iLAB5SCh9ma_"
   },
   "source": [
    "\n",
    "# OPTIONAL #3 - Download aggregated annotations in GBIF/OBIS format (For biodiversity purposes)"
   ]
  },
  {
   "cell_type": "code",
   "execution_count": null,
   "id": "c283065d",
   "metadata": {
    "id": "c283065d"
   },
   "outputs": [],
   "source": [
    "pp.download_gbif_occurrences(\"citizen_scientists\", pp.aggregated_zoo_classifications)"
   ]
  },
  {
   "cell_type": "code",
   "execution_count": null,
   "id": "8umCRoDozfGx",
   "metadata": {
    "id": "8umCRoDozfGx"
   },
   "outputs": [],
   "source": [
    "# END"
   ]
  }
 ],
 "metadata": {
  "colab": {
   "collapsed_sections": [
    "Q4XNdjhhzfGw",
    "RkHzQIzxzfGu",
    "B_k4w2rRJYjF",
    "Mw_ZiNtVKyMA"
   ],
   "provenance": []
  },
  "kernelspec": {
   "display_name": "Python 3 (ipykernel)",
   "language": "python",
   "name": "python3"
  },
  "language_info": {
   "codemirror_mode": {
    "name": "ipython",
    "version": 3
   },
   "file_extension": ".py",
   "mimetype": "text/x-python",
   "name": "python",
   "nbconvert_exporter": "python",
   "pygments_lexer": "ipython3",
   "version": "3.10.10"
  },
  "vscode": {
   "interpreter": {
    "hash": "9f0064b85a3bc365415745ead9abb78ac240c43fe3a2a9861333bea64f4ce941"
   }
  }
 },
 "nbformat": 4,
 "nbformat_minor": 5
}
