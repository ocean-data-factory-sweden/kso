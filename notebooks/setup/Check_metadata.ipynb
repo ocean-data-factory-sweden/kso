{
 "cells": [
  {
   "cell_type": "markdown",
   "id": "95aea466",
   "metadata": {
    "id": "95aea466"
   },
   "source": [
    "<img align=\"left\" src=\"https://panoptes-uploads.zooniverse.org/project_avatar/86c23ca7-bbaa-4e84-8d8a-876819551431.png\" type=\"image/png\" height=100 width=100>\n",
    "</img>\n",
    "<h1 align=\"right\">Check and update csv files</h1>\n",
    "<h3 align=\"right\"><a href=\"https://colab.research.google.com/github/ocean-data-factory-sweden/kso/blob/main/notebooks/setup/Check_metadata.ipynb\" target=\"_parent\"><img src=\"https://colab.research.google.com/assets/colab-badge.svg\" alt=\"Open In Colab\"/></a></h3>\n",
    "<h3 align=\"right\">Written by the KSO Team</h3>"
   ]
  },
  {
   "cell_type": "markdown",
   "id": "6f0fc779",
   "metadata": {
    "id": "6f0fc779"
   },
   "source": [
    "# Set up KSO requirements"
   ]
  },
  {
   "cell_type": "markdown",
   "id": "416536e6",
   "metadata": {
    "id": "416536e6"
   },
   "source": [
    "### Install requirements and load KSO modules"
   ]
  },
  {
   "cell_type": "markdown",
   "id": "a26d4eb2",
   "metadata": {
    "id": "a26d4eb2"
   },
   "source": [
    "Installing the requirements in Google Colab takes ~4 mins and might automatically crash/restart the session. Please run this cell until you get the \"Successful installation!\" message."
   ]
  },
  {
   "cell_type": "code",
   "execution_count": null,
   "id": "6b0c72a4",
   "metadata": {
    "cellView": "form",
    "id": "6b0c72a4"
   },
   "outputs": [],
   "source": [
    "import sys, os\n",
    "\n",
    "# Uncomment the following four lines if using the development version.\n",
    "# %load_ext autoreload\n",
    "# %autoreload 2\n",
    "# sys.path.insert(0, os.path.abspath(os.path.join(os.getcwd(), \"../..\")))\n",
    "# print(\"Development mode ON - kso-utils added to the system.\")\n",
    "\n",
    "# Try importing the required modules for this notebook\n",
    "try:\n",
    "    %matplotlib inline\n",
    "    import kso_utils.widgets as kso_widgets\n",
    "    import kso_utils.project_utils as p_utils\n",
    "    from kso_utils.project import ProjectProcessor, MLProjectProcessor\n",
    "\n",
    "    print(\"Successful installation... you're good to go!\")\n",
    "\n",
    "except Exception as e:\n",
    "    print(f\"Error importing kso modules: {e}. Installing latest version from PyPI.\")\n",
    "    # Install kso-utils\n",
    "    !pip install -q kso-utils\n",
    "\n",
    "    # Temporary workaround to install panoptes from the source (avoid requests incompatibilty)\n",
    "    !pip install git+https://github.com/zooniverse/panoptes-python-client.git\n",
    "\n",
    "    print(\"Restarting runtime to apply package changes...\")\n",
    "    os.kill(os.getpid(), 9)"
   ]
  },
  {
   "cell_type": "markdown",
   "id": "1940bb1d",
   "metadata": {
    "id": "1940bb1d"
   },
   "source": [
    "### Choose your project"
   ]
  },
  {
   "cell_type": "code",
   "execution_count": null,
   "id": "1c1aabda",
   "metadata": {
    "cellView": "form",
    "id": "1c1aabda"
   },
   "outputs": [],
   "source": [
    "project_name = kso_widgets.choose_project()"
   ]
  },
  {
   "cell_type": "markdown",
   "id": "488b4f09",
   "metadata": {
    "id": "488b4f09"
   },
   "source": [
    "### Initiate project's database"
   ]
  },
  {
   "cell_type": "code",
   "execution_count": null,
   "id": "798cc9e1",
   "metadata": {
    "cellView": "form",
    "id": "798cc9e1"
   },
   "outputs": [],
   "source": [
    "# Save the name of the project\n",
    "project = p_utils.find_project(project_name=project_name.value)\n",
    "# Initiate pp\n",
    "pp = ProjectProcessor(project)"
   ]
  },
  {
   "cell_type": "markdown",
   "id": "52f976b8",
   "metadata": {
    "id": "52f976b8"
   },
   "source": [
    "# Review Sites"
   ]
  },
  {
   "cell_type": "markdown",
   "id": "988528fa",
   "metadata": {
    "id": "988528fa"
   },
   "source": [
    "### Map sites and metadata"
   ]
  },
  {
   "cell_type": "code",
   "execution_count": null,
   "id": "J9Dm5_ghmJ3_",
   "metadata": {
    "cellView": "form",
    "id": "J9Dm5_ghmJ3_"
   },
   "outputs": [],
   "source": [
    "pp.map_sites()"
   ]
  },
  {
   "cell_type": "markdown",
   "id": "ZT3fYTkRhJx1",
   "metadata": {
    "id": "ZT3fYTkRhJx1"
   },
   "source": [
    "## Manually update sites metadata"
   ]
  },
  {
   "cell_type": "markdown",
   "id": "f2cc0872",
   "metadata": {
    "id": "f2cc0872"
   },
   "source": [
    "### Select the range of sites to display"
   ]
  },
  {
   "cell_type": "code",
   "execution_count": null,
   "id": "IQmvKQPyLR5d",
   "metadata": {
    "cellView": "form",
    "id": "IQmvKQPyLR5d"
   },
   "outputs": [],
   "source": [
    "sites_df, sites_range_rows, sites_range_columns = pp.select_meta_range(meta_key=\"sites\")"
   ]
  },
  {
   "cell_type": "markdown",
   "id": "a4a34d35",
   "metadata": {
    "id": "a4a34d35"
   },
   "source": [
    "### Update the contents of the cells in the spreadsheet below as needed"
   ]
  },
  {
   "cell_type": "code",
   "execution_count": null,
   "id": "9b01ccf5",
   "metadata": {
    "cellView": "form",
    "id": "9b01ccf5"
   },
   "outputs": [],
   "source": [
    "sites_df_filtered, sites_sheet = kso_widgets.open_csv(\n",
    "    df=sites_df,\n",
    "    df_range_rows=sites_range_rows.value,\n",
    "    df_range_columns=sites_range_columns.value,\n",
    ")\n",
    "\n",
    "sites_sheet"
   ]
  },
  {
   "cell_type": "markdown",
   "id": "c7dc777c",
   "metadata": {
    "id": "c7dc777c"
   },
   "source": [
    "### Review the changes"
   ]
  },
  {
   "cell_type": "code",
   "execution_count": null,
   "id": "n5g_Fiq2qHdt",
   "metadata": {
    "cellView": "form",
    "id": "n5g_Fiq2qHdt"
   },
   "outputs": [],
   "source": [
    "# Display the changes\n",
    "sites_sheet_df = pp.view_meta_changes(df_filtered=sites_df_filtered, sheet=sites_sheet)"
   ]
  },
  {
   "cell_type": "markdown",
   "id": "81f8d3c7",
   "metadata": {
    "id": "81f8d3c7"
   },
   "source": [
    "### Confirm or deny the changes"
   ]
  },
  {
   "cell_type": "code",
   "execution_count": null,
   "id": "H9EQfoINVwFV",
   "metadata": {
    "cellView": "form",
    "id": "H9EQfoINVwFV"
   },
   "outputs": [],
   "source": [
    "# Confirm or deny the changes\n",
    "pp.update_meta(sites_sheet_df, \"sites\")"
   ]
  },
  {
   "cell_type": "markdown",
   "id": "4b134a5c",
   "metadata": {
    "id": "4b134a5c"
   },
   "source": [
    "# Review Movies"
   ]
  },
  {
   "cell_type": "markdown",
   "id": "00941548",
   "metadata": {
    "id": "00941548"
   },
   "source": [
    "### Retrieve info of movies available on the server"
   ]
  },
  {
   "cell_type": "code",
   "execution_count": null,
   "id": "TzPzkdzZwwY9",
   "metadata": {
    "cellView": "form",
    "id": "TzPzkdzZwwY9"
   },
   "outputs": [],
   "source": [
    "pp.get_movie_info()"
   ]
  },
  {
   "cell_type": "markdown",
   "id": "CtTfD4tF6ouw",
   "metadata": {
    "id": "CtTfD4tF6ouw"
   },
   "source": [
    "## Preview movies"
   ]
  },
  {
   "cell_type": "code",
   "execution_count": null,
   "id": "SbN566ha7R6n",
   "metadata": {
    "cellView": "form",
    "id": "SbN566ha7R6n"
   },
   "outputs": [],
   "source": [
    "pp.choose_footage(preview_media=True)"
   ]
  },
  {
   "cell_type": "code",
   "execution_count": null,
   "id": "579916e4",
   "metadata": {
    "id": "579916e4"
   },
   "outputs": [],
   "source": [
    "display(*pp.project.previews)"
   ]
  },
  {
   "cell_type": "markdown",
   "id": "zOyenRrL5oFK",
   "metadata": {
    "id": "zOyenRrL5oFK"
   },
   "source": [
    "## Automatic check of movies metadata"
   ]
  },
  {
   "cell_type": "markdown",
   "id": "64d58da6",
   "metadata": {
    "id": "64d58da6"
   },
   "source": [
    "### Choose the review method"
   ]
  },
  {
   "cell_type": "code",
   "execution_count": null,
   "id": "tgKWLhdx8SmI",
   "metadata": {
    "cellView": "form",
    "id": "tgKWLhdx8SmI"
   },
   "outputs": [],
   "source": [
    "review_method = kso_widgets.choose_movie_review()"
   ]
  },
  {
   "cell_type": "markdown",
   "id": "dd74715d",
   "metadata": {
    "id": "dd74715d"
   },
   "source": [
    "### Specify the GPU availability"
   ]
  },
  {
   "cell_type": "code",
   "execution_count": null,
   "id": "VwD4ZZ1Hnd1x",
   "metadata": {
    "cellView": "form",
    "id": "VwD4ZZ1Hnd1x"
   },
   "outputs": [],
   "source": [
    "gpu_available = kso_widgets.gpu_select()"
   ]
  },
  {
   "cell_type": "markdown",
   "id": "795ca9cb",
   "metadata": {
    "id": "795ca9cb"
   },
   "source": [
    "### Check and update the movies information"
   ]
  },
  {
   "cell_type": "code",
   "execution_count": null,
   "id": "yODAkAPk3zDT",
   "metadata": {
    "cellView": "form",
    "id": "yODAkAPk3zDT"
   },
   "outputs": [],
   "source": [
    "pp.check_movies_meta(\n",
    "    review_method=review_method.value, gpu_available=gpu_available.result\n",
    ")"
   ]
  },
  {
   "cell_type": "markdown",
   "id": "eTe97bOn4790",
   "metadata": {
    "id": "eTe97bOn4790"
   },
   "source": [
    "## Manually update movies metadata"
   ]
  },
  {
   "cell_type": "markdown",
   "id": "02fc6c46",
   "metadata": {
    "id": "02fc6c46"
   },
   "source": [
    "### Select the range of movies to display"
   ]
  },
  {
   "cell_type": "code",
   "execution_count": null,
   "id": "-iWD0Jf547BN",
   "metadata": {
    "cellView": "form",
    "id": "-iWD0Jf547BN"
   },
   "outputs": [],
   "source": [
    "movies_df, movies_range_rows, movies_range_columns = pp.select_meta_range(\n",
    "    meta_key=\"movies\"\n",
    ")"
   ]
  },
  {
   "cell_type": "markdown",
   "id": "7fc0c8f3",
   "metadata": {
    "id": "7fc0c8f3"
   },
   "source": [
    "### Update the contents of the cells in the spreadsheet below as needed"
   ]
  },
  {
   "cell_type": "code",
   "execution_count": null,
   "id": "oOaC2-LE6UHv",
   "metadata": {
    "cellView": "form",
    "id": "oOaC2-LE6UHv"
   },
   "outputs": [],
   "source": [
    "movies_df_filtered, movies_sheet = kso_widgets.open_csv(\n",
    "    df=movies_df,\n",
    "    df_range_rows=movies_range_rows.value,\n",
    "    df_range_columns=movies_range_columns.value,\n",
    ")\n",
    "movies_sheet"
   ]
  },
  {
   "cell_type": "markdown",
   "id": "a6907d4f",
   "metadata": {
    "id": "a6907d4f"
   },
   "source": [
    "### Review the changes"
   ]
  },
  {
   "cell_type": "code",
   "execution_count": null,
   "id": "izEvb7la6K7D",
   "metadata": {
    "cellView": "form",
    "id": "izEvb7la6K7D"
   },
   "outputs": [],
   "source": [
    "movies_sheet_df = pp.view_meta_changes(\n",
    "    df_filtered=movies_df_filtered, sheet=movies_sheet\n",
    ")"
   ]
  },
  {
   "cell_type": "markdown",
   "id": "d62d629d",
   "metadata": {
    "id": "d62d629d"
   },
   "source": [
    "### Confirm or deny the changes"
   ]
  },
  {
   "cell_type": "code",
   "execution_count": null,
   "id": "Kd7Od4VfBln5",
   "metadata": {
    "cellView": "form",
    "id": "Kd7Od4VfBln5"
   },
   "outputs": [],
   "source": [
    "pp.update_meta(movies_sheet_df, \"movies\")"
   ]
  },
  {
   "cell_type": "markdown",
   "id": "tyKSJHRq3kog",
   "metadata": {
    "id": "tyKSJHRq3kog"
   },
   "source": [
    "# Review species"
   ]
  },
  {
   "cell_type": "markdown",
   "id": "f7ab1e66",
   "metadata": {
    "id": "f7ab1e66"
   },
   "source": [
    "### Automatically check the species dataframe"
   ]
  },
  {
   "cell_type": "code",
   "execution_count": null,
   "id": "OTGLqqdjusy5",
   "metadata": {
    "cellView": "form",
    "id": "OTGLqqdjusy5"
   },
   "outputs": [],
   "source": [
    "species_sheet_df = pp.check_species_meta()"
   ]
  },
  {
   "cell_type": "markdown",
   "id": "yKpoX8DUvHDs",
   "metadata": {
    "id": "yKpoX8DUvHDs"
   },
   "source": [
    "## Manually update species dataframe"
   ]
  },
  {
   "cell_type": "markdown",
   "id": "68a13491",
   "metadata": {
    "id": "68a13491"
   },
   "source": [
    "### Select the range of species to display"
   ]
  },
  {
   "cell_type": "code",
   "execution_count": null,
   "id": "b78b2738",
   "metadata": {
    "cellView": "form",
    "id": "b78b2738"
   },
   "outputs": [],
   "source": [
    "species_df, species_range_rows, species_range_columns = pp.select_meta_range(\n",
    "    meta_key=\"species\"\n",
    ")"
   ]
  },
  {
   "cell_type": "markdown",
   "id": "71af5650",
   "metadata": {
    "id": "71af5650"
   },
   "source": [
    "### Update the contents of the cells in the spreadsheet below as needed"
   ]
  },
  {
   "cell_type": "code",
   "execution_count": null,
   "id": "zvl2ZNO5vXYi",
   "metadata": {
    "cellView": "form",
    "id": "zvl2ZNO5vXYi"
   },
   "outputs": [],
   "source": [
    "species_df_filtered, species_sheet = kso_widgets.open_csv(\n",
    "    df=species_df,\n",
    "    df_range_rows=species_range_rows.value,\n",
    "    df_range_columns=species_range_columns.value,\n",
    ")\n",
    "species_sheet"
   ]
  },
  {
   "cell_type": "markdown",
   "id": "a662bb0a",
   "metadata": {
    "id": "a662bb0a"
   },
   "source": [
    "### Review the changes"
   ]
  },
  {
   "cell_type": "code",
   "execution_count": null,
   "id": "Niq_2WZlvlE9",
   "metadata": {
    "cellView": "form",
    "id": "Niq_2WZlvlE9"
   },
   "outputs": [],
   "source": [
    "species_sheet_df = pp.view_meta_changes(\n",
    "    df_filtered=species_df_filtered, sheet=species_sheet\n",
    ")"
   ]
  },
  {
   "cell_type": "markdown",
   "id": "684a4c6e",
   "metadata": {
    "id": "684a4c6e"
   },
   "source": [
    "### Confirm or deny the changes"
   ]
  },
  {
   "cell_type": "code",
   "execution_count": null,
   "id": "cGHj7CkKuhcC",
   "metadata": {
    "cellView": "form",
    "id": "cGHj7CkKuhcC"
   },
   "outputs": [],
   "source": [
    "pp.update_meta(species_sheet_df, \"species\")"
   ]
  },
  {
   "cell_type": "code",
   "execution_count": null,
   "id": "5fc74ec0",
   "metadata": {
    "id": "5fc74ec0"
   },
   "outputs": [],
   "source": [
    "# END"
   ]
  }
 ],
 "metadata": {
  "colab": {
   "provenance": []
  },
  "kernelspec": {
   "display_name": "Python 3 (ipykernel)",
   "language": "python",
   "name": "python3"
  },
  "language_info": {
   "codemirror_mode": {
    "name": "ipython",
    "version": 3
   },
   "file_extension": ".py",
   "mimetype": "text/x-python",
   "name": "python",
   "nbconvert_exporter": "python",
   "pygments_lexer": "ipython3",
   "version": "3.11.7"
  },
  "vscode": {
   "interpreter": {
    "hash": "9f0064b85a3bc365415745ead9abb78ac240c43fe3a2a9861333bea64f4ce941"
   }
  }
 },
 "nbformat": 4,
 "nbformat_minor": 5
}
