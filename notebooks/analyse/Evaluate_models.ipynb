{
 "cells": [
  {
   "cell_type": "markdown",
   "id": "hawaiian-ratio",
   "metadata": {
    "id": "hawaiian-ratio"
   },
   "source": [
    "<img align=\"left\" src=\"https://panoptes-uploads.zooniverse.org/project_avatar/86c23ca7-bbaa-4e84-8d8a-876819551431.png\" type=\"image/png\" height=100 width=100>\n",
    "</img>\n",
    "<h1 align=\"right\">Evaluate machine learning models</h1>\n",
    "<h3 align=\"right\"><a href=\"https://colab.research.google.com/github/ocean-data-factory-sweden/kso/blob/main/notebooks/analyse/Evaluate_models.ipynb\" target=\"_parent\"><img src=\"https://colab.research.google.com/assets/colab-badge.svg\" alt=\"Open In Colab\"/></a></h3>\n",
    "<h3 align=\"right\">Written by the KSO Team</h3>"
   ]
  },
  {
   "cell_type": "markdown",
   "id": "recovered-hamburg",
   "metadata": {
    "id": "recovered-hamburg"
   },
   "source": [
    "# Set up KSO requirements"
   ]
  },
  {
   "cell_type": "markdown",
   "id": "fe8756c2",
   "metadata": {
    "id": "fe8756c2"
   },
   "source": [
    "### Install all the requirements"
   ]
  },
  {
   "cell_type": "markdown",
   "id": "d7fa5e69",
   "metadata": {
    "id": "d7fa5e69"
   },
   "source": [
    "Installing the requirements in Google Colab takes ~4 mins and might automatically crash/restart the session. Please run this cell until you get the \"KSO successfully imported!\" message."
   ]
  },
  {
   "cell_type": "code",
   "execution_count": null,
   "id": "ab2bc392",
   "metadata": {
    "id": "ab2bc392"
   },
   "outputs": [],
   "source": [
    "%matplotlib inline\n",
    "\n",
    "def initiate_dev_version():\n",
    "    kso_path = os.path.abspath(os.path.join(os.getcwd(), \"../..\"))\n",
    "    if os.path.isdir(os.path.join(kso_path, \"kso_utils\")):\n",
    "        sys.path.insert(0, kso_path)\n",
    "        %load_ext autoreload\n",
    "        %autoreload 2\n",
    "        print(\"Development mode ON - kso-utils added to the system.\")\n",
    "    else:\n",
    "        raise FileNotFoundError(\"kso_utils directory not found in the expected path.\")\n",
    "\n",
    "def install_kso_utils():\n",
    "    !pip install -q kso-utils\n",
    "    # Temporary workaround to install panoptes from the source (avoid requests incompatibility)\n",
    "    !pip install git+https://github.com/zooniverse/panoptes-python-client.git\n",
    "    print(\"Restarting runtime to apply package changes...\")\n",
    "    os.kill(os.getpid(), 9)\n",
    "\n",
    "try:\n",
    "    import kso_utils.widgets as kso_widgets\n",
    "    import kso_utils.project_utils as p_utils\n",
    "    import kso_utils.yolo_utils as y_utils\n",
    "    from kso_utils.project import ProjectProcessor, MLProjectProcessor\n",
    "    print(\"KSO successfully imported!\")\n",
    "except Exception as e:\n",
    "    print(f\"Error importing kso modules: {e}\")\n",
    "    try:\n",
    "        initiate_dev_version()\n",
    "        import kso_utils.widgets as kso_widgets\n",
    "        import kso_utils.project_utils as p_utils\n",
    "        import kso_utils.yolo_utils as y_utils\n",
    "        from kso_utils.project import ProjectProcessor, MLProjectProcessor\n",
    "        print(\"KSO successfully imported!\")\n",
    "    except Exception as e:\n",
    "        install_kso_utils()"
   ]
  },
  {
   "cell_type": "markdown",
   "id": "4085ec1a",
   "metadata": {
    "id": "4085ec1a"
   },
   "source": [
    "### Choose your project"
   ]
  },
  {
   "cell_type": "code",
   "execution_count": null,
   "id": "incident-surveillance",
   "metadata": {
    "id": "incident-surveillance"
   },
   "outputs": [],
   "source": [
    "project_name = kso_widgets.choose_project()"
   ]
  },
  {
   "cell_type": "markdown",
   "id": "23a54ce6",
   "metadata": {
    "id": "23a54ce6"
   },
   "source": [
    "### Initiate project's database"
   ]
  },
  {
   "cell_type": "code",
   "execution_count": null,
   "id": "4d3e1b35",
   "metadata": {
    "id": "4d3e1b35"
   },
   "outputs": [],
   "source": [
    "# Find project\n",
    "project = p_utils.find_project(project_name=project_name.value)\n",
    "# Initialise pp\n",
    "pp = ProjectProcessor(project)"
   ]
  },
  {
   "cell_type": "code",
   "execution_count": null,
   "id": "5bbe9710",
   "metadata": {
    "id": "5bbe9710"
   },
   "outputs": [],
   "source": [
    "# Initialise mlp\n",
    "mlp = MLProjectProcessor(pp)"
   ]
  },
  {
   "cell_type": "markdown",
   "id": "1d3f913f",
   "metadata": {
    "id": "1d3f913f"
   },
   "source": [
    "# Evaluate model on custom footage"
   ]
  },
  {
   "cell_type": "markdown",
   "id": "d5ece376",
   "metadata": {
    "id": "d5ece376"
   },
   "source": [
    "### Choose the model"
   ]
  },
  {
   "cell_type": "code",
   "execution_count": null,
   "id": "c41909d3",
   "metadata": {
    "id": "c41909d3"
   },
   "outputs": [],
   "source": [
    "model = mlp.choose_model()"
   ]
  },
  {
   "cell_type": "markdown",
   "id": "53aa7102",
   "metadata": {
    "id": "53aa7102"
   },
   "source": [
    "### Choose folder to download the model"
   ]
  },
  {
   "cell_type": "code",
   "execution_count": null,
   "id": "2456b57b",
   "metadata": {
    "id": "2456b57b"
   },
   "outputs": [],
   "source": [
    "download_dir = kso_widgets.choose_folder(\".\", \"where to download the model\")"
   ]
  },
  {
   "cell_type": "markdown",
   "id": "9e7324dc",
   "metadata": {
    "id": "9e7324dc"
   },
   "source": [
    "### Download model"
   ]
  },
  {
   "cell_type": "code",
   "execution_count": null,
   "id": "842d5de0",
   "metadata": {
    "id": "842d5de0"
   },
   "outputs": [],
   "source": [
    "artifact_dir = mlp.get_model(model.value, download_dir.selected)"
   ]
  },
  {
   "cell_type": "markdown",
   "id": "1d06b360",
   "metadata": {
    "id": "1d06b360"
   },
   "source": [
    "### Choose the footage to run the models into"
   ]
  },
  {
   "cell_type": "code",
   "execution_count": null,
   "id": "82d55b6f",
   "metadata": {
    "id": "82d55b6f"
   },
   "outputs": [],
   "source": [
    "pp.choose_footage_source()"
   ]
  },
  {
   "cell_type": "code",
   "execution_count": null,
   "id": "d8bfd7a2",
   "metadata": {
    "id": "d8bfd7a2"
   },
   "outputs": [],
   "source": [
    "pp.choose_footage()"
   ]
  },
  {
   "cell_type": "markdown",
   "id": "boxed-gateway",
   "metadata": {
    "id": "boxed-gateway"
   },
   "source": [
    "### Choose a confidence threshold for evaluation"
   ]
  },
  {
   "cell_type": "code",
   "execution_count": null,
   "id": "23b984ea",
   "metadata": {
    "id": "23b984ea"
   },
   "outputs": [],
   "source": [
    "conf_thres = kso_widgets.choose_conf()"
   ]
  },
  {
   "cell_type": "markdown",
   "id": "0ca159c6",
   "metadata": {
    "id": "0ca159c6"
   },
   "source": [
    "## Choose a suitable experiment name"
   ]
  },
  {
   "cell_type": "code",
   "execution_count": null,
   "id": "0457fccd",
   "metadata": {
    "id": "0457fccd"
   },
   "outputs": [],
   "source": [
    "exp_name = kso_widgets.choose_experiment_name()"
   ]
  },
  {
   "cell_type": "markdown",
   "id": "c773ef4e",
   "metadata": {
    "id": "c773ef4e"
   },
   "source": [
    "### Choose a suitable folder to store model output"
   ]
  },
  {
   "cell_type": "code",
   "execution_count": null,
   "id": "7cdc89e8",
   "metadata": {
    "id": "7cdc89e8"
   },
   "outputs": [],
   "source": [
    "save_dir = kso_widgets.choose_folder(\".\", \"where to store model output\")"
   ]
  },
  {
   "cell_type": "markdown",
   "id": "c10069d6",
   "metadata": {
    "id": "c10069d6"
   },
   "source": [
    "### Run model over selected custom footage"
   ]
  },
  {
   "cell_type": "code",
   "execution_count": null,
   "id": "dc8a198a",
   "metadata": {
    "id": "dc8a198a"
   },
   "outputs": [],
   "source": [
    "# Ensure the selected footage and paths are loaded to the system\n",
    "pp.check_selected_movies()\n",
    "\n",
    "# Get the paths of the movies selected\n",
    "mlp.detect_yolo(\n",
    "    save_dir=save_dir.selected,\n",
    "    conf_thres=conf_thres.value,\n",
    "    artifact_dir=artifact_dir,\n",
    "    save_output=True,\n",
    "    project=mlp.project_name,\n",
    "    name=exp_name.value,\n",
    "    model=model.value,\n",
    "    latest=False,\n",
    "    source=(\n",
    "        pp.selected_movies_paths\n",
    "        if isinstance(pp.selected_movies_paths, str)\n",
    "        else pp.selected_movies_paths[0]\n",
    "    ),\n",
    ")"
   ]
  },
  {
   "cell_type": "markdown",
   "id": "5baff93f",
   "metadata": {
    "id": "5baff93f"
   },
   "source": [
    "### View model output"
   ]
  },
  {
   "cell_type": "code",
   "execution_count": null,
   "id": "890ce983",
   "metadata": {
    "id": "890ce983",
    "scrolled": true
   },
   "outputs": [],
   "source": [
    "viewer = y_utils.choose_files(mlp.eval_dir)"
   ]
  },
  {
   "cell_type": "markdown",
   "id": "4d2f9b02",
   "metadata": {
    "id": "4d2f9b02"
   },
   "source": [
    "### Investigate training and validation datasets (only image data)"
   ]
  },
  {
   "cell_type": "code",
   "execution_count": null,
   "id": "60a2a99f",
   "metadata": {
    "id": "60a2a99f"
   },
   "outputs": [],
   "source": [
    "train_dataset, val_dataset = mlp.get_dataset(model.value)"
   ]
  },
  {
   "cell_type": "code",
   "execution_count": null,
   "id": "aef76ac9",
   "metadata": {
    "id": "aef76ac9"
   },
   "outputs": [],
   "source": [
    "# Training set\n",
    "y_utils.get_data_viewer(os.path.join(train_dataset, \"data/images\"))"
   ]
  },
  {
   "cell_type": "code",
   "execution_count": null,
   "id": "d02c6f3b",
   "metadata": {
    "id": "d02c6f3b"
   },
   "outputs": [],
   "source": [
    "# Validation set\n",
    "y_utils.get_data_viewer(os.path.join(val_dataset, \"data/images\"))"
   ]
  },
  {
   "cell_type": "markdown",
   "id": "0da9e74f",
   "metadata": {
    "id": "0da9e74f"
   },
   "source": [
    "# Track unique individuals (Optional)"
   ]
  },
  {
   "cell_type": "code",
   "execution_count": null,
   "id": "f82d34e6",
   "metadata": {
    "id": "f82d34e6"
   },
   "outputs": [],
   "source": [
    "mlp.track_individuals(\n",
    "    name=mlp.project_name,\n",
    "    source=pp.selected_movies_paths,\n",
    "    artifact_dir=artifact_dir,\n",
    "    conf_thres=conf_thres.value,\n",
    "    img_size=(640, 640),\n",
    ")"
   ]
  },
  {
   "cell_type": "markdown",
   "id": "f6e96a78",
   "metadata": {
    "id": "f6e96a78"
   },
   "source": [
    "# (Optional) Clean noisy tracking output"
   ]
  },
  {
   "cell_type": "code",
   "execution_count": null,
   "id": "06b8f478",
   "metadata": {
    "id": "06b8f478"
   },
   "outputs": [],
   "source": [
    "# Choose another evaluation directory\n",
    "mlp.eval_dir = kso_widgets.choose_folder(\".\", \"tracking folder\")"
   ]
  },
  {
   "cell_type": "code",
   "execution_count": null,
   "id": "6060fa58",
   "metadata": {
    "id": "6060fa58"
   },
   "outputs": [],
   "source": [
    "y_utils.adjust_tracking(\n",
    "    tracking_folder=mlp.eval_dir.selected,\n",
    "    avg_diff_frames=90,\n",
    "    min_frames_length=90,\n",
    "    plot_result=True,\n",
    ")"
   ]
  },
  {
   "cell_type": "code",
   "execution_count": null,
   "id": "racial-richardson",
   "metadata": {
    "id": "racial-richardson"
   },
   "outputs": [],
   "source": [
    "# END"
   ]
  }
 ],
 "metadata": {
  "colab": {
   "provenance": []
  },
  "kernelspec": {
   "display_name": "Python 3 (ipykernel)",
   "language": "python",
   "name": "python3"
  },
  "language_info": {
   "codemirror_mode": {
    "name": "ipython",
    "version": 3
   },
   "file_extension": ".py",
   "mimetype": "text/x-python",
   "name": "python",
   "nbconvert_exporter": "python",
   "pygments_lexer": "ipython3",
   "version": "3.8.19"
  }
 },
 "nbformat": 4,
 "nbformat_minor": 5
}
