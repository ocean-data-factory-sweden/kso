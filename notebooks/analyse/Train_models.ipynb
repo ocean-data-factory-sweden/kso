{
 "cells": [
  {
   "cell_type": "markdown",
   "metadata": {
    "id": "ndyiMLRu0DKX"
   },
   "source": [
    "<img align=\"left\" src=\"https://panoptes-uploads.zooniverse.org/project_avatar/86c23ca7-bbaa-4e84-8d8a-876819551431.png\" type=\"image/png\" height=100 width=100>\n",
    "</img>\n",
    "<h1 align=\"right\">Train ML models</h1>\n",
    "<h3 align=\"right\"><a href=\"https://colab.research.google.com/github/ocean-data-factory-sweden/kso/blob/main/notebooks/analyse/Train_models.ipynb\" target=\"_parent\"><img src=\"https://colab.research.google.com/assets/colab-badge.svg\" alt=\"Open In Colab\"/></a></h3>\n",
    "<h3 align=\"right\">Written by the KSO Team</h3>"
   ]
  },
  {
   "cell_type": "markdown",
   "metadata": {
    "id": "6PSmaig62oa5"
   },
   "source": [
    "This notebook takes you through the process of importing a baseline model, training it on a dataset and evaluating the quality of the model. If you do not have a project with us yet, you can run the template project to get a taste of how it all works. This notebook assumes that the user has prepared the dataset for model training, see Tutorial #8 for details on the required setup.\n",
    "\n",
    "🔴 <span style=\"color:red\">&nbsp;NOTE: In order to run this notebook, you need to have a Weights and Biases account. If you want to become a member of our Koster team on Weights and Biases, you may request this access by contacting jurie.germishuys@combine.se. But this is not necessary to run the template project. </span>"
   ]
  },
  {
   "cell_type": "markdown",
   "metadata": {
    "id": "ZnLWmifv0DKf"
   },
   "source": [
    "# Set up KSO requirements"
   ]
  },
  {
   "cell_type": "markdown",
   "metadata": {
    "id": "AzQrwtLa0DKh"
   },
   "source": [
    "### Install requirements and load KSO modules"
   ]
  },
  {
   "cell_type": "markdown",
   "metadata": {
    "id": "TddTKfkum-tA"
   },
   "source": [
    "Installing the requirements in Google Colab takes ~4 mins and might automatically crash/restart the session. Please run this cell until you get the \"KSO successfully imported!\" message."
   ]
  },
  {
   "cell_type": "code",
   "execution_count": null,
   "metadata": {
    "id": "XBAYWXcp0DKi"
   },
   "outputs": [],
   "source": [
    "%matplotlib inline\n",
    "import os\n",
    "import sys\n",
    "\n",
    "\n",
    "def initiate_dev_version():\n",
    "    kso_path = os.path.abspath(os.path.join(os.getcwd(), \"../..\"))\n",
    "    if os.path.isdir(os.path.join(kso_path, \"kso_utils\")):\n",
    "        sys.path.insert(0, kso_path)\n",
    "        %load_ext autoreload\n",
    "        %autoreload 2\n",
    "        print(\"Development mode ON - kso-utils added to the system.\")\n",
    "    else:\n",
    "        raise FileNotFoundError(\"kso_utils directory not found in the expected path.\")\n",
    "\n",
    "\n",
    "def install_kso_utils():\n",
    "    !pip install -q kso-utils\n",
    "    # Temporary workaround to install panoptes from the source (avoid requests incompatibility)\n",
    "    !pip install git+https://github.com/zooniverse/panoptes-python-client.git\n",
    "    print(\"Restarting runtime to apply package changes...\")\n",
    "    os.kill(os.getpid(), 9)\n",
    "\n",
    "\n",
    "try:\n",
    "    import kso_utils.widgets as kso_widgets\n",
    "    import kso_utils.project_utils as p_utils\n",
    "    import kso_utils.server_utils as s_utils\n",
    "    import kso_utils.yolo_utils as y_utils\n",
    "    from kso_utils.project import ProjectProcessor, MLProjectProcessor\n",
    "    from ipyfilechooser import FileChooser\n",
    "    from IPython.display import display\n",
    "    \n",
    "    print(\"KSO successfully imported!\")\n",
    "except Exception as e:\n",
    "    print(f\"Error importing kso modules: {e}\")\n",
    "    try:\n",
    "        initiate_dev_version()\n",
    "            import kso_utils.widgets as kso_widgets\n",
    "            import kso_utils.project_utils as p_utils\n",
    "            import kso_utils.server_utils as s_utils\n",
    "            import kso_utils.yolo_utils as y_utils\n",
    "            from kso_utils.project import ProjectProcessor, MLProjectProcessor\n",
    "            from ipyfilechooser import FileChooser\n",
    "            from IPython.display import display\n",
    "\n",
    "\n",
    "        print(\"KSO successfully imported!\")\n",
    "    except Exception as e:\n",
    "        install_kso_utils()"
   ]
  },
  {
   "cell_type": "markdown",
   "metadata": {
    "id": "ZZWAWkVZzfGr"
   },
   "source": [
    "### Choose your project"
   ]
  },
  {
   "cell_type": "code",
   "execution_count": null,
   "metadata": {
    "id": "ZI0XH96WzfGs"
   },
   "outputs": [],
   "source": [
    "project_name = kso_widgets.choose_project()"
   ]
  },
  {
   "cell_type": "markdown",
   "metadata": {
    "id": "QeYs2gMIm-tF"
   },
   "source": [
    "### Initiate project's database"
   ]
  },
  {
   "cell_type": "code",
   "execution_count": null,
   "metadata": {
    "id": "DqyAffdzm-tF"
   },
   "outputs": [],
   "source": [
    "# Find project\n",
    "project = p_utils.find_project(project_name=project_name.value)\n",
    "# Initialise pp\n",
    "pp = ProjectProcessor(project)"
   ]
  },
  {
   "cell_type": "code",
   "execution_count": null,
   "metadata": {
    "id": "bZcAz9Xcm-tF"
   },
   "outputs": [],
   "source": [
    "# Initiate mlp\n",
    "mlp = MLProjectProcessor(pp)"
   ]
  },
  {
   "cell_type": "code",
   "execution_count": null,
   "metadata": {
    "id": "WWaoapru0DKr"
   },
   "outputs": [],
   "source": [
    "# Only for Template Project (downloading prepared data)\n",
    "s_utils.get_ml_data(project)"
   ]
  },
  {
   "cell_type": "markdown",
   "metadata": {
    "id": "mcFpT7njzfGw"
   },
   "source": [
    "# Train the model"
   ]
  },
  {
   "cell_type": "markdown",
   "metadata": {
    "id": "m7EK4BXjzfGu"
   },
   "source": [
    "### Configure data paths"
   ]
  },
  {
   "cell_type": "markdown",
   "metadata": {
    "id": "ex5GT5Yh441Q"
   },
   "source": [
    "If you are running the Template project, the output_folder that you want to select is the ml-template-data. The path to this folder is printed in the cell above. For any other project, it is the folder where you have saved your data."
   ]
  },
  {
   "cell_type": "code",
   "execution_count": null,
   "metadata": {
    "id": "HvaEo7mjzfGv"
   },
   "outputs": [],
   "source": [
    "# Specify path containing the images and labels folders.\n",
    "mlp.output_path = kso_widgets.choose_folder(\n",
    "    project.photo_folder if not project.photo_folder == \"None\" else \".\", \"output\"\n",
    ")"
   ]
  },
  {
   "cell_type": "markdown",
   "metadata": {
    "id": "015UUPk20DKt"
   },
   "source": [
    "🔴 <span style=\"color:red\">&nbsp;NOTE: Each model type requires a specific folder structure to be in place. To be able to train your own Object Detection models, your data_path must contain a yml file for data and hyperparameters. See https://github.com/ultralytics/yolov5/wiki/Train-Custom-Data#11-create-datasetyaml. For image classification models, there should be 3 folders (train, val, test) each containing images in class_name folders. For segmentation models, polygon coordinates are also required. </span>"
   ]
  },
  {
   "cell_type": "code",
   "execution_count": null,
   "metadata": {
    "id": "Jt2PIFLdzfGw"
   },
   "outputs": [],
   "source": [
    "# Fix important paths\n",
    "mlp.setup_paths()"
   ]
  },
  {
   "cell_type": "markdown",
   "metadata": {
    "id": "abOQdClg0DKu"
   },
   "source": [
    "### Choose a suitable experiment name"
   ]
  },
  {
   "cell_type": "code",
   "execution_count": null,
   "metadata": {
    "id": "XzclVxY70DKu"
   },
   "outputs": [],
   "source": [
    "exp_name = kso_widgets.choose_experiment_name()"
   ]
  },
  {
   "cell_type": "markdown",
   "metadata": {
    "id": "rTb9DFFWzfGw"
   },
   "source": [
    "### Choose model to use for training"
   ]
  },
  {
   "cell_type": "markdown",
   "metadata": {
    "id": "AfQGfcMs5u1E"
   },
   "source": [
    "In the next cell you will specify the folder (can be any folder of choice) where you want to download the baseline model to, which you will select in the cell after. This baseline model will be used as the starting point for the training."
   ]
  },
  {
   "cell_type": "code",
   "execution_count": null,
   "metadata": {
    "id": "gDUZt0tf0DKu"
   },
   "outputs": [],
   "source": [
    "# Specify path to download baseline model\n",
    "download_folder = kso_widgets.choose_folder(\n",
    "    project.photo_folder if not project.photo_folder == \"None\" else \".\",\n",
    "    \"model download\",\n",
    ")"
   ]
  },
  {
   "cell_type": "code",
   "execution_count": null,
   "metadata": {
    "id": "Ovi-PKC60DKv"
   },
   "outputs": [],
   "source": [
    "weights = mlp.choose_baseline_model(download_folder.selected)"
   ]
  },
  {
   "cell_type": "markdown",
   "metadata": {
    "id": "zMWSPHTt0DKv"
   },
   "source": [
    "### Train model with given configuration"
   ]
  },
  {
   "cell_type": "markdown",
   "metadata": {
    "id": "HNQELgtzBQNR"
   },
   "source": [
    "The cell below will ask you which batch size and how many epochs you want to use during training. There are no strict rules for this and the best settings will depend on the choice of GPU and some randomness that we have encountered while training models. Therefore it will be some trial and error. As a starting point we advice to use a batch size of 8. For smaller datasets, we have experienced that 50-100 epochs has been sufficient to get good performance on the model (metrics that have reached a plateau), but to not overfit to the training set."
   ]
  },
  {
   "cell_type": "code",
   "execution_count": null,
   "metadata": {
    "id": "qBIYSeFH0DKv"
   },
   "outputs": [],
   "source": [
    "batch_size, epochs, img_h, img_w = mlp.choose_train_params()"
   ]
  },
  {
   "cell_type": "code",
   "execution_count": null,
   "metadata": {
    "id": "43Um1iSVCG3u"
   },
   "outputs": [],
   "source": [
    "# Give your WandB username, or team name where you want to sent the runs to.\n",
    "# If you are part of the koster project, you can keep the default 'koster'.\n",
    "entity = mlp.choose_entity(alt_name=False)"
   ]
  },
  {
   "cell_type": "code",
   "execution_count": null,
   "metadata": {
    "id": "zH1lfkiLm-tJ"
   },
   "outputs": [],
   "source": [
    "mlp.train_yolo(\n",
    "    exp_name=exp_name.value,\n",
    "    weights=weights.artifact_path,\n",
    "    project=mlp.project_name,\n",
    "    epochs=epochs.value,\n",
    "    batch_size=batch_size.value,\n",
    "    img_size=img_h.value,  # this requires an int\n",
    ")"
   ]
  },
  {
   "cell_type": "markdown",
   "metadata": {
    "id": "PRXru5arzfGw"
   },
   "source": [
    "# Evaluate model performance"
   ]
  },
  {
   "cell_type": "markdown",
   "metadata": {
    "id": "jYD0QFv9D0Td"
   },
   "source": [
    "The model is now done with training. To see the loss, precision, recall and some other parameters per training epoch, click on the link in the previous cell. Here you can see your run in Weights and Biases. To evaluate the resulting model, please run the cells below. These execute the standard evaluation process from YOLO.\n",
    "\n",
    "For a biological evaluation of the model, please see Notebook 6."
   ]
  },
  {
   "cell_type": "code",
   "execution_count": null,
   "metadata": {
    "id": "y3CI42sI0DKw"
   },
   "outputs": [],
   "source": [
    "conf_thres = kso_widgets.choose_eval_params()"
   ]
  },
  {
   "cell_type": "code",
   "execution_count": null,
   "metadata": {
    "id": "Erw0xEw3zfGw"
   },
   "outputs": [],
   "source": [
    "# Choose model: The folder you want to select for eval_model is the folder with your experiment_name.\n",
    "eval_model = FileChooser(\".\")\n",
    "display(eval_model)"
   ]
  },
  {
   "cell_type": "markdown",
   "metadata": {
    "id": "j20Vv9JQaFcW"
   },
   "source": [
    "When you run the cell below, you will get some numbers logged on the screen, and 3 files that are stored in the folder 'your_experiment_name'_val.\n",
    "\n",
    "The numbers logged on the screen represent the following:\n",
    "* The first 7 numbers are the: mean precision, mean recal, mean average precision calculated at IOU threshold 0.5 (map@0.5), the mean average precision calculated at different IOU thresholds of 0.5-0.95 with steps of 0.05 (map@0.5:0.95) and then 3 training losses based on predicting the box, object or class.\n",
    "* The array gives the ap@0.5 per class.\n",
    "* The last 3 numbers are the same as the numbers that are already printed in a line above, where it says 'Speed: … ms per....'"
   ]
  },
  {
   "cell_type": "code",
   "execution_count": null,
   "metadata": {
    "id": "_Dx9tD3bzfGx"
   },
   "outputs": [],
   "source": [
    "# Evaluate YOLO Model on Unseen Test data\n",
    "mlp.eval_yolo(exp_name=exp_name.value, conf_thres=conf_thres.value)"
   ]
  },
  {
   "cell_type": "markdown",
   "metadata": {
    "id": "5VGC_NMazfGx"
   },
   "source": [
    "# (Optional) : Enhance annotations using trained model"
   ]
  },
  {
   "cell_type": "markdown",
   "metadata": {
    "id": "2aAs-KOU0DKx"
   },
   "source": [
    "Enhancement uses the trained model to increase the amount of annotations in the training data. This should only be done in cases where it is absolutely necessary as bad predictions lead to worse predictions when used to train the next iteration of the model.\n",
    "\n",
    "\n",
    "🔴 <span style=\"color:red\">&nbsp;NOTE: We recommend using a relatively high confidence threshold when enhancing trained models as low confidence predictions could significantly impact the quality of your annotated data. This is currently only available for object detection models.  </span>"
   ]
  },
  {
   "cell_type": "code",
   "execution_count": null,
   "metadata": {
    "id": "AeCPV09V0DKy"
   },
   "outputs": [],
   "source": [
    "eh_conf_thres = kso_widgets.choose_eval_params()"
   ]
  },
  {
   "cell_type": "code",
   "execution_count": null,
   "metadata": {
    "id": "6uRvr2nTm-tS"
   },
   "outputs": [],
   "source": [
    "# Choose an input path\n",
    "input_path = FileChooser(mlp.project_name)\n",
    "display(input_path)"
   ]
  },
  {
   "cell_type": "code",
   "execution_count": null,
   "metadata": {
    "id": "Itu2UVVim-tT"
   },
   "outputs": [],
   "source": [
    "# Find the project path\n",
    "project_path = FileChooser(mlp.project_name)\n",
    "display(project_path)"
   ]
  },
  {
   "cell_type": "code",
   "execution_count": null,
   "metadata": {
    "id": "M7kV7K2EzfGx"
   },
   "outputs": [],
   "source": [
    "mlp.enhance_yolo(\n",
    "    in_path=input_path.selected,\n",
    "    project_path=project_path.selected,\n",
    "    conf_thres=eh_conf_thres.value,\n",
    "    img_size=[640, 640],\n",
    ")"
   ]
  },
  {
   "cell_type": "markdown",
   "metadata": {
    "id": "NYprwoWN0DKy"
   },
   "source": [
    "### Choose run to use as enhanced annotations"
   ]
  },
  {
   "cell_type": "code",
   "execution_count": null,
   "metadata": {
    "id": "67uHzz1TzfGx"
   },
   "outputs": [],
   "source": [
    "runs = FileChooser(\".\")\n",
    "display(runs)"
   ]
  },
  {
   "cell_type": "code",
   "execution_count": null,
   "metadata": {
    "id": "h-sCJ8FZzfGx"
   },
   "outputs": [],
   "source": [
    "# Move enhanced annotations to original run folder (NB: This will replace the original annotations)\n",
    "mlp.enhance_replace(runs.selected)"
   ]
  },
  {
   "cell_type": "markdown",
   "metadata": {
    "id": "Aw0uBxYV0DKy"
   },
   "source": [
    "#### Once you have moved the new labels to the original label location, you can return to Step 2 and train your model again."
   ]
  },
  {
   "cell_type": "code",
   "execution_count": null,
   "metadata": {
    "id": "8umCRoDozfGx"
   },
   "outputs": [],
   "source": [
    "# END"
   ]
  }
 ],
 "metadata": {
  "colab": {
   "name": "Train_YOLO_models.ipynb",
   "provenance": []
  },
  "kernelspec": {
   "display_name": "Python 3 (ipykernel)",
   "language": "python",
   "name": "python3"
  },
  "language_info": {
   "codemirror_mode": {
    "name": "ipython",
    "version": 3
   },
   "file_extension": ".py",
   "mimetype": "text/x-python",
   "name": "python",
   "nbconvert_exporter": "python",
   "pygments_lexer": "ipython3",
   "version": "3.8.19"
  }
 },
 "nbformat": 4,
 "nbformat_minor": 4
}
