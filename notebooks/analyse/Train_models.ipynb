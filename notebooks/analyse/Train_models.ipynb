{
 "cells": [
  {
   "cell_type": "markdown",
   "metadata": {
    "id": "ndyiMLRu0DKX"
   },
   "source": [
    "<img align=\"left\" src=\"https://panoptes-uploads.zooniverse.org/project_avatar/86c23ca7-bbaa-4e84-8d8a-876819551431.png\" type=\"image/png\" height=100 width=100>\n",
    "</img>\n",
    "<h1 align=\"right\">KSO Notebook #5: Train ML models</h1>\n",
    "<h3 align=\"right\"><a href=\"https://colab.research.google.com/github/ocean-data-factory-sweden/kso/blob/main/notebooks/05_Train_ML_models.ipynb\" target=\"_parent\"><img src=\"https://colab.research.google.com/assets/colab-badge.svg\" alt=\"Open In Colab\"/></a></h3>\n",
    "<h3 align=\"right\">Written by the KSO Team</h3>"
   ]
  },
  {
   "cell_type": "markdown",
   "metadata": {
    "id": "6PSmaig62oa5"
   },
   "source": [
    "This notebook takes you through the process of importing a baseline model, training it on a dataset and evaluating the quality of the model. If you do not have a project with us yet, you can run the template project to get a taste of how it all works. This notebook assumes that the user has prepared the dataset for model training, see Tutorial #8 for details on the required setup.\n",
    "\n",
    "🔴 <span style=\"color:red\">&nbsp;NOTE: In order to run this notebook, you need to have a Weights and Biases account. If you want to become a member of our Koster team on Weights and Biases, you may request this access by contacting jurie.germishuys@combine.se. But this is not necessary to run the template project. </span>"
   ]
  },
  {
   "cell_type": "markdown",
   "metadata": {
    "id": "ZnLWmifv0DKf"
   },
   "source": [
    "# Set up KSO requirements"
   ]
  },
  {
   "cell_type": "markdown",
   "metadata": {
    "id": "AzQrwtLa0DKh"
   },
   "source": [
    "### Install all the requirements"
   ]
  },
  {
   "cell_type": "markdown",
   "metadata": {
    "id": "TddTKfkum-tA"
   },
   "source": [
    "Installing the requirements in Google Colab takes ~4 mins and might automatically crash/restart the session. Please run this cell until you get the \"Successful installation!\" message."
   ]
  },
  {
   "cell_type": "code",
   "execution_count": 1,
   "metadata": {
    "id": "XBAYWXcp0DKi"
   },
   "outputs": [
    {
     "name": "stdout",
     "output_type": "stream",
     "text": [
      "Successful installation... you're good to go!\n"
     ]
    }
   ],
   "source": [
    "import sys\n",
    "import os\n",
    "\n",
    "# Check if notebook is running in colab\n",
    "IN_COLAB = \"google.colab\" in sys.modules\n",
    "\n",
    "if IN_COLAB:\n",
    "    # Clone kso repo and install requirements\n",
    "    if not os.path.exists(\"kso\"):\n",
    "        print(\"Installing all dependencies...\")\n",
    "        !git clone https://github.com/ocean-data-factory-sweden/kso.git\n",
    "        !pip install -r /content/kso/requirements_colab.txt\n",
    "\n",
    "    # Enable external widgets and navigate to the kso tutorial folder\n",
    "    try:\n",
    "        from google.colab import output\n",
    "\n",
    "        output.enable_custom_widget_manager()\n",
    "        os.chdir(\"kso/notebooks\")\n",
    "    except ImportError:\n",
    "        pass\n",
    "\n",
    "# Prepare the dev settings if needed\n",
    "try:\n",
    "    if \"kso_utils\" not in sys.modules:\n",
    "        sys.path.insert(0, os.path.abspath(os.path.join(os.getcwd(), \"..\")))\n",
    "        import kso_utils\n",
    "\n",
    "        print(\"Using development version...\")\n",
    "        # Enables testing changes in utils\n",
    "        %load_ext autoreload\n",
    "        %autoreload 2\n",
    "except ImportError:\n",
    "    print(\"Installing latest version from PyPI...\")\n",
    "    %pip install -q kso-utils\n",
    "\n",
    "if IN_COLAB:\n",
    "\n",
    "    def restart_runtime():\n",
    "        os.kill(os.getpid(), 9)\n",
    "\n",
    "    # Check if there are any issues with previously imported packages\n",
    "    try:\n",
    "        from kso_utils.project import ProjectProcessor\n",
    "    except Exception as e:\n",
    "        print(f\"Error importing package: {e}\")\n",
    "        print(\"Restarting runtime to apply package changes...\")\n",
    "        restart_runtime()\n",
    "\n",
    "# Avoid issues with widgets not displaying properly\n",
    "!jupyter nbextension enable --user --py widgetsnbextension\n",
    "!jupyter nbextension enable --user --py jupyter_bbox_widget\n",
    "!jupyter nbextension enable --user --py ipysheet\n",
    "\n",
    "# Load the clear output function to keep things clean\n",
    "from IPython.display import clear_output\n",
    "\n",
    "clear_output()\n",
    "print(\"Successful installation... you're good to go!\")"
   ]
  },
  {
   "cell_type": "markdown",
   "metadata": {
    "id": "Y9HE5A4km-tC"
   },
   "source": [
    "### Import python packages"
   ]
  },
  {
   "cell_type": "code",
   "execution_count": 2,
   "metadata": {
    "id": "8x8PxQNI0UKI"
   },
   "outputs": [
    {
     "name": "stderr",
     "output_type": "stream",
     "text": [
      "DEBUG:matplotlib:matplotlib data path: /opt/tljh/user/lib/python3.10/site-packages/matplotlib/mpl-data\n",
      "DEBUG:matplotlib:CONFIGDIR=/home/jupyter-benjamin.hoeree@st-2de9f/.config/matplotlib\n",
      "DEBUG:matplotlib:interactive is False\n",
      "DEBUG:matplotlib:platform is linux\n",
      "WARNING:matplotlib:Matplotlib created a temporary cache directory at /tmp/matplotlib-7oftjzxl because the default path (/data/cache/jhub/matplotlib) is not a writable directory; it is highly recommended to set the MPLCONFIGDIR environment variable to a writable directory, in particular to speed up the import of Matplotlib and to better support multiprocessing.\n",
      "DEBUG:matplotlib:CACHEDIR=/tmp/matplotlib-7oftjzxl\n",
      "DEBUG:matplotlib.font_manager:font search path [PosixPath('/opt/tljh/user/lib/python3.10/site-packages/matplotlib/mpl-data/fonts/ttf'), PosixPath('/opt/tljh/user/lib/python3.10/site-packages/matplotlib/mpl-data/fonts/afm'), PosixPath('/opt/tljh/user/lib/python3.10/site-packages/matplotlib/mpl-data/fonts/pdfcorefonts')]\n",
      "INFO:matplotlib.font_manager:generated new fontManager\n"
     ]
    },
    {
     "name": "stdout",
     "output_type": "stream",
     "text": [
      "Packages loaded successfully\n"
     ]
    }
   ],
   "source": [
    "# Import required modules for tut#5\n",
    "import kso_utils.widgets as kso_widgets\n",
    "import kso_utils.project_utils as p_utils\n",
    "import kso_utils.server_utils as s_utils\n",
    "import kso_utils.yolo_utils as y_utils\n",
    "from kso_utils.project import ProjectProcessor, MLProjectProcessor\n",
    "from ipyfilechooser import FileChooser\n",
    "from IPython.display import display\n",
    "\n",
    "print(\"Packages loaded successfully\")"
   ]
  },
  {
   "cell_type": "markdown",
   "metadata": {
    "id": "ZZWAWkVZzfGr"
   },
   "source": [
    "### Choose your project"
   ]
  },
  {
   "cell_type": "code",
   "execution_count": 3,
   "metadata": {
    "id": "ZI0XH96WzfGs"
   },
   "outputs": [
    {
     "data": {
      "application/vnd.jupyter.widget-view+json": {
       "model_id": "d32de748caff4ffc965a58446c85dbc1",
       "version_major": 2,
       "version_minor": 0
      },
      "text/plain": [
       "Dropdown(description='Project:', options=('Template project', 'Koster_Seafloor_Obs', 'Spyfish_Aotearoa', 'SGU'…"
      ]
     },
     "metadata": {},
     "output_type": "display_data"
    }
   ],
   "source": [
    "project_name = kso_widgets.choose_project()"
   ]
  },
  {
   "cell_type": "markdown",
   "metadata": {
    "id": "QeYs2gMIm-tF"
   },
   "source": [
    "### Initiate project's database"
   ]
  },
  {
   "cell_type": "code",
   "execution_count": 4,
   "metadata": {
    "id": "DqyAffdzm-tF"
   },
   "outputs": [
    {
     "name": "stderr",
     "output_type": "stream",
     "text": [
      "INFO:root:Koster_Seafloor_Obs loaded succesfully\n",
      "INFO:root:Running locally, no external connection to server needed.\n",
      "INFO:root:Running locally so no csv files were downloaded from the server.\n",
      "INFO:root:Updated species table from the temporary database\n",
      "INFO:root:Updated sites table from the temporary database\n",
      "INFO:root:Updated photos table from the temporary database\n",
      "INFO:root:Updated movies table from the temporary database\n"
     ]
    }
   ],
   "source": [
    "# Find project\n",
    "project = p_utils.find_project(project_name=project_name.value)\n",
    "# Initialise pp\n",
    "pp = ProjectProcessor(project)"
   ]
  },
  {
   "cell_type": "code",
   "execution_count": 5,
   "metadata": {
    "id": "bZcAz9Xcm-tF"
   },
   "outputs": [],
   "source": [
    "# Initiate mlp\n",
    "mlp = MLProjectProcessor(pp)"
   ]
  },
  {
   "cell_type": "code",
   "execution_count": null,
   "metadata": {
    "id": "WWaoapru0DKr"
   },
   "outputs": [],
   "source": [
    "# Only for Template Project (downloading prepared data)\n",
    "s_utils.get_ml_data(project)"
   ]
  },
  {
   "cell_type": "markdown",
   "metadata": {
    "id": "mcFpT7njzfGw"
   },
   "source": [
    "# Train the model"
   ]
  },
  {
   "cell_type": "markdown",
   "metadata": {
    "id": "m7EK4BXjzfGu"
   },
   "source": [
    "### Configure data paths"
   ]
  },
  {
   "cell_type": "markdown",
   "metadata": {
    "id": "ex5GT5Yh441Q"
   },
   "source": [
    "If you are running the Template project, the output_folder that you want to select is the ml-template-data. The path to this folder is printed in the cell above. For any other project, it is the folder where you have saved your data."
   ]
  },
  {
   "cell_type": "code",
   "execution_count": 6,
   "metadata": {
    "id": "HvaEo7mjzfGv"
   },
   "outputs": [
    {
     "data": {
      "application/vnd.jupyter.widget-view+json": {
       "model_id": "570e94ed1fcc462cb21a66d46791b52c",
       "version_major": 2,
       "version_minor": 0
      },
      "text/plain": [
       "FileChooser(path='.', filename='', title='HTML(value='Choose location of output')', show_hidden='False', use_d…"
      ]
     },
     "metadata": {},
     "output_type": "display_data"
    }
   ],
   "source": [
    "# Specify path containing the images and labels folders.\n",
    "mlp.output_path = kso_widgets.choose_folder(\n",
    "    project.photo_folder if not project.photo_folder == \"None\" else \".\", \"output\"\n",
    ")"
   ]
  },
  {
   "cell_type": "markdown",
   "metadata": {
    "id": "015UUPk20DKt"
   },
   "source": [
    "🔴 <span style=\"color:red\">&nbsp;NOTE: Each model type requires a specific folder structure to be in place. To be able to train your own Object Detection models, your data_path must contain a yml file for data and hyperparameters. See https://github.com/ultralytics/yolov5/wiki/Train-Custom-Data#11-create-datasetyaml. For image classification models, there should be 3 folders (train, val, test) each containing images in class_name folders. For segmentation models, polygon coordinates are also required. </span>"
   ]
  },
  {
   "cell_type": "code",
   "execution_count": 7,
   "metadata": {
    "id": "Jt2PIFLdzfGw"
   },
   "outputs": [
    {
     "name": "stderr",
     "output_type": "stream",
     "text": [
      "INFO:root:Success! Paths to data.yaml and hyps.yaml found.\n"
     ]
    }
   ],
   "source": [
    "# Fix important paths\n",
    "mlp.setup_paths()"
   ]
  },
  {
   "cell_type": "markdown",
   "metadata": {
    "id": "abOQdClg0DKu"
   },
   "source": [
    "### Choose a suitable experiment name"
   ]
  },
  {
   "cell_type": "code",
   "execution_count": 8,
   "metadata": {
    "id": "XzclVxY70DKu"
   },
   "outputs": [
    {
     "data": {
      "application/vnd.jupyter.widget-view+json": {
       "model_id": "db8f8a90c2064bf5b7e8df24d262d855",
       "version_major": 2,
       "version_minor": 0
      },
      "text/plain": [
       "Text(value='exp_name', description='Experiment name:', placeholder='Choose an experiment name', style=TextStyl…"
      ]
     },
     "metadata": {},
     "output_type": "display_data"
    }
   ],
   "source": [
    "exp_name = kso_widgets.choose_experiment_name()"
   ]
  },
  {
   "cell_type": "markdown",
   "metadata": {
    "id": "rTb9DFFWzfGw"
   },
   "source": [
    "### Choose model to use for training"
   ]
  },
  {
   "cell_type": "markdown",
   "metadata": {
    "id": "AfQGfcMs5u1E"
   },
   "source": [
    "In the next cell you will specify the folder (can be any folder of choice) where you want to download the baseline model to, which you will select in the cell after. This baseline model will be used as the starting point for the training."
   ]
  },
  {
   "cell_type": "code",
   "execution_count": 9,
   "metadata": {
    "id": "gDUZt0tf0DKu"
   },
   "outputs": [
    {
     "data": {
      "application/vnd.jupyter.widget-view+json": {
       "model_id": "4d03bd8034c64f8784f39ad0156d6b11",
       "version_major": 2,
       "version_minor": 0
      },
      "text/plain": [
       "FileChooser(path='.', filename='', title='HTML(value='Choose location of model download')', show_hidden='False…"
      ]
     },
     "metadata": {},
     "output_type": "display_data"
    }
   ],
   "source": [
    "# Specify path to download baseline model\n",
    "download_folder = kso_widgets.choose_folder(\n",
    "    project.photo_folder if not project.photo_folder == \"None\" else \".\",\n",
    "    \"model download\",\n",
    ")"
   ]
  },
  {
   "cell_type": "code",
   "execution_count": 10,
   "metadata": {
    "id": "Ovi-PKC60DKv"
   },
   "outputs": [
    {
     "data": {
      "application/vnd.jupyter.widget-view+json": {
       "model_id": "762dcac8cc064a3cac02ea3e15bdd812",
       "version_major": 2,
       "version_minor": 0
      },
      "text/plain": [
       "Dropdown(description='Select model:', layout=Layout(width='50%'), options=('runs:/b61b1002052e4c788118284e6053…"
      ]
     },
     "metadata": {},
     "output_type": "display_data"
    },
    {
     "data": {
      "application/vnd.jupyter.widget-view+json": {
       "model_id": "36011003ddd448a086e1a3485f400192",
       "version_major": 2,
       "version_minor": 0
      },
      "text/plain": [
       "Output()"
      ]
     },
     "metadata": {},
     "output_type": "display_data"
    }
   ],
   "source": [
    "weights = mlp.choose_baseline_model(download_folder.selected)"
   ]
  },
  {
   "cell_type": "markdown",
   "metadata": {
    "id": "zMWSPHTt0DKv"
   },
   "source": [
    "### Train model with given configuration"
   ]
  },
  {
   "cell_type": "markdown",
   "metadata": {
    "id": "HNQELgtzBQNR"
   },
   "source": [
    "The cell below will ask you which batch size and how many epochs you want to use during training. There are no strict rules for this and the best settings will depend on the choice of GPU and some randomness that we have encountered while training models. Therefore it will be some trial and error. As a starting point we advice to use a batch size of 8. For smaller datasets, we have experienced that 50-100 epochs has been sufficient to get good performance on the model (metrics that have reached a plateau), but to not overfit to the training set."
   ]
  },
  {
   "cell_type": "code",
   "execution_count": 11,
   "metadata": {
    "id": "qBIYSeFH0DKv"
   },
   "outputs": [
    {
     "data": {
      "application/vnd.jupyter.widget-view+json": {
       "model_id": "897cdeed4f524044ada30913aba1ba00",
       "version_major": 2,
       "version_minor": 0
      },
      "text/plain": [
       "HBox(children=(FloatLogSlider(value=1.0, base=2.0, description='Batch size:', max=10.0, readout_format='d', st…"
      ]
     },
     "metadata": {},
     "output_type": "display_data"
    }
   ],
   "source": [
    "batch_size, epochs, img_h, img_w = mlp.choose_train_params()"
   ]
  },
  {
   "cell_type": "code",
   "execution_count": 12,
   "metadata": {
    "id": "43Um1iSVCG3u"
   },
   "outputs": [
    {
     "name": "stderr",
     "output_type": "stream",
     "text": [
      "INFO:root:Found team name: koster. If you want to use a different team name for this experiment set the argument alt_name to True\n"
     ]
    }
   ],
   "source": [
    "# Give your WandB username, or team name where you want to sent the runs to.\n",
    "# If you are part of the koster project, you can keep the default 'koster'.\n",
    "entity = mlp.choose_entity(alt_name=False)"
   ]
  },
  {
   "cell_type": "code",
   "execution_count": 13,
   "metadata": {
    "id": "zH1lfkiLm-tJ"
   },
   "outputs": [
    {
     "ename": "EmptyDataError",
     "evalue": "No columns to parse from file",
     "output_type": "error",
     "traceback": [
      "\u001b[0;31m---------------------------------------------------------------------------\u001b[0m",
      "\u001b[0;31mEmptyDataError\u001b[0m                            Traceback (most recent call last)",
      "Cell \u001b[0;32mIn[13], line 1\u001b[0m\n\u001b[0;32m----> 1\u001b[0m \u001b[43mmlp\u001b[49m\u001b[38;5;241;43m.\u001b[39;49m\u001b[43mtrain_yolo\u001b[49m\u001b[43m(\u001b[49m\n\u001b[1;32m      2\u001b[0m \u001b[43m    \u001b[49m\u001b[43mexp_name\u001b[49m\u001b[38;5;241;43m=\u001b[39;49m\u001b[43mexp_name\u001b[49m\u001b[38;5;241;43m.\u001b[39;49m\u001b[43mvalue\u001b[49m\u001b[43m,\u001b[49m\n\u001b[1;32m      3\u001b[0m \u001b[43m    \u001b[49m\u001b[43mweights\u001b[49m\u001b[38;5;241;43m=\u001b[39;49m\u001b[43mweights\u001b[49m\u001b[38;5;241;43m.\u001b[39;49m\u001b[43martifact_path\u001b[49m\u001b[43m,\u001b[49m\n\u001b[1;32m      4\u001b[0m \u001b[43m    \u001b[49m\u001b[43mproject\u001b[49m\u001b[38;5;241;43m=\u001b[39;49m\u001b[43mmlp\u001b[49m\u001b[38;5;241;43m.\u001b[39;49m\u001b[43mproject_name\u001b[49m\u001b[43m,\u001b[49m\n\u001b[1;32m      5\u001b[0m \u001b[43m    \u001b[49m\u001b[43mepochs\u001b[49m\u001b[38;5;241;43m=\u001b[39;49m\u001b[43mepochs\u001b[49m\u001b[38;5;241;43m.\u001b[39;49m\u001b[43mvalue\u001b[49m\u001b[43m,\u001b[49m\n\u001b[1;32m      6\u001b[0m \u001b[43m    \u001b[49m\u001b[43mbatch_size\u001b[49m\u001b[38;5;241;43m=\u001b[39;49m\u001b[43mbatch_size\u001b[49m\u001b[38;5;241;43m.\u001b[39;49m\u001b[43mvalue\u001b[49m\u001b[43m,\u001b[49m\n\u001b[1;32m      7\u001b[0m \u001b[43m    \u001b[49m\u001b[43mimg_size\u001b[49m\u001b[38;5;241;43m=\u001b[39;49m\u001b[43mimg_h\u001b[49m\u001b[38;5;241;43m.\u001b[39;49m\u001b[43mvalue\u001b[49m\u001b[43m,\u001b[49m\u001b[43m  \u001b[49m\u001b[38;5;66;43;03m# this requires an int\u001b[39;49;00m\n\u001b[1;32m      8\u001b[0m \u001b[43m)\u001b[49m\n",
      "File \u001b[0;32m~/.local/lib/python3.10/site-packages/kso_utils/project.py:1631\u001b[0m, in \u001b[0;36mMLProjectProcessor.train_yolo\u001b[0;34m(self, exp_name, weights, project, epochs, batch_size, img_size)\u001b[0m\n\u001b[1;32m   1629\u001b[0m train_path \u001b[38;5;241m=\u001b[39m \u001b[38;5;28mstr\u001b[39m(Path(parent_dir, \u001b[38;5;124m\"\u001b[39m\u001b[38;5;124mtrain.txt\u001b[39m\u001b[38;5;124m\"\u001b[39m))\n\u001b[1;32m   1630\u001b[0m valid_path \u001b[38;5;241m=\u001b[39m \u001b[38;5;28mstr\u001b[39m(Path(parent_dir, \u001b[38;5;124m\"\u001b[39m\u001b[38;5;124mvalid.txt\u001b[39m\u001b[38;5;124m\"\u001b[39m))\n\u001b[0;32m-> 1631\u001b[0m train_df \u001b[38;5;241m=\u001b[39m \u001b[43mpd\u001b[49m\u001b[38;5;241;43m.\u001b[39;49m\u001b[43mread_csv\u001b[49m\u001b[43m(\u001b[49m\u001b[43mtrain_path\u001b[49m\u001b[43m,\u001b[49m\u001b[43m \u001b[49m\u001b[43mdelimiter\u001b[49m\u001b[38;5;241;43m=\u001b[39;49m\u001b[38;5;124;43m\"\u001b[39;49m\u001b[38;5;130;43;01m\\t\u001b[39;49;00m\u001b[38;5;124;43m\"\u001b[39;49m\u001b[43m)\u001b[49m\n\u001b[1;32m   1632\u001b[0m val_df \u001b[38;5;241m=\u001b[39m pd\u001b[38;5;241m.\u001b[39mread_csv(valid_path, delimiter\u001b[38;5;241m=\u001b[39m\u001b[38;5;124m\"\u001b[39m\u001b[38;5;130;01m\\t\u001b[39;00m\u001b[38;5;124m\"\u001b[39m)\n\u001b[1;32m   1633\u001b[0m train_dataset: PandasDataset \u001b[38;5;241m=\u001b[39m mlflow\u001b[38;5;241m.\u001b[39mdata\u001b[38;5;241m.\u001b[39mfrom_pandas(\n\u001b[1;32m   1634\u001b[0m     train_df, source\u001b[38;5;241m=\u001b[39mtrain_path\n\u001b[1;32m   1635\u001b[0m )\n",
      "File \u001b[0;32m~/.local/lib/python3.10/site-packages/pandas/util/_decorators.py:311\u001b[0m, in \u001b[0;36mdeprecate_nonkeyword_arguments.<locals>.decorate.<locals>.wrapper\u001b[0;34m(*args, **kwargs)\u001b[0m\n\u001b[1;32m    305\u001b[0m \u001b[38;5;28;01mif\u001b[39;00m \u001b[38;5;28mlen\u001b[39m(args) \u001b[38;5;241m>\u001b[39m num_allow_args:\n\u001b[1;32m    306\u001b[0m     warnings\u001b[38;5;241m.\u001b[39mwarn(\n\u001b[1;32m    307\u001b[0m         msg\u001b[38;5;241m.\u001b[39mformat(arguments\u001b[38;5;241m=\u001b[39marguments),\n\u001b[1;32m    308\u001b[0m         \u001b[38;5;167;01mFutureWarning\u001b[39;00m,\n\u001b[1;32m    309\u001b[0m         stacklevel\u001b[38;5;241m=\u001b[39mstacklevel,\n\u001b[1;32m    310\u001b[0m     )\n\u001b[0;32m--> 311\u001b[0m \u001b[38;5;28;01mreturn\u001b[39;00m \u001b[43mfunc\u001b[49m\u001b[43m(\u001b[49m\u001b[38;5;241;43m*\u001b[39;49m\u001b[43margs\u001b[49m\u001b[43m,\u001b[49m\u001b[43m \u001b[49m\u001b[38;5;241;43m*\u001b[39;49m\u001b[38;5;241;43m*\u001b[39;49m\u001b[43mkwargs\u001b[49m\u001b[43m)\u001b[49m\n",
      "File \u001b[0;32m~/.local/lib/python3.10/site-packages/pandas/io/parsers/readers.py:680\u001b[0m, in \u001b[0;36mread_csv\u001b[0;34m(filepath_or_buffer, sep, delimiter, header, names, index_col, usecols, squeeze, prefix, mangle_dupe_cols, dtype, engine, converters, true_values, false_values, skipinitialspace, skiprows, skipfooter, nrows, na_values, keep_default_na, na_filter, verbose, skip_blank_lines, parse_dates, infer_datetime_format, keep_date_col, date_parser, dayfirst, cache_dates, iterator, chunksize, compression, thousands, decimal, lineterminator, quotechar, quoting, doublequote, escapechar, comment, encoding, encoding_errors, dialect, error_bad_lines, warn_bad_lines, on_bad_lines, delim_whitespace, low_memory, memory_map, float_precision, storage_options)\u001b[0m\n\u001b[1;32m    665\u001b[0m kwds_defaults \u001b[38;5;241m=\u001b[39m _refine_defaults_read(\n\u001b[1;32m    666\u001b[0m     dialect,\n\u001b[1;32m    667\u001b[0m     delimiter,\n\u001b[0;32m   (...)\u001b[0m\n\u001b[1;32m    676\u001b[0m     defaults\u001b[38;5;241m=\u001b[39m{\u001b[38;5;124m\"\u001b[39m\u001b[38;5;124mdelimiter\u001b[39m\u001b[38;5;124m\"\u001b[39m: \u001b[38;5;124m\"\u001b[39m\u001b[38;5;124m,\u001b[39m\u001b[38;5;124m\"\u001b[39m},\n\u001b[1;32m    677\u001b[0m )\n\u001b[1;32m    678\u001b[0m kwds\u001b[38;5;241m.\u001b[39mupdate(kwds_defaults)\n\u001b[0;32m--> 680\u001b[0m \u001b[38;5;28;01mreturn\u001b[39;00m \u001b[43m_read\u001b[49m\u001b[43m(\u001b[49m\u001b[43mfilepath_or_buffer\u001b[49m\u001b[43m,\u001b[49m\u001b[43m \u001b[49m\u001b[43mkwds\u001b[49m\u001b[43m)\u001b[49m\n",
      "File \u001b[0;32m~/.local/lib/python3.10/site-packages/pandas/io/parsers/readers.py:575\u001b[0m, in \u001b[0;36m_read\u001b[0;34m(filepath_or_buffer, kwds)\u001b[0m\n\u001b[1;32m    572\u001b[0m _validate_names(kwds\u001b[38;5;241m.\u001b[39mget(\u001b[38;5;124m\"\u001b[39m\u001b[38;5;124mnames\u001b[39m\u001b[38;5;124m\"\u001b[39m, \u001b[38;5;28;01mNone\u001b[39;00m))\n\u001b[1;32m    574\u001b[0m \u001b[38;5;66;03m# Create the parser.\u001b[39;00m\n\u001b[0;32m--> 575\u001b[0m parser \u001b[38;5;241m=\u001b[39m \u001b[43mTextFileReader\u001b[49m\u001b[43m(\u001b[49m\u001b[43mfilepath_or_buffer\u001b[49m\u001b[43m,\u001b[49m\u001b[43m \u001b[49m\u001b[38;5;241;43m*\u001b[39;49m\u001b[38;5;241;43m*\u001b[39;49m\u001b[43mkwds\u001b[49m\u001b[43m)\u001b[49m\n\u001b[1;32m    577\u001b[0m \u001b[38;5;28;01mif\u001b[39;00m chunksize \u001b[38;5;129;01mor\u001b[39;00m iterator:\n\u001b[1;32m    578\u001b[0m     \u001b[38;5;28;01mreturn\u001b[39;00m parser\n",
      "File \u001b[0;32m~/.local/lib/python3.10/site-packages/pandas/io/parsers/readers.py:933\u001b[0m, in \u001b[0;36mTextFileReader.__init__\u001b[0;34m(self, f, engine, **kwds)\u001b[0m\n\u001b[1;32m    930\u001b[0m     \u001b[38;5;28mself\u001b[39m\u001b[38;5;241m.\u001b[39moptions[\u001b[38;5;124m\"\u001b[39m\u001b[38;5;124mhas_index_names\u001b[39m\u001b[38;5;124m\"\u001b[39m] \u001b[38;5;241m=\u001b[39m kwds[\u001b[38;5;124m\"\u001b[39m\u001b[38;5;124mhas_index_names\u001b[39m\u001b[38;5;124m\"\u001b[39m]\n\u001b[1;32m    932\u001b[0m \u001b[38;5;28mself\u001b[39m\u001b[38;5;241m.\u001b[39mhandles: IOHandles \u001b[38;5;241m|\u001b[39m \u001b[38;5;28;01mNone\u001b[39;00m \u001b[38;5;241m=\u001b[39m \u001b[38;5;28;01mNone\u001b[39;00m\n\u001b[0;32m--> 933\u001b[0m \u001b[38;5;28mself\u001b[39m\u001b[38;5;241m.\u001b[39m_engine \u001b[38;5;241m=\u001b[39m \u001b[38;5;28;43mself\u001b[39;49m\u001b[38;5;241;43m.\u001b[39;49m\u001b[43m_make_engine\u001b[49m\u001b[43m(\u001b[49m\u001b[43mf\u001b[49m\u001b[43m,\u001b[49m\u001b[43m \u001b[49m\u001b[38;5;28;43mself\u001b[39;49m\u001b[38;5;241;43m.\u001b[39;49m\u001b[43mengine\u001b[49m\u001b[43m)\u001b[49m\n",
      "File \u001b[0;32m~/.local/lib/python3.10/site-packages/pandas/io/parsers/readers.py:1231\u001b[0m, in \u001b[0;36mTextFileReader._make_engine\u001b[0;34m(self, f, engine)\u001b[0m\n\u001b[1;32m   1228\u001b[0m     f \u001b[38;5;241m=\u001b[39m \u001b[38;5;28mself\u001b[39m\u001b[38;5;241m.\u001b[39mhandles\u001b[38;5;241m.\u001b[39mhandle\n\u001b[1;32m   1230\u001b[0m \u001b[38;5;28;01mtry\u001b[39;00m:\n\u001b[0;32m-> 1231\u001b[0m     \u001b[38;5;28;01mreturn\u001b[39;00m \u001b[43mmapping\u001b[49m\u001b[43m[\u001b[49m\u001b[43mengine\u001b[49m\u001b[43m]\u001b[49m\u001b[43m(\u001b[49m\u001b[43mf\u001b[49m\u001b[43m,\u001b[49m\u001b[43m \u001b[49m\u001b[38;5;241;43m*\u001b[39;49m\u001b[38;5;241;43m*\u001b[39;49m\u001b[38;5;28;43mself\u001b[39;49m\u001b[38;5;241;43m.\u001b[39;49m\u001b[43moptions\u001b[49m\u001b[43m)\u001b[49m\n\u001b[1;32m   1232\u001b[0m \u001b[38;5;28;01mexcept\u001b[39;00m \u001b[38;5;167;01mException\u001b[39;00m:\n\u001b[1;32m   1233\u001b[0m     \u001b[38;5;28;01mif\u001b[39;00m \u001b[38;5;28mself\u001b[39m\u001b[38;5;241m.\u001b[39mhandles \u001b[38;5;129;01mis\u001b[39;00m \u001b[38;5;129;01mnot\u001b[39;00m \u001b[38;5;28;01mNone\u001b[39;00m:\n",
      "File \u001b[0;32m~/.local/lib/python3.10/site-packages/pandas/io/parsers/c_parser_wrapper.py:75\u001b[0m, in \u001b[0;36mCParserWrapper.__init__\u001b[0;34m(self, src, **kwds)\u001b[0m\n\u001b[1;32m     72\u001b[0m     kwds\u001b[38;5;241m.\u001b[39mpop(key, \u001b[38;5;28;01mNone\u001b[39;00m)\n\u001b[1;32m     74\u001b[0m kwds[\u001b[38;5;124m\"\u001b[39m\u001b[38;5;124mdtype\u001b[39m\u001b[38;5;124m\"\u001b[39m] \u001b[38;5;241m=\u001b[39m ensure_dtype_objs(kwds\u001b[38;5;241m.\u001b[39mget(\u001b[38;5;124m\"\u001b[39m\u001b[38;5;124mdtype\u001b[39m\u001b[38;5;124m\"\u001b[39m, \u001b[38;5;28;01mNone\u001b[39;00m))\n\u001b[0;32m---> 75\u001b[0m \u001b[38;5;28mself\u001b[39m\u001b[38;5;241m.\u001b[39m_reader \u001b[38;5;241m=\u001b[39m \u001b[43mparsers\u001b[49m\u001b[38;5;241;43m.\u001b[39;49m\u001b[43mTextReader\u001b[49m\u001b[43m(\u001b[49m\u001b[43msrc\u001b[49m\u001b[43m,\u001b[49m\u001b[43m \u001b[49m\u001b[38;5;241;43m*\u001b[39;49m\u001b[38;5;241;43m*\u001b[39;49m\u001b[43mkwds\u001b[49m\u001b[43m)\u001b[49m\n\u001b[1;32m     77\u001b[0m \u001b[38;5;28mself\u001b[39m\u001b[38;5;241m.\u001b[39munnamed_cols \u001b[38;5;241m=\u001b[39m \u001b[38;5;28mself\u001b[39m\u001b[38;5;241m.\u001b[39m_reader\u001b[38;5;241m.\u001b[39munnamed_cols\n\u001b[1;32m     79\u001b[0m \u001b[38;5;66;03m# error: Cannot determine type of 'names'\u001b[39;00m\n",
      "File \u001b[0;32m~/.local/lib/python3.10/site-packages/pandas/_libs/parsers.pyx:551\u001b[0m, in \u001b[0;36mpandas._libs.parsers.TextReader.__cinit__\u001b[0;34m()\u001b[0m\n",
      "\u001b[0;31mEmptyDataError\u001b[0m: No columns to parse from file"
     ]
    }
   ],
   "source": [
    "mlp.train_yolo(\n",
    "    exp_name=exp_name.value,\n",
    "    weights=weights.artifact_path,\n",
    "    project=mlp.project_name,\n",
    "    epochs=epochs.value,\n",
    "    batch_size=batch_size.value,\n",
    "    img_size=img_h.value,  # this requires an int\n",
    ")"
   ]
  },
  {
   "cell_type": "markdown",
   "metadata": {
    "id": "PRXru5arzfGw"
   },
   "source": [
    "# Evaluate model performance"
   ]
  },
  {
   "cell_type": "markdown",
   "metadata": {
    "id": "jYD0QFv9D0Td"
   },
   "source": [
    "The model is now done with training. To see the loss, precision, recall and some other parameters per training epoch, click on the link in the previous cell. Here you can see your run in Weights and Biases. To evaluate the resulting model, please run the cells below. These execute the standard evaluation process from YOLO.\n",
    "\n",
    "For a biological evaluation of the model, please see Notebook 6."
   ]
  },
  {
   "cell_type": "code",
   "execution_count": null,
   "metadata": {
    "id": "y3CI42sI0DKw"
   },
   "outputs": [],
   "source": [
    "conf_thres = kso_widgets.choose_eval_params()"
   ]
  },
  {
   "cell_type": "code",
   "execution_count": null,
   "metadata": {
    "id": "Erw0xEw3zfGw"
   },
   "outputs": [],
   "source": [
    "# Choose model: The folder you want to select for eval_model is the folder with your experiment_name.\n",
    "eval_model = FileChooser(\".\")\n",
    "display(eval_model)"
   ]
  },
  {
   "cell_type": "markdown",
   "metadata": {
    "id": "j20Vv9JQaFcW"
   },
   "source": [
    "When you run the cell below, you will get some numbers logged on the screen, and 3 files that are stored in the folder 'your_experiment_name'_val.\n",
    "\n",
    "The numbers logged on the screen represent the following:\n",
    "* The first 7 numbers are the: mean precision, mean recal, mean average precision calculated at IOU threshold 0.5 (map@0.5), the mean average precision calculated at different IOU thresholds of 0.5-0.95 with steps of 0.05 (map@0.5:0.95) and then 3 training losses based on predicting the box, object or class.\n",
    "* The array gives the ap@0.5 per class.\n",
    "* The last 3 numbers are the same as the numbers that are already printed in a line above, where it says 'Speed: … ms per....'"
   ]
  },
  {
   "cell_type": "code",
   "execution_count": null,
   "metadata": {
    "id": "_Dx9tD3bzfGx"
   },
   "outputs": [],
   "source": [
    "# Evaluate YOLO Model on Unseen Test data\n",
    "mlp.eval_yolo(exp_name=exp_name.value, conf_thres=conf_thres.value)"
   ]
  },
  {
   "cell_type": "markdown",
   "metadata": {
    "id": "5VGC_NMazfGx"
   },
   "source": [
    "# (Optional) : Enhance annotations using trained model"
   ]
  },
  {
   "cell_type": "markdown",
   "metadata": {
    "id": "2aAs-KOU0DKx"
   },
   "source": [
    "Enhancement uses the trained model to increase the amount of annotations in the training data. This should only be done in cases where it is absolutely necessary as bad predictions lead to worse predictions when used to train the next iteration of the model.\n",
    "\n",
    "\n",
    "🔴 <span style=\"color:red\">&nbsp;NOTE: We recommend using a relatively high confidence threshold when enhancing trained models as low confidence predictions could significantly impact the quality of your annotated data. This is currently only available for object detection models.  </span>"
   ]
  },
  {
   "cell_type": "code",
   "execution_count": null,
   "metadata": {
    "id": "AeCPV09V0DKy"
   },
   "outputs": [],
   "source": [
    "eh_conf_thres = kso_widgets.choose_eval_params()"
   ]
  },
  {
   "cell_type": "code",
   "execution_count": null,
   "metadata": {
    "id": "6uRvr2nTm-tS"
   },
   "outputs": [],
   "source": [
    "# Choose an input path\n",
    "input_path = FileChooser(mlp.project_name)\n",
    "display(input_path)"
   ]
  },
  {
   "cell_type": "code",
   "execution_count": null,
   "metadata": {
    "id": "Itu2UVVim-tT"
   },
   "outputs": [],
   "source": [
    "# Find the project path\n",
    "project_path = FileChooser(mlp.project_name)\n",
    "display(project_path)"
   ]
  },
  {
   "cell_type": "code",
   "execution_count": null,
   "metadata": {
    "id": "M7kV7K2EzfGx"
   },
   "outputs": [],
   "source": [
    "mlp.enhance_yolo(\n",
    "    in_path=input_path.selected,\n",
    "    project_path=project_path.selected,\n",
    "    conf_thres=eh_conf_thres.value,\n",
    "    img_size=[640, 640],\n",
    ")"
   ]
  },
  {
   "cell_type": "markdown",
   "metadata": {
    "id": "NYprwoWN0DKy"
   },
   "source": [
    "### Choose run to use as enhanced annotations"
   ]
  },
  {
   "cell_type": "code",
   "execution_count": null,
   "metadata": {
    "id": "67uHzz1TzfGx"
   },
   "outputs": [],
   "source": [
    "runs = FileChooser(\".\")\n",
    "display(runs)"
   ]
  },
  {
   "cell_type": "code",
   "execution_count": null,
   "metadata": {
    "id": "h-sCJ8FZzfGx"
   },
   "outputs": [],
   "source": [
    "# Move enhanced annotations to original run folder (NB: This will replace the original annotations)\n",
    "mlp.enhance_replace(runs.selected)"
   ]
  },
  {
   "cell_type": "markdown",
   "metadata": {
    "id": "Aw0uBxYV0DKy"
   },
   "source": [
    "#### Once you have moved the new labels to the original label location, you can return to Step 2 and train your model again."
   ]
  },
  {
   "cell_type": "code",
   "execution_count": null,
   "metadata": {
    "id": "8umCRoDozfGx"
   },
   "outputs": [],
   "source": [
    "# END"
   ]
  }
 ],
 "metadata": {
  "colab": {
   "name": "Train_YOLO_models.ipynb",
   "provenance": []
  },
  "kernelspec": {
   "display_name": "Python 3 (ipykernel)",
   "language": "python",
   "name": "python3"
  },
  "language_info": {
   "codemirror_mode": {
    "name": "ipython",
    "version": 3
   },
   "file_extension": ".py",
   "mimetype": "text/x-python",
   "name": "python",
   "nbconvert_exporter": "python",
   "pygments_lexer": "ipython3",
   "version": "3.10.10"
  }
 },
 "nbformat": 4,
 "nbformat_minor": 4
}
