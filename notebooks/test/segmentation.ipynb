{
 "cells": [
  {
   "cell_type": "code",
   "execution_count": 1,
   "id": "1193c574-8920-43e1-9b7f-146e1d4d0a1a",
   "metadata": {
    "editable": true,
    "slideshow": {
     "slide_type": ""
    },
    "tags": []
   },
   "outputs": [
    {
     "name": "stdout",
     "output_type": "stream",
     "text": [
      "Packages loaded successfully\n"
     ]
    }
   ],
   "source": [
    "# Check GPU\n",
    "!nvidia-smi\n",
    "\n",
    "# Step 1: Install the ultralytics library (if not already installed)\n",
    "!pip install ultralytics\n",
    "\n",
    "# Step 2: Import the ultralytics library and print its version\n",
    "import ultralytics\n",
    "print(ultralytics.__version__)\n",
    "\n",
    "# Step 3: Use the Python API to load a model and perform inference\n",
    "from ultralytics import YOLO\n",
    "import matplotlib.pyplot as plt\n",
    "import cv2\n",
    "import os\n",
    "from IPython.display import display, Image\n",
    "from IPython import display\n",
    "display.clear_output()\n",
    "print(\"Packages loaded successfully\")"
   ]
  },
  {
   "cell_type": "code",
   "execution_count": 2,
   "id": "e60c0e1e-1b07-43e1-af01-9ed81c49a149",
   "metadata": {},
   "outputs": [
    {
     "name": "stdout",
     "output_type": "stream",
     "text": [
      "Successfully extracted data from roboflow\n"
     ]
    }
   ],
   "source": [
    "!pip install roboflow\n",
    "\n",
    "from roboflow import Roboflow\n",
    "rf = Roboflow(api_key=\"YgqaFYQYMXIDYOCYoY2O\")\n",
    "project = rf.workspace(\"footage\").project(\"seafloor_footage\")\n",
    "version = project.version(1)\n",
    "dataset = version.download(\"yolov8\")\n",
    "display.clear_output()\n",
    "print(\"Successfully extracted data from roboflow\")"
   ]
  },
  {
   "cell_type": "code",
   "execution_count": 3,
   "id": "fdd78b54-e10f-4325-b024-2d4fc6a39c7b",
   "metadata": {
    "editable": true,
    "slideshow": {
     "slide_type": ""
    },
    "tags": []
   },
   "outputs": [],
   "source": [
    "os.environ['PATH'] += ':/home/jupyter-kso-benjamin/.local/bin'"
   ]
  },
  {
   "cell_type": "code",
   "execution_count": 4,
   "id": "b9e98147-3f4a-4430-81f0-d6031a52efc7",
   "metadata": {},
   "outputs": [
    {
     "name": "stdout",
     "output_type": "stream",
     "text": [
      "Ultralytics YOLOv8.2.25 🚀 Python-3.10.10 torch-2.3.0+cu121 CUDA:0 (NVIDIA A100 80GB PCIe, 81051MiB)\n",
      "Setup complete ✅ (8 CPUs, 31.3 GB RAM, 14.8/61.8 GB disk)\n",
      "\n",
      "OS                  Linux-5.15.0-107-generic-x86_64-with-glibc2.35\n",
      "Environment         Linux\n",
      "Python              3.10.10\n",
      "Install             pip\n",
      "RAM                 31.34 GB\n",
      "CPU                 AMD EPYC-Rome Processor\n",
      "CUDA                12.1\n",
      "\n",
      "matplotlib          ✅ 3.9.0>=3.3.0\n",
      "opencv-python       ✅ 4.6.0.66>=4.6.0\n",
      "pillow              ✅ 10.3.0>=7.1.2\n",
      "pyyaml              ✅ 6.0>=5.3.1\n",
      "requests            ✅ 2.32.2>=2.23.0\n",
      "scipy               ✅ 1.13.1>=1.4.1\n",
      "torch               ✅ 2.3.0>=1.8.0\n",
      "torchvision         ✅ 0.18.0>=0.9.0\n",
      "tqdm                ✅ 4.64.1>=4.64.0\n",
      "psutil              ✅ 5.9.8\n",
      "py-cpuinfo          ✅ 9.0.0\n",
      "thop                ✅ 0.1.1-2209072238>=0.1.1\n",
      "pandas              ✅ 1.4.0>=1.1.4\n",
      "seaborn             ✅ 0.13.2>=0.11.0\n"
     ]
    }
   ],
   "source": [
    "!yolo checks"
   ]
  },
  {
   "cell_type": "code",
   "execution_count": 5,
   "id": "01bd1375-361c-4084-bc2c-a191f5066ae8",
   "metadata": {},
   "outputs": [
    {
     "name": "stderr",
     "output_type": "stream",
     "text": [
      "\u001b[34m\u001b[1mwandb\u001b[0m: Currently logged in as: \u001b[33mbenjamin-hoeree\u001b[0m (\u001b[33mkoster\u001b[0m). Use \u001b[1m`wandb login --relogin`\u001b[0m to force relogin\n",
      "\u001b[34m\u001b[1mwandb\u001b[0m: \u001b[33mWARNING\u001b[0m If you're specifying your api key in code, ensure this code is not shared publicly.\n",
      "\u001b[34m\u001b[1mwandb\u001b[0m: \u001b[33mWARNING\u001b[0m Consider setting the WANDB_API_KEY environment variable, or running `wandb login` from the command line.\n",
      "\u001b[34m\u001b[1mwandb\u001b[0m: Appending key for api.wandb.ai to your netrc file: /home/jupyter-kso-benjamin/.netrc\n"
     ]
    }
   ],
   "source": [
    "import wandb\n",
    "wandb.login(key='d4004bf4df1efed7c789e3a292594deaffb58ad5')\n",
    "os.environ['MLFLOW_TRACKING_URI'] = ''"
   ]
  },
  {
   "cell_type": "code",
   "execution_count": null,
   "id": "a234c9c2-3158-4734-a223-30cf1dd6f0be",
   "metadata": {
    "editable": true,
    "slideshow": {
     "slide_type": ""
    },
    "tags": []
   },
   "outputs": [],
   "source": [
    "!yolo task=segment mode=train \\\n",
    "    model=/cache/album/cache/kso-benjamin/bucket/kso/notebooks/test/yolov8m-seg.pt \\\n",
    "    data=/cache/album/cache/kso-benjamin/bucket/kso/notebooks/test/Seafloor_footage-1/data.yaml \\\n",
    "    epochs=125 imgsz=640 batch=16 \n",
    "display.clear_output()\n",
    "print('Model was succesfully trained!')"
   ]
  },
  {
   "cell_type": "code",
   "execution_count": null,
   "id": "4daf3bae-e1ee-4168-9b8d-1796cfc34b34",
   "metadata": {
    "editable": true,
    "slideshow": {
     "slide_type": ""
    },
    "tags": []
   },
   "outputs": [],
   "source": [
    "!yolo export model=/cache/album/cache/kso-benjamin/bucket/kso/notebooks/test/yolov8m-seg.pt \\\n",
    "    format=onnx"
   ]
  },
  {
   "cell_type": "code",
   "execution_count": 6,
   "id": "101812c1-e57b-473b-88b7-0ca75fbeb4e2",
   "metadata": {
    "editable": true,
    "slideshow": {
     "slide_type": ""
    },
    "tags": []
   },
   "outputs": [
    {
     "name": "stdout",
     "output_type": "stream",
     "text": [
      "Ultralytics YOLOv8.2.25 🚀 Python-3.10.10 torch-2.3.0+cu121 CUDA:0 (NVIDIA A100 80GB PCIe, 81051MiB)\n",
      "Loading /cache/album/cache/kso-benjamin/bucket/kso/notebooks/test/yolov8m-seg.onnx for ONNX Runtime inference...\n",
      "\u001b[1;31m2024-05-29 15:27:45.405659005 [E:onnxruntime:Default, provider_bridge_ort.cc:1744 TryGetProviderInfo_CUDA] /onnxruntime_src/onnxruntime/core/session/provider_bridge_ort.cc:1426 onnxruntime::Provider& onnxruntime::ProviderLibrary::Get() [ONNXRuntimeError] : 1 : FAIL : Failed to load library libonnxruntime_providers_cuda.so with error: libcublasLt.so.11: cannot open shared object file: No such file or directory\n",
      "\u001b[m\n",
      "\u001b[0;93m2024-05-29 15:27:45.405696406 [W:onnxruntime:Default, onnxruntime_pybind_state.cc:870 CreateExecutionProviderInstance] Failed to create CUDAExecutionProvider. Please reference https://onnxruntime.ai/docs/execution-providers/CUDA-ExecutionProvider.html#requirementsto ensure all dependencies are met.\u001b[m\n",
      "\n",
      "image 1/50 /cache/album/cache/kso-benjamin/bucket/kso/notebooks/test/Seafloor_footage-1/test/Raw/G0010086.JPG: 640x640 (no detections), 224.4ms\n",
      "image 2/50 /cache/album/cache/kso-benjamin/bucket/kso/notebooks/test/Seafloor_footage-1/test/Raw/G0010087.JPG: 640x640 (no detections), 256.0ms\n",
      "image 3/50 /cache/album/cache/kso-benjamin/bucket/kso/notebooks/test/Seafloor_footage-1/test/Raw/G0010089.JPG: 640x640 (no detections), 230.7ms\n",
      "image 4/50 /cache/album/cache/kso-benjamin/bucket/kso/notebooks/test/Seafloor_footage-1/test/Raw/G0010092.JPG: 640x640 (no detections), 243.8ms\n",
      "image 5/50 /cache/album/cache/kso-benjamin/bucket/kso/notebooks/test/Seafloor_footage-1/test/Raw/G0010093.JPG: 640x640 (no detections), 247.2ms\n",
      "image 6/50 /cache/album/cache/kso-benjamin/bucket/kso/notebooks/test/Seafloor_footage-1/test/Raw/G0010120.JPG: 640x640 (no detections), 252.6ms\n",
      "image 7/50 /cache/album/cache/kso-benjamin/bucket/kso/notebooks/test/Seafloor_footage-1/test/Raw/G0010121.JPG: 640x640 (no detections), 250.7ms\n",
      "image 8/50 /cache/album/cache/kso-benjamin/bucket/kso/notebooks/test/Seafloor_footage-1/test/Raw/G0010122.JPG: 640x640 (no detections), 228.3ms\n",
      "image 9/50 /cache/album/cache/kso-benjamin/bucket/kso/notebooks/test/Seafloor_footage-1/test/Raw/G0010123.JPG: 640x640 (no detections), 242.0ms\n",
      "image 10/50 /cache/album/cache/kso-benjamin/bucket/kso/notebooks/test/Seafloor_footage-1/test/Raw/G0010124.JPG: 640x640 (no detections), 231.6ms\n",
      "image 11/50 /cache/album/cache/kso-benjamin/bucket/kso/notebooks/test/Seafloor_footage-1/test/Raw/G0010125.JPG: 640x640 (no detections), 239.2ms\n",
      "image 12/50 /cache/album/cache/kso-benjamin/bucket/kso/notebooks/test/Seafloor_footage-1/test/Raw/G0010126.JPG: 640x640 (no detections), 269.9ms\n",
      "image 13/50 /cache/album/cache/kso-benjamin/bucket/kso/notebooks/test/Seafloor_footage-1/test/Raw/G0010127.JPG: 640x640 (no detections), 278.0ms\n",
      "image 14/50 /cache/album/cache/kso-benjamin/bucket/kso/notebooks/test/Seafloor_footage-1/test/Raw/G0010128.JPG: 640x640 (no detections), 231.2ms\n",
      "image 15/50 /cache/album/cache/kso-benjamin/bucket/kso/notebooks/test/Seafloor_footage-1/test/Raw/G0010129.JPG: 640x640 (no detections), 284.3ms\n",
      "image 16/50 /cache/album/cache/kso-benjamin/bucket/kso/notebooks/test/Seafloor_footage-1/test/Raw/G0010130.JPG: 640x640 (no detections), 241.8ms\n",
      "image 17/50 /cache/album/cache/kso-benjamin/bucket/kso/notebooks/test/Seafloor_footage-1/test/Raw/G0010131.JPG: 640x640 (no detections), 262.4ms\n",
      "image 18/50 /cache/album/cache/kso-benjamin/bucket/kso/notebooks/test/Seafloor_footage-1/test/Raw/G0010132.JPG: 640x640 (no detections), 253.3ms\n",
      "image 19/50 /cache/album/cache/kso-benjamin/bucket/kso/notebooks/test/Seafloor_footage-1/test/Raw/G0010133.JPG: 640x640 (no detections), 317.6ms\n",
      "image 20/50 /cache/album/cache/kso-benjamin/bucket/kso/notebooks/test/Seafloor_footage-1/test/Raw/G0010134.JPG: 640x640 (no detections), 248.4ms\n",
      "image 21/50 /cache/album/cache/kso-benjamin/bucket/kso/notebooks/test/Seafloor_footage-1/test/Raw/G0010135.JPG: 640x640 (no detections), 280.3ms\n",
      "image 22/50 /cache/album/cache/kso-benjamin/bucket/kso/notebooks/test/Seafloor_footage-1/test/Raw/G0010136.JPG: 640x640 (no detections), 250.4ms\n",
      "image 23/50 /cache/album/cache/kso-benjamin/bucket/kso/notebooks/test/Seafloor_footage-1/test/Raw/G0010137.JPG: 640x640 (no detections), 267.4ms\n",
      "image 24/50 /cache/album/cache/kso-benjamin/bucket/kso/notebooks/test/Seafloor_footage-1/test/Raw/G0010138.JPG: 640x640 (no detections), 242.5ms\n",
      "image 25/50 /cache/album/cache/kso-benjamin/bucket/kso/notebooks/test/Seafloor_footage-1/test/Raw/G0010139.JPG: 640x640 (no detections), 302.2ms\n",
      "image 26/50 /cache/album/cache/kso-benjamin/bucket/kso/notebooks/test/Seafloor_footage-1/test/Raw/G0010140.JPG: 640x640 (no detections), 287.8ms\n",
      "image 27/50 /cache/album/cache/kso-benjamin/bucket/kso/notebooks/test/Seafloor_footage-1/test/Raw/G0010141.JPG: 640x640 (no detections), 245.7ms\n",
      "image 28/50 /cache/album/cache/kso-benjamin/bucket/kso/notebooks/test/Seafloor_footage-1/test/Raw/G0017442.JPG: 640x640 (no detections), 289.0ms\n",
      "image 29/50 /cache/album/cache/kso-benjamin/bucket/kso/notebooks/test/Seafloor_footage-1/test/Raw/G0017443.JPG: 640x640 1 cell phone, 243.8ms\n",
      "image 30/50 /cache/album/cache/kso-benjamin/bucket/kso/notebooks/test/Seafloor_footage-1/test/Raw/G0017444.JPG: 640x640 (no detections), 288.4ms\n",
      "image 31/50 /cache/album/cache/kso-benjamin/bucket/kso/notebooks/test/Seafloor_footage-1/test/Raw/G0017445.JPG: 640x640 1 cell phone, 237.0ms\n",
      "image 32/50 /cache/album/cache/kso-benjamin/bucket/kso/notebooks/test/Seafloor_footage-1/test/Raw/G0017446.JPG: 640x640 (no detections), 264.9ms\n",
      "image 33/50 /cache/album/cache/kso-benjamin/bucket/kso/notebooks/test/Seafloor_footage-1/test/Raw/G0017453.JPG: 640x640 1 cell phone, 237.8ms\n",
      "^C\n"
     ]
    }
   ],
   "source": [
    "!yolo task=segment mode=predict \\\n",
    "    model=/cache/album/cache/kso-benjamin/bucket/kso/notebooks/test/yolov8m-seg.onnx \\\n",
    "    data=/cache/album/cache/kso-benjamin/bucket/kso/notebooks/test/Seafloor_footage-1/data.yaml \\\n",
    "    source=/cache/album/cache/kso-benjamin/bucket/kso/notebooks/test/Seafloor_footage-1/test/Raw"
   ]
  },
  {
   "cell_type": "code",
   "execution_count": 10,
   "id": "91320e5b-9fcb-4049-a92c-ae20118fd203",
   "metadata": {
    "editable": true,
    "slideshow": {
     "slide_type": ""
    },
    "tags": []
   },
   "outputs": [
    {
     "name": "stdout",
     "output_type": "stream",
     "text": [
      "Ultralytics YOLOv8.2.25 🚀 Python-3.10.10 torch-2.3.0+cu121 CUDA:0 (NVIDIA A100 80GB PCIe, 81051MiB)\n",
      "Loading yolov8m-seg.onnx for ONNX Runtime inference...\n",
      "\u001b[1;31m2024-05-29 15:35:58.947602179 [E:onnxruntime:Default, provider_bridge_ort.cc:1744 TryGetProviderInfo_CUDA] /onnxruntime_src/onnxruntime/core/session/provider_bridge_ort.cc:1426 onnxruntime::Provider& onnxruntime::ProviderLibrary::Get() [ONNXRuntimeError] : 1 : FAIL : Failed to load library libonnxruntime_providers_cuda.so with error: libcublasLt.so.11: cannot open shared object file: No such file or directory\n",
      "\u001b[m\n",
      "\u001b[0;93m2024-05-29 15:35:58.947645871 [W:onnxruntime:Default, onnxruntime_pybind_state.cc:870 CreateExecutionProviderInstance] Failed to create CUDAExecutionProvider. Please reference https://onnxruntime.ai/docs/execution-providers/CUDA-ExecutionProvider.html#requirementsto ensure all dependencies are met.\u001b[m\n",
      "\n",
      "image 1/50 /cache/album/cache/kso-benjamin/bucket/kso/notebooks/test/Seafloor_footage-1/test/Raw/G0010086.JPG: 640x640 (no detections), 323.9ms\n",
      "image 2/50 /cache/album/cache/kso-benjamin/bucket/kso/notebooks/test/Seafloor_footage-1/test/Raw/G0010087.JPG: 640x640 (no detections), 244.1ms\n",
      "image 3/50 /cache/album/cache/kso-benjamin/bucket/kso/notebooks/test/Seafloor_footage-1/test/Raw/G0010089.JPG: 640x640 (no detections), 287.6ms\n",
      "image 4/50 /cache/album/cache/kso-benjamin/bucket/kso/notebooks/test/Seafloor_footage-1/test/Raw/G0010092.JPG: 640x640 (no detections), 241.6ms\n",
      "image 5/50 /cache/album/cache/kso-benjamin/bucket/kso/notebooks/test/Seafloor_footage-1/test/Raw/G0010093.JPG: 640x640 (no detections), 285.5ms\n",
      "image 6/50 /cache/album/cache/kso-benjamin/bucket/kso/notebooks/test/Seafloor_footage-1/test/Raw/G0010120.JPG: 640x640 (no detections), 252.6ms\n",
      "image 7/50 /cache/album/cache/kso-benjamin/bucket/kso/notebooks/test/Seafloor_footage-1/test/Raw/G0010121.JPG: 640x640 (no detections), 285.0ms\n",
      "^C\n"
     ]
    }
   ],
   "source": [
    "!yolo predict model=yolov8m-seg.onnx source=/cache/album/cache/kso-benjamin/bucket/kso/notebooks/test/Seafloor_footage-1/test/Raw"
   ]
  }
 ],
 "metadata": {
  "kernelspec": {
   "display_name": "Python 3 (ipykernel)",
   "language": "python",
   "name": "python3"
  },
  "language_info": {
   "codemirror_mode": {
    "name": "ipython",
    "version": 3
   },
   "file_extension": ".py",
   "mimetype": "text/x-python",
   "name": "python",
   "nbconvert_exporter": "python",
   "pygments_lexer": "ipython3",
   "version": "3.10.10"
  }
 },
 "nbformat": 4,
 "nbformat_minor": 5
}
