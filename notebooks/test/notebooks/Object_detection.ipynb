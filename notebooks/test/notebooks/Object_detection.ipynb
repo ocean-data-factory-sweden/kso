{
 "cells": [
  {
   "cell_type": "code",
   "execution_count": 1,
   "id": "1193c574-8920-43e1-9b7f-146e1d4d0a1a",
   "metadata": {
    "editable": true,
    "slideshow": {
     "slide_type": ""
    },
    "tags": []
   },
   "outputs": [
    {
     "name": "stdout",
     "output_type": "stream",
     "text": [
      "Fri May 31 10:43:59 2024       \n",
      "+---------------------------------------------------------------------------------------+\n",
      "| NVIDIA-SMI 535.171.04             Driver Version: 535.171.04   CUDA Version: 12.2     |\n",
      "|-----------------------------------------+----------------------+----------------------+\n",
      "| GPU  Name                 Persistence-M | Bus-Id        Disp.A | Volatile Uncorr. ECC |\n",
      "| Fan  Temp   Perf          Pwr:Usage/Cap |         Memory-Usage | GPU-Util  Compute M. |\n",
      "|                                         |                      |               MIG M. |\n",
      "|=========================================+======================+======================|\n",
      "|   0  NVIDIA A100 80GB PCIe          Off | 00000000:00:05.0 Off |                    0 |\n",
      "| N/A   31C    P0              41W / 300W |      0MiB / 81920MiB |      0%      Default |\n",
      "|                                         |                      |             Disabled |\n",
      "+-----------------------------------------+----------------------+----------------------+\n",
      "                                                                                         \n",
      "+---------------------------------------------------------------------------------------+\n",
      "| Processes:                                                                            |\n",
      "|  GPU   GI   CI        PID   Type   Process name                            GPU Memory |\n",
      "|        ID   ID                                                             Usage      |\n",
      "|=======================================================================================|\n",
      "|  No running processes found                                                           |\n",
      "+---------------------------------------------------------------------------------------+\n"
     ]
    }
   ],
   "source": [
    "# Check GPU\n",
    "!nvidia-smi"
   ]
  },
  {
   "cell_type": "code",
   "execution_count": 2,
   "id": "c76164db-50ce-4e20-931f-e4e33fbb7834",
   "metadata": {},
   "outputs": [],
   "source": [
    "# Import packages\n",
    "from IPython.display import display, Image\n",
    "from IPython import display\n",
    "import csv\n",
    "import os\n",
    "import json"
   ]
  },
  {
   "cell_type": "code",
   "execution_count": 3,
   "id": "e60c0e1e-1b07-43e1-af01-9ed81c49a149",
   "metadata": {},
   "outputs": [
    {
     "name": "stdout",
     "output_type": "stream",
     "text": [
      "Successfully extracted data from roboflow\n"
     ]
    }
   ],
   "source": [
    "# Import roboflow\n",
    "!pip install roboflow\n",
    "from roboflow import Roboflow\n",
    "rf = Roboflow(api_key=\"YgqaFYQYMXIDYOCYoY2O\") # Fill in your person api_key\n",
    "project = rf.workspace(\"footage\").project(\"seafloor_footage\") # Fill in your workspace and project name\n",
    "model = project.version(\"3\").model # Fill in the number of the version\n",
    "\n",
    "display.clear_output()\n",
    "print(\"Successfully extracted data from roboflow\")"
   ]
  },
  {
   "cell_type": "code",
   "execution_count": 7,
   "id": "851f29ca-c2b3-4421-a1e6-2bd0d67271bf",
   "metadata": {},
   "outputs": [],
   "source": [
    "def create_output_dir(base_dir): # Create new dir\n",
    "    if not os.path.exists(base_dir):\n",
    "        os.makedirs(base_dir)\n",
    "        return base_dir\n",
    "    else:\n",
    "        counter = 2\n",
    "        while True:\n",
    "            new_dir = f\"{base_dir}{counter}\"\n",
    "            if not os.path.exists(new_dir):\n",
    "                os.makedirs(new_dir)\n",
    "                return new_dir\n",
    "            counter += 1\n",
    "\n",
    "base_output_dir = \"/cache/album/cache/kso-benjamin/bucket/kso/notebooks/test/predictions/objd-pred\" # Define base dir\n",
    "output_dir = create_output_dir(base_output_dir)\n",
    "\n",
    "input_directory = \"/cache/album/cache/kso-benjamin/bucket/kso/notebooks/test/Seafloor_footage-1/Raw/\" # Define dir with raw images\n",
    "\n",
    "for filename in os.listdir(input_directory): # Iterate over the files\n",
    "    filepath = os.path.join(input_directory, filename) # Get the full path \n",
    "    \n",
    "    if filepath.lower().endswith(('.png', '.jpg', '.jpeg')): # Check format\n",
    "\n",
    "        prediction = model.predict(filepath, confidence=40, overlap=30) # Perform prediction on the image\n",
    "        \n",
    "        prediction_data = prediction.json() # Get the JSON results\n",
    "        \n",
    "        csv_filename = os.path.splitext(filename)[0] + \"_prediction.csv\" # Write to csv\n",
    "        csv_filepath = os.path.join(output_dir, csv_filename)\n",
    "        \n",
    "        with open(csv_filepath, mode='w', newline='') as csv_file:\n",
    "            csv_writer = csv.writer(csv_file)\n",
    "            \n",
    "            header = [\"x\", \"y\", \"width\", \"height\", \"confidence\", \"class\", \"class_id\", \"detection_id\", \"image_path\", \"prediction_type\"] # Write the header row\n",
    "            csv_writer.writerow(header)\n",
    "            \n",
    "            for idx, pred in enumerate(prediction_data['predictions']):  # Write each prediction as a row\n",
    "                row = [\n",
    "                    pred.get('x', ''),\n",
    "                    pred.get('y', ''),\n",
    "                    pred.get('width', ''),\n",
    "                    pred.get('height', ''),\n",
    "                    pred.get('confidence', ''),\n",
    "                    pred.get('class', ''),\n",
    "                    pred.get('class_id', ''),\n",
    "                    pred.get('detection_id', ''),\n",
    "                    pred.get('image_path', ''),\n",
    "                    pred.get('prediction_type', '')\n",
    "                ]\n",
    "                csv_writer.writerow(row)\n",
    "        \n",
    "        labeled_prediction = model.predict(filepath, confidence=40, overlap=30, labels=True) # Perform prediction with labels and save the result\n",
    "        \n",
    "        output_image_path = os.path.join(output_dir, os.path.splitext(filename)[0] + \"_prediction.jpg\") # Construct the output file path for labeled prediction image\n",
    "        \n",
    "        labeled_prediction.save(output_image_path) # Save the labeled prediction result to an image file\n",
    "        \n",
    "        display.clear_output()\n"
   ]
  },
  {
   "cell_type": "code",
   "execution_count": null,
   "id": "67c468e5-353c-472f-896f-09cfff7adf10",
   "metadata": {},
   "outputs": [],
   "source": []
  }
 ],
 "metadata": {
  "kernelspec": {
   "display_name": "Python 3 (ipykernel)",
   "language": "python",
   "name": "python3"
  },
  "language_info": {
   "codemirror_mode": {
    "name": "ipython",
    "version": 3
   },
   "file_extension": ".py",
   "mimetype": "text/x-python",
   "name": "python",
   "nbconvert_exporter": "python",
   "pygments_lexer": "ipython3",
   "version": "3.10.10"
  }
 },
 "nbformat": 4,
 "nbformat_minor": 5
}
