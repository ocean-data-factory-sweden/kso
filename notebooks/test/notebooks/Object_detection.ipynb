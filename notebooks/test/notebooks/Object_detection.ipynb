{
 "cells": [
  {
   "cell_type": "markdown",
   "id": "ed9143e7-755d-48b2-b77f-5c2688c05cc1",
   "metadata": {},
   "source": [
    "<h1>Object detection script</h1>"
   ]
  },
  {
   "cell_type": "markdown",
   "id": "ba01225d-2a98-45a9-81f4-6750ac6e65a7",
   "metadata": {},
   "source": [
    "<h2>Importing packages</h2>"
   ]
  },
  {
   "cell_type": "code",
   "execution_count": 2,
   "id": "c76164db-50ce-4e20-931f-e4e33fbb7834",
   "metadata": {},
   "outputs": [],
   "source": [
    "# Import packages\n",
    "from IPython.display import display, Image\n",
    "from IPython import display\n",
    "import csv\n",
    "import os\n",
    "import json"
   ]
  },
  {
   "cell_type": "markdown",
   "id": "af50d712-2e97-4b96-af8a-1729eca3c7b2",
   "metadata": {},
   "source": [
    "<h2>Importing a trained model from Roboflow</h2>"
   ]
  },
  {
   "cell_type": "markdown",
   "id": "c7c1cc2a-b1d4-4004-af5b-9fcc175af1bb",
   "metadata": {},
   "source": [
    "<h3>Create a Roboflow Project:</h3>\n",
    "Sign in to your Roboflow account and create a new project, selecting \"Instance Segmentation\" as the task type.\n",
    "\n",
    "<h3>Annotate your Data:</h3>\n",
    "Upload your images and use the Roboflow annotation tool to label each object instance.\n",
    "\n",
    "<h3>Splitting and Downloading the Dataset:</h3>\n",
    "Once annotations are complete, split your dataset into training, validation, and test sets using Roboflow's splitting tool. Then, navigate to the \"Versions\" tab, select the desired version, click \"Export Dataset,\" choose \"COCO Segmentation\" format, and click \"Show Download Code\" to generate a code snippet containing the download link.\n",
    "\n",
    "<h3>Paste the Download Code:</h3>\n",
    "Copy the entire code snippet provided by Roboflow and paste it into the designated code block below in your JupyterLab notebook."
   ]
  },
  {
   "cell_type": "code",
   "execution_count": 3,
   "id": "e60c0e1e-1b07-43e1-af01-9ed81c49a149",
   "metadata": {},
   "outputs": [
    {
     "name": "stdout",
     "output_type": "stream",
     "text": [
      "Successfully extracted data from roboflow\n"
     ]
    }
   ],
   "source": [
    "# Import roboflow\n",
    "!pip install roboflow\n",
    "from roboflow import Roboflow\n",
    "rf = Roboflow(api_key=\"YgqaFYQYMXIDYOCYoY2O\") # Fill in your person api_key\n",
    "project = rf.workspace(\"footage\").project(\"seafloor_footage\") # Fill in your workspace and project name\n",
    "model = project.version(\"3\").model # Fill in the number of the version\n",
    "\n",
    "display.clear_output()\n",
    "print(\"Successfully extracted data from roboflow\")"
   ]
  },
  {
   "cell_type": "markdown",
   "id": "6438060d-f43c-4834-8c88-40e1beaef85c",
   "metadata": {},
   "source": [
    "<h2>Prediction</h2>"
   ]
  },
  {
   "cell_type": "code",
   "execution_count": null,
   "id": "f6d4ba6b-0bf8-4ee6-999d-0bd155a4503f",
   "metadata": {},
   "outputs": [],
   "source": [
    "def create_output_dir(base_dir):\n",
    "    \"\"\"\n",
    "    Create a new directory if it doesn't exist.\n",
    "    If the directory already exists, append a number to the directory name and create a new directory.\n",
    "    \n",
    "    Parameters:\n",
    "    - base_dir (str): The base directory path.\n",
    "    \n",
    "    Returns:\n",
    "    - The path of the created directory.\n",
    "    \"\"\"\n",
    "    if not os.path.exists(base_dir):\n",
    "        os.makedirs(base_dir)\n",
    "        return base_dir\n",
    "    else:\n",
    "        counter = 2\n",
    "        while True:\n",
    "            new_dir = f\"{base_dir}{counter}\"\n",
    "            if not os.path.exists(new_dir):\n",
    "                os.makedirs(new_dir)\n",
    "                return new_dir\n",
    "            counter += 1\n",
    "\n",
    "base_output_dir = \"/cache/album/cache/kso-benjamin/bucket/kso/notebooks/test/predictions/objd-pred\"\n",
    "# Define the base directory where the output directories will be created.\n",
    "\n",
    "output_dir = create_output_dir(base_output_dir)\n",
    "# Create a new output directory using the base directory.\n",
    "\n",
    "input_directory = \"/cache/album/cache/kso-benjamin/bucket/kso/notebooks/test/Seafloor_footage-1/Raw/\"\n",
    "# Define the directory containing the raw images.\n",
    "\n",
    "for filename in os.listdir(input_directory):\n",
    "    # Iterate over the files in the input directory.\n",
    "    \n",
    "    filepath = os.path.join(input_directory, filename)\n",
    "    # Get the full path of the current file.\n",
    "    \n",
    "    if filepath.lower().endswith(('.png', '.jpg', '.jpeg')):\n",
    "        # Check if the file has a valid image format (PNG, JPG, JPEG).\n",
    "        \n",
    "        prediction = model.predict(filepath, confidence=40, overlap=30)\n",
    "        # Perform prediction on the image using the `model` object.\n",
    "        \n",
    "        prediction_data = prediction.json()\n",
    "        # Get the JSON results of the prediction.\n",
    "        \n",
    "        csv_filename = os.path.splitext(filename)[0] + \"_prediction.csv\"\n",
    "        # Generate the CSV filename based on the input filename.\n",
    "        \n",
    "        csv_filepath = os.path.join(output_dir, csv_filename)\n",
    "        # Create the full path of the CSV file in the output directory.\n",
    "        \n",
    "        with open(csv_filepath, mode='w', newline='') as csv_file:\n",
    "            csv_writer = csv.writer(csv_file)\n",
    "            \n",
    "            header = [\"x\", \"y\", \"width\", \"height\", \"confidence\", \"class\", \"class_id\", \"detection_id\", \"image_path\", \"prediction_type\"]\n",
    "            # Define the header row of the CSV file.\n",
    "            \n",
    "            csv_writer.writerow(header)\n",
    "            # Write the header row to the CSV file.\n",
    "            \n",
    "            for idx, pred in enumerate(prediction_data['predictions']):\n",
    "                # Iterate over each prediction in the prediction data.\n",
    "                \n",
    "                row = [\n",
    "                    pred.get('x', ''),\n",
    "                    pred.get('y', ''),\n",
    "                    pred.get('width', ''),\n",
    "                    pred.get('height', ''),\n",
    "                    pred.get('confidence', ''),\n",
    "                    pred.get('class', ''),\n",
    "                    pred.get('class_id', ''),\n",
    "                    pred.get('detection_id', ''),\n",
    "                    pred.get('image_path', ''),\n",
    "                    pred.get('prediction_type', '')\n",
    "                ]\n",
    "                # Create a row of data for the current prediction.\n",
    "                \n",
    "                csv_writer.writerow(row)\n",
    "                # Write the row to the CSV file.\n",
    "        \n",
    "        labeled_prediction = model.predict(filepath, confidence=40, overlap=30, labels=True)\n",
    "        # Perform prediction on the image with labels using the `model` object.\n",
    "        \n",
    "        output_image_path = os.path.join(output_dir, os.path.splitext(filename)[0] + \"_prediction.jpg\")\n",
    "        # Create the full path of the labeled prediction image file in the output directory.\n",
    "        \n",
    "        labeled_prediction.save(output_image_path)\n",
    "        # Save the labeled prediction result as an image file.\n",
    "        \n",
    "        display.clear_output()\n",
    "        # Clear the output display.\n"
   ]
  }
 ],
 "metadata": {
  "kernelspec": {
   "display_name": "Python 3 (ipykernel)",
   "language": "python",
   "name": "python3"
  },
  "language_info": {
   "codemirror_mode": {
    "name": "ipython",
    "version": 3
   },
   "file_extension": ".py",
   "mimetype": "text/x-python",
   "name": "python",
   "nbconvert_exporter": "python",
   "pygments_lexer": "ipython3",
   "version": "3.10.10"
  }
 },
 "nbformat": 4,
 "nbformat_minor": 5
}
