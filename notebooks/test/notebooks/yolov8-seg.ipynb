{
 "cells": [
  {
   "cell_type": "markdown",
   "id": "ec594491-9ade-4d6b-846b-46786d9539cd",
   "metadata": {},
   "source": [
    "<h1>YoloV8-seg script</h1>"
   ]
  },
  {
   "cell_type": "markdown",
   "id": "a92cd10e-ed97-4403-8356-5c2a4f6c58ce",
   "metadata": {},
   "source": [
    "This script is currently not functional"
   ]
  },
  {
   "cell_type": "markdown",
   "id": "6a893055-5627-494a-8d05-6e5e879a262f",
   "metadata": {},
   "source": [
    "<h2>Importing packages</h2>"
   ]
  },
  {
   "cell_type": "code",
   "execution_count": 3,
   "id": "1193c574-8920-43e1-9b7f-146e1d4d0a1a",
   "metadata": {
    "editable": true,
    "slideshow": {
     "slide_type": ""
    },
    "tags": []
   },
   "outputs": [
    {
     "name": "stdout",
     "output_type": "stream",
     "text": [
      "Packages loaded successfully\n"
     ]
    }
   ],
   "source": [
    "!pip install ultralytics\n",
    "import ultralytics\n",
    "from ultralytics import YOLO\n",
    "import matplotlib.pyplot as plt\n",
    "import cv2\n",
    "import os\n",
    "from IPython.display import display, Image\n",
    "from IPython import display\n",
    "display.clear_output()\n",
    "print(\"Packages loaded successfully\")"
   ]
  },
  {
   "cell_type": "markdown",
   "id": "dad062be-79c8-461d-8c95-7f120560806d",
   "metadata": {},
   "source": [
    "<h2>Importing data from roboflow</h2>"
   ]
  },
  {
   "cell_type": "code",
   "execution_count": 5,
   "id": "e60c0e1e-1b07-43e1-af01-9ed81c49a149",
   "metadata": {},
   "outputs": [
    {
     "name": "stdout",
     "output_type": "stream",
     "text": [
      "Successfully extracted data from roboflow\n"
     ]
    }
   ],
   "source": [
    "!pip install roboflow\n",
    "\n",
    "from roboflow import Roboflow\n",
    "rf = Roboflow(api_key=\"YgqaFYQYMXIDYOCYoY2O\")\n",
    "project = rf.workspace(\"footage\").project(\"seafloor_footage\")\n",
    "version = project.version(2)\n",
    "dataset = version.download(\"yolov8\")\n",
    "\n",
    "display.clear_output()\n",
    "print(\"Successfully extracted data from roboflow\")"
   ]
  },
  {
   "cell_type": "markdown",
   "id": "bfcc6ab7-3d16-4807-a39f-bd6b0e0bc614",
   "metadata": {},
   "source": [
    "<h2>Setting PATH env</h2>"
   ]
  },
  {
   "cell_type": "code",
   "execution_count": 6,
   "id": "fdd78b54-e10f-4325-b024-2d4fc6a39c7b",
   "metadata": {
    "editable": true,
    "slideshow": {
     "slide_type": ""
    },
    "tags": []
   },
   "outputs": [],
   "source": [
    "os.environ['PATH'] += ':/home/jupyter-kso-benjamin/.local/bin'"
   ]
  },
  {
   "cell_type": "markdown",
   "id": "480fbe3c-63bc-44d0-95c3-0d8ab3dfecba",
   "metadata": {},
   "source": [
    "<h2>Checking if all packages are installed correctly</h2>"
   ]
  },
  {
   "cell_type": "code",
   "execution_count": 7,
   "id": "b9e98147-3f4a-4430-81f0-d6031a52efc7",
   "metadata": {},
   "outputs": [
    {
     "name": "stdout",
     "output_type": "stream",
     "text": [
      "Ultralytics YOLOv8.0.200 🚀 Python-3.10.10 torch-2.3.0+cu121 CUDA:0 (NVIDIA A100 80GB PCIe, 81051MiB)\n",
      "Setup complete ✅ (8 CPUs, 31.3 GB RAM, 27.1/61.8 GB disk)\n",
      "\n",
      "OS                  Linux-5.15.0-107-generic-x86_64-with-glibc2.35\n",
      "Environment         Linux\n",
      "Python              3.10.10\n",
      "Install             pip\n",
      "RAM                 31.34 GB\n",
      "CPU                 AMD EPYC-Rome Processor\n",
      "CUDA                12.1\n",
      "\n",
      "matplotlib          ✅ 3.9.0>=3.3.0\n",
      "numpy               ✅ 1.23.1>=1.22.2\n",
      "opencv-python       ✅ 4.6.0.66>=4.6.0\n",
      "pillow              ✅ 9.4.0>=7.1.2\n",
      "pyyaml              ✅ 6.0>=5.3.1\n",
      "requests            ✅ 2.28.2>=2.23.0\n",
      "scipy               ✅ 1.13.1>=1.4.1\n",
      "torch               ✅ 2.3.0>=1.8.0\n",
      "torchvision         ✅ 0.18.0>=0.9.0\n",
      "tqdm                ✅ 4.64.1>=4.64.0\n",
      "pandas              ✅ 1.4.0>=1.1.4\n",
      "seaborn             ✅ 0.13.2>=0.11.0\n",
      "psutil              ✅ 5.9.8\n",
      "py-cpuinfo          ✅ 9.0.0\n",
      "thop                ✅ 0.1.1-2209072238>=0.1.1\n"
     ]
    }
   ],
   "source": [
    "!yolo checks"
   ]
  },
  {
   "cell_type": "markdown",
   "id": "35f306bc-85f0-44c2-bc90-b30f1016b554",
   "metadata": {},
   "source": [
    "<h2>Connecting to wandb</h2>"
   ]
  },
  {
   "cell_type": "markdown",
   "id": "677a16aa-0053-4599-8f18-c9697ab43c24",
   "metadata": {},
   "source": [
    "<h3>Go to wandb into your account settings to find your personal API key</h3>"
   ]
  },
  {
   "cell_type": "code",
   "execution_count": 8,
   "id": "01bd1375-361c-4084-bc2c-a191f5066ae8",
   "metadata": {},
   "outputs": [
    {
     "name": "stderr",
     "output_type": "stream",
     "text": [
      "\u001b[34m\u001b[1mwandb\u001b[0m: Currently logged in as: \u001b[33mbenjamin-hoeree\u001b[0m (\u001b[33mkoster\u001b[0m). Use \u001b[1m`wandb login --relogin`\u001b[0m to force relogin\n",
      "\u001b[34m\u001b[1mwandb\u001b[0m: \u001b[33mWARNING\u001b[0m If you're specifying your api key in code, ensure this code is not shared publicly.\n",
      "\u001b[34m\u001b[1mwandb\u001b[0m: \u001b[33mWARNING\u001b[0m Consider setting the WANDB_API_KEY environment variable, or running `wandb login` from the command line.\n",
      "\u001b[34m\u001b[1mwandb\u001b[0m: Appending key for api.wandb.ai to your netrc file: /home/jupyter-kso-benjamin/.netrc\n"
     ]
    }
   ],
   "source": [
    "import wandb\n",
    "wandb.login(key='') # Fill in API key here\n",
    "os.environ['MLFLOW_TRACKING_URI'] = ''"
   ]
  },
  {
   "cell_type": "markdown",
   "id": "424613c9-f0db-4c6b-abce-65c62571d487",
   "metadata": {},
   "source": [
    "<h2>Training a model</h2>"
   ]
  },
  {
   "cell_type": "code",
   "execution_count": 13,
   "id": "a234c9c2-3158-4734-a223-30cf1dd6f0be",
   "metadata": {
    "editable": true,
    "slideshow": {
     "slide_type": ""
    },
    "tags": []
   },
   "outputs": [
    {
     "name": "stdout",
     "output_type": "stream",
     "text": [
      "New https://pypi.org/project/ultralytics/8.2.26 available 😃 Update with 'pip install -U ultralytics'\n",
      "Ultralytics YOLOv8.0.200 🚀 Python-3.10.10 torch-2.3.0+cu121 CUDA:0 (NVIDIA A100 80GB PCIe, 81051MiB)\n",
      "\u001b[34m\u001b[1mengine/trainer: \u001b[0mtask=segment, mode=train, model=/cache/album/cache/kso-benjamin/bucket/kso/notebooks/test/yolov8m-seg.pt, data=/cache/album/cache/kso-benjamin/bucket/kso/notebooks/test/Seafloor_footage-1/data.yaml, epochs=125, patience=50, batch=16, imgsz=640, save=True, save_period=-1, cache=False, device=None, workers=8, project=None, name=train6, exist_ok=False, pretrained=True, optimizer=auto, verbose=True, seed=0, deterministic=True, single_cls=False, rect=False, cos_lr=False, close_mosaic=10, resume=False, amp=True, fraction=1.0, profile=False, freeze=None, overlap_mask=True, mask_ratio=4, dropout=0.0, val=True, split=val, save_json=False, save_hybrid=False, conf=None, iou=0.7, max_det=300, half=False, dnn=False, plots=True, source=None, show=False, save_txt=False, save_conf=False, save_crop=False, show_labels=True, show_conf=True, vid_stride=1, stream_buffer=False, line_width=None, visualize=False, augment=False, agnostic_nms=False, classes=None, retina_masks=False, boxes=True, format=torchscript, keras=False, optimize=False, int8=False, dynamic=False, simplify=False, opset=None, workspace=4, nms=False, lr0=0.001, lrf=0.01, momentum=0.937, weight_decay=0.0005, warmup_epochs=3.0, warmup_momentum=0.8, warmup_bias_lr=0.1, box=7.5, cls=0.5, dfl=1.5, pose=28, kobj=1.0, label_smoothing=0.0, nbs=64, hsv_h=0.015, hsv_s=0.7, hsv_v=0.4, degrees=0.0, translate=0.1, scale=0.5, shear=0.0, perspective=0.0, flipud=0.0, fliplr=0.5, mosaic=1.0, mixup=0.0, copy_paste=0.0, cfg=None, tracker=botsort.yaml, save_dir=runs/segment/train6\n",
      "Overriding model.yaml nc=80 with nc=3\n",
      "\n",
      "                   from  n    params  module                                       arguments                     \n",
      "  0                  -1  1      1392  ultralytics.nn.modules.conv.Conv             [3, 48, 3, 2]                 \n",
      "  1                  -1  1     41664  ultralytics.nn.modules.conv.Conv             [48, 96, 3, 2]                \n",
      "  2                  -1  2    111360  ultralytics.nn.modules.block.C2f             [96, 96, 2, True]             \n",
      "  3                  -1  1    166272  ultralytics.nn.modules.conv.Conv             [96, 192, 3, 2]               \n",
      "  4                  -1  4    813312  ultralytics.nn.modules.block.C2f             [192, 192, 4, True]           \n",
      "  5                  -1  1    664320  ultralytics.nn.modules.conv.Conv             [192, 384, 3, 2]              \n",
      "  6                  -1  4   3248640  ultralytics.nn.modules.block.C2f             [384, 384, 4, True]           \n",
      "  7                  -1  1   1991808  ultralytics.nn.modules.conv.Conv             [384, 576, 3, 2]              \n",
      "  8                  -1  2   3985920  ultralytics.nn.modules.block.C2f             [576, 576, 2, True]           \n",
      "  9                  -1  1    831168  ultralytics.nn.modules.block.SPPF            [576, 576, 5]                 \n",
      " 10                  -1  1         0  torch.nn.modules.upsampling.Upsample         [None, 2, 'nearest']          \n",
      " 11             [-1, 6]  1         0  ultralytics.nn.modules.conv.Concat           [1]                           \n",
      " 12                  -1  2   1993728  ultralytics.nn.modules.block.C2f             [960, 384, 2]                 \n",
      " 13                  -1  1         0  torch.nn.modules.upsampling.Upsample         [None, 2, 'nearest']          \n",
      " 14             [-1, 4]  1         0  ultralytics.nn.modules.conv.Concat           [1]                           \n",
      " 15                  -1  2    517632  ultralytics.nn.modules.block.C2f             [576, 192, 2]                 \n",
      " 16                  -1  1    332160  ultralytics.nn.modules.conv.Conv             [192, 192, 3, 2]              \n",
      " 17            [-1, 12]  1         0  ultralytics.nn.modules.conv.Concat           [1]                           \n",
      " 18                  -1  2   1846272  ultralytics.nn.modules.block.C2f             [576, 384, 2]                 \n",
      " 19                  -1  1   1327872  ultralytics.nn.modules.conv.Conv             [384, 384, 3, 2]              \n",
      " 20             [-1, 9]  1         0  ultralytics.nn.modules.conv.Concat           [1]                           \n",
      " 21                  -1  2   4207104  ultralytics.nn.modules.block.C2f             [960, 576, 2]                 \n",
      " 22        [15, 18, 21]  1   5160761  ultralytics.nn.modules.head.Segment          [3, 32, 192, [192, 384, 576]] \n",
      "YOLOv8m-seg summary: 331 layers, 27241385 parameters, 27241369 gradients, 110.4 GFLOPs\n",
      "\n",
      "Transferred 531/537 items from pretrained weights\n",
      "\u001b[34m\u001b[1mTensorBoard: \u001b[0mStart with 'tensorboard --logdir runs/segment/train6', view at http://localhost:6006/\n",
      "\u001b[34m\u001b[1mwandb\u001b[0m: Currently logged in as: \u001b[33mbenjamin-hoeree\u001b[0m (\u001b[33mkoster\u001b[0m). Use \u001b[1m`wandb login --relogin`\u001b[0m to force relogin\n",
      "\u001b[34m\u001b[1mwandb\u001b[0m: wandb version 0.17.0 is available!  To upgrade, please run:\n",
      "\u001b[34m\u001b[1mwandb\u001b[0m:  $ pip install wandb --upgrade\n",
      "\u001b[34m\u001b[1mwandb\u001b[0m: Tracking run with wandb version 0.15.11\n",
      "\u001b[34m\u001b[1mwandb\u001b[0m: Run data is saved locally in \u001b[35m\u001b[1m/cache/album/cache/kso-benjamin/bucket/kso/notebooks/test/wandb/run-20240530_111444-zu088oun\u001b[0m\n",
      "\u001b[34m\u001b[1mwandb\u001b[0m: Run \u001b[1m`wandb offline`\u001b[0m to turn off syncing.\n",
      "\u001b[34m\u001b[1mwandb\u001b[0m: Syncing run \u001b[33mtrain6\u001b[0m\n",
      "\u001b[34m\u001b[1mwandb\u001b[0m: ⭐️ View project at \u001b[34m\u001b[4mhttps://wandb.ai/koster/YOLOv8\u001b[0m\n",
      "\u001b[34m\u001b[1mwandb\u001b[0m: 🚀 View run at \u001b[34m\u001b[4mhttps://wandb.ai/koster/YOLOv8/runs/zu088oun\u001b[0m\n",
      "Freezing layer 'model.22.dfl.conv.weight'\n",
      "\u001b[34m\u001b[1mAMP: \u001b[0mrunning Automatic Mixed Precision (AMP) checks with YOLOv8n...\n",
      "\u001b[34m\u001b[1mAMP: \u001b[0mchecks passed ✅\n",
      "\u001b[34m\u001b[1mtrain: \u001b[0mScanning /cache/album/cache/kso-benjamin/bucket/kso/notebooks/test/Seaflo\u001b[0m\n",
      "\u001b[34m\u001b[1mval: \u001b[0mScanning /cache/album/cache/kso-benjamin/bucket/kso/notebooks/test/Seafloor\u001b[0m\n",
      "Plotting labels to runs/segment/train6/labels.jpg... \n",
      "\u001b[34m\u001b[1moptimizer:\u001b[0m 'optimizer=auto' found, ignoring 'lr0=0.001' and 'momentum=0.937' and determining best 'optimizer', 'lr0' and 'momentum' automatically... \n",
      "\u001b[34m\u001b[1moptimizer:\u001b[0m AdamW(lr=0.001429, momentum=0.9) with parameter groups 86 weight(decay=0.0), 97 weight(decay=0.0005), 96 bias(decay=0.0)\n",
      "\u001b[34m\u001b[1mMLflow: \u001b[0mlogging run_id(7fb9541f832145ac843beb0174bb7548) to runs/mlflow\n",
      "\u001b[34m\u001b[1mMLflow: \u001b[0mview at http://127.0.0.1:5000 with 'mlflow server --backend-store-uri runs/mlflow'\n",
      "\u001b[34m\u001b[1mMLflow: \u001b[0mdisable with 'yolo settings mlflow=False'\n",
      "Image sizes 640 train, 640 val\n",
      "Using 8 dataloader workers\n",
      "Logging results to \u001b[1mruns/segment/train6\u001b[0m\n",
      "Starting training for 125 epochs...\n",
      "\n",
      "      Epoch    GPU_mem   box_loss   seg_loss   cls_loss   dfl_loss  Instances       Size\n",
      "      1/125      6.83G      2.645       5.52      3.822      2.164        668   \n",
      "                 Class     Images  Instances      Box(P          R      mAP50  m\n",
      "                   all         12        387      0.163     0.0611     0.0984     0.0606          0          0          0          0\n",
      "\n",
      "      Epoch    GPU_mem   box_loss   seg_loss   cls_loss   dfl_loss  Instances       Size\n",
      "      2/125      6.68G       2.68      5.268      3.918      2.193        573   \n",
      "                 Class     Images  Instances      Box(P          R      mAP50  m\n",
      "^C\n",
      "Traceback (most recent call last):\n",
      "  File \"/home/jupyter-kso-benjamin/.local/bin/yolo\", line 8, in <module>\n",
      "    sys.exit(entrypoint())\n",
      "  File \"/home/jupyter-kso-benjamin/.local/lib/python3.10/site-packages/ultralytics/cfg/__init__.py\", line 444, in entrypoint\n",
      "    getattr(model, mode)(**overrides)  # default args from model\n",
      "  File \"/home/jupyter-kso-benjamin/.local/lib/python3.10/site-packages/ultralytics/engine/model.py\", line 341, in train\n",
      "    self.trainer.train()\n",
      "  File \"/home/jupyter-kso-benjamin/.local/lib/python3.10/site-packages/ultralytics/engine/trainer.py\", line 192, in train\n",
      "    self._do_train(world_size)\n",
      "  File \"/home/jupyter-kso-benjamin/.local/lib/python3.10/site-packages/ultralytics/engine/trainer.py\", line 385, in _do_train\n",
      "    self.metrics, self.fitness = self.validate()\n",
      "  File \"/home/jupyter-kso-benjamin/.local/lib/python3.10/site-packages/ultralytics/engine/trainer.py\", line 489, in validate\n",
      "    metrics = self.validator(self)\n",
      "  File \"/home/jupyter-kso-benjamin/.local/lib/python3.10/site-packages/torch/utils/_contextlib.py\", line 115, in decorate_context\n",
      "    return func(*args, **kwargs)\n",
      "  File \"/home/jupyter-kso-benjamin/.local/lib/python3.10/site-packages/ultralytics/engine/validator.py\", line 185, in __call__\n",
      "    stats = self.get_stats()\n",
      "  File \"/home/jupyter-kso-benjamin/.local/lib/python3.10/site-packages/ultralytics/models/yolo/detect/val.py\", line 145, in get_stats\n",
      "    self.metrics.process(*stats)\n",
      "  File \"/home/jupyter-kso-benjamin/.local/lib/python3.10/site-packages/ultralytics/utils/metrics.py\", line 823, in process\n",
      "    results_mask = ap_per_class(tp_m,\n",
      "  File \"/home/jupyter-kso-benjamin/.local/lib/python3.10/site-packages/ultralytics/utils/metrics.py\", line 478, in ap_per_class\n",
      "    fpc = (1 - tp[i]).cumsum(0)\n",
      "KeyboardInterrupt\n"
     ]
    }
   ],
   "source": [
    "!yolo task=segment mode=train \\\n",
    "    model=/cache/album/cache/kso-benjamin/bucket/kso/notebooks/test/yolov8m-seg.pt \\ # Path to your model\n",
    "    data=/cache/album/cache/kso-benjamin/bucket/kso/notebooks/test/Seafloor_footage-1/data.yaml \\ # Path to your footage\n",
    "    epochs=125 imgsz=640 batch=16 # Training parameters\n",
    "#display.clear_output()\n",
    "#print('Model was succesfully trained!')"
   ]
  },
  {
   "cell_type": "markdown",
   "id": "9e6ca618-49e7-4a2f-801a-ecbca718dede",
   "metadata": {},
   "source": [
    "<h2>Exporting a model</h2>"
   ]
  },
  {
   "cell_type": "code",
   "execution_count": null,
   "id": "4daf3bae-e1ee-4168-9b8d-1796cfc34b34",
   "metadata": {
    "editable": true,
    "slideshow": {
     "slide_type": ""
    },
    "tags": []
   },
   "outputs": [],
   "source": [
    "!yolo export model=/cache/album/cache/kso-benjamin/bucket/kso/notebooks/test/yolov8m-seg.pt \\\n",
    "    format=onnx"
   ]
  },
  {
   "cell_type": "markdown",
   "id": "e899eb17-e51b-424f-a035-b70e748e116c",
   "metadata": {},
   "source": [
    "<h2>Prediction</h2>"
   ]
  },
  {
   "cell_type": "code",
   "execution_count": null,
   "id": "91320e5b-9fcb-4049-a92c-ae20118fd203",
   "metadata": {
    "editable": true,
    "slideshow": {
     "slide_type": ""
    },
    "tags": []
   },
   "outputs": [],
   "source": [
    "!yolo predict task=segment model=/cache/album/cache/kso-benjamin/bucket/kso/notebooks/test/yolov8m-seg.pt imgsz=640 \\\n",
    "source=/cache/album/cache/kso-benjamin/bucket/kso/notebooks/test/Seafloor_footage-1/test/images \\\n",
    "visualize=True show=True \\\n",
    "data=/cache/album/cache/kso-benjamin/bucket/kso/notebooks/test/Seafloor_footage-1/data.yaml"
   ]
  }
 ],
 "metadata": {
  "kernelspec": {
   "display_name": "Python 3 (ipykernel)",
   "language": "python",
   "name": "python3"
  },
  "language_info": {
   "codemirror_mode": {
    "name": "ipython",
    "version": 3
   },
   "file_extension": ".py",
   "mimetype": "text/x-python",
   "name": "python",
   "nbconvert_exporter": "python",
   "pygments_lexer": "ipython3",
   "version": "3.10.10"
  }
 },
 "nbformat": 4,
 "nbformat_minor": 5
}
