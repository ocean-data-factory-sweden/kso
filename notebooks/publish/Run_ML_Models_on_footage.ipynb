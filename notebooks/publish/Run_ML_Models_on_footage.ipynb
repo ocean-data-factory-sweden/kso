{
 "cells": [
  {
   "cell_type": "markdown",
   "id": "hawaiian-ratio",
   "metadata": {
    "id": "hawaiian-ratio"
   },
   "source": [
    "<img align=\"left\" src=\"https://panoptes-uploads.zooniverse.org/project_avatar/86c23ca7-bbaa-4e84-8d8a-876819551431.png\" type=\"image/png\" height=100 width=100>\n",
    "</img>\n",
    "<h1 align=\"right\">KSO Notebook #9: Run machine learning models on footage</h1>\n",
    "<h3 align=\"right\"><a href=\"https://colab.research.google.com/github/ocean-data-factory-sweden/kso/blob/main/notebooks/09_Run_ML_Models_on_footage.ipynb\" target=\"_parent\"><img src=\"https://colab.research.google.com/assets/colab-badge.svg\" alt=\"Open In Colab\"/></a></h3>\n",
    "<h3 align=\"right\">Written by the KSO team</h3>"
   ]
  },
  {
   "cell_type": "markdown",
   "id": "recovered-hamburg",
   "metadata": {
    "id": "recovered-hamburg"
   },
   "source": [
    "# Set up KSO requirements"
   ]
  },
  {
   "cell_type": "markdown",
   "id": "fe8756c2",
   "metadata": {
    "id": "fe8756c2"
   },
   "source": [
    "### Install all the requirements"
   ]
  },
  {
   "cell_type": "markdown",
   "id": "_L2rby6aLfWQ",
   "metadata": {
    "id": "_L2rby6aLfWQ"
   },
   "source": [
    "Installing the requirements in Google Colab takes ~4 mins and might automatically crash/restart the session. Please run this cell until you get the \"Successful installation!\" message."
   ]
  },
  {
   "cell_type": "code",
   "execution_count": null,
   "id": "ab2bc392",
   "metadata": {
    "id": "ab2bc392"
   },
   "outputs": [],
   "source": [
    "import sys\n",
    "import os\n",
    "\n",
    "# Check if notebook is running in colab\n",
    "IN_COLAB = \"google.colab\" in sys.modules\n",
    "\n",
    "if IN_COLAB:\n",
    "    # Clone kso repo and install requirements\n",
    "    if not os.path.exists(\"kso\"):\n",
    "        print(\"Installing all dependencies...\")\n",
    "        !git clone https://github.com/ocean-data-factory-sweden/kso.git\n",
    "        !pip install -r /content/kso/requirements_colab.txt\n",
    "\n",
    "    # Enable external widgets and navigate to the kso tutorial folder\n",
    "    try:\n",
    "        from google.colab import output\n",
    "\n",
    "        output.enable_custom_widget_manager()\n",
    "        os.chdir(\"kso/notebooks\")\n",
    "    except ImportError:\n",
    "        pass\n",
    "\n",
    "# Prepare the dev settings if needed\n",
    "try:\n",
    "    if \"kso_utils\" not in sys.modules:\n",
    "        sys.path.insert(0, os.path.abspath(os.path.join(os.getcwd(), \"../..\")))\n",
    "        import kso_utils\n",
    "\n",
    "        print(\"Using development version...\")\n",
    "        # Enables testing changes in utils\n",
    "        %load_ext autoreload\n",
    "        %autoreload 2\n",
    "except ImportError:\n",
    "    print(\"Installing latest version from PyPI...\")\n",
    "    %pip install -q kso-utils\n",
    "\n",
    "if IN_COLAB:\n",
    "\n",
    "    def restart_runtime():\n",
    "        os.kill(os.getpid(), 9)\n",
    "\n",
    "    # Check if there are any issues with previously imported packages\n",
    "    try:\n",
    "        from kso_utils.project import ProjectProcessor\n",
    "    except Exception as e:\n",
    "        print(f\"Error importing package: {e}\")\n",
    "        print(\"Restarting runtime to apply package changes...\")\n",
    "        restart_runtime()\n",
    "\n",
    "# Avoid issues with widgets not displaying properly\n",
    "!jupyter nbextension enable --user --py widgetsnbextension\n",
    "!jupyter nbextension enable --user --py jupyter_bbox_widget\n",
    "!jupyter nbextension enable --user --py ipysheet\n",
    "\n",
    "# Load the clear output function to keep things clean\n",
    "from IPython.display import clear_output\n",
    "\n",
    "clear_output()\n",
    "print(\"Successful installation... you're good to go!\")"
   ]
  },
  {
   "cell_type": "markdown",
   "id": "be10ade2",
   "metadata": {
    "id": "be10ade2"
   },
   "source": [
    "### Import Python packages"
   ]
  },
  {
   "cell_type": "code",
   "execution_count": null,
   "id": "5d5eb4c5",
   "metadata": {
    "id": "5d5eb4c5"
   },
   "outputs": [],
   "source": [
    "# Import required modules\n",
    "%matplotlib inline\n",
    "import kso_utils.widgets as kso_widgets\n",
    "import kso_utils.project_utils as p_utils\n",
    "import kso_utils.yolo_utils as y_utils\n",
    "from kso_utils.project import ProjectProcessor, MLProjectProcessor\n",
    "\n",
    "print(\"Packages loaded successfully\")"
   ]
  },
  {
   "cell_type": "markdown",
   "id": "4085ec1a",
   "metadata": {
    "id": "4085ec1a"
   },
   "source": [
    "### Choose your project"
   ]
  },
  {
   "cell_type": "code",
   "execution_count": null,
   "id": "incident-surveillance",
   "metadata": {
    "id": "incident-surveillance"
   },
   "outputs": [],
   "source": [
    "project_name = kso_widgets.choose_project()"
   ]
  },
  {
   "cell_type": "markdown",
   "id": "23a54ce6",
   "metadata": {
    "id": "23a54ce6"
   },
   "source": [
    "### Initiate project's database"
   ]
  },
  {
   "cell_type": "code",
   "execution_count": null,
   "id": "4d3e1b35",
   "metadata": {
    "id": "4d3e1b35"
   },
   "outputs": [],
   "source": [
    "# Find project\n",
    "project = p_utils.find_project(project_name=project_name.value)\n",
    "# Initialise pp\n",
    "pp = ProjectProcessor(project)"
   ]
  },
  {
   "cell_type": "code",
   "execution_count": null,
   "id": "5bbe9710",
   "metadata": {
    "id": "5bbe9710"
   },
   "outputs": [],
   "source": [
    "# Initialise mlp\n",
    "mlp = MLProjectProcessor(pp)"
   ]
  },
  {
   "cell_type": "markdown",
   "id": "1d3f913f",
   "metadata": {
    "id": "1d3f913f"
   },
   "source": [
    "# Run model on footage"
   ]
  },
  {
   "cell_type": "markdown",
   "id": "d5ece376",
   "metadata": {
    "id": "d5ece376"
   },
   "source": [
    "### Choose the model"
   ]
  },
  {
   "cell_type": "code",
   "execution_count": null,
   "id": "c41909d3",
   "metadata": {
    "id": "c41909d3"
   },
   "outputs": [],
   "source": [
    "model = mlp.choose_model()"
   ]
  },
  {
   "cell_type": "markdown",
   "id": "53aa7102",
   "metadata": {
    "id": "53aa7102"
   },
   "source": [
    "### Choose folder to download the model"
   ]
  },
  {
   "cell_type": "code",
   "execution_count": null,
   "id": "2456b57b",
   "metadata": {
    "id": "2456b57b"
   },
   "outputs": [],
   "source": [
    "download_dir = kso_widgets.choose_folder(\".\", \"where to download the model\")"
   ]
  },
  {
   "cell_type": "markdown",
   "id": "cVtzA9X88UwR",
   "metadata": {
    "id": "cVtzA9X88UwR"
   },
   "source": [
    "### Download model"
   ]
  },
  {
   "cell_type": "code",
   "execution_count": null,
   "id": "842d5de0",
   "metadata": {
    "id": "842d5de0"
   },
   "outputs": [],
   "source": [
    "artifact_dir = mlp.get_model(model.value, download_dir.selected)"
   ]
  },
  {
   "cell_type": "markdown",
   "id": "z9hZFcP28cu9",
   "metadata": {
    "id": "z9hZFcP28cu9"
   },
   "source": [
    "### Choose the footage to run the models into"
   ]
  },
  {
   "cell_type": "code",
   "execution_count": null,
   "id": "9374fd88",
   "metadata": {},
   "outputs": [],
   "source": [
    "pp.choose_footage_source()"
   ]
  },
  {
   "cell_type": "code",
   "execution_count": null,
   "id": "180ddad3",
   "metadata": {
    "id": "180ddad3"
   },
   "outputs": [],
   "source": [
    "pp.choose_footage()"
   ]
  },
  {
   "cell_type": "code",
   "execution_count": null,
   "id": "8e38d48c",
   "metadata": {},
   "outputs": [],
   "source": [
    "# Ensure the selected footage and paths are loaded to the system\n",
    "pp.check_selected_movies()"
   ]
  },
  {
   "cell_type": "markdown",
   "id": "zD5mhS2l8nuY",
   "metadata": {
    "id": "zD5mhS2l8nuY"
   },
   "source": [
    "### Choose folder to save the runs"
   ]
  },
  {
   "cell_type": "code",
   "execution_count": null,
   "id": "75c4913f",
   "metadata": {
    "id": "75c4913f"
   },
   "outputs": [],
   "source": [
    "# This should be left as default value in most cases.\n",
    "save_dir = kso_widgets.choose_folder(\".\", \"runs output\")"
   ]
  },
  {
   "cell_type": "markdown",
   "id": "TDH1TDtq8tS7",
   "metadata": {
    "id": "TDH1TDtq8tS7"
   },
   "source": [
    "### Choose a confidence threshold for evaluation"
   ]
  },
  {
   "cell_type": "code",
   "execution_count": null,
   "id": "23b984ea",
   "metadata": {
    "id": "23b984ea"
   },
   "outputs": [],
   "source": [
    "conf_thres = kso_widgets.choose_conf()"
   ]
  },
  {
   "cell_type": "markdown",
   "id": "cE82MPDb8yVh",
   "metadata": {
    "id": "cE82MPDb8yVh"
   },
   "source": [
    "## Choose a suitable experiment name"
   ]
  },
  {
   "cell_type": "code",
   "execution_count": null,
   "id": "1554f0ce",
   "metadata": {
    "id": "1554f0ce"
   },
   "outputs": [],
   "source": [
    "exp_name = kso_widgets.choose_experiment_name()"
   ]
  },
  {
   "cell_type": "markdown",
   "id": "LsuDEYSn83VJ",
   "metadata": {
    "id": "LsuDEYSn83VJ"
   },
   "source": [
    "### Run model over selected footage"
   ]
  },
  {
   "cell_type": "code",
   "execution_count": null,
   "id": "ERKoACv1tvnj",
   "metadata": {
    "id": "ERKoACv1tvnj"
   },
   "outputs": [],
   "source": [
    "# Get the paths of the movies selected\n",
    "mlp.detect_yolo(\n",
    "    save_dir=save_dir.selected,\n",
    "    conf_thres=conf_thres.value,\n",
    "    artifact_dir=artifact_dir,\n",
    "    save_output=True,\n",
    "    project=mlp.project_name,\n",
    "    name=exp_name.value,\n",
    "    model=model.value,\n",
    "    latest=False,\n",
    "    source=(\n",
    "        pp.selected_movies_paths\n",
    "        if isinstance(pp.selected_movies_paths, str)\n",
    "        else pp.selected_movies_paths[0]\n",
    "    ),\n",
    ")"
   ]
  },
  {
   "cell_type": "markdown",
   "id": "0ppmp2oL9jTY",
   "metadata": {
    "id": "0ppmp2oL9jTY"
   },
   "source": [
    "### View the processed footage"
   ]
  },
  {
   "cell_type": "code",
   "execution_count": null,
   "id": "caec3f56",
   "metadata": {},
   "outputs": [],
   "source": [
    "kso_widgets.select_viewer()"
   ]
  },
  {
   "cell_type": "markdown",
   "id": "22ff4bf2",
   "metadata": {},
   "source": [
    "### Process the detections\n",
    "Add the metadata associated with the species identified and the movies"
   ]
  },
  {
   "cell_type": "code",
   "execution_count": null,
   "id": "281d1588",
   "metadata": {
    "id": "281d1588"
   },
   "outputs": [],
   "source": [
    "dets_df = pp.process_detections(\n",
    "    project=pp.project,\n",
    "    db_connection=pp.db_connection,\n",
    "    csv_paths=pp.csv_paths,\n",
    "    annotations_csv_path=mlp.eval_dir,\n",
    "    model_registry=mlp.registry,\n",
    "    model=model.value,\n",
    "    team_name=mlp.team_name,\n",
    "    project_name=mlp.project_name,\n",
    ")"
   ]
  },
  {
   "cell_type": "markdown",
   "id": "8e350a8c",
   "metadata": {
    "id": "0ppmp2oL9jTY"
   },
   "source": [
    "### Plot the processed detections"
   ]
  },
  {
   "cell_type": "code",
   "execution_count": null,
   "id": "f235925d",
   "metadata": {},
   "outputs": [],
   "source": [
    "pp.plot_processed_detections(\n",
    "    df=dets_df,\n",
    "    thres=10,  # number of seconds for thresholding in interval\n",
    "    int_length=10,  # length in seconds of interval for filtering\n",
    ")"
   ]
  },
  {
   "cell_type": "markdown",
   "id": "fd8e9077",
   "metadata": {},
   "source": [
    "OPTIONAL #1 - Download the processed detections in a csv file for further analysis (e.g. comparisons between citizen scientists and experts)"
   ]
  },
  {
   "cell_type": "code",
   "execution_count": null,
   "id": "1c3f90cb",
   "metadata": {},
   "outputs": [],
   "source": [
    "pp.download_detections_csv(dets_df)"
   ]
  },
  {
   "cell_type": "markdown",
   "id": "2192eca2",
   "metadata": {},
   "source": [
    "OPTIONAL #2 - Processed classifications with species as columns (For biodiversity purposes)"
   ]
  },
  {
   "cell_type": "code",
   "execution_count": null,
   "id": "1492e107",
   "metadata": {},
   "outputs": [],
   "source": [
    "pp.download_detections_species_cols_csv(\n",
    "    df=dets_df,\n",
    ")"
   ]
  },
  {
   "cell_type": "markdown",
   "id": "d48985de",
   "metadata": {},
   "source": [
    "OPTIONAL #3 - Download maxN annotations in GBIF/OBIS format (For biodiversity purposes)"
   ]
  },
  {
   "cell_type": "code",
   "execution_count": null,
   "id": "efa6102c",
   "metadata": {},
   "outputs": [],
   "source": [
    "pp.download_gbif_occurrences(\"ml_algorithms\", dets_df)"
   ]
  },
  {
   "cell_type": "markdown",
   "id": "-4ryFmu887d3",
   "metadata": {
    "id": "-4ryFmu887d3"
   },
   "source": [
    "OPTIONAL #4 - Upload csv with labels from previous model detections so that you can aggregate them for biogical analysis (For debugging purposes)"
   ]
  },
  {
   "cell_type": "code",
   "execution_count": null,
   "id": "890ce983",
   "metadata": {
    "id": "890ce983",
    "scrolled": true
   },
   "outputs": [],
   "source": [
    "mlp.widget_eval_dir = kso_widgets.choose_folder(\n",
    "    (\n",
    "        save_dir.selected\n",
    "        if \"save_dir\" in vars() and save_dir.selected is not None\n",
    "        else \".\"\n",
    "    ),\n",
    "    \"runs output\",\n",
    ")"
   ]
  },
  {
   "cell_type": "markdown",
   "id": "292a6aaf",
   "metadata": {},
   "source": [
    "OPTIONAL #4 (Required!) - Load the path of the csv files"
   ]
  },
  {
   "cell_type": "code",
   "execution_count": null,
   "id": "6a5a85b6",
   "metadata": {},
   "outputs": [],
   "source": [
    "mlp.eval_dir = mlp.widget_eval_dir.selected"
   ]
  },
  {
   "cell_type": "code",
   "execution_count": null,
   "id": "racial-richardson",
   "metadata": {
    "id": "racial-richardson"
   },
   "outputs": [],
   "source": [
    "# END"
   ]
  }
 ],
 "metadata": {
  "accelerator": "GPU",
  "colab": {
   "gpuType": "T4",
   "provenance": []
  },
  "kernelspec": {
   "display_name": "Python 3 (ipykernel)",
   "language": "python",
   "name": "python3"
  },
  "language_info": {
   "codemirror_mode": {
    "name": "ipython",
    "version": 3
   },
   "file_extension": ".py",
   "mimetype": "text/x-python",
   "name": "python",
   "nbconvert_exporter": "python",
   "pygments_lexer": "ipython3",
   "version": "3.8.16"
  }
 },
 "nbformat": 4,
 "nbformat_minor": 5
}
