{
 "cells": [
  {
   "cell_type": "markdown",
   "id": "hawaiian-ratio",
   "metadata": {
    "id": "hawaiian-ratio"
   },
   "source": [
    "<img align=\"left\" src=\"https://panoptes-uploads.zooniverse.org/project_avatar/86c23ca7-bbaa-4e84-8d8a-876819551431.png\" type=\"image/png\" height=100 width=100>\n",
    "</img>\n",
    "<h1 align=\"right\">KSO Notebook #9: Run machine learning models on footage</h1>\n",
    "<h3 align=\"right\"><a href=\"https://colab.research.google.com/github/ocean-data-factory-sweden/kso/blob/main/notebooks/09_Run_ML_Models_on_footage.ipynb\" target=\"_parent\"><img src=\"https://colab.research.google.com/assets/colab-badge.svg\" alt=\"Open In Colab\"/></a></h3>\n",
    "<h3 align=\"right\">Written by the KSO team</h3>"
   ]
  },
  {
   "cell_type": "markdown",
   "id": "recovered-hamburg",
   "metadata": {
    "id": "recovered-hamburg"
   },
   "source": [
    "# Set up KSO requirements"
   ]
  },
  {
   "cell_type": "markdown",
   "id": "fe8756c2",
   "metadata": {
    "id": "fe8756c2"
   },
   "source": [
    "### Install all the requirements"
   ]
  },
  {
   "cell_type": "markdown",
   "id": "_L2rby6aLfWQ",
   "metadata": {
    "id": "_L2rby6aLfWQ"
   },
   "source": [
    "Installing the requirements in Google Colab takes ~4 mins and might automatically crash/restart the session. Please run this cell until you get the \"Successful installation!\" message."
   ]
  },
  {
   "cell_type": "code",
   "execution_count": 1,
   "id": "ab2bc392",
   "metadata": {
    "id": "ab2bc392"
   },
   "outputs": [
    {
     "name": "stdout",
     "output_type": "stream",
     "text": [
      "Successful installation... you're good to go!\n"
     ]
    }
   ],
   "source": [
    "import sys\n",
    "import os\n",
    "\n",
    "# Check if notebook is running in colab\n",
    "IN_COLAB = \"google.colab\" in sys.modules\n",
    "\n",
    "if IN_COLAB:\n",
    "    # Clone kso repo and install requirements\n",
    "    if not os.path.exists(\"kso\"):\n",
    "        print(\"Installing all dependencies...\")\n",
    "        !git clone https://github.com/ocean-data-factory-sweden/kso.git\n",
    "        !pip install -r /content/kso/requirements_colab.txt\n",
    "\n",
    "    # Enable external widgets and navigate to the kso tutorial folder\n",
    "    try:\n",
    "        from google.colab import output\n",
    "\n",
    "        output.enable_custom_widget_manager()\n",
    "        os.chdir(\"kso/notebooks\")\n",
    "    except ImportError:\n",
    "        pass\n",
    "\n",
    "# Prepare the dev settings if needed\n",
    "try:\n",
    "    if \"kso_utils\" not in sys.modules:\n",
    "        sys.path.insert(0, os.path.abspath(os.path.join(os.getcwd(), \"..\")))\n",
    "        import kso_utils\n",
    "\n",
    "        print(\"Using development version...\")\n",
    "        # Enables testing changes in utils\n",
    "        %load_ext autoreload\n",
    "        %autoreload 2\n",
    "except ImportError:\n",
    "    print(\"Installing latest version from PyPI...\")\n",
    "    %pip install -q kso-utils\n",
    "\n",
    "if IN_COLAB:\n",
    "\n",
    "    def restart_runtime():\n",
    "        os.kill(os.getpid(), 9)\n",
    "\n",
    "    # Check if there are any issues with previously imported packages\n",
    "    try:\n",
    "        from kso_utils.project import ProjectProcessor\n",
    "    except Exception as e:\n",
    "        print(f\"Error importing package: {e}\")\n",
    "        print(\"Restarting runtime to apply package changes...\")\n",
    "        restart_runtime()\n",
    "\n",
    "# Avoid issues with widgets not displaying properly\n",
    "!jupyter nbextension enable --user --py widgetsnbextension\n",
    "!jupyter nbextension enable --user --py jupyter_bbox_widget\n",
    "!jupyter nbextension enable --user --py ipysheet\n",
    "\n",
    "# Load the clear output function to keep things clean\n",
    "from IPython.display import clear_output\n",
    "\n",
    "clear_output()\n",
    "print(\"Successful installation... you're good to go!\")"
   ]
  },
  {
   "cell_type": "markdown",
   "id": "be10ade2",
   "metadata": {
    "id": "be10ade2"
   },
   "source": [
    "### Import Python packages"
   ]
  },
  {
   "cell_type": "code",
   "execution_count": 2,
   "id": "5d5eb4c5",
   "metadata": {
    "id": "5d5eb4c5"
   },
   "outputs": [
    {
     "name": "stderr",
     "output_type": "stream",
     "text": [
      "Matplotlib created a temporary cache directory at /tmp/matplotlib-tf_b296e because the default path (/data/cache/jhub/matplotlib) is not a writable directory; it is highly recommended to set the MPLCONFIGDIR environment variable to a writable directory, in particular to speed up the import of Matplotlib and to better support multiprocessing.\n"
     ]
    },
    {
     "name": "stdout",
     "output_type": "stream",
     "text": [
      "Packages loaded successfully\n"
     ]
    }
   ],
   "source": [
    "# Import required modules\n",
    "%matplotlib inline\n",
    "import kso_utils.widgets as kso_widgets\n",
    "import kso_utils.project_utils as p_utils\n",
    "import kso_utils.yolo_utils as y_utils\n",
    "from kso_utils.project import ProjectProcessor, MLProjectProcessor\n",
    "\n",
    "print(\"Packages loaded successfully\")"
   ]
  },
  {
   "cell_type": "markdown",
   "id": "4085ec1a",
   "metadata": {
    "id": "4085ec1a"
   },
   "source": [
    "### Choose your project"
   ]
  },
  {
   "cell_type": "code",
   "execution_count": 3,
   "id": "incident-surveillance",
   "metadata": {
    "id": "incident-surveillance"
   },
   "outputs": [
    {
     "data": {
      "application/vnd.jupyter.widget-view+json": {
       "model_id": "a34e18f90d9d42ae8d72e3f4fe679c4d",
       "version_major": 2,
       "version_minor": 0
      },
      "text/plain": [
       "Dropdown(description='Project:', options=('Template project', 'Koster_Seafloor_Obs', 'Spyfish_Aotearoa', 'SGU'…"
      ]
     },
     "metadata": {},
     "output_type": "display_data"
    }
   ],
   "source": [
    "project_name = kso_widgets.choose_project()"
   ]
  },
  {
   "cell_type": "markdown",
   "id": "23a54ce6",
   "metadata": {
    "id": "23a54ce6"
   },
   "source": [
    "### Initiate project's database"
   ]
  },
  {
   "cell_type": "code",
   "execution_count": 4,
   "id": "4d3e1b35",
   "metadata": {
    "id": "4d3e1b35"
   },
   "outputs": [
    {
     "name": "stderr",
     "output_type": "stream",
     "text": [
      "INFO:root:Koster_Seafloor_Obs loaded succesfully\n",
      "INFO:root:Running locally, no external connection to server needed.\n",
      "INFO:root:Running locally so no csv files were downloaded from the server.\n",
      "INFO:root:Updated species table from the temporary database\n",
      "INFO:root:Updated sites table from the temporary database\n",
      "INFO:root:Updated photos table from the temporary database\n",
      "INFO:root:Updated movies table from the temporary database\n"
     ]
    }
   ],
   "source": [
    "# Find project\n",
    "project = p_utils.find_project(project_name=project_name.value)\n",
    "# Initialise pp\n",
    "pp = ProjectProcessor(project)"
   ]
  },
  {
   "cell_type": "code",
   "execution_count": 5,
   "id": "5bbe9710",
   "metadata": {
    "id": "5bbe9710"
   },
   "outputs": [],
   "source": [
    "# Initialise mlp\n",
    "mlp = MLProjectProcessor(pp)"
   ]
  },
  {
   "cell_type": "markdown",
   "id": "1d3f913f",
   "metadata": {
    "id": "1d3f913f"
   },
   "source": [
    "# Run model on footage"
   ]
  },
  {
   "cell_type": "markdown",
   "id": "d5ece376",
   "metadata": {
    "id": "d5ece376"
   },
   "source": [
    "### Choose the model"
   ]
  },
  {
   "cell_type": "code",
   "execution_count": 6,
   "id": "c41909d3",
   "metadata": {
    "id": "c41909d3"
   },
   "outputs": [
    {
     "data": {
      "application/vnd.jupyter.widget-view+json": {
       "model_id": "c29a435634894063a8dac720d18e2afb",
       "version_major": 2,
       "version_minor": 0
      },
      "text/plain": [
       "Dropdown(description='Select model: ', options=(('KSO_SEG_1', 'runs:/07e23f8a0afb411ca984bbbb8ee9e9a4/weights/…"
      ]
     },
     "metadata": {},
     "output_type": "display_data"
    }
   ],
   "source": [
    "model = mlp.choose_model()"
   ]
  },
  {
   "cell_type": "markdown",
   "id": "53aa7102",
   "metadata": {
    "id": "53aa7102"
   },
   "source": [
    "### Choose folder to download the model"
   ]
  },
  {
   "cell_type": "code",
   "execution_count": 7,
   "id": "2456b57b",
   "metadata": {
    "id": "2456b57b"
   },
   "outputs": [
    {
     "data": {
      "application/vnd.jupyter.widget-view+json": {
       "model_id": "e9418adcea894e2582816bfc0ae4393b",
       "version_major": 2,
       "version_minor": 0
      },
      "text/plain": [
       "FileChooser(path='.', filename='', title='HTML(value='Choose location of where to download the model')', show_…"
      ]
     },
     "metadata": {},
     "output_type": "display_data"
    }
   ],
   "source": [
    "download_dir = kso_widgets.choose_folder(\".\", \"where to download the model\")"
   ]
  },
  {
   "cell_type": "markdown",
   "id": "cVtzA9X88UwR",
   "metadata": {
    "id": "cVtzA9X88UwR"
   },
   "source": [
    "### Download model"
   ]
  },
  {
   "cell_type": "code",
   "execution_count": 8,
   "id": "842d5de0",
   "metadata": {
    "id": "842d5de0"
   },
   "outputs": [
    {
     "data": {
      "application/vnd.jupyter.widget-view+json": {
       "model_id": "2175ca91ec5d4cd2b1deaf8e01a7bc36",
       "version_major": 2,
       "version_minor": 0
      },
      "text/plain": [
       "Downloading artifacts:   0%|          | 0/1 [00:00<?, ?it/s]"
      ]
     },
     "metadata": {},
     "output_type": "display_data"
    }
   ],
   "source": [
    "artifact_dir = mlp.get_model(model.value, download_dir.selected)"
   ]
  },
  {
   "cell_type": "markdown",
   "id": "z9hZFcP28cu9",
   "metadata": {
    "id": "z9hZFcP28cu9"
   },
   "source": [
    "### Choose the footage to run the models into"
   ]
  },
  {
   "cell_type": "code",
   "execution_count": 9,
   "id": "9374fd88",
   "metadata": {},
   "outputs": [
    {
     "data": {
      "application/vnd.jupyter.widget-view+json": {
       "model_id": "510d564f871a4152b2cc26c587daeba0",
       "version_major": 2,
       "version_minor": 0
      },
      "text/plain": [
       "RadioButtons(description='Choose footage source:', options=('Existing Footage', 'New Footage'), value='Existin…"
      ]
     },
     "metadata": {},
     "output_type": "display_data"
    }
   ],
   "source": [
    "pp.choose_footage_source()"
   ]
  },
  {
   "cell_type": "code",
   "execution_count": 11,
   "id": "180ddad3",
   "metadata": {
    "id": "180ddad3"
   },
   "outputs": [
    {
     "data": {
      "application/vnd.jupyter.widget-view+json": {
       "model_id": "b90072aeae6641f587e5c68d027ae551",
       "version_major": 2,
       "version_minor": 0
      },
      "text/plain": [
       "FileChooser(path='/buckets/kso/output', filename='', title='HTML(value='Choose location of new footage')', sho…"
      ]
     },
     "metadata": {},
     "output_type": "display_data"
    }
   ],
   "source": [
    "pp.choose_footage()"
   ]
  },
  {
   "cell_type": "code",
   "execution_count": 12,
   "id": "8e38d48c",
   "metadata": {},
   "outputs": [],
   "source": [
    "# Ensure the selected footage and paths are loaded to the system\n",
    "pp.check_selected_movies()"
   ]
  },
  {
   "cell_type": "markdown",
   "id": "zD5mhS2l8nuY",
   "metadata": {
    "id": "zD5mhS2l8nuY"
   },
   "source": [
    "### Choose folder to save the runs"
   ]
  },
  {
   "cell_type": "code",
   "execution_count": 13,
   "id": "75c4913f",
   "metadata": {
    "id": "75c4913f"
   },
   "outputs": [
    {
     "data": {
      "application/vnd.jupyter.widget-view+json": {
       "model_id": "259b3c3f6ebe4f5a89ab8ad57cd35302",
       "version_major": 2,
       "version_minor": 0
      },
      "text/plain": [
       "FileChooser(path='.', filename='', title='HTML(value='Choose location of runs output')', show_hidden='False', …"
      ]
     },
     "metadata": {},
     "output_type": "display_data"
    }
   ],
   "source": [
    "# This should be left as default value in most cases.\n",
    "save_dir = kso_widgets.choose_folder(\".\", \"runs output\")"
   ]
  },
  {
   "cell_type": "markdown",
   "id": "TDH1TDtq8tS7",
   "metadata": {
    "id": "TDH1TDtq8tS7"
   },
   "source": [
    "### Choose a confidence threshold for evaluation"
   ]
  },
  {
   "cell_type": "code",
   "execution_count": 14,
   "id": "23b984ea",
   "metadata": {
    "id": "23b984ea"
   },
   "outputs": [
    {
     "data": {
      "application/vnd.jupyter.widget-view+json": {
       "model_id": "cb71b1328a4f4ef2bf956cc02233b229",
       "version_major": 2,
       "version_minor": 0
      },
      "text/plain": [
       "FloatSlider(value=0.5, continuous_update=False, description='Confidence threshold:', max=1.0, readout_format='…"
      ]
     },
     "metadata": {},
     "output_type": "display_data"
    }
   ],
   "source": [
    "conf_thres = kso_widgets.choose_conf()"
   ]
  },
  {
   "cell_type": "markdown",
   "id": "cE82MPDb8yVh",
   "metadata": {
    "id": "cE82MPDb8yVh"
   },
   "source": [
    "## Choose a suitable experiment name"
   ]
  },
  {
   "cell_type": "code",
   "execution_count": 15,
   "id": "1554f0ce",
   "metadata": {
    "id": "1554f0ce"
   },
   "outputs": [
    {
     "data": {
      "application/vnd.jupyter.widget-view+json": {
       "model_id": "2bfb6b29d6964351a75869d9e37f29f7",
       "version_major": 2,
       "version_minor": 0
      },
      "text/plain": [
       "Text(value='exp_name', description='Experiment name:', placeholder='Choose an experiment name', style=TextStyl…"
      ]
     },
     "metadata": {},
     "output_type": "display_data"
    }
   ],
   "source": [
    "exp_name = kso_widgets.choose_experiment_name()"
   ]
  },
  {
   "cell_type": "markdown",
   "id": "LsuDEYSn83VJ",
   "metadata": {
    "id": "LsuDEYSn83VJ"
   },
   "source": [
    "### Run model over selected footage"
   ]
  },
  {
   "cell_type": "code",
   "execution_count": 17,
   "id": "ERKoACv1tvnj",
   "metadata": {
    "id": "ERKoACv1tvnj"
   },
   "outputs": [
    {
     "name": "stderr",
     "output_type": "stream",
     "text": [
      "\n",
      "image 1/497 /buckets/kso/input/kristineberg_2024_april_SA/G0010080.JPG: 480x640 30 2s, 1 5, 1 4, 1 8, 137.4ms\n",
      "image 2/497 /buckets/kso/input/kristineberg_2024_april_SA/G0010081.JPG: 480x640 29 2s, 2 4s, 1 8, 10.7ms\n",
      "image 3/497 /buckets/kso/input/kristineberg_2024_april_SA/G0010085.JPG: 480x640 12 2s, 2 4s, 1 8, 10.2ms\n",
      "image 4/497 /buckets/kso/input/kristineberg_2024_april_SA/G0010086.JPG: 480x640 10 2s, 1 8, 9.9ms\n",
      "image 5/497 /buckets/kso/input/kristineberg_2024_april_SA/G0010087.JPG: 480x640 12 2s, 1 4, 1 8, 10.9ms\n",
      "image 6/497 /buckets/kso/input/kristineberg_2024_april_SA/G0010088.JPG: 480x640 9 2s, 4 4s, 1 8, 9.8ms\n",
      "image 7/497 /buckets/kso/input/kristineberg_2024_april_SA/G0010089.JPG: 480x640 14 2s, 2 4s, 1 8, 9.8ms\n",
      "image 8/497 /buckets/kso/input/kristineberg_2024_april_SA/G0010091.JPG: 480x640 6 2s, 1 4, 1 8, 9.7ms\n",
      "image 9/497 /buckets/kso/input/kristineberg_2024_april_SA/G0010092.JPG: 480x640 14 2s, 1 4, 1 8, 9.7ms\n",
      "image 10/497 /buckets/kso/input/kristineberg_2024_april_SA/G0010093.JPG: 480x640 12 2s, 3 4s, 1 8, 10.3ms\n",
      "image 11/497 /buckets/kso/input/kristineberg_2024_april_SA/G0010094.JPG: 480x640 14 2s, 1 8, 11.9ms\n",
      "image 12/497 /buckets/kso/input/kristineberg_2024_april_SA/G0010095.JPG: 480x640 10 2s, 3 4s, 1 8, 11.1ms\n",
      "image 13/497 /buckets/kso/input/kristineberg_2024_april_SA/G0010102.JPG: 480x640 10 2s, 1 8, 9.9ms\n",
      "image 14/497 /buckets/kso/input/kristineberg_2024_april_SA/G0010104.JPG: 480x640 8 2s, 1 8, 10.0ms\n",
      "image 15/497 /buckets/kso/input/kristineberg_2024_april_SA/G0010105.JPG: 480x640 2 2s, 2 4s, 1 8, 9.8ms\n",
      "image 16/497 /buckets/kso/input/kristineberg_2024_april_SA/G0010106.JPG: 480x640 8 2s, 1 4, 1 8, 9.9ms\n",
      "image 17/497 /buckets/kso/input/kristineberg_2024_april_SA/G0010109.JPG: 480x640 5 2s, 1 8, 11.8ms\n",
      "image 18/497 /buckets/kso/input/kristineberg_2024_april_SA/G0010120.JPG: 480x640 1 4, 2 8s, 11.1ms\n",
      "image 19/497 /buckets/kso/input/kristineberg_2024_april_SA/G0010121.JPG: 480x640 2 6s, 1 8, 10.9ms\n",
      "image 20/497 /buckets/kso/input/kristineberg_2024_april_SA/G0010122.JPG: 480x640 1 8, 10.8ms\n",
      "image 21/497 /buckets/kso/input/kristineberg_2024_april_SA/G0010123.JPG: 480x640 1 8, 10.6ms\n",
      "image 22/497 /buckets/kso/input/kristineberg_2024_april_SA/G0010124.JPG: 480x640 1 4, 1 8, 11.0ms\n",
      "image 23/497 /buckets/kso/input/kristineberg_2024_april_SA/G0010125.JPG: 480x640 1 8, 11.2ms\n",
      "image 24/497 /buckets/kso/input/kristineberg_2024_april_SA/G0010126.JPG: 480x640 7 4s, 1 8, 11.1ms\n",
      "image 25/497 /buckets/kso/input/kristineberg_2024_april_SA/G0010127.JPG: 480x640 10 4s, 1 8, 10.0ms\n",
      "image 26/497 /buckets/kso/input/kristineberg_2024_april_SA/G0010128.JPG: 480x640 1 4, 1 8, 9.8ms\n",
      "image 27/497 /buckets/kso/input/kristineberg_2024_april_SA/G0010129.JPG: 480x640 2 4s, 1 8, 9.9ms\n",
      "image 28/497 /buckets/kso/input/kristineberg_2024_april_SA/G0010130.JPG: 480x640 2 5s, 1 8, 9.7ms\n",
      "image 29/497 /buckets/kso/input/kristineberg_2024_april_SA/G0010131.JPG: 480x640 2 4s, 1 8, 9.7ms\n",
      "image 30/497 /buckets/kso/input/kristineberg_2024_april_SA/G0010132.JPG: 480x640 1 8, 9.8ms\n",
      "image 31/497 /buckets/kso/input/kristineberg_2024_april_SA/G0010133.JPG: 480x640 1 8, 9.8ms\n",
      "image 32/497 /buckets/kso/input/kristineberg_2024_april_SA/G0010134.JPG: 480x640 1 8, 9.9ms\n",
      "image 33/497 /buckets/kso/input/kristineberg_2024_april_SA/G0010135.JPG: 480x640 1 8, 10.0ms\n",
      "image 34/497 /buckets/kso/input/kristineberg_2024_april_SA/G0010136.JPG: 480x640 1 4, 1 8, 9.8ms\n",
      "image 35/497 /buckets/kso/input/kristineberg_2024_april_SA/G0010137.JPG: 480x640 3 4s, 1 8, 9.7ms\n",
      "image 36/497 /buckets/kso/input/kristineberg_2024_april_SA/G0010138.JPG: 480x640 1 4, 9.9ms\n",
      "image 37/497 /buckets/kso/input/kristineberg_2024_april_SA/G0010139.JPG: 480x640 1 4, 9.9ms\n",
      "image 38/497 /buckets/kso/input/kristineberg_2024_april_SA/G0010140.JPG: 480x640 2 4s, 1 8, 9.8ms\n",
      "image 39/497 /buckets/kso/input/kristineberg_2024_april_SA/G0010141.JPG: 480x640 2 4s, 2 8s, 9.7ms\n",
      "image 40/497 /buckets/kso/input/kristineberg_2024_april_SA/G0010142.JPG: 480x640 1 4, 1 8, 9.7ms\n",
      "image 41/497 /buckets/kso/input/kristineberg_2024_april_SA/G0010143.JPG: 480x640 1 8, 9.8ms\n",
      "image 42/497 /buckets/kso/input/kristineberg_2024_april_SA/G0010144.JPG: 480x640 1 8, 9.9ms\n",
      "image 43/497 /buckets/kso/input/kristineberg_2024_april_SA/G0010145.JPG: 480x640 1 8, 9.7ms\n",
      "image 44/497 /buckets/kso/input/kristineberg_2024_april_SA/G0010146.JPG: 480x640 1 8, 9.7ms\n",
      "image 45/497 /buckets/kso/input/kristineberg_2024_april_SA/G0010147.JPG: 480x640 1 8, 9.7ms\n",
      "image 46/497 /buckets/kso/input/kristineberg_2024_april_SA/G0010148.JPG: 480x640 1 8, 9.8ms\n",
      "image 47/497 /buckets/kso/input/kristineberg_2024_april_SA/G0010149.JPG: 480x640 1 8, 9.7ms\n",
      "image 48/497 /buckets/kso/input/kristineberg_2024_april_SA/G0010150.JPG: 480x640 1 8, 9.6ms\n",
      "image 49/497 /buckets/kso/input/kristineberg_2024_april_SA/G0010151.JPG: 480x640 1 8, 10.4ms\n",
      "image 50/497 /buckets/kso/input/kristineberg_2024_april_SA/G0010152.JPG: 480x640 1 8, 9.7ms\n",
      "image 51/497 /buckets/kso/input/kristineberg_2024_april_SA/G0010153.JPG: 480x640 1 8, 9.6ms\n",
      "image 52/497 /buckets/kso/input/kristineberg_2024_april_SA/G0010154.JPG: 480x640 1 8, 9.8ms\n",
      "image 53/497 /buckets/kso/input/kristineberg_2024_april_SA/G0010155.JPG: 480x640 1 8, 9.9ms\n",
      "image 54/497 /buckets/kso/input/kristineberg_2024_april_SA/G0010156.JPG: 480x640 1 8, 9.9ms\n",
      "image 55/497 /buckets/kso/input/kristineberg_2024_april_SA/G0010157.JPG: 480x640 1 8, 9.9ms\n",
      "image 56/497 /buckets/kso/input/kristineberg_2024_april_SA/G0010158.JPG: 480x640 1 8, 9.8ms\n",
      "image 57/497 /buckets/kso/input/kristineberg_2024_april_SA/G0010159.JPG: 480x640 1 8, 11.6ms\n",
      "image 58/497 /buckets/kso/input/kristineberg_2024_april_SA/G0010160.JPG: 480x640 1 8, 10.7ms\n",
      "image 59/497 /buckets/kso/input/kristineberg_2024_april_SA/G0010161.JPG: 480x640 1 4, 1 8, 9.9ms\n",
      "image 60/497 /buckets/kso/input/kristineberg_2024_april_SA/G0010162.JPG: 480x640 1 8, 9.8ms\n",
      "image 61/497 /buckets/kso/input/kristineberg_2024_april_SA/G0010163.JPG: 480x640 1 8, 9.9ms\n",
      "image 62/497 /buckets/kso/input/kristineberg_2024_april_SA/G0010164.JPG: 480x640 5 2s, 1 8, 9.6ms\n",
      "image 63/497 /buckets/kso/input/kristineberg_2024_april_SA/G0010167.JPG: 480x640 1 8, 9.6ms\n",
      "image 64/497 /buckets/kso/input/kristineberg_2024_april_SA/G0010168.JPG: 480x640 1 8, 9.9ms\n",
      "image 65/497 /buckets/kso/input/kristineberg_2024_april_SA/G0010169.JPG: 480x640 4 2s, 1 8, 11.0ms\n",
      "image 66/497 /buckets/kso/input/kristineberg_2024_april_SA/G0010170.JPG: 480x640 1 2, 1 8, 9.8ms\n",
      "image 67/497 /buckets/kso/input/kristineberg_2024_april_SA/G0010171.JPG: 480x640 3 2s, 1 8, 9.8ms\n",
      "image 68/497 /buckets/kso/input/kristineberg_2024_april_SA/G0010172.JPG: 480x640 1 8, 9.8ms\n",
      "image 69/497 /buckets/kso/input/kristineberg_2024_april_SA/G0010173.JPG: 480x640 1 8, 9.9ms\n",
      "image 70/497 /buckets/kso/input/kristineberg_2024_april_SA/G0010174.JPG: 480x640 1 8, 9.8ms\n",
      "image 71/497 /buckets/kso/input/kristineberg_2024_april_SA/G0010175.JPG: 480x640 1 8, 9.7ms\n",
      "image 72/497 /buckets/kso/input/kristineberg_2024_april_SA/G0010176.JPG: 480x640 1 8, 9.8ms\n",
      "image 73/497 /buckets/kso/input/kristineberg_2024_april_SA/G0010177.JPG: 480x640 1 8, 9.7ms\n",
      "image 74/497 /buckets/kso/input/kristineberg_2024_april_SA/G0010178.JPG: 480x640 1 8, 10.2ms\n",
      "image 75/497 /buckets/kso/input/kristineberg_2024_april_SA/G0010179.JPG: 480x640 1 8, 9.7ms\n",
      "image 76/497 /buckets/kso/input/kristineberg_2024_april_SA/G0010180.JPG: 480x640 1 8, 9.7ms\n",
      "image 77/497 /buckets/kso/input/kristineberg_2024_april_SA/G0010181.JPG: 480x640 1 8, 9.7ms\n",
      "image 78/497 /buckets/kso/input/kristineberg_2024_april_SA/G0010182.JPG: 480x640 1 8, 9.7ms\n",
      "image 79/497 /buckets/kso/input/kristineberg_2024_april_SA/G0010183.JPG: 480x640 1 8, 9.7ms\n",
      "image 80/497 /buckets/kso/input/kristineberg_2024_april_SA/G0010184.JPG: 480x640 1 8, 9.9ms\n",
      "image 81/497 /buckets/kso/input/kristineberg_2024_april_SA/G0010185.JPG: 480x640 1 8, 9.8ms\n",
      "image 82/497 /buckets/kso/input/kristineberg_2024_april_SA/G0010186.JPG: 480x640 1 8, 9.8ms\n",
      "image 83/497 /buckets/kso/input/kristineberg_2024_april_SA/G0010187.JPG: 480x640 1 8, 10.0ms\n",
      "image 84/497 /buckets/kso/input/kristineberg_2024_april_SA/G0010188.JPG: 480x640 1 8, 10.6ms\n",
      "image 85/497 /buckets/kso/input/kristineberg_2024_april_SA/G0010189.JPG: 480x640 1 8, 9.7ms\n",
      "image 86/497 /buckets/kso/input/kristineberg_2024_april_SA/G0010190.JPG: 480x640 1 2, 1 8, 9.9ms\n",
      "image 87/497 /buckets/kso/input/kristineberg_2024_april_SA/G0010191.JPG: 480x640 1 2, 1 8, 9.7ms\n",
      "image 88/497 /buckets/kso/input/kristineberg_2024_april_SA/G0010192.JPG: 480x640 1 8, 9.7ms\n",
      "image 89/497 /buckets/kso/input/kristineberg_2024_april_SA/G0010193.JPG: 480x640 1 8, 9.7ms\n",
      "image 90/497 /buckets/kso/input/kristineberg_2024_april_SA/G0010194.JPG: 480x640 1 8, 9.7ms\n",
      "image 91/497 /buckets/kso/input/kristineberg_2024_april_SA/G0010198.JPG: 480x640 1 8, 9.8ms\n",
      "image 92/497 /buckets/kso/input/kristineberg_2024_april_SA/G0010210.JPG: 480x640 1 8, 10.0ms\n",
      "image 93/497 /buckets/kso/input/kristineberg_2024_april_SA/G0010211.JPG: 480x640 1 8, 10.0ms\n",
      "image 94/497 /buckets/kso/input/kristineberg_2024_april_SA/G0010212.JPG: 480x640 1 8, 9.8ms\n",
      "image 95/497 /buckets/kso/input/kristineberg_2024_april_SA/G0010220.JPG: 480x640 4 2s, 1 5, 9.8ms\n",
      "image 96/497 /buckets/kso/input/kristineberg_2024_april_SA/G0010221.JPG: 480x640 4 2s, 1 5, 10.0ms\n",
      "image 97/497 /buckets/kso/input/kristineberg_2024_april_SA/G0010227.JPG: 480x640 2 2s, 1 5, 9.8ms\n",
      "image 98/497 /buckets/kso/input/kristineberg_2024_april_SA/G0010232.JPG: 480x640 1 5, 9.9ms\n",
      "image 99/497 /buckets/kso/input/kristineberg_2024_april_SA/G0010233.JPG: 480x640 1 8, 9.9ms\n",
      "image 100/497 /buckets/kso/input/kristineberg_2024_april_SA/G0010234.JPG: 480x640 1 8, 10.0ms\n",
      "image 101/497 /buckets/kso/input/kristineberg_2024_april_SA/G0010235.JPG: 480x640 2 2s, 1 5, 9.9ms\n",
      "image 102/497 /buckets/kso/input/kristineberg_2024_april_SA/G0010236.JPG: 480x640 2 2s, 1 5, 9.7ms\n",
      "image 103/497 /buckets/kso/input/kristineberg_2024_april_SA/G0010237.JPG: 480x640 7 2s, 1 5, 2 8s, 9.6ms\n",
      "image 104/497 /buckets/kso/input/kristineberg_2024_april_SA/G0010238.JPG: 480x640 7 2s, 1 5, 2 8s, 11.1ms\n",
      "image 105/497 /buckets/kso/input/kristineberg_2024_april_SA/G0010243.JPG: 480x640 4 2s, 1 5, 3 8s, 9.9ms\n",
      "image 106/497 /buckets/kso/input/kristineberg_2024_april_SA/G0010244.JPG: 480x640 7 2s, 1 5, 2 7s, 9.9ms\n",
      "image 107/497 /buckets/kso/input/kristineberg_2024_april_SA/G0010245.JPG: 480x640 6 2s, 1 5, 9.8ms\n",
      "image 108/497 /buckets/kso/input/kristineberg_2024_april_SA/G0010246.JPG: 480x640 1 5, 9.9ms\n",
      "image 109/497 /buckets/kso/input/kristineberg_2024_april_SA/G0010247.JPG: 480x640 2 2s, 1 5, 9.8ms\n",
      "image 110/497 /buckets/kso/input/kristineberg_2024_april_SA/G0015109.JPG: 480x640 2 4s, 5 1s, 10.5ms\n",
      "image 111/497 /buckets/kso/input/kristineberg_2024_april_SA/G0015110.JPG: 480x640 1 4, 10 1s, 9.8ms\n",
      "image 112/497 /buckets/kso/input/kristineberg_2024_april_SA/G0015111.JPG: 480x640 2 4s, 15 1s, 9.8ms\n",
      "image 113/497 /buckets/kso/input/kristineberg_2024_april_SA/G0017276.JPG: 480x640 2 3s, 3 4s, 2 8s, 1 7, 9.7ms\n",
      "image 114/497 /buckets/kso/input/kristineberg_2024_april_SA/G0017282.JPG: 480x640 1 8, 9.7ms\n",
      "image 115/497 /buckets/kso/input/kristineberg_2024_april_SA/G0017284.JPG: 480x640 1 5, 1 8, 9.8ms\n",
      "image 116/497 /buckets/kso/input/kristineberg_2024_april_SA/G0017285.JPG: 480x640 1 8, 9.7ms\n",
      "image 117/497 /buckets/kso/input/kristineberg_2024_april_SA/G0017286.JPG: 480x640 1 8, 10.6ms\n",
      "image 118/497 /buckets/kso/input/kristineberg_2024_april_SA/G0017287.JPG: 480x640 1 8, 10.7ms\n",
      "image 119/497 /buckets/kso/input/kristineberg_2024_april_SA/G0017288.JPG: 480x640 2 8s, 3 0s, 11.1ms\n",
      "image 120/497 /buckets/kso/input/kristineberg_2024_april_SA/G0017289.JPG: 480x640 1 8, 10.6ms\n",
      "image 121/497 /buckets/kso/input/kristineberg_2024_april_SA/G0017290.JPG: 480x640 1 8, 10.1ms\n",
      "image 122/497 /buckets/kso/input/kristineberg_2024_april_SA/G0017291.JPG: 480x640 1 8, 10.0ms\n",
      "image 123/497 /buckets/kso/input/kristineberg_2024_april_SA/G0017292.JPG: 480x640 1 8, 9.7ms\n",
      "image 124/497 /buckets/kso/input/kristineberg_2024_april_SA/G0017293.JPG: 480x640 1 8, 10.3ms\n",
      "image 125/497 /buckets/kso/input/kristineberg_2024_april_SA/G0017294.JPG: 480x640 1 8, 10.0ms\n",
      "image 126/497 /buckets/kso/input/kristineberg_2024_april_SA/G0017295.JPG: 480x640 1 8, 9.7ms\n",
      "image 127/497 /buckets/kso/input/kristineberg_2024_april_SA/G0017296.JPG: 480x640 1 8, 9.9ms\n",
      "image 128/497 /buckets/kso/input/kristineberg_2024_april_SA/G0017297.JPG: 480x640 1 8, 11.7ms\n",
      "image 129/497 /buckets/kso/input/kristineberg_2024_april_SA/G0017298.JPG: 480x640 1 8, 9.7ms\n",
      "image 130/497 /buckets/kso/input/kristineberg_2024_april_SA/G0017299.JPG: 480x640 1 8, 9.8ms\n",
      "image 131/497 /buckets/kso/input/kristineberg_2024_april_SA/G0017300.JPG: 480x640 1 8, 9.7ms\n",
      "image 132/497 /buckets/kso/input/kristineberg_2024_april_SA/G0017301.JPG: 480x640 1 8, 9.9ms\n",
      "image 133/497 /buckets/kso/input/kristineberg_2024_april_SA/G0017313.JPG: 480x640 1 8, 10.8ms\n",
      "image 134/497 /buckets/kso/input/kristineberg_2024_april_SA/G0017314.JPG: 480x640 1 5, 1 8, 10.9ms\n",
      "image 135/497 /buckets/kso/input/kristineberg_2024_april_SA/G0017315.JPG: 480x640 1 8, 10.8ms\n",
      "image 136/497 /buckets/kso/input/kristineberg_2024_april_SA/G0017322.JPG: 480x640 1 2, 1 8, 10.6ms\n",
      "image 137/497 /buckets/kso/input/kristineberg_2024_april_SA/G0017323.JPG: 480x640 1 2, 1 5, 9.9ms\n",
      "image 138/497 /buckets/kso/input/kristineberg_2024_april_SA/G0017324.JPG: 480x640 3 2s, 1 5, 11.0ms\n",
      "image 139/497 /buckets/kso/input/kristineberg_2024_april_SA/G0017325.JPG: 480x640 1 2, 1 5, 10.1ms\n",
      "image 140/497 /buckets/kso/input/kristineberg_2024_april_SA/G0017326.JPG: 480x640 1 5, 10.5ms\n",
      "image 141/497 /buckets/kso/input/kristineberg_2024_april_SA/G0017327.JPG: 480x640 1 5, 9.7ms\n",
      "image 142/497 /buckets/kso/input/kristineberg_2024_april_SA/G0017328.JPG: 480x640 2 2s, 1 5, 9.7ms\n",
      "image 143/497 /buckets/kso/input/kristineberg_2024_april_SA/G0017329.JPG: 480x640 3 2s, 1 5, 9.8ms\n",
      "image 144/497 /buckets/kso/input/kristineberg_2024_april_SA/G0017330.JPG: 480x640 1 2, 1 5, 9.8ms\n",
      "image 145/497 /buckets/kso/input/kristineberg_2024_april_SA/G0017331.JPG: 480x640 4 2s, 1 5, 9.8ms\n",
      "image 146/497 /buckets/kso/input/kristineberg_2024_april_SA/G0017332.JPG: 480x640 4 2s, 2 5s, 9.9ms\n",
      "image 147/497 /buckets/kso/input/kristineberg_2024_april_SA/G0017333.JPG: 480x640 2 2s, 1 5, 11.2ms\n",
      "image 148/497 /buckets/kso/input/kristineberg_2024_april_SA/G0017334.JPG: 480x640 4 2s, 1 5, 11.4ms\n",
      "image 149/497 /buckets/kso/input/kristineberg_2024_april_SA/G0017335.JPG: 480x640 3 2s, 2 5s, 14.5ms\n",
      "image 150/497 /buckets/kso/input/kristineberg_2024_april_SA/G0017336.JPG: 480x640 6 2s, 1 5, 10.3ms\n",
      "image 151/497 /buckets/kso/input/kristineberg_2024_april_SA/G0017337.JPG: 480x640 9 2s, 1 5, 9.7ms\n",
      "image 152/497 /buckets/kso/input/kristineberg_2024_april_SA/G0017338.JPG: 480x640 6 2s, 2 5s, 9.7ms\n",
      "image 153/497 /buckets/kso/input/kristineberg_2024_april_SA/G0017339.JPG: 480x640 8 2s, 2 5s, 1 8, 9.8ms\n",
      "image 154/497 /buckets/kso/input/kristineberg_2024_april_SA/G0017340.JPG: 480x640 10 2s, 1 5, 9.7ms\n",
      "image 155/497 /buckets/kso/input/kristineberg_2024_april_SA/G0017341.JPG: 480x640 14 2s, 2 5s, 9.8ms\n",
      "image 156/497 /buckets/kso/input/kristineberg_2024_april_SA/G0017342.JPG: 480x640 11 2s, 2 5s, 9.7ms\n",
      "image 157/497 /buckets/kso/input/kristineberg_2024_april_SA/G0017343.JPG: 480x640 13 2s, 1 5, 9.7ms\n",
      "image 158/497 /buckets/kso/input/kristineberg_2024_april_SA/G0017344.JPG: 480x640 14 2s, 2 5s, 10.0ms\n",
      "image 159/497 /buckets/kso/input/kristineberg_2024_april_SA/G0017345.JPG: 480x640 12 2s, 2 5s, 10.0ms\n",
      "image 160/497 /buckets/kso/input/kristineberg_2024_april_SA/G0017346.JPG: 480x640 11 2s, 1 5, 9.9ms\n",
      "image 161/497 /buckets/kso/input/kristineberg_2024_april_SA/G0017347.JPG: 480x640 16 2s, 2 5s, 9.8ms\n",
      "image 162/497 /buckets/kso/input/kristineberg_2024_april_SA/G0017348.JPG: 480x640 11 2s, 1 5, 9.8ms\n",
      "image 163/497 /buckets/kso/input/kristineberg_2024_april_SA/G0017349.JPG: 480x640 10 2s, 2 5s, 9.8ms\n",
      "image 164/497 /buckets/kso/input/kristineberg_2024_april_SA/G0017350.JPG: 480x640 7 2s, 1 5, 10.1ms\n",
      "image 165/497 /buckets/kso/input/kristineberg_2024_april_SA/G0017351.JPG: 480x640 8 2s, 2 5s, 9.7ms\n",
      "image 166/497 /buckets/kso/input/kristineberg_2024_april_SA/G0017352.JPG: 480x640 5 2s, 1 5, 9.8ms\n",
      "image 167/497 /buckets/kso/input/kristineberg_2024_april_SA/G0017353.JPG: 480x640 3 2s, 1 5, 9.8ms\n",
      "image 168/497 /buckets/kso/input/kristineberg_2024_april_SA/G0017354.JPG: 480x640 3 2s, 2 5s, 9.7ms\n",
      "image 169/497 /buckets/kso/input/kristineberg_2024_april_SA/G0017355.JPG: 480x640 5 2s, 3 5s, 9.8ms\n",
      "image 170/497 /buckets/kso/input/kristineberg_2024_april_SA/G0017356.JPG: 480x640 7 2s, 1 5, 9.8ms\n",
      "image 171/497 /buckets/kso/input/kristineberg_2024_april_SA/G0017357.JPG: 480x640 10 2s, 1 5, 9.8ms\n",
      "image 172/497 /buckets/kso/input/kristineberg_2024_april_SA/G0017358.JPG: 480x640 7 2s, 2 5s, 11.5ms\n",
      "image 173/497 /buckets/kso/input/kristineberg_2024_april_SA/G0017359.JPG: 480x640 10 2s, 1 5, 9.8ms\n",
      "image 174/497 /buckets/kso/input/kristineberg_2024_april_SA/G0017360.JPG: 480x640 16 2s, 2 5s, 9.9ms\n",
      "image 175/497 /buckets/kso/input/kristineberg_2024_april_SA/G0017361.JPG: 480x640 13 2s, 1 5, 9.7ms\n",
      "image 176/497 /buckets/kso/input/kristineberg_2024_april_SA/G0017362.JPG: 480x640 14 2s, 1 5, 10.1ms\n",
      "image 177/497 /buckets/kso/input/kristineberg_2024_april_SA/G0017363.JPG: 480x640 14 2s, 1 5, 9.8ms\n",
      "image 178/497 /buckets/kso/input/kristineberg_2024_april_SA/G0017364.JPG: 480x640 9 2s, 1 5, 9.7ms\n",
      "image 179/497 /buckets/kso/input/kristineberg_2024_april_SA/G0017365.JPG: 480x640 8 2s, 2 5s, 9.7ms\n",
      "image 180/497 /buckets/kso/input/kristineberg_2024_april_SA/G0017366.JPG: 480x640 11 2s, 1 5, 9.7ms\n",
      "image 181/497 /buckets/kso/input/kristineberg_2024_april_SA/G0017367.JPG: 480x640 9 2s, 2 5s, 9.7ms\n",
      "image 182/497 /buckets/kso/input/kristineberg_2024_april_SA/G0017368.JPG: 480x640 21 2s, 1 5, 9.8ms\n",
      "image 183/497 /buckets/kso/input/kristineberg_2024_april_SA/G0017369.JPG: 480x640 6 2s, 1 5, 9.9ms\n",
      "image 184/497 /buckets/kso/input/kristineberg_2024_april_SA/G0017370.JPG: 480x640 10 2s, 1 5, 9.8ms\n",
      "image 185/497 /buckets/kso/input/kristineberg_2024_april_SA/G0017371.JPG: 480x640 13 2s, 1 5, 9.9ms\n",
      "image 186/497 /buckets/kso/input/kristineberg_2024_april_SA/G0017372.JPG: 480x640 12 2s, 1 5, 11.1ms\n",
      "image 187/497 /buckets/kso/input/kristineberg_2024_april_SA/G0017373.JPG: 480x640 17 2s, 1 5, 1 8, 11.0ms\n",
      "image 188/497 /buckets/kso/input/kristineberg_2024_april_SA/G0017374.JPG: 480x640 15 2s, 2 5s, 10.2ms\n",
      "image 189/497 /buckets/kso/input/kristineberg_2024_april_SA/G0017375.JPG: 480x640 17 2s, 2 5s, 9.9ms\n",
      "image 190/497 /buckets/kso/input/kristineberg_2024_april_SA/G0017376.JPG: 480x640 22 2s, 2 5s, 9.9ms\n",
      "image 191/497 /buckets/kso/input/kristineberg_2024_april_SA/G0017377.JPG: 480x640 23 2s, 2 5s, 9.8ms\n",
      "image 192/497 /buckets/kso/input/kristineberg_2024_april_SA/G0017378.JPG: 480x640 27 2s, 2 5s, 9.7ms\n",
      "image 193/497 /buckets/kso/input/kristineberg_2024_april_SA/G0017379.JPG: 480x640 16 2s, 1 5, 9.9ms\n",
      "image 194/497 /buckets/kso/input/kristineberg_2024_april_SA/G0017380.JPG: 480x640 24 2s, 1 5, 9.9ms\n",
      "image 195/497 /buckets/kso/input/kristineberg_2024_april_SA/G0017381.JPG: 480x640 12 2s, 2 5s, 9.9ms\n",
      "image 196/497 /buckets/kso/input/kristineberg_2024_april_SA/G0017382.JPG: 480x640 24 2s, 1 5, 9.8ms\n",
      "image 197/497 /buckets/kso/input/kristineberg_2024_april_SA/G0017383.JPG: 480x640 21 2s, 2 5s, 9.8ms\n",
      "image 198/497 /buckets/kso/input/kristineberg_2024_april_SA/G0017384.JPG: 480x640 23 2s, 2 5s, 9.8ms\n",
      "image 199/497 /buckets/kso/input/kristineberg_2024_april_SA/G0017385.JPG: 480x640 18 2s, 2 5s, 9.8ms\n",
      "image 200/497 /buckets/kso/input/kristineberg_2024_april_SA/G0017386.JPG: 480x640 12 2s, 2 5s, 9.7ms\n",
      "image 201/497 /buckets/kso/input/kristineberg_2024_april_SA/G0017387.JPG: 480x640 21 2s, 2 5s, 9.6ms\n",
      "image 202/497 /buckets/kso/input/kristineberg_2024_april_SA/G0017388.JPG: 480x640 16 2s, 2 5s, 9.7ms\n",
      "image 203/497 /buckets/kso/input/kristineberg_2024_april_SA/G0017389.JPG: 480x640 14 2s, 2 5s, 9.8ms\n",
      "image 204/497 /buckets/kso/input/kristineberg_2024_april_SA/G0017390.JPG: 480x640 13 2s, 1 5, 9.8ms\n",
      "image 205/497 /buckets/kso/input/kristineberg_2024_april_SA/G0017392.JPG: 480x640 17 2s, 2 5s, 9.9ms\n",
      "image 206/497 /buckets/kso/input/kristineberg_2024_april_SA/G0017393.JPG: 480x640 13 2s, 2 5s, 9.6ms\n",
      "image 207/497 /buckets/kso/input/kristineberg_2024_april_SA/G0017394.JPG: 480x640 21 2s, 2 5s, 11.3ms\n",
      "image 208/497 /buckets/kso/input/kristineberg_2024_april_SA/G0017395.JPG: 480x640 12 2s, 2 5s, 9.7ms\n",
      "image 209/497 /buckets/kso/input/kristineberg_2024_april_SA/G0017406.JPG: 480x640 21 2s, 2 5s, 9.7ms\n",
      "image 210/497 /buckets/kso/input/kristineberg_2024_april_SA/G0017407.JPG: 480x640 28 2s, 1 5, 9.8ms\n",
      "image 211/497 /buckets/kso/input/kristineberg_2024_april_SA/G0017408.JPG: 480x640 15 2s, 2 5s, 9.8ms\n",
      "image 212/497 /buckets/kso/input/kristineberg_2024_april_SA/G0017409.JPG: 480x640 17 2s, 2 5s, 9.7ms\n",
      "image 213/497 /buckets/kso/input/kristineberg_2024_april_SA/G0017410.JPG: 480x640 16 2s, 1 5, 9.6ms\n",
      "image 214/497 /buckets/kso/input/kristineberg_2024_april_SA/G0017411.JPG: 480x640 16 2s, 1 5, 9.8ms\n",
      "image 215/497 /buckets/kso/input/kristineberg_2024_april_SA/G0017412.JPG: 480x640 12 2s, 1 5, 11.9ms\n",
      "image 216/497 /buckets/kso/input/kristineberg_2024_april_SA/G0017413.JPG: 480x640 14 2s, 2 5s, 11.7ms\n",
      "image 217/497 /buckets/kso/input/kristineberg_2024_april_SA/G0017414.JPG: 480x640 18 2s, 1 5, 10.4ms\n",
      "image 218/497 /buckets/kso/input/kristineberg_2024_april_SA/G0017415.JPG: 480x640 14 2s, 2 5s, 9.8ms\n",
      "image 219/497 /buckets/kso/input/kristineberg_2024_april_SA/G0017416.JPG: 480x640 10 2s, 2 5s, 9.7ms\n",
      "image 220/497 /buckets/kso/input/kristineberg_2024_april_SA/G0017417.JPG: 480x640 12 2s, 1 5, 9.8ms\n",
      "image 221/497 /buckets/kso/input/kristineberg_2024_april_SA/G0017418.JPG: 480x640 15 2s, 2 5s, 9.8ms\n",
      "image 222/497 /buckets/kso/input/kristineberg_2024_april_SA/G0017419.JPG: 480x640 13 2s, 1 5, 9.8ms\n",
      "image 223/497 /buckets/kso/input/kristineberg_2024_april_SA/G0017420.JPG: 480x640 15 2s, 1 5, 9.7ms\n",
      "image 224/497 /buckets/kso/input/kristineberg_2024_april_SA/G0017421.JPG: 480x640 14 2s, 2 5s, 9.7ms\n",
      "image 225/497 /buckets/kso/input/kristineberg_2024_april_SA/G0017422.JPG: 480x640 10 2s, 2 5s, 9.6ms\n",
      "image 226/497 /buckets/kso/input/kristineberg_2024_april_SA/G0017423.JPG: 480x640 13 2s, 1 5, 10.7ms\n",
      "image 227/497 /buckets/kso/input/kristineberg_2024_april_SA/G0017424.JPG: 480x640 15 2s, 2 5s, 10.6ms\n",
      "image 228/497 /buckets/kso/input/kristineberg_2024_april_SA/G0017425.JPG: 480x640 11 2s, 1 5, 13.7ms\n",
      "image 229/497 /buckets/kso/input/kristineberg_2024_april_SA/G0017426.JPG: 480x640 13 2s, 1 5, 10.0ms\n",
      "image 230/497 /buckets/kso/input/kristineberg_2024_april_SA/G0017427.JPG: 480x640 12 2s, 1 5, 9.9ms\n",
      "image 231/497 /buckets/kso/input/kristineberg_2024_april_SA/G0017428.JPG: 480x640 19 2s, 2 5s, 9.9ms\n",
      "image 232/497 /buckets/kso/input/kristineberg_2024_april_SA/G0017429.JPG: 480x640 24 2s, 1 5, 10.3ms\n",
      "image 233/497 /buckets/kso/input/kristineberg_2024_april_SA/G0017430.JPG: 480x640 21 2s, 2 5s, 9.8ms\n",
      "image 234/497 /buckets/kso/input/kristineberg_2024_april_SA/G0017431.JPG: 480x640 19 2s, 2 5s, 9.9ms\n",
      "image 235/497 /buckets/kso/input/kristineberg_2024_april_SA/G0017432.JPG: 480x640 21 2s, 1 5, 9.7ms\n",
      "image 236/497 /buckets/kso/input/kristineberg_2024_april_SA/G0017433.JPG: 480x640 14 2s, 2 5s, 9.8ms\n",
      "image 237/497 /buckets/kso/input/kristineberg_2024_april_SA/G0017434.JPG: 480x640 20 2s, 1 5, 9.7ms\n",
      "image 238/497 /buckets/kso/input/kristineberg_2024_april_SA/G0017435.JPG: 480x640 23 2s, 2 5s, 10.8ms\n",
      "image 239/497 /buckets/kso/input/kristineberg_2024_april_SA/G0017436.JPG: 480x640 17 2s, 1 5, 9.9ms\n",
      "image 240/497 /buckets/kso/input/kristineberg_2024_april_SA/G0017437.JPG: 480x640 19 2s, 1 5, 9.8ms\n",
      "image 241/497 /buckets/kso/input/kristineberg_2024_april_SA/G0017438.JPG: 480x640 14 2s, 2 5s, 9.7ms\n",
      "image 242/497 /buckets/kso/input/kristineberg_2024_april_SA/G0017439.JPG: 480x640 17 2s, 1 5, 9.8ms\n",
      "image 243/497 /buckets/kso/input/kristineberg_2024_april_SA/G0017440.JPG: 480x640 10 2s, 1 5, 10.6ms\n",
      "image 244/497 /buckets/kso/input/kristineberg_2024_april_SA/G0017441.JPG: 480x640 22 2s, 1 5, 11.0ms\n",
      "image 245/497 /buckets/kso/input/kristineberg_2024_april_SA/G0017442.JPG: 480x640 21 2s, 1 5, 10.7ms\n",
      "image 246/497 /buckets/kso/input/kristineberg_2024_april_SA/G0017443.JPG: 480x640 20 2s, 1 5, 9.9ms\n",
      "image 247/497 /buckets/kso/input/kristineberg_2024_april_SA/G0017444.JPG: 480x640 18 2s, 1 5, 12.6ms\n",
      "image 248/497 /buckets/kso/input/kristineberg_2024_april_SA/G0017445.JPG: 480x640 23 2s, 1 5, 10.0ms\n",
      "image 249/497 /buckets/kso/input/kristineberg_2024_april_SA/G0017446.JPG: 480x640 16 2s, 1 5, 9.8ms\n",
      "image 250/497 /buckets/kso/input/kristineberg_2024_april_SA/G0017447.JPG: 480x640 19 2s, 2 5s, 11.3ms\n",
      "image 251/497 /buckets/kso/input/kristineberg_2024_april_SA/G0017448.JPG: 480x640 15 2s, 2 5s, 12.9ms\n",
      "image 252/497 /buckets/kso/input/kristineberg_2024_april_SA/G0017449.JPG: 480x640 5 2s, 1 5, 11.2ms\n",
      "image 253/497 /buckets/kso/input/kristineberg_2024_april_SA/G0017450.JPG: 480x640 14 2s, 1 5, 10.7ms\n",
      "image 254/497 /buckets/kso/input/kristineberg_2024_april_SA/G0017451.JPG: 480x640 8 2s, 1 5, 9.8ms\n",
      "image 255/497 /buckets/kso/input/kristineberg_2024_april_SA/G0017452.JPG: 480x640 25 2s, 1 5, 9.7ms\n",
      "image 256/497 /buckets/kso/input/kristineberg_2024_april_SA/G0017453.JPG: 480x640 11 2s, 1 5, 9.9ms\n",
      "image 257/497 /buckets/kso/input/kristineberg_2024_april_SA/G0017454.JPG: 480x640 21 2s, 1 5, 9.7ms\n",
      "image 258/497 /buckets/kso/input/kristineberg_2024_april_SA/G0017455.JPG: 480x640 29 2s, 1 5, 9.9ms\n",
      "image 259/497 /buckets/kso/input/kristineberg_2024_april_SA/G0017456.JPG: 480x640 19 2s, 1 5, 9.8ms\n",
      "image 260/497 /buckets/kso/input/kristineberg_2024_april_SA/G0017457.JPG: 480x640 12 2s, 1 5, 11.1ms\n",
      "image 261/497 /buckets/kso/input/kristineberg_2024_april_SA/G0017458.JPG: 480x640 21 2s, 1 5, 9.8ms\n",
      "image 262/497 /buckets/kso/input/kristineberg_2024_april_SA/G0017459.JPG: 480x640 20 2s, 2 5s, 10.1ms\n",
      "image 263/497 /buckets/kso/input/kristineberg_2024_april_SA/G0017460.JPG: 480x640 22 2s, 6 5s, 9.8ms\n",
      "image 264/497 /buckets/kso/input/kristineberg_2024_april_SA/G0017461.JPG: 480x640 19 2s, 1 5, 1 8, 10.2ms\n",
      "image 265/497 /buckets/kso/input/kristineberg_2024_april_SA/G0017462.JPG: 480x640 24 2s, 1 5, 9.7ms\n",
      "image 266/497 /buckets/kso/input/kristineberg_2024_april_SA/G0017463.JPG: 480x640 26 2s, 1 5, 10.0ms\n",
      "image 267/497 /buckets/kso/input/kristineberg_2024_april_SA/G0017464.JPG: 480x640 30 2s, 2 5s, 2 8s, 9.7ms\n",
      "image 268/497 /buckets/kso/input/kristineberg_2024_april_SA/G0025211.JPG: 480x640 11 2s, 3 8s, 9.9ms\n",
      "image 269/497 /buckets/kso/input/kristineberg_2024_april_SA/G0025212.JPG: 480x640 10 2s, 2 8s, 9.7ms\n",
      "image 270/497 /buckets/kso/input/kristineberg_2024_april_SA/G0025213.JPG: 480x640 1 6, 9 2s, 1 8, 9.9ms\n",
      "image 271/497 /buckets/kso/input/kristineberg_2024_april_SA/G0035276.JPG: 480x640 1 4, 1 1, 2 8s, 11.0ms\n",
      "image 272/497 /buckets/kso/input/kristineberg_2024_april_SA/G0035277.JPG: 480x640 1 4, 1 1, 2 8s, 10.8ms\n",
      "image 273/497 /buckets/kso/input/kristineberg_2024_april_SA/G0035279.JPG: 480x640 1 4, 2 8s, 13.1ms\n",
      "image 274/497 /buckets/kso/input/kristineberg_2024_april_SA/G0047248.JPG: 480x640 2 7s, 10.4ms\n",
      "image 275/497 /buckets/kso/input/kristineberg_2024_april_SA/G0047249.JPG: 480x640 2 4s, 3 7s, 11.1ms\n",
      "image 276/497 /buckets/kso/input/kristineberg_2024_april_SA/G0047250.JPG: 480x640 1 6, 3 4s, 2 7s, 11.3ms\n",
      "image 277/497 /buckets/kso/input/kristineberg_2024_april_SA/G0059752.JPG: 480x640 1 5, 1 4, 10.6ms\n",
      "image 278/497 /buckets/kso/input/kristineberg_2024_april_SA/G0060421.JPG: 480x640 1 5, 1 7, 10.1ms\n",
      "image 279/497 /buckets/kso/input/kristineberg_2024_april_SA/G0060422.JPG: 480x640 1 5, 9.8ms\n",
      "image 280/497 /buckets/kso/input/kristineberg_2024_april_SA/G0060423.JPG: 480x640 1 5, 10.1ms\n",
      "image 281/497 /buckets/kso/input/kristineberg_2024_april_SA/G0065431.JPG: 480x640 1 5, 1 4, 1 1, 1 8, 10.3ms\n",
      "image 282/497 /buckets/kso/input/kristineberg_2024_april_SA/G0065432.JPG: 480x640 1 4, 9.8ms\n",
      "image 283/497 /buckets/kso/input/kristineberg_2024_april_SA/G0065433.JPG: 480x640 1 4, 1 1, 1 8, 10.4ms\n",
      "image 284/497 /buckets/kso/input/kristineberg_2024_april_SA/G0069765.JPG: 640x480 1 5, 1 4, 131.3ms\n",
      "image 285/497 /buckets/kso/input/kristineberg_2024_april_SA/G0069766.JPG: 640x480 1 7, 10.3ms\n",
      "image 286/497 /buckets/kso/input/kristineberg_2024_april_SA/G0069767.JPG: 640x480 1 7, 10.2ms\n",
      "image 287/497 /buckets/kso/input/kristineberg_2024_april_SA/G0075520.JPG: 480x640 1 4, 1 8, 10.8ms\n",
      "image 288/497 /buckets/kso/input/kristineberg_2024_april_SA/G0075521.JPG: 480x640 1 4, 1 8, 10.3ms\n",
      "image 289/497 /buckets/kso/input/kristineberg_2024_april_SA/G0075522.JPG: 480x640 1 4, 1 8, 10.3ms\n",
      "image 290/497 /buckets/kso/input/kristineberg_2024_april_SA/G0080448.JPG: 480x640 (no detections), 10.5ms\n",
      "image 291/497 /buckets/kso/input/kristineberg_2024_april_SA/G0080449.JPG: 480x640 (no detections), 9.9ms\n",
      "image 292/497 /buckets/kso/input/kristineberg_2024_april_SA/G0080450.JPG: 480x640 1 5, 10.3ms\n",
      "image 293/497 /buckets/kso/input/kristineberg_2024_april_SA/G0085584.JPG: 480x640 1 4, 12.0ms\n",
      "image 294/497 /buckets/kso/input/kristineberg_2024_april_SA/G0085585.JPG: 480x640 1 4, 1 8, 11.4ms\n",
      "image 295/497 /buckets/kso/input/kristineberg_2024_april_SA/G0085586.JPG: 480x640 1 4, 1 1, 2 8s, 18.3ms\n",
      "image 296/497 /buckets/kso/input/kristineberg_2024_april_SA/G0090472.JPG: 480x640 1 4, 1 8, 10.1ms\n",
      "image 297/497 /buckets/kso/input/kristineberg_2024_april_SA/G0090473.JPG: 480x640 1 4, 10.1ms\n",
      "image 298/497 /buckets/kso/input/kristineberg_2024_april_SA/G0090474.JPG: 480x640 1 4, 1 8, 10.1ms\n",
      "image 299/497 /buckets/kso/input/kristineberg_2024_april_SA/G0095642.JPG: 480x640 1 4, 1 1, 3 8s, 10.0ms\n",
      "image 300/497 /buckets/kso/input/kristineberg_2024_april_SA/G0095643.JPG: 480x640 1 4, 1 1, 1 8, 10.1ms\n",
      "image 301/497 /buckets/kso/input/kristineberg_2024_april_SA/G0095644.JPG: 480x640 1 4, 1 1, 3 8s, 10.4ms\n",
      "image 302/497 /buckets/kso/input/kristineberg_2024_april_SA/G0099803.JPG: 640x480 1 2, 1 5, 3 1s, 10.5ms\n",
      "image 303/497 /buckets/kso/input/kristineberg_2024_april_SA/G0099804.JPG: 640x480 1 1, 10.0ms\n",
      "image 304/497 /buckets/kso/input/kristineberg_2024_april_SA/G0099805.JPG: 640x480 4 1s, 10.1ms\n",
      "image 305/497 /buckets/kso/input/kristineberg_2024_april_SA/G0099806.JPG: 640x480 1 1, 1 8, 10.0ms\n",
      "image 306/497 /buckets/kso/input/kristineberg_2024_april_SA/G0105727.JPG: 480x640 1 4, 1 8, 10.7ms\n",
      "image 307/497 /buckets/kso/input/kristineberg_2024_april_SA/G0105728.JPG: 480x640 2 4s, 4 8s, 10.0ms\n",
      "image 308/497 /buckets/kso/input/kristineberg_2024_april_SA/G0105729.JPG: 480x640 1 4, 1 1, 1 7, 10.1ms\n",
      "image 309/497 /buckets/kso/input/kristineberg_2024_april_SA/G0109815.JPG: 640x480 1 4, 2 1s, 10.5ms\n",
      "image 310/497 /buckets/kso/input/kristineberg_2024_april_SA/G0109816.JPG: 640x480 2 1s, 1 7, 10.0ms\n",
      "image 311/497 /buckets/kso/input/kristineberg_2024_april_SA/G0109817.JPG: 640x480 2 1s, 9.9ms\n",
      "image 312/497 /buckets/kso/input/kristineberg_2024_april_SA/G0110539.JPG: 480x640 2 5s, 13.6ms\n",
      "image 313/497 /buckets/kso/input/kristineberg_2024_april_SA/G0110540.JPG: 480x640 1 5, 10.0ms\n",
      "image 314/497 /buckets/kso/input/kristineberg_2024_april_SA/G0110541.JPG: 480x640 1 5, 10.1ms\n",
      "image 315/497 /buckets/kso/input/kristineberg_2024_april_SA/G0110544.JPG: 480x640 1 5, 10.1ms\n",
      "image 316/497 /buckets/kso/input/kristineberg_2024_april_SA/G0110545.JPG: 480x640 2 5s, 10.1ms\n",
      "image 317/497 /buckets/kso/input/kristineberg_2024_april_SA/G0110546.JPG: 480x640 1 5, 10.0ms\n",
      "image 318/497 /buckets/kso/input/kristineberg_2024_april_SA/G0115814.JPG: 480x640 1 4, 10.0ms\n",
      "image 319/497 /buckets/kso/input/kristineberg_2024_april_SA/G0115815.JPG: 480x640 1 4, 10.0ms\n",
      "image 320/497 /buckets/kso/input/kristineberg_2024_april_SA/G0115816.JPG: 480x640 1 4, 1 1, 11.9ms\n",
      "image 321/497 /buckets/kso/input/kristineberg_2024_april_SA/G0119829.JPG: 640x480 1 5, 10.7ms\n",
      "image 322/497 /buckets/kso/input/kristineberg_2024_april_SA/G0119830.JPG: 640x480 1 5, 1 4, 1 1, 9.9ms\n",
      "image 323/497 /buckets/kso/input/kristineberg_2024_april_SA/G0119831.JPG: 640x480 1 4, 10.0ms\n",
      "image 324/497 /buckets/kso/input/kristineberg_2024_april_SA/G0120562.JPG: 480x640 1 5, 10.6ms\n",
      "image 325/497 /buckets/kso/input/kristineberg_2024_april_SA/G0120563.JPG: 480x640 (no detections), 10.0ms\n",
      "image 326/497 /buckets/kso/input/kristineberg_2024_april_SA/G0120564.JPG: 480x640 (no detections), 10.1ms\n",
      "image 327/497 /buckets/kso/input/kristineberg_2024_april_SA/G0125891.JPG: 480x640 (no detections), 10.0ms\n",
      "image 328/497 /buckets/kso/input/kristineberg_2024_april_SA/G0125892.JPG: 480x640 2 4s, 10.0ms\n",
      "image 329/497 /buckets/kso/input/kristineberg_2024_april_SA/G0125893.JPG: 480x640 1 4, 1 7, 10.0ms\n",
      "image 330/497 /buckets/kso/input/kristineberg_2024_april_SA/G0129841.JPG: 640x480 1 5, 7 1s, 14.2ms\n",
      "image 331/497 /buckets/kso/input/kristineberg_2024_april_SA/G0129842.JPG: 640x480 1 5, 1 4, 7 1s, 12.1ms\n",
      "image 332/497 /buckets/kso/input/kristineberg_2024_april_SA/G0129843.JPG: 640x480 1 5, 10 1s, 11.3ms\n",
      "image 333/497 /buckets/kso/input/kristineberg_2024_april_SA/G0130583.JPG: 480x640 1 5, 9 1s, 10.7ms\n",
      "image 334/497 /buckets/kso/input/kristineberg_2024_april_SA/G0130584.JPG: 480x640 1 5, 6 1s, 2 7s, 10.0ms\n",
      "image 335/497 /buckets/kso/input/kristineberg_2024_april_SA/G0130585.JPG: 480x640 1 5, 5 1s, 1 7, 10.4ms\n",
      "image 336/497 /buckets/kso/input/kristineberg_2024_april_SA/G0135951.JPG: 480x640 1 4, 1 1, 3 7s, 10.2ms\n",
      "image 337/497 /buckets/kso/input/kristineberg_2024_april_SA/G0135952.JPG: 480x640 1 4, 4 7s, 12.0ms\n",
      "image 338/497 /buckets/kso/input/kristineberg_2024_april_SA/G0135953.JPG: 480x640 1 4, 1 1, 6 7s, 11.4ms\n",
      "image 339/497 /buckets/kso/input/kristineberg_2024_april_SA/G0140604.JPG: 480x640 1 5, 1 4, 12.7ms\n",
      "image 340/497 /buckets/kso/input/kristineberg_2024_april_SA/G0140605.JPG: 480x640 1 4, 1 1, 10.0ms\n",
      "image 341/497 /buckets/kso/input/kristineberg_2024_april_SA/G0140606.JPG: 480x640 1 5, 10.0ms\n",
      "image 342/497 /buckets/kso/input/kristineberg_2024_april_SA/G0146033.JPG: 480x640 2 2s, 1 7, 12.4ms\n",
      "image 343/497 /buckets/kso/input/kristineberg_2024_april_SA/G0146034.JPG: 480x640 2 2s, 1 4, 1 1, 10.2ms\n",
      "image 344/497 /buckets/kso/input/kristineberg_2024_april_SA/G0146035.JPG: 480x640 3 2s, 1 4, 10.1ms\n",
      "image 345/497 /buckets/kso/input/kristineberg_2024_april_SA/G0150617.JPG: 640x480 1 5, 1 4, 10.7ms\n",
      "image 346/497 /buckets/kso/input/kristineberg_2024_april_SA/G0150618.JPG: 640x480 1 5, 10.2ms\n",
      "image 347/497 /buckets/kso/input/kristineberg_2024_april_SA/G0150619.JPG: 640x480 1 5, 2 4s, 10.0ms\n",
      "image 348/497 /buckets/kso/input/kristineberg_2024_april_SA/G0156095.JPG: 480x640 1 4, 10.5ms\n",
      "image 349/497 /buckets/kso/input/kristineberg_2024_april_SA/G0156096.JPG: 480x640 1 4, 1 1, 10.0ms\n",
      "image 350/497 /buckets/kso/input/kristineberg_2024_april_SA/G0156097.JPG: 480x640 1 4, 10.0ms\n",
      "image 351/497 /buckets/kso/input/kristineberg_2024_april_SA/G0159859.JPG: 640x480 1 0, 10.5ms\n",
      "image 352/497 /buckets/kso/input/kristineberg_2024_april_SA/G0159860.JPG: 640x480 1 0, 10.0ms\n",
      "image 353/497 /buckets/kso/input/kristineberg_2024_april_SA/G0159861.JPG: 640x480 1 0, 10.3ms\n",
      "image 354/497 /buckets/kso/input/kristineberg_2024_april_SA/G0160639.JPG: 480x640 1 8, 1 7, 10.7ms\n",
      "image 355/497 /buckets/kso/input/kristineberg_2024_april_SA/G0160640.JPG: 480x640 1 5, 1 7, 10.0ms\n",
      "image 356/497 /buckets/kso/input/kristineberg_2024_april_SA/G0160641.JPG: 480x640 1 5, 1 7, 10.0ms\n",
      "image 357/497 /buckets/kso/input/kristineberg_2024_april_SA/G0166137.JPG: 480x640 2 4s, 10 1s, 11.4ms\n",
      "image 358/497 /buckets/kso/input/kristineberg_2024_april_SA/G0166138.JPG: 480x640 1 4, 14 1s, 11.4ms\n",
      "image 359/497 /buckets/kso/input/kristineberg_2024_april_SA/G0166139.JPG: 480x640 1 4, 7 1s, 10.1ms\n",
      "image 360/497 /buckets/kso/input/kristineberg_2024_april_SA/G0169874.JPG: 640x480 2 7s, 10.5ms\n",
      "image 361/497 /buckets/kso/input/kristineberg_2024_april_SA/G0169875.JPG: 640x480 2 7s, 10.0ms\n",
      "image 362/497 /buckets/kso/input/kristineberg_2024_april_SA/G0169876.JPG: 640x480 2 7s, 9.9ms\n",
      "image 363/497 /buckets/kso/input/kristineberg_2024_april_SA/G0170670.JPG: 480x640 1 4, 10.6ms\n",
      "image 364/497 /buckets/kso/input/kristineberg_2024_april_SA/G0170671.JPG: 480x640 1 4, 1 1, 10.0ms\n",
      "image 365/497 /buckets/kso/input/kristineberg_2024_april_SA/G0170672.JPG: 480x640 1 4, 1 1, 10.1ms\n",
      "image 366/497 /buckets/kso/input/kristineberg_2024_april_SA/G0176224.JPG: 480x640 8 2s, 10.0ms\n",
      "image 367/497 /buckets/kso/input/kristineberg_2024_april_SA/G0176225.JPG: 480x640 7 2s, 10.1ms\n",
      "image 368/497 /buckets/kso/input/kristineberg_2024_april_SA/G0176226.JPG: 480x640 11 2s, 1 8, 10.4ms\n",
      "image 369/497 /buckets/kso/input/kristineberg_2024_april_SA/G0179886.JPG: 640x480 (no detections), 10.6ms\n",
      "image 370/497 /buckets/kso/input/kristineberg_2024_april_SA/G0179887.JPG: 640x480 (no detections), 10.0ms\n",
      "image 371/497 /buckets/kso/input/kristineberg_2024_april_SA/G0179888.JPG: 640x480 (no detections), 10.0ms\n",
      "image 372/497 /buckets/kso/input/kristineberg_2024_april_SA/G0180696.JPG: 480x640 1 4, 12.0ms\n",
      "image 373/497 /buckets/kso/input/kristineberg_2024_april_SA/G0180697.JPG: 480x640 1 1, 1 8, 10.8ms\n",
      "image 374/497 /buckets/kso/input/kristineberg_2024_april_SA/G0180698.JPG: 480x640 1 4, 1 1, 11.3ms\n",
      "image 375/497 /buckets/kso/input/kristineberg_2024_april_SA/G0186283.JPG: 480x640 1 4, 1 8, 10.3ms\n",
      "image 376/497 /buckets/kso/input/kristineberg_2024_april_SA/G0186284.JPG: 480x640 2 2s, 1 4, 1 8, 10.1ms\n",
      "image 377/497 /buckets/kso/input/kristineberg_2024_april_SA/G0186285.JPG: 480x640 1 2, 1 4, 1 8, 10.0ms\n",
      "image 378/497 /buckets/kso/input/kristineberg_2024_april_SA/G0189900.JPG: 640x480 1 5, 1 1, 11.5ms\n",
      "image 379/497 /buckets/kso/input/kristineberg_2024_april_SA/G0189901.JPG: 640x480 1 7, 11.3ms\n",
      "image 380/497 /buckets/kso/input/kristineberg_2024_april_SA/G0189902.JPG: 640x480 1 5, 2 1s, 1 7, 11.7ms\n",
      "image 381/497 /buckets/kso/input/kristineberg_2024_april_SA/G0190714.JPG: 480x640 6 2s, 1 8, 21.8ms\n",
      "image 382/497 /buckets/kso/input/kristineberg_2024_april_SA/G0190715.JPG: 480x640 8 2s, 2 8s, 10.1ms\n",
      "image 383/497 /buckets/kso/input/kristineberg_2024_april_SA/G0190716.JPG: 480x640 8 2s, 2 8s, 10.9ms\n",
      "image 384/497 /buckets/kso/input/kristineberg_2024_april_SA/G0196345.JPG: 480x640 13 2s, 1 4, 1 8, 10.1ms\n",
      "image 385/497 /buckets/kso/input/kristineberg_2024_april_SA/G0196346.JPG: 480x640 13 2s, 1 4, 1 8, 10.3ms\n",
      "image 386/497 /buckets/kso/input/kristineberg_2024_april_SA/G0196347.JPG: 480x640 14 2s, 1 4, 1 8, 11.1ms\n",
      "image 387/497 /buckets/kso/input/kristineberg_2024_april_SA/G0200750.JPG: 480x640 3 2s, 10.2ms\n",
      "image 388/497 /buckets/kso/input/kristineberg_2024_april_SA/G0200751.JPG: 480x640 5 2s, 10.3ms\n",
      "image 389/497 /buckets/kso/input/kristineberg_2024_april_SA/G0200752.JPG: 480x640 6 2s, 10.0ms\n",
      "image 390/497 /buckets/kso/input/kristineberg_2024_april_SA/G0206392.JPG: 480x640 13 2s, 1 8, 10.1ms\n",
      "image 391/497 /buckets/kso/input/kristineberg_2024_april_SA/G0206393.JPG: 480x640 13 2s, 3 8s, 10.2ms\n",
      "image 392/497 /buckets/kso/input/kristineberg_2024_april_SA/G0206394.JPG: 480x640 15 2s, 3 8s, 10.1ms\n",
      "image 393/497 /buckets/kso/input/kristineberg_2024_april_SA/G0209915.JPG: 480x640 1 2, 1 4, 11.5ms\n",
      "image 394/497 /buckets/kso/input/kristineberg_2024_april_SA/G0209916.JPG: 480x640 1 4, 1 7, 10.1ms\n",
      "image 395/497 /buckets/kso/input/kristineberg_2024_april_SA/G0209917.JPG: 480x640 1 4, 2 7s, 10.1ms\n",
      "image 396/497 /buckets/kso/input/kristineberg_2024_april_SA/G0210775.JPG: 480x640 19 2s, 3 8s, 9.9ms\n",
      "image 397/497 /buckets/kso/input/kristineberg_2024_april_SA/G0210776.JPG: 480x640 21 2s, 3 8s, 10.0ms\n",
      "image 398/497 /buckets/kso/input/kristineberg_2024_april_SA/G0210777.JPG: 480x640 19 2s, 3 8s, 10.1ms\n",
      "image 399/497 /buckets/kso/input/kristineberg_2024_april_SA/G0216473.JPG: 480x640 10 6s, 7 2s, 1 4, 11 8s, 1 0, 10.1ms\n",
      "image 400/497 /buckets/kso/input/kristineberg_2024_april_SA/G0216474.JPG: 480x640 10 6s, 9 2s, 1 4, 11 8s, 2 0s, 10.6ms\n",
      "image 401/497 /buckets/kso/input/kristineberg_2024_april_SA/G0216475.JPG: 480x640 7 6s, 10 2s, 1 4, 5 8s, 2 0s, 10.2ms\n",
      "image 402/497 /buckets/kso/input/kristineberg_2024_april_SA/G0219934.JPG: 640x480 (no detections), 10.7ms\n",
      "image 403/497 /buckets/kso/input/kristineberg_2024_april_SA/G0219935.JPG: 640x480 1 7, 11.0ms\n",
      "image 404/497 /buckets/kso/input/kristineberg_2024_april_SA/G0219936.JPG: 640x480 1 7, 11.2ms\n",
      "image 405/497 /buckets/kso/input/kristineberg_2024_april_SA/G0220795.JPG: 480x640 8 2s, 15.3ms\n",
      "image 406/497 /buckets/kso/input/kristineberg_2024_april_SA/G0220796.JPG: 480x640 6 2s, 10.9ms\n",
      "image 407/497 /buckets/kso/input/kristineberg_2024_april_SA/G0220797.JPG: 480x640 3 2s, 10.2ms\n",
      "image 408/497 /buckets/kso/input/kristineberg_2024_april_SA/G0226553.JPG: 480x640 12 2s, 4 8s, 10.1ms\n",
      "image 409/497 /buckets/kso/input/kristineberg_2024_april_SA/G0226554.JPG: 480x640 12 2s, 2 8s, 10.0ms\n",
      "image 410/497 /buckets/kso/input/kristineberg_2024_april_SA/G0226555.JPG: 480x640 10 2s, 4 8s, 10.1ms\n",
      "image 411/497 /buckets/kso/input/kristineberg_2024_april_SA/G0229948.JPG: 640x480 2 4s, 1 8, 10.5ms\n",
      "image 412/497 /buckets/kso/input/kristineberg_2024_april_SA/G0229949.JPG: 640x480 1 4, 1 8, 11.9ms\n",
      "image 413/497 /buckets/kso/input/kristineberg_2024_april_SA/G0229950.JPG: 640x480 1 4, 1 8, 10.3ms\n",
      "image 414/497 /buckets/kso/input/kristineberg_2024_april_SA/G0230831.JPG: 480x640 8 2s, 2 5s, 10.7ms\n",
      "image 415/497 /buckets/kso/input/kristineberg_2024_april_SA/G0230832.JPG: 480x640 6 2s, 1 5, 10.0ms\n",
      "image 416/497 /buckets/kso/input/kristineberg_2024_april_SA/G0230833.JPG: 480x640 9 2s, 1 5, 10.1ms\n",
      "image 417/497 /buckets/kso/input/kristineberg_2024_april_SA/G0236607.JPG: 480x640 24 2s, 5 8s, 9.9ms\n",
      "image 418/497 /buckets/kso/input/kristineberg_2024_april_SA/G0236608.JPG: 480x640 24 2s, 6 8s, 10.0ms\n",
      "image 419/497 /buckets/kso/input/kristineberg_2024_april_SA/G0236609.JPG: 480x640 19 2s, 6 8s, 10.1ms\n",
      "image 420/497 /buckets/kso/input/kristineberg_2024_april_SA/G0239961.JPG: 480x640 2 4s, 10.0ms\n",
      "image 421/497 /buckets/kso/input/kristineberg_2024_april_SA/G0239962.JPG: 480x640 1 8, 10.1ms\n",
      "image 422/497 /buckets/kso/input/kristineberg_2024_april_SA/G0239963.JPG: 480x640 (no detections), 10.0ms\n",
      "image 423/497 /buckets/kso/input/kristineberg_2024_april_SA/G0240863.JPG: 480x640 1 4, 1 8, 10.0ms\n",
      "image 424/497 /buckets/kso/input/kristineberg_2024_april_SA/G0240864.JPG: 480x640 (no detections), 10.2ms\n",
      "image 425/497 /buckets/kso/input/kristineberg_2024_april_SA/G0240865.JPG: 480x640 1 4, 1 1, 10.1ms\n",
      "image 426/497 /buckets/kso/input/kristineberg_2024_april_SA/G0246657.JPG: 480x640 30 6s, 4 2s, 1 4, 1 8, 10.1ms\n",
      "image 427/497 /buckets/kso/input/kristineberg_2024_april_SA/G0246658.JPG: 480x640 26 6s, 3 2s, 1 8, 10.0ms\n",
      "image 428/497 /buckets/kso/input/kristineberg_2024_april_SA/G0246659.JPG: 480x640 16 6s, 1 2, 1 8, 10.3ms\n",
      "image 429/497 /buckets/kso/input/kristineberg_2024_april_SA/G0250874.JPG: 480x640 4 1s, 1 8, 10.0ms\n",
      "image 430/497 /buckets/kso/input/kristineberg_2024_april_SA/G0250875.JPG: 480x640 1 4, 5 1s, 10.8ms\n",
      "image 431/497 /buckets/kso/input/kristineberg_2024_april_SA/G0250876.JPG: 480x640 5 1s, 11.3ms\n",
      "image 432/497 /buckets/kso/input/kristineberg_2024_april_SA/G0250884.JPG: 480x640 (no detections), 10.2ms\n",
      "image 433/497 /buckets/kso/input/kristineberg_2024_april_SA/G0250885.JPG: 480x640 2 7s, 10.8ms\n",
      "image 434/497 /buckets/kso/input/kristineberg_2024_april_SA/G0250886.JPG: 480x640 1 7, 10.2ms\n",
      "image 435/497 /buckets/kso/input/kristineberg_2024_april_SA/G0250891.JPG: 480x640 1 5, 1 1, 15.4ms\n",
      "image 436/497 /buckets/kso/input/kristineberg_2024_april_SA/G0250892.JPG: 480x640 1 5, 1 4, 1 1, 11.1ms\n",
      "image 437/497 /buckets/kso/input/kristineberg_2024_april_SA/G0250893.JPG: 480x640 1 4, 1 1, 11.2ms\n",
      "image 438/497 /buckets/kso/input/kristineberg_2024_april_SA/G0256738.JPG: 480x640 4 2s, 2 5s, 1 4, 3 1s, 1 8, 2 7s, 10.9ms\n",
      "image 439/497 /buckets/kso/input/kristineberg_2024_april_SA/G0256739.JPG: 480x640 2 2s, 1 5, 1 4, 3 1s, 2 7s, 12.3ms\n",
      "image 440/497 /buckets/kso/input/kristineberg_2024_april_SA/G0256740.JPG: 480x640 4 2s, 3 5s, 1 4, 3 1s, 1 8, 2 7s, 10.9ms\n",
      "image 441/497 /buckets/kso/input/kristineberg_2024_april_SA/G0260907.JPG: 480x640 5 1s, 10.3ms\n",
      "image 442/497 /buckets/kso/input/kristineberg_2024_april_SA/G0260908.JPG: 480x640 3 1s, 10.1ms\n",
      "image 443/497 /buckets/kso/input/kristineberg_2024_april_SA/G0260909.JPG: 480x640 3 1s, 10.6ms\n",
      "image 444/497 /buckets/kso/input/kristineberg_2024_april_SA/G0260918.JPG: 480x640 6 2s, 2 5s, 10.3ms\n",
      "image 445/497 /buckets/kso/input/kristineberg_2024_april_SA/G0260919.JPG: 480x640 7 2s, 1 5, 10.0ms\n",
      "image 446/497 /buckets/kso/input/kristineberg_2024_april_SA/G0260920.JPG: 480x640 9 2s, 1 5, 10.1ms\n",
      "image 447/497 /buckets/kso/input/kristineberg_2024_april_SA/G0260928.JPG: 480x640 2 2s, 1 5, 10.0ms\n",
      "image 448/497 /buckets/kso/input/kristineberg_2024_april_SA/G0260929.JPG: 480x640 5 2s, 1 5, 10.1ms\n",
      "image 449/497 /buckets/kso/input/kristineberg_2024_april_SA/G0260930.JPG: 480x640 4 2s, 2 5s, 10.0ms\n",
      "image 450/497 /buckets/kso/input/kristineberg_2024_april_SA/G0266834.JPG: 480x640 1 4, 6 1s, 11.4ms\n",
      "image 451/497 /buckets/kso/input/kristineberg_2024_april_SA/G0266835.JPG: 480x640 1 4, 4 1s, 11.4ms\n",
      "image 452/497 /buckets/kso/input/kristineberg_2024_april_SA/G0266836.JPG: 480x640 4 1s, 11.0ms\n",
      "image 453/497 /buckets/kso/input/kristineberg_2024_april_SA/G0270953.JPG: 480x640 1 4, 10.2ms\n",
      "image 454/497 /buckets/kso/input/kristineberg_2024_april_SA/G0270954.JPG: 480x640 1 4, 10.2ms\n",
      "image 455/497 /buckets/kso/input/kristineberg_2024_april_SA/G0270955.JPG: 480x640 1 4, 10.0ms\n",
      "image 456/497 /buckets/kso/input/kristineberg_2024_april_SA/G0276870.JPG: 480x640 1 4, 3 1s, 11.4ms\n",
      "image 457/497 /buckets/kso/input/kristineberg_2024_april_SA/G0276871.JPG: 480x640 2 4s, 6 1s, 10.8ms\n",
      "image 458/497 /buckets/kso/input/kristineberg_2024_april_SA/G0276872.JPG: 480x640 1 4, 3 1s, 10.3ms\n",
      "image 459/497 /buckets/kso/input/kristineberg_2024_april_SA/G0280026.JPG: 480x640 1 7, 10.3ms\n",
      "image 460/497 /buckets/kso/input/kristineberg_2024_april_SA/G0280027.JPG: 480x640 1 7, 10.0ms\n",
      "image 461/497 /buckets/kso/input/kristineberg_2024_april_SA/G0280028.JPG: 480x640 1 7, 10.9ms\n",
      "image 462/497 /buckets/kso/input/kristineberg_2024_april_SA/G0280969.JPG: 480x640 1 4, 10.7ms\n",
      "image 463/497 /buckets/kso/input/kristineberg_2024_april_SA/G0280970.JPG: 480x640 1 4, 10.2ms\n",
      "image 464/497 /buckets/kso/input/kristineberg_2024_april_SA/G0280971.JPG: 480x640 1 4, 11.4ms\n",
      "image 465/497 /buckets/kso/input/kristineberg_2024_april_SA/G0280979.JPG: 480x640 2 4s, 6 1s, 10.3ms\n",
      "image 466/497 /buckets/kso/input/kristineberg_2024_april_SA/G0280980.JPG: 480x640 1 4, 6 1s, 10.1ms\n",
      "image 467/497 /buckets/kso/input/kristineberg_2024_april_SA/G0280981.JPG: 480x640 1 1, 10.2ms\n",
      "image 468/497 /buckets/kso/input/kristineberg_2024_april_SA/G0286943.JPG: 480x640 3 3s, 17 6s, 1 8, 1 7, 10.1ms\n",
      "image 469/497 /buckets/kso/input/kristineberg_2024_april_SA/G0286944.JPG: 480x640 3 3s, 19 6s, 1 8, 1 7, 11.4ms\n",
      "image 470/497 /buckets/kso/input/kristineberg_2024_april_SA/G0286945.JPG: 480x640 3 3s, 18 6s, 1 8, 1 7, 13.5ms\n",
      "image 471/497 /buckets/kso/input/kristineberg_2024_april_SA/G0290043.JPG: 480x640 2 7s, 10.7ms\n",
      "image 472/497 /buckets/kso/input/kristineberg_2024_april_SA/G0290044.JPG: 480x640 2 7s, 11.0ms\n",
      "image 473/497 /buckets/kso/input/kristineberg_2024_april_SA/G0290045.JPG: 480x640 1 7, 11.8ms\n",
      "image 474/497 /buckets/kso/input/kristineberg_2024_april_SA/G0297067.JPG: 480x640 3 6s, 1 4, 1 8, 1 7, 12.8ms\n",
      "image 475/497 /buckets/kso/input/kristineberg_2024_april_SA/G0297068.JPG: 480x640 3 6s, 1 4, 1 8, 1 7, 11.2ms\n",
      "image 476/497 /buckets/kso/input/kristineberg_2024_april_SA/G0297069.JPG: 480x640 3 6s, 1 4, 1 7, 10.1ms\n",
      "image 477/497 /buckets/kso/input/kristineberg_2024_april_SA/G0301014.JPG: 480x640 3 1s, 10.1ms\n",
      "image 478/497 /buckets/kso/input/kristineberg_2024_april_SA/G0301015.JPG: 480x640 4 1s, 10.1ms\n",
      "image 479/497 /buckets/kso/input/kristineberg_2024_april_SA/G0301016.JPG: 480x640 5 1s, 10.1ms\n",
      "image 480/497 /buckets/kso/input/kristineberg_2024_april_SA/G0311027.JPG: 480x640 1 4, 2 7s, 11.0ms\n",
      "image 481/497 /buckets/kso/input/kristineberg_2024_april_SA/G0311028.JPG: 480x640 1 4, 10.8ms\n",
      "image 482/497 /buckets/kso/input/kristineberg_2024_april_SA/G0311029.JPG: 480x640 1 4, 1 7, 10.2ms\n",
      "image 483/497 /buckets/kso/input/kristineberg_2024_april_SA/G0321040.JPG: 480x640 1 4, 1 8, 10.3ms\n",
      "image 484/497 /buckets/kso/input/kristineberg_2024_april_SA/G0321041.JPG: 480x640 (no detections), 10.2ms\n",
      "image 485/497 /buckets/kso/input/kristineberg_2024_april_SA/G0321042.JPG: 480x640 1 4, 10.1ms\n",
      "image 486/497 /buckets/kso/input/kristineberg_2024_april_SA/G0321047.JPG: 480x640 2 4s, 1 8, 11.5ms\n",
      "image 487/497 /buckets/kso/input/kristineberg_2024_april_SA/G0321048.JPG: 480x640 3 4s, 1 8, 10.1ms\n",
      "image 488/497 /buckets/kso/input/kristineberg_2024_april_SA/G0321049.JPG: 480x640 3 4s, 1 8, 10.2ms\n",
      "image 489/497 /buckets/kso/input/kristineberg_2024_april_SA/G0321050.JPG: 480x640 3 4s, 1 8, 10.1ms\n",
      "image 490/497 /buckets/kso/input/kristineberg_2024_april_SA/G0321051.JPG: 480x640 2 4s, 1 8, 10.3ms\n",
      "image 491/497 /buckets/kso/input/kristineberg_2024_april_SA/G0321056.JPG: 480x640 1 4, 1 8, 10.3ms\n",
      "image 492/497 /buckets/kso/input/kristineberg_2024_april_SA/G0321057.JPG: 480x640 1 4, 1 8, 10.4ms\n",
      "image 493/497 /buckets/kso/input/kristineberg_2024_april_SA/G0321058.JPG: 480x640 1 4, 1 8, 10.1ms\n",
      "image 494/497 /buckets/kso/input/kristineberg_2024_april_SA/G0321066.JPG: 480x640 1 4, 11.0ms\n",
      "image 495/497 /buckets/kso/input/kristineberg_2024_april_SA/G0321067.JPG: 480x640 1 2, 1 4, 10.4ms\n",
      "image 496/497 /buckets/kso/input/kristineberg_2024_april_SA/G0321068.JPG: 480x640 1 4, 10.3ms\n",
      "image 497/497 /buckets/kso/input/kristineberg_2024_april_SA/G0321069.JPG: 480x640 2 4s, 1 8, 10.4ms\n",
      "Speed: 2.7ms preprocess, 10.8ms inference, 2.7ms postprocess per image at shape (1, 3, 480, 640)\n",
      "Results saved to \u001b[1m/data/album/kso/Saga_testing/KSO_Run_2\u001b[0m\n",
      "484 labels saved to /data/album/kso/Saga_testing/KSO_Run_2/labels\n",
      "ERROR:root:Custom frames not linked to uploaded movies, no frame numbers available\n",
      "ERROR:root:Custom frames not linked to uploaded movies, no frame numbers available\n",
      "ERROR:root:Custom frames not linked to uploaded movies, no frame numbers available\n",
      "ERROR:root:Custom frames not linked to uploaded movies, no frame numbers available\n",
      "ERROR:root:Custom frames not linked to uploaded movies, no frame numbers available\n",
      "ERROR:root:Custom frames not linked to uploaded movies, no frame numbers available\n",
      "ERROR:root:Custom frames not linked to uploaded movies, no frame numbers available\n",
      "ERROR:root:Custom frames not linked to uploaded movies, no frame numbers available\n",
      "ERROR:root:Custom frames not linked to uploaded movies, no frame numbers available\n",
      "ERROR:root:Custom frames not linked to uploaded movies, no frame numbers available\n",
      "ERROR:root:Custom frames not linked to uploaded movies, no frame numbers available\n",
      "ERROR:root:Custom frames not linked to uploaded movies, no frame numbers available\n",
      "ERROR:root:Custom frames not linked to uploaded movies, no frame numbers available\n",
      "ERROR:root:Custom frames not linked to uploaded movies, no frame numbers available\n",
      "ERROR:root:Custom frames not linked to uploaded movies, no frame numbers available\n",
      "ERROR:root:Custom frames not linked to uploaded movies, no frame numbers available\n",
      "ERROR:root:Custom frames not linked to uploaded movies, no frame numbers available\n",
      "ERROR:root:Custom frames not linked to uploaded movies, no frame numbers available\n",
      "ERROR:root:Custom frames not linked to uploaded movies, no frame numbers available\n",
      "ERROR:root:Custom frames not linked to uploaded movies, no frame numbers available\n",
      "ERROR:root:Custom frames not linked to uploaded movies, no frame numbers available\n",
      "ERROR:root:Custom frames not linked to uploaded movies, no frame numbers available\n",
      "ERROR:root:Custom frames not linked to uploaded movies, no frame numbers available\n",
      "ERROR:root:Custom frames not linked to uploaded movies, no frame numbers available\n",
      "ERROR:root:Custom frames not linked to uploaded movies, no frame numbers available\n",
      "ERROR:root:Custom frames not linked to uploaded movies, no frame numbers available\n",
      "ERROR:root:Custom frames not linked to uploaded movies, no frame numbers available\n",
      "ERROR:root:Custom frames not linked to uploaded movies, no frame numbers available\n",
      "ERROR:root:Custom frames not linked to uploaded movies, no frame numbers available\n",
      "ERROR:root:Custom frames not linked to uploaded movies, no frame numbers available\n",
      "ERROR:root:Custom frames not linked to uploaded movies, no frame numbers available\n",
      "ERROR:root:Custom frames not linked to uploaded movies, no frame numbers available\n",
      "ERROR:root:Custom frames not linked to uploaded movies, no frame numbers available\n",
      "ERROR:root:Custom frames not linked to uploaded movies, no frame numbers available\n",
      "ERROR:root:Custom frames not linked to uploaded movies, no frame numbers available\n",
      "ERROR:root:Custom frames not linked to uploaded movies, no frame numbers available\n",
      "ERROR:root:Custom frames not linked to uploaded movies, no frame numbers available\n",
      "ERROR:root:Custom frames not linked to uploaded movies, no frame numbers available\n",
      "ERROR:root:Custom frames not linked to uploaded movies, no frame numbers available\n",
      "ERROR:root:Custom frames not linked to uploaded movies, no frame numbers available\n",
      "ERROR:root:Custom frames not linked to uploaded movies, no frame numbers available\n",
      "ERROR:root:Custom frames not linked to uploaded movies, no frame numbers available\n",
      "ERROR:root:Custom frames not linked to uploaded movies, no frame numbers available\n",
      "ERROR:root:Custom frames not linked to uploaded movies, no frame numbers available\n",
      "ERROR:root:Custom frames not linked to uploaded movies, no frame numbers available\n",
      "ERROR:root:Custom frames not linked to uploaded movies, no frame numbers available\n",
      "ERROR:root:Custom frames not linked to uploaded movies, no frame numbers available\n",
      "ERROR:root:Custom frames not linked to uploaded movies, no frame numbers available\n",
      "ERROR:root:Custom frames not linked to uploaded movies, no frame numbers available\n",
      "ERROR:root:Custom frames not linked to uploaded movies, no frame numbers available\n",
      "ERROR:root:Custom frames not linked to uploaded movies, no frame numbers available\n",
      "ERROR:root:Custom frames not linked to uploaded movies, no frame numbers available\n",
      "ERROR:root:Custom frames not linked to uploaded movies, no frame numbers available\n",
      "ERROR:root:Custom frames not linked to uploaded movies, no frame numbers available\n",
      "ERROR:root:Custom frames not linked to uploaded movies, no frame numbers available\n",
      "ERROR:root:Custom frames not linked to uploaded movies, no frame numbers available\n",
      "ERROR:root:Custom frames not linked to uploaded movies, no frame numbers available\n",
      "ERROR:root:Custom frames not linked to uploaded movies, no frame numbers available\n",
      "ERROR:root:Custom frames not linked to uploaded movies, no frame numbers available\n",
      "ERROR:root:Custom frames not linked to uploaded movies, no frame numbers available\n",
      "ERROR:root:Custom frames not linked to uploaded movies, no frame numbers available\n",
      "ERROR:root:Custom frames not linked to uploaded movies, no frame numbers available\n",
      "ERROR:root:Custom frames not linked to uploaded movies, no frame numbers available\n",
      "ERROR:root:Custom frames not linked to uploaded movies, no frame numbers available\n",
      "ERROR:root:Custom frames not linked to uploaded movies, no frame numbers available\n",
      "ERROR:root:Custom frames not linked to uploaded movies, no frame numbers available\n",
      "ERROR:root:Custom frames not linked to uploaded movies, no frame numbers available\n",
      "ERROR:root:Custom frames not linked to uploaded movies, no frame numbers available\n",
      "ERROR:root:Custom frames not linked to uploaded movies, no frame numbers available\n",
      "ERROR:root:Custom frames not linked to uploaded movies, no frame numbers available\n",
      "ERROR:root:Custom frames not linked to uploaded movies, no frame numbers available\n",
      "ERROR:root:Custom frames not linked to uploaded movies, no frame numbers available\n"
     ]
    },
    {
     "ename": "ValueError",
     "evalue": "not enough values to unpack (expected 6, got 2)",
     "output_type": "error",
     "traceback": [
      "\u001b[0;31m---------------------------------------------------------------------------\u001b[0m",
      "\u001b[0;31mValueError\u001b[0m                                Traceback (most recent call last)",
      "Cell \u001b[0;32mIn[17], line 2\u001b[0m\n\u001b[1;32m      1\u001b[0m \u001b[38;5;66;03m# Get the paths of the movies selected\u001b[39;00m\n\u001b[0;32m----> 2\u001b[0m \u001b[43mmlp\u001b[49m\u001b[38;5;241;43m.\u001b[39;49m\u001b[43mdetect_yolo\u001b[49m\u001b[43m(\u001b[49m\n\u001b[1;32m      3\u001b[0m \u001b[43m    \u001b[49m\u001b[43msave_dir\u001b[49m\u001b[38;5;241;43m=\u001b[39;49m\u001b[43msave_dir\u001b[49m\u001b[38;5;241;43m.\u001b[39;49m\u001b[43mselected\u001b[49m\u001b[43m,\u001b[49m\n\u001b[1;32m      4\u001b[0m \u001b[43m    \u001b[49m\u001b[43mconf_thres\u001b[49m\u001b[38;5;241;43m=\u001b[39;49m\u001b[43mconf_thres\u001b[49m\u001b[38;5;241;43m.\u001b[39;49m\u001b[43mvalue\u001b[49m\u001b[43m,\u001b[49m\n\u001b[1;32m      5\u001b[0m \u001b[43m    \u001b[49m\u001b[43martifact_dir\u001b[49m\u001b[38;5;241;43m=\u001b[39;49m\u001b[43martifact_dir\u001b[49m\u001b[43m,\u001b[49m\n\u001b[1;32m      6\u001b[0m \u001b[43m    \u001b[49m\u001b[43msave_output\u001b[49m\u001b[38;5;241;43m=\u001b[39;49m\u001b[38;5;28;43;01mTrue\u001b[39;49;00m\u001b[43m,\u001b[49m\n\u001b[1;32m      7\u001b[0m \u001b[43m    \u001b[49m\u001b[43mproject\u001b[49m\u001b[38;5;241;43m=\u001b[39;49m\u001b[43mmlp\u001b[49m\u001b[38;5;241;43m.\u001b[39;49m\u001b[43mproject_name\u001b[49m\u001b[43m,\u001b[49m\n\u001b[1;32m      8\u001b[0m \u001b[43m    \u001b[49m\u001b[43mname\u001b[49m\u001b[38;5;241;43m=\u001b[39;49m\u001b[43mexp_name\u001b[49m\u001b[38;5;241;43m.\u001b[39;49m\u001b[43mvalue\u001b[49m\u001b[43m,\u001b[49m\n\u001b[1;32m      9\u001b[0m \u001b[43m    \u001b[49m\u001b[43mmodel\u001b[49m\u001b[38;5;241;43m=\u001b[39;49m\u001b[43mmodel\u001b[49m\u001b[38;5;241;43m.\u001b[39;49m\u001b[43mvalue\u001b[49m\u001b[43m,\u001b[49m\n\u001b[1;32m     10\u001b[0m \u001b[43m    \u001b[49m\u001b[43mlatest\u001b[49m\u001b[38;5;241;43m=\u001b[39;49m\u001b[38;5;28;43;01mTrue\u001b[39;49;00m\u001b[43m,\u001b[49m\n\u001b[1;32m     11\u001b[0m \u001b[43m    \u001b[49m\u001b[43msource\u001b[49m\u001b[38;5;241;43m=\u001b[39;49m\u001b[43m(\u001b[49m\n\u001b[1;32m     12\u001b[0m \u001b[43m        \u001b[49m\u001b[43mpp\u001b[49m\u001b[38;5;241;43m.\u001b[39;49m\u001b[43mselected_movies_paths\u001b[49m\n\u001b[1;32m     13\u001b[0m \u001b[43m        \u001b[49m\u001b[38;5;28;43;01mif\u001b[39;49;00m\u001b[43m \u001b[49m\u001b[38;5;28;43misinstance\u001b[39;49m\u001b[43m(\u001b[49m\u001b[43mpp\u001b[49m\u001b[38;5;241;43m.\u001b[39;49m\u001b[43mselected_movies_paths\u001b[49m\u001b[43m,\u001b[49m\u001b[43m \u001b[49m\u001b[38;5;28;43mstr\u001b[39;49m\u001b[43m)\u001b[49m\n\u001b[1;32m     14\u001b[0m \u001b[43m        \u001b[49m\u001b[38;5;28;43;01melse\u001b[39;49;00m\u001b[43m \u001b[49m\u001b[43mpp\u001b[49m\u001b[38;5;241;43m.\u001b[39;49m\u001b[43mselected_movies_paths\u001b[49m\u001b[43m[\u001b[49m\u001b[38;5;241;43m0\u001b[39;49m\u001b[43m]\u001b[49m\n\u001b[1;32m     15\u001b[0m \u001b[43m    \u001b[49m\u001b[43m)\u001b[49m\u001b[43m,\u001b[49m\n\u001b[1;32m     16\u001b[0m \u001b[43m)\u001b[49m\n",
      "File \u001b[0;32m~/.local/lib/python3.10/site-packages/kso_utils/project.py:2067\u001b[0m, in \u001b[0;36mMLProjectProcessor.detect_yolo\u001b[0;34m(self, project, name, source, save_dir, conf_thres, artifact_dir, model, img_size, save_output, test, latest)\u001b[0m\n\u001b[1;32m   2043\u001b[0m     \u001b[38;5;28;01mreturn\u001b[39;00m\n\u001b[1;32m   2044\u001b[0m     \u001b[38;5;66;03m# if isinstance(source, list):\u001b[39;00m\n\u001b[1;32m   2045\u001b[0m     \u001b[38;5;66;03m#     for src in source:\u001b[39;00m\n\u001b[1;32m   2046\u001b[0m     \u001b[38;5;66;03m#         self.modules[\"detect\"].run(\u001b[39;00m\n\u001b[0;32m   (...)\u001b[0m\n\u001b[1;32m   2065\u001b[0m     \u001b[38;5;66;03m#         nosave=not save_output,\u001b[39;00m\n\u001b[1;32m   2066\u001b[0m     \u001b[38;5;66;03m#     )\u001b[39;00m\n\u001b[0;32m-> 2067\u001b[0m \u001b[38;5;28;43mself\u001b[39;49m\u001b[38;5;241;43m.\u001b[39;49m\u001b[43msave_detections\u001b[49m\u001b[43m(\u001b[49m\u001b[43mconf_thres\u001b[49m\u001b[43m,\u001b[49m\u001b[43m \u001b[49m\u001b[43mmodel\u001b[49m\u001b[38;5;241;43m.\u001b[39;49m\u001b[43mckpt_path\u001b[49m\u001b[43m,\u001b[49m\u001b[43m \u001b[49m\u001b[38;5;28;43mself\u001b[39;49m\u001b[38;5;241;43m.\u001b[39;49m\u001b[43meval_dir\u001b[49m\u001b[43m)\u001b[49m\n",
      "File \u001b[0;32m~/.local/lib/python3.10/site-packages/kso_utils/project.py:2126\u001b[0m, in \u001b[0;36mMLProjectProcessor.save_detections\u001b[0;34m(self, conf_thres, model, eval_dir)\u001b[0m\n\u001b[1;32m   2119\u001b[0m     \u001b[38;5;28mself\u001b[39m\u001b[38;5;241m.\u001b[39mmodules[\u001b[38;5;124m\"\u001b[39m\u001b[38;5;124myolo_utils\u001b[39m\u001b[38;5;124m\"\u001b[39m]\u001b[38;5;241m.\u001b[39madd_data(\n\u001b[1;32m   2120\u001b[0m         Path(eval_dir, \u001b[38;5;124m\"\u001b[39m\u001b[38;5;124mlabels\u001b[39m\u001b[38;5;124m\"\u001b[39m),\n\u001b[1;32m   2121\u001b[0m         \u001b[38;5;124m\"\u001b[39m\u001b[38;5;124mdetection_output\u001b[39m\u001b[38;5;124m\"\u001b[39m,\n\u001b[1;32m   2122\u001b[0m         \u001b[38;5;28mself\u001b[39m\u001b[38;5;241m.\u001b[39mregistry,\n\u001b[1;32m   2123\u001b[0m         \u001b[38;5;28mself\u001b[39m\u001b[38;5;241m.\u001b[39mrun,\n\u001b[1;32m   2124\u001b[0m     )\n\u001b[1;32m   2125\u001b[0m \u001b[38;5;28;01melif\u001b[39;00m \u001b[38;5;28mself\u001b[39m\u001b[38;5;241m.\u001b[39mregistry \u001b[38;5;241m==\u001b[39m \u001b[38;5;124m\"\u001b[39m\u001b[38;5;124mmlflow\u001b[39m\u001b[38;5;124m\"\u001b[39m:\n\u001b[0;32m-> 2126\u001b[0m     \u001b[38;5;28mself\u001b[39m\u001b[38;5;241m.\u001b[39mcsv_report \u001b[38;5;241m=\u001b[39m \u001b[38;5;28;43mself\u001b[39;49m\u001b[38;5;241;43m.\u001b[39;49m\u001b[43mmodules\u001b[49m\u001b[43m[\u001b[49m\u001b[38;5;124;43m\"\u001b[39;49m\u001b[38;5;124;43myolo_utils\u001b[39;49m\u001b[38;5;124;43m\"\u001b[39;49m\u001b[43m]\u001b[49m\u001b[38;5;241;43m.\u001b[39;49m\u001b[43mgenerate_csv_report\u001b[49m\u001b[43m(\u001b[49m\n\u001b[1;32m   2127\u001b[0m \u001b[43m        \u001b[49m\u001b[43mevaluation_path\u001b[49m\u001b[38;5;241;43m=\u001b[39;49m\u001b[43meval_dir\u001b[49m\u001b[43m,\u001b[49m\n\u001b[1;32m   2128\u001b[0m \u001b[43m        \u001b[49m\u001b[43mrun\u001b[49m\u001b[38;5;241;43m=\u001b[39;49m\u001b[38;5;28;43mself\u001b[39;49m\u001b[38;5;241;43m.\u001b[39;49m\u001b[43mrun\u001b[49m\u001b[43m,\u001b[49m\n\u001b[1;32m   2129\u001b[0m \u001b[43m        \u001b[49m\u001b[43mlog\u001b[49m\u001b[38;5;241;43m=\u001b[39;49m\u001b[38;5;28;43;01mTrue\u001b[39;49;00m\u001b[43m,\u001b[49m\n\u001b[1;32m   2130\u001b[0m \u001b[43m        \u001b[49m\u001b[43mregistry\u001b[49m\u001b[38;5;241;43m=\u001b[39;49m\u001b[38;5;28;43mself\u001b[39;49m\u001b[38;5;241;43m.\u001b[39;49m\u001b[43mregistry\u001b[49m\u001b[43m,\u001b[49m\n\u001b[1;32m   2131\u001b[0m \u001b[43m        \u001b[49m\u001b[43mmovie_csv_df\u001b[49m\u001b[38;5;241;43m=\u001b[39;49m\u001b[38;5;28;43mself\u001b[39;49m\u001b[38;5;241;43m.\u001b[39;49m\u001b[43mlocal_movies_csv\u001b[49m\u001b[43m,\u001b[49m\n\u001b[1;32m   2132\u001b[0m \u001b[43m    \u001b[49m\u001b[43m)\u001b[49m\n\u001b[1;32m   2133\u001b[0m     \u001b[38;5;28mself\u001b[39m\u001b[38;5;241m.\u001b[39mmodules[\u001b[38;5;124m\"\u001b[39m\u001b[38;5;124myolo_utils\u001b[39m\u001b[38;5;124m\"\u001b[39m]\u001b[38;5;241m.\u001b[39madd_data(\n\u001b[1;32m   2134\u001b[0m         path\u001b[38;5;241m=\u001b[39mPath(eval_dir, \u001b[38;5;124m\"\u001b[39m\u001b[38;5;124mannotations.csv\u001b[39m\u001b[38;5;124m\"\u001b[39m),\n\u001b[1;32m   2135\u001b[0m         name\u001b[38;5;241m=\u001b[39m\u001b[38;5;124m\"\u001b[39m\u001b[38;5;124mdetection_output\u001b[39m\u001b[38;5;124m\"\u001b[39m,\n\u001b[1;32m   2136\u001b[0m         registry\u001b[38;5;241m=\u001b[39m\u001b[38;5;28mself\u001b[39m\u001b[38;5;241m.\u001b[39mregistry,\n\u001b[1;32m   2137\u001b[0m         run\u001b[38;5;241m=\u001b[39m\u001b[38;5;28mself\u001b[39m\u001b[38;5;241m.\u001b[39mrun,\n\u001b[1;32m   2138\u001b[0m     )\n\u001b[1;32m   2139\u001b[0m     \u001b[38;5;28;01mimport\u001b[39;00m \u001b[38;5;21;01mshutil\u001b[39;00m\n",
      "File \u001b[0;32m~/.local/lib/python3.10/site-packages/kso_utils/yolo_utils.py:1086\u001b[0m, in \u001b[0;36mgenerate_csv_report\u001b[0;34m(evaluation_path, movie_csv_df, run, log, registry)\u001b[0m\n\u001b[1;32m   1084\u001b[0m         \u001b[38;5;28;01mfor\u001b[39;00m line \u001b[38;5;129;01min\u001b[39;00m lines:\n\u001b[1;32m   1085\u001b[0m             parts \u001b[38;5;241m=\u001b[39m line\u001b[38;5;241m.\u001b[39msplit()\n\u001b[0;32m-> 1086\u001b[0m             class_id, x, y, w, h, conf \u001b[38;5;241m=\u001b[39m parts[:\u001b[38;5;241m6\u001b[39m]\n\u001b[1;32m   1087\u001b[0m             data_dict\u001b[38;5;241m.\u001b[39msetdefault(\u001b[38;5;28mstr\u001b[39m(label_file), [])\u001b[38;5;241m.\u001b[39mappend(\n\u001b[1;32m   1088\u001b[0m                 [class_id, frame_no, x, y, w, h, \u001b[38;5;28mfloat\u001b[39m(conf)]\n\u001b[1;32m   1089\u001b[0m             )\n\u001b[1;32m   1091\u001b[0m dlist \u001b[38;5;241m=\u001b[39m [[key, \u001b[38;5;241m*\u001b[39mi] \u001b[38;5;28;01mfor\u001b[39;00m key, values \u001b[38;5;129;01min\u001b[39;00m data_dict\u001b[38;5;241m.\u001b[39mitems() \u001b[38;5;28;01mfor\u001b[39;00m i \u001b[38;5;129;01min\u001b[39;00m values]\n",
      "\u001b[0;31mValueError\u001b[0m: not enough values to unpack (expected 6, got 2)"
     ]
    }
   ],
   "source": [
    "# Get the paths of the movies selected\n",
    "mlp.detect_yolo(\n",
    "    save_dir=save_dir.selected,\n",
    "    conf_thres=conf_thres.value,\n",
    "    artifact_dir=artifact_dir,\n",
    "    save_output=True,\n",
    "    project=mlp.project_name,\n",
    "    name=exp_name.value,\n",
    "    model=model.value,\n",
    "    latest=True,\n",
    "    source=(\n",
    "        pp.selected_movies_paths\n",
    "        if isinstance(pp.selected_movies_paths, str)\n",
    "        else pp.selected_movies_paths[0]\n",
    "    ),\n",
    ")"
   ]
  },
  {
   "cell_type": "markdown",
   "id": "0ppmp2oL9jTY",
   "metadata": {
    "id": "0ppmp2oL9jTY"
   },
   "source": [
    "### View the processed footage"
   ]
  },
  {
   "cell_type": "code",
   "execution_count": 19,
   "id": "caec3f56",
   "metadata": {},
   "outputs": [
    {
     "ename": "AttributeError",
     "evalue": "module 'kso_utils.widgets' has no attribute 'select_viewer'",
     "output_type": "error",
     "traceback": [
      "\u001b[0;31m---------------------------------------------------------------------------\u001b[0m",
      "\u001b[0;31mAttributeError\u001b[0m                            Traceback (most recent call last)",
      "Cell \u001b[0;32mIn[19], line 1\u001b[0m\n\u001b[0;32m----> 1\u001b[0m \u001b[43mkso_widgets\u001b[49m\u001b[38;5;241;43m.\u001b[39;49m\u001b[43mselect_viewer\u001b[49m()\n",
      "\u001b[0;31mAttributeError\u001b[0m: module 'kso_utils.widgets' has no attribute 'select_viewer'"
     ]
    }
   ],
   "source": [
    "kso_widgets.select_viewer()"
   ]
  },
  {
   "cell_type": "markdown",
   "id": "22ff4bf2",
   "metadata": {},
   "source": [
    "### Process the detections\n",
    "Add the metadata associated with the species identified and the movies"
   ]
  },
  {
   "cell_type": "code",
   "execution_count": 20,
   "id": "281d1588",
   "metadata": {
    "id": "281d1588"
   },
   "outputs": [
    {
     "ename": "FileNotFoundError",
     "evalue": "[Errno 2] No such file or directory: '/data/album/kso/Saga_testing/KSO_Run_2/annotations.csv'",
     "output_type": "error",
     "traceback": [
      "\u001b[0;31m---------------------------------------------------------------------------\u001b[0m",
      "\u001b[0;31mFileNotFoundError\u001b[0m                         Traceback (most recent call last)",
      "Cell \u001b[0;32mIn[20], line 1\u001b[0m\n\u001b[0;32m----> 1\u001b[0m dets_df \u001b[38;5;241m=\u001b[39m \u001b[43mpp\u001b[49m\u001b[38;5;241;43m.\u001b[39;49m\u001b[43mprocess_detections\u001b[49m\u001b[43m(\u001b[49m\n\u001b[1;32m      2\u001b[0m \u001b[43m    \u001b[49m\u001b[43mproject\u001b[49m\u001b[38;5;241;43m=\u001b[39;49m\u001b[43mpp\u001b[49m\u001b[38;5;241;43m.\u001b[39;49m\u001b[43mproject\u001b[49m\u001b[43m,\u001b[49m\n\u001b[1;32m      3\u001b[0m \u001b[43m    \u001b[49m\u001b[43mdb_connection\u001b[49m\u001b[38;5;241;43m=\u001b[39;49m\u001b[43mpp\u001b[49m\u001b[38;5;241;43m.\u001b[39;49m\u001b[43mdb_connection\u001b[49m\u001b[43m,\u001b[49m\n\u001b[1;32m      4\u001b[0m \u001b[43m    \u001b[49m\u001b[43mcsv_paths\u001b[49m\u001b[38;5;241;43m=\u001b[39;49m\u001b[43mpp\u001b[49m\u001b[38;5;241;43m.\u001b[39;49m\u001b[43mcsv_paths\u001b[49m\u001b[43m,\u001b[49m\n\u001b[1;32m      5\u001b[0m \u001b[43m    \u001b[49m\u001b[43mannotations_csv_path\u001b[49m\u001b[38;5;241;43m=\u001b[39;49m\u001b[43mmlp\u001b[49m\u001b[38;5;241;43m.\u001b[39;49m\u001b[43meval_dir\u001b[49m\u001b[43m,\u001b[49m\n\u001b[1;32m      6\u001b[0m \u001b[43m    \u001b[49m\u001b[43mmodel_registry\u001b[49m\u001b[38;5;241;43m=\u001b[39;49m\u001b[43mmlp\u001b[49m\u001b[38;5;241;43m.\u001b[39;49m\u001b[43mregistry\u001b[49m\u001b[43m,\u001b[49m\n\u001b[1;32m      7\u001b[0m \u001b[43m    \u001b[49m\u001b[43mmodel\u001b[49m\u001b[38;5;241;43m=\u001b[39;49m\u001b[43mmodel\u001b[49m\u001b[38;5;241;43m.\u001b[39;49m\u001b[43mvalue\u001b[49m\u001b[43m,\u001b[49m\n\u001b[1;32m      8\u001b[0m \u001b[43m    \u001b[49m\u001b[43mteam_name\u001b[49m\u001b[38;5;241;43m=\u001b[39;49m\u001b[43mmlp\u001b[49m\u001b[38;5;241;43m.\u001b[39;49m\u001b[43mteam_name\u001b[49m\u001b[43m,\u001b[49m\n\u001b[1;32m      9\u001b[0m \u001b[43m    \u001b[49m\u001b[43mproject_name\u001b[49m\u001b[38;5;241;43m=\u001b[39;49m\u001b[43mmlp\u001b[49m\u001b[38;5;241;43m.\u001b[39;49m\u001b[43mproject_name\u001b[49m\u001b[43m,\u001b[49m\n\u001b[1;32m     10\u001b[0m \u001b[43m)\u001b[49m\n",
      "File \u001b[0;32m~/.local/lib/python3.10/site-packages/kso_utils/project.py:1173\u001b[0m, in \u001b[0;36mProjectProcessor.process_detections\u001b[0;34m(self, project, db_connection, csv_paths, annotations_csv_path, model_registry, model, project_name, team_name)\u001b[0m\n\u001b[1;32m   1170\u001b[0m out_list \u001b[38;5;241m=\u001b[39m []\n\u001b[1;32m   1171\u001b[0m \u001b[38;5;28;01mfor\u001b[39;00m movie_path \u001b[38;5;129;01min\u001b[39;00m \u001b[38;5;28mself\u001b[39m\u001b[38;5;241m.\u001b[39mselected_movies_paths:\n\u001b[1;32m   1172\u001b[0m     out_list\u001b[38;5;241m.\u001b[39mappend(\n\u001b[0;32m-> 1173\u001b[0m         \u001b[43myolo_utils\u001b[49m\u001b[38;5;241;43m.\u001b[39;49m\u001b[43mprocess_detections\u001b[49m\u001b[43m(\u001b[49m\n\u001b[1;32m   1174\u001b[0m \u001b[43m            \u001b[49m\u001b[43mproject\u001b[49m\u001b[38;5;241;43m=\u001b[39;49m\u001b[43mproject\u001b[49m\u001b[43m,\u001b[49m\n\u001b[1;32m   1175\u001b[0m \u001b[43m            \u001b[49m\u001b[43mdb_connection\u001b[49m\u001b[38;5;241;43m=\u001b[39;49m\u001b[43mdb_connection\u001b[49m\u001b[43m,\u001b[49m\n\u001b[1;32m   1176\u001b[0m \u001b[43m            \u001b[49m\u001b[43mcsv_paths\u001b[49m\u001b[38;5;241;43m=\u001b[39;49m\u001b[43mcsv_paths\u001b[49m\u001b[43m,\u001b[49m\n\u001b[1;32m   1177\u001b[0m \u001b[43m            \u001b[49m\u001b[43mannotations_csv_path\u001b[49m\u001b[38;5;241;43m=\u001b[39;49m\u001b[43mannotations_csv_path\u001b[49m\u001b[43m,\u001b[49m\n\u001b[1;32m   1178\u001b[0m \u001b[43m            \u001b[49m\u001b[43mmodel_registry\u001b[49m\u001b[38;5;241;43m=\u001b[39;49m\u001b[43mmodel_registry\u001b[49m\u001b[43m,\u001b[49m\n\u001b[1;32m   1179\u001b[0m \u001b[43m            \u001b[49m\u001b[43mselected_movies_id\u001b[49m\u001b[38;5;241;43m=\u001b[39;49m\u001b[38;5;28;43mself\u001b[39;49m\u001b[38;5;241;43m.\u001b[39;49m\u001b[43mselected_movies_ids\u001b[49m\u001b[43m,\u001b[49m\n\u001b[1;32m   1180\u001b[0m \u001b[43m            \u001b[49m\u001b[43mmodel\u001b[49m\u001b[38;5;241;43m=\u001b[39;49m\u001b[43mmodel\u001b[49m\u001b[43m,\u001b[49m\n\u001b[1;32m   1181\u001b[0m \u001b[43m            \u001b[49m\u001b[43mproject_name\u001b[49m\u001b[38;5;241;43m=\u001b[39;49m\u001b[43mproject_name\u001b[49m\u001b[43m,\u001b[49m\n\u001b[1;32m   1182\u001b[0m \u001b[43m            \u001b[49m\u001b[43mteam_name\u001b[49m\u001b[38;5;241;43m=\u001b[39;49m\u001b[43mteam_name\u001b[49m\u001b[43m,\u001b[49m\n\u001b[1;32m   1183\u001b[0m \u001b[43m            \u001b[49m\u001b[43msource_movies\u001b[49m\u001b[38;5;241;43m=\u001b[39;49m\u001b[43mmovie_path\u001b[49m\u001b[43m,\u001b[49m\n\u001b[1;32m   1184\u001b[0m \u001b[43m        \u001b[49m\u001b[43m)\u001b[49m\n\u001b[1;32m   1185\u001b[0m     )\n\u001b[1;32m   1186\u001b[0m df_concat \u001b[38;5;241m=\u001b[39m pd\u001b[38;5;241m.\u001b[39mconcat(out_list, axis\u001b[38;5;241m=\u001b[39m\u001b[38;5;241m1\u001b[39m)\n\u001b[1;32m   1187\u001b[0m \u001b[38;5;28;01mreturn\u001b[39;00m df_concat\n",
      "File \u001b[0;32m~/.local/lib/python3.10/site-packages/kso_utils/yolo_utils.py:2040\u001b[0m, in \u001b[0;36mprocess_detections\u001b[0;34m(project, db_connection, csv_paths, annotations_csv_path, model_registry, selected_movies_id, model, project_name, team_name, source_movies)\u001b[0m\n\u001b[1;32m   2023\u001b[0m \u001b[38;5;250m\u001b[39m\u001b[38;5;124;03m\"\"\"\u001b[39;00m\n\u001b[1;32m   2024\u001b[0m \u001b[38;5;124;03m> This function computes the given statistics over the detections obtained by a model on different footages for the species of interest,\u001b[39;00m\n\u001b[1;32m   2025\u001b[0m \u001b[38;5;124;03mand saves the results in different csv files.\u001b[39;00m\n\u001b[0;32m   (...)\u001b[0m\n\u001b[1;32m   2036\u001b[0m \u001b[38;5;124;03m:param source_movies: A string with the path to the movies where the model ran inferences from\u001b[39;00m\n\u001b[1;32m   2037\u001b[0m \u001b[38;5;124;03m\"\"\"\u001b[39;00m\n\u001b[1;32m   2039\u001b[0m \u001b[38;5;66;03m# Read the annotations.csv file\u001b[39;00m\n\u001b[0;32m-> 2040\u001b[0m df \u001b[38;5;241m=\u001b[39m \u001b[43mpd\u001b[49m\u001b[38;5;241;43m.\u001b[39;49m\u001b[43mread_csv\u001b[49m\u001b[43m(\u001b[49m\u001b[43mPath\u001b[49m\u001b[43m(\u001b[49m\u001b[43mannotations_csv_path\u001b[49m\u001b[43m,\u001b[49m\u001b[43m \u001b[49m\u001b[38;5;124;43m\"\u001b[39;49m\u001b[38;5;124;43mannotations.csv\u001b[39;49m\u001b[38;5;124;43m\"\u001b[39;49m\u001b[43m)\u001b[49m\u001b[43m)\u001b[49m\n\u001b[1;32m   2042\u001b[0m \u001b[38;5;66;03m# Check if the DataFrame is not empty\u001b[39;00m\n\u001b[1;32m   2043\u001b[0m \u001b[38;5;28;01mif\u001b[39;00m df\u001b[38;5;241m.\u001b[39mempty:\n",
      "File \u001b[0;32m~/.local/lib/python3.10/site-packages/pandas/util/_decorators.py:311\u001b[0m, in \u001b[0;36mdeprecate_nonkeyword_arguments.<locals>.decorate.<locals>.wrapper\u001b[0;34m(*args, **kwargs)\u001b[0m\n\u001b[1;32m    305\u001b[0m \u001b[38;5;28;01mif\u001b[39;00m \u001b[38;5;28mlen\u001b[39m(args) \u001b[38;5;241m>\u001b[39m num_allow_args:\n\u001b[1;32m    306\u001b[0m     warnings\u001b[38;5;241m.\u001b[39mwarn(\n\u001b[1;32m    307\u001b[0m         msg\u001b[38;5;241m.\u001b[39mformat(arguments\u001b[38;5;241m=\u001b[39marguments),\n\u001b[1;32m    308\u001b[0m         \u001b[38;5;167;01mFutureWarning\u001b[39;00m,\n\u001b[1;32m    309\u001b[0m         stacklevel\u001b[38;5;241m=\u001b[39mstacklevel,\n\u001b[1;32m    310\u001b[0m     )\n\u001b[0;32m--> 311\u001b[0m \u001b[38;5;28;01mreturn\u001b[39;00m \u001b[43mfunc\u001b[49m\u001b[43m(\u001b[49m\u001b[38;5;241;43m*\u001b[39;49m\u001b[43margs\u001b[49m\u001b[43m,\u001b[49m\u001b[43m \u001b[49m\u001b[38;5;241;43m*\u001b[39;49m\u001b[38;5;241;43m*\u001b[39;49m\u001b[43mkwargs\u001b[49m\u001b[43m)\u001b[49m\n",
      "File \u001b[0;32m~/.local/lib/python3.10/site-packages/pandas/io/parsers/readers.py:680\u001b[0m, in \u001b[0;36mread_csv\u001b[0;34m(filepath_or_buffer, sep, delimiter, header, names, index_col, usecols, squeeze, prefix, mangle_dupe_cols, dtype, engine, converters, true_values, false_values, skipinitialspace, skiprows, skipfooter, nrows, na_values, keep_default_na, na_filter, verbose, skip_blank_lines, parse_dates, infer_datetime_format, keep_date_col, date_parser, dayfirst, cache_dates, iterator, chunksize, compression, thousands, decimal, lineterminator, quotechar, quoting, doublequote, escapechar, comment, encoding, encoding_errors, dialect, error_bad_lines, warn_bad_lines, on_bad_lines, delim_whitespace, low_memory, memory_map, float_precision, storage_options)\u001b[0m\n\u001b[1;32m    665\u001b[0m kwds_defaults \u001b[38;5;241m=\u001b[39m _refine_defaults_read(\n\u001b[1;32m    666\u001b[0m     dialect,\n\u001b[1;32m    667\u001b[0m     delimiter,\n\u001b[0;32m   (...)\u001b[0m\n\u001b[1;32m    676\u001b[0m     defaults\u001b[38;5;241m=\u001b[39m{\u001b[38;5;124m\"\u001b[39m\u001b[38;5;124mdelimiter\u001b[39m\u001b[38;5;124m\"\u001b[39m: \u001b[38;5;124m\"\u001b[39m\u001b[38;5;124m,\u001b[39m\u001b[38;5;124m\"\u001b[39m},\n\u001b[1;32m    677\u001b[0m )\n\u001b[1;32m    678\u001b[0m kwds\u001b[38;5;241m.\u001b[39mupdate(kwds_defaults)\n\u001b[0;32m--> 680\u001b[0m \u001b[38;5;28;01mreturn\u001b[39;00m \u001b[43m_read\u001b[49m\u001b[43m(\u001b[49m\u001b[43mfilepath_or_buffer\u001b[49m\u001b[43m,\u001b[49m\u001b[43m \u001b[49m\u001b[43mkwds\u001b[49m\u001b[43m)\u001b[49m\n",
      "File \u001b[0;32m~/.local/lib/python3.10/site-packages/pandas/io/parsers/readers.py:575\u001b[0m, in \u001b[0;36m_read\u001b[0;34m(filepath_or_buffer, kwds)\u001b[0m\n\u001b[1;32m    572\u001b[0m _validate_names(kwds\u001b[38;5;241m.\u001b[39mget(\u001b[38;5;124m\"\u001b[39m\u001b[38;5;124mnames\u001b[39m\u001b[38;5;124m\"\u001b[39m, \u001b[38;5;28;01mNone\u001b[39;00m))\n\u001b[1;32m    574\u001b[0m \u001b[38;5;66;03m# Create the parser.\u001b[39;00m\n\u001b[0;32m--> 575\u001b[0m parser \u001b[38;5;241m=\u001b[39m \u001b[43mTextFileReader\u001b[49m\u001b[43m(\u001b[49m\u001b[43mfilepath_or_buffer\u001b[49m\u001b[43m,\u001b[49m\u001b[43m \u001b[49m\u001b[38;5;241;43m*\u001b[39;49m\u001b[38;5;241;43m*\u001b[39;49m\u001b[43mkwds\u001b[49m\u001b[43m)\u001b[49m\n\u001b[1;32m    577\u001b[0m \u001b[38;5;28;01mif\u001b[39;00m chunksize \u001b[38;5;129;01mor\u001b[39;00m iterator:\n\u001b[1;32m    578\u001b[0m     \u001b[38;5;28;01mreturn\u001b[39;00m parser\n",
      "File \u001b[0;32m~/.local/lib/python3.10/site-packages/pandas/io/parsers/readers.py:933\u001b[0m, in \u001b[0;36mTextFileReader.__init__\u001b[0;34m(self, f, engine, **kwds)\u001b[0m\n\u001b[1;32m    930\u001b[0m     \u001b[38;5;28mself\u001b[39m\u001b[38;5;241m.\u001b[39moptions[\u001b[38;5;124m\"\u001b[39m\u001b[38;5;124mhas_index_names\u001b[39m\u001b[38;5;124m\"\u001b[39m] \u001b[38;5;241m=\u001b[39m kwds[\u001b[38;5;124m\"\u001b[39m\u001b[38;5;124mhas_index_names\u001b[39m\u001b[38;5;124m\"\u001b[39m]\n\u001b[1;32m    932\u001b[0m \u001b[38;5;28mself\u001b[39m\u001b[38;5;241m.\u001b[39mhandles: IOHandles \u001b[38;5;241m|\u001b[39m \u001b[38;5;28;01mNone\u001b[39;00m \u001b[38;5;241m=\u001b[39m \u001b[38;5;28;01mNone\u001b[39;00m\n\u001b[0;32m--> 933\u001b[0m \u001b[38;5;28mself\u001b[39m\u001b[38;5;241m.\u001b[39m_engine \u001b[38;5;241m=\u001b[39m \u001b[38;5;28;43mself\u001b[39;49m\u001b[38;5;241;43m.\u001b[39;49m\u001b[43m_make_engine\u001b[49m\u001b[43m(\u001b[49m\u001b[43mf\u001b[49m\u001b[43m,\u001b[49m\u001b[43m \u001b[49m\u001b[38;5;28;43mself\u001b[39;49m\u001b[38;5;241;43m.\u001b[39;49m\u001b[43mengine\u001b[49m\u001b[43m)\u001b[49m\n",
      "File \u001b[0;32m~/.local/lib/python3.10/site-packages/pandas/io/parsers/readers.py:1217\u001b[0m, in \u001b[0;36mTextFileReader._make_engine\u001b[0;34m(self, f, engine)\u001b[0m\n\u001b[1;32m   1213\u001b[0m     mode \u001b[38;5;241m=\u001b[39m \u001b[38;5;124m\"\u001b[39m\u001b[38;5;124mrb\u001b[39m\u001b[38;5;124m\"\u001b[39m\n\u001b[1;32m   1214\u001b[0m \u001b[38;5;66;03m# error: No overload variant of \"get_handle\" matches argument types\u001b[39;00m\n\u001b[1;32m   1215\u001b[0m \u001b[38;5;66;03m# \"Union[str, PathLike[str], ReadCsvBuffer[bytes], ReadCsvBuffer[str]]\"\u001b[39;00m\n\u001b[1;32m   1216\u001b[0m \u001b[38;5;66;03m# , \"str\", \"bool\", \"Any\", \"Any\", \"Any\", \"Any\", \"Any\"\u001b[39;00m\n\u001b[0;32m-> 1217\u001b[0m \u001b[38;5;28mself\u001b[39m\u001b[38;5;241m.\u001b[39mhandles \u001b[38;5;241m=\u001b[39m \u001b[43mget_handle\u001b[49m\u001b[43m(\u001b[49m\u001b[43m  \u001b[49m\u001b[38;5;66;43;03m# type: ignore[call-overload]\u001b[39;49;00m\n\u001b[1;32m   1218\u001b[0m \u001b[43m    \u001b[49m\u001b[43mf\u001b[49m\u001b[43m,\u001b[49m\n\u001b[1;32m   1219\u001b[0m \u001b[43m    \u001b[49m\u001b[43mmode\u001b[49m\u001b[43m,\u001b[49m\n\u001b[1;32m   1220\u001b[0m \u001b[43m    \u001b[49m\u001b[43mencoding\u001b[49m\u001b[38;5;241;43m=\u001b[39;49m\u001b[38;5;28;43mself\u001b[39;49m\u001b[38;5;241;43m.\u001b[39;49m\u001b[43moptions\u001b[49m\u001b[38;5;241;43m.\u001b[39;49m\u001b[43mget\u001b[49m\u001b[43m(\u001b[49m\u001b[38;5;124;43m\"\u001b[39;49m\u001b[38;5;124;43mencoding\u001b[39;49m\u001b[38;5;124;43m\"\u001b[39;49m\u001b[43m,\u001b[49m\u001b[43m \u001b[49m\u001b[38;5;28;43;01mNone\u001b[39;49;00m\u001b[43m)\u001b[49m\u001b[43m,\u001b[49m\n\u001b[1;32m   1221\u001b[0m \u001b[43m    \u001b[49m\u001b[43mcompression\u001b[49m\u001b[38;5;241;43m=\u001b[39;49m\u001b[38;5;28;43mself\u001b[39;49m\u001b[38;5;241;43m.\u001b[39;49m\u001b[43moptions\u001b[49m\u001b[38;5;241;43m.\u001b[39;49m\u001b[43mget\u001b[49m\u001b[43m(\u001b[49m\u001b[38;5;124;43m\"\u001b[39;49m\u001b[38;5;124;43mcompression\u001b[39;49m\u001b[38;5;124;43m\"\u001b[39;49m\u001b[43m,\u001b[49m\u001b[43m \u001b[49m\u001b[38;5;28;43;01mNone\u001b[39;49;00m\u001b[43m)\u001b[49m\u001b[43m,\u001b[49m\n\u001b[1;32m   1222\u001b[0m \u001b[43m    \u001b[49m\u001b[43mmemory_map\u001b[49m\u001b[38;5;241;43m=\u001b[39;49m\u001b[38;5;28;43mself\u001b[39;49m\u001b[38;5;241;43m.\u001b[39;49m\u001b[43moptions\u001b[49m\u001b[38;5;241;43m.\u001b[39;49m\u001b[43mget\u001b[49m\u001b[43m(\u001b[49m\u001b[38;5;124;43m\"\u001b[39;49m\u001b[38;5;124;43mmemory_map\u001b[39;49m\u001b[38;5;124;43m\"\u001b[39;49m\u001b[43m,\u001b[49m\u001b[43m \u001b[49m\u001b[38;5;28;43;01mFalse\u001b[39;49;00m\u001b[43m)\u001b[49m\u001b[43m,\u001b[49m\n\u001b[1;32m   1223\u001b[0m \u001b[43m    \u001b[49m\u001b[43mis_text\u001b[49m\u001b[38;5;241;43m=\u001b[39;49m\u001b[43mis_text\u001b[49m\u001b[43m,\u001b[49m\n\u001b[1;32m   1224\u001b[0m \u001b[43m    \u001b[49m\u001b[43merrors\u001b[49m\u001b[38;5;241;43m=\u001b[39;49m\u001b[38;5;28;43mself\u001b[39;49m\u001b[38;5;241;43m.\u001b[39;49m\u001b[43moptions\u001b[49m\u001b[38;5;241;43m.\u001b[39;49m\u001b[43mget\u001b[49m\u001b[43m(\u001b[49m\u001b[38;5;124;43m\"\u001b[39;49m\u001b[38;5;124;43mencoding_errors\u001b[39;49m\u001b[38;5;124;43m\"\u001b[39;49m\u001b[43m,\u001b[49m\u001b[43m \u001b[49m\u001b[38;5;124;43m\"\u001b[39;49m\u001b[38;5;124;43mstrict\u001b[39;49m\u001b[38;5;124;43m\"\u001b[39;49m\u001b[43m)\u001b[49m\u001b[43m,\u001b[49m\n\u001b[1;32m   1225\u001b[0m \u001b[43m    \u001b[49m\u001b[43mstorage_options\u001b[49m\u001b[38;5;241;43m=\u001b[39;49m\u001b[38;5;28;43mself\u001b[39;49m\u001b[38;5;241;43m.\u001b[39;49m\u001b[43moptions\u001b[49m\u001b[38;5;241;43m.\u001b[39;49m\u001b[43mget\u001b[49m\u001b[43m(\u001b[49m\u001b[38;5;124;43m\"\u001b[39;49m\u001b[38;5;124;43mstorage_options\u001b[39;49m\u001b[38;5;124;43m\"\u001b[39;49m\u001b[43m,\u001b[49m\u001b[43m \u001b[49m\u001b[38;5;28;43;01mNone\u001b[39;49;00m\u001b[43m)\u001b[49m\u001b[43m,\u001b[49m\n\u001b[1;32m   1226\u001b[0m \u001b[43m\u001b[49m\u001b[43m)\u001b[49m\n\u001b[1;32m   1227\u001b[0m \u001b[38;5;28;01massert\u001b[39;00m \u001b[38;5;28mself\u001b[39m\u001b[38;5;241m.\u001b[39mhandles \u001b[38;5;129;01mis\u001b[39;00m \u001b[38;5;129;01mnot\u001b[39;00m \u001b[38;5;28;01mNone\u001b[39;00m\n\u001b[1;32m   1228\u001b[0m f \u001b[38;5;241m=\u001b[39m \u001b[38;5;28mself\u001b[39m\u001b[38;5;241m.\u001b[39mhandles\u001b[38;5;241m.\u001b[39mhandle\n",
      "File \u001b[0;32m~/.local/lib/python3.10/site-packages/pandas/io/common.py:789\u001b[0m, in \u001b[0;36mget_handle\u001b[0;34m(path_or_buf, mode, encoding, compression, memory_map, is_text, errors, storage_options)\u001b[0m\n\u001b[1;32m    784\u001b[0m \u001b[38;5;28;01melif\u001b[39;00m \u001b[38;5;28misinstance\u001b[39m(handle, \u001b[38;5;28mstr\u001b[39m):\n\u001b[1;32m    785\u001b[0m     \u001b[38;5;66;03m# Check whether the filename is to be opened in binary mode.\u001b[39;00m\n\u001b[1;32m    786\u001b[0m     \u001b[38;5;66;03m# Binary mode does not support 'encoding' and 'newline'.\u001b[39;00m\n\u001b[1;32m    787\u001b[0m     \u001b[38;5;28;01mif\u001b[39;00m ioargs\u001b[38;5;241m.\u001b[39mencoding \u001b[38;5;129;01mand\u001b[39;00m \u001b[38;5;124m\"\u001b[39m\u001b[38;5;124mb\u001b[39m\u001b[38;5;124m\"\u001b[39m \u001b[38;5;129;01mnot\u001b[39;00m \u001b[38;5;129;01min\u001b[39;00m ioargs\u001b[38;5;241m.\u001b[39mmode:\n\u001b[1;32m    788\u001b[0m         \u001b[38;5;66;03m# Encoding\u001b[39;00m\n\u001b[0;32m--> 789\u001b[0m         handle \u001b[38;5;241m=\u001b[39m \u001b[38;5;28;43mopen\u001b[39;49m\u001b[43m(\u001b[49m\n\u001b[1;32m    790\u001b[0m \u001b[43m            \u001b[49m\u001b[43mhandle\u001b[49m\u001b[43m,\u001b[49m\n\u001b[1;32m    791\u001b[0m \u001b[43m            \u001b[49m\u001b[43mioargs\u001b[49m\u001b[38;5;241;43m.\u001b[39;49m\u001b[43mmode\u001b[49m\u001b[43m,\u001b[49m\n\u001b[1;32m    792\u001b[0m \u001b[43m            \u001b[49m\u001b[43mencoding\u001b[49m\u001b[38;5;241;43m=\u001b[39;49m\u001b[43mioargs\u001b[49m\u001b[38;5;241;43m.\u001b[39;49m\u001b[43mencoding\u001b[49m\u001b[43m,\u001b[49m\n\u001b[1;32m    793\u001b[0m \u001b[43m            \u001b[49m\u001b[43merrors\u001b[49m\u001b[38;5;241;43m=\u001b[39;49m\u001b[43merrors\u001b[49m\u001b[43m,\u001b[49m\n\u001b[1;32m    794\u001b[0m \u001b[43m            \u001b[49m\u001b[43mnewline\u001b[49m\u001b[38;5;241;43m=\u001b[39;49m\u001b[38;5;124;43m\"\u001b[39;49m\u001b[38;5;124;43m\"\u001b[39;49m\u001b[43m,\u001b[49m\n\u001b[1;32m    795\u001b[0m \u001b[43m        \u001b[49m\u001b[43m)\u001b[49m\n\u001b[1;32m    796\u001b[0m     \u001b[38;5;28;01melse\u001b[39;00m:\n\u001b[1;32m    797\u001b[0m         \u001b[38;5;66;03m# Binary mode\u001b[39;00m\n\u001b[1;32m    798\u001b[0m         handle \u001b[38;5;241m=\u001b[39m \u001b[38;5;28mopen\u001b[39m(handle, ioargs\u001b[38;5;241m.\u001b[39mmode)\n",
      "\u001b[0;31mFileNotFoundError\u001b[0m: [Errno 2] No such file or directory: '/data/album/kso/Saga_testing/KSO_Run_2/annotations.csv'"
     ]
    }
   ],
   "source": [
    "dets_df = pp.process_detections(\n",
    "    project=pp.project,\n",
    "    db_connection=pp.db_connection,\n",
    "    csv_paths=pp.csv_paths,\n",
    "    annotations_csv_path=mlp.eval_dir,\n",
    "    model_registry=mlp.registry,\n",
    "    model=model.value,\n",
    "    team_name=mlp.team_name,\n",
    "    project_name=mlp.project_name,\n",
    ")"
   ]
  },
  {
   "cell_type": "markdown",
   "id": "8e350a8c",
   "metadata": {
    "id": "0ppmp2oL9jTY"
   },
   "source": [
    "### Plot the processed detections"
   ]
  },
  {
   "cell_type": "code",
   "execution_count": null,
   "id": "f235925d",
   "metadata": {},
   "outputs": [],
   "source": [
    "pp.plot_processed_detections(\n",
    "    df=dets_df,\n",
    "    thres=10,  # number of seconds for thresholding in interval\n",
    "    int_length=10,  # length in seconds of interval for filtering\n",
    ")"
   ]
  },
  {
   "cell_type": "markdown",
   "id": "fd8e9077",
   "metadata": {},
   "source": [
    "OPTIONAL #1 - Download the processed detections in a csv file for further analysis (e.g. comparisons between citizen scientists and experts)"
   ]
  },
  {
   "cell_type": "code",
   "execution_count": null,
   "id": "1c3f90cb",
   "metadata": {},
   "outputs": [],
   "source": [
    "pp.download_detections_csv(dets_df)"
   ]
  },
  {
   "cell_type": "markdown",
   "id": "2192eca2",
   "metadata": {},
   "source": [
    "OPTIONAL #2 - Processed classifications with species as columns (For biodiversity purposes)"
   ]
  },
  {
   "cell_type": "code",
   "execution_count": null,
   "id": "1492e107",
   "metadata": {},
   "outputs": [],
   "source": [
    "pp.download_detections_species_cols_csv(\n",
    "    df=dets_df,\n",
    ")"
   ]
  },
  {
   "cell_type": "markdown",
   "id": "d48985de",
   "metadata": {},
   "source": [
    "OPTIONAL #3 - Download maxN annotations in GBIF/OBIS format (For biodiversity purposes)"
   ]
  },
  {
   "cell_type": "code",
   "execution_count": null,
   "id": "efa6102c",
   "metadata": {},
   "outputs": [],
   "source": [
    "pp.download_gbif_occurrences(\"ml_algorithms\", dets_df)"
   ]
  },
  {
   "cell_type": "markdown",
   "id": "-4ryFmu887d3",
   "metadata": {
    "id": "-4ryFmu887d3"
   },
   "source": [
    "OPTIONAL #4 - Upload csv with labels from previous model detections so that you can aggregate them for biogical analysis (For debugging purposes)"
   ]
  },
  {
   "cell_type": "code",
   "execution_count": null,
   "id": "890ce983",
   "metadata": {
    "id": "890ce983",
    "scrolled": true
   },
   "outputs": [],
   "source": [
    "mlp.widget_eval_dir = kso_widgets.choose_folder(\n",
    "    (\n",
    "        save_dir.selected\n",
    "        if \"save_dir\" in vars() and save_dir.selected is not None\n",
    "        else \".\"\n",
    "    ),\n",
    "    \"runs output\",\n",
    ")"
   ]
  },
  {
   "cell_type": "markdown",
   "id": "292a6aaf",
   "metadata": {},
   "source": [
    "OPTIONAL #4 (Required!) - Load the path of the csv files"
   ]
  },
  {
   "cell_type": "code",
   "execution_count": null,
   "id": "6a5a85b6",
   "metadata": {},
   "outputs": [],
   "source": [
    "mlp.eval_dir = mlp.widget_eval_dir.selected"
   ]
  },
  {
   "cell_type": "code",
   "execution_count": null,
   "id": "racial-richardson",
   "metadata": {
    "id": "racial-richardson"
   },
   "outputs": [],
   "source": [
    "# END"
   ]
  }
 ],
 "metadata": {
  "accelerator": "GPU",
  "colab": {
   "gpuType": "T4",
   "provenance": []
  },
  "kernelspec": {
   "display_name": "Python 3 (ipykernel)",
   "language": "python",
   "name": "python3"
  },
  "language_info": {
   "codemirror_mode": {
    "name": "ipython",
    "version": 3
   },
   "file_extension": ".py",
   "mimetype": "text/x-python",
   "name": "python",
   "nbconvert_exporter": "python",
   "pygments_lexer": "ipython3",
   "version": "3.10.10"
  }
 },
 "nbformat": 4,
 "nbformat_minor": 5
}
